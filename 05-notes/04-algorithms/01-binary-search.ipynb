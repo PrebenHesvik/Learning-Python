{
 "cells": [
  {
   "cell_type": "markdown",
   "source": [
    "[mCoding - Binary Search (YouTube video)](https://www.youtube.com/watch?v=tgVSkMA8joQ)"
   ],
   "metadata": {}
  },
  {
   "cell_type": "code",
   "execution_count": null,
   "source": [
    "def binary_search(data, low, high, item):\r\n",
    "    if low <= high:\r\n",
    "        middle = (low + high) // 2\r\n",
    "        \r\n",
    "        if data[middle] == item:\r\n",
    "            return middle\r\n",
    "        \r\n",
    "        elif item < data[middle]:\r\n",
    "            return binary_search(data=data, low=low, high=middle - 1, item=item)\r\n",
    "        \r\n",
    "        return binary_search(data=data, low=middle + 1, high=high, item=item)\r\n",
    "    else:\r\n",
    "        return -1\r\n",
    "    \r\n",
    "\r\n",
    "lst = [3, 5, 8, 15, 26, 38, 47, 136]\r\n",
    "binary_search(lst, 0, len(lst), 15)"
   ],
   "outputs": [],
   "metadata": {}
  },
  {
   "cell_type": "code",
   "execution_count": null,
   "source": [
    "def binary_search(arr: list, item) -> int:\r\n",
    "    low = 0\r\n",
    "    high = len(arr)\r\n",
    "    while low < high:\r\n",
    "        mid = (low + high) // 2\r\n",
    "        if arr[mid] < item:\r\n",
    "            low = mid + 1\r\n",
    "        else:\r\n",
    "            high = mid\r\n",
    "    return low\r\n",
    "        "
   ],
   "outputs": [],
   "metadata": {}
  }
 ],
 "metadata": {
  "orig_nbformat": 4,
  "language_info": {
   "name": "python",
   "version": "3.9.5"
  },
  "kernelspec": {
   "name": "python3",
   "display_name": "Python 3.9.5 64-bit ('spenncon': conda)"
  },
  "interpreter": {
   "hash": "05d659cf7217a31b7ba206b7e3fe1d98040361cb242cc44ce7c59206cfd427bc"
  }
 },
 "nbformat": 4,
 "nbformat_minor": 2
}