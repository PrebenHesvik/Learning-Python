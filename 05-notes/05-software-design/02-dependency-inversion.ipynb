{
 "cells": [
  {
   "cell_type": "markdown",
   "metadata": {},
   "source": [
    "# Dependency Inversion Principle\n",
    "- **High-level modules should not depend on the low-level modules. Both should depend on abstractions.**\n",
    "- **Abstractions should not depend on details. Details should depend on abstractions.** \n",
    "- **The dependency inversion principle aims to reduce the coupling between classes by creating an abstraction layer between them.**\n",
    "\n",
    "### Links\n",
    "[pythontutorial.net](https://www.pythontutorial.net/python-oop/python-dependency-inversion-principle/)\n",
    "\n",
    "[netguru.com](https://www.netguru.com/blog/dependency-injection-with-python-make-it-easy)\n",
    "\n",
    "[linisnil.com](https://www.linisnil.com/articles/python-dependency-inversion-principle/)\n",
    "\n",
    "[dependency injection framework](https://python-dependency-injector.ets-labs.org/introduction/di_in_python.html)"
   ]
  },
  {
   "cell_type": "markdown",
   "metadata": {},
   "source": [
    "### Example 1\n",
    "##### Before"
   ]
  },
  {
   "cell_type": "code",
   "execution_count": 1,
   "metadata": {},
   "outputs": [
    {
     "name": "stdout",
     "output_type": "stream",
     "text": [
      "LightBulb: turned on...\n",
      "LightBulb: turned off...\n"
     ]
    }
   ],
   "source": [
    "class LightBulb:\n",
    "    def turn_on(self):\n",
    "        print(\"LightBulb: turned on...\")\n",
    "\n",
    "    def turn_off(self):\n",
    "        print(\"LightBulb: turned off...\")\n",
    "\n",
    "\n",
    "class ElectricPowerSwitch:\n",
    "\n",
    "    def __init__(self, l: LightBulb):\n",
    "        self.lightBulb = l\n",
    "        self.on = False\n",
    "\n",
    "    def press(self):\n",
    "        if self.on:\n",
    "            self.lightBulb.turn_off()\n",
    "            self.on = False\n",
    "        else:\n",
    "            self.lightBulb.turn_on()\n",
    "            self.on = True\n",
    "\n",
    "\n",
    "l = LightBulb()\n",
    "switch = ElectricPowerSwitch(l)\n",
    "switch.press()\n",
    "switch.press()"
   ]
  },
  {
   "cell_type": "markdown",
   "metadata": {},
   "source": [
    "#### After"
   ]
  },
  {
   "cell_type": "code",
   "execution_count": 2,
   "metadata": {},
   "outputs": [
    {
     "name": "stdout",
     "output_type": "stream",
     "text": [
      "Fan: turned on...\n",
      "Fan: turned off...\n",
      "LightBulb: turned on...\n",
      "LightBulb: turned off...\n"
     ]
    }
   ],
   "source": [
    "from abc import ABC, abstractmethod\n",
    "\n",
    "\n",
    "class Switchable(ABC):\n",
    "    @abstractmethod\n",
    "    def turn_on(self):\n",
    "        pass\n",
    "\n",
    "    @abstractmethod\n",
    "    def turn_off(self):\n",
    "        pass\n",
    "\n",
    "# It is not possible to create an instance of an abstract class\n",
    "\n",
    "# The methods in the abstract class must also be inherited\n",
    "# in the classes that inherit from the abstract class\n",
    "\n",
    "class LightBulb(Switchable):\n",
    "    def turn_on(self):\n",
    "        print(\"LightBulb: turned on...\")\n",
    "\n",
    "    def turn_off(self):\n",
    "        print(\"LightBulb: turned off...\")\n",
    "\n",
    "\n",
    "# We can also create other classes that has the same functionality\n",
    "class Fan(Switchable):\n",
    "    def turn_on(self):\n",
    "        print(\"Fan: turned on...\")\n",
    "\n",
    "    def turn_off(self):\n",
    "        print(\"Fan: turned off...\")\n",
    "\n",
    "\n",
    "class ElectricPowerSwitch:\n",
    "\n",
    "    def __init__(self, c: Switchable):\n",
    "        self.client = c\n",
    "        self.on = False\n",
    "\n",
    "    def press(self):\n",
    "        if self.on:\n",
    "            self.client.turn_off()\n",
    "            self.on = False\n",
    "        else:\n",
    "            self.client.turn_on()\n",
    "            self.on = True\n",
    "\n",
    "\n",
    "l = LightBulb()\n",
    "f = Fan()\n",
    "fan = ElectricPowerSwitch(f)\n",
    "fan.press()\n",
    "fan.press()\n",
    "\n",
    "bulb = ElectricPowerSwitch(l)\n",
    "bulb.press()\n",
    "bulb.press()"
   ]
  },
  {
   "cell_type": "markdown",
   "metadata": {},
   "source": [
    "### Example 2"
   ]
  },
  {
   "cell_type": "markdown",
   "metadata": {},
   "source": [
    "#### Before"
   ]
  },
  {
   "cell_type": "code",
   "execution_count": null,
   "metadata": {},
   "outputs": [],
   "source": [
    "class FXConverter:\n",
    "    def convert(self, from_currency, to_currency, amount):\n",
    "        print(f'{amount} {from_currency} = {amount * 1.2} {to_currency}')\n",
    "        return amount * 1.2\n",
    "\n",
    "\n",
    "class App:\n",
    "    def start(self):\n",
    "        converter = FXConverter()\n",
    "        converter.convert('EUR', 'USD', 100)\n",
    "\n",
    "\n",
    "if __name__ == '__main__':\n",
    "    app = App()\n",
    "    app.start()"
   ]
  },
  {
   "cell_type": "markdown",
   "metadata": {},
   "source": [
    "#### After"
   ]
  },
  {
   "cell_type": "code",
   "execution_count": null,
   "metadata": {},
   "outputs": [],
   "source": [
    "from abc import ABC\n",
    "\n",
    "\n",
    "class CurrencyConverter(ABC):\n",
    "    def convert(self, from_currency, to_currency, amount) -> float:\n",
    "        pass\n",
    "    \n",
    "class FXConverter(CurrencyConverter):\n",
    "    def convert(self, from_currency, to_currency, amount) -> float:\n",
    "        print('Converting currency using FX API')\n",
    "        print(f'{amount} {from_currency} = {amount * 1.2} {to_currency}')\n",
    "        return amount * 2\n",
    "    \n",
    "class AlphaConverter(CurrencyConverter):\n",
    "    def convert(self, from_currency, to_currency, amount) -> float:\n",
    "        print('Converting currency using Alpha API')\n",
    "        print(f'{amount} {from_currency} = {amount * 1.2} {to_currency}')\n",
    "        return amount * 1.15\n",
    "    \n",
    "class App:\n",
    "    def __init__(self, converter: CurrencyConverter):\n",
    "        self.converter = converter\n",
    "\n",
    "    def start(self):\n",
    "        self.converter.convert('EUR', 'USD', 100)\n",
    "        \n",
    "if __name__ == '__main__':\n",
    "    converter = FXConverter()\n",
    "    app = App(converter)\n",
    "    app.start()"
   ]
  }
 ],
 "metadata": {
  "interpreter": {
   "hash": "507de2949f96cf2a8cd444545416ece97be4602621bb9b81d732798e663a33bf"
  },
  "kernelspec": {
   "display_name": "Python 3.9.2 64-bit ('spenncon': conda)",
   "name": "python3"
  },
  "language_info": {
   "codemirror_mode": {
    "name": "ipython",
    "version": 3
   },
   "file_extension": ".py",
   "mimetype": "text/x-python",
   "name": "python",
   "nbconvert_exporter": "python",
   "pygments_lexer": "ipython3",
   "version": "3.9.7"
  },
  "orig_nbformat": 4
 },
 "nbformat": 4,
 "nbformat_minor": 2
}
