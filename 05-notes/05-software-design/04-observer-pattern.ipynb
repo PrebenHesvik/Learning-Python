{
 "cells": [
  {
   "cell_type": "markdown",
   "metadata": {},
   "source": [
    "# Observer Pattern\n",
    "\n",
    "    The observer pattern is a software design pattern in which an object, \n",
    "    called the subject or observable, manages a list of dependents, called observers\n",
    "    and notifies them automatically of any internal state changes, and calls one of their methods\n",
    "<br>\n",
    "\n",
    "### Articles:\n",
    "\n",
    "[tutorialspoint.com](https://www.tutorialspoint.com/python_design_patterns/python_design_patterns_observer.htm)\n",
    "\n",
    "[Medium article](https://medium.com/design-patterns-in-python/observer-pattern-c58820ad3c9f)\n",
    "\n",
    "[protecttraining.com](https://www.protechtraining.com/blog/post/tutorial-the-observer-pattern-in-python-879)\n",
    "\n",
    "[python.plainenglish.io](https://python.plainenglish.io/observer-design-pattern-in-python-9944af5d15d3)\n",
    "\n",
    "<br>\n",
    "\n",
    "### YouTube videos\n",
    "\n",
    "[seanwasere ytbe](https://www.youtube.com/watch?v=KAwOtYk7QSE)\n",
    "\n",
    "[Be a better dev](https://www.youtube.com/watch?v=lANfXJdXe34)\n",
    "\n",
    "[ArjanCodes](https://www.youtube.com/watch?v=oNalXg67XEE)\n",
    "\n",
    "[Christopher Okhravi - part 1](https://www.youtube.com/watch?v=v9ejT8FO-7I)\n",
    "\n",
    "[Christopher Okhravi - part 2](https://www.youtube.com/watch?v=_BpmfnqjgzQ)\n",
    "\n"
   ]
  },
  {
   "cell_type": "markdown",
   "metadata": {},
   "source": [
    "### Example 1"
   ]
  },
  {
   "cell_type": "code",
   "execution_count": 7,
   "metadata": {},
   "outputs": [
    {
     "name": "stdout",
     "output_type": "stream",
     "text": [
      "Observer B with id:2526130598528 received ('First Notification', [1, 2, 3]) from observable with id 2526130600064\n",
      "Observer A with id:2526130599728 received ('First Notification', [1, 2, 3]) from observable with id 2526130600064\n",
      "Observer A with id:2526130599728 received ('Second Notification', {'A': 1, 'B': 2, 'C': 3}) from observable with id 2526130600064\n"
     ]
    }
   ],
   "source": [
    "from abc import ABC, abstractmethod\n",
    "\n",
    "# abstract class\n",
    "class IObservable(ABC):\n",
    "    \"The Subject Interface\"\n",
    "    @staticmethod\n",
    "    @abstractmethod\n",
    "    def subscribe(observer):\n",
    "        \"The subscribe method\"\n",
    "    \n",
    "    @staticmethod\n",
    "    @abstractmethod\n",
    "    def unsubscribe(observer):\n",
    "        \"The unsubscribe method\"\n",
    "    \n",
    "    @staticmethod\n",
    "    @abstractmethod\n",
    "    def notify(observer):\n",
    "        \"The notify method\"\n",
    "        \n",
    "\n",
    "class Subject(IObservable):\n",
    "    \"The Subject (Observable)\"\n",
    "    def __init__(self):\n",
    "        self._observers = set()\n",
    "    \n",
    "    def subscribe(self, observer):\n",
    "        self._observers.add(observer)\n",
    "    \n",
    "    def unsubscribe(self, observer):\n",
    "        self._observers.remove(observer)\n",
    "    \n",
    "    def notify(self, *args):\n",
    "        for observer in self._observers:\n",
    "            observer.notify(self, *args)\n",
    "            \n",
    "\n",
    "# abstract class            \n",
    "class IObserver(ABC):\n",
    "    \"A method for the Observer to implement\"\n",
    "    \n",
    "    @staticmethod\n",
    "    @abstractmethod\n",
    "    def notify(observable, *args):\n",
    "        \"Receive notifications\"\n",
    "\n",
    "\n",
    "class Observer(IObserver):\n",
    "    \"The concrete observer\"\n",
    "    \n",
    "    def __init__(self, observable, name):\n",
    "        observable.subscribe(self)\n",
    "        self.name = name\n",
    "    \n",
    "    def notify(self, observable, *args):\n",
    "        print(f\"{self.name} with id:{id(self)} received {args} from observable with id {id(observable)}\")\n",
    "\n",
    "\n",
    "# The Client\n",
    "subject = Subject()\n",
    "observer_a = Observer(subject, 'Observer A')\n",
    "observer_b = Observer(subject, 'Observer B')\n",
    "subject.notify(\"First Notification\", [1, 2, 3])\n",
    "subject.unsubscribe(observer_b)\n",
    "subject.notify(\"Second Notification\", {\"A\": 1, \"B\": 2, \"C\": 3})"
   ]
  },
  {
   "cell_type": "code",
   "execution_count": null,
   "metadata": {},
   "outputs": [],
   "source": []
  }
 ],
 "metadata": {
  "interpreter": {
   "hash": "ecf5722fdaf1897a315d257d89d94520bfcaa453217d5becf09b39e73618b0de"
  },
  "kernelspec": {
   "display_name": "Python 3.9.7 ('base')",
   "language": "python",
   "name": "python3"
  },
  "language_info": {
   "codemirror_mode": {
    "name": "ipython",
    "version": 3
   },
   "file_extension": ".py",
   "mimetype": "text/x-python",
   "name": "python",
   "nbconvert_exporter": "python",
   "pygments_lexer": "ipython3",
   "version": "3.9.7"
  },
  "orig_nbformat": 4
 },
 "nbformat": 4,
 "nbformat_minor": 2
}
