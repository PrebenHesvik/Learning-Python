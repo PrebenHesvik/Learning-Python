{
 "cells": [
  {
   "cell_type": "code",
   "execution_count": null,
   "metadata": {},
   "outputs": [],
   "source": [
    "import json\n",
    "from dataclasses import dataclass\n",
    "\n",
    "from game import factory, loader"
   ]
  },
  {
   "cell_type": "markdown",
   "metadata": {},
   "source": [
    "### Levels"
   ]
  },
  {
   "cell_type": "code",
   "execution_count": null,
   "metadata": {},
   "outputs": [],
   "source": [
    "{\n",
    "  \"plugins\": [\"plugins.bard\"],\n",
    "  \"characters\": [\n",
    "    {\n",
    "      \"type\": \"wizard\",\n",
    "      \"name\": \"Stregobor\"\n",
    "    },\n",
    "    {\n",
    "      \"type\": \"witcher\",\n",
    "      \"name\": \"Geralt\"\n",
    "    },\n",
    "    {\n",
    "      \"type\": \"bard\",\n",
    "      \"name\": \"Jaskier\",\n",
    "      \"instrument\": \"banjo\"\n",
    "    },\n",
    "    {\n",
    "      \"type\": \"sorcerer\",\n",
    "      \"name\": \"Yennefer\"\n",
    "    }\n",
    "  ]\n",
    "}"
   ]
  },
  {
   "cell_type": "markdown",
   "metadata": {},
   "source": [
    "### Plugins"
   ]
  },
  {
   "cell_type": "code",
   "execution_count": null,
   "metadata": {},
   "outputs": [],
   "source": [
    "\"\"\"Game extension that adds a bard character.\"\"\"\n",
    "\n",
    "from dataclasses import dataclass\n",
    "\n",
    "from game import factory\n",
    "\n",
    "\n",
    "@dataclass\n",
    "class Bard:\n",
    "\n",
    "    name: str\n",
    "    instrument: str = \"flute\"\n",
    "\n",
    "    def make_a_noise(self) -> None:\n",
    "        print(\n",
    "            f\"I am {self.name} and I play the {self.instrument}. Toss a coin to your Witcher!\"\n",
    "        )\n",
    "\n",
    "\n",
    "def register() -> None:\n",
    "    factory.register(\"bard\", Bard)"
   ]
  },
  {
   "cell_type": "code",
   "execution_count": null,
   "metadata": {},
   "outputs": [],
   "source": [
    "@dataclass\n",
    "class Sorcerer:\n",
    "\n",
    "    name: str\n",
    "\n",
    "    def make_a_noise(self) -> None:\n",
    "        print(\"Aaaargh!\")\n",
    "\n",
    "\n",
    "@dataclass\n",
    "class Wizard:\n",
    "\n",
    "    name: str\n",
    "\n",
    "    def make_a_noise(self) -> None:\n",
    "        print(\"Boohh!\")\n",
    "\n",
    "\n",
    "@dataclass\n",
    "class Witcher:\n",
    "\n",
    "    name: str\n",
    "\n",
    "    def make_a_noise(self) -> None:\n",
    "        print(\"Hmmm\")\n",
    "\n",
    "\n",
    "def main() -> None:\n",
    "    \"\"\"Create game characters from a file containg a level definition.\"\"\"\n",
    "\n",
    "    # register a couple of character types\n",
    "    factory.register(\"sorcerer\", Sorcerer)\n",
    "    factory.register(\"wizard\", Wizard)\n",
    "    factory.register(\"witcher\", Witcher)\n",
    "\n",
    "    # read data from a JSON file\n",
    "    with open(\"./level.json\") as file:\n",
    "        data = json.load(file)\n",
    "\n",
    "        # load the plugins\n",
    "        loader.load_plugins(data[\"plugins\"])\n",
    "\n",
    "        # create the characters\n",
    "        characters = [factory.create(item) for item in data[\"characters\"]]\n",
    "\n",
    "        # do something with the characters\n",
    "        for character in characters:\n",
    "            character.make_a_noise()\n",
    "\n",
    "\n",
    "\n",
    "main()"
   ]
  }
 ],
 "metadata": {
  "language_info": {
   "name": "python"
  },
  "orig_nbformat": 4
 },
 "nbformat": 4,
 "nbformat_minor": 2
}
