{
 "metadata": {
  "language_info": {
   "codemirror_mode": {
    "name": "ipython",
    "version": 3
   },
   "file_extension": ".py",
   "mimetype": "text/x-python",
   "name": "python",
   "nbconvert_exporter": "python",
   "pygments_lexer": "ipython3",
   "version": "3.9.5"
  },
  "orig_nbformat": 4,
  "kernelspec": {
   "name": "python3",
   "display_name": "Python 3.9.5 64-bit ('spenncon': conda)"
  },
  "interpreter": {
   "hash": "05d659cf7217a31b7ba206b7e3fe1d98040361cb242cc44ce7c59206cfd427bc"
  }
 },
 "nbformat": 4,
 "nbformat_minor": 2,
 "cells": [
  {
   "cell_type": "code",
   "execution_count": 1,
   "metadata": {},
   "outputs": [],
   "source": [
    "import re"
   ]
  },
  {
   "source": [
    "## Meta characters\n",
    "All meta characters: . ^ $ * + ? { } [ ] \\ | ( )\n",
    "- . Any character (except newline character) \"he..o\"\n",
    "\n",
    "- ^ Starts with \"^hello\"\n",
    "\n",
    "- \\$ Ends with \"world$\"\n",
    "\n",
    "- \\* Zero or more occurrences \"aix*\"\n",
    "\n",
    "- \\+ One or more occurrences \"aix+\"\n",
    "\n",
    "- { } Exactly the specified number of occurrences \"al{2}\"\n",
    "\n",
    "- [] A set of characters \\[a-m]\n",
    "\n",
    "- \\[^] - Matches characters NOT in\n",
    "\n",
    "- \\ Signals a special sequence (can also be used to escape special characters) \"\\d\"\n",
    "\n",
    "- | Either or \"falls|stays\"\n",
    "\n",
    "- ( ) Capture and group\n",
    "\n",
    "<br><br>\n",
    "\n",
    "## More Metacharacters / Special Sequences\n",
    "- \\d :Matches any decimal digit; this is equivalent to the class \\[0-9].\n",
    "\n",
    "- \\\\D : Matches any non-digit character; this is equivalent to the class \\[^0-9].\n",
    "\n",
    "- \\s : Matches any whitespace character;\n",
    "\n",
    "- \\S : Matches any non-whitespace character;\n",
    "\n",
    "- \\w : Matches any alphanumeric (word) character; this is equivalent to the class \\[a-zA-Z0-9_].\n",
    "\n",
    "- \\W : Matches any non-alphanumeric character; this is equivalent to the class \\[^a-zA-Z0-9_]\n",
    "\n",
    "- \\b Returns a match where the specified characters are at the beginning or at the end of a word r\"\\bain\" r\"ain\\b\"\n",
    "\n",
    "- \\B Returns a match where the specified characters are present, but NOT at the beginning (or at the end) of a word r\"\\Bain\" r\"ain\\B\"\n",
    "\n",
    "- \\A Returns a match if the specified characters are at the beginning of the string \"\\AThe\"\n",
    "\n",
    "- \\Z Returns a match if the specified characters are at the end of the string \"Spain\\Z\"\n",
    "\n",
    "<br><br>\n",
    "\n",
    "## Methods on match:\n",
    "- match(): Determine if the RE matches at the beginning of the beginning of the string\n",
    "\n",
    "- search(): Scan through the string, looking for any location where the RE matches\n",
    "\n",
    "- findall(): Finds all substrings where the RE matches, and returns them as as a list\n",
    "\n",
    "- finditer(): Finds all substrings where the RE matches, and returns them as an iterator\n",
    "\n"
   ],
   "cell_type": "markdown",
   "metadata": {}
  },
  {
   "source": [
    "- Sets\n",
    "- Quantifier\n",
    "- Conditions\n",
    "- Grouping\n",
    "- Modification\n",
    "- Compilation flags"
   ],
   "cell_type": "markdown",
   "metadata": {}
  },
  {
   "source": [
    "Return the numbers of the string and combine them into one string"
   ],
   "cell_type": "markdown",
   "metadata": {}
  },
  {
   "cell_type": "code",
   "execution_count": 18,
   "metadata": {},
   "outputs": [
    {
     "output_type": "execute_result",
     "data": {
      "text/plain": [
       "'123456789123'"
      ]
     },
     "metadata": {},
     "execution_count": 18
    }
   ],
   "source": [
    "string = '123abc456789abcd123ABC'\n",
    "pattern = re.compile(r'\\d+')\n",
    "matches = pattern.findall(string)\n",
    "combined_matches = ''.join(matches)\n",
    "combined_matches"
   ]
  },
  {
   "cell_type": "code",
   "execution_count": 22,
   "metadata": {},
   "outputs": [
    {
     "output_type": "execute_result",
     "data": {
      "text/plain": [
       "'123456789123'"
      ]
     },
     "metadata": {},
     "execution_count": 22
    }
   ],
   "source": [
    "# a different way to write this\n",
    "string = '123abc456789abcd123ABC'\n",
    "matches = re.findall(r'\\d+', string)\n",
    "combined_matches = ''.join(matches)\n",
    "combined_matches"
   ]
  },
  {
   "source": [
    "Return the letters and combine them into one string"
   ],
   "cell_type": "markdown",
   "metadata": {}
  },
  {
   "cell_type": "code",
   "execution_count": 21,
   "metadata": {},
   "outputs": [
    {
     "output_type": "execute_result",
     "data": {
      "text/plain": [
       "'abcabcdabcABC'"
      ]
     },
     "metadata": {},
     "execution_count": 21
    }
   ],
   "source": [
    "string = '123abc456789abcd12abc3ABC'\n",
    "pattern = re.compile(r'[a-zA-Z]+')\n",
    "matches = pattern.findall(string)\n",
    "combined_matches = ''.join(matches)\n",
    "combined_matches"
   ]
  },
  {
   "cell_type": "code",
   "execution_count": 102,
   "metadata": {},
   "outputs": [
    {
     "output_type": "execute_result",
     "data": {
      "text/plain": [
       "'abcabcdabcABC'"
      ]
     },
     "metadata": {},
     "execution_count": 102
    }
   ],
   "source": [
    "string = '123abc456789abcd12abc3ABC'\n",
    "pattern = re.compile(r'\\D')\n",
    "matches = pattern.findall(string)\n",
    "combined_matches = ''.join(matches)\n",
    "combined_matches"
   ]
  },
  {
   "source": [
    "Find the strings that start with \"prev\""
   ],
   "cell_type": "markdown",
   "metadata": {}
  },
  {
   "cell_type": "code",
   "execution_count": 43,
   "metadata": {},
   "outputs": [
    {
     "output_type": "execute_result",
     "data": {
      "text/plain": [
       "['prevenir', 'prevent']"
      ]
     },
     "metadata": {},
     "execution_count": 43
    }
   ],
   "source": [
    "string = \"\"\"\n",
    "prevenir\n",
    "prevent\n",
    "treprev\n",
    "\"\"\"\n",
    "\n",
    "pattern = re.compile(r'^prev[a-z]+', re.MULTILINE) # the '^' is the key here\n",
    "matches = pattern.findall(string)\n",
    "matches"
   ]
  },
  {
   "source": [
    "Find the string that ends with \"prev\""
   ],
   "cell_type": "markdown",
   "metadata": {}
  },
  {
   "cell_type": "code",
   "execution_count": 48,
   "metadata": {},
   "outputs": [
    {
     "output_type": "execute_result",
     "data": {
      "text/plain": [
       "['treprev']"
      ]
     },
     "metadata": {},
     "execution_count": 48
    }
   ],
   "source": [
    "string = \"\"\"\n",
    "prevenir\n",
    "prevent\n",
    "treprev\n",
    "\"\"\"\n",
    "pattern = re.compile(r'[a-zA-Z]+prev$', re.MULTILINE) # the '$' is the key here\n",
    "matches = pattern.findall(string)\n",
    "matches"
   ]
  },
  {
   "source": [
    "Find all words that start with \"**`b`**\""
   ],
   "cell_type": "markdown",
   "metadata": {}
  },
  {
   "cell_type": "code",
   "execution_count": 100,
   "metadata": {},
   "outputs": [
    {
     "output_type": "execute_result",
     "data": {
      "text/plain": [
       "['bank', 'bunker', 'bank-box']"
      ]
     },
     "metadata": {},
     "execution_count": 100
    }
   ],
   "source": [
    "string = \"\"\"\n",
    "bank\n",
    "abba\n",
    "saab\n",
    "bunker\n",
    "bank-box\n",
    "little-britain\n",
    "\"\"\"\n",
    "pattern = re.compile(r'^\\bb[a-z-]+', re.MULTILINE)\n",
    "matches = pattern.findall(string)\n",
    "matches"
   ]
  },
  {
   "source": [
    "Find all words that start with \"**`b`**\", either before or after the \"-\""
   ],
   "cell_type": "markdown",
   "metadata": {}
  },
  {
   "cell_type": "code",
   "execution_count": 98,
   "metadata": {},
   "outputs": [
    {
     "output_type": "execute_result",
     "data": {
      "text/plain": [
       "['bank', 'bunker', 'bank-box', 'britain']"
      ]
     },
     "metadata": {},
     "execution_count": 98
    }
   ],
   "source": [
    "string = \"\"\"\n",
    "bank\n",
    "abba\n",
    "saab\n",
    "bunker\n",
    "bank-box\n",
    "little-britain\n",
    "\"\"\"\n",
    "pattern = re.compile(r'\\bb[a-z-]+', re.MULTILINE)\n",
    "matches = pattern.findall(string)\n",
    "matches"
   ]
  },
  {
   "source": [
    "Find the words with double consonant and ends with \"w\""
   ],
   "cell_type": "markdown",
   "metadata": {}
  },
  {
   "cell_type": "code",
   "execution_count": 195,
   "metadata": {},
   "outputs": [
    {
     "output_type": "execute_result",
     "data": {
      "text/plain": [
       "['solow', 'Sottaw', 'hollow', 'shallow']"
      ]
     },
     "metadata": {},
     "execution_count": 195
    }
   ],
   "source": [
    "string = \"\"\"       \n",
    "chello \n",
    "hello \n",
    "solow\n",
    "Sottaw \n",
    "billy  \n",
    "hollow  \n",
    "halo \n",
    "shallow \n",
    "\"\"\"\n",
    "\n",
    "pattern = re.compile(r'[a-zA-Z]+[a-z{2}].+w')\n",
    "matches = pattern.findall(string, re.MULTILINE)\n",
    "matches"
   ]
  },
  {
   "source": [
    "### Sets"
   ],
   "cell_type": "markdown",
   "metadata": {}
  },
  {
   "cell_type": "code",
   "execution_count": 200,
   "metadata": {},
   "outputs": [
    {
     "output_type": "execute_result",
     "data": {
      "text/plain": [
       "'123-56'"
      ]
     },
     "metadata": {},
     "execution_count": 200
    }
   ],
   "source": [
    "string = 'hello 123-56'\n",
    "pattern = re.compile(r'[0-9-]') # stuff inside the bracket is a set\n",
    "matches = pattern.findall(string)\n",
    "''.join(matches)"
   ]
  },
  {
   "source": [
    "### Quantifiers\n",
    "- *: 0 or more\n",
    "\n",
    "- +: 1 or more\n",
    "\n",
    "- ?: 0 or 1 --> optional character\n",
    "\n",
    "- {4}: exact number\n",
    "\n",
    "- {4,6}: range number"
   ],
   "cell_type": "markdown",
   "metadata": {}
  },
  {
   "cell_type": "code",
   "execution_count": 205,
   "metadata": {},
   "outputs": [
    {
     "output_type": "execute_result",
     "data": {
      "text/plain": [
       "['123']"
      ]
     },
     "metadata": {},
     "execution_count": 205
    }
   ],
   "source": [
    "string = 'hello123'\n",
    "pattern = re.compile(r'\\d{3}') # 3 is the quantifier\n",
    "matches = pattern.findall(string)\n",
    "matches"
   ]
  },
  {
   "cell_type": "code",
   "execution_count": 207,
   "metadata": {},
   "outputs": [],
   "source": [
    "dates = '''\n",
    "01.04.2020\n",
    "\n",
    "2020.04.01\n",
    "\n",
    "2020-04-01\n",
    "2020-05-23\n",
    "2020-06-11\n",
    "2020-07-11\n",
    "2020-08-11\n",
    "\n",
    "2020/04/02\n",
    "\n",
    "2020_04_04\n",
    "2020_04_04\n",
    "'''"
   ]
  },
  {
   "source": [
    "Find dates that are some variation of YYYY-MM-DD"
   ],
   "cell_type": "markdown",
   "metadata": {}
  },
  {
   "cell_type": "code",
   "execution_count": 209,
   "metadata": {},
   "outputs": [
    {
     "output_type": "execute_result",
     "data": {
      "text/plain": [
       "['2020.04.01',\n",
       " '2020-04-01',\n",
       " '2020-05-23',\n",
       " '2020-06-11',\n",
       " '2020-07-11',\n",
       " '2020-08-11',\n",
       " '2020/04/02',\n",
       " '2020_04_04',\n",
       " '2020_04_04']"
      ]
     },
     "metadata": {},
     "execution_count": 209
    }
   ],
   "source": [
    "pattern = re.compile(r'\\d{4}.\\d{2}.\\d{2}')\n",
    "matches = pattern.findall(dates)\n",
    "matches"
   ]
  },
  {
   "cell_type": "code",
   "execution_count": 214,
   "metadata": {},
   "outputs": [],
   "source": [
    "dates = '''\n",
    "01.04.2020\n",
    "\n",
    "2020.04.01\n",
    "\n",
    "2020-04-01\n",
    "2020.05.23\n",
    "2020-06-11\n",
    "2020-07-11\n",
    "2020-08-11\n",
    "\n",
    "2020/04/02\n",
    "\n",
    "2020_04_04\n",
    "2020_04_04\n",
    "'''"
   ]
  },
  {
   "source": [
    "Find the dates of months May and June in 2020"
   ],
   "cell_type": "markdown",
   "metadata": {}
  },
  {
   "cell_type": "code",
   "execution_count": 224,
   "metadata": {},
   "outputs": [
    {
     "output_type": "execute_result",
     "data": {
      "text/plain": [
       "['2020.05.23', '2020-06-11']"
      ]
     },
     "metadata": {},
     "execution_count": 224
    }
   ],
   "source": [
    "pattern = re.compile(r'\\d{4}.0[56].\\d{2}')\n",
    "matches = pattern.findall(dates)\n",
    "matches"
   ]
  },
  {
   "source": [
    "#### Conditions:\n",
    "Math everyone with Mr/Ms/Mrs"
   ],
   "cell_type": "markdown",
   "metadata": {}
  },
  {
   "cell_type": "code",
   "execution_count": 330,
   "metadata": {},
   "outputs": [],
   "source": [
    "string = \"\"\" \n",
    "Mr Simpson \n",
    "hello world \n",
    "Mrs Simpson \n",
    "Mo Town \n",
    "Mr. Brown \n",
    "Ms Smith \n",
    "Mrs. White \n",
    "Mr. T \n",
    "\"\"\""
   ]
  },
  {
   "cell_type": "code",
   "execution_count": 272,
   "metadata": {},
   "outputs": [
    {
     "output_type": "execute_result",
     "data": {
      "text/plain": [
       "[<re.Match object; span=(2, 12), match='Mr Simpson'>,\n",
       " <re.Match object; span=(27, 38), match='Mrs Simpson'>,\n",
       " <re.Match object; span=(49, 58), match='Mr. Brown'>,\n",
       " <re.Match object; span=(60, 68), match='Ms Smith'>,\n",
       " <re.Match object; span=(70, 80), match='Mrs. White'>,\n",
       " <re.Match object; span=(82, 87), match='Mr. T'>]"
      ]
     },
     "metadata": {},
     "execution_count": 272
    }
   ],
   "source": [
    "pattern = re.compile(r'(Mr|Ms|Mrs)\\.?\\s[a-zA-Z]+')\n",
    "matches = pattern.finditer(string)\n",
    "list(matches)"
   ]
  },
  {
   "source": [
    "Validate email adresses"
   ],
   "cell_type": "markdown",
   "metadata": {}
  },
  {
   "cell_type": "code",
   "execution_count": 279,
   "metadata": {},
   "outputs": [
    {
     "output_type": "execute_result",
     "data": {
      "text/plain": [
       "['pythonengineer@gmail.com',\n",
       " 'python-engineer@gmx.de',\n",
       " 'python.engineer@gmx.de',\n",
       " 'python-engineer123@my-domain.org',\n",
       " '555python@hotmail.com']"
      ]
     },
     "metadata": {},
     "execution_count": 279
    }
   ],
   "source": [
    "emails = \"\"\"\n",
    "pythonengineer@gmail.com\n",
    "python-engineer@gmx.de\n",
    "python.engineer@gmx.de\n",
    "python-engineer123@my-domain.org\n",
    "555python@hotmail.com\n",
    "\"\"\"\n",
    "pattern = re.compile(r'[a-z0-9._%+-]+@[a-z0-9.-]+\\.[a-z]{2,}') # there may be more special characters allowed\n",
    "matches = pattern.findall(emails)\n",
    "matches"
   ]
  },
  {
   "source": [
    "Grouping - adding parentheses"
   ],
   "cell_type": "markdown",
   "metadata": {}
  },
  {
   "cell_type": "code",
   "execution_count": 280,
   "metadata": {},
   "outputs": [
    {
     "output_type": "execute_result",
     "data": {
      "text/plain": [
       "[('pythonengineer', 'gmail', 'com'),\n",
       " ('python-engineer', 'gmx', 'de'),\n",
       " ('python.engineer', 'gmx', 'de'),\n",
       " ('python-engineer123', 'my-domain', 'org'),\n",
       " ('555python', 'hotmail', 'com')]"
      ]
     },
     "metadata": {},
     "execution_count": 280
    }
   ],
   "source": [
    "pattern = re.compile(r'([a-z0-9._%+-]+)@([a-z0-9.-]+)\\.([a-z]{2,})') # there may be more special characters allowed\n",
    "matches = pattern.findall(emails)\n",
    "matches"
   ]
  },
  {
   "source": [
    "Modification <br>\n",
    "- split\n",
    "- sub"
   ],
   "cell_type": "markdown",
   "metadata": {}
  },
  {
   "cell_type": "code",
   "execution_count": 282,
   "metadata": {},
   "outputs": [
    {
     "output_type": "execute_result",
     "data": {
      "text/plain": [
       "['abc', 'def', 'ghj', 'klm', 'mno']"
      ]
     },
     "metadata": {},
     "execution_count": 282
    }
   ],
   "source": [
    "string = 'abc-def-ghj-klm-mno'\n",
    "pattern = re.compile(r'-')\n",
    "pattern.split(string)"
   ]
  },
  {
   "source": [
    "replace the dots with hyphens"
   ],
   "cell_type": "markdown",
   "metadata": {}
  },
  {
   "cell_type": "code",
   "execution_count": 285,
   "metadata": {},
   "outputs": [
    {
     "output_type": "execute_result",
     "data": {
      "text/plain": [
       "'abc-def-ghj-klm-mno-pqr-stu'"
      ]
     },
     "metadata": {},
     "execution_count": 285
    }
   ],
   "source": [
    "string = 'abc.def-ghj.klm-mno.pqr.stu'\n",
    "pattern = re.compile(r'\\.')\n",
    "pattern.sub('-', string)"
   ]
  },
  {
   "source": [
    "Change the first occurance of planet into the word \"world\""
   ],
   "cell_type": "markdown",
   "metadata": {}
  },
  {
   "cell_type": "code",
   "execution_count": 286,
   "metadata": {},
   "outputs": [
    {
     "output_type": "execute_result",
     "data": {
      "text/plain": [
       "'hello world! You are the best planet'"
      ]
     },
     "metadata": {},
     "execution_count": 286
    }
   ],
   "source": [
    "string = 'hello planet! You are the best planet'\n",
    "pattern = re.compile(r'planet')\n",
    "pattern.sub('world', string, count=1)"
   ]
  },
  {
   "cell_type": "code",
   "execution_count": 307,
   "metadata": {},
   "outputs": [],
   "source": [
    "urls = \"\"\"\n",
    "http://python-engineer.com\n",
    "https://www.python-engineer.org\n",
    "http://www.pyeng.net\n",
    "https://www.google.com\n",
    "http://coreyms.com\n",
    "https://youtube.com\n",
    "https://www.nasa.gov\n",
    "www.zerohedge.com\n",
    "cnn.com\n",
    "\"\"\""
   ]
  },
  {
   "cell_type": "code",
   "execution_count": 339,
   "metadata": {},
   "outputs": [
    {
     "output_type": "stream",
     "name": "stdout",
     "text": [
      "http://python-engineer.com   --   ('http://', None, 'python-engineer', '.com')\nhttps://www.python-engineer.org   --   ('https://', 'www.', 'python-engineer', '.org')\nhttp://www.pyeng.net   --   ('http://', 'www.', 'pyeng', '.net')\nhttps://www.google.com   --   ('https://', 'www.', 'google', '.com')\nhttp://coreyms.com   --   ('http://', None, 'coreyms', '.com')\nhttps://youtube.com   --   ('https://', None, 'youtube', '.com')\nhttps://www.nasa.gov   --   ('https://', 'www.', 'nasa', '.gov')\nwww.zerohedge.com   --   (None, 'www.', 'zerohedge', '.com')\ncnn.com   --   (None, None, 'cnn', '.com')\n"
     ]
    }
   ],
   "source": [
    "pattern = re.compile(r'(https://|http://)?(www\\.)?([a-z-]+)(\\.[a-z]{2,})')\n",
    "matches = pattern.finditer(urls)\n",
    "for match in matches:\n",
    "    print(match.group(0), '  --  ', match.groups())"
   ]
  },
  {
   "cell_type": "code",
   "execution_count": 15,
   "metadata": {},
   "outputs": [],
   "source": [
    "info = \"\"\"\n",
    "Dave Martin\n",
    "615-555-7164\n",
    "173 Main St., Springfield RI 55924\n",
    "davemartin@bogusemail.com\n",
    "\n",
    "Charles Harris\n",
    "800-555-5669\n",
    "969 High St., Atlantis VA 34075\n",
    "charlesharris@bogusemail.com\n",
    "\n",
    "Eric Williams\n",
    "560-555-5153\n",
    "806 1st St., Faketown AK 86847\n",
    "laurawilliams@bogusemail.com\n",
    "\n",
    "Corey Jefferson\n",
    "900-555-9340\n",
    "826 Elm St., Epicburg NE 10671\n",
    "coreyjefferson@bogusemail.com\n",
    "\n",
    "Jennifer Martin-White\n",
    "714-555-7405\n",
    "212 Cedar St., Sunnydale CT 74983\n",
    "jenniferwhite@bogusemail.com\n",
    "\n",
    "Erick Davis\n",
    "800-555-6771\n",
    "519 Washington St., Olympus TN 32425\n",
    "tomdavis@bogusemail.com\n",
    "\n",
    "Neil Patterson\n",
    "783-555-4799\n",
    "625 Oak St., Dawnstar IL 61914\n",
    "neilpatterson@bogusemail.com\n",
    "\n",
    "Laura Jefferson\n",
    "516-555-4615\n",
    "890 Main St., Pythonville LA 29947\n",
    "laurajefferson@bogusemail.com\n",
    "\n",
    "John Miller\n",
    "372-555-9809\n",
    "117 Cedar St., Thundera NM 75205\n",
    "johnmiller@bogusemail.com\n",
    "\n",
    "Corey Jackson\n",
    "890-555-5618\n",
    "115 Oak St., Gotham UT 36433\n",
    "coreyjackson@bogusemail.com\n",
    "\n",
    "Sam Thomas\n",
    "670-555-3005\n",
    "743 Lake St., Springfield MS 25473\n",
    "samthomas@bogusemail.com\n",
    "\n",
    "Patricia Thomas\n",
    "509-555-5997\n",
    "381 Hill St., Blackwater CT 30958\n",
    "patriciathomas@bogusemail.com\n",
    "\n",
    "Jennifer Davis\n",
    "721-555-5632\n",
    "125 Main St., Smalltown MT 62155\n",
    "jenniferdavis@bogusemail.com\n",
    "\"\"\""
   ]
  },
  {
   "cell_type": "code",
   "execution_count": null,
   "metadata": {},
   "outputs": [],
   "source": []
  }
 ]
}