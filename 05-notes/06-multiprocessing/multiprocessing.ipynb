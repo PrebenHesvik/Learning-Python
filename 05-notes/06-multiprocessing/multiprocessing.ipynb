{
 "metadata": {
  "language_info": {
   "codemirror_mode": {
    "name": "ipython",
    "version": 3
   },
   "file_extension": ".py",
   "mimetype": "text/x-python",
   "name": "python",
   "nbconvert_exporter": "python",
   "pygments_lexer": "ipython3",
   "version": "3.9.5"
  },
  "orig_nbformat": 4,
  "kernelspec": {
   "name": "python3",
   "display_name": "Python 3.9.5 64-bit ('spenncon': conda)"
  },
  "interpreter": {
   "hash": "05d659cf7217a31b7ba206b7e3fe1d98040361cb242cc44ce7c59206cfd427bc"
  }
 },
 "nbformat": 4,
 "nbformat_minor": 2,
 "cells": [
  {
   "source": [
    "Process: An instance of a program (e.g a Python interpreter)\n",
    "#### Advantages:\n",
    "    - Takes advantage of multiple CPUs and cores\n",
    "    - Separate memory space --> memory is not shared between processes\n",
    "    - Great for CPU-bound processing\n",
    "    - Processes are interruptabøe/killable\n",
    "    - One GIL for each process --> avoids GIL limitation\n",
    "\n",
    "#### Disadvantages:\n",
    "    - Heavyweight\n",
    "    - Starting a process is slower than starting a thread\n",
    "    - More memory\n",
    "    - IPC (inter-process communication) is more complicated"
   ],
   "cell_type": "markdown",
   "metadata": {}
  },
  {
   "cell_type": "code",
   "execution_count": 31,
   "metadata": {},
   "outputs": [],
   "source": [
    "from multiprocessing import Process, Value, Array, Lock, Pool\n",
    "from multiprocessing import Queue\n",
    "import os\n",
    "import time"
   ]
  },
  {
   "cell_type": "code",
   "execution_count": 4,
   "metadata": {},
   "outputs": [],
   "source": [
    "def square_numbers():\n",
    "    for i in range(100):\n",
    "        i * i"
   ]
  },
  {
   "cell_type": "code",
   "execution_count": null,
   "metadata": {},
   "outputs": [],
   "source": [
    "processes = []\n",
    "num_processes = os.cpu_count()\n",
    "\n",
    "# create processes:\n",
    "for i n range(num_processes):\n",
    "    p = Process(target=square_numbers)\n",
    "    processes.append(p)\n",
    "\n",
    "# start\n",
    "for p in processes:\n",
    "    p.start()\n",
    "\n",
    "# join\n",
    "for p in processes:\n",
    "    p.join()"
   ]
  },
  {
   "source": [
    "### Shared value"
   ],
   "cell_type": "markdown",
   "metadata": {}
  },
  {
   "cell_type": "code",
   "execution_count": 26,
   "metadata": {},
   "outputs": [],
   "source": []
  },
  {
   "cell_type": "code",
   "execution_count": 27,
   "metadata": {},
   "outputs": [
    {
     "output_type": "stream",
     "name": "stdout",
     "text": [
      "Number at beginning is:  0\n",
      "Number at the end is:  0\n"
     ]
    }
   ],
   "source": [
    "def add_100(number, lock):\n",
    "    for i in range(100):\n",
    "        time.sleep(0.01)\n",
    "        with lock:\n",
    "            number.value += 1\n",
    "\n",
    "lock = Lock()\n",
    "shared_number = Value('i', 0)\n",
    "print('Number at beginning is: ', shared_number.value)\n",
    "\n",
    "p1 = Process(target=add_100, args=(shared_number, lock))\n",
    "p2 = Process(target=add_100, args=(shared_number, lock))\n",
    "\n",
    "p1.start()\n",
    "p2.start()\n",
    "\n",
    "p1.join()\n",
    "p2.join()\n",
    "\n",
    "print('Number at the end is: ', shared_number.value)"
   ]
  },
  {
   "source": [
    "### Shared array"
   ],
   "cell_type": "markdown",
   "metadata": {}
  },
  {
   "cell_type": "code",
   "execution_count": 28,
   "metadata": {},
   "outputs": [
    {
     "output_type": "stream",
     "name": "stdout",
     "text": [
      "Array at beginning is:  [0.0, 100.0, 200.0]\n",
      "Array at beginning is:  [0.0, 100.0, 200.0]\n"
     ]
    }
   ],
   "source": [
    "def add_100(number, lock):\n",
    "    for i in range(100):\n",
    "        time.sleep(0.01)\n",
    "        with lock:\n",
    "            for i in range(len(numbers)):\n",
    "                numbers[i] += 1\n",
    "\n",
    "lock = Lock()\n",
    "shared_array = Array('d', [0.0, 100.0, 200.0])\n",
    "print('Array at beginning is: ', shared_array[:])\n",
    "\n",
    "p1 = Process(target=add_100, args=(shared_array, lock))\n",
    "p2 = Process(target=add_100, args=(shared_array, lock))\n",
    "\n",
    "p1.start()\n",
    "p2.start()\n",
    "\n",
    "p1.join()\n",
    "p2.join()\n",
    "\n",
    "print('Array at beginning is: ', shared_array[:])"
   ]
  },
  {
   "source": [
    "### Queues"
   ],
   "cell_type": "markdown",
   "metadata": {}
  },
  {
   "cell_type": "code",
   "execution_count": null,
   "metadata": {},
   "outputs": [],
   "source": [
    "def square(numbers, queue):\n",
    "    for i in numbers:\n",
    "        queue.put(i*i)\n",
    "\n",
    "def make_negative(numbers, queue):\n",
    "    for i in numbers:\n",
    "        queue.put(-1*i)\n",
    "\n",
    "q = Queue()\n",
    "p1 = Process(target=square, args=(numbers, q))\n",
    "p2 = Process(target=make_negative, args=(numbers, q))\n",
    "\n",
    "p1.start()\n",
    "p2.start()\n",
    "\n",
    "p1.join()\n",
    "p2.join()\n",
    "\n",
    "while not q.empty():\n",
    "    print(q.get())\n"
   ]
  },
  {
   "source": [
    "### Pool\n",
    "Important methods: map, apply, join, close"
   ],
   "cell_type": "markdown",
   "metadata": {}
  },
  {
   "cell_type": "code",
   "execution_count": 33,
   "metadata": {},
   "outputs": [],
   "source": [
    "def cube(number):\n",
    "    return number * number * number\n",
    "\n",
    "numbers = range(10)\n",
    "pool = Pool()\n",
    "result = pool.map(cube, numbers)\n",
    "print(result)"
   ]
  },
  {
   "cell_type": "code",
   "execution_count": null,
   "metadata": {},
   "outputs": [],
   "source": []
  }
 ]
}