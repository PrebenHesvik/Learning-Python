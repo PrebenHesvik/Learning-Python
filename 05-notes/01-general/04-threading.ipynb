{
 "metadata": {
  "language_info": {
   "codemirror_mode": {
    "name": "ipython",
    "version": 3
   },
   "file_extension": ".py",
   "mimetype": "text/x-python",
   "name": "python",
   "nbconvert_exporter": "python",
   "pygments_lexer": "ipython3",
   "version": "3.9.5"
  },
  "orig_nbformat": 4,
  "kernelspec": {
   "name": "python3",
   "display_name": "Python 3.9.5 64-bit ('spenncon': conda)"
  },
  "interpreter": {
   "hash": "05d659cf7217a31b7ba206b7e3fe1d98040361cb242cc44ce7c59206cfd427bc"
  }
 },
 "nbformat": 4,
 "nbformat_minor": 2,
 "cells": [
  {
   "cell_type": "code",
   "execution_count": 1,
   "metadata": {},
   "outputs": [],
   "source": [
    "from threading import Thread, Lock, current_thread\n",
    "import concurrent.futures\n",
    "import pandas as pd\n",
    "import numpy as np\n",
    "import time"
   ]
  },
  {
   "source": [
    "### Thread: \n",
    "    - An entity within a process that can be scheduled (also known as \"lightweight process\")\n",
    "    - A process can spawn multiple threads\n",
    "\n",
    "#### Advantages:\n",
    "    - All threads within a process share the same memory\n",
    "    - lightweight\n",
    "    - Starting a thread is faster than starting a process\n",
    "    - Great for I/O-bound tasks\n",
    "\n",
    "\n",
    "#### Disadvantages:\n",
    "    - Threading is limited by GIL - only one thread at a time\n",
    "    - No effect for COU-bound tasks\n",
    "    - Not interruptable/killable\n",
    "    - Careful with race conditions\n",
    "\n",
    "### GIL: (global interpreter lock)\n",
    "    - A lock that allows only one thread at a time to execute in Python \n",
    "    - Needed in CPython because memory management is not thread-safe"
   ],
   "cell_type": "markdown",
   "metadata": {}
  },
  {
   "cell_type": "code",
   "execution_count": 2,
   "metadata": {},
   "outputs": [],
   "source": [
    "df = pd.DataFrame(columns=[*'abc'])\n",
    "def random_func(arg):\n",
    "    global df\n",
    "    time.sleep(0.5)\n",
    "    rand_int = np.random.randint(low=0, high=arg, size=3)\n",
    "    rand_df = pd.DataFrame.from_records([rand_int], columns=[*'abc'])\n",
    "    df = pd.concat([df, rand_df], ignore_index=True)"
   ]
  },
  {
   "cell_type": "code",
   "execution_count": 3,
   "metadata": {},
   "outputs": [
    {
     "output_type": "execute_result",
     "data": {
      "text/plain": [
       "   a  b  c\n",
       "0  0  1  0\n",
       "1  0  0  0\n",
       "2  4  3  0\n",
       "3  6  1  1\n",
       "4  1  0  2\n",
       "5  0  0  2\n",
       "6  0  4  2\n",
       "7  2  0  0\n",
       "8  4  4  4\n",
       "9  0  0  8"
      ],
      "text/html": "<div>\n<style scoped>\n    .dataframe tbody tr th:only-of-type {\n        vertical-align: middle;\n    }\n\n    .dataframe tbody tr th {\n        vertical-align: top;\n    }\n\n    .dataframe thead th {\n        text-align: right;\n    }\n</style>\n<table border=\"1\" class=\"dataframe\">\n  <thead>\n    <tr style=\"text-align: right;\">\n      <th></th>\n      <th>a</th>\n      <th>b</th>\n      <th>c</th>\n    </tr>\n  </thead>\n  <tbody>\n    <tr>\n      <th>0</th>\n      <td>0</td>\n      <td>1</td>\n      <td>0</td>\n    </tr>\n    <tr>\n      <th>1</th>\n      <td>0</td>\n      <td>0</td>\n      <td>0</td>\n    </tr>\n    <tr>\n      <th>2</th>\n      <td>4</td>\n      <td>3</td>\n      <td>0</td>\n    </tr>\n    <tr>\n      <th>3</th>\n      <td>6</td>\n      <td>1</td>\n      <td>1</td>\n    </tr>\n    <tr>\n      <th>4</th>\n      <td>1</td>\n      <td>0</td>\n      <td>2</td>\n    </tr>\n    <tr>\n      <th>5</th>\n      <td>0</td>\n      <td>0</td>\n      <td>2</td>\n    </tr>\n    <tr>\n      <th>6</th>\n      <td>0</td>\n      <td>4</td>\n      <td>2</td>\n    </tr>\n    <tr>\n      <th>7</th>\n      <td>2</td>\n      <td>0</td>\n      <td>0</td>\n    </tr>\n    <tr>\n      <th>8</th>\n      <td>4</td>\n      <td>4</td>\n      <td>4</td>\n    </tr>\n    <tr>\n      <th>9</th>\n      <td>0</td>\n      <td>0</td>\n      <td>8</td>\n    </tr>\n  </tbody>\n</table>\n</div>"
     },
     "metadata": {},
     "execution_count": 3
    }
   ],
   "source": [
    "num_threads = 10\n",
    "threads = []\n",
    "\n",
    "for num in range(1, num_threads + 1):\n",
    "    thread = Thread(target=random_func, args=[num])\n",
    "    threads.append(thread)\n",
    "\n",
    "# start threads\n",
    "for thread in threads:\n",
    "    thread.start()\n",
    "\n",
    "# join threads (wait for all threads to complete)\n",
    "for thread in threads:\n",
    "    thread.join()\n",
    "\n",
    "df"
   ]
  },
  {
   "cell_type": "code",
   "execution_count": 4,
   "metadata": {},
   "outputs": [],
   "source": [
    "df = pd.DataFrame(columns=[*'abc'])\n",
    "def random_func(arg):\n",
    "    global df\n",
    "    time.sleep(1)\n",
    "    rand_int = np.random.randint(low=0, high=arg, size=3)\n",
    "    rand_df = pd.DataFrame.from_records([rand_int], columns=[*'abc'])\n",
    "    df = pd.concat([df, rand_df], ignore_index=True)\n",
    "    "
   ]
  },
  {
   "cell_type": "code",
   "execution_count": 5,
   "metadata": {},
   "outputs": [
    {
     "output_type": "stream",
     "name": "stdout",
     "text": [
      "10.113954800006468\n"
     ]
    },
    {
     "output_type": "execute_result",
     "data": {
      "text/plain": [
       "   a  b  c\n",
       "0  0  0  0\n",
       "1  0  1  0\n",
       "2  3  3  2\n",
       "3  2  2  2\n",
       "4  1  4  3"
      ],
      "text/html": "<div>\n<style scoped>\n    .dataframe tbody tr th:only-of-type {\n        vertical-align: middle;\n    }\n\n    .dataframe tbody tr th {\n        vertical-align: top;\n    }\n\n    .dataframe thead th {\n        text-align: right;\n    }\n</style>\n<table border=\"1\" class=\"dataframe\">\n  <thead>\n    <tr style=\"text-align: right;\">\n      <th></th>\n      <th>a</th>\n      <th>b</th>\n      <th>c</th>\n    </tr>\n  </thead>\n  <tbody>\n    <tr>\n      <th>0</th>\n      <td>0</td>\n      <td>0</td>\n      <td>0</td>\n    </tr>\n    <tr>\n      <th>1</th>\n      <td>0</td>\n      <td>1</td>\n      <td>0</td>\n    </tr>\n    <tr>\n      <th>2</th>\n      <td>3</td>\n      <td>3</td>\n      <td>2</td>\n    </tr>\n    <tr>\n      <th>3</th>\n      <td>2</td>\n      <td>2</td>\n      <td>2</td>\n    </tr>\n    <tr>\n      <th>4</th>\n      <td>1</td>\n      <td>4</td>\n      <td>3</td>\n    </tr>\n  </tbody>\n</table>\n</div>"
     },
     "metadata": {},
     "execution_count": 5
    }
   ],
   "source": [
    "my_list = list(range(100))\n",
    "start = time.perf_counter()\n",
    "with concurrent.futures.ThreadPoolExecutor(max_workers=10) as executor:\n",
    "    for item in my_list:\n",
    "        executor.submit(random_func, item)\n",
    "end = time.perf_counter()\n",
    "print(end-start)\n",
    "df.head(5)"
   ]
  },
  {
   "cell_type": "code",
   "execution_count": 6,
   "metadata": {},
   "outputs": [
    {
     "output_type": "stream",
     "name": "stdout",
     "text": [
      "10.051498999993782\n"
     ]
    },
    {
     "output_type": "execute_result",
     "data": {
      "text/plain": [
       "   a  b  c\n",
       "0  0  0  0\n",
       "1  0  1  0\n",
       "2  3  3  2\n",
       "3  2  2  2\n",
       "4  1  4  3"
      ],
      "text/html": "<div>\n<style scoped>\n    .dataframe tbody tr th:only-of-type {\n        vertical-align: middle;\n    }\n\n    .dataframe tbody tr th {\n        vertical-align: top;\n    }\n\n    .dataframe thead th {\n        text-align: right;\n    }\n</style>\n<table border=\"1\" class=\"dataframe\">\n  <thead>\n    <tr style=\"text-align: right;\">\n      <th></th>\n      <th>a</th>\n      <th>b</th>\n      <th>c</th>\n    </tr>\n  </thead>\n  <tbody>\n    <tr>\n      <th>0</th>\n      <td>0</td>\n      <td>0</td>\n      <td>0</td>\n    </tr>\n    <tr>\n      <th>1</th>\n      <td>0</td>\n      <td>1</td>\n      <td>0</td>\n    </tr>\n    <tr>\n      <th>2</th>\n      <td>3</td>\n      <td>3</td>\n      <td>2</td>\n    </tr>\n    <tr>\n      <th>3</th>\n      <td>2</td>\n      <td>2</td>\n      <td>2</td>\n    </tr>\n    <tr>\n      <th>4</th>\n      <td>1</td>\n      <td>4</td>\n      <td>3</td>\n    </tr>\n  </tbody>\n</table>\n</div>"
     },
     "metadata": {},
     "execution_count": 6
    }
   ],
   "source": [
    "my_list = list(range(100))\n",
    "start = time.perf_counter()\n",
    "with concurrent.futures.ThreadPoolExecutor(max_workers=10) as executor:\n",
    "    executor.map(random_func, my_list)\n",
    "end = time.perf_counter()\n",
    "print(end-start)\n",
    "df.head(5)"
   ]
  },
  {
   "source": [
    "### Race conditions"
   ],
   "cell_type": "markdown",
   "metadata": {}
  },
  {
   "cell_type": "code",
   "execution_count": 7,
   "metadata": {},
   "outputs": [
    {
     "output_type": "stream",
     "name": "stdout",
     "text": [
      "start value:  0\nend value:  1\n"
     ]
    }
   ],
   "source": [
    "db_value = 0\n",
    "\n",
    "def increase_db_value():\n",
    "    global db_value\n",
    "\n",
    "    local_copy = db_value\n",
    "    # processing\n",
    "    local_copy += 1\n",
    "    time.sleep(0.1)\n",
    "    db_value = local_copy\n",
    "\n",
    "print('start value: ', db_value)\n",
    "thread1 = Thread(target=increase_db_value)\n",
    "thread2 = Thread(target=increase_db_value)\n",
    "\n",
    "thread1.start()\n",
    "thread2.start()\n",
    "\n",
    "thread1.join()\n",
    "thread2.join()\n",
    "\n",
    "print('end value: ', db_value)"
   ]
  },
  {
   "source": [],
   "cell_type": "markdown",
   "metadata": {}
  },
  {
   "source": [
    "#### Using lock to mitigate race conditions"
   ],
   "cell_type": "markdown",
   "metadata": {}
  },
  {
   "cell_type": "code",
   "execution_count": 8,
   "metadata": {},
   "outputs": [
    {
     "output_type": "stream",
     "name": "stdout",
     "text": [
      "start value:  0\n",
      "end value:  2\n"
     ]
    }
   ],
   "source": [
    "\n",
    "db_value = 0\n",
    "\n",
    "def increase_db_value(lock):\n",
    "    global db_value\n",
    "\n",
    "    lock.acquire()\n",
    "    local_copy = db_value\n",
    "    # processing\n",
    "    local_copy += 1\n",
    "    time.sleep(0.1)\n",
    "    db_value = local_copy\n",
    "    lock.release()\n",
    "\n",
    "# we can use a context manager instead\n",
    "def increase_db_value(lock):\n",
    "    global db_value\n",
    "\n",
    "    with lock:\n",
    "        local_copy = db_value\n",
    "        # processing\n",
    "        local_copy += 1\n",
    "        time.sleep(0.1)\n",
    "        db_value = local_copy\n",
    "\n",
    "lock = Lock()\n",
    "print('start value: ', db_value)\n",
    "thread1 = Thread(target=increase_db_value, args=(lock,))\n",
    "thread2 = Thread(target=increase_db_value, args=(lock,))\n",
    "\n",
    "thread1.start()\n",
    "thread2.start()\n",
    "\n",
    "thread1.join()\n",
    "thread2.join()\n",
    "\n",
    "print('end value: ', db_value)\n"
   ]
  },
  {
   "source": [
    "### Using Queue"
   ],
   "cell_type": "markdown",
   "metadata": {}
  },
  {
   "cell_type": "code",
   "execution_count": 9,
   "metadata": {},
   "outputs": [],
   "source": [
    "from queue import Queue"
   ]
  },
  {
   "cell_type": "code",
   "execution_count": 16,
   "metadata": {},
   "outputs": [
    {
     "output_type": "stream",
     "name": "stdout",
     "text": [
      "Thread-59: 1, 86007.3138789\nThread-59: 2, 86007.3199749\nThread-60: 3, 86007.3212904\nThread-62: 4, 86007.3258112\nThread-58: 5, 86007.3302347\nThread-61: 6, 86007.3331677\nThread-59: 7, 86007.3376488\nThread-60: 8, 86007.3379195\nThread-62: 9, 86007.3382379\nThread-58: 10, 86007.3386254\nThread-61: 11, 86007.3388445\nThread-59: 12, 86007.3391299\nThread-60: 13, 86007.3394554\nThread-62: 14, 86007.3397468\nThread-58: 15, 86007.3401143\nThread-61: 16, 86007.340393\nThread-59: 17, 86007.3405902\nThread-60: 18, 86007.3408806\nThread-62: 19, 86007.3411556\nThread-58: 20, 86007.3414454\n"
     ]
    }
   ],
   "source": [
    "def worker(q, lock):\n",
    "    while True:\n",
    "        value = q.get()\n",
    "        # processing\n",
    "        with lock:\n",
    "            print(f'{current_thread().name}: {value}')\n",
    "        q.task_done()\n",
    "\n",
    "q = Queue()\n",
    "lock = Lock()\n",
    "\n",
    "num_threads = 5\n",
    "\n",
    "for i in range(num_threads):\n",
    "    thread = Thread(target=worker, args=(q, lock))\n",
    "    # a daemon thread is a background thread that dies when the main thread dies\n",
    "    # this is how the program is able to end even though there is an infinite loop\n",
    "    # in the worker function. \n",
    "    thread.daemon = True\n",
    "    thread.start()\n",
    "\n",
    "for i in range(1, 21):\n",
    "    q.put(i)\n",
    "\n",
    "q.join()"
   ]
  },
  {
   "cell_type": "code",
   "execution_count": null,
   "metadata": {},
   "outputs": [],
   "source": []
  }
 ]
}