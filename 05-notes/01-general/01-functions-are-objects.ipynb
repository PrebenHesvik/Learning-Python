{
 "metadata": {
  "language_info": {
   "codemirror_mode": {
    "name": "ipython",
    "version": 3
   },
   "file_extension": ".py",
   "mimetype": "text/x-python",
   "name": "python",
   "nbconvert_exporter": "python",
   "pygments_lexer": "ipython3",
   "version": "3.9.5"
  },
  "orig_nbformat": 4,
  "kernelspec": {
   "name": "python3",
   "display_name": "Python 3.9.5 64-bit ('spenncon': conda)"
  },
  "interpreter": {
   "hash": "05d659cf7217a31b7ba206b7e3fe1d98040361cb242cc44ce7c59206cfd427bc"
  }
 },
 "nbformat": 4,
 "nbformat_minor": 2,
 "cells": [
  {
   "cell_type": "markdown",
   "source": [
    "Imagine you have a list of strings representing numbers. Suppose we want to find the biggest integer in this list. max() won't work with strings, so instead we could write the function below."
   ],
   "metadata": {}
  },
  {
   "cell_type": "code",
   "execution_count": 11,
   "source": [
    "def max_by_int_value(items):\r\n",
    "    biggest = items[0]\r\n",
    "    for item in items[1:]:\r\n",
    "        if int(item) > int(biggest):\r\n",
    "            biggest = item\r\n",
    "    return biggest"
   ],
   "outputs": [],
   "metadata": {}
  },
  {
   "cell_type": "code",
   "execution_count": 13,
   "source": [
    "lst = ['5', '8', '2', '-10', '-4']\r\n",
    "max_by_int_value(lst)"
   ],
   "outputs": [
    {
     "output_type": "execute_result",
     "data": {
      "text/plain": [
       "'8'"
      ]
     },
     "metadata": {},
     "execution_count": 13
    }
   ],
   "metadata": {}
  },
  {
   "cell_type": "markdown",
   "source": [
    "That worked fine, but if we now want to find the highest absolute value of a list of integers, the above function would not help us. Instead we would have to write a new function to do this. "
   ],
   "metadata": {}
  },
  {
   "cell_type": "code",
   "execution_count": 17,
   "source": [
    "def max_by_abs_value(items):\r\n",
    "    biggest = items[0]\r\n",
    "    for item in items[1:]:\r\n",
    "        if abs(item) > abs(biggest):\r\n",
    "            biggest = item\r\n",
    "    return biggest"
   ],
   "outputs": [],
   "metadata": {}
  },
  {
   "cell_type": "code",
   "execution_count": 18,
   "source": [
    "lst = [5, 8, 2, -10, -4]\r\n",
    "max_by_abs_value(lst)"
   ],
   "outputs": [
    {
     "output_type": "execute_result",
     "data": {
      "text/plain": [
       "-10"
      ]
     },
     "metadata": {},
     "execution_count": 18
    }
   ],
   "metadata": {}
  },
  {
   "cell_type": "markdown",
   "source": [
    "The above functions are almost identical, and instead of writing two functions we can just pass the function we want to use as an argument"
   ],
   "metadata": {}
  },
  {
   "cell_type": "code",
   "execution_count": 21,
   "source": [
    "def max_value(items, key):\r\n",
    "    biggest = items[0]\r\n",
    "    for item in items[1:]:\r\n",
    "        if key(item) > key(biggest):\r\n",
    "            biggest = item\r\n",
    "    return biggest"
   ],
   "outputs": [],
   "metadata": {}
  },
  {
   "cell_type": "code",
   "execution_count": 22,
   "source": [
    "lst = ['5', '8', '2', '-10', '-4']\r\n",
    "print('max string value: ', max_value(lst, int))\r\n",
    "\r\n",
    "lst = [5, 8, 2, -10, -4]\r\n",
    "print('max absolute value: ', max_value(lst, abs))"
   ],
   "outputs": [
    {
     "output_type": "stream",
     "name": "stdout",
     "text": [
      "max string value:  8\n",
      "max absolute value:  -10\n"
     ]
    }
   ],
   "metadata": {}
  },
  {
   "cell_type": "markdown",
   "source": [
    "We can use the max_value function to sort a dictionary as well. The only thing we have to do is to import `itemgetter` from the `operator` module"
   ],
   "metadata": {}
  },
  {
   "cell_type": "markdown",
   "source": [
    "Two simple itemgetter examples: "
   ],
   "metadata": {}
  },
  {
   "cell_type": "code",
   "execution_count": 8,
   "source": [
    "joe = {'gpa': 3.7, 'major': 'physics', 'name': 'Joe Smith'}\r\n",
    "itemgetter('major')(joe)"
   ],
   "outputs": [
    {
     "output_type": "execute_result",
     "data": {
      "text/plain": [
       "'physics'"
      ]
     },
     "metadata": {},
     "execution_count": 8
    }
   ],
   "metadata": {}
  },
  {
   "cell_type": "code",
   "execution_count": 9,
   "source": [
    "itemgetter(2)([1,2,3,4,5])"
   ],
   "outputs": [
    {
     "output_type": "execute_result",
     "data": {
      "text/plain": [
       "3"
      ]
     },
     "metadata": {},
     "execution_count": 9
    }
   ],
   "metadata": {}
  },
  {
   "cell_type": "code",
   "execution_count": 14,
   "source": [
    "from operator import itemgetter\r\n",
    "\r\n",
    "def max_value(items, key):\r\n",
    "    biggest = items[0]\r\n",
    "    for item in items[1:]:\r\n",
    "        if key(item) > key(biggest):\r\n",
    "            biggest = item\r\n",
    "    return biggest\r\n",
    "\r\n",
    "\r\n",
    "joe = {'gpa': 3.7, 'major': 'physics', 'name': 'Joe Smith'}\r\n",
    "jane = {'gpa': 3.8, 'major': 'chemistry', 'name': 'Jane Jones'}\r\n",
    "zoe = {'gpa': 3.4, 'major': 'math', 'name': 'Zoe Fox'}\r\n",
    "students = [joe, jane, zoe]\r\n",
    "max_value(students, key=itemgetter('gpa'))"
   ],
   "outputs": [
    {
     "output_type": "execute_result",
     "data": {
      "text/plain": [
       "{'gpa': 3.8, 'major': 'chemistry', 'name': 'Jane Jones'}"
      ]
     },
     "metadata": {},
     "execution_count": 14
    }
   ],
   "metadata": {}
  },
  {
   "cell_type": "markdown",
   "source": [
    "Alternatively, we can use a lambda expression as the key"
   ],
   "metadata": {}
  },
  {
   "cell_type": "code",
   "execution_count": 15,
   "source": [
    "max_value(students, key=lambda x: x['gpa'])"
   ],
   "outputs": [
    {
     "output_type": "execute_result",
     "data": {
      "text/plain": [
       "{'gpa': 3.8, 'major': 'chemistry', 'name': 'Jane Jones'}"
      ]
     },
     "metadata": {},
     "execution_count": 15
    }
   ],
   "metadata": {}
  },
  {
   "cell_type": "markdown",
   "source": [
    "We can use a function as a key to the regular max, min, abs functions as well"
   ],
   "metadata": {}
  },
  {
   "cell_type": "code",
   "execution_count": 10,
   "source": [
    "students = [\r\n",
    "    ('Joe Smith', 'physics', 3.7),\r\n",
    "    ('Jane Jones', 'chemistry', 3.8),\r\n",
    "    ('Zoe Fox', 'math', 3.4)\r\n",
    "]\r\n",
    "\r\n",
    "max(students, key=itemgetter(2))"
   ],
   "outputs": [
    {
     "output_type": "execute_result",
     "data": {
      "text/plain": [
       "('Jane Jones', 'chemistry', 3.8)"
      ]
     },
     "metadata": {},
     "execution_count": 10
    }
   ],
   "metadata": {}
  },
  {
   "cell_type": "markdown",
   "source": [
    "Class instances can be sorted by importing `attrgetter` from the `operator` module"
   ],
   "metadata": {}
  },
  {
   "cell_type": "code",
   "execution_count": 12,
   "source": [
    "from operator import attrgetter\r\n",
    "\r\n",
    "class Student:\r\n",
    "    def __init__(self, name, major, gpa):\r\n",
    "        self.name = name\r\n",
    "        self.major = major\r\n",
    "        self.gpa = gpa\r\n",
    "\r\n",
    "    def __repr__(self):\r\n",
    "        return f'Student(name={self.name}, major={self.major}, gpa={self.gpa})'\r\n",
    "\r\n",
    "\r\n",
    "students = [\r\n",
    "    ('Joe Smith', 'physics', 3.7),\r\n",
    "    ('Jane Jones', 'chemistry', 3.8),\r\n",
    "    ('Zoe Fox', 'math', 3.4)\r\n",
    "]\r\n",
    "\r\n",
    "student_objs = [Student(*student) for student in students]\r\n",
    "\r\n",
    "# sort students by gpa\r\n",
    "sorted(student_objs, key=attrgetter('gpa'), reverse=True)"
   ],
   "outputs": [
    {
     "output_type": "execute_result",
     "data": {
      "text/plain": [
       "[Student(name=Jane Jones, major=chemistry, gpa=3.8),\n",
       " Student(name=Joe Smith, major=physics, gpa=3.7),\n",
       " Student(name=Zoe Fox, major=math, gpa=3.4)]"
      ]
     },
     "metadata": {},
     "execution_count": 12
    }
   ],
   "metadata": {}
  },
  {
   "cell_type": "code",
   "execution_count": null,
   "source": [],
   "outputs": [],
   "metadata": {}
  }
 ]
}