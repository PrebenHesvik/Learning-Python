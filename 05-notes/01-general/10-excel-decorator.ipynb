{
 "metadata": {
  "language_info": {
   "codemirror_mode": {
    "name": "ipython",
    "version": 3
   },
   "file_extension": ".py",
   "mimetype": "text/x-python",
   "name": "python",
   "nbconvert_exporter": "python",
   "pygments_lexer": "ipython3",
   "version": "3.8.6"
  },
  "orig_nbformat": 4,
  "kernelspec": {
   "name": "python3",
   "display_name": "Python 3.8.6 64-bit ('data-analysis': conda)"
  },
  "interpreter": {
   "hash": "28042f938f6b69635c97f52b7627295b3fdea7e05cc2e1626e84e0b3e6b24cfb"
  }
 },
 "nbformat": 4,
 "nbformat_minor": 2,
 "cells": [
  {
   "cell_type": "code",
   "execution_count": 1,
   "metadata": {},
   "outputs": [],
   "source": [
    "import pandas as pd\n",
    "import numpy as np"
   ]
  },
  {
   "cell_type": "code",
   "execution_count": 67,
   "metadata": {},
   "outputs": [
    {
     "output_type": "execute_result",
     "data": {
      "text/plain": [
       "   col_1  col_2  col_3  col_4  col_5\n",
       "0     52     42     66     95      0\n",
       "1     74     19     29     76     51\n",
       "2     94     92     37     58     92\n",
       "3     68     74     17     77     23\n",
       "4     18     46     23     56     17\n",
       "5     59     23     43     64     39\n",
       "6      4     21     24     46     22\n",
       "7     36     20     72     74      9\n",
       "8     15      7     92     73     94\n",
       "9     42     56     85     20     75"
      ],
      "text/html": "<div>\n<style scoped>\n    .dataframe tbody tr th:only-of-type {\n        vertical-align: middle;\n    }\n\n    .dataframe tbody tr th {\n        vertical-align: top;\n    }\n\n    .dataframe thead th {\n        text-align: right;\n    }\n</style>\n<table border=\"1\" class=\"dataframe\">\n  <thead>\n    <tr style=\"text-align: right;\">\n      <th></th>\n      <th>col_1</th>\n      <th>col_2</th>\n      <th>col_3</th>\n      <th>col_4</th>\n      <th>col_5</th>\n    </tr>\n  </thead>\n  <tbody>\n    <tr>\n      <th>0</th>\n      <td>52</td>\n      <td>42</td>\n      <td>66</td>\n      <td>95</td>\n      <td>0</td>\n    </tr>\n    <tr>\n      <th>1</th>\n      <td>74</td>\n      <td>19</td>\n      <td>29</td>\n      <td>76</td>\n      <td>51</td>\n    </tr>\n    <tr>\n      <th>2</th>\n      <td>94</td>\n      <td>92</td>\n      <td>37</td>\n      <td>58</td>\n      <td>92</td>\n    </tr>\n    <tr>\n      <th>3</th>\n      <td>68</td>\n      <td>74</td>\n      <td>17</td>\n      <td>77</td>\n      <td>23</td>\n    </tr>\n    <tr>\n      <th>4</th>\n      <td>18</td>\n      <td>46</td>\n      <td>23</td>\n      <td>56</td>\n      <td>17</td>\n    </tr>\n    <tr>\n      <th>5</th>\n      <td>59</td>\n      <td>23</td>\n      <td>43</td>\n      <td>64</td>\n      <td>39</td>\n    </tr>\n    <tr>\n      <th>6</th>\n      <td>4</td>\n      <td>21</td>\n      <td>24</td>\n      <td>46</td>\n      <td>22</td>\n    </tr>\n    <tr>\n      <th>7</th>\n      <td>36</td>\n      <td>20</td>\n      <td>72</td>\n      <td>74</td>\n      <td>9</td>\n    </tr>\n    <tr>\n      <th>8</th>\n      <td>15</td>\n      <td>7</td>\n      <td>92</td>\n      <td>73</td>\n      <td>94</td>\n    </tr>\n    <tr>\n      <th>9</th>\n      <td>42</td>\n      <td>56</td>\n      <td>85</td>\n      <td>20</td>\n      <td>75</td>\n    </tr>\n  </tbody>\n</table>\n</div>"
     },
     "metadata": {},
     "execution_count": 67
    }
   ],
   "source": [
    "def to_excel(path, sheet_name, index):\n",
    "    def decorator(fn):\n",
    "        def wrapper(*args, **kwargs):\n",
    "            df = fn(*args, **kwargs)\n",
    "            writer = pd.ExcelWriter(path)\n",
    "            df.to_excel(writer, sheet_name=sheet_name, index=index)\n",
    "            writer.save()\n",
    "            return df\n",
    "        return wrapper\n",
    "    return decorator\n",
    "\n",
    "\n",
    "@to_excel('dataframe.xlsx', 'sheet', True)\n",
    "def create_df(cols, rows):\n",
    "    arr = np.multiply(np.random.rand(rows, cols), 100).round().astype('int')\n",
    "    col_names = [f'col_{num}' for num in range(1, cols + 1)]\n",
    "    df = pd.DataFrame(arr, columns=col_names)\n",
    "    return df \n",
    "\n",
    "create_df(5, 10)"
   ]
  },
  {
   "source": [
    "### Hardcoded"
   ],
   "cell_type": "markdown",
   "metadata": {}
  },
  {
   "cell_type": "code",
   "execution_count": 52,
   "metadata": {},
   "outputs": [
    {
     "output_type": "execute_result",
     "data": {
      "text/plain": [
       "   col_1  col_2  col_3  col_4  col_5\n",
       "0     88     64     43     65     82\n",
       "1     29     38     83     30     14\n",
       "2     51      8      4     10     20\n",
       "3      2     59     46     94     21\n",
       "4     55     22     53     88     58\n",
       "5     47     75     50     78     58\n",
       "6     87     34     47     66      7\n",
       "7     53     17     93     61     62\n",
       "8     72     40     73     24     60\n",
       "9     66     43     26     23     63"
      ],
      "text/html": "<div>\n<style scoped>\n    .dataframe tbody tr th:only-of-type {\n        vertical-align: middle;\n    }\n\n    .dataframe tbody tr th {\n        vertical-align: top;\n    }\n\n    .dataframe thead th {\n        text-align: right;\n    }\n</style>\n<table border=\"1\" class=\"dataframe\">\n  <thead>\n    <tr style=\"text-align: right;\">\n      <th></th>\n      <th>col_1</th>\n      <th>col_2</th>\n      <th>col_3</th>\n      <th>col_4</th>\n      <th>col_5</th>\n    </tr>\n  </thead>\n  <tbody>\n    <tr>\n      <th>0</th>\n      <td>88</td>\n      <td>64</td>\n      <td>43</td>\n      <td>65</td>\n      <td>82</td>\n    </tr>\n    <tr>\n      <th>1</th>\n      <td>29</td>\n      <td>38</td>\n      <td>83</td>\n      <td>30</td>\n      <td>14</td>\n    </tr>\n    <tr>\n      <th>2</th>\n      <td>51</td>\n      <td>8</td>\n      <td>4</td>\n      <td>10</td>\n      <td>20</td>\n    </tr>\n    <tr>\n      <th>3</th>\n      <td>2</td>\n      <td>59</td>\n      <td>46</td>\n      <td>94</td>\n      <td>21</td>\n    </tr>\n    <tr>\n      <th>4</th>\n      <td>55</td>\n      <td>22</td>\n      <td>53</td>\n      <td>88</td>\n      <td>58</td>\n    </tr>\n    <tr>\n      <th>5</th>\n      <td>47</td>\n      <td>75</td>\n      <td>50</td>\n      <td>78</td>\n      <td>58</td>\n    </tr>\n    <tr>\n      <th>6</th>\n      <td>87</td>\n      <td>34</td>\n      <td>47</td>\n      <td>66</td>\n      <td>7</td>\n    </tr>\n    <tr>\n      <th>7</th>\n      <td>53</td>\n      <td>17</td>\n      <td>93</td>\n      <td>61</td>\n      <td>62</td>\n    </tr>\n    <tr>\n      <th>8</th>\n      <td>72</td>\n      <td>40</td>\n      <td>73</td>\n      <td>24</td>\n      <td>60</td>\n    </tr>\n    <tr>\n      <th>9</th>\n      <td>66</td>\n      <td>43</td>\n      <td>26</td>\n      <td>23</td>\n      <td>63</td>\n    </tr>\n  </tbody>\n</table>\n</div>"
     },
     "metadata": {},
     "execution_count": 52
    }
   ],
   "source": [
    "from functools import wraps\n",
    "\n",
    "def write_to_excel(fn):\n",
    "   \n",
    "    wraps(fn) # we use wraps to decorate the inner function to retain the metadate of fn\n",
    "    def inner(*args, **kwargs):\n",
    "        df = fn(*args, **kwargs)\n",
    "        writer = pd.ExcelWriter('dataframe.xlsx')\n",
    "        df.to_excel(writer, sheet_name='data', index=False)\n",
    "        writer.save()\n",
    "        \n",
    "        return df\n",
    "    \n",
    "    return inner\n",
    "\n",
    "@write_to_excel\n",
    "def create_df(cols, rows):\n",
    "    arr = np.multiply(np.random.rand(rows, cols), 100).round().astype('int')\n",
    "    col_names = [f'col_{num}' for num in range(1, cols + 1)]\n",
    "    df = pd.DataFrame(arr, columns=col_names)\n",
    "    return df \n",
    "\n",
    "create_df(5, 10)"
   ]
  },
  {
   "source": [
    "### Class-based decorator"
   ],
   "cell_type": "markdown",
   "metadata": {}
  },
  {
   "cell_type": "code",
   "execution_count": 2,
   "metadata": {},
   "outputs": [
    {
     "output_type": "execute_result",
     "data": {
      "text/plain": [
       "   col_1  col_2  col_3  col_4  col_5\n",
       "0      2     80     16     16     53\n",
       "1     38     72     57     98     11\n",
       "2     31      9     76     56      3\n",
       "3     28     79     63     41     12\n",
       "4     81     95     92     80     54\n",
       "5     78     88     90     16     67\n",
       "6      4      2     20      7     94\n",
       "7     51     86     22     83     77\n",
       "8      9     41     43     90     72\n",
       "9     96     57     18      5      8"
      ],
      "text/html": "<div>\n<style scoped>\n    .dataframe tbody tr th:only-of-type {\n        vertical-align: middle;\n    }\n\n    .dataframe tbody tr th {\n        vertical-align: top;\n    }\n\n    .dataframe thead th {\n        text-align: right;\n    }\n</style>\n<table border=\"1\" class=\"dataframe\">\n  <thead>\n    <tr style=\"text-align: right;\">\n      <th></th>\n      <th>col_1</th>\n      <th>col_2</th>\n      <th>col_3</th>\n      <th>col_4</th>\n      <th>col_5</th>\n    </tr>\n  </thead>\n  <tbody>\n    <tr>\n      <th>0</th>\n      <td>2</td>\n      <td>80</td>\n      <td>16</td>\n      <td>16</td>\n      <td>53</td>\n    </tr>\n    <tr>\n      <th>1</th>\n      <td>38</td>\n      <td>72</td>\n      <td>57</td>\n      <td>98</td>\n      <td>11</td>\n    </tr>\n    <tr>\n      <th>2</th>\n      <td>31</td>\n      <td>9</td>\n      <td>76</td>\n      <td>56</td>\n      <td>3</td>\n    </tr>\n    <tr>\n      <th>3</th>\n      <td>28</td>\n      <td>79</td>\n      <td>63</td>\n      <td>41</td>\n      <td>12</td>\n    </tr>\n    <tr>\n      <th>4</th>\n      <td>81</td>\n      <td>95</td>\n      <td>92</td>\n      <td>80</td>\n      <td>54</td>\n    </tr>\n    <tr>\n      <th>5</th>\n      <td>78</td>\n      <td>88</td>\n      <td>90</td>\n      <td>16</td>\n      <td>67</td>\n    </tr>\n    <tr>\n      <th>6</th>\n      <td>4</td>\n      <td>2</td>\n      <td>20</td>\n      <td>7</td>\n      <td>94</td>\n    </tr>\n    <tr>\n      <th>7</th>\n      <td>51</td>\n      <td>86</td>\n      <td>22</td>\n      <td>83</td>\n      <td>77</td>\n    </tr>\n    <tr>\n      <th>8</th>\n      <td>9</td>\n      <td>41</td>\n      <td>43</td>\n      <td>90</td>\n      <td>72</td>\n    </tr>\n    <tr>\n      <th>9</th>\n      <td>96</td>\n      <td>57</td>\n      <td>18</td>\n      <td>5</td>\n      <td>8</td>\n    </tr>\n  </tbody>\n</table>\n</div>"
     },
     "metadata": {},
     "execution_count": 2
    }
   ],
   "source": [
    "class ToExcel:\n",
    "    def __init__(self, path, sheet_name, index):\n",
    "        self.path = path\n",
    "        self.sheet_name = sheet_name\n",
    "        self.index = index\n",
    "    \n",
    "    def __call__(self, fn):\n",
    "        def wrapper(*args, **kwargs):\n",
    "            df = fn(*args, **kwargs)\n",
    "            writer = pd.ExcelWriter(self.path)\n",
    "            df.to_excel(writer, sheet_name=self.sheet_name, index=self.index)\n",
    "            writer.save()\n",
    "            return df\n",
    "        return wrapper\n",
    "\n",
    "@ToExcel('dataframe.xlsx', 'sheet', True)\n",
    "def create_df(cols, rows):\n",
    "    arr = np.multiply(np.random.rand(rows, cols), 100).round().astype('int')\n",
    "    col_names = [f'col_{num}' for num in range(1, cols + 1)]\n",
    "    df = pd.DataFrame(arr, columns=col_names)\n",
    "    return df \n",
    "\n",
    "create_df(5, 10)"
   ]
  },
  {
   "source": [
    "### class-based decorator (Hardcoded)"
   ],
   "cell_type": "markdown",
   "metadata": {}
  },
  {
   "cell_type": "code",
   "execution_count": 6,
   "metadata": {},
   "outputs": [
    {
     "output_type": "execute_result",
     "data": {
      "text/plain": [
       "   col_1  col_2  col_3  col_4  col_5\n",
       "0     81      5     78     87     92\n",
       "1     88     11     82     24     77\n",
       "2     95     24     22     60     77\n",
       "3      5     42     87     92     80\n",
       "4     59     21     23     86     40\n",
       "5     31     45     46     85     87\n",
       "6     54     19     41     11     35\n",
       "7     94     91     57     28     74\n",
       "8     70     39     40      7     96\n",
       "9     47     20     21     30      8"
      ],
      "text/html": "<div>\n<style scoped>\n    .dataframe tbody tr th:only-of-type {\n        vertical-align: middle;\n    }\n\n    .dataframe tbody tr th {\n        vertical-align: top;\n    }\n\n    .dataframe thead th {\n        text-align: right;\n    }\n</style>\n<table border=\"1\" class=\"dataframe\">\n  <thead>\n    <tr style=\"text-align: right;\">\n      <th></th>\n      <th>col_1</th>\n      <th>col_2</th>\n      <th>col_3</th>\n      <th>col_4</th>\n      <th>col_5</th>\n    </tr>\n  </thead>\n  <tbody>\n    <tr>\n      <th>0</th>\n      <td>81</td>\n      <td>5</td>\n      <td>78</td>\n      <td>87</td>\n      <td>92</td>\n    </tr>\n    <tr>\n      <th>1</th>\n      <td>88</td>\n      <td>11</td>\n      <td>82</td>\n      <td>24</td>\n      <td>77</td>\n    </tr>\n    <tr>\n      <th>2</th>\n      <td>95</td>\n      <td>24</td>\n      <td>22</td>\n      <td>60</td>\n      <td>77</td>\n    </tr>\n    <tr>\n      <th>3</th>\n      <td>5</td>\n      <td>42</td>\n      <td>87</td>\n      <td>92</td>\n      <td>80</td>\n    </tr>\n    <tr>\n      <th>4</th>\n      <td>59</td>\n      <td>21</td>\n      <td>23</td>\n      <td>86</td>\n      <td>40</td>\n    </tr>\n    <tr>\n      <th>5</th>\n      <td>31</td>\n      <td>45</td>\n      <td>46</td>\n      <td>85</td>\n      <td>87</td>\n    </tr>\n    <tr>\n      <th>6</th>\n      <td>54</td>\n      <td>19</td>\n      <td>41</td>\n      <td>11</td>\n      <td>35</td>\n    </tr>\n    <tr>\n      <th>7</th>\n      <td>94</td>\n      <td>91</td>\n      <td>57</td>\n      <td>28</td>\n      <td>74</td>\n    </tr>\n    <tr>\n      <th>8</th>\n      <td>70</td>\n      <td>39</td>\n      <td>40</td>\n      <td>7</td>\n      <td>96</td>\n    </tr>\n    <tr>\n      <th>9</th>\n      <td>47</td>\n      <td>20</td>\n      <td>21</td>\n      <td>30</td>\n      <td>8</td>\n    </tr>\n  </tbody>\n</table>\n</div>"
     },
     "metadata": {},
     "execution_count": 6
    }
   ],
   "source": [
    "class ToExcelHardcoded:\n",
    "    def __init__(self, fn):\n",
    "        self.fn = fn\n",
    "    \n",
    "    def __call__(self, *args, **kwargs):\n",
    "        df = self.fn(*args, **kwargs)\n",
    "        writer = pd.ExcelWriter('hardcoded_df_path.xlsx')\n",
    "        df.to_excel(writer, sheet_name='hardcoded_sheet_name', index=False)\n",
    "        writer.save()\n",
    "        return df\n",
    "\n",
    "@ToExcelHardcoded\n",
    "def create_df(cols, rows):\n",
    "    arr = np.multiply(np.random.rand(rows, cols), 100).round().astype('int')\n",
    "    col_names = [f'col_{num}' for num in range(1, cols + 1)]\n",
    "    df = pd.DataFrame(arr, columns=col_names)\n",
    "    return df \n",
    "\n",
    "create_df(5, 10)"
   ]
  },
  {
   "cell_type": "code",
   "execution_count": null,
   "metadata": {},
   "outputs": [],
   "source": []
  }
 ]
}