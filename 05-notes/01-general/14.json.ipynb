{
 "cells": [
  {
   "cell_type": "code",
   "execution_count": null,
   "metadata": {},
   "outputs": [],
   "source": [
    "import json\n",
    "from urllib.request import urlopen"
   ]
  },
  {
   "cell_type": "code",
   "execution_count": 1,
   "metadata": {},
   "outputs": [],
   "source": [
    "people_string = \"\"\"\n",
    "{\n",
    "    \"people\": [\n",
    "        {\n",
    "            \"name\": \"John Smith\",\n",
    "            \"phone\": \"944-28-507\",\n",
    "            \"email\": \"john.smith@hotmail.com\",\n",
    "            \"has_license\": false\n",
    "        },\n",
    "        {\n",
    "            \"name\": \"Sall Jones\",\n",
    "            \"phone\": \"982-69-577\",\n",
    "            \"email\": \"sally.jones@hotmail.com\",\n",
    "            \"has_license\": true\n",
    "        }\n",
    "    ]\n",
    "}\n",
    " \"\"\""
   ]
  },
  {
   "cell_type": "markdown",
   "metadata": {},
   "source": [
    "- **json.load** is used to load a **file**\n",
    "<br><br>\n",
    "\n",
    "- **json.loads** is used to load a **string**\n",
    "<br><br>\n",
    "\n",
    "- **json.dump** is used to save object to json **file**\n",
    "<br><br>\n",
    "\n",
    "- **json.dumps** is used to save object to json **string**"
   ]
  },
  {
   "cell_type": "code",
   "execution_count": null,
   "metadata": {},
   "outputs": [],
   "source": [
    "data = json.loads(people_string)\n",
    "\n",
    "# Accessing each 'people' item\n",
    "for person in data['people']:\n",
    "    print(person)\n",
    "\n",
    "# Accessing each name of the items in 'people'\n",
    "for person in data['people']:\n",
    "    print(person['name'])\n",
    "\n",
    "# delete each person's phone number\n",
    "for person in data['people']:\n",
    "    del person['phone']\n",
    "\n",
    "# Create new json string without the phone number item\n",
    "new_string = json.dumps(data, indent=2, sort_keys=True)\n",
    "print(new_string)\n",
    "\n",
    "with open('py_notes/us_states.json') as f:\n",
    "    data = json.load(f)\n",
    "\n",
    "for state in data:\n",
    "    print(state['name'], state['abbreviation'])"
   ]
  },
  {
   "cell_type": "code",
   "execution_count": null,
   "metadata": {},
   "outputs": [],
   "source": [
    "\"\"\" WORKING WITH DATA FROM YAHOO API \"\"\"\n",
    "\n",
    "with urlopen(\"https://finance.yahoo.com/webservice/v1/symbols/allcurrencies/quote?format=json\") as response:\n",
    "    source = response.read()\n",
    "\n",
    "data = json.loads(source)\n",
    "\n",
    "print(json.dumps(data, indent=2))\n",
    "\n",
    "# check number of items\n",
    "json_length = len(data['list']['resources'])\n",
    "print(json_length)\n",
    "\n",
    "# List all conversions and values in the json file\n",
    "for item in data['list']['resources']:\n",
    "    name = item['resource']['fields']['name'] # <--- when working with json data we sometimes have to dig down into the file to find the values we want\n",
    "    price = item['resource']['fields']['price']\n",
    "    print(name, price)"
   ]
  }
 ],
 "metadata": {
  "interpreter": {
   "hash": "ecf5722fdaf1897a315d257d89d94520bfcaa453217d5becf09b39e73618b0de"
  },
  "kernelspec": {
   "display_name": "Python 3.9.7 ('base')",
   "language": "python",
   "name": "python3"
  },
  "language_info": {
   "codemirror_mode": {
    "name": "ipython",
    "version": 3
   },
   "file_extension": ".py",
   "mimetype": "text/x-python",
   "name": "python",
   "nbconvert_exporter": "python",
   "pygments_lexer": "ipython3",
   "version": "3.9.7"
  },
  "orig_nbformat": 4
 },
 "nbformat": 4,
 "nbformat_minor": 2
}
