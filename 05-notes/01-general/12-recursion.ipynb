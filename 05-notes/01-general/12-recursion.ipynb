{
 "cells": [
  {
   "cell_type": "markdown",
   "metadata": {},
   "source": [
    "# Recursion:\n",
    "## In programming, recursion is when a function calls itself"
   ]
  },
  {
   "cell_type": "markdown",
   "metadata": {},
   "source": [
    "### 5 Simple steps for solving any recursive problem:\n",
    "1. What is the simplest input? This is the base case\n",
    "2. Play around with examples and visualize\n",
    "3. Relate hard cases to simpler cases\n",
    "4. Generalize the pattern\n",
    "\n",
    "\n",
    "### Recursive leap of faith: Assume simpler cases work out"
   ]
  },
  {
   "cell_type": "markdown",
   "metadata": {},
   "source": [
    "### Write a recursive function that given an input n, sums all non-negative integers up to n\n"
   ]
  },
  {
   "cell_type": "code",
   "execution_count": 5,
   "metadata": {},
   "outputs": [
    {
     "data": {
      "text/plain": [
       "15"
      ]
     },
     "execution_count": 5,
     "metadata": {},
     "output_type": "execute_result"
    }
   ],
   "source": [
    "def add_numbers(num):\n",
    "    if num == 0:\n",
    "        return 0\n",
    "    return num + add_numbers(num - 1)\n",
    "\n",
    "add_numbers(5)\n",
    "    "
   ]
  },
  {
   "cell_type": "markdown",
   "metadata": {},
   "source": [
    "### Write a function that takes two inputs, `n` and `m`, and outputs the number of unique path from the top left corner to bottom right corner of a `n` x `m` grid. Constraints: you can only move down or right 1 unit at a time. \n",
    "\n",
    "\n",
    "1. What is the simplest possible input?\n",
    "    - If either of `n` or `m` is 1m then there are only one path available\n",
    "\n",
    "4. Generalize the pattern:\n",
    "    - grid_paths(n, m) = grid_paths(n, m-1) + grid_paths(n-1, m)"
   ]
  },
  {
   "cell_type": "code",
   "execution_count": 10,
   "metadata": {},
   "outputs": [
    {
     "data": {
      "text/plain": [
       "20"
      ]
     },
     "execution_count": 10,
     "metadata": {},
     "output_type": "execute_result"
    }
   ],
   "source": [
    "def grid_paths(n, m):\n",
    "    if n == 1 or m == 1:\n",
    "        return 1\n",
    "    return grid_paths(n, m - 1) + grid_paths(n - 1, m)\n",
    "\n",
    "grid_paths(4, 4)\n",
    "    "
   ]
  },
  {
   "cell_type": "markdown",
   "metadata": {},
   "source": [
    "### Write a functon that counts the number of ways you can partition **`n`** objects using parts up to **`m`**\n",
    "\n",
    "2. Generalize the pattern:\n",
    "    - n=a, m=b `is equal to` n=a-b, m=b `plus` n=a, b=b-1"
   ]
  },
  {
   "cell_type": "code",
   "execution_count": 18,
   "metadata": {},
   "outputs": [
    {
     "data": {
      "text/plain": [
       "23"
      ]
     },
     "execution_count": 18,
     "metadata": {},
     "output_type": "execute_result"
    }
   ],
   "source": [
    "def count_partitions(n, m):\n",
    "    if n == 0:\n",
    "        return 1\n",
    "    elif m == 0 or n < 0:\n",
    "        return 0\n",
    "    return count_partitions(n - m, m) + count_partitions(n, m - 1)\n",
    "\n",
    "count_partitions(9, 5)"
   ]
  },
  {
   "cell_type": "markdown",
   "metadata": {},
   "source": [
    "## String reversal"
   ]
  },
  {
   "cell_type": "code",
   "execution_count": 28,
   "metadata": {},
   "outputs": [
    {
     "data": {
      "text/plain": [
       "'neberP'"
      ]
     },
     "execution_count": 28,
     "metadata": {},
     "output_type": "execute_result"
    }
   ],
   "source": [
    "def string_reversion(string):\n",
    "    # base case\n",
    "    if string == '':\n",
    "        return ''\n",
    "    # What is the smallest amount of work I can do in each interaction\n",
    "    return string_reversion(string[1:]) + string[0]\n",
    "    \n",
    "    \n",
    "string_reversion('Preben')  "
   ]
  },
  {
   "cell_type": "markdown",
   "metadata": {},
   "source": [
    "## Find out if the word is a palindrome"
   ]
  },
  {
   "cell_type": "code",
   "execution_count": 33,
   "metadata": {},
   "outputs": [
    {
     "name": "stdout",
     "output_type": "stream",
     "text": [
      "a a\n",
      "g g\n",
      "n n\n",
      "e e\n",
      "s s\n",
      "   \n"
     ]
    },
    {
     "data": {
      "text/plain": [
       "True"
      ]
     },
     "execution_count": 33,
     "metadata": {},
     "output_type": "execute_result"
    }
   ],
   "source": [
    "def is_palindrome(string):\n",
    "    if len(string) in [0, 1]:\n",
    "        return True\n",
    "    if string[0] == string[-1]:\n",
    "        return is_palindrome(string[1:-1])\n",
    "    return False\n",
    "\n",
    "is_palindrome('agnes i senga')"
   ]
  },
  {
   "cell_type": "markdown",
   "metadata": {},
   "source": [
    "## Divide & Conquer\n",
    "1. Divide problem into several saller sub-problems. Normally the sub-problems are similar to the original.\n",
    "2. Conquer the sub-problems by solving them recursively. Base Case: solve small enough problems by brute force\n",
    "3. Combine the solutions to get a solution to the sub-problems and finally a solution to the original problem\n",
    "4. Divide & Conquer algorithms are normally recursive"
   ]
  },
  {
   "cell_type": "markdown",
   "metadata": {},
   "source": [
    "### Binary search"
   ]
  },
  {
   "cell_type": "code",
   "execution_count": 42,
   "metadata": {},
   "outputs": [
    {
     "data": {
      "text/plain": [
       "3"
      ]
     },
     "execution_count": 42,
     "metadata": {},
     "output_type": "execute_result"
    }
   ],
   "source": [
    "def binary_search(data, low, high, item):\n",
    "    if low <= high:\n",
    "        middle = (low + high) // 2\n",
    "        \n",
    "        if data[middle] == item:\n",
    "            return middle\n",
    "        \n",
    "        elif item < data[middle]:\n",
    "            return binary_search(data=data, low=low, high=middle - 1, item=item)\n",
    "        \n",
    "        return binary_search(data=data, low=middle + 1, high=high, item=item)\n",
    "    else:\n",
    "        return -1\n",
    "    \n",
    "\n",
    "lst = [3, 5, 8, 15, 26, 38, 47, 136]\n",
    "binary_search(lst, 0, len(lst), 15)"
   ]
  },
  {
   "cell_type": "markdown",
   "metadata": {},
   "source": [
    "### Merge Sort\n",
    "[SnS Learning YouTube video](https://www.youtube.com/watch?v=9NdghEeWU-8)"
   ]
  },
  {
   "cell_type": "code",
   "execution_count": null,
   "metadata": {},
   "outputs": [],
   "source": [
    "def merge(left, right):\n",
    "    \"\"\"Merge sort merging function.\"\"\"\n",
    "    \n",
    "    left_index, right_index = 0, 0\n",
    "    result = []\n",
    "    while left_index < len(left) and right_index < len(right):\n",
    "        if left[left_index] < right[right_index]:\n",
    "            result.append(left[left_index])\n",
    "            left_index += 1\n",
    "        else:\n",
    "            result.append(right[right_index])\n",
    "            right_index += 1\n",
    "    \n",
    "    result += left[left_index:]\n",
    "    result += right[right_index]\n",
    "    return result\n",
    "    \n",
    "\n",
    "\n",
    "def merge_sort(array):\n",
    "    \"\"\"Merge sort algorithm implementation.\"\"\"\n",
    "    \n",
    "    if len(array) <= 0:\n",
    "        return array\n",
    "    \n",
    "    mid = len(array) // 2\n",
    "    left = array[:mid]\n",
    "    right = array[mid:]\n",
    "    \n",
    "    return merge(left, right)\n",
    "        \n",
    "    \n",
    "    "
   ]
  },
  {
   "cell_type": "markdown",
   "metadata": {},
   "source": [
    "### Fibonacci\n"
   ]
  },
  {
   "cell_type": "code",
   "execution_count": 48,
   "metadata": {},
   "outputs": [
    {
     "name": "stdout",
     "output_type": "stream",
     "text": [
      "8\n",
      "13\n",
      "21\n",
      "34\n",
      "55\n",
      "89\n",
      "144\n",
      "233\n",
      "377\n",
      "610\n"
     ]
    }
   ],
   "source": [
    "def fibonacci(n):\n",
    "    if n in [0, 1, 2]:\n",
    "        return n\n",
    "    return fibonacci(n - 1) + fibonacci(n - 2)\n",
    "   \n",
    "    \n",
    "for i in range(5, 15):\n",
    "    print(fibonacci(i))"
   ]
  },
  {
   "cell_type": "markdown",
   "metadata": {},
   "source": [
    "### Fibonacci with memoization"
   ]
  },
  {
   "cell_type": "code",
   "execution_count": 51,
   "metadata": {},
   "outputs": [
    {
     "data": {
      "text/plain": [
       "573147844013817084101"
      ]
     },
     "execution_count": 51,
     "metadata": {},
     "output_type": "execute_result"
    }
   ],
   "source": [
    "from functools import lru_cache\n",
    "\n",
    "@lru_cache(maxsize = 1000)\n",
    "def fibonacci(n):\n",
    "    # Check that the input is a positive integer\n",
    "    if not isinstance(n, int):\n",
    "        raise TypeError('n must be an integer')\n",
    "    if n < 1:\n",
    "        raise ValueError('n must be a positive integer')\n",
    "    \n",
    "    # Recursive part\n",
    "    if n in [0, 1, 2]:\n",
    "        return n\n",
    "    return fibonacci(n - 1) + fibonacci(n - 2)\n",
    "\n",
    "fibonacci(100)"
   ]
  },
  {
   "cell_type": "markdown",
   "metadata": {},
   "source": [
    "### Factorial"
   ]
  },
  {
   "cell_type": "code",
   "execution_count": null,
   "metadata": {},
   "outputs": [],
   "source": [
    "def factorial_recursive(n):\n",
    "    if n < 2:\n",
    "        return 1\n",
    "    else:\n",
    "        return n * factorial_recursive(n-1)"
   ]
  },
  {
   "cell_type": "code",
   "execution_count": null,
   "metadata": {},
   "outputs": [],
   "source": [
    "def factorial_iteration(n):\n",
    "    for i in n:\n",
    "        result = "
   ]
  },
  {
   "cell_type": "markdown",
   "metadata": {},
   "source": [
    "!4 = 1 * 2 * 3 "
   ]
  }
 ],
 "metadata": {
  "interpreter": {
   "hash": "05d659cf7217a31b7ba206b7e3fe1d98040361cb242cc44ce7c59206cfd427bc"
  },
  "kernelspec": {
   "display_name": "Python 3.9.5 64-bit ('spenncon': conda)",
   "name": "python3"
  },
  "language_info": {
   "codemirror_mode": {
    "name": "ipython",
    "version": 3
   },
   "file_extension": ".py",
   "mimetype": "text/x-python",
   "name": "python",
   "nbconvert_exporter": "python",
   "pygments_lexer": "ipython3",
   "version": "3.9.5"
  },
  "orig_nbformat": 4
 },
 "nbformat": 4,
 "nbformat_minor": 2
}
