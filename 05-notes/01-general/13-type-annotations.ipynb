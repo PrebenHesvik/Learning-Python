{
 "cells": [
  {
   "cell_type": "markdown",
   "metadata": {},
   "source": [
    "- Generic\n",
    "- TypeVar\n",
    "  - T = TypeVar('T', bound=Any) will make all types accepted\n",
    "- Callable\n",
    "- List[int]\n",
    "- Dict[str, int]\n",
    "- Set[str]\n",
    "- Sequence"
   ]
  },
  {
   "cell_type": "markdown",
   "metadata": {},
   "source": [
    "#### Links\n",
    "[blog.logrocket.com](https://blog.logrocket.com/understanding-type-annotation-python/)"
   ]
  },
  {
   "cell_type": "code",
   "execution_count": 8,
   "metadata": {},
   "outputs": [],
   "source": [
    "import typing as t"
   ]
  },
  {
   "cell_type": "markdown",
   "metadata": {},
   "source": [
    "### Type hints for variables"
   ]
  },
  {
   "cell_type": "code",
   "execution_count": 9,
   "metadata": {},
   "outputs": [],
   "source": [
    "name: str = 'Theo'\n",
    "age : int = 4\n",
    "height: float = 88.5\n",
    "parents: tuple[str, str] = ('Miholov', 'Marisol')\n",
    "degree: t.Any = None\n",
    "has_siblings: bool = True\n",
    "\n",
    "siblings: list[str] = ['Pablo', 'Penelope', 'Picasso']\n",
    "siblings_age: dict[str, int] = {\n",
    "    'Pablo': 15, \n",
    "    'Penelope': 13,\n",
    "    'Picasso': 8\n",
    "}"
   ]
  },
  {
   "cell_type": "markdown",
   "metadata": {},
   "source": [
    "### Tuple"
   ]
  },
  {
   "cell_type": "markdown",
   "metadata": {},
   "source": [
    "When we don't know the number of elements our tuple will contain"
   ]
  },
  {
   "cell_type": "code",
   "execution_count": 18,
   "metadata": {},
   "outputs": [],
   "source": [
    "my_tuple_of_ints = tuple[int, ...]"
   ]
  },
  {
   "cell_type": "markdown",
   "metadata": {},
   "source": [
    "### NamedTuple\n",
    "- To annotate a named tuple, you need to define a class that inherits from NamedTuple. \n",
    "- The class fields define the elements and their types."
   ]
  },
  {
   "cell_type": "code",
   "execution_count": null,
   "metadata": {},
   "outputs": [],
   "source": [
    "from typing import NamedTuple\n",
    "\n",
    "class StudentTuple(NamedTuple):\n",
    "    name: str\n",
    "    age: int\n",
    "\n",
    "john = StudentTuple(\"John Doe\", 33)\n",
    "\n",
    "def student_info(student: StudentTuple) -> None:\n",
    "    name, age = student\n",
    "    print(f\"Name: {name}\\nAge: {age}\")"
   ]
  },
  {
   "cell_type": "markdown",
   "metadata": {},
   "source": [
    "### Type hints in functions"
   ]
  },
  {
   "cell_type": "code",
   "execution_count": null,
   "metadata": {},
   "outputs": [],
   "source": [
    "def ceasar(text: str, key: int) -> str:\n",
    "    \"String encryption\"\n",
    "    result: str = ''\n",
    "    for char in text:\n",
    "        c: int = ord(char)\n",
    "        enc_char: str = chr(c + key)\n",
    "        result += enc_char\n",
    "    return result"
   ]
  },
  {
   "cell_type": "markdown",
   "metadata": {},
   "source": [
    "### Type aliases"
   ]
  },
  {
   "cell_type": "code",
   "execution_count": null,
   "metadata": {},
   "outputs": [],
   "source": [
    "Vector = list[float]\n",
    "Vectors = list[Vector]\n",
    "\n",
    "def some_func(v: Vectors) -> Vectors:\n",
    "    pass"
   ]
  },
  {
   "cell_type": "code",
   "execution_count": null,
   "metadata": {},
   "outputs": [],
   "source": [
    "from collections.abc import Sequence\n",
    "\n",
    "ConnectionOptions = dict[str, str]\n",
    "Address = tuple[str, int]\n",
    "Server = tuple[Address, ConnectionOptions]\n",
    "\n",
    "def broadcast_message(message: str, servers: Sequence[Server]) -> None:\n",
    "    pass"
   ]
  },
  {
   "cell_type": "markdown",
   "metadata": {},
   "source": [
    "### Optional parameter"
   ]
  },
  {
   "cell_type": "code",
   "execution_count": null,
   "metadata": {},
   "outputs": [],
   "source": [
    "# output is an optional parameter\n",
    "def func(output: t.Optional[bool]=False):\n",
    "    pass"
   ]
  },
  {
   "cell_type": "markdown",
   "metadata": {},
   "source": [
    "### Iterable"
   ]
  },
  {
   "cell_type": "code",
   "execution_count": null,
   "metadata": {},
   "outputs": [],
   "source": [
    "# function accepts any sequence type consisting of strings\n",
    "def func(seq: t.Iterable[str]):\n",
    "    pass"
   ]
  },
  {
   "cell_type": "markdown",
   "metadata": {},
   "source": [
    "### Sequence"
   ]
  },
  {
   "cell_type": "code",
   "execution_count": null,
   "metadata": {},
   "outputs": [],
   "source": [
    "# function accepts any sequence type consisting of strings\n",
    "def func(seq: t.Sequence[str]):\n",
    "    pass"
   ]
  },
  {
   "cell_type": "markdown",
   "metadata": {},
   "source": [
    "### Any"
   ]
  },
  {
   "cell_type": "code",
   "execution_count": null,
   "metadata": {},
   "outputs": [],
   "source": [
    "# function accepts any type\n",
    "def func(*args: t.Any, **kwargs: t.Any) -> None:\n",
    "    print(args, kwargs)"
   ]
  },
  {
   "cell_type": "markdown",
   "metadata": {},
   "source": [
    "### Callable"
   ]
  },
  {
   "cell_type": "code",
   "execution_count": null,
   "metadata": {},
   "outputs": [],
   "source": [
    "def add_numbers(a: int, b: int, c: t.Optional[int] = 2) -> int:\n",
    "    return a + b\n",
    "\n",
    "def subtract_numbers(a: int, b: int, c: t.Optional[int] = 2) -> int:\n",
    "    return a - b\n",
    "\n",
    "C = t.Callable[[int, int, t.Optional[int]], int]\n",
    "def run_func(func: C, a: int, b: int) -> int:\n",
    "    return func(a, b)"
   ]
  },
  {
   "cell_type": "code",
   "execution_count": 14,
   "metadata": {},
   "outputs": [],
   "source": [
    "C = t.Callable[[int, int, t.Optional[int]], int]\n",
    "func: C = lambda a, b, c=30: a + b + c \n",
    "func(10, 20)"
   ]
  },
  {
   "cell_type": "markdown",
   "metadata": {},
   "source": [
    "### TypeVar"
   ]
  },
  {
   "cell_type": "code",
   "execution_count": 15,
   "metadata": {},
   "outputs": [
    {
     "data": {
      "text/plain": [
       "60"
      ]
     },
     "execution_count": 15,
     "metadata": {},
     "output_type": "execute_result"
    }
   ],
   "source": [
    "# T is a placeholder variable\n",
    "T = t.TypeVar('T')\n",
    "\n",
    "def get_item(lst: list[T], index: int) -> T:\n",
    "    return lst[index]"
   ]
  },
  {
   "cell_type": "markdown",
   "metadata": {},
   "source": [
    "### Union\n",
    "- When a variable can be of different types "
   ]
  },
  {
   "cell_type": "code",
   "execution_count": 4,
   "metadata": {},
   "outputs": [
    {
     "data": {
      "text/plain": [
       "12.5"
      ]
     },
     "execution_count": 4,
     "metadata": {},
     "output_type": "execute_result"
    }
   ],
   "source": [
    "def add_numbers(a: t.Union[int, float], b: t.Union[int, float]) -> t.Union[int, float]:\n",
    "    return a + b"
   ]
  },
  {
   "cell_type": "code",
   "execution_count": null,
   "metadata": {},
   "outputs": [],
   "source": [
    "T = t.Union[int, float]\n",
    "\n",
    "def add_numbers(a: T, b: T) -> T:\n",
    "    return a + b"
   ]
  },
  {
   "cell_type": "markdown",
   "metadata": {},
   "source": [
    "##### Union in Python 3.10"
   ]
  },
  {
   "cell_type": "code",
   "execution_count": null,
   "metadata": {},
   "outputs": [],
   "source": [
    "def square(number: int | float) -> int | float:\n",
    "    return number ** 2"
   ]
  },
  {
   "cell_type": "code",
   "execution_count": null,
   "metadata": {},
   "outputs": [],
   "source": [
    "T = int | float\n",
    "def square(number: T) -> T:\n",
    "    return number ** 2"
   ]
  },
  {
   "cell_type": "markdown",
   "metadata": {},
   "source": [
    "### Mapping\n",
    "- When we used the dict type we limit the arguments that the function can take to dict, defaultDict and OrderedDict.\n",
    "- Mapping can be used to allow for other dict types such as UserDict, ChainMap"
   ]
  },
  {
   "cell_type": "code",
   "execution_count": null,
   "metadata": {},
   "outputs": [],
   "source": [
    "from collections.abc import Mapping\n",
    "\n",
    "def get_full_name(student: Mapping[str, str]) -> str:\n",
    "    return f'{student.get(\"first_name\")} {student.get(\"last_name\")}'"
   ]
  },
  {
   "cell_type": "markdown",
   "metadata": {},
   "source": [
    "### MutableMapping\n",
    "- Use MutableMapping as a type hint in a parameter when the function needs to mutate the dictionary or its subtypes. "
   ]
  },
  {
   "cell_type": "code",
   "execution_count": null,
   "metadata": {},
   "outputs": [],
   "source": [
    "from collections.abc import MutableMapping\n",
    "\n",
    "def update_first_name(student: MutableMapping[str, str], first_name: str) -> None:\n",
    "    student[\"first_name\"] = first_name"
   ]
  },
  {
   "cell_type": "markdown",
   "metadata": {},
   "source": [
    "### TypedDict\n",
    "- TypedDict can be used when we have a dictionary that contains different types of data inside it."
   ]
  },
  {
   "cell_type": "code",
   "execution_count": null,
   "metadata": {},
   "outputs": [],
   "source": [
    "from typing import TypedDict\n",
    "\n",
    "class StudentDict(TypedDict):\n",
    "    first_name: str\n",
    "    last_name: str\n",
    "    age: int\n",
    "    hobbies: list[str]"
   ]
  },
  {
   "cell_type": "code",
   "execution_count": null,
   "metadata": {},
   "outputs": [],
   "source": [
    "student1: StudentDict = {\n",
    "    \"first_name\": \"John\",\n",
    "    \"last_name\": \"Doe\",\n",
    "    \"age\": 18,\n",
    "    \"hobbies\": [\"singing\", \"dancing\"],\n",
    "}"
   ]
  },
  {
   "cell_type": "code",
   "execution_count": null,
   "metadata": {},
   "outputs": [],
   "source": [
    "def get_full_name(student: StudentDict) -> str:\n",
    "    return f'{student.get(\"first_name\")} {student.get(\"last_name\")}'"
   ]
  },
  {
   "cell_type": "markdown",
   "metadata": {},
   "source": [
    "#### NewType"
   ]
  },
  {
   "cell_type": "code",
   "execution_count": null,
   "metadata": {},
   "outputs": [],
   "source": [
    "from typing import NewType\n",
    "\n",
    "UserId = NewType('UserId', int)\n",
    "some_id = UserId(524313)"
   ]
  },
  {
   "cell_type": "markdown",
   "metadata": {},
   "source": [
    "### Generics"
   ]
  },
  {
   "cell_type": "code",
   "execution_count": null,
   "metadata": {},
   "outputs": [],
   "source": [
    "from collections.abc import Mapping, Sequence\n",
    "\n",
    "def notify_by_email(employees: Sequence[Employee],\n",
    "                    overrides: Mapping[str, str]) -> None: ..."
   ]
  },
  {
   "cell_type": "markdown",
   "metadata": {},
   "source": [
    "### Type hinting in classes"
   ]
  },
  {
   "cell_type": "code",
   "execution_count": null,
   "metadata": {},
   "outputs": [],
   "source": [
    "from numbers import Real\n",
    "\n",
    "# Polygon: list of points\n",
    "class Point:\n",
    "    def __init__(self, x: Real, y: Real):\n",
    "        if isinstance(x, Real) and isinstance(y, Real):\n",
    "            self._pt = (x, y)\n",
    "        else:\n",
    "            raise TypeError('Point co-ordinates must be real numbers')\n",
    "            \n",
    "    def __repr__(self):\n",
    "        return f'Point(x={self._pt[0]}, y={self._pt[1]})'\n",
    "    \n",
    "\n",
    "class Polygon:\n",
    "    def __init__(self, *pts: t.Sequence[Point]):\n",
    "        if pts: \n",
    "            self._pts = [Point(*pt) for pt in pts]\n",
    "        else:\n",
    "            self._pts = []\n",
    "    \n",
    "    def __repr__(self):\n",
    "        pts_str = ', '.join([str(pt) for pt in self._pts])\n",
    "        return f'Polygon({pts_str})'"
   ]
  },
  {
   "cell_type": "code",
   "execution_count": null,
   "metadata": {},
   "outputs": [],
   "source": [
    "class User:\n",
    "    id: int = id\n",
    "    name: str = name\n",
    "    \n",
    "    @classmethod\n",
    "    # we have to use quotes around User because because the \n",
    "    # User class has not been fully created yet\n",
    "    def create_user(cls, id: int, name: str) -> \"User\":\n",
    "        return cls(id=id, name=name)"
   ]
  },
  {
   "cell_type": "markdown",
   "metadata": {},
   "source": [
    "### Other"
   ]
  },
  {
   "cell_type": "code",
   "execution_count": null,
   "metadata": {},
   "outputs": [],
   "source": [
    "import pandas as pd\n",
    "\n",
    "def clean_dataframe(df: pd.DataFrame) -> pd.DataFrame:\n",
    "    pass"
   ]
  },
  {
   "cell_type": "markdown",
   "metadata": {},
   "source": [
    "Mypy\n",
    "- mypy `--strict` file.py\n",
    "- mypy `--disallow-incomplete-defs` file.py\n",
    "\n",
    "<br><br>\n",
    "\n",
    "mypy allows you save the options in a `mypy.ini` file. When running mypy, it will check the file and run with the options saved in the file.\n",
    "\n",
    "        [mypy]\n",
    "        python_version = 3.10\n",
    "        disallow_incomplete_defs = True"
   ]
  }
 ],
 "metadata": {
  "interpreter": {
   "hash": "ecf5722fdaf1897a315d257d89d94520bfcaa453217d5becf09b39e73618b0de"
  },
  "kernelspec": {
   "display_name": "Python 3.9.7 ('base')",
   "language": "python",
   "name": "python3"
  },
  "language_info": {
   "codemirror_mode": {
    "name": "ipython",
    "version": 3
   },
   "file_extension": ".py",
   "mimetype": "text/x-python",
   "name": "python",
   "nbconvert_exporter": "python",
   "pygments_lexer": "ipython3",
   "version": "3.10.0"
  },
  "orig_nbformat": 4
 },
 "nbformat": 4,
 "nbformat_minor": 2
}
