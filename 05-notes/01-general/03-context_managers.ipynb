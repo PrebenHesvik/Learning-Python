{
 "cells": [
  {
   "cell_type": "code",
   "execution_count": 1,
   "metadata": {},
   "outputs": [],
   "source": [
    "from contextlib import contextmanager\n",
    "import os"
   ]
  },
  {
   "cell_type": "code",
   "execution_count": 2,
   "metadata": {},
   "outputs": [
    {
     "name": "stdout",
     "output_type": "stream",
     "text": [
      "You can do this!\n",
      "True\n"
     ]
    }
   ],
   "source": [
    "\"\"\"\n",
    "CONTEXT MANAGER\n",
    "- Uses the 'With-statement'\n",
    "- Can be used with:\n",
    "    - files\n",
    "    - databases\n",
    "    -\n",
    "\"\"\"\n",
    "\n",
    "\"\"\" USING CLASSES \"\"\"\n",
    "class Open_File():\n",
    "\n",
    "    def __init__(self, filename, mode):\n",
    "        self.filename = filename\n",
    "        self.mode = mode\n",
    "\n",
    "    def __enter__(self):\n",
    "        self.file = open(self.filename, self.mode)\n",
    "\n",
    "        return self.file\n",
    "\n",
    "    def __exit__(self, exc_type, exc_val, traceback):\n",
    "        self.file.close()\n",
    "\n",
    "\n",
    "with Open_File('sample_text.text', 'r') as f:\n",
    "    content = f.read()\n",
    "\n",
    "print(content)\n",
    "print(f.closed)"
   ]
  },
  {
   "cell_type": "code",
   "execution_count": 7,
   "metadata": {},
   "outputs": [
    {
     "name": "stdout",
     "output_type": "stream",
     "text": [
      "python_file.py\n",
      "True\n"
     ]
    }
   ],
   "source": [
    "\"\"\" USING FUNCTIONS \"\"\"\n",
    "\n",
    "from contextlib import contextmanager\n",
    "\n",
    "# To used the contextmanager decorator, the function\n",
    "# has to be a **generator** function.\n",
    "\n",
    "@contextmanager\n",
    "def open_file(file, mode):\n",
    "    try:\n",
    "        f = open(file, mode)\n",
    "        yield f     # <--- equivalent to what runs inside the with statement\n",
    "    finally:\n",
    "        f.close()   # <---  equivalent to the __exit__ function\n",
    "\n",
    "\n",
    "with open_file('../../sample_file.txt', 'r') as f:\n",
    "    content = f.read()\n",
    "\n",
    "print(content)\n",
    "print(f.closed)"
   ]
  },
  {
   "cell_type": "code",
   "execution_count": 6,
   "metadata": {},
   "outputs": [
    {
     "name": "stdout",
     "output_type": "stream",
     "text": [
      "['error-handling.ipynb', 'exc_logger.log']\n"
     ]
    }
   ],
   "source": [
    "\"\"\" ONE MORE EXAMPLE:\n",
    "    - We can create a context manager to change into a directory\n",
    "        to perform an action, and then go back again when the\n",
    "        'with-statement' ends.\n",
    "\"\"\"\n",
    "\n",
    "\n",
    "@contextmanager\n",
    "def change_dir(destination):\n",
    "    try:\n",
    "        cwd = os.getcwd()\n",
    "        os.chdir(destination)\n",
    "        yield\n",
    "    finally:\n",
    "        os.chdir(cwd)\n",
    "\n",
    "\n",
    "with change_dir('error-handling'):\n",
    "    print(os.listdir())"
   ]
  },
  {
   "cell_type": "code",
   "execution_count": 12,
   "metadata": {},
   "outputs": [
    {
     "name": "stdout",
     "output_type": "stream",
     "text": [
      "stopping database\n",
      "\tperforming a backup of the database\n",
      "starting database\n"
     ]
    }
   ],
   "source": [
    "def database_backup():\n",
    "    print('\\tperforming a backup of the database')\n",
    "\n",
    "def stop_database():\n",
    "    print('stopping database')\n",
    "    \n",
    "def start_database():\n",
    "    print('starting database')\n",
    "\n",
    "@contextmanager\n",
    "def database_handler():\n",
    "    try:\n",
    "        stop_database()\n",
    "        yield\n",
    "    finally:\n",
    "        start_database()\n",
    "        \n",
    "with database_handler():\n",
    "    database_backup()"
   ]
  },
  {
   "cell_type": "code",
   "execution_count": 8,
   "metadata": {},
   "outputs": [
    {
     "name": "stdout",
     "output_type": "stream",
     "text": [
      "doing something here\n"
     ]
    }
   ],
   "source": [
    "import sqlite3\n",
    "\n",
    "class SQLite:\n",
    "    \n",
    "    def __init__(self, filename='application.db'):\n",
    "        self.file = filename\n",
    "    \n",
    "    def __enter__(self):\n",
    "        self.conn = sqlite3.connect(self.file)\n",
    "\n",
    "    def __exit__(self, *args, **kwargs):\n",
    "        self.conn.close()\n",
    "\n",
    "\n",
    "\n",
    "with SQLite('application.db'):\n",
    "    # do some stuff here\n",
    "    # connection will close automatically\n",
    "    print('doing something here')\n",
    "\n",
    "\n",
    "\n"
   ]
  },
  {
   "cell_type": "markdown",
   "metadata": {},
   "source": [
    "#### Using contextlib.ContextDecorator"
   ]
  },
  {
   "cell_type": "code",
   "execution_count": 17,
   "metadata": {},
   "outputs": [
    {
     "name": "stdout",
     "output_type": "stream",
     "text": [
      "stopping database\n",
      "\tperforming a backup of the database\n",
      "starting database\n"
     ]
    }
   ],
   "source": [
    "from contextlib import ContextDecorator\n",
    "\n",
    "def stop_database():\n",
    "    print('stopping database')\n",
    "    \n",
    "    \n",
    "def start_database():\n",
    "    print('starting database')\n",
    "\n",
    "\n",
    "class dbhandler_decorator(ContextDecorator):\n",
    "    def __enter__(self):\n",
    "        stop_database()\n",
    "        return self\n",
    "    \n",
    "    def __exit__(self, ext_type, ex_value, ex_traceback):\n",
    "        start_database()\n",
    "        \n",
    "        \n",
    "@dbhandler_decorator()        \n",
    "def database_backup():\n",
    "    print('\\tperforming a backup of the database')\n",
    "        \n",
    "database_backup()   "
   ]
  }
 ],
 "metadata": {
  "interpreter": {
   "hash": "507de2949f96cf2a8cd444545416ece97be4602621bb9b81d732798e663a33bf"
  },
  "kernelspec": {
   "display_name": "Python 3.9.2 64-bit ('spenncon': conda)",
   "name": "python3"
  },
  "language_info": {
   "codemirror_mode": {
    "name": "ipython",
    "version": 3
   },
   "file_extension": ".py",
   "mimetype": "text/x-python",
   "name": "python",
   "nbconvert_exporter": "python",
   "pygments_lexer": "ipython3",
   "version": "3.9.7"
  },
  "orig_nbformat": 4
 },
 "nbformat": 4,
 "nbformat_minor": 2
}
