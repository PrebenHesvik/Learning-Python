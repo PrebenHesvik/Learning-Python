{
 "cells": [
  {
   "cell_type": "markdown",
   "source": [
    "### Merge Sort\r\n",
    "[SnS Learning YouTube video](https://www.youtube.com/watch?v=9NdghEeWU-8)"
   ],
   "metadata": {}
  },
  {
   "cell_type": "code",
   "execution_count": null,
   "source": [
    "def merge(left, right):\r\n",
    "    \"\"\"Merge sort merging function.\"\"\"\r\n",
    "    \r\n",
    "    left_index, right_index = 0, 0\r\n",
    "    result = []\r\n",
    "    while left_index < len(left) and right_index < len(right):\r\n",
    "        if left[left_index] < right[right_index]:\r\n",
    "            result.append(left[left_index])\r\n",
    "            left_index += 1\r\n",
    "        else:\r\n",
    "            result.append(right[right_index])\r\n",
    "            right_index += 1\r\n",
    "    \r\n",
    "    result += left[left_index:]\r\n",
    "    result += right[right_index]\r\n",
    "    return result\r\n",
    "    \r\n",
    "\r\n",
    "\r\n",
    "def merge_sort(array):\r\n",
    "    \"\"\"Merge sort algorithm implementation.\"\"\"\r\n",
    "    \r\n",
    "    if len(array) <= 0:\r\n",
    "        return array\r\n",
    "    \r\n",
    "    mid = len(array) // 2\r\n",
    "    left = array[:mid]\r\n",
    "    right = array[mid:]\r\n",
    "    \r\n",
    "    return merge(left, right)\r\n",
    "        "
   ],
   "outputs": [],
   "metadata": {}
  }
 ],
 "metadata": {
  "orig_nbformat": 4,
  "language_info": {
   "name": "python"
  }
 },
 "nbformat": 4,
 "nbformat_minor": 2
}