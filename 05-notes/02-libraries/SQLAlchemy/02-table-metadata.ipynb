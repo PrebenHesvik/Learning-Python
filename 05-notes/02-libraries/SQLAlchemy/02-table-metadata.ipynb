{
 "cells": [
  {
   "cell_type": "code",
   "execution_count": 34,
   "metadata": {},
   "outputs": [],
   "source": [
    "from sqlalchemy import MetaData\n",
    "from sqlalchemy import Table, Column\n",
    "from sqlalchemy import Integer, String\n",
    "from sqlalchemy import select\n",
    "\n",
    "from sqlalchemy import create_engine"
   ]
  },
  {
   "cell_type": "markdown",
   "metadata": {},
   "source": [
    "## What is database metadata?\n",
    "- Describes the structure of the database, i.e tables, columns, constraints, in terms of data structures in Python\n",
    "- Serves as the basis for SQL generation and object relational mapping\n",
    "- Can generate to a schema, i.e turned into DDL that is emitted to the database\n",
    "- Can be generated from a schema, i.e database introspection is performed to generate Python structures that represent existing tables, constraints, etc. \n",
    "- Forms the basis for database migration tools like SQLAlchemy Alembic\n"
   ]
  },
  {
   "cell_type": "code",
   "execution_count": 28,
   "metadata": {},
   "outputs": [],
   "source": [
    "metadata = MetaData()\n",
    "user_table = Table(\n",
    "    \"user_account\",\n",
    "    metadata,\n",
    "    Column(\"id\", Integer, primary_key=True),\n",
    "    Column(\"username\", String(50), nullable=False),\n",
    "    Column(\"fullname\", String(255)),\n",
    ")"
   ]
  },
  {
   "cell_type": "code",
   "execution_count": 29,
   "metadata": {},
   "outputs": [
    {
     "data": {
      "text/plain": [
       "'user_account'"
      ]
     },
     "execution_count": 29,
     "metadata": {},
     "output_type": "execute_result"
    }
   ],
   "source": [
    "# Table provides a single point of information regarding\n",
    "# the structure of a table in a schema.\n",
    "user_table.name"
   ]
  },
  {
   "cell_type": "code",
   "execution_count": 30,
   "metadata": {},
   "outputs": [
    {
     "data": {
      "text/plain": [
       "Column('username', String(length=50), table=<user_account>, nullable=False)"
      ]
     },
     "execution_count": 30,
     "metadata": {},
     "output_type": "execute_result"
    }
   ],
   "source": [
    "# The .c. attribute of Table is an associative array\n",
    "# of Column objects, keyed on name.\n",
    "user_table.c.username"
   ]
  },
  {
   "cell_type": "code",
   "execution_count": 31,
   "metadata": {},
   "outputs": [
    {
     "name": "stdout",
     "output_type": "stream",
     "text": [
      "username  -  VARCHAR(50)\n"
     ]
    }
   ],
   "source": [
    "print(user_table.c.username.name,' - ', user_table.c.username.type)"
   ]
  },
  {
   "cell_type": "code",
   "execution_count": 32,
   "metadata": {},
   "outputs": [
    {
     "name": "stdout",
     "output_type": "stream",
     "text": [
      "ImmutableColumnCollection(user_account.id, user_account.username, user_account.fullname)\n"
     ]
    }
   ],
   "source": [
    "# It's a bit like a Python dictionary but not totally.\n",
    "print(user_table.c)"
   ]
  },
  {
   "cell_type": "code",
   "execution_count": 33,
   "metadata": {},
   "outputs": [
    {
     "data": {
      "text/plain": [
       "PrimaryKeyConstraint(Column('id', Integer(), table=<user_account>, primary_key=True, nullable=False))"
      ]
     },
     "execution_count": 33,
     "metadata": {},
     "output_type": "execute_result"
    }
   ],
   "source": [
    "# Table has other information available, such as the collection\n",
    "# of columns which comprise the table's primary key.\n",
    "user_table.primary_key"
   ]
  },
  {
   "cell_type": "code",
   "execution_count": 27,
   "metadata": {},
   "outputs": [
    {
     "name": "stdout",
     "output_type": "stream",
     "text": [
      "SELECT user_account.id, user_account.username, user_account.fullname \n",
      "FROM user_account\n"
     ]
    }
   ],
   "source": [
    "# The Table object is at the core of the SQL expression\n",
    "# system - this is a quick preview of that.\n",
    "print(select(user_table))"
   ]
  },
  {
   "cell_type": "code",
   "execution_count": 36,
   "metadata": {},
   "outputs": [],
   "source": [
    "# create in-memory-only database\n",
    "engine = create_engine('sqlite://', future=True)"
   ]
  },
  {
   "cell_type": "code",
   "execution_count": 37,
   "metadata": {},
   "outputs": [],
   "source": [
    "metadata = MetaData()\n",
    "user_table = Table(\n",
    "    \"user_account\",\n",
    "    metadata,\n",
    "    Column(\"id\", Integer, primary_key=True),\n",
    "    Column(\"username\", String(50), nullable=False),\n",
    "    Column(\"fullname\", String(255)),\n",
    ")\n",
    "\n",
    "# Table and MetaData objects can be used to generate a schema\n",
    "# in a database; MetaData features the create_all() method.\n",
    "with engine.begin() as conn:\n",
    "    metadata.create_all(conn)"
   ]
  },
  {
   "cell_type": "code",
   "execution_count": 38,
   "metadata": {},
   "outputs": [
    {
     "name": "stdout",
     "output_type": "stream",
     "text": [
      "dict_keys(['user_account', 'fancy'])\n"
     ]
    },
    {
     "data": {
      "text/plain": [
       "Table('fancy', MetaData(), Column('key', String(length=50), table=<fancy>, primary_key=True, nullable=False), Column('timestamp', DateTime(), table=<fancy>), Column('amount', Numeric(precision=10, scale=2), table=<fancy>), Column('type', Enum('a', 'b', 'c'), table=<fancy>), schema=None)"
      ]
     },
     "execution_count": 38,
     "metadata": {},
     "output_type": "execute_result"
    }
   ],
   "source": [
    "# Types are represented using objects such as String, Integer,\n",
    "# DateTime.  These objects can be specified as \"class keywords\",\n",
    "# or can be instantiated with arguments.\n",
    "\n",
    "from sqlalchemy import String, Numeric, DateTime, Enum\n",
    "\n",
    "fancy_table = Table(\n",
    "    \"fancy\",\n",
    "    metadata,\n",
    "    Column(\"key\", String(50), primary_key=True),\n",
    "    Column(\"timestamp\", DateTime),\n",
    "    Column(\"amount\", Numeric(10, 2)),\n",
    "    Column(\"type\", Enum(\"a\", \"b\", \"c\")),\n",
    ")\n",
    "\n",
    "with engine.begin() as conn:\n",
    "    fancy_table.create(conn)\n",
    "    \n",
    "# at this point, the two Table objects we've created are part of a collection\n",
    "# in the MetaData object called .tables\n",
    "print(metadata.tables.keys())\n",
    "metadata.tables['fancy']"
   ]
  },
  {
   "cell_type": "code",
   "execution_count": 39,
   "metadata": {},
   "outputs": [
    {
     "name": "stdout",
     "output_type": "stream",
     "text": [
      "dict_keys(['user_account', 'fancy', 'email_address'])\n"
     ]
    },
    {
     "data": {
      "text/plain": [
       "Table('email_address', MetaData(), Column('id', Integer(), table=<email_address>, primary_key=True, nullable=False), Column('email_address', String(length=100), table=<email_address>, nullable=False), Column('user_id', Integer(), ForeignKey('user_account.id'), table=<email_address>, nullable=False), schema=None)"
      ]
     },
     "execution_count": 39,
     "metadata": {},
     "output_type": "execute_result"
    }
   ],
   "source": [
    "# table metadata also allows for constraints and indexes.\n",
    "# ForeignKey is used to link one column to a remote primary\n",
    "# key.  Note we can omit the datatype for a ForeignKey column.\n",
    "\n",
    "from sqlalchemy import ForeignKey\n",
    "\n",
    "addresses_table = Table(\n",
    "    \"email_address\",\n",
    "    metadata,\n",
    "    Column(\"id\", Integer, primary_key=True),\n",
    "    Column(\"email_address\", String(100), nullable=False),\n",
    "    Column(\"user_id\", ForeignKey(\"user_account.id\"), nullable=False),\n",
    ")\n",
    "\n",
    "with engine.begin() as conn:\n",
    "    addresses_table.create(conn)\n",
    "    \n",
    "print(metadata.tables.keys())\n",
    "metadata.tables['email_address']"
   ]
  },
  {
   "cell_type": "code",
   "execution_count": 46,
   "metadata": {},
   "outputs": [],
   "source": [
    "# ForeignKey is a shortcut for ForeignKeyConstraint,\n",
    "# which should be used for composite references.\n",
    "\n",
    "from sqlalchemy import ForeignKeyConstraint\n",
    "from sqlalchemy import Text\n",
    "\n",
    "story_table = Table(\n",
    "    \"story\",\n",
    "    metadata,\n",
    "    Column(\"story_id\", Integer, primary_key=True),\n",
    "    Column(\"version_id\", Integer, primary_key=True),\n",
    "    Column(\"headline\", String(100), nullable=False),\n",
    "    Column(\"body\", Text),\n",
    ")\n",
    "\n",
    "published_table = Table(\n",
    "    \"published\",\n",
    "    metadata,\n",
    "    Column(\"pub_id\", Integer, primary_key=True),\n",
    "    Column(\"pub_timestamp\", DateTime, nullable=False),\n",
    "    Column(\"story_id\", Integer),\n",
    "    Column(\"version_id\", Integer),\n",
    "    ForeignKeyConstraint(\n",
    "        [\"story_id\", \"version_id\"], [\"story.story_id\", \"story.version_id\"]\n",
    "    ),\n",
    ")\n",
    "\n",
    "### slide:: p\n",
    "# create_all() by default checks for tables existing already\n",
    "with engine.begin() as conn:\n",
    "    metadata.create_all(conn)"
   ]
  },
  {
   "cell_type": "code",
   "execution_count": 40,
   "metadata": {},
   "outputs": [
    {
     "name": "stdout",
     "output_type": "stream",
     "text": [
      "ImmutableColumnCollection(user_account.id, user_account.username, user_account.fullname)\n",
      "PrimaryKeyConstraint(Column('id', INTEGER(), table=<user_account>, primary_key=True, nullable=False))\n",
      "SELECT user_account.id, user_account.username, user_account.fullname \n",
      "FROM user_account\n"
     ]
    }
   ],
   "source": [
    "# 'reflection' refers to loading Table objects based on\n",
    "# reading from an existing database.\n",
    "metadata2 = MetaData()\n",
    "\n",
    "with engine.connect() as conn:\n",
    "    user_reflected = Table(\"user_account\", metadata2, autoload_with=conn)\n",
    "    \n",
    "# the user_reflected object is now filled in with all the columns\n",
    "# and constraints and is ready to use\n",
    "print(user_reflected.c)\n",
    "print(user_reflected.primary_key)\n",
    "print(select(user_reflected))"
   ]
  },
  {
   "cell_type": "code",
   "execution_count": 41,
   "metadata": {},
   "outputs": [],
   "source": [
    "# Information about a database at a more specific level is available\n",
    "# using the Inspector object.\n",
    "\n",
    "from sqlalchemy import inspect\n",
    "\n",
    "# inspector will work with an engine or a conneciton.\n",
    "# no plans to change that :)\n",
    "inspector = inspect(engine)"
   ]
  },
  {
   "cell_type": "code",
   "execution_count": 42,
   "metadata": {},
   "outputs": [
    {
     "data": {
      "text/plain": [
       "['email_address', 'fancy', 'user_account']"
      ]
     },
     "execution_count": 42,
     "metadata": {},
     "output_type": "execute_result"
    }
   ],
   "source": [
    "# the inspector provides things like table names:\n",
    "inspector.get_table_names()"
   ]
  },
  {
   "cell_type": "code",
   "execution_count": 43,
   "metadata": {},
   "outputs": [
    {
     "data": {
      "text/plain": [
       "[{'name': 'id',\n",
       "  'type': INTEGER(),\n",
       "  'nullable': False,\n",
       "  'default': None,\n",
       "  'autoincrement': 'auto',\n",
       "  'primary_key': 1},\n",
       " {'name': 'email_address',\n",
       "  'type': VARCHAR(length=100),\n",
       "  'nullable': False,\n",
       "  'default': None,\n",
       "  'autoincrement': 'auto',\n",
       "  'primary_key': 0},\n",
       " {'name': 'user_id',\n",
       "  'type': INTEGER(),\n",
       "  'nullable': False,\n",
       "  'default': None,\n",
       "  'autoincrement': 'auto',\n",
       "  'primary_key': 0}]"
      ]
     },
     "execution_count": 43,
     "metadata": {},
     "output_type": "execute_result"
    }
   ],
   "source": [
    "### slide:: p\n",
    "# column information\n",
    "inspector.get_columns(\"email_address\")"
   ]
  },
  {
   "cell_type": "code",
   "execution_count": 44,
   "metadata": {},
   "outputs": [
    {
     "data": {
      "text/plain": [
       "[{'name': None,\n",
       "  'constrained_columns': ['user_id'],\n",
       "  'referred_schema': None,\n",
       "  'referred_table': 'user_account',\n",
       "  'referred_columns': ['id'],\n",
       "  'options': {}}]"
      ]
     },
     "execution_count": 44,
     "metadata": {},
     "output_type": "execute_result"
    }
   ],
   "source": [
    "### slide:: p\n",
    "# constraints\n",
    "inspector.get_foreign_keys(\"email_address\")"
   ]
  },
  {
   "cell_type": "code",
   "execution_count": 47,
   "metadata": {},
   "outputs": [
    {
     "name": "stdout",
     "output_type": "stream",
     "text": [
      "SELECT story.story_id, story.version_id, story.headline, story.body \n",
      "FROM story JOIN published ON story.story_id = published.story_id AND story.version_id = published.version_id\n"
     ]
    }
   ],
   "source": [
    "# The MetaData object also includes a feature that will reflect all the\n",
    "# tables in a particular schema at once.\n",
    "\n",
    "metadata3 = MetaData()\n",
    "with engine.connect() as conn:\n",
    "    metadata3.reflect(conn)\n",
    "    \n",
    "# the Table objects are then in the metadata.tables collection\n",
    "story, published = metadata3.tables['story'], metadata3.tables['published']\n",
    "print(select(story).join(published))"
   ]
  }
 ],
 "metadata": {
  "interpreter": {
   "hash": "05d659cf7217a31b7ba206b7e3fe1d98040361cb242cc44ce7c59206cfd427bc"
  },
  "kernelspec": {
   "display_name": "Python 3.9.5 64-bit ('spenncon': conda)",
   "name": "python3"
  },
  "language_info": {
   "codemirror_mode": {
    "name": "ipython",
    "version": 3
   },
   "file_extension": ".py",
   "mimetype": "text/x-python",
   "name": "python",
   "nbconvert_exporter": "python",
   "pygments_lexer": "ipython3",
   "version": "3.9.5"
  },
  "orig_nbformat": 4
 },
 "nbformat": 4,
 "nbformat_minor": 2
}
