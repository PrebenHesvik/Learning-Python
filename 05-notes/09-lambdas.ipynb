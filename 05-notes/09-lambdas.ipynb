{
 "metadata": {
  "language_info": {
   "codemirror_mode": {
    "name": "ipython",
    "version": 3
   },
   "file_extension": ".py",
   "mimetype": "text/x-python",
   "name": "python",
   "nbconvert_exporter": "python",
   "pygments_lexer": "ipython3",
   "version": "3.9.2"
  },
  "orig_nbformat": 4,
  "kernelspec": {
   "name": "python3",
   "display_name": "Python 3.9.2 64-bit ('spenncon': conda)"
  },
  "interpreter": {
   "hash": "507de2949f96cf2a8cd444545416ece97be4602621bb9b81d732798e663a33bf"
  }
 },
 "nbformat": 4,
 "nbformat_minor": 2,
 "cells": [
  {
   "cell_type": "code",
   "execution_count": 1,
   "metadata": {},
   "outputs": [
    {
     "output_type": "execute_result",
     "data": {
      "text/plain": [
       "<function __main__.<lambda>(x)>"
      ]
     },
     "metadata": {},
     "execution_count": 1
    }
   ],
   "source": [
    "''' Objective: multiplying a value by 2 '''\n",
    "#regular method:\n",
    "def double(x):\n",
    "    return x * 2\n",
    "\n",
    "#lambda:\n",
    "lambda x:2*x \n",
    "    # x is the paramenter(s)\n",
    "    # 2*x is the returns"
   ]
  },
  {
   "cell_type": "code",
   "execution_count": 2,
   "metadata": {},
   "outputs": [
    {
     "output_type": "execute_result",
     "data": {
      "text/plain": [
       "<function __main__.<lambda>(x, y)>"
      ]
     },
     "metadata": {},
     "execution_count": 2
    }
   ],
   "source": [
    "''' Objective: add two values '''\n",
    "#regular function:\n",
    "def add(x,y):\n",
    "    return x + y\n",
    "\n",
    "#lambda\n",
    "lambda x,y: x + y\n"
   ]
  },
  {
   "cell_type": "code",
   "execution_count": 3,
   "metadata": {},
   "outputs": [
    {
     "output_type": "stream",
     "name": "stdout",
     "text": [
      "['Isaac Asimov', 'Ray Bradbury', 'Orson Scott Card', 'Robert Heinlein', 'Artur C. Clarke, H.G. Wells']\n"
     ]
    }
   ],
   "source": [
    "''' Objective: sort a list of scifi authors by last name '''\n",
    "\n",
    "scifi_authors = ['Isaac Asimov', 'Ray Bradbury', 'Robert Heinlein', 'Artur C. Clarke, H.G. Wells', 'Orson Scott Card']\n",
    "\n",
    "scifi_authors.sort(key=lambda name: name.split(\" \")[-1].lower())\n",
    "print(scifi_authors)\n",
    "# ['Isaac Asimov', 'Ray Bradbury', 'Orson Scott Card', 'Robert Heinlein', 'Artur C. Clarke, H.G. Wells']\n"
   ]
  },
  {
   "cell_type": "code",
   "execution_count": null,
   "metadata": {},
   "outputs": [],
   "source": []
  }
 ]
}