{
 "metadata": {
  "language_info": {
   "codemirror_mode": {
    "name": "ipython",
    "version": 3
   },
   "file_extension": ".py",
   "mimetype": "text/x-python",
   "name": "python",
   "nbconvert_exporter": "python",
   "pygments_lexer": "ipython3",
   "version": "3.9.5"
  },
  "orig_nbformat": 4,
  "kernelspec": {
   "name": "python3",
   "display_name": "Python 3.9.5 64-bit ('spenncon': conda)"
  },
  "interpreter": {
   "hash": "05d659cf7217a31b7ba206b7e3fe1d98040361cb242cc44ce7c59206cfd427bc"
  }
 },
 "nbformat": 4,
 "nbformat_minor": 2,
 "cells": [
  {
   "cell_type": "code",
   "execution_count": 17,
   "metadata": {},
   "outputs": [],
   "source": [
    "import ipytest\n",
    "import pandas as pd\n",
    "import numpy as np\n",
    "from typing import List\n",
    "ipytest.autoconfig()"
   ]
  },
  {
   "cell_type": "code",
   "execution_count": 8,
   "metadata": {},
   "outputs": [
    {
     "output_type": "stream",
     "name": "stdout",
     "text": [
      "FF                                                                       [100%]\n",
      "================================== FAILURES ===================================\n",
      "______________________________ test_something[1] ______________________________\n",
      "\n",
      "value = 1\n",
      "\n",
      "    @pytest.mark.parametrize('value', [1, 2])\n",
      "    def test_something(value):\n",
      ">       assert value != value\n",
      "E       assert 1 != 1\n",
      "\n",
      "<ipython-input-8-0e0c2eddfa11>:3: AssertionError\n",
      "______________________________ test_something[2] ______________________________\n",
      "\n",
      "value = 2\n",
      "\n",
      "    @pytest.mark.parametrize('value', [1, 2])\n",
      "    def test_something(value):\n",
      ">       assert value != value\n",
      "E       assert 2 != 2\n",
      "\n",
      "<ipython-input-8-0e0c2eddfa11>:3: AssertionError\n",
      "=========================== short test summary info ===========================\n",
      "FAILED tmp298_oxy9.py::test_something[1] - assert 1 != 1\n",
      "FAILED tmp298_oxy9.py::test_something[2] - assert 2 != 2\n",
      "2 failed in 0.10s\n"
     ]
    }
   ],
   "source": [
    "%%run_pytest[clean]\n",
    "\n",
    "@pytest.mark.parametrize('value', [1, 2])\n",
    "def test_something(value):\n",
    "    assert value != value"
   ]
  },
  {
   "cell_type": "code",
   "execution_count": null,
   "metadata": {},
   "outputs": [],
   "source": [
    "def total(xs: List[float]) -> float:\n",
    "    \"\"\"Total returns the sum of xs\"\"\"\n",
    "    return -1.0\n",
    "\n",
    "def test_total(xs):\n",
    "    \n"
   ]
  },
  {
   "cell_type": "code",
   "execution_count": 10,
   "metadata": {},
   "outputs": [
    {
     "output_type": "stream",
     "name": "stdout",
     "text": [
      "============================= test session starts =============================\n",
      "platform win32 -- Python 3.9.5, pytest-6.2.4, py-1.10.0, pluggy-0.13.1 -- C:\\Users\\CNSPRHES\\Miniconda3\\envs\\spenncon\\python.exe\n",
      "cachedir: .pytest_cache\n",
      "rootdir: c:\\Users\\CNSPRHES\\Documents\\09-learning\\my-learning\n",
      "collecting ... collected 1 item\n",
      "\n",
      "tmpm21s20i6.py::test_something FAILED                                    [100%]\n",
      "\n",
      "================================== FAILURES ===================================\n",
      "_______________________________ test_something ________________________________\n",
      "\n",
      "    def test_something():\n",
      ">       assert 1 == 1 + 1\n",
      "E       assert 1 == 2\n",
      "E         +1\n",
      "E         -2\n",
      "\n",
      "<ipython-input-10-8b025c28988b>:2: AssertionError\n",
      "=========================== short test summary info ===========================\n",
      "FAILED tmpm21s20i6.py::test_something - assert 1 == 2\n",
      "============================== 1 failed in 0.05s ==============================\n"
     ]
    }
   ],
   "source": [
    "%%run_pytest[clean] -vv\n",
    "\n",
    "def test_something():\n",
    "    assert 1 == 1 + 1"
   ]
  },
  {
   "cell_type": "code",
   "execution_count": 15,
   "metadata": {},
   "outputs": [
    {
     "output_type": "stream",
     "name": "stdout",
     "text": [
      "AssertionError('assert 1 == 0')\n"
     ]
    }
   ],
   "source": [
    "try:\n",
    "    assert 1 == 0\n",
    "except AssertionError as e:\n",
    "    print(repr(e))"
   ]
  },
  {
   "source": [
    "#### Equality\n",
    "Here is an example: you have a function that implements addition. Unfortunately, it has a bug -- it returns the expected result with a small difference"
   ],
   "cell_type": "markdown",
   "metadata": {}
  },
  {
   "cell_type": "code",
   "execution_count": null,
   "metadata": {},
   "outputs": [],
   "source": []
  }
 ]
}