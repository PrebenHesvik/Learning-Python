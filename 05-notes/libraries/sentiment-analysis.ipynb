{
 "metadata": {
  "language_info": {
   "codemirror_mode": {
    "name": "ipython",
    "version": 3
   },
   "file_extension": ".py",
   "mimetype": "text/x-python",
   "name": "python",
   "nbconvert_exporter": "python",
   "pygments_lexer": "ipython3",
   "version": "3.9.5"
  },
  "orig_nbformat": 4,
  "kernelspec": {
   "name": "python3",
   "display_name": "Python 3.9.5 64-bit ('spenncon': conda)"
  },
  "interpreter": {
   "hash": "05d659cf7217a31b7ba206b7e3fe1d98040361cb242cc44ce7c59206cfd427bc"
  }
 },
 "nbformat": 4,
 "nbformat_minor": 2,
 "cells": [
  {
   "cell_type": "code",
   "execution_count": 6,
   "metadata": {},
   "outputs": [],
   "source": [
    "import tweepy\n",
    "import textblob\n",
    "import pandas as pd\n",
    "import numpy as np\n",
    "\n",
    "pd.set_option('display.max_colwidth', None)"
   ]
  },
  {
   "cell_type": "code",
   "execution_count": 2,
   "metadata": {},
   "outputs": [],
   "source": [
    "api_key = 'hpI7f3LLHRw6be07PtXmbWlxA'\n",
    "api_secret_key = 'NNxNrkS8PrNAYbeuhbN7bcql6aOCsjj49Nc4nigSE7pGFJePLa'\n",
    "bearer_token = 'AAAAAAAAAAAAAAAAAAAAAJgcRAEAAAAAJ70PgszgcPLQNksCYM5JoFM3fD4%3DlbQuhqbN33kSdhvnkSUlfun5KEFJ8DnAscow00KJevoYZM43x2'\n",
    "access_token = '546695390-8cKtcY6CxTDvSeGXiXvMuH0dL74NYyVuZ6lLAuvc'\n",
    "access_token_secret = 'lAadiPasXzAiTI7TTG8hjyFcd2Sui12LN8MfPvODykVhM'\n",
    "\n",
    "authenticator = tweepy.OAuthHandler(api_key, api_secret_key)\n",
    "authenticator.set_access_token(access_token, access_token_secret)\n",
    "\n",
    "api = tweepy.API(authenticator, wait_on_rate_limit=True)"
   ]
  },
  {
   "cell_type": "code",
   "execution_count": 4,
   "metadata": {},
   "outputs": [],
   "source": [
    "topic = 'Bitcoin'\n",
    "search = f'#{topic} -filter:retweets'\n",
    "\n",
    "tweet_cursor = tweepy.Cursor(api.search, q=search, lang='en', tweet_mode='extended').items(100)\n",
    "tweets = [tweet.full_text for tweet in tweet_cursor]\n",
    "df = pd.DataFrame(tweets, columns=['Tweets'])"
   ]
  },
  {
   "cell_type": "code",
   "execution_count": 10,
   "metadata": {},
   "outputs": [],
   "source": [
    "df.Tweets = (\n",
    "    df.Tweets\n",
    "        .str.replace('http\\S+', '', regex=True)\n",
    "        .str.replace('#\\S+', '', regex=True)\n",
    "        .str.replace('@\\S+', '', regex=True)\n",
    "        .str.replace('\\\\n', '', regex=True)\n",
    ")"
   ]
  },
  {
   "cell_type": "code",
   "execution_count": 13,
   "metadata": {},
   "outputs": [],
   "source": [
    "df['Polarity'] = df['Tweets'].map(lambda tweet: textblob.TextBlob(tweet).sentiment.polarity)\n",
    "df['Result'] = df['Polarity'].map(lambda pol: 'Positive' if pol > 0 else 'Negative')"
   ]
  },
  {
   "cell_type": "code",
   "execution_count": 14,
   "metadata": {},
   "outputs": [
    {
     "output_type": "execute_result",
     "data": {
      "text/plain": [
       "                                                                                                                                                                                                                                        Tweets  \\\n",
       "0                                                                                      🔥 26% Hit 126✅ Sats 🎯1st target done ✅ in 12 Hours 🌈Congrat's VIP members 🌈 👉Join now ❤️🎉 ☎️ Contact  for VIP membership          $eth $ada $bnb  $xrp    \n",
       "1                                                                                                                                                                                                                   Elon’s Quest for             \n",
       "2                                                                                      Paraguay lawmaker has tabled a motion in pursuing  as legal tender, hoping that the country will become another country to use cryptocurrency after       \n",
       "3                                                                                                                                              LBank Exchange — A next-generation global cryptocurrency trading platform                         \n",
       "4                                                                                                 🚨🐋 THERE WAS A LARGE BITCOIN (333.25301346 BTC) TRANSACTION AT HASH 43e14c3821e111e2a37cfabe43cc60c25f12e9eaf3e3878306d73c14baa082fb.🚨🐋        \n",
       "5                                                                                                                                               And that guy in the black is that you jus hodl and filming whats happening behind the market 😂   \n",
       "6                                                                                            VYNKCHAIN is a P2P (peer to peer) network that allows you to own the power like everyone who is involved in that particular network                 \n",
       "7                                                                                                                                                                            Buy BTC With Your Credit Card / Fast Crypto Exchange       05:51    \n",
       "8                                                                                                                                                                                  Elon Musk Agrees to Have “The Talk” About  with Jack Dorsey   \n",
       "9                                                                                                                                                                                                                             Thanks!            \n",
       "10                                                                                                       chart is looking bearish and If the break out line has broken then It will go to 32k and after 31k so be careful guys 😯                 \n",
       "11                                                                                                         El Salvador will give each citizen $30  airdropped straight into their wallet when they sign up! 🙌 When it possible in Our Country?   \n",
       "12                                                                                                                                                             opinion about  and  in general is like a broken calculator...It doesn't count!    \n",
       "13                                                                                                                                                                                                                    Nice Project               \n",
       "14                                                            Many people want to know about  predictions. Our weekly financial letter covers  If you are trading cryptos's the weekly financial letter is the one you need to subsribe.         \n",
       "15                                                                                                                                                                                                                 Great project                 \n",
       "16                                                                                                                                                                  Some bitcoin depressive people here ...20k won as the EOY prediction for     \n",
       "17                                                                                                            SEC inquiry regarding Robinhood’s crypto business reportedly delays IPORead here :               Follow us for latest  and  ne…    \n",
       "18  Weekly Performance of WBTC Theta Vault:📈 The vault sold the $44k Strike Call and BTC expired at ~$34.2k, so the options expired out of the money. The vault earned ~0.32% (~18% APY) of yield in WBTCAnother great week for stacking sats!   \n",
       "19                                                                                                                                                                                The current dip is just another day in crypto: Kraken CEO      \n",
       "20                                                                                 Do you know you can still make profits from your    on a daily basis despite the dip!Send a dm to know how and where it's possible or WhatsApp +19103026106   \n",
       "21                                                                                                                                          Waiting game: Why Friday’s $6B in Bitcoin and Ethereum expiries may not move the market   $BTC       \n",
       "22                                                                                                                   Official ESHOP Airdrop. If You Missed Meme Token Rally, Don't Miss ESHOP.  Join Now:    Join our Telegram:                  \n",
       "23                                                                                                                                                     come on guys this is a very good project to follow come on come on come on!               \n",
       "24                                                                                                                                                                                                         El Salvador to  $30 in  to every      \n",
       "25                                                                                                                                                                                                                             Good job          \n",
       "26                                                                               $CMT   /  $USDT AT 0.0095 - 0.0125S/L depends on your strategy.In the  market,  in   and  be satisfied with 10 to 20%  join to our telegram channel.$BTC$ETH    \n",
       "27                                                                                                                                Talking about tapering while overshooting targets...Don’t listen to what they say, watch what they do! $BTC    \n",
       "28      These are our  06/25/2021 deviation levels with statistical percentages of probability of us getting to each level today. Fear # 16.12 (3.8 = almost no fear ) Fear up a bit on our Fearmonger indicator (similar to the  )Explained     \n",
       "29                                                                                                                 We all know a guy like Elon right? lol can’t get over the fact that his ex has moved on.  is living rent free in his head.    \n",
       "\n",
       "    Polarity    Result  \n",
       "0   0.000000  Negative  \n",
       "1   0.000000  Negative  \n",
       "2   0.200000  Positive  \n",
       "3   0.000000  Negative  \n",
       "4   0.214286  Positive  \n",
       "5  -0.283333  Negative  \n",
       "6   0.383333  Positive  \n",
       "7   0.200000  Positive  \n",
       "8   0.000000  Negative  \n",
       "9   0.250000  Positive  \n",
       "10 -0.250000  Negative  \n",
       "11  0.125000  Positive  \n",
       "12 -0.225000  Negative  \n",
       "13  0.600000  Positive  \n",
       "14  0.166667  Positive  \n",
       "15  0.800000  Positive  \n",
       "16  0.000000  Negative  \n",
       "17  0.200000  Positive  \n",
       "18  1.000000  Positive  \n",
       "19  0.000000  Negative  \n",
       "20  0.000000  Negative  \n",
       "21 -0.400000  Negative  \n",
       "22  0.000000  Negative  \n",
       "23  1.000000  Positive  \n",
       "24  0.000000  Negative  \n",
       "25  0.700000  Positive  \n",
       "26  0.500000  Positive  \n",
       "27  0.000000  Negative  \n",
       "28  0.000000  Negative  \n",
       "29  0.495238  Positive  "
      ],
      "text/html": "<div>\n<style scoped>\n    .dataframe tbody tr th:only-of-type {\n        vertical-align: middle;\n    }\n\n    .dataframe tbody tr th {\n        vertical-align: top;\n    }\n\n    .dataframe thead th {\n        text-align: right;\n    }\n</style>\n<table border=\"1\" class=\"dataframe\">\n  <thead>\n    <tr style=\"text-align: right;\">\n      <th></th>\n      <th>Tweets</th>\n      <th>Polarity</th>\n      <th>Result</th>\n    </tr>\n  </thead>\n  <tbody>\n    <tr>\n      <th>0</th>\n      <td>🔥 26% Hit 126✅ Sats 🎯1st target done ✅ in 12 Hours 🌈Congrat's VIP members 🌈 👉Join now ❤️🎉 ☎️ Contact  for VIP membership          $eth $ada $bnb  $xrp</td>\n      <td>0.000000</td>\n      <td>Negative</td>\n    </tr>\n    <tr>\n      <th>1</th>\n      <td>Elon’s Quest for</td>\n      <td>0.000000</td>\n      <td>Negative</td>\n    </tr>\n    <tr>\n      <th>2</th>\n      <td>Paraguay lawmaker has tabled a motion in pursuing  as legal tender, hoping that the country will become another country to use cryptocurrency after</td>\n      <td>0.200000</td>\n      <td>Positive</td>\n    </tr>\n    <tr>\n      <th>3</th>\n      <td>LBank Exchange — A next-generation global cryptocurrency trading platform</td>\n      <td>0.000000</td>\n      <td>Negative</td>\n    </tr>\n    <tr>\n      <th>4</th>\n      <td>🚨🐋 THERE WAS A LARGE BITCOIN (333.25301346 BTC) TRANSACTION AT HASH 43e14c3821e111e2a37cfabe43cc60c25f12e9eaf3e3878306d73c14baa082fb.🚨🐋</td>\n      <td>0.214286</td>\n      <td>Positive</td>\n    </tr>\n    <tr>\n      <th>5</th>\n      <td>And that guy in the black is that you jus hodl and filming whats happening behind the market 😂</td>\n      <td>-0.283333</td>\n      <td>Negative</td>\n    </tr>\n    <tr>\n      <th>6</th>\n      <td>VYNKCHAIN is a P2P (peer to peer) network that allows you to own the power like everyone who is involved in that particular network</td>\n      <td>0.383333</td>\n      <td>Positive</td>\n    </tr>\n    <tr>\n      <th>7</th>\n      <td>Buy BTC With Your Credit Card / Fast Crypto Exchange       05:51</td>\n      <td>0.200000</td>\n      <td>Positive</td>\n    </tr>\n    <tr>\n      <th>8</th>\n      <td>Elon Musk Agrees to Have “The Talk” About  with Jack Dorsey</td>\n      <td>0.000000</td>\n      <td>Negative</td>\n    </tr>\n    <tr>\n      <th>9</th>\n      <td>Thanks!</td>\n      <td>0.250000</td>\n      <td>Positive</td>\n    </tr>\n    <tr>\n      <th>10</th>\n      <td>chart is looking bearish and If the break out line has broken then It will go to 32k and after 31k so be careful guys 😯</td>\n      <td>-0.250000</td>\n      <td>Negative</td>\n    </tr>\n    <tr>\n      <th>11</th>\n      <td>El Salvador will give each citizen $30  airdropped straight into their wallet when they sign up! 🙌 When it possible in Our Country?</td>\n      <td>0.125000</td>\n      <td>Positive</td>\n    </tr>\n    <tr>\n      <th>12</th>\n      <td>opinion about  and  in general is like a broken calculator...It doesn't count!</td>\n      <td>-0.225000</td>\n      <td>Negative</td>\n    </tr>\n    <tr>\n      <th>13</th>\n      <td>Nice Project</td>\n      <td>0.600000</td>\n      <td>Positive</td>\n    </tr>\n    <tr>\n      <th>14</th>\n      <td>Many people want to know about  predictions. Our weekly financial letter covers  If you are trading cryptos's the weekly financial letter is the one you need to subsribe.</td>\n      <td>0.166667</td>\n      <td>Positive</td>\n    </tr>\n    <tr>\n      <th>15</th>\n      <td>Great project</td>\n      <td>0.800000</td>\n      <td>Positive</td>\n    </tr>\n    <tr>\n      <th>16</th>\n      <td>Some bitcoin depressive people here ...20k won as the EOY prediction for</td>\n      <td>0.000000</td>\n      <td>Negative</td>\n    </tr>\n    <tr>\n      <th>17</th>\n      <td>SEC inquiry regarding Robinhood’s crypto business reportedly delays IPORead here :               Follow us for latest  and  ne…</td>\n      <td>0.200000</td>\n      <td>Positive</td>\n    </tr>\n    <tr>\n      <th>18</th>\n      <td>Weekly Performance of WBTC Theta Vault:📈 The vault sold the $44k Strike Call and BTC expired at ~$34.2k, so the options expired out of the money. The vault earned ~0.32% (~18% APY) of yield in WBTCAnother great week for stacking sats!</td>\n      <td>1.000000</td>\n      <td>Positive</td>\n    </tr>\n    <tr>\n      <th>19</th>\n      <td>The current dip is just another day in crypto: Kraken CEO</td>\n      <td>0.000000</td>\n      <td>Negative</td>\n    </tr>\n    <tr>\n      <th>20</th>\n      <td>Do you know you can still make profits from your    on a daily basis despite the dip!Send a dm to know how and where it's possible or WhatsApp +19103026106</td>\n      <td>0.000000</td>\n      <td>Negative</td>\n    </tr>\n    <tr>\n      <th>21</th>\n      <td>Waiting game: Why Friday’s $6B in Bitcoin and Ethereum expiries may not move the market   $BTC</td>\n      <td>-0.400000</td>\n      <td>Negative</td>\n    </tr>\n    <tr>\n      <th>22</th>\n      <td>Official ESHOP Airdrop. If You Missed Meme Token Rally, Don't Miss ESHOP.  Join Now:    Join our Telegram:</td>\n      <td>0.000000</td>\n      <td>Negative</td>\n    </tr>\n    <tr>\n      <th>23</th>\n      <td>come on guys this is a very good project to follow come on come on come on!</td>\n      <td>1.000000</td>\n      <td>Positive</td>\n    </tr>\n    <tr>\n      <th>24</th>\n      <td>El Salvador to  $30 in  to every</td>\n      <td>0.000000</td>\n      <td>Negative</td>\n    </tr>\n    <tr>\n      <th>25</th>\n      <td>Good job</td>\n      <td>0.700000</td>\n      <td>Positive</td>\n    </tr>\n    <tr>\n      <th>26</th>\n      <td>$CMT   /  $USDT AT 0.0095 - 0.0125S/L depends on your strategy.In the  market,  in   and  be satisfied with 10 to 20%  join to our telegram channel.$BTC$ETH</td>\n      <td>0.500000</td>\n      <td>Positive</td>\n    </tr>\n    <tr>\n      <th>27</th>\n      <td>Talking about tapering while overshooting targets...Don’t listen to what they say, watch what they do! $BTC</td>\n      <td>0.000000</td>\n      <td>Negative</td>\n    </tr>\n    <tr>\n      <th>28</th>\n      <td>These are our  06/25/2021 deviation levels with statistical percentages of probability of us getting to each level today. Fear # 16.12 (3.8 = almost no fear ) Fear up a bit on our Fearmonger indicator (similar to the  )Explained</td>\n      <td>0.000000</td>\n      <td>Negative</td>\n    </tr>\n    <tr>\n      <th>29</th>\n      <td>We all know a guy like Elon right? lol can’t get over the fact that his ex has moved on.  is living rent free in his head.</td>\n      <td>0.495238</td>\n      <td>Positive</td>\n    </tr>\n  </tbody>\n</table>\n</div>"
     },
     "metadata": {},
     "execution_count": 14
    }
   ],
   "source": [
    "df.head(30)"
   ]
  },
  {
   "cell_type": "code",
   "execution_count": 15,
   "metadata": {},
   "outputs": [
    {
     "output_type": "execute_result",
     "data": {
      "text/plain": [
       "Negative    53\n",
       "Positive    47\n",
       "Name: Result, dtype: int64"
      ]
     },
     "metadata": {},
     "execution_count": 15
    }
   ],
   "source": [
    "df.Result.value_counts()"
   ]
  },
  {
   "cell_type": "code",
   "execution_count": null,
   "metadata": {},
   "outputs": [],
   "source": []
  }
 ]
}