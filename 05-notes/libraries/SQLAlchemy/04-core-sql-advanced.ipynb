{
 "cells": [
  {
   "cell_type": "code",
   "execution_count": 1,
   "metadata": {},
   "outputs": [],
   "source": [
    "from sqlalchemy import MetaData, Table, Column\n",
    "from sqlalchemy import String, Integer"
   ]
  },
  {
   "cell_type": "code",
   "execution_count": 2,
   "metadata": {},
   "outputs": [],
   "source": [
    "metadata = MetaData()\n",
    "user_table = Table(\n",
    "    \"user_account\",\n",
    "    metadata,\n",
    "    Column(\"id\", Integer, primary_key=True),\n",
    "    Column(\"username\", String(50)),\n",
    "    Column(\"fullname\", String(50)),\n",
    ")\n",
    "\n",
    "### slide::\n",
    "# Then a second table to illustrate multi-table operations\n",
    "from sqlalchemy import ForeignKey\n",
    "\n",
    "address_table = Table(\n",
    "    \"email_address\",\n",
    "    metadata,\n",
    "    Column(\"id\", Integer, primary_key=True),\n",
    "    Column(\"user_id\", ForeignKey(\"user_account.id\"), nullable=False),\n",
    "    Column(\"email_address\", String(100), nullable=False),\n",
    ")"
   ]
  },
  {
   "cell_type": "code",
   "execution_count": 3,
   "metadata": {},
   "outputs": [],
   "source": [
    "from sqlalchemy import create_engine\n",
    "\n",
    "engine = create_engine(\"sqlite://\")\n",
    "with engine.begin() as conn:\n",
    "    metadata.create_all(conn)"
   ]
  },
  {
   "cell_type": "code",
   "execution_count": 4,
   "metadata": {},
   "outputs": [],
   "source": [
    "# insert data\n",
    "\n",
    "with engine.begin() as connection:\n",
    "    connection.execute(\n",
    "        user_table.insert(),\n",
    "        [\n",
    "            {\"user_id\": 1, \"username\": \"spongebob\", \"fullname\": \"Spongebob Squarepants\"},\n",
    "            {\"user_id\": 2, \"username\": \"sandy\", \"fullname\": \"Sandy Cheeks\"},\n",
    "            {\"user_id\": 3, \"username\": \"patrick\", \"fullname\": \"Patrick Star\"},\n",
    "        ],\n",
    "    )\n",
    "\n",
    "    connection.execute(\n",
    "        address_table.insert(),\n",
    "        [\n",
    "            {\"user_id\": 1, \"email_address\": \"spongebob@spongebob.com\"},\n",
    "            {\"user_id\": 1, \"email_address\": \"spongebob@gmail.com\"},\n",
    "            {\"user_id\": 2, \"email_address\": \"sandy@yahoo.com\"},\n",
    "            {\"user_id\": 3, \"email_address\": \"patrick@gmail.com\"},\n",
    "        ],\n",
    "    )"
   ]
  },
  {
   "cell_type": "code",
   "execution_count": 6,
   "metadata": {},
   "outputs": [
    {
     "name": "stdout",
     "output_type": "stream",
     "text": [
      "SELECT user_account.username, email_address.email_address \n",
      "FROM user_account, email_address\n"
     ]
    }
   ],
   "source": [
    "# title:: SELECT from more than one table, joins\n",
    "# the select() construct will include in the FROM clause all\n",
    "# those tables that we mention in the columns clause or WHERE clause.\n",
    "# by default, they are separated by a comma.\n",
    "#\n",
    "from sqlalchemy import select\n",
    "\n",
    "with engine.connect() as connection:\n",
    "    stmt = select(user_table.c.username, address_table.c.email_address)\n",
    "    print(stmt)\n"
   ]
  },
  {
   "cell_type": "code",
   "execution_count": 27,
   "metadata": {},
   "outputs": [],
   "source": [
    "# however, selecting from multiple tables without relating them\n",
    "# to each other produces an effect known as the **cartesian product**.\n",
    "# SQLAlchemy will usually warn when this is detected during statement\n",
    "# execution.\n",
    "\n",
    "# the cartesian result contains every combination of rows which is redundant\n",
    "# and slow to generate for larger datasets\n",
    "\n",
    "with engine.connect() as connection:\n",
    "    stmt = select(user_table.c.username, address_table.c.email_address)\n",
    "    result = connection.execute(stmt)\n",
    "    result.all()\n",
    "    #print(stmt, end='\\n\\n')\n",
    "    #print(result.all())\n",
    "    "
   ]
  },
  {
   "cell_type": "code",
   "execution_count": 19,
   "metadata": {},
   "outputs": [
    {
     "name": "stdout",
     "output_type": "stream",
     "text": [
      "SELECT user_account.username, email_address.email_address \n",
      "FROM user_account JOIN email_address ON user_account.id = email_address.user_id\n",
      "\n",
      "[('spongebob', 'spongebob@spongebob.com'), ('spongebob', 'spongebob@gmail.com'), ('sandy', 'sandy@yahoo.com'), ('patrick', 'patrick@gmail.com')]\n"
     ]
    }
   ],
   "source": [
    "# So, when we have more than one table mentioned, we want to relate them\n",
    "# together, which is most easily achieved using join_from():\n",
    "with engine.connect() as connection:\n",
    "    stmt = select(\n",
    "        user_table.c.username, address_table.c.email_address\n",
    "    ).join_from(user_table, address_table)\n",
    "\n",
    "    result = connection.execute(stmt).all()\n",
    "    print(stmt, end='\\n\\n')\n",
    "    print(result)"
   ]
  },
  {
   "cell_type": "code",
   "execution_count": 18,
   "metadata": {},
   "outputs": [
    {
     "name": "stdout",
     "output_type": "stream",
     "text": [
      "SELECT user_account.username, email_address.email_address \n",
      "FROM user_account JOIN email_address ON user_account.id = email_address.user_id\n",
      "\n",
      "[('spongebob', 'spongebob@spongebob.com'), ('spongebob', 'spongebob@gmail.com'), ('sandy', 'sandy@yahoo.com'), ('patrick', 'patrick@gmail.com')]\n"
     ]
    }
   ],
   "source": [
    "# there is also .join(), which will infer the left hand side automatically\n",
    "\n",
    "with engine.connect() as connection:\n",
    "    stmt = select(\n",
    "        user_table.c.username, address_table.c.email_address\n",
    "    ).join(address_table)\n",
    "\n",
    "    result = connection.execute(stmt).all()\n",
    "    print(stmt, end='\\n\\n')\n",
    "    print(result)"
   ]
  },
  {
   "cell_type": "code",
   "execution_count": 17,
   "metadata": {},
   "outputs": [
    {
     "name": "stdout",
     "output_type": "stream",
     "text": [
      "SELECT user_account.username, email_address.email_address \n",
      "FROM user_account JOIN email_address ON user_account.id = email_address.user_id\n",
      "\n",
      "[('spongebob', 'spongebob@spongebob.com'), ('spongebob', 'spongebob@gmail.com'), ('sandy', 'sandy@yahoo.com'), ('patrick', 'patrick@gmail.com')]\n"
     ]
    }
   ],
   "source": [
    "# the ON clause of the JOIN is also inferred automatically from the\n",
    "# foreign key relationships of the involved tables.   We may choose\n",
    "# to express this join condition explicitly, as would be needed if the\n",
    "# join condition were otherwise ambiguous\n",
    "with engine.connect() as connection:\n",
    "    stmt = select(\n",
    "        user_table.c.username, address_table.c.email_address\n",
    "    ).join(address_table, user_table.c.id == address_table.c.user_id)\n",
    "\n",
    "    print(stmt, end='\\n\\n')\n",
    "    result = connection.execute(stmt).all()\n",
    "    print(result)"
   ]
  },
  {
   "cell_type": "code",
   "execution_count": 15,
   "metadata": {},
   "outputs": [
    {
     "name": "stdout",
     "output_type": "stream",
     "text": [
      "SELECT user_account.username, email_address_1.email_address, email_address_3.email_address AS email_address_2 \n",
      "FROM user_account JOIN email_address AS email_address_1 ON user_account.id = email_address_1.user_id JOIN email_address AS email_address_3 ON user_account.id = email_address_3.user_id \n",
      "WHERE email_address_1.email_address = :email_address_4 AND email_address_3.email_address = :email_address_5\n",
      "\n",
      "[('spongebob', 'spongebob@spongebob.com', 'spongebob@gmail.com')]\n"
     ]
    }
   ],
   "source": [
    "### title:: working with table aliases and subqueries\n",
    "# When a SELECT wants to refer to the same table more than once, a SQL\n",
    "# alias is used.  This is available using the  .alias() method, which\n",
    "# returns a unique Alias object representing that table with a particular\n",
    "# SQL alias.\n",
    "\n",
    "with engine.connect() as connection:\n",
    "    address_alias_1 = address_table.alias()\n",
    "    address_alias_2 = address_table.alias()\n",
    "\n",
    "    select_stmt = (\n",
    "        select(\n",
    "                user_table.c.username,\n",
    "                address_alias_1.c.email_address,\n",
    "                address_alias_2.c.email_address,\n",
    "        )\n",
    "        .join_from(user_table, address_alias_1)\n",
    "        .join_from(user_table, address_alias_2)\n",
    "        .where(address_alias_1.c.email_address == \"spongebob@spongebob.com\")\n",
    "        .where(address_alias_2.c.email_address == \"spongebob@gmail.com\")\n",
    "    )\n",
    "    \n",
    "    print(select_stmt, end='\\n\\n')\n",
    "    result = connection.execute(select_stmt).all()\n",
    "    print(result)"
   ]
  },
  {
   "cell_type": "code",
   "execution_count": 29,
   "metadata": {},
   "outputs": [
    {
     "name": "stdout",
     "output_type": "stream",
     "text": [
      "SELECT user_account.username, email_address.email_address \n",
      "FROM user_account JOIN email_address ON user_account.id = email_address.user_id\n",
      "\n",
      "SELECT anon_1.username \n",
      "FROM (SELECT user_account.username AS username, email_address.email_address AS email_address \n",
      "FROM user_account JOIN email_address ON user_account.id = email_address.user_id) AS anon_1 \n",
      "WHERE anon_1.username = :username_1\n"
     ]
    }
   ],
   "source": [
    "# A subquery is used much like a table alias, except we start with a select\n",
    "# statement.   We call the .subquery() method of select()\n",
    "with engine.connect() as connection:\n",
    "    select_subq = (\n",
    "        select(user_table.c.username, address_table.c.email_address)\n",
    "        .join(address_table).subquery()\n",
    "    )\n",
    "    print(select_subq, end='\\n\\n')\n",
    "    \n",
    "    # the subquery object itself has a .c attribute, and is used just like a table.\n",
    "    stmt = select(select_subq.c.username).where(\n",
    "    select_subq.c.username == \"spongebob\"\n",
    "    )\n",
    "    print(stmt)"
   ]
  },
  {
   "cell_type": "code",
   "execution_count": 31,
   "metadata": {},
   "outputs": [
    {
     "name": "stdout",
     "output_type": "stream",
     "text": [
      "SELECT email_address.user_id, count(email_address.id) AS count \n",
      "FROM email_address GROUP BY email_address.user_id\n"
     ]
    }
   ],
   "source": [
    "from sqlalchemy import func\n",
    "\n",
    "address_select = select(\n",
    "    address_table.c.user_id, func.count(address_table.c.id).label(\"count\")\n",
    ").group_by(address_table.c.user_id)\n",
    "\n",
    "address_subq = address_select.subquery()\n",
    "\n",
    "print(address_subq)"
   ]
  },
  {
   "cell_type": "code",
   "execution_count": 32,
   "metadata": {},
   "outputs": [
    {
     "name": "stdout",
     "output_type": "stream",
     "text": [
      "[('patrick', 1), ('sandy', 1), ('spongebob', 2)]\n"
     ]
    }
   ],
   "source": [
    "# we use join() to link the subquery() with another select()\n",
    "with engine.connect() as connection:\n",
    "    username_plus_count = (\n",
    "        select(user_table.c.username, address_subq.c.count)\n",
    "        .join(address_subq)\n",
    "        .order_by(user_table.c.username)\n",
    "    )\n",
    "\n",
    "    result = connection.execute(username_plus_count).all()\n",
    "    print(result)"
   ]
  },
  {
   "cell_type": "code",
   "execution_count": 34,
   "metadata": {},
   "outputs": [
    {
     "name": "stdout",
     "output_type": "stream",
     "text": [
      "SELECT email_address.user_id, count(email_address.id) AS count \n",
      "FROM email_address GROUP BY email_address.user_id\n"
     ]
    }
   ],
   "source": [
    "### title:: Common Table Expressions\n",
    "# joining to a subquery can also be achieved using a common table\n",
    "# expression, or CTE. By calling\n",
    "# cte() instead of subquery(), we get a CTE:\n",
    "\n",
    "address_select = select(\n",
    "    address_table.c.user_id, func.count(address_table.c.id).label(\"count\")\n",
    ").group_by(address_table.c.user_id)\n",
    "\n",
    "address_cte = address_select.cte()\n",
    "print(address_cte)"
   ]
  },
  {
   "cell_type": "code",
   "execution_count": null,
   "metadata": {},
   "outputs": [],
   "source": [
    "# we select/join to the CTE in exactly the same way as we did the subquery.\n",
    "\n",
    "with engine.connect() as connection:\n",
    "    username_plus_count = (\n",
    "        select(user_table.c.username, address_cte.c.count)\n",
    "        .join(address_cte)\n",
    "        .order_by(user_table.c.username)\n",
    "    )\n",
    "\n",
    "    ### slide:: i\n",
    "\n",
    "    connection.execute(username_plus_count).all()"
   ]
  },
  {
   "cell_type": "code",
   "execution_count": null,
   "metadata": {},
   "outputs": [],
   "source": [
    "### title:: Correlated subqueries\n",
    "# a *scalar subquery* returns exactly one row and one column.\n",
    "# we indicate this intent using the scalar_subquery() method\n",
    "# after construction\n",
    "\n",
    "address_corr = (\n",
    "    select(func.count(address_table.c.id))\n",
    "    .where(user_table.c.id == address_table.c.user_id)\n",
    "    .scalar_subquery()\n",
    ")\n",
    "\n",
    "# the subquery here refers to two tables.  printing it alone,\n",
    "# we see both tables in the FROM clause.\n",
    "print(address_corr)"
   ]
  },
  {
   "cell_type": "code",
   "execution_count": null,
   "metadata": {},
   "outputs": [],
   "source": [
    "# However, a scalar subquery will by default **auto-correlate** in a larger\n",
    "# SQL expression, omitting a FROM that is found in the immediate\n",
    "# enclosing SELECT.\n",
    "\n",
    "select_stmt = select(user_table.c.username, address_corr)\n",
    "print(select_stmt)"
   ]
  },
  {
   "cell_type": "code",
   "execution_count": null,
   "metadata": {},
   "outputs": [],
   "source": []
  },
  {
   "cell_type": "code",
   "execution_count": null,
   "metadata": {},
   "outputs": [],
   "source": []
  },
  {
   "cell_type": "code",
   "execution_count": null,
   "metadata": {},
   "outputs": [],
   "source": []
  }
 ],
 "metadata": {
  "interpreter": {
   "hash": "05d659cf7217a31b7ba206b7e3fe1d98040361cb242cc44ce7c59206cfd427bc"
  },
  "kernelspec": {
   "display_name": "Python 3.9.5 64-bit ('spenncon': conda)",
   "name": "python3"
  },
  "language_info": {
   "codemirror_mode": {
    "name": "ipython",
    "version": 3
   },
   "file_extension": ".py",
   "mimetype": "text/x-python",
   "name": "python",
   "nbconvert_exporter": "python",
   "pygments_lexer": "ipython3",
   "version": "3.9.5"
  },
  "orig_nbformat": 4
 },
 "nbformat": 4,
 "nbformat_minor": 2
}
