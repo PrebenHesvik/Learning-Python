{
 "cells": [
  {
   "cell_type": "code",
   "execution_count": 3,
   "metadata": {},
   "outputs": [],
   "source": [
    "from sqlalchemy.orm import registry\n",
    "from sqlalchemy import Column, Integer, String\n",
    "\n",
    "mapper_registry = registry()"
   ]
  },
  {
   "cell_type": "code",
   "execution_count": 4,
   "metadata": {},
   "outputs": [],
   "source": [
    "@mapper_registry.mapped\n",
    "class User:\n",
    "    __tablename__ = \"user_account\"\n",
    "\n",
    "    id = Column(Integer, primary_key=True)\n",
    "    username = Column(String)\n",
    "    fullname = Column(String)\n",
    "\n",
    "    def __repr__(self):\n",
    "        return \"<User(%r, %r)>\" % (self.username, self.fullname)"
   ]
  },
  {
   "cell_type": "code",
   "execution_count": 5,
   "metadata": {},
   "outputs": [
    {
     "data": {
      "text/plain": [
       "Table('user_account', MetaData(), Column('id', Integer(), table=<user_account>, primary_key=True, nullable=False), Column('username', String(), table=<user_account>), Column('fullname', String(), table=<user_account>), schema=None)"
      ]
     },
     "execution_count": 5,
     "metadata": {},
     "output_type": "execute_result"
    }
   ],
   "source": [
    "# the User class now has a Table object associated with it.\n",
    "\n",
    "User.__table__"
   ]
  },
  {
   "cell_type": "code",
   "execution_count": 6,
   "metadata": {},
   "outputs": [
    {
     "data": {
      "text/plain": [
       "<Mapper at 0x169b3d42d90; User>"
      ]
     },
     "execution_count": 6,
     "metadata": {},
     "output_type": "execute_result"
    }
   ],
   "source": [
    "# The Mapper object mediates the relationship between User\n",
    "# and the \"user\" Table object.  This mapper object is generally behind\n",
    "# the scenes.\n",
    "\n",
    "User.__mapper__"
   ]
  },
  {
   "cell_type": "code",
   "execution_count": 7,
   "metadata": {},
   "outputs": [
    {
     "data": {
      "text/plain": [
       "<User('spongebob', 'Spongebob Squarepants')>"
      ]
     },
     "execution_count": 7,
     "metadata": {},
     "output_type": "execute_result"
    }
   ],
   "source": [
    "# User has a default constructor, accepting field names\n",
    "# as arguments.\n",
    "\n",
    "spongebob = User(username=\"spongebob\", fullname=\"Spongebob Squarepants\")\n",
    "spongebob"
   ]
  },
  {
   "cell_type": "code",
   "execution_count": 8,
   "metadata": {},
   "outputs": [
    {
     "data": {
      "text/plain": [
       "'None'"
      ]
     },
     "execution_count": 8,
     "metadata": {},
     "output_type": "execute_result"
    }
   ],
   "source": [
    "# Attributes which we didn't set, such as the \"id\", are displayed as\n",
    "# None when we access them\n",
    "\n",
    "repr(spongebob.id)"
   ]
  },
  {
   "cell_type": "code",
   "execution_count": 9,
   "metadata": {},
   "outputs": [],
   "source": [
    "# Using our registry, we can create a database schema for this class using\n",
    "# a MetaData object that is part of the registry.\n",
    "\n",
    "from sqlalchemy import create_engine\n",
    "\n",
    "engine = create_engine(\"sqlite://\")\n",
    "with engine.begin() as connection:\n",
    "    mapper_registry.metadata.create_all(connection)"
   ]
  },
  {
   "cell_type": "code",
   "execution_count": 10,
   "metadata": {},
   "outputs": [],
   "source": [
    "# To persist and load User objects from the database, we\n",
    "# use a Session object, illustrated here from a factory called\n",
    "# sessionmaker.  The Session object makes use of a connection\n",
    "# factory (i.e. an Engine) and will handle the job of connecting,\n",
    "# committing, and releasing connections to this engine.\n",
    "\n",
    "from sqlalchemy.orm import sessionmaker\n",
    "\n",
    "Session = sessionmaker(bind=engine, future=True)\n",
    "\n",
    "session = Session()\n",
    "\n",
    "### slide::\n",
    "# new objects are placed into the Session using add().\n",
    "session.add(spongebob)"
   ]
  },
  {
   "cell_type": "code",
   "execution_count": 11,
   "metadata": {},
   "outputs": [
    {
     "data": {
      "text/plain": [
       "IdentitySet([<User('spongebob', 'Spongebob Squarepants')>])"
      ]
     },
     "execution_count": 11,
     "metadata": {},
     "output_type": "execute_result"
    }
   ],
   "source": [
    "# This did not yet modify the database, however the object is now known as\n",
    "# **pending**.  We can see the \"pending\" objects by looking at the session.new\n",
    "# attribute.\n",
    "session.new"
   ]
  },
  {
   "cell_type": "code",
   "execution_count": 12,
   "metadata": {},
   "outputs": [],
   "source": [
    "# We can now query for this **pending** row, by emitting a SELECT statement\n",
    "# that will refer to \"User\" entities.   This will first **autoflush**\n",
    "# the pending changes, then SELECT the row we requested.\n",
    "\n",
    "from sqlalchemy import select\n",
    "\n",
    "select_statement = select(User).filter_by(username=\"spongebob\")\n",
    "result = session.execute(select_statement)"
   ]
  },
  {
   "cell_type": "code",
   "execution_count": 13,
   "metadata": {},
   "outputs": [
    {
     "data": {
      "text/plain": [
       "<User('spongebob', 'Spongebob Squarepants')>"
      ]
     },
     "execution_count": 13,
     "metadata": {},
     "output_type": "execute_result"
    }
   ],
   "source": [
    "# We can get the data back from the result, in this case using the\n",
    "# .scalar() method which will return the first column of the first row.\n",
    "also_spongebob = result.scalar()\n",
    "also_spongebob"
   ]
  },
  {
   "cell_type": "code",
   "execution_count": 14,
   "metadata": {},
   "outputs": [
    {
     "data": {
      "text/plain": [
       "1"
      ]
     },
     "execution_count": 14,
     "metadata": {},
     "output_type": "execute_result"
    }
   ],
   "source": [
    "# the User object we've inserted now has a value for \".id\"\n",
    "spongebob.id"
   ]
  },
  {
   "cell_type": "code",
   "execution_count": 15,
   "metadata": {},
   "outputs": [
    {
     "data": {
      "text/plain": [
       "True"
      ]
     },
     "execution_count": 15,
     "metadata": {},
     "output_type": "execute_result"
    }
   ],
   "source": [
    "# the Session maintains a *unique* object per identity.\n",
    "# so \"spongebob\" and \"also_spongebob\" are the *same* object\n",
    "\n",
    "spongebob is also_spongebob"
   ]
  },
  {
   "cell_type": "code",
   "execution_count": 16,
   "metadata": {},
   "outputs": [
    {
     "data": {
      "text/plain": [
       "[((__main__.User, (1,), None), <User('spongebob', 'Spongebob Squarepants')>)]"
      ]
     },
     "execution_count": 16,
     "metadata": {},
     "output_type": "execute_result"
    }
   ],
   "source": [
    "# this is known as the **identity map**, and we can look at it on\n",
    "# the Session.\n",
    "\n",
    "session.identity_map.items()"
   ]
  },
  {
   "cell_type": "code",
   "execution_count": 17,
   "metadata": {},
   "outputs": [],
   "source": [
    "### title:: Making Changes\n",
    "# Add more objects to be pending for flush.\n",
    "\n",
    "session.add_all(\n",
    "    [\n",
    "        User(username=\"patrick\", fullname=\"Patrick Star\"),\n",
    "        User(username=\"sandy\", fullname=\"Sandy Cheeks\"),\n",
    "    ]\n",
    ")"
   ]
  },
  {
   "cell_type": "code",
   "execution_count": 18,
   "metadata": {},
   "outputs": [],
   "source": [
    "# modify \"spongebob\" - the object is now marked as *dirty*.\n",
    "\n",
    "spongebob.fullname = \"Spongebob Jones\""
   ]
  },
  {
   "cell_type": "code",
   "execution_count": 19,
   "metadata": {},
   "outputs": [
    {
     "data": {
      "text/plain": [
       "IdentitySet([<User('spongebob', 'Spongebob Jones')>])"
      ]
     },
     "execution_count": 19,
     "metadata": {},
     "output_type": "execute_result"
    }
   ],
   "source": [
    "# the Session can tell us which objects are dirty...\n",
    "\n",
    "session.dirty"
   ]
  },
  {
   "cell_type": "code",
   "execution_count": 20,
   "metadata": {},
   "outputs": [
    {
     "data": {
      "text/plain": [
       "IdentitySet([<User('patrick', 'Patrick Star')>, <User('sandy', 'Sandy Cheeks')>])"
      ]
     },
     "execution_count": 20,
     "metadata": {},
     "output_type": "execute_result"
    }
   ],
   "source": [
    "# and can also tell us which objects are pending...\n",
    "\n",
    "session.new"
   ]
  },
  {
   "cell_type": "code",
   "execution_count": 21,
   "metadata": {},
   "outputs": [],
   "source": [
    "# The whole transaction is committed.  Commit always triggers\n",
    "# a final flush of remaining changes.\n",
    "\n",
    "session.commit()"
   ]
  },
  {
   "cell_type": "code",
   "execution_count": 22,
   "metadata": {},
   "outputs": [
    {
     "data": {
      "text/plain": [
       "'Spongebob Jones'"
      ]
     },
     "execution_count": 22,
     "metadata": {},
     "output_type": "execute_result"
    }
   ],
   "source": [
    "# After a commit, theres no transaction.  The Session\n",
    "# *invalidates* all data, so that accessing them will automatically\n",
    "# start a *new* transaction and re-load from the database.  This is\n",
    "# our first example of the ORM *lazy loading* pattern.\n",
    "\n",
    "spongebob.fullname"
   ]
  },
  {
   "cell_type": "code",
   "execution_count": 23,
   "metadata": {},
   "outputs": [],
   "source": [
    "### title:: rolling back changes\n",
    "# Make another \"dirty\" change, and another \"pending\" change,\n",
    "# that we might change our minds about.\n",
    "\n",
    "spongebob.username = \"Spongy\"\n",
    "fake_user = User(username=\"fakeuser\", fullname=\"Invalid\")\n",
    "session.add(fake_user)"
   ]
  },
  {
   "cell_type": "code",
   "execution_count": 24,
   "metadata": {},
   "outputs": [
    {
     "data": {
      "text/plain": [
       "[(<User('Spongy', 'Spongebob Jones')>,), (<User('fakeuser', 'Invalid')>,)]"
      ]
     },
     "execution_count": 24,
     "metadata": {},
     "output_type": "execute_result"
    }
   ],
   "source": [
    "# run a query, our changes are flushed; results come back.\n",
    "\n",
    "result = session.execute(\n",
    "    select(User).where(User.username.in_([\"Spongy\", \"fakeuser\"]))\n",
    ")\n",
    "result.all()"
   ]
  },
  {
   "cell_type": "code",
   "execution_count": 25,
   "metadata": {},
   "outputs": [],
   "source": [
    "# But we're inside of a transaction.  Roll it back.\n",
    "session.rollback()"
   ]
  },
  {
   "cell_type": "code",
   "execution_count": 26,
   "metadata": {},
   "outputs": [
    {
     "data": {
      "text/plain": [
       "'spongebob'"
      ]
     },
     "execution_count": 26,
     "metadata": {},
     "output_type": "execute_result"
    }
   ],
   "source": [
    "# Again, the transaction is over, objects are expired.\n",
    "# Accessing an attribute refreshes the object and the \"Spongy\" username is gone\n",
    "spongebob.username"
   ]
  },
  {
   "cell_type": "code",
   "execution_count": 27,
   "metadata": {},
   "outputs": [
    {
     "data": {
      "text/plain": [
       "False"
      ]
     },
     "execution_count": 27,
     "metadata": {},
     "output_type": "execute_result"
    }
   ],
   "source": [
    "# \"fake_user\" has been evicted from the session.\n",
    "fake_user in session"
   ]
  },
  {
   "cell_type": "code",
   "execution_count": 28,
   "metadata": {},
   "outputs": [
    {
     "data": {
      "text/plain": [
       "[(<User('spongebob', 'Spongebob Jones')>,)]"
      ]
     },
     "execution_count": 28,
     "metadata": {},
     "output_type": "execute_result"
    }
   ],
   "source": [
    "# and the data is gone from the database too.\n",
    "\n",
    "result = session.execute(\n",
    "    select(User).where(User.username.in_([\"spongebob\", \"fakeuser\"]))\n",
    ")\n",
    "result.all()"
   ]
  },
  {
   "cell_type": "code",
   "execution_count": 29,
   "metadata": {},
   "outputs": [
    {
     "name": "stdout",
     "output_type": "stream",
     "text": [
      "user_account.username = :username_1\n"
     ]
    }
   ],
   "source": [
    "### title:: ORM Querying\n",
    "# The attributes on our mapped class act like Column objects, and\n",
    "# produce SQL expressions.\n",
    "\n",
    "print(User.username == \"spongebob\")"
   ]
  },
  {
   "cell_type": "code",
   "execution_count": 30,
   "metadata": {},
   "outputs": [],
   "source": [
    "# When ORM-specific expressions are used with select(), the Select construct\n",
    "# itself takes on ORM-enabled features, the most basic of which is that\n",
    "# it can discern between selecting from *columns* vs *entities*.  Below,\n",
    "# the SELECT is to return rows that contain a single element, which would\n",
    "# be an instance of User.   This is translated from the actual SELECT\n",
    "# sent to the database that SELECTs for the individual columns of the\n",
    "# User entity.\n",
    "\n",
    "query = (\n",
    "    select(User).where(User.username == \"spongebob\").order_by(User.id)\n",
    ")\n",
    "\n",
    "# the rows we get back from Session.execute() then contain User objects\n",
    "# as the first element in each row.\n",
    "result = session.execute(query)\n",
    "\n",
    "for row in result:\n",
    "    print(row)"
   ]
  },
  {
   "cell_type": "code",
   "execution_count": 32,
   "metadata": {},
   "outputs": [
    {
     "name": "stdout",
     "output_type": "stream",
     "text": [
      "<User('spongebob', 'Spongebob Jones')>\n"
     ]
    }
   ],
   "source": [
    "# As it is typically convenient for rows that only have a single element\n",
    "# to be delivered as the element alone, we can use the .scalars() method\n",
    "# of Result as we did earlier to return just the first column of each row\n",
    "\n",
    "result = session.execute(query)\n",
    "for user_obj in result.scalars():\n",
    "    print(user_obj)\n"
   ]
  },
  {
   "cell_type": "code",
   "execution_count": 33,
   "metadata": {},
   "outputs": [
    {
     "name": "stdout",
     "output_type": "stream",
     "text": [
      "<User('spongebob', 'Spongebob Jones')>\n"
     ]
    }
   ],
   "source": [
    "# we can also qualify the rows we want to get back with methods like\n",
    "# .one()\n",
    "\n",
    "result = session.execute(query)\n",
    "\n",
    "user_obj = result.scalars().one()\n",
    "print(user_obj)"
   ]
  },
  {
   "cell_type": "code",
   "execution_count": 34,
   "metadata": {},
   "outputs": [
    {
     "name": "stdout",
     "output_type": "stream",
     "text": [
      "spongebob Spongebob Jones\n",
      "patrick Patrick Star\n",
      "sandy Sandy Cheeks\n"
     ]
    }
   ],
   "source": [
    "# An ORM query can make use of any combination of columns and entities.\n",
    "# To request the fields of User separately, we name them separately in the\n",
    "# columns clause\n",
    "\n",
    "query = select(User.username, User.fullname)\n",
    "result = session.execute(query)\n",
    "for row in result:\n",
    "    print(f\"{row.username} {row.fullname}\")"
   ]
  },
  {
   "cell_type": "code",
   "execution_count": 35,
   "metadata": {},
   "outputs": [
    {
     "name": "stdout",
     "output_type": "stream",
     "text": [
      "1 Spongebob Jones spongebob\n",
      "2 Patrick Star patrick\n",
      "3 Sandy Cheeks sandy\n"
     ]
    }
   ],
   "source": [
    "# as well as combinations of \"entities\" and columns\n",
    "\n",
    "query = select(User, User.username)\n",
    "result = session.execute(query)\n",
    "for row in result:\n",
    "    print(f\"{row.User.id} {row.User.fullname} {row.username}\")"
   ]
  },
  {
   "cell_type": "code",
   "execution_count": 36,
   "metadata": {},
   "outputs": [
    {
     "name": "stdout",
     "output_type": "stream",
     "text": [
      "spongebob\n"
     ]
    }
   ],
   "source": [
    "# the WHERE clause is either by filter_by(), which is convenient\n",
    "\n",
    "for (username, ) in session.execute(\n",
    "    select(User.username).filter_by(\n",
    "        fullname=\"Spongebob Jones\"\n",
    "    )\n",
    "):\n",
    "    print(username)"
   ]
  },
  {
   "cell_type": "code",
   "execution_count": 37,
   "metadata": {},
   "outputs": [
    {
     "name": "stdout",
     "output_type": "stream",
     "text": [
      "<User('spongebob', 'Spongebob Jones')>\n"
     ]
    }
   ],
   "source": [
    "# or where() for more explicitness\n",
    "\n",
    "from sqlalchemy import or_\n",
    "\n",
    "for (user, ) in (\n",
    "    session.execute(\n",
    "        select(User)\n",
    "        .where(User.username == \"spongebob\")\n",
    "        .where(or_(User.fullname == \"Spongebob Jones\", User.id < 5))\n",
    "    )\n",
    "):\n",
    "    print(user)"
   ]
  },
  {
   "cell_type": "code",
   "execution_count": null,
   "metadata": {},
   "outputs": [],
   "source": []
  },
  {
   "cell_type": "code",
   "execution_count": null,
   "metadata": {},
   "outputs": [],
   "source": []
  },
  {
   "cell_type": "code",
   "execution_count": null,
   "metadata": {},
   "outputs": [],
   "source": []
  },
  {
   "cell_type": "code",
   "execution_count": null,
   "metadata": {},
   "outputs": [],
   "source": []
  }
 ],
 "metadata": {
  "interpreter": {
   "hash": "05d659cf7217a31b7ba206b7e3fe1d98040361cb242cc44ce7c59206cfd427bc"
  },
  "kernelspec": {
   "display_name": "Python 3.9.5 64-bit ('spenncon': conda)",
   "name": "python3"
  },
  "language_info": {
   "codemirror_mode": {
    "name": "ipython",
    "version": 3
   },
   "file_extension": ".py",
   "mimetype": "text/x-python",
   "name": "python",
   "nbconvert_exporter": "python",
   "pygments_lexer": "ipython3",
   "version": "3.9.5"
  },
  "orig_nbformat": 4
 },
 "nbformat": 4,
 "nbformat_minor": 2
}
