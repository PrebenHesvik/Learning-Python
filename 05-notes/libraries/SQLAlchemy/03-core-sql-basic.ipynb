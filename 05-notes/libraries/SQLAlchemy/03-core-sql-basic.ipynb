{
 "cells": [
  {
   "cell_type": "markdown",
   "metadata": {},
   "source": [
    "## Core SQL Expression Language\n",
    "- The SQL Expression system builds upon Table Metadata in order to compose SQL statements in Python.\n",
    "\n",
    "- We build Python objects that represent individual SQL strings (statements) we'd send to the database.\n",
    "\n",
    "- These objects are composed of other objects that each represent some unit of SQL, like a comparison, a SELECT statement, a conjuction such as AND or OR. \n",
    "\n",
    "- We work with these objects in Python, which are then converted to strings when we \"execute\" them (as well as if we print them)\n",
    "\n",
    "- SQL expressions in bot Core and ORM variants rely heavily on the \"method chaining\" programming patter. "
   ]
  },
  {
   "cell_type": "code",
   "execution_count": 3,
   "metadata": {},
   "outputs": [],
   "source": [
    "from sqlalchemy import MetaData, Table, Column, String, Integer\n",
    "from sqlalchemy import create_engine"
   ]
  },
  {
   "cell_type": "code",
   "execution_count": 4,
   "metadata": {},
   "outputs": [],
   "source": [
    "metadata = MetaData()\n",
    "user_table = Table(\n",
    "    \"user_account\",\n",
    "    metadata,\n",
    "    Column(\"id\", Integer, primary_key=True),\n",
    "    Column(\"username\", String(50)),\n",
    "    Column(\"fullname\", String(50)),\n",
    ")\n",
    "\n",
    "engine = create_engine(\"sqlite://\")\n",
    "with engine.begin() as conn:\n",
    "    metadata.create_all(conn)"
   ]
  },
  {
   "cell_type": "code",
   "execution_count": 5,
   "metadata": {},
   "outputs": [
    {
     "data": {
      "text/plain": [
       "Column('username', String(length=50), table=<user_account>)"
      ]
     },
     "execution_count": 5,
     "metadata": {},
     "output_type": "execute_result"
    }
   ],
   "source": [
    "# as we saw earlier, Table has a collection of Column objects,\n",
    "# which we can access via table.c.<columnname>\n",
    "\n",
    "user_table.c.username"
   ]
  },
  {
   "cell_type": "code",
   "execution_count": 6,
   "metadata": {},
   "outputs": [
    {
     "data": {
      "text/plain": [
       "<sqlalchemy.sql.elements.BinaryExpression object at 0x000001E6DABBEC10>"
      ]
     },
     "execution_count": 6,
     "metadata": {},
     "output_type": "execute_result"
    }
   ],
   "source": [
    "# Column is part of a class known as \"ColumnElement\",\n",
    "# which exhibit custom Python expression behavior.\n",
    "\n",
    "user_table.c.username == \"spongebob\""
   ]
  },
  {
   "cell_type": "code",
   "execution_count": 7,
   "metadata": {},
   "outputs": [
    {
     "data": {
      "text/plain": [
       "'user_account.username = :username_1'"
      ]
     },
     "execution_count": 7,
     "metadata": {},
     "output_type": "execute_result"
    }
   ],
   "source": [
    "# They are objects that can be **compiled** into a SQL string.   This\n",
    "# process occurs when they are part of a statement to be executed.  It\n",
    "# also can be viewed for debugging purposes by calling str() on the object.\n",
    "str(user_table.c.username == \"spongebob\")"
   ]
  },
  {
   "cell_type": "code",
   "execution_count": 9,
   "metadata": {},
   "outputs": [
    {
     "data": {
      "text/plain": [
       "('user_account.username = :username_1', {'username_1': 'spongebob'})"
      ]
     },
     "execution_count": 9,
     "metadata": {},
     "output_type": "execute_result"
    }
   ],
   "source": [
    "# For more fine-grained inspection of the compilation process, the .compile()\n",
    "# method provides the compiled form of the statement.   This includes the\n",
    "# string statement itself, as well as the parameter values, which will\n",
    "# have been taken from the literal values present in the statement.\n",
    "compiled = (user_table.c.username == \"spongebob\").compile()\n",
    "compiled.string, compiled.params"
   ]
  },
  {
   "cell_type": "code",
   "execution_count": 10,
   "metadata": {},
   "outputs": [
    {
     "name": "stdout",
     "output_type": "stream",
     "text": [
      "user_account.username = :username_1 OR user_account.username = :username_2\n"
     ]
    }
   ],
   "source": [
    "### title:: Building bigger SQL constructs.\n",
    "# ColumnElements are the basic building block of SQL statement objects.\n",
    "# To compose more complex criteria, and_() and or_() for example provide the\n",
    "# basic conjunctions of AND and OR.\n",
    "\n",
    "from sqlalchemy import and_, or_\n",
    "\n",
    "print(\n",
    "    or_(\n",
    "        user_table.c.username == \"spongebob\",\n",
    "        user_table.c.username == \"patrick\"\n",
    "    )\n",
    ")"
   ]
  },
  {
   "cell_type": "code",
   "execution_count": 11,
   "metadata": {},
   "outputs": [
    {
     "name": "stdout",
     "output_type": "stream",
     "text": [
      "user_account.fullname = :fullname_1 AND (user_account.username = :username_1 OR user_account.username = :username_2)\n"
     ]
    }
   ],
   "source": [
    "print(\n",
    "    and_(\n",
    "        user_table.c.fullname == \"spongebob squarepants\",\n",
    "        or_(\n",
    "            user_table.c.username == \"spongebob\",\n",
    "            user_table.c.username == \"patrick\",\n",
    "        )\n",
    "    )\n",
    ")"
   ]
  },
  {
   "cell_type": "code",
   "execution_count": 12,
   "metadata": {},
   "outputs": [
    {
     "name": "stdout",
     "output_type": "stream",
     "text": [
      "user_account.id >= :id_1 AND user_account.fullname BETWEEN :fullname_1 AND :fullname_2 AND user_account.fullname != :fullname_3\n"
     ]
    }
   ],
   "source": [
    "### title:: More Operators\n",
    "\n",
    "# comparison operators =, !=, >, <, >=, =<, between()\n",
    "\n",
    "print(and_(\n",
    "    user_table.c.id >= 5,\n",
    "    user_table.c.fullname.between('m', 'z'),\n",
    "    user_table.c.fullname != 'plankton'\n",
    "))"
   ]
  },
  {
   "cell_type": "code",
   "execution_count": 13,
   "metadata": {},
   "outputs": [
    {
     "name": "stdout",
     "output_type": "stream",
     "text": [
      "user_account.username IS NOT NULL AND user_account.fullname IS NULL\n"
     ]
    }
   ],
   "source": [
    "# Compare to None produces IS NULL / IS NOT NULL\n",
    "\n",
    "print(and_(\n",
    "    user_table.c.username != None,\n",
    "    user_table.c.fullname == None\n",
    "))"
   ]
  },
  {
   "cell_type": "code",
   "execution_count": 14,
   "metadata": {},
   "outputs": [
    {
     "name": "stdout",
     "output_type": "stream",
     "text": [
      "user_account.id + :id_1\n"
     ]
    }
   ],
   "source": [
    "# Operators may also be type sensitive.\n",
    "# \"+\" with numbers means \"addition\"....\n",
    "\n",
    "print(user_table.c.id + 5)"
   ]
  },
  {
   "cell_type": "code",
   "execution_count": 15,
   "metadata": {},
   "outputs": [
    {
     "name": "stdout",
     "output_type": "stream",
     "text": [
      "user_account.fullname || :fullname_1\n"
     ]
    }
   ],
   "source": [
    "# ...with strings it means \"string concatenation\"\n",
    "\n",
    "print(user_table.c.fullname + \" Jr.\")"
   ]
  },
  {
   "cell_type": "code",
   "execution_count": 16,
   "metadata": {},
   "outputs": [
    {
     "name": "stdout",
     "output_type": "stream",
     "text": [
      "user_account.username IN ([POSTCOMPILE_username_1])\n"
     ]
    }
   ],
   "source": [
    "# the IN operator generates a special placeholder that will be filled\n",
    "# in when the statement is executed\n",
    "criteria = user_table.c.username.in_([\"sandy\", \"squidward\", \"spongebob\"])\n",
    "print(criteria)"
   ]
  },
  {
   "cell_type": "code",
   "execution_count": 17,
   "metadata": {},
   "outputs": [
    {
     "name": "stdout",
     "output_type": "stream",
     "text": [
      "user_account.username IN (:username_1_1, :username_1_2, :username_1_3)\n"
     ]
    }
   ],
   "source": [
    "# When it is executed, bound parameters are generated as seen here\n",
    "print(criteria.compile(compile_kwargs={'render_postcompile': True}))"
   ]
  },
  {
   "cell_type": "code",
   "execution_count": 18,
   "metadata": {},
   "outputs": [
    {
     "name": "stdout",
     "output_type": "stream",
     "text": [
      "user_account.username IN (NULL) AND (1 != 1)\n"
     ]
    }
   ],
   "source": [
    "# when given an empty collection, the placeholder generates a SQL\n",
    "# subquery that represents an \"empty set\"\n",
    "\n",
    "criteria = user_table.c.username.in_([])\n",
    "print(criteria.compile(compile_kwargs={'render_postcompile': True}))"
   ]
  },
  {
   "cell_type": "code",
   "execution_count": 19,
   "metadata": {},
   "outputs": [],
   "source": [
    "### title:: Working with INSERT and SELECT Statements\n",
    "# we can insert data using the insert() construct\n",
    "\n",
    "insert_stmt = user_table.insert().values(\n",
    "    username=\"spongebob\", fullname=\"Spongebob Squarepants\"\n",
    ")\n",
    "\n",
    "with engine.begin() as connection:\n",
    "    connection.execute(insert_stmt)"
   ]
  },
  {
   "cell_type": "code",
   "execution_count": 20,
   "metadata": {},
   "outputs": [],
   "source": [
    "# The insert() statement, when not given values(), will generate the VALUES\n",
    "# clause based on the list of parameters that are passed to execute().\n",
    "\n",
    "with engine.begin() as connection:\n",
    "    connection.execute(\n",
    "        user_table.insert(), {\"username\": \"sandy\", \"fullname\": \"Sandy Cheeks\"}\n",
    "    )\n",
    "\n",
    "    # this format also accepts an \"executemany\" style that the DBAPI can optimize\n",
    "    connection.execute(\n",
    "        user_table.insert(),\n",
    "        [\n",
    "            {\"username\": \"patrick\", \"fullname\": \"Patrick Star\"},\n",
    "            {\"username\": \"squidward\", \"fullname\": \"Squidward Tentacles\"},\n",
    "        ],\n",
    "    )"
   ]
  },
  {
   "cell_type": "code",
   "execution_count": 21,
   "metadata": {},
   "outputs": [
    {
     "name": "stdout",
     "output_type": "stream",
     "text": [
      "('spongebob', 'Spongebob Squarepants')\n"
     ]
    }
   ],
   "source": [
    "# select() is used to produce any SELECT statement.\n",
    "\n",
    "from sqlalchemy import select\n",
    "\n",
    "with engine.connect() as connection:\n",
    "    select_stmt = (\n",
    "        select(user_table.c.username, user_table.c.fullname).\n",
    "        where(user_table.c.username == \"spongebob\")\n",
    "    )\n",
    "    result = connection.execute(select_stmt)\n",
    "    for row in result:\n",
    "        print(row)"
   ]
  },
  {
   "cell_type": "code",
   "execution_count": 22,
   "metadata": {},
   "outputs": [],
   "source": [
    "# select all columns from a table\n",
    "\n",
    "with engine.connect() as connection:\n",
    "    select_stmt = select(user_table)\n",
    "    connection.execute(select_stmt).all()"
   ]
  },
  {
   "cell_type": "code",
   "execution_count": 23,
   "metadata": {},
   "outputs": [],
   "source": [
    "# specify WHERE and ORDER BY\n",
    "\n",
    "with engine.connect() as connection:\n",
    "    select_stmt = select(user_table).where(\n",
    "        or_(\n",
    "            user_table.c.username == \"spongebob\",\n",
    "            user_table.c.username == \"sandy\",\n",
    "        )\n",
    "    ).order_by(user_table.c.username)\n",
    "    connection.execute(select_stmt).all()"
   ]
  },
  {
   "cell_type": "code",
   "execution_count": 24,
   "metadata": {},
   "outputs": [],
   "source": [
    "# specify multiple WHERE, will be joined by AND\n",
    "\n",
    "with engine.connect() as connection:\n",
    "    select_stmt = (\n",
    "        select(user_table)\n",
    "        .where(user_table.c.username == \"spongebob\")\n",
    "        .where(user_table.c.fullname == \"Spongebob Squarepants\")\n",
    "        .order_by(user_table.c.username)\n",
    "    )\n",
    "    connection.execute(select_stmt).all()"
   ]
  },
  {
   "cell_type": "code",
   "execution_count": 26,
   "metadata": {},
   "outputs": [
    {
     "name": "stdout",
     "output_type": "stream",
     "text": [
      "Spongebob Squarepants\n"
     ]
    }
   ],
   "source": [
    "with engine.connect() as connection:\n",
    "    result = connection.execute(\n",
    "        select(user_table.c.fullname).where(user_table.c.username == 'spongebob')\n",
    "    )\n",
    "    print(result.one()[0])\n",
    "    "
   ]
  },
  {
   "cell_type": "code",
   "execution_count": 27,
   "metadata": {},
   "outputs": [
    {
     "ename": "MultipleResultsFound",
     "evalue": "Multiple rows were found when exactly one was required",
     "output_type": "error",
     "traceback": [
      "\u001b[1;31m---------------------------------------------------------------------------\u001b[0m",
      "\u001b[1;31mMultipleResultsFound\u001b[0m                      Traceback (most recent call last)",
      "\u001b[1;32m<ipython-input-27-18db03dcb69e>\u001b[0m in \u001b[0;36m<module>\u001b[1;34m\u001b[0m\n\u001b[0;32m      5\u001b[0m     \u001b[0mselect\u001b[0m\u001b[1;33m(\u001b[0m\u001b[0muser_table\u001b[0m\u001b[1;33m.\u001b[0m\u001b[0mc\u001b[0m\u001b[1;33m.\u001b[0m\u001b[0mfullname\u001b[0m\u001b[1;33m)\u001b[0m\u001b[1;33m.\u001b[0m\u001b[0morder_by\u001b[0m\u001b[1;33m(\u001b[0m\u001b[0muser_table\u001b[0m\u001b[1;33m.\u001b[0m\u001b[0mc\u001b[0m\u001b[1;33m.\u001b[0m\u001b[0musername\u001b[0m\u001b[1;33m)\u001b[0m\u001b[1;33m\u001b[0m\u001b[1;33m\u001b[0m\u001b[0m\n\u001b[0;32m      6\u001b[0m     )\n\u001b[1;32m----> 7\u001b[1;33m     \u001b[0mprint\u001b[0m\u001b[1;33m(\u001b[0m\u001b[0mresult\u001b[0m\u001b[1;33m.\u001b[0m\u001b[0mone\u001b[0m\u001b[1;33m(\u001b[0m\u001b[1;33m)\u001b[0m\u001b[1;33m[\u001b[0m\u001b[1;36m0\u001b[0m\u001b[1;33m]\u001b[0m\u001b[1;33m)\u001b[0m\u001b[1;33m\u001b[0m\u001b[1;33m\u001b[0m\u001b[0m\n\u001b[0m",
      "\u001b[1;32m~\\Miniconda3\\envs\\spenncon\\lib\\site-packages\\sqlalchemy\\engine\\result.py\u001b[0m in \u001b[0;36mone\u001b[1;34m(self)\u001b[0m\n\u001b[0;32m   1155\u001b[0m \u001b[1;33m\u001b[0m\u001b[0m\n\u001b[0;32m   1156\u001b[0m         \"\"\"\n\u001b[1;32m-> 1157\u001b[1;33m         return self._only_one_row(\n\u001b[0m\u001b[0;32m   1158\u001b[0m             \u001b[0mraise_for_second_row\u001b[0m\u001b[1;33m=\u001b[0m\u001b[1;32mTrue\u001b[0m\u001b[1;33m,\u001b[0m \u001b[0mraise_for_none\u001b[0m\u001b[1;33m=\u001b[0m\u001b[1;32mTrue\u001b[0m\u001b[1;33m,\u001b[0m \u001b[0mscalar\u001b[0m\u001b[1;33m=\u001b[0m\u001b[1;32mFalse\u001b[0m\u001b[1;33m\u001b[0m\u001b[1;33m\u001b[0m\u001b[0m\n\u001b[0;32m   1159\u001b[0m         )\n",
      "\u001b[1;32m~\\Miniconda3\\envs\\spenncon\\lib\\site-packages\\sqlalchemy\\engine\\result.py\u001b[0m in \u001b[0;36m_only_one_row\u001b[1;34m(self, raise_for_second_row, raise_for_none, scalar)\u001b[0m\n\u001b[0;32m    611\u001b[0m             \u001b[1;32mif\u001b[0m \u001b[0mnext_row\u001b[0m \u001b[1;32mis\u001b[0m \u001b[1;32mnot\u001b[0m \u001b[0m_NO_ROW\u001b[0m\u001b[1;33m:\u001b[0m\u001b[1;33m\u001b[0m\u001b[1;33m\u001b[0m\u001b[0m\n\u001b[0;32m    612\u001b[0m                 \u001b[0mself\u001b[0m\u001b[1;33m.\u001b[0m\u001b[0m_soft_close\u001b[0m\u001b[1;33m(\u001b[0m\u001b[0mhard\u001b[0m\u001b[1;33m=\u001b[0m\u001b[1;32mTrue\u001b[0m\u001b[1;33m)\u001b[0m\u001b[1;33m\u001b[0m\u001b[1;33m\u001b[0m\u001b[0m\n\u001b[1;32m--> 613\u001b[1;33m                 raise exc.MultipleResultsFound(\n\u001b[0m\u001b[0;32m    614\u001b[0m                     \u001b[1;34m\"Multiple rows were found when exactly one was required\"\u001b[0m\u001b[1;33m\u001b[0m\u001b[1;33m\u001b[0m\u001b[0m\n\u001b[0;32m    615\u001b[0m                     \u001b[1;32mif\u001b[0m \u001b[0mraise_for_none\u001b[0m\u001b[1;33m\u001b[0m\u001b[1;33m\u001b[0m\u001b[0m\n",
      "\u001b[1;31mMultipleResultsFound\u001b[0m: Multiple rows were found when exactly one was required"
     ]
    }
   ],
   "source": [
    "# if there are no rows, or many rows, it raises an error.\n",
    "\n",
    "with engine.connect() as connection:\n",
    "    result = connection.execute(\n",
    "    select(user_table.c.fullname).order_by(user_table.c.username)\n",
    "    )\n",
    "    print(result.one()[0])"
   ]
  },
  {
   "cell_type": "code",
   "execution_count": 28,
   "metadata": {},
   "outputs": [
    {
     "name": "stdout",
     "output_type": "stream",
     "text": [
      "None\n"
     ]
    }
   ],
   "source": [
    "with engine.connect() as connection:\n",
    "    result = connection.execute(\n",
    "    select(user_table).where(user_table.c.username == 'nonexistent')\n",
    "    )\n",
    "    print(result.one_or_none())"
   ]
  },
  {
   "cell_type": "code",
   "execution_count": 29,
   "metadata": {},
   "outputs": [
    {
     "name": "stdout",
     "output_type": "stream",
     "text": [
      "Patrick Star patrick\n",
      "Sandy Cheeks sandy\n",
      "Spongebob Squarepants spongebob\n",
      "Squidward Tentacles squidward\n"
     ]
    }
   ],
   "source": [
    "# result objects now support slicing at the result level.   We can SELECT\n",
    "# some rows, and change the ordering and/or presence of columns after the\n",
    "# fact using the .columns() method:\n",
    "with engine.connect() as connection:\n",
    "    result = connection.execute(\n",
    "        select(user_table).order_by(user_table.c.username)\n",
    "    )\n",
    "    for fullname, username in result.columns(\"fullname\", \"username\"):\n",
    "        print(f\"{fullname} {username}\")"
   ]
  },
  {
   "cell_type": "code",
   "execution_count": 30,
   "metadata": {},
   "outputs": [
    {
     "name": "stdout",
     "output_type": "stream",
     "text": [
      "Patrick Star\n",
      "Sandy Cheeks\n",
      "Spongebob Squarepants\n",
      "Squidward Tentacles\n"
     ]
    }
   ],
   "source": [
    "# a single column from the results can be delivered without using\n",
    "# rows by applying the .scalars() modifier.   This accepts an optional\n",
    "# column name, or otherwise assumes the first column:\n",
    "\n",
    "with engine.connect() as connection:\n",
    "    result = connection.execute(\n",
    "        select(user_table).order_by(user_table.c.username)\n",
    "    )\n",
    "    for fullname in result.scalars(\"fullname\"):\n",
    "        print(fullname)"
   ]
  },
  {
   "cell_type": "code",
   "execution_count": 31,
   "metadata": {},
   "outputs": [],
   "source": [
    "### title:: Working with UPDATE and DELETE Statements\n",
    "# The update() construct is very similar to insert().  We can specify\n",
    "# values(), which here refers to the SET clause of the UPDATE statement\n",
    "\n",
    "with engine.begin() as connection:\n",
    "    update_stmt = (\n",
    "        user_table.update()\n",
    "        .values(fullname=\"Patrick Star\")\n",
    "        .where(user_table.c.username == \"patrick\")\n",
    "    )\n",
    "\n",
    "    result = connection.execute(update_stmt)"
   ]
  },
  {
   "cell_type": "code",
   "execution_count": 32,
   "metadata": {},
   "outputs": [],
   "source": [
    "# Like INSERT, it can also generate the SET clause based on the given\n",
    "# parameters\n",
    "\n",
    "with engine.begin() as connection:\n",
    "    update_stmt = (\n",
    "        user_table.update()\n",
    "        .where(user_table.c.username == \"patrick\")\n",
    "    )\n",
    "\n",
    "    result = connection.execute(update_stmt, {\"fullname\": \"Patrick Star\"})"
   ]
  },
  {
   "cell_type": "code",
   "execution_count": 33,
   "metadata": {},
   "outputs": [],
   "source": [
    "# the update().values() method has an extra capability in that it can\n",
    "# accommodate arbitrary SQL expressions as well\n",
    "\n",
    "with engine.begin() as connection:\n",
    "    update_stmt = (\n",
    "        user_table.update().\n",
    "        values(\n",
    "            fullname=user_table.c.username + \" \" + user_table.c.fullname\n",
    "        )\n",
    "    )\n",
    "\n",
    "    result = connection.execute(update_stmt)"
   ]
  },
  {
   "cell_type": "code",
   "execution_count": 34,
   "metadata": {},
   "outputs": [],
   "source": [
    "# and this is a DELETE\n",
    "\n",
    "with engine.begin() as connection:\n",
    "    delete_stmt = user_table.delete().where(user_table.c.username == \"patrick\")\n",
    "\n",
    "    result = connection.execute(delete_stmt)"
   ]
  },
  {
   "cell_type": "code",
   "execution_count": null,
   "metadata": {},
   "outputs": [],
   "source": []
  }
 ],
 "metadata": {
  "interpreter": {
   "hash": "05d659cf7217a31b7ba206b7e3fe1d98040361cb242cc44ce7c59206cfd427bc"
  },
  "kernelspec": {
   "display_name": "Python 3.9.5 64-bit ('spenncon': conda)",
   "name": "python3"
  },
  "language_info": {
   "codemirror_mode": {
    "name": "ipython",
    "version": 3
   },
   "file_extension": ".py",
   "mimetype": "text/x-python",
   "name": "python",
   "nbconvert_exporter": "python",
   "pygments_lexer": "ipython3",
   "version": "3.9.5"
  },
  "orig_nbformat": 4
 },
 "nbformat": 4,
 "nbformat_minor": 2
}
