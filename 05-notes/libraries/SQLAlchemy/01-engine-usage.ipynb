{
 "cells": [
  {
   "cell_type": "code",
   "execution_count": 1,
   "metadata": {},
   "outputs": [],
   "source": [
    "import os\n",
    "from sqlalchemy import create_engine\n",
    "from sqlalchemy import text"
   ]
  },
  {
   "cell_type": "markdown",
   "metadata": {},
   "source": [
    "# SQLAlchemy - Core\n",
    "## Engine - a gateway to database connectivity, which provides:\n",
    "- Connection - the interface to a database connection, which provides:\n",
    "- Result - the interface to a database result\n",
    "\n",
    "## Engine maintans behind the screne:\n",
    "- Dialect - transaltes SLQAlchemy constructs for a specific kind of database and database driver\n",
    "- Connection Pool - holds a collection of database connections in memory for fast re-use\n",
    "\n",
    "## SQL Expression Language - Python constructs that represent SQL statements\n",
    "\n",
    "## Schema/Types - Python constructs that represent tables, columns, datatypes and other DDL"
   ]
  },
  {
   "cell_type": "code",
   "execution_count": 2,
   "metadata": {},
   "outputs": [],
   "source": [
    "# create_engine() builds a *factory* for database connections.\n",
    "# Below we create an engine that will connect to a SQLite database.\n",
    "# \"future\" means we want the full 2.0 behavior.\n",
    "if os.path.exists(\"database.db\"):\n",
    "    os.remove(\"database.db\")\n",
    "engine = create_engine(\"sqlite:///database.db\", future=True)"
   ]
  },
  {
   "cell_type": "markdown",
   "metadata": {},
   "source": [
    "## Differrence between using engine.begin() and engine.connect()\n",
    "### **`Begin()`** auto-commits, while you have to commit yourself if you use **`connect()`**\n",
    "\n",
    "\n",
    "    with engine.connect() as conn:\n",
    "        with conn.begin():\n",
    "            conn.execute(...)\n",
    "            conn.execute(...)\n",
    "\n",
    "\n",
    "    with engine.connect() as conn:\n",
    "        conn.execute(...)\n",
    "        conn.execute(...)\n",
    "        conn.commit()"
   ]
  },
  {
   "cell_type": "markdown",
   "metadata": {},
   "source": [
    "It is now common to use with statements when executing code. If we did not use with statements we would have to remember to use **`connection.close()`**"
   ]
  },
  {
   "cell_type": "code",
   "execution_count": 3,
   "metadata": {},
   "outputs": [],
   "source": [
    "with engine.begin() as conn:\n",
    "    conn.execute(\n",
    "        text(\n",
    "            \"\"\"\n",
    "        create table employee (\n",
    "            emp_id integer primary key,\n",
    "            emp_name varchar\n",
    "        )\n",
    "    \"\"\"\n",
    "        )\n",
    "    )\n",
    "\n",
    "    conn.execute(\n",
    "        text(\n",
    "            \"\"\"\n",
    "        create table employee_of_month (\n",
    "            emp_id integer primary key,\n",
    "            emp_name varchar\n",
    "        )\n",
    "    \"\"\"\n",
    "        )\n",
    "    )\n",
    "\n",
    "    conn.execute(\n",
    "        text(\"insert into employee(emp_name) values (:name)\"),\n",
    "        [{\"name\": \"spongebob\"}, {\"name\": \"sandy\"}, {\"name\": \"squidward\"}],\n",
    "    )"
   ]
  },
  {
   "cell_type": "code",
   "execution_count": 4,
   "metadata": {},
   "outputs": [
    {
     "name": "stdout",
     "output_type": "stream",
     "text": [
      "(1, 'spongebob')\n",
      "(2, 'sandy')\n",
      "(3, 'squidward')\n"
     ]
    }
   ],
   "source": [
    "with engine.connect() as connection:\n",
    "    rows = connection.execute(text(\"select * from employee\")).all()\n",
    "    for row in rows:\n",
    "        print(row)"
   ]
  },
  {
   "cell_type": "code",
   "execution_count": 10,
   "metadata": {},
   "outputs": [
    {
     "name": "stdout",
     "output_type": "stream",
     "text": [
      "emp_id: 1, emp_name: spongebob\n",
      "emp_id: 2, emp_name: sandy\n",
      "emp_id: 3, emp_name: squidward\n"
     ]
    }
   ],
   "source": [
    "with engine.connect() as connection:\n",
    "    result = connection.execute(text('select * from employee')).all()\n",
    "    for emp_id, emp_name in result:\n",
    "        print(f'emp_id: {emp_id}, emp_name: {emp_name}')"
   ]
  },
  {
   "cell_type": "code",
   "execution_count": 6,
   "metadata": {},
   "outputs": [
    {
     "name": "stdout",
     "output_type": "stream",
     "text": [
      "sandy\n"
     ]
    }
   ],
   "source": [
    "# The Connection then features an .execute() method that will run queries.\n",
    "# To invoke a textual query we use the text() construct\n",
    "with engine.connect() as connection:\n",
    "    stmt = text(\"select emp_id, emp_name from employee where emp_id=:emp_id\")\n",
    "    result = connection.execute(stmt, {\"emp_id\": 2})\n",
    "    # the result object we get back is similar to a cursor, with more methods,\n",
    "    # such as first() which will return the first row and close the result set\n",
    "    row = result.first()\n",
    "    print(row.emp_name)"
   ]
  },
  {
   "cell_type": "code",
   "execution_count": 7,
   "metadata": {},
   "outputs": [],
   "source": [
    "# Unlike previous SQLAlchemy versions, SQLAlchemy 2.0 has no concept\n",
    "# of \"library level\" autocommit; which means, if the DBAPI driver is in\n",
    "# a transaction, SQLAlchemy will never commit it automatically.   The usual\n",
    "# way to commit is called \"commit as you go\"\n",
    "\n",
    "with engine.connect() as connection:\n",
    "    connection.execute(\n",
    "        text(\"insert into employee_of_month (emp_name) values (:emp_name)\"),\n",
    "        {\"emp_name\": \"sandy\"},\n",
    "    )\n",
    "    connection.commit()"
   ]
  },
  {
   "cell_type": "code",
   "execution_count": 8,
   "metadata": {},
   "outputs": [],
   "source": [
    "# the other way is called \"begin once\", when you just have a single transaction\n",
    "# to commit\n",
    "\n",
    "with engine.begin() as connection:\n",
    "    connection.execute(\n",
    "        text(\"insert into employee_of_month (emp_name) values (:emp_name)\"),\n",
    "        {\"emp_name\": \"squidward\"},\n",
    "    )"
   ]
  },
  {
   "cell_type": "code",
   "execution_count": 11,
   "metadata": {},
   "outputs": [],
   "source": [
    "# You can also use begin() blocks local to the connection\n",
    "\n",
    "with engine.connect() as connection:\n",
    "    with connection.begin():\n",
    "        connection.execute(\n",
    "            text(\"update employee_of_month set emp_name = :emp_name\"),\n",
    "            {\"emp_name\": \"squidward\"},\n",
    "        )\n",
    "    # end of inner block: commits transaction, or rollback if exception\n",
    " # end of outer block: releases connection to the connection pool"
   ]
  },
  {
   "cell_type": "code",
   "execution_count": 12,
   "metadata": {},
   "outputs": [],
   "source": [
    "# transactions support \"nesting\", which is implemented using the\n",
    "# SAVEPOINT construct.\n",
    "\n",
    "with engine.connect() as connection:\n",
    "    with connection.begin():\n",
    "        savepoint = connection.begin_nested()\n",
    "        connection.execute(\n",
    "            text(\"update employee_of_month set emp_name = :emp_name\"),\n",
    "            {\"emp_name\": \"patrick\"},\n",
    "        )\n",
    "        savepoint.rollback()  # sorry patrick\n",
    "\n",
    "        with connection.begin_nested() as savepoint:\n",
    "            connection.execute(\n",
    "                text(\"update employee_of_month set emp_name = :emp_name\"),\n",
    "                {\"emp_name\": \"spongebob\"},\n",
    "            )\n",
    "            # releases savepoint\n",
    "\n",
    "        # commits transaction, or rollback if exception\n",
    "    # releases connection to the connection pool"
   ]
  },
  {
   "cell_type": "code",
   "execution_count": 13,
   "metadata": {},
   "outputs": [],
   "source": [
    "# most DBAPIs support autocommit now, which is why SQLAlchemy no longer\n",
    "# does.  To use driver level autocommit, use execution options:\n",
    "\n",
    "with engine.connect().execution_options(isolation_level=\"AUTOCOMMIT\") as connection:\n",
    "    connection.execute(\n",
    "        text(\"insert into employee(emp_name) values (:name)\"),\n",
    "        {\"name\": \"plankton\"},\n",
    "    )"
   ]
  },
  {
   "cell_type": "code",
   "execution_count": 14,
   "metadata": {},
   "outputs": [
    {
     "name": "stdout",
     "output_type": "stream",
     "text": [
      "4\n"
     ]
    }
   ],
   "source": [
    "# the data was autocommitted\n",
    "with engine.connect() as connection:\n",
    "    planktons_id = connection.execute(\n",
    "        text(\"select emp_id from employee where emp_name=:name\"),\n",
    "        {\"name\": \"plankton\"}\n",
    "    ).scalar()\n",
    "    print(planktons_id)"
   ]
  }
 ],
 "metadata": {
  "interpreter": {
   "hash": "05d659cf7217a31b7ba206b7e3fe1d98040361cb242cc44ce7c59206cfd427bc"
  },
  "kernelspec": {
   "display_name": "Python 3.9.5 64-bit ('spenncon': conda)",
   "name": "python3"
  },
  "language_info": {
   "codemirror_mode": {
    "name": "ipython",
    "version": 3
   },
   "file_extension": ".py",
   "mimetype": "text/x-python",
   "name": "python",
   "nbconvert_exporter": "python",
   "pygments_lexer": "ipython3",
   "version": "3.9.5"
  },
  "orig_nbformat": 4
 },
 "nbformat": 4,
 "nbformat_minor": 2
}
