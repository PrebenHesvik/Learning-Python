{
 "cells": [
  {
   "cell_type": "code",
   "execution_count": null,
   "metadata": {},
   "outputs": [],
   "source": [
    "from sqlalchemy import Column, Integer, String\n",
    "from sqlalchemy.orm import registry\n",
    "from sqlalchemy.orm import relationship"
   ]
  },
  {
   "cell_type": "code",
   "execution_count": null,
   "metadata": {},
   "outputs": [],
   "source": [
    "mapper_registry = registry()\n",
    "\n",
    "\n",
    "@mapper_registry.mapped\n",
    "class User:\n",
    "    __tablename__ = \"user_account\"\n",
    "\n",
    "    id = Column(Integer, primary_key=True)\n",
    "    username = Column(String)\n",
    "    fullname = Column(String)\n",
    "\n",
    "    addresses = relationship(\"Address\", back_populates=\"user\")\n",
    "\n",
    "    def __repr__(self):\n",
    "        return \"<User(%r, %r)>\" % (self.username, self.fullname)"
   ]
  },
  {
   "cell_type": "code",
   "execution_count": null,
   "metadata": {},
   "outputs": [],
   "source": [
    "# for the other end of one-to-many, create another mapped class with\n",
    "# a ForeignKey referring back to User\n",
    "\n",
    "from sqlalchemy import ForeignKey\n",
    "\n",
    "\n",
    "@mapper_registry.mapped\n",
    "class Address:\n",
    "    __tablename__ = \"email_address\"\n",
    "\n",
    "    id = Column(Integer, primary_key=True)\n",
    "    email_address = Column(String, nullable=False)\n",
    "    user_id = Column(ForeignKey(\"user_account.id\"), nullable=False)\n",
    "\n",
    "    user = relationship(\"User\", back_populates=\"addresses\")\n",
    "\n",
    "    def __repr__(self):\n",
    "        return \"<Address(%r)>\" % self.email_address"
   ]
  },
  {
   "cell_type": "code",
   "execution_count": null,
   "metadata": {},
   "outputs": [],
   "source": [
    "# Create tables\n",
    "\n",
    "from sqlalchemy import create_engine\n",
    "\n",
    "engine = create_engine(\"sqlite://\")\n",
    "with engine.begin() as connection:\n",
    "    mapper_registry.metadata.create_all(connection)"
   ]
  },
  {
   "cell_type": "code",
   "execution_count": null,
   "metadata": {},
   "outputs": [],
   "source": [
    "# Insert data into the User table. Here we illustrate the sessionmaker\n",
    "# factory as a transactional context manager.\n",
    "\n",
    "from sqlalchemy.orm import sessionmaker\n",
    "\n",
    "Session = sessionmaker(bind=engine, future=True)\n",
    "\n",
    "with Session.begin() as session:\n",
    "    session.add_all(\n",
    "        [\n",
    "            User(username=\"spongebob\", fullname=\"Spongebob Squarepants\"),\n",
    "            User(username=\"sandy\", fullname=\"Sandy Cheeks\"),\n",
    "            User(username=\"patrick\", fullname=\"Patrick Star\"),\n",
    "        ]\n",
    "    )"
   ]
  },
  {
   "cell_type": "code",
   "execution_count": null,
   "metadata": {},
   "outputs": [],
   "source": [
    "# a new User object also gains an empty \"addresses\" collection now.\n",
    "\n",
    "squidward = User(username=\"squidward\", fullname=\"Squidward Tentacles\")\n",
    "squidward.addresses"
   ]
  },
  {
   "cell_type": "code",
   "execution_count": null,
   "metadata": {},
   "outputs": [],
   "source": [
    "# populate this collection with new Address objects.\n",
    "\n",
    "squidward.addresses = [\n",
    "    Address(email_address=\"squidward@gmail.com\"),\n",
    "    Address(email_address=\"s25@yahoo.com\"),\n",
    "    Address(email_address=\"squidward@hotmail.com\"),\n",
    "]"
   ]
  },
  {
   "cell_type": "code",
   "execution_count": null,
   "metadata": {},
   "outputs": [],
   "source": [
    "# \"back populates\" sets up Address.user for each User.address.\n",
    "\n",
    "squidward.addresses[1]\n",
    "squidward.addresses[1].user"
   ]
  },
  {
   "cell_type": "code",
   "execution_count": null,
   "metadata": {},
   "outputs": [],
   "source": [
    "# adding User->squidward will *cascade* each Address into the Session as well.\n",
    "\n",
    "session = Session()\n",
    "\n",
    "session.add(squidward)\n",
    "session.new"
   ]
  },
  {
   "cell_type": "code",
   "execution_count": null,
   "metadata": {},
   "outputs": [],
   "source": [
    " commit.\n",
    "session.commit()"
   ]
  },
  {
   "cell_type": "code",
   "execution_count": null,
   "metadata": {},
   "outputs": [],
   "source": [
    "# After expiration, squidward.addresses emits a *lazy load* when first\n",
    "# accessed.\n",
    "squidward.addresses"
   ]
  },
  {
   "cell_type": "code",
   "execution_count": null,
   "metadata": {},
   "outputs": [],
   "source": [
    "# the collection stays in memory until the transaction ends.\n",
    "squidward.addresses"
   ]
  },
  {
   "cell_type": "code",
   "execution_count": null,
   "metadata": {},
   "outputs": [],
   "source": [
    "# collections and references are updated by manipulating objects themselves;\n",
    "# setting up of foreign key column values is handled automatically.\n",
    "\n",
    "from sqlalchemy import select\n",
    "\n",
    "spongebob = session.execute(\n",
    "    select(User).filter_by(username=\"spongebob\")\n",
    ").scalar_one()\n",
    "spongebob.addresses\n",
    "squidward.addresses[1].user = spongebob"
   ]
  },
  {
   "cell_type": "code",
   "execution_count": null,
   "metadata": {},
   "outputs": [],
   "source": [
    "# by assigning .user on one of squidward's email addresses, the object moved\n",
    "# from one \"addresses\" collection to the other.  this is the back populates\n",
    "# feature at work.\n",
    "spongebob.addresses\n",
    "squidward.addresses"
   ]
  },
  {
   "cell_type": "code",
   "execution_count": null,
   "metadata": {},
   "outputs": [],
   "source": [
    "# commit the data.\n",
    "session.commit()"
   ]
  },
  {
   "cell_type": "code",
   "execution_count": null,
   "metadata": {},
   "outputs": [],
   "source": [
    "### title:: Querying with multiple tables\n",
    "# a SELECT statement can select from multiple entities simultaneously.\n",
    "\n",
    "stmt = select(User, Address).where(User.id == Address.user_id)\n",
    "\n",
    "for row in session.execute(stmt):\n",
    "    print(row)"
   ]
  },
  {
   "cell_type": "code",
   "execution_count": null,
   "metadata": {},
   "outputs": [],
   "source": [
    "# As is the same case in Core, we use the select().join() method\n",
    "# to create joins.   An entity can be given as the target which will\n",
    "# join along foreign keys.\n",
    "\n",
    "stmt = select(User, Address).join(Address)\n",
    "session.execute(stmt).all()"
   ]
  },
  {
   "cell_type": "code",
   "execution_count": null,
   "metadata": {},
   "outputs": [],
   "source": [
    "# or you can give it an explicit SQL expression for the ON clause\n",
    "\n",
    "stmt = select(User, Address).join(Address, User.id == Address.user_id)\n",
    "\n",
    "session.execute(stmt).all()"
   ]
  },
  {
   "cell_type": "code",
   "execution_count": null,
   "metadata": {},
   "outputs": [],
   "source": [
    "# however the most accurate and succinct way is to use the relationship-bound\n",
    "# attribute.\n",
    "\n",
    "stmt = (\n",
    "    select(User, Address).\n",
    "    join(User.addresses).\n",
    "    where(Address.email_address == \"squidward@gmail.com\")\n",
    ")\n",
    "\n",
    "session.execute(stmt).first()"
   ]
  },
  {
   "cell_type": "code",
   "execution_count": null,
   "metadata": {},
   "outputs": [],
   "source": [
    "# the ORM version of table.alias() is to use the aliased() function\n",
    "# on a mapped entity.\n",
    "\n",
    "from sqlalchemy.orm import aliased\n",
    "\n",
    "a1, a2 = aliased(Address), aliased(Address)\n",
    "\n",
    "stmt = (\n",
    "    select(User).\n",
    "    join_from(User, a1).\n",
    "    join_from(User, a2).\n",
    "    where(a1.email_address == \"squidward@gmail.com\").\n",
    "    where(a2.email_address == \"squidward@hotmail.com\")\n",
    ")\n",
    "\n",
    "session.execute(stmt).all()"
   ]
  },
  {
   "cell_type": "code",
   "execution_count": null,
   "metadata": {},
   "outputs": [],
   "source": [
    "# to join() to an aliased() object with more specificity, a form such\n",
    "# as \"Class.relationship.of_type(aliased)\" may be used\n",
    "\n",
    "stmt = (\n",
    "    select(User).\n",
    "    join(User.addresses.of_type(a1)).\n",
    "    join(User.addresses.of_type(a2)).\n",
    "    where(a1.email_address == \"squidward@gmail.com\").\n",
    "    where(a2.email_address == \"squidward@hotmail.com\")\n",
    ")\n",
    "\n",
    "session.execute(stmt).all()"
   ]
  },
  {
   "cell_type": "code",
   "execution_count": null,
   "metadata": {},
   "outputs": [],
   "source": [
    "# As was the case with Core, we can use subqueries and joins\n",
    "# with ORM mapped classes as well.\n",
    "\n",
    "from sqlalchemy import func\n",
    "\n",
    "subq = (\n",
    "    select(func.count(Address.id).label(\"count\"), Address.user_id)\n",
    "    .group_by(Address.user_id)\n",
    "    .subquery()\n",
    ")\n",
    "\n",
    "stmt = (\n",
    "    select(User.username, func.coalesce(subq.c.count, 0)).\n",
    "    outerjoin(subq, User.id == subq.c.user_id)\n",
    ")\n",
    "session.execute(stmt).all()"
   ]
  },
  {
   "cell_type": "code",
   "execution_count": null,
   "metadata": {},
   "outputs": [],
   "source": [
    "# Questions before the next section?\n",
    "\n",
    "### slide:: p\n",
    "### title:: Eager Loading\n",
    "# the \"N plus one\" problem is an ORM issue which refers to the many SELECT\n",
    "# statements emitted when loading collections against a parent result.\n",
    "# As SQLAlchemy is a full featured ORM, we of course include this! :)\n",
    "\n",
    "with Session() as session:\n",
    "    for user in session.execute(\n",
    "        select(User)\n",
    "    ).scalars():\n",
    "        print(user, user.addresses)"
   ]
  },
  {
   "cell_type": "code",
   "execution_count": null,
   "metadata": {},
   "outputs": [],
   "source": [
    "# However, SQLAlchemy was designed from the start to tame the \"N plus one\"\n",
    "# problem by implementing **eager loading**.  Eager loading is now very mature,\n",
    "# and the most effective strategy for collections is currently the\n",
    "# **selectinload** option.\n",
    "\n",
    "from sqlalchemy.orm import selectinload\n",
    "\n",
    "with Session() as session:\n",
    "    for user in session.execute(\n",
    "        select(User).\n",
    "        options(\n",
    "            selectinload(User.addresses)\n",
    "        )\n",
    "    ).scalars():\n",
    "        print(user, user.addresses)"
   ]
  },
  {
   "cell_type": "code",
   "execution_count": null,
   "metadata": {},
   "outputs": [],
   "source": [
    "# The oldest eager loading strategy is joinedload().  This uses a LEFT OUTER\n",
    "# JOIN or INNER JOIN to load parent + child in one query.  joinedload() can\n",
    "# work for collections as well, however it is best tailored towards many-to-one\n",
    "# relationships, particularly those where the foreign key is \"not null\".\n",
    "\n",
    "from sqlalchemy.orm import joinedload\n",
    "\n",
    "with Session() as session:\n",
    "    for address_obj in session.execute(\n",
    "        select(Address).\n",
    "        options(\n",
    "            joinedload(Address.user, innerjoin=True)\n",
    "        )\n",
    "    ).scalars():\n",
    "        print(address_obj.email_address, address_obj.user.username)"
   ]
  },
  {
   "cell_type": "code",
   "execution_count": null,
   "metadata": {},
   "outputs": [],
   "source": [
    "### title:: Instant Zen of Eager Loading\n",
    "# eager loading *does not* change the *result* of the Query.\n",
    "# only how related collections are loaded.   An explicit join()\n",
    "# can be mixed with the joinedload() and they are kept separate\n",
    "\n",
    "with Session() as session:\n",
    "    for address in session.execute(\n",
    "        select(Address)\n",
    "        .join(Address.user)\n",
    "        .where(User.username == \"squidward\")\n",
    "        .options(joinedload(Address.user))\n",
    "    ).scalars():\n",
    "        print(address, address.user)"
   ]
  },
  {
   "cell_type": "code",
   "execution_count": null,
   "metadata": {},
   "outputs": [],
   "source": [
    "# To optimize the common case of \"join to many-to-one and also load it on\n",
    "# the object\", the contains_eager() option is used\n",
    "\n",
    "from sqlalchemy.orm import contains_eager\n",
    "\n",
    "with Session() as session:\n",
    "    for address in session.execute(\n",
    "        select(Address)\n",
    "        .join(Address.user)\n",
    "        .where(User.username == \"squidward\")\n",
    "        .options(contains_eager(Address.user))\n",
    "    ).scalars():\n",
    "        print(address, address.user)"
   ]
  },
  {
   "cell_type": "code",
   "execution_count": null,
   "metadata": {},
   "outputs": [],
   "source": []
  },
  {
   "cell_type": "code",
   "execution_count": null,
   "metadata": {},
   "outputs": [],
   "source": []
  },
  {
   "cell_type": "code",
   "execution_count": null,
   "metadata": {},
   "outputs": [],
   "source": []
  }
 ],
 "metadata": {
  "interpreter": {
   "hash": "05d659cf7217a31b7ba206b7e3fe1d98040361cb242cc44ce7c59206cfd427bc"
  },
  "kernelspec": {
   "display_name": "Python 3.9.5 64-bit ('spenncon': conda)",
   "name": "python3"
  },
  "language_info": {
   "codemirror_mode": {
    "name": "ipython",
    "version": 3
   },
   "file_extension": ".py",
   "mimetype": "text/x-python",
   "name": "python",
   "nbconvert_exporter": "python",
   "pygments_lexer": "ipython3",
   "version": "3.9.5"
  },
  "orig_nbformat": 4
 },
 "nbformat": 4,
 "nbformat_minor": 2
}
