{
 "cells": [
  {
   "cell_type": "markdown",
   "source": [
    "# Table of Contents\n",
    " <p><div class=\"lev3 toc-item\"><a href=\"#Concatenating-strings\" data-toc-modified-id=\"Concatenating-strings-001\"><span class=\"toc-item-num\">0.0.1&nbsp;&nbsp;</span>Concatenating strings</a></div>"
   ],
   "metadata": {
    "toc": "true"
   }
  },
  {
   "cell_type": "markdown",
   "source": [
    "### Concatenating strings"
   ],
   "metadata": {}
  },
  {
   "cell_type": "code",
   "execution_count": 1,
   "source": [
    "names = ['Preben', 'Mads', 'Brede']\r\n",
    "string = (', '.join(names))\r\n",
    "print(string)"
   ],
   "outputs": [
    {
     "output_type": "stream",
     "name": "stdout",
     "text": [
      "Preben, Mads, Brede\n"
     ]
    }
   ],
   "metadata": {}
  },
  {
   "cell_type": "markdown",
   "source": [
    "### String formatting:\n",
    "We can insert variables/data into strings in several ways. <br>\n",
    "Below are some examples: "
   ],
   "metadata": {}
  },
  {
   "cell_type": "code",
   "execution_count": 71,
   "source": [
    "# Variables\r\n",
    "name = 'Preben'\r\n",
    "age = 37\r\n",
    "weight = 72.33\r\n",
    "\r\n",
    "# dictionary\r\n",
    "data = {'name': 'Preben', 'age': 37}\r\n",
    "\r\n",
    "#list\r\n",
    "l = ['Preben', 37]\r\n",
    "\r\n",
    "# Using format function:\r\n",
    "print('- format-function: Hello, my name is {}, and I am {} years old'.format(name, age))\r\n",
    "\r\n",
    "# Using f-strings:\r\n",
    "print(f'- f-string: Hello, my name is {name}, and I am {age} years old')\r\n",
    "\r\n",
    "# Using f-strings:\r\n",
    "print(f'- f-string: Hello, my name is {name}, and I weigh {weight:.0f} kg')\r\n",
    "\r\n",
    "# Unpacking a dictionary\r\n",
    "print('- unpacking dictionary: Hello, my name is {name}, and I am {age} years old'.format(**data))\r\n",
    "\r\n",
    "# Unpacking a list\r\n",
    "print('- unpacking a list: Hello, my name is {0} and I am {1} years old'.format(*l))"
   ],
   "outputs": [
    {
     "output_type": "stream",
     "name": "stdout",
     "text": [
      "- format-function: Hello, my name is Preben, and I am 37 years old\n",
      "- f-string: Hello, my name is Preben, and I am 37 years old\n",
      "- f-string: Hello, my name is Preben, and I weigh 72 kg\n",
      "- unpacking dictionary: Hello, my name is Preben, and I am 37 years old\n",
      "- unpacking a list: Hello, my name is Preben and I am 37 years old\n"
     ]
    }
   ],
   "metadata": {
    "scrolled": false
   }
  },
  {
   "cell_type": "markdown",
   "source": [
    "### Strip"
   ],
   "metadata": {}
  },
  {
   "cell_type": "code",
   "execution_count": 8,
   "source": [
    "name = ' preben '\r\n",
    "\r\n",
    "print('print as is: ', name)\r\n",
    "print('lstrip: ', name.lstrip())\r\n",
    "print('rstrip: ', name.rstrip())\r\n",
    "print('strip: ', name.strip())"
   ],
   "outputs": [
    {
     "output_type": "stream",
     "name": "stdout",
     "text": [
      "print as is:   preben \n",
      "lstrip:  preben \n",
      "rstrip:   preben\n",
      "strip:  preben\n"
     ]
    }
   ],
   "metadata": {}
  },
  {
   "cell_type": "markdown",
   "source": [
    "### Capitalize, Title, Lower, Upper"
   ],
   "metadata": {}
  },
  {
   "cell_type": "code",
   "execution_count": 14,
   "source": [
    "name = 'preben hesvik'\r\n",
    "\r\n",
    "print('capitalize: ', name.capitalize())\r\n",
    "print('title: ', name.title())\r\n",
    "print('lower: ', name.lower())\r\n",
    "print('upper: ', name.upper())"
   ],
   "outputs": [
    {
     "output_type": "stream",
     "name": "stdout",
     "text": [
      "capitalize:  Preben hesvik\n",
      "title:  Preben Hesvik\n",
      "lower:  preben hesvik\n",
      "upper:  PREBEN HESVIK\n"
     ]
    }
   ],
   "metadata": {}
  },
  {
   "cell_type": "markdown",
   "source": [
    "### Check for substring in string"
   ],
   "metadata": {}
  },
  {
   "cell_type": "code",
   "execution_count": 21,
   "source": [
    "name = 'Preben'\r\n",
    "\r\n",
    "# search for subset without formatting\r\n",
    "print('search \"pre\" without formatting: ', 'pre' in name)\r\n",
    "\r\n",
    "# search for subset with formatting\r\n",
    "print('search \"pre\" using lower(): ', 'pre' in name.lower())"
   ],
   "outputs": [
    {
     "output_type": "stream",
     "name": "stdout",
     "text": [
      "search \"pre\" without formatting:  False\n",
      "search \"pre\" using lower():  True\n"
     ]
    }
   ],
   "metadata": {}
  },
  {
   "cell_type": "markdown",
   "source": [
    "### Find index of substring\n",
    "- Return the lowest index in the string where substring sub is found within the slice\n",
    "    * return -1 when substring is not found.\n",
    "- can also use str.index()\n",
    "    * Like find(), but raise ValueError when the substring is not found."
   ],
   "metadata": {}
  },
  {
   "cell_type": "code",
   "execution_count": 31,
   "source": [
    "name = 'Preben'\r\n",
    "\r\n",
    "print(f'\"n\" is locatated as the the {name.find(\"b\")}rd character in the string')"
   ],
   "outputs": [
    {
     "output_type": "stream",
     "name": "stdout",
     "text": [
      "\"n\" is locatated as the the 3rd character in the string\n"
     ]
    }
   ],
   "metadata": {}
  },
  {
   "cell_type": "markdown",
   "source": [
    "### Check if any part of a string is a number"
   ],
   "metadata": {}
  },
  {
   "cell_type": "code",
   "execution_count": 37,
   "source": [
    "string = '1856 Munchen'\r\n",
    "\r\n",
    "print('Check if any character in string is a digit: ', any(s.isdigit() for s in string))"
   ],
   "outputs": [
    {
     "output_type": "stream",
     "name": "stdout",
     "text": [
      "Check if any character in string is a digit:  True\n"
     ]
    }
   ],
   "metadata": {}
  },
  {
   "cell_type": "markdown",
   "source": [
    "### Check if any part of a string contains a letter"
   ],
   "metadata": {}
  },
  {
   "cell_type": "code",
   "execution_count": 41,
   "source": [
    "string = '5614M8617'\r\n",
    "\r\n",
    "print('Check if any character in string is a letter: ', any(s.isalpha() for s in string))"
   ],
   "outputs": [
    {
     "output_type": "stream",
     "name": "stdout",
     "text": [
      "Check if any character in string is a letter:  True\n"
     ]
    }
   ],
   "metadata": {}
  },
  {
   "cell_type": "markdown",
   "source": [
    "### Remove the letter from the string"
   ],
   "metadata": {}
  },
  {
   "cell_type": "code",
   "execution_count": 42,
   "source": [
    "string = '5614M8617'"
   ],
   "outputs": [],
   "metadata": {}
  },
  {
   "cell_type": "code",
   "execution_count": 43,
   "source": [
    "# method 1:\r\n",
    "''.join(ch for ch in string if ch.isdigit())"
   ],
   "outputs": [
    {
     "output_type": "execute_result",
     "data": {
      "text/plain": [
       "'56148617'"
      ]
     },
     "metadata": {},
     "execution_count": 43
    }
   ],
   "metadata": {}
  },
  {
   "cell_type": "code",
   "execution_count": 47,
   "source": [
    "# method 2\r\n",
    "import re\r\n",
    "re.sub('[^0-9]', '', string)"
   ],
   "outputs": [
    {
     "output_type": "execute_result",
     "data": {
      "text/plain": [
       "'56148617'"
      ]
     },
     "metadata": {},
     "execution_count": 47
    }
   ],
   "metadata": {}
  },
  {
   "cell_type": "markdown",
   "source": [
    "### Split a string on '\\n' and return the first letter of each word capitalized"
   ],
   "metadata": {}
  },
  {
   "cell_type": "code",
   "execution_count": 55,
   "source": [
    "string = 'preben\\nhesvik\\nkleppestø'\r\n",
    "\r\n",
    "first, last, place = string.title().split('\\n')\r\n",
    "\r\n",
    "print('first: ', first)\r\n",
    "print('last: ', last)\r\n",
    "print('place: ', place)"
   ],
   "outputs": [
    {
     "output_type": "stream",
     "name": "stdout",
     "text": [
      "first:  Preben\n",
      "last:  Hesvik\n",
      "place:  Kleppestø\n"
     ]
    }
   ],
   "metadata": {}
  },
  {
   "cell_type": "markdown",
   "source": [
    "### Return the words that start with lowercase or uppercase 'M'"
   ],
   "metadata": {}
  },
  {
   "cell_type": "code",
   "execution_count": 61,
   "source": [
    "items = ['Money', 'Paper', 'Making', 'mice']\r\n",
    "\r\n",
    "[item for item in items if item.lower().startswith('m')]"
   ],
   "outputs": [
    {
     "output_type": "execute_result",
     "data": {
      "text/plain": [
       "['Money', 'Making', 'mice']"
      ]
     },
     "metadata": {},
     "execution_count": 61
    }
   ],
   "metadata": {}
  },
  {
   "cell_type": "code",
   "execution_count": null,
   "source": [
    "''' Objective: string formatting with values from a dictionary '''\r\n",
    "\r\n",
    "person = {'name': 'Preben', 'age': 36}\r\n",
    "\r\n",
    "#String formatting - example 1:\r\n",
    "sentence = 'My name is {0} and I am {1} years old.'.format(person['name'], person['age'])\r\n",
    "\r\n",
    "#String formatting - example 2:\r\n",
    "sentence = 'my name is {0[name]} and I am {1[age]} years old'.format(person, person)\r\n",
    "\r\n",
    "# String formatting -  example 3:\r\n",
    "sentence = 'My name is {0[name]} and I am {0[age]} years old'.format(person)\r\n",
    "        # Here we just give each placeholder{} an index of 0, and...\r\n",
    "            # that we can just pass our dictionary{} once. \r\n",
    "\r\n",
    "#string formatting - example with the unpacking method\r\n",
    "sentence = 'My name is {name} and I am {age} years old.'.format(**person)\r\n",
    "\r\n",
    "\r\n",
    "\r\n",
    "\r\n",
    "\r\n",
    "''' Objective: string formatting with values from a list '''\r\n",
    "\r\n",
    "l = ['Preben', '36']\r\n",
    "sentence = 'My name is {0[0]} and I am {0[1]} years old.'.format(l)\r\n",
    "    # the first 0 in {0[0]} indicates index of the passed in list value that we see in 'format(l)'\r\n",
    "    # the second 0 in {0[0]} indicates the list item number of l. ('Preben' is item 1, '36' is item 2)\r\n",
    "        \r\n",
    "\r\n",
    "\r\n",
    "\r\n",
    "\r\n",
    "''' Objective: string formatting with values from a class instance '''\r\n",
    "\r\n",
    "class Person():\r\n",
    "    def __init__(self, name, age):\r\n",
    "        self.name = name\r\n",
    "        self.age = age\r\n",
    "\r\n",
    "p1 = Person('Jack', '33')\r\n",
    "\r\n",
    "sentence = 'My name is {0.name} and I am {0.age} years old'.format(p1)"
   ],
   "outputs": [],
   "metadata": {}
  }
 ],
 "metadata": {
  "hide_input": false,
  "kernelspec": {
   "display_name": "Python 3",
   "language": "python",
   "name": "python3"
  },
  "language_info": {
   "codemirror_mode": {
    "name": "ipython",
    "version": 3
   },
   "file_extension": ".py",
   "mimetype": "text/x-python",
   "name": "python",
   "nbconvert_exporter": "python",
   "pygments_lexer": "ipython3",
   "version": "3.7.3"
  },
  "latex_envs": {
   "LaTeX_envs_menu_present": true,
   "autoclose": true,
   "autocomplete": true,
   "bibliofile": "biblio.bib",
   "cite_by": "apalike",
   "current_citInitial": 1,
   "eqLabelWithNumbers": true,
   "eqNumInitial": 1,
   "hotkeys": {
    "equation": "Ctrl-E",
    "itemize": "Ctrl-I"
   },
   "labels_anchors": false,
   "latex_user_defs": false,
   "report_style_numbering": false,
   "user_envs_cfg": false
  },
  "toc": {
   "colors": {
    "hover_highlight": "#DAA520",
    "navigate_num": "#000000",
    "navigate_text": "#333333",
    "running_highlight": "#FF0000",
    "selected_highlight": "#FFD700",
    "sidebar_border": "#EEEEEE",
    "wrapper_background": "#FFFFFF"
   },
   "moveMenuLeft": false,
   "navigate_menu": false,
   "number_sections": false,
   "sideBar": false,
   "threshold": "6",
   "toc_cell": true,
   "toc_section_display": "block",
   "toc_window_display": false,
   "widenNotebook": false
  }
 },
 "nbformat": 4,
 "nbformat_minor": 2
}