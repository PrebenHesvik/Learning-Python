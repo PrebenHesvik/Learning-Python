{
 "metadata": {
  "language_info": {
   "codemirror_mode": {
    "name": "ipython",
    "version": 3
   },
   "file_extension": ".py",
   "mimetype": "text/x-python",
   "name": "python",
   "nbconvert_exporter": "python",
   "pygments_lexer": "ipython3",
   "version": "3.9.5"
  },
  "orig_nbformat": 4,
  "kernelspec": {
   "name": "python3",
   "display_name": "Python 3.9.5 64-bit ('spenncon': conda)"
  },
  "interpreter": {
   "hash": "05d659cf7217a31b7ba206b7e3fe1d98040361cb242cc44ce7c59206cfd427bc"
  }
 },
 "nbformat": 4,
 "nbformat_minor": 2,
 "cells": [
  {
   "cell_type": "code",
   "execution_count": 11,
   "metadata": {},
   "outputs": [],
   "source": [
    "from dataclasses import dataclass, astuple, asdict, field"
   ]
  },
  {
   "cell_type": "code",
   "execution_count": 27,
   "metadata": {},
   "outputs": [],
   "source": [
    "@dataclass(order=True)\n",
    "class User:\n",
    "    user_id: int = field(compare=False)\n",
    "    first_name: str = field(compare=False)\n",
    "    last_name: str = field(compare=False)\n",
    "    age: int = field()"
   ]
  },
  {
   "cell_type": "code",
   "execution_count": 69,
   "metadata": {},
   "outputs": [],
   "source": [
    "users = [\n",
    "    [1, 'Preben', 'Hesvik', 39],\n",
    "    [2, 'Brede', 'Hesvik', 29],\n",
    "    [3, 'Mads', 'Hesvik', 35],\n",
    "]\n",
    "\n",
    "user_cls_dict = {}\n",
    "for user_list in users:\n",
    "    u = User(*user_list)\n",
    "    user_cls_dict[u.user_id] = u\n",
    "\n"
   ]
  },
  {
   "cell_type": "code",
   "execution_count": 71,
   "metadata": {},
   "outputs": [],
   "source": [
    "import math\n",
    "\n",
    "@dataclass\n",
    "class Position:\n",
    "  lat: float\n",
    "  lon: float\n",
    "\n",
    "  def distance_to(self, position):\n",
    "    \"\"\"\n",
    "    Calculate harversine distance between two positions\n",
    "    :param position: other position object\n",
    "    :return: a float representing distance in kilometers between two positions\n",
    "    \"\"\"\n",
    "    r = 6371.0  # Earth radius in kilometers\n",
    "    lam1, lam2 = math.radians(self.lon), math.radians(position.lon)\n",
    "    phi1, phi2 = math.radians(self.lat), math.radians(position.lat)\n",
    "    delta_lam, delta_phi = lam2 - lam1, phi2 - phi1\n",
    "    a = math.sin(delta_phi / 2) ** 2 + math.cos(phi1) * math.cos(phi2) * math.sin(delta_lam / 2) ** 2\n",
    "    return r * (2 * math.atan2(math.sqrt(a), math.sqrt(1 - a)))\n",
    "\n",
    "# data classes can inherit from another dataclass\n",
    "@dataclass\n",
    "class Town(Position):\n",
    "  name: str"
   ]
  },
  {
   "cell_type": "code",
   "execution_count": 72,
   "metadata": {},
   "outputs": [
    {
     "output_type": "execute_result",
     "data": {
      "text/plain": [
       "15479.614752629424"
      ]
     },
     "metadata": {},
     "execution_count": 72
    }
   ],
   "source": [
    "paris = Town(2.3522219, 48.856614, 'Paris')\n",
    "san_francisco = Town(37.6216, -122.3929, 'San Francisco')\n",
    "paris.distance_to(san_francisco)"
   ]
  },
  {
   "cell_type": "code",
   "execution_count": null,
   "metadata": {},
   "outputs": [],
   "source": []
  }
 ]
}