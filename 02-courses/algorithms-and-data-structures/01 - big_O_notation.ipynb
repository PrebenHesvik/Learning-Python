{
 "cells": [
  {
   "cell_type": "markdown",
   "source": [
    "# What is an algorithm:\r\n",
    "- **An algorithm is a procedure or a formula for solving a problem**\r\n",
    "\r\n",
    "# Big O Notation\r\n",
    "\r\n",
    "## Descriptions:\r\n",
    "1. Big-O notation describes how quickly runtime will grow relative to the input as the input get arbitrarily large.\r\n",
    "\r\n",
    "\r\n",
    "    - Remember, we want to compare how quickly runtime will grows, not compare exact runtimes, since those can vary depending on hardware.\r\n",
    "\r\n",
    "    - Since we want to compare for a variety of input sizes, we are only concerned with runtime grow relative to the input. This is why we use n for notation.\r\n",
    "\r\n",
    "    - As n gets arbitrarily large we only worry about terms that will grow the fastest as n gets large, to this point, Big-O analysis is also known as asymptotic analysis\r\n",
    "\r\n",
    "    - As for syntax sum1() can be said to be O(n) since its runtime grows linearly with the input size. In the next lecture we will go over more specific examples of various O() types and examples. To conclude this lecture we will show the potential for vast difference in runtimes of Big-O functions.\r\n",
    "\r\n",
    "\r\n",
    "2. Big-O notation is a **relative** **representation** of the **complexity** of an algorithm.\r\n",
    "    - **relative**: you can only compare apples to apples. You can't compare an algorithm that does arithmetic multiplication to an algorithm that sorts a list of integers. But a comparison of two algorithms to do arithmetic operations (one multiplication, one addition) will tell you something meaningful;\r\n",
    "    - **representation**: BigOh (in its simplest form) reduces the comparison between algorithms to a single variable. That variable is chosen based on observations or assumptions. For example, sorting algorithms are typically compared based on comparison operations (comparing two nodes to determine their relative ordering). This assumes that comparison is expensive. But what if the comparison is cheap but swapping is expensive? It changes the comparison; and\r\n",
    "    - **complexity**: if it takes me one second to sort 10,000 elements, how long will it take me to sort one million? Complexity in this instance is a relative measure to something else.\r\n",
    "\r\n",
    "[explanation of big-O](https://stackoverflow.com/questions/487258/what-is-a-plain-english-explanation-of-big-o-notation/487278#487278)\r\n",
    "\r\n",
    "   "
   ],
   "metadata": {}
  },
  {
   "cell_type": "markdown",
   "source": [],
   "metadata": {}
  },
  {
   "cell_type": "markdown",
   "source": [],
   "metadata": {}
  },
  {
   "cell_type": "code",
   "execution_count": 1,
   "source": [
    "# First function (Note the use of xrange since this is in Python 2)\r\n",
    "def sum1(n):\r\n",
    "    '''\r\n",
    "    Take an input of n and return the sum of the numbers from 0 to n\r\n",
    "    '''\r\n",
    "    final_sum = 0\r\n",
    "    for x in range(n+1): \r\n",
    "        final_sum += x\r\n",
    "    \r\n",
    "    return final_sum\r\n",
    "\r\n",
    "def sum2(n):\r\n",
    "    \"\"\"\r\n",
    "    Take an input of n and return the sum of the numbers from 0 to n\r\n",
    "    \"\"\"\r\n",
    "    return (n*(n+1))/2"
   ],
   "outputs": [],
   "metadata": {}
  }
 ],
 "metadata": {
  "orig_nbformat": 4,
  "language_info": {
   "name": "python",
   "version": "3.9.5",
   "mimetype": "text/x-python",
   "codemirror_mode": {
    "name": "ipython",
    "version": 3
   },
   "pygments_lexer": "ipython3",
   "nbconvert_exporter": "python",
   "file_extension": ".py"
  },
  "kernelspec": {
   "name": "python3",
   "display_name": "Python 3.9.5 64-bit ('spenncon': conda)"
  },
  "interpreter": {
   "hash": "05d659cf7217a31b7ba206b7e3fe1d98040361cb242cc44ce7c59206cfd427bc"
  }
 },
 "nbformat": 4,
 "nbformat_minor": 2
}