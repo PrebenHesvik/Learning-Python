{
 "cells": [
  {
   "cell_type": "code",
   "execution_count": 1,
   "source": [
    "import ctypes"
   ],
   "outputs": [],
   "metadata": {}
  },
  {
   "cell_type": "code",
   "execution_count": 7,
   "source": [
    "class DynamicArray(object):\r\n",
    "    \r\n",
    "    def __init__(self) -> None:\r\n",
    "        self.n = 0\r\n",
    "        self.capacity = 1\r\n",
    "        self.A = self.make_array(self.capacity)\r\n",
    "        \r\n",
    "    def __len__(self):\r\n",
    "        return self.n\r\n",
    "    \r\n",
    "    def __getitem__(self, k):\r\n",
    "        if not 0 <= k < self.n:\r\n",
    "            return IndexError('K is out of bounds')\r\n",
    "        return self.A[k]\r\n",
    "    \r\n",
    "    def append(self, ele):\r\n",
    "        if self.n == self.capacity:\r\n",
    "            self._resize(2 * self.capacity)\r\n",
    "        self.A[self.n] = ele\r\n",
    "        self.n += 1\r\n",
    "        \r\n",
    "    def _resize(self, new_cap):\r\n",
    "        B = self.make_array(new_cap)\r\n",
    "        for k in range(self.n):\r\n",
    "            B[k] = self.A[k]\r\n",
    "        self.A = B\r\n",
    "        self.capacity = new_cap\r\n",
    "        \r\n",
    "    def make_array(self, new_cap):\r\n",
    "        return (new_cap * ctypes.py_object)()\r\n",
    "        \r\n",
    "            \r\n",
    "arr = DynamicArray()\r\n",
    "arr.append(10)\r\n",
    "arr.append(20)\r\n",
    "print(arr[0])\r\n",
    "print(arr[1])     "
   ],
   "outputs": [
    {
     "output_type": "stream",
     "name": "stdout",
     "text": [
      "10\n",
      "20\n"
     ]
    }
   ],
   "metadata": {}
  },
  {
   "cell_type": "markdown",
   "source": [
    "## Amortization \r\n",
    "An algorithmic design pattern"
   ],
   "metadata": {}
  },
  {
   "cell_type": "code",
   "execution_count": null,
   "source": [],
   "outputs": [],
   "metadata": {}
  },
  {
   "cell_type": "code",
   "execution_count": null,
   "source": [],
   "outputs": [],
   "metadata": {}
  },
  {
   "cell_type": "code",
   "execution_count": null,
   "source": [],
   "outputs": [],
   "metadata": {}
  },
  {
   "cell_type": "code",
   "execution_count": null,
   "source": [],
   "outputs": [],
   "metadata": {}
  }
 ],
 "metadata": {
  "orig_nbformat": 4,
  "language_info": {
   "name": "python",
   "version": "3.9.5",
   "mimetype": "text/x-python",
   "codemirror_mode": {
    "name": "ipython",
    "version": 3
   },
   "pygments_lexer": "ipython3",
   "nbconvert_exporter": "python",
   "file_extension": ".py"
  },
  "kernelspec": {
   "name": "python3",
   "display_name": "Python 3.9.5 64-bit ('spenncon': conda)"
  },
  "interpreter": {
   "hash": "05d659cf7217a31b7ba206b7e3fe1d98040361cb242cc44ce7c59206cfd427bc"
  }
 },
 "nbformat": 4,
 "nbformat_minor": 2
}