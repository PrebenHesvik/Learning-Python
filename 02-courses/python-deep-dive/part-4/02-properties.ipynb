{
 "cells": [
  {
   "cell_type": "code",
   "execution_count": 1,
   "source": [
    "from pprint import pprint"
   ],
   "outputs": [],
   "metadata": {}
  },
  {
   "cell_type": "markdown",
   "source": [
    "## Property\r\n",
    "- **Property** is a class (type)\r\n",
    "- Constructor has a few parameters:\r\n",
    "    * **fget**: specifies the function to use to get instance property value\r\n",
    "    * **fset**: specifies the function to use to set the instance property value\r\n",
    "    * **fdel**: specifies the function to call when deleting the instance property\r\n",
    "    * **doc**: a string representing the docstring for the property"
   ],
   "metadata": {}
  },
  {
   "cell_type": "code",
   "execution_count": 9,
   "source": [
    "class MyClass:\r\n",
    "    def __init__(self, language):\r\n",
    "        self._language = language\r\n",
    "    \r\n",
    "    def get_language(self):\r\n",
    "        return self._language\r\n",
    "    \r\n",
    "    def set_language(self, value):\r\n",
    "        self._language = value\r\n",
    "    \r\n",
    "    language = property(fget=get_language, fset=set_language)\r\n",
    "    \r\n",
    "c = MyClass('Python')\r\n",
    "print(c.language)\r\n",
    "c.language = 'Python 3'\r\n",
    "print(c.language)"
   ],
   "outputs": [
    {
     "output_type": "stream",
     "name": "stdout",
     "text": [
      "Python\n",
      "Python 3\n"
     ]
    }
   ],
   "metadata": {}
  },
  {
   "cell_type": "markdown",
   "source": [
    "### Same concept as above, but with some validation"
   ],
   "metadata": {}
  },
  {
   "cell_type": "code",
   "execution_count": 11,
   "source": [
    "class Person:\r\n",
    "    def __init__(self, name):\r\n",
    "        self.set_name(name)\r\n",
    "    \r\n",
    "    def get_name(self):\r\n",
    "        return self._name\r\n",
    "    \r\n",
    "    def set_name(self, value):\r\n",
    "        if isinstance(value, str) and len(value.strip()) > 0:\r\n",
    "            self._name = value.strip()\r\n",
    "        else:\r\n",
    "            raise ValueError('name must be a non-empty string')\r\n",
    "    \r\n",
    "    name = property(fget=get_name, fset=set_name)"
   ],
   "outputs": [],
   "metadata": {}
  },
  {
   "cell_type": "markdown",
   "source": [
    "### Using the property decorator instead of the property function"
   ],
   "metadata": {}
  },
  {
   "cell_type": "code",
   "execution_count": null,
   "source": [
    "class Person:\r\n",
    "    def __init__(self, name):\r\n",
    "        self.name = name\r\n",
    "    \r\n",
    "    @property\r\n",
    "    def name(self):\r\n",
    "        return self._name\r\n",
    "    \r\n",
    "    @name.setter\r\n",
    "    def name(self, value):\r\n",
    "        if isinstance(value, str) and len(value.strip()) > 0:\r\n",
    "            self._name = value.strip()\r\n",
    "        else:\r\n",
    "            raise ValueError('name must be a non-empty string')\r\n",
    "    \r\n",
    "    @name.deleter\r\n",
    "    def name(self):\r\n",
    "        del self._name\r\n"
   ],
   "outputs": [],
   "metadata": {}
  },
  {
   "cell_type": "markdown",
   "source": [
    "### Read-Only and Computed Properties"
   ],
   "metadata": {}
  },
  {
   "cell_type": "code",
   "execution_count": null,
   "source": [
    "from math import pi\r\n",
    "\r\n",
    "class Circle:\r\n",
    "    def __init__(self, radius):\r\n",
    "        self._radius = radius\r\n",
    "        self._area = None\r\n",
    "    \r\n",
    "    @property\r\n",
    "    def radius(self):\r\n",
    "        return self._radius\r\n",
    "    \r\n",
    "    @property.setter\r\n",
    "    def radius(self, value):\r\n",
    "        self._area = None\r\n",
    "        self._radius = value\r\n",
    "    \r\n",
    "    @property\r\n",
    "    def area(self):\r\n",
    "        if self._area is None:\r\n",
    "            self._area =  pi * (self.radius ** 2)\r\n",
    "        return self._area\r\n",
    "        "
   ],
   "outputs": [],
   "metadata": {}
  },
  {
   "cell_type": "code",
   "execution_count": 2,
   "source": [
    "import urllib\r\n",
    "from time import perf_counter\r\n",
    "\r\n",
    "class WebPage:\r\n",
    "    \r\n",
    "    def __init__(self, url):\r\n",
    "        self.url = url\r\n",
    "        self._page = None\r\n",
    "        self._load_time_secs = None\r\n",
    "        self._page_size = None\r\n",
    "    \r\n",
    "    @property\r\n",
    "    def url(self):\r\n",
    "        return self._url\r\n",
    "    \r\n",
    "    @url.setter\r\n",
    "    def url(self, value):\r\n",
    "        self._url = value\r\n",
    "        self._page = None\r\n",
    "    \r\n",
    "    @property\r\n",
    "    def page(self):\r\n",
    "        if self._page is None:\r\n",
    "            self.download_page()\r\n",
    "        return self._page\r\n",
    "    \r\n",
    "    @property\r\n",
    "    def page_size(self):\r\n",
    "        if self._page is None:\r\n",
    "            self.download_page()\r\n",
    "        return self._page_size\r\n",
    "    \r\n",
    "    @property\r\n",
    "    def time_elapsed(self):\r\n",
    "        if self._page is None:\r\n",
    "            self.download_page()\r\n",
    "        return self._load_time_secs\r\n",
    "    \r\n",
    "    def download_page(self):\r\n",
    "        self._page_size = None\r\n",
    "        self._load_time_secs = None\r\n",
    "        start_time = perf_counter()\r\n",
    "        with urllib.request.urlopen(self.url) as f:\r\n",
    "            self._page = f.read()\r\n",
    "        end_time = perf_counter()\r\n",
    "        self._page_size = len(self._page)\r\n",
    "        self._load_time_secs = end_time - start_time\r\n",
    "\r\n",
    "\r\n",
    "\r\n",
    "urls = [\r\n",
    "    'https://www.python.org',\r\n",
    "    'https://www.bt.no',\r\n",
    "    'https://www.zerohedge.com'\r\n",
    "]\r\n",
    "\r\n",
    "for url in urls:\r\n",
    "    page = WebPage(url)\r\n",
    "    print(f'{url}\\t size={format(page.page_size, \"_\")}\\t elapsed={page.time_elapsed: .2f} secs')"
   ],
   "outputs": [],
   "metadata": {}
  },
  {
   "cell_type": "markdown",
   "source": [
    "### Class Body Scope"
   ],
   "metadata": {}
  },
  {
   "cell_type": "code",
   "execution_count": null,
   "source": [
    "class Language:\r\n",
    "    MAJOR = 3\r\n",
    "    MINOR = 7\r\n",
    "    REVISION = 4\r\n",
    "    FULL = '{}.{}.{}'.format(MAJOR, MINOR, REVISION)"
   ],
   "outputs": [],
   "metadata": {}
  }
 ],
 "metadata": {
  "language_info": {
   "name": "python",
   "version": "3.9.5",
   "mimetype": "text/x-python",
   "codemirror_mode": {
    "name": "ipython",
    "version": 3
   },
   "pygments_lexer": "ipython3",
   "nbconvert_exporter": "python",
   "file_extension": ".py"
  },
  "orig_nbformat": 2,
  "file_extension": ".py",
  "mimetype": "text/x-python",
  "name": "python",
  "npconvert_exporter": "python",
  "pygments_lexer": "ipython3",
  "version": 3,
  "kernelspec": {
   "name": "python3",
   "display_name": "Python 3.9.5 64-bit ('spenncon': conda)"
  },
  "interpreter": {
   "hash": "05d659cf7217a31b7ba206b7e3fe1d98040361cb242cc44ce7c59206cfd427bc"
  }
 },
 "nbformat": 4,
 "nbformat_minor": 2
}