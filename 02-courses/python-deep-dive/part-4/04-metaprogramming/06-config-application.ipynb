{
 "cells": [
  {
   "cell_type": "code",
   "execution_count": 1,
   "source": [
    "with open('prod.ini', 'w') as prod, open('dev.ini', 'w') as dev:\r\n",
    "    prod.write('[Database]\\n')\r\n",
    "    prod.write('db_host=prod.mynetwork.com\\n')\r\n",
    "    prod.write('db_name=my_database\\n')\r\n",
    "    prod.write('\\n[Server]\\n')\r\n",
    "    prod.write('port=8080\\n')\r\n",
    "    \r\n",
    "    dev.write('[Database]\\n')\r\n",
    "    dev.write('db_host=dev.mynetwork.com\\n')\r\n",
    "    dev.write('db_name=my_database\\n')\r\n",
    "    dev.write('\\n[Server]\\n')\r\n",
    "    dev.write('port=3000\\n')"
   ],
   "outputs": [],
   "metadata": {}
  },
  {
   "cell_type": "code",
   "execution_count": 2,
   "source": [
    "import configparser\r\n",
    "\r\n",
    "class Config:\r\n",
    "    def __init__(self, env='dev'):\r\n",
    "        print(f'Loading config from {env} file...')\r\n",
    "        config = configparser.ConfigParser()\r\n",
    "        file_name = f'{env}.ini'\r\n",
    "        config.read(file_name)\r\n",
    "        self.db_host = config['Database']['db_host']\r\n",
    "        self.db_name = config['Database']['db_name']\r\n",
    "        self.port = config['Server']['port']\r\n",
    "        \r\n",
    "config = Config('dev')\r\n",
    "config.__dict__"
   ],
   "outputs": [
    {
     "output_type": "stream",
     "name": "stdout",
     "text": [
      "Loading config from dev file...\n"
     ]
    },
    {
     "output_type": "execute_result",
     "data": {
      "text/plain": [
       "{'db_host': 'dev.mynetwork.com', 'db_name': 'my_database', 'port': '3000'}"
      ]
     },
     "metadata": {},
     "execution_count": 2
    }
   ],
   "metadata": {}
  },
  {
   "cell_type": "markdown",
   "source": [
    "### It is a bit time consuming to type out all the lines in the config file, and there is an easier way to do this..."
   ],
   "metadata": {}
  },
  {
   "cell_type": "code",
   "execution_count": 4,
   "source": [
    "class Config:\r\n",
    "    def __init__(self, env='dev'):\r\n",
    "        print(f'Loading config from {env} file...')\r\n",
    "        config = configparser.ConfigParser()\r\n",
    "        file_name = f'{env}.ini'\r\n",
    "        config.read(file_name)\r\n",
    "        for section_name in config.sections():\r\n",
    "            for key, value in config[section_name].items():\r\n",
    "                setattr(self, key, value)\r\n",
    "                \r\n",
    "config = Config('Prod')\r\n",
    "vars(config)"
   ],
   "outputs": [
    {
     "output_type": "stream",
     "name": "stdout",
     "text": [
      "Loading config from Prod file...\n"
     ]
    },
    {
     "output_type": "execute_result",
     "data": {
      "text/plain": [
       "{'db_host': 'prod.mynetwork.com', 'db_name': 'my_database', 'port': '8080'}"
      ]
     },
     "metadata": {},
     "execution_count": 4
    }
   ],
   "metadata": {}
  },
  {
   "cell_type": "markdown",
   "source": [
    "### The next issue we need to deal with is that our config files are organized into sections, and here we've essentially ignored this and create just a \"flat\" data structure."
   ],
   "metadata": {}
  },
  {
   "cell_type": "code",
   "execution_count": 6,
   "source": [
    "class Section:\r\n",
    "    def __init__(self, name, item_dict):\r\n",
    "        \"\"\"\r\n",
    "        name: str\r\n",
    "            name of section\r\n",
    "        item_dict : dictionary\r\n",
    "            dictionary of named (key) config values (value)\r\n",
    "        \"\"\"\r\n",
    "        self.name = name\r\n",
    "        for key, value in item_dict.items():\r\n",
    "            setattr(self, key, value)\r\n",
    "    \r\n",
    "class Config:\r\n",
    "    def __init__(self, env='dev'):\r\n",
    "        print(f'Loading config from {env} file...')\r\n",
    "        config = configparser.ConfigParser()\r\n",
    "        file_name = f'{env}.ini'\r\n",
    "        config.read(file_name)\r\n",
    "        for section_name in config.sections():\r\n",
    "            section = Section(section_name, config[section_name])\r\n",
    "            setattr(self, section_name.lower(), section)\r\n",
    "            \r\n",
    "config = Config()\r\n",
    "vars(config)"
   ],
   "outputs": [
    {
     "output_type": "stream",
     "name": "stdout",
     "text": [
      "Loading config from dev file...\n"
     ]
    },
    {
     "output_type": "execute_result",
     "data": {
      "text/plain": [
       "{'database': <__main__.Section at 0x19d81b66be0>,\n",
       " 'server': <__main__.Section at 0x19d81a62d30>}"
      ]
     },
     "metadata": {},
     "execution_count": 6
    }
   ],
   "metadata": {}
  },
  {
   "cell_type": "code",
   "execution_count": 7,
   "source": [
    "class SectionType(type):\r\n",
    "    def __new__(cls, name, bases, cls_dict, section_name, items_dict):\r\n",
    "        cls_dict['__doc__'] = f'Configs for {section_name} section'\r\n",
    "        cls_dict['section_name'] = section_name\r\n",
    "        for key, value in items_dict.items():\r\n",
    "            cls_dict[key] = value\r\n",
    "        return super().__new__(cls, name, bases, cls_dict)\r\n",
    "    \r\n",
    "class DatabaseSection(metaclass=SectionType, section_name='database', items_dict={'db_name': 'my_database', 'host': 'myhost.com'}):\r\n",
    "    pass\r\n",
    "\r\n",
    "print(vars(DatabaseSection))\r\n",
    "print(DatabaseSection.db_name)"
   ],
   "outputs": [
    {
     "output_type": "stream",
     "name": "stdout",
     "text": [
      "{'__module__': '__main__', '__doc__': 'Configs for database section', 'section_name': 'database', 'db_name': 'my_database', 'host': 'myhost.com', '__dict__': <attribute '__dict__' of 'DatabaseSection' objects>, '__weakref__': <attribute '__weakref__' of 'DatabaseSection' objects>}\n",
      "my_database\n"
     ]
    }
   ],
   "metadata": {}
  },
  {
   "cell_type": "markdown",
   "source": [
    "### And we can now create any section we want using this metaclass, for example:"
   ],
   "metadata": {}
  },
  {
   "cell_type": "code",
   "execution_count": 8,
   "source": [
    "class PasswordsSection(metaclass=SectionType, section_name='passwords', items_dict={'db': 'secret', 'site': 'super secret'}):\r\n",
    "    pass\r\n",
    "\r\n",
    "print(PasswordsSection)\r\n",
    "print(PasswordsSection.db)"
   ],
   "outputs": [
    {
     "output_type": "stream",
     "name": "stdout",
     "text": [
      "<class '__main__.PasswordsSection'>\n",
      "secret\n"
     ]
    }
   ],
   "metadata": {}
  },
  {
   "cell_type": "markdown",
   "source": [
    "### We can also create `Section` **classes** by calling the `SectionType` metaclass:"
   ],
   "metadata": {}
  },
  {
   "cell_type": "code",
   "execution_count": 9,
   "source": [
    "MySection = SectionType('DBSection', (object,), {}, section_name='databases', items_dict={'db_name': 'my_db', 'port': 8000})\r\n",
    "vars(MySection)"
   ],
   "outputs": [
    {
     "output_type": "execute_result",
     "data": {
      "text/plain": [
       "mappingproxy({'__doc__': 'Configs for databases section',\n",
       "              'section_name': 'databases',\n",
       "              'db_name': 'my_db',\n",
       "              'port': 8000,\n",
       "              '__module__': '__main__',\n",
       "              '__dict__': <attribute '__dict__' of 'DBSection' objects>,\n",
       "              '__weakref__': <attribute '__weakref__' of 'DBSection' objects>})"
      ]
     },
     "metadata": {},
     "execution_count": 9
    }
   ],
   "metadata": {}
  },
  {
   "cell_type": "code",
   "execution_count": 11,
   "source": [
    "class SectionType(type):\r\n",
    "    def __new__(cls, name, bases, cls_dict, section_name, items_dict):\r\n",
    "        cls_dict['__doc__'] = f'Configs for {section_name} section'\r\n",
    "        cls_dict['section_name'] = section_name\r\n",
    "        for key, value in items_dict.items():\r\n",
    "            cls_dict[key] = value\r\n",
    "        return super().__new__(cls, name, bases, cls_dict)\r\n",
    "\r\n",
    "\r\n",
    "class ConfigType(type):\r\n",
    "    def __new__(cls, name, bases, cls_dict, env):\r\n",
    "        \"\"\"\r\n",
    "        env : str\r\n",
    "            The environment we are loading the config for (e.g. dev, prod)\r\n",
    "        \"\"\"\r\n",
    "        cls_dict['__doc__'] = f'Configurations for {env}.'\r\n",
    "        cls_dict['env'] = env\r\n",
    "        config = configparser.ConfigParser()\r\n",
    "        file_name = f'{env}.ini'\r\n",
    "        config.read(file_name)\r\n",
    "        for section_name in config.sections():\r\n",
    "            class_name = section_name.capitalize()\r\n",
    "            class_attribute_name = section_name.casefold()\r\n",
    "            section_items = config[section_name]\r\n",
    "            bases = (object, )\r\n",
    "            section_cls_dict = {}\r\n",
    "            # create a new Section class for this section\r\n",
    "            Section = SectionType(\r\n",
    "                class_name, bases, section_cls_dict, section_name=section_name, items_dict=section_items\r\n",
    "            )\r\n",
    "            # And assign it to an attribute in the main config class\r\n",
    "            cls_dict[class_attribute_name] = Section\r\n",
    "        return super().__new__(cls, name, bases, cls_dict)\r\n",
    "    \r\n",
    "class DevConfig(metaclass=ConfigType, env='dev'):\r\n",
    "    pass\r\n",
    "\r\n",
    "class ProdConfig(metaclass=ConfigType, env='prod'):\r\n",
    "    pass\r\n",
    "\r\n",
    "print(vars(DevConfig), end='\\n\\n')\r\n",
    "print(DevConfig.database.db_host, ProdConfig.database.db_host, end='\\n\\n')\r\n",
    "help(DevConfig)"
   ],
   "outputs": [
    {
     "output_type": "stream",
     "name": "stdout",
     "text": [
      "{'__module__': '__main__', '__doc__': 'Configurations for dev.', 'env': 'dev', 'database': <class '__main__.Database'>, 'server': <class '__main__.Server'>, '__dict__': <attribute '__dict__' of 'DevConfig' objects>, '__weakref__': <attribute '__weakref__' of 'DevConfig' objects>}\n",
      "\n",
      "dev.mynetwork.com prod.mynetwork.com\n",
      "\n",
      "Help on class DevConfig in module __main__:\n",
      "\n",
      "class DevConfig(builtins.object)\n",
      " |  Configurations for dev.\n",
      " |  \n",
      " |  Data descriptors defined here:\n",
      " |  \n",
      " |  __dict__\n",
      " |      dictionary for instance variables (if defined)\n",
      " |  \n",
      " |  __weakref__\n",
      " |      list of weak references to the object (if defined)\n",
      " |  \n",
      " |  ----------------------------------------------------------------------\n",
      " |  Data and other attributes defined here:\n",
      " |  \n",
      " |  database = <class '__main__.Database'>\n",
      " |      Configs for Database section\n",
      " |  \n",
      " |  \n",
      " |  env = 'dev'\n",
      " |  \n",
      " |  server = <class '__main__.Server'>\n",
      " |      Configs for Server section\n",
      "\n"
     ]
    }
   ],
   "metadata": {}
  }
 ],
 "metadata": {
  "orig_nbformat": 4,
  "language_info": {
   "name": "python",
   "version": "3.9.5",
   "mimetype": "text/x-python",
   "codemirror_mode": {
    "name": "ipython",
    "version": 3
   },
   "pygments_lexer": "ipython3",
   "nbconvert_exporter": "python",
   "file_extension": ".py"
  },
  "kernelspec": {
   "name": "python3",
   "display_name": "Python 3.9.5 64-bit ('spenncon': conda)"
  },
  "interpreter": {
   "hash": "05d659cf7217a31b7ba206b7e3fe1d98040361cb242cc44ce7c59206cfd427bc"
  }
 },
 "nbformat": 4,
 "nbformat_minor": 2
}