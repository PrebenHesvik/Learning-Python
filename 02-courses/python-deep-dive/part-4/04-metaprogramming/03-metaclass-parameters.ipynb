{
 "cells": [
  {
   "cell_type": "code",
   "execution_count": 1,
   "source": [
    "class Metaclass(type):\r\n",
    "    def __new__(mcls, name, bases, cls_dict, arg1, arg2, arg3=None):\r\n",
    "        print(arg1, arg2, arg3)\r\n",
    "        return super().__new__(mcls, name, bases, cls_dict)\r\n",
    "    \r\n",
    "class MyClass(object, metaclass=Metaclass, arg1=10, arg2=20, arg3=30):\r\n",
    "    pass"
   ],
   "outputs": [
    {
     "output_type": "stream",
     "name": "stdout",
     "text": [
      "10 20 30\n"
     ]
    }
   ],
   "metadata": {}
  },
  {
   "cell_type": "code",
   "execution_count": 9,
   "source": [
    "class AutoClassAttrib(type):\r\n",
    "    def __new__(mcls, name, bases, cls_dict, extra_attrs=None):\r\n",
    "        if extra_attrs:\r\n",
    "            for attr_name, attr_value in extra_attrs:\r\n",
    "                cls_dict[attr_name] = attr_value\r\n",
    "        return super().__new__(mcls, name, bases, cls_dict)\r\n",
    "    \r\n",
    "attributes = (('account_type', 'Savings'), ('apr', 0.5))\r\n",
    "class Account(metaclass=AutoClassAttrib, extra_attrs=attributes):\r\n",
    "    pass\r\n",
    "\r\n",
    "print(Account.__dict__)"
   ],
   "outputs": [
    {
     "output_type": "stream",
     "name": "stdout",
     "text": [
      "{'__module__': '__main__', 'account_type': 'Savings', 'apr': 0.5, '__dict__': <attribute '__dict__' of 'Account' objects>, '__weakref__': <attribute '__weakref__' of 'Account' objects>, '__doc__': None}\n"
     ]
    }
   ],
   "metadata": {}
  },
  {
   "cell_type": "markdown",
   "source": [
    "### We can write the metaclass obove in a slightly different way. Both ways are valid"
   ],
   "metadata": {}
  },
  {
   "cell_type": "code",
   "execution_count": 12,
   "source": [
    "class AutoClassAttrib(type):\r\n",
    "    def __new__(mcls, name, bases, cls_dict, **extra_attrs):\r\n",
    "        new_cls = super().__new__(mcls, name, bases, cls_dict)\r\n",
    "        if extra_attrs:\r\n",
    "            for attr_name, attr_value in extra_attrs.items():\r\n",
    "                setattr(new_cls, attr_name, attr_value)\r\n",
    "        return new_cls\r\n",
    "    \r\n",
    "    \r\n",
    "class Account(metaclass=AutoClassAttrib, account_type='Savings', apr=0.5):\r\n",
    "    pass\r\n",
    "\r\n",
    "print(Account.__dict__)"
   ],
   "outputs": [
    {
     "output_type": "stream",
     "name": "stdout",
     "text": [
      "{'__module__': '__main__', '__dict__': <attribute '__dict__' of 'Account' objects>, '__weakref__': <attribute '__weakref__' of 'Account' objects>, '__doc__': None, 'account_type': 'Savings', 'apr': 0.5}\n"
     ]
    }
   ],
   "metadata": {}
  },
  {
   "cell_type": "markdown",
   "source": [
    "### We can write this in one more way"
   ],
   "metadata": {}
  },
  {
   "cell_type": "code",
   "execution_count": 13,
   "source": [
    "class AutoClassAttrib(type):\r\n",
    "    def __new__(mcls, name, bases, cls_dict, **extra_attrs):\r\n",
    "        cls_dict.update(extra_attrs)\r\n",
    "        return super().__new__(mcls, name, bases, cls_dict)\r\n",
    "    \r\n",
    "    \r\n",
    "class Account(metaclass=AutoClassAttrib, account_type='Savings', apr=0.5):\r\n",
    "    pass\r\n",
    "\r\n",
    "print(Account.__dict__)"
   ],
   "outputs": [
    {
     "output_type": "stream",
     "name": "stdout",
     "text": [
      "{'__module__': '__main__', 'account_type': 'Savings', 'apr': 0.5, '__dict__': <attribute '__dict__' of 'Account' objects>, '__weakref__': <attribute '__weakref__' of 'Account' objects>, '__doc__': None}\n"
     ]
    }
   ],
   "metadata": {}
  }
 ],
 "metadata": {
  "orig_nbformat": 4,
  "language_info": {
   "name": "python",
   "version": "3.9.5",
   "mimetype": "text/x-python",
   "codemirror_mode": {
    "name": "ipython",
    "version": 3
   },
   "pygments_lexer": "ipython3",
   "nbconvert_exporter": "python",
   "file_extension": ".py"
  },
  "kernelspec": {
   "name": "python3",
   "display_name": "Python 3.9.5 64-bit ('spenncon': conda)"
  },
  "interpreter": {
   "hash": "05d659cf7217a31b7ba206b7e3fe1d98040361cb242cc44ce7c59206cfd427bc"
  }
 },
 "nbformat": 4,
 "nbformat_minor": 2
}