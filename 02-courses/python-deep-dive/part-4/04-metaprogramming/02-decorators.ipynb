{
 "cells": [
  {
   "cell_type": "markdown",
   "source": [
    "## Class decorators"
   ],
   "metadata": {}
  },
  {
   "cell_type": "code",
   "execution_count": 1,
   "source": [
    "def savings(cls):\r\n",
    "    cls.account_type = 'savings'\r\n",
    "    return cls\r\n",
    "\r\n",
    "def checking(cls):\r\n",
    "    cls.account_type = 'checking'\r\n",
    "    \r\n",
    "    \r\n",
    "class Account:\r\n",
    "    pass\r\n",
    "\r\n",
    "\r\n",
    "@savings\r\n",
    "class Bank1Savings(Account):\r\n",
    "    pass\r\n",
    "\r\n",
    "@savings\r\n",
    "class Bank2Savings(Account):\r\n",
    "    pass\r\n",
    "\r\n",
    "@checking\r\n",
    "class Bank1Checking(Account):\r\n",
    "    pass\r\n",
    "\r\n",
    "@checking\r\n",
    "class Bank2Checking(Account):\r\n",
    "    pass"
   ],
   "outputs": [],
   "metadata": {}
  },
  {
   "cell_type": "markdown",
   "source": [
    "### The above works but is a bit repetative. We can create a parameterized decorator instead"
   ],
   "metadata": {}
  },
  {
   "cell_type": "code",
   "execution_count": null,
   "source": [
    "def account_type(type_):\r\n",
    "    def decorator(cls):\r\n",
    "        cls.account_type = type_\r\n",
    "        return cls\r\n",
    "    return decorator\r\n",
    "\r\n",
    "@account_type('Savings')\r\n",
    "class Bank1Savings(Account):\r\n",
    "    pass\r\n",
    "\r\n",
    "@account_type('Checking')\r\n",
    "class Bank1Checking(Account):\r\n",
    "    pass"
   ],
   "outputs": [],
   "metadata": {}
  },
  {
   "cell_type": "markdown",
   "source": [
    "### We are not restricted to just adding data atttributes. We can also use our decorator to add functions"
   ],
   "metadata": {}
  },
  {
   "cell_type": "code",
   "execution_count": 3,
   "source": [
    "def hello(cls):\r\n",
    "    cls.hello = lambda self: f'{self} says hello'\r\n",
    "    return cls\r\n",
    "\r\n",
    "@hello\r\n",
    "class Person:\r\n",
    "    \r\n",
    "    def __init__(self, name):\r\n",
    "        self.name = name\r\n",
    "        \r\n",
    "    def __str__(self):\r\n",
    "        return self.name\r\n",
    "    \r\n",
    "\r\n",
    "p = Person('John')\r\n",
    "p.hello()\r\n",
    "    "
   ],
   "outputs": [
    {
     "output_type": "execute_result",
     "data": {
      "text/plain": [
       "'John says hello'"
      ]
     },
     "metadata": {},
     "execution_count": 3
    }
   ],
   "metadata": {}
  },
  {
   "cell_type": "code",
   "execution_count": 6,
   "source": [
    "from functools import wraps\r\n",
    "\r\n",
    "def func_logger(fn):\r\n",
    "    \r\n",
    "    @wraps(fn)\r\n",
    "    def inner(*args, **kwargs):\r\n",
    "        result = fn(*args, **kwargs)\r\n",
    "        print(f'Log: {fn.__qualname__}({args}, {kwargs}) = {result}')\r\n",
    "        return result\r\n",
    "    return inner\r\n",
    "\r\n",
    "class Person:\r\n",
    "    \r\n",
    "    @func_logger\r\n",
    "    def __init__(self, name, age):\r\n",
    "        self.name = name\r\n",
    "        self.age = age\r\n",
    "        \r\n",
    "    @func_logger\r\n",
    "    def greet(self):\r\n",
    "        return f'Hello, my name is {self.name}, and I am {self.age} years old'\r\n",
    "    \r\n",
    "p = Person('John', 48)\r\n",
    "p.greet()"
   ],
   "outputs": [
    {
     "output_type": "stream",
     "name": "stdout",
     "text": [
      "Log: Person.__init__((<__main__.Person object at 0x000001D0830CD1F0>, 'John', 48), {}) = None\n",
      "Log: Person.greet((<__main__.Person object at 0x000001D0830CD1F0>,), {}) = Hello, my name is John, and I am 48 years old\n"
     ]
    },
    {
     "output_type": "execute_result",
     "data": {
      "text/plain": [
       "'Hello, my name is John, and I am 48 years old'"
      ]
     },
     "metadata": {},
     "execution_count": 6
    }
   ],
   "metadata": {}
  },
  {
   "cell_type": "markdown",
   "source": [
    "### This works, but it is a bit tedious if we have a lot of methods in the Person class since we then need to decorate each of them with the func_logger decorator. \r\n",
    "### Instead we can create a class decorator"
   ],
   "metadata": {}
  },
  {
   "cell_type": "code",
   "execution_count": 10,
   "source": [
    "from functools import wraps\r\n",
    "\r\n",
    "def func_logger(fn):\r\n",
    "    \r\n",
    "    @wraps(fn)\r\n",
    "    def inner(*args, **kwargs):\r\n",
    "        result = fn(*args, **kwargs)\r\n",
    "        print(f'Log: {fn.__qualname__}({args}, {kwargs}) = {result}')\r\n",
    "        return result\r\n",
    "    return inner\r\n",
    "\r\n",
    "\r\n",
    "def class_logger(cls):\r\n",
    "    for name, obj in vars(cls).items():\r\n",
    "        if callable(obj):\r\n",
    "            print('decorating:', cls, name)\r\n",
    "            setattr(cls, name, func_logger(obj))\r\n",
    "    return cls\r\n",
    "\r\n",
    "@class_logger            \r\n",
    "class Person:\r\n",
    "    \r\n",
    "    def __init__(self, name, age):\r\n",
    "        self.name = name\r\n",
    "        self.age = age\r\n",
    "        \r\n",
    "    def greet(self):\r\n",
    "        return f'Hello, my name is {self.name}, and I am {self.age} years old'\r\n",
    "\r\n",
    "print('\\nInstantiating the class...') \r\n",
    "p = Person('John', 48)\r\n",
    "p.greet()"
   ],
   "outputs": [
    {
     "output_type": "stream",
     "name": "stdout",
     "text": [
      "decorating: <class '__main__.Person'> __init__\n",
      "decorating: <class '__main__.Person'> greet\n",
      "\n",
      "Instantiating the class...\n",
      "Log: Person.__init__((<__main__.Person object at 0x000001D083ECD3A0>, 'John', 48), {}) = None\n",
      "Log: Person.greet((<__main__.Person object at 0x000001D083ECD3A0>,), {}) = Hello, my name is John, and I am 48 years old\n"
     ]
    },
    {
     "output_type": "execute_result",
     "data": {
      "text/plain": [
       "'Hello, my name is John, and I am 48 years old'"
      ]
     },
     "metadata": {},
     "execution_count": 10
    }
   ],
   "metadata": {}
  },
  {
   "cell_type": "markdown",
   "source": [
    "### The approach above works for instancemethods, but won't work for classmethods and staticmethods"
   ],
   "metadata": {}
  },
  {
   "cell_type": "code",
   "execution_count": 15,
   "source": [
    "from functools import wraps\r\n",
    "\r\n",
    "def func_logger(fn):\r\n",
    "    \r\n",
    "    @wraps(fn)\r\n",
    "    def inner(*args, **kwargs):\r\n",
    "        result = fn(*args, **kwargs)\r\n",
    "        print(f'Log: {fn.__qualname__}({args}, {kwargs}) = {result}')\r\n",
    "        return result\r\n",
    "    return inner\r\n",
    "\r\n",
    "def class_logger(cls):\r\n",
    "    for name, obj in vars(cls).items():\r\n",
    "        \r\n",
    "        if callable(obj):\r\n",
    "            print('decorating callable', cls, name)\r\n",
    "            original_func = obj\r\n",
    "            decorated_func = func_logger(original_func)\r\n",
    "            setattr(cls, name, decorated_func)\r\n",
    "        \r\n",
    "        elif isinstance(obj, staticmethod):\r\n",
    "            print('decorating static method: ', cls, name)\r\n",
    "            original_func = obj.__func__\r\n",
    "            decorated_func = func_logger(original_func)\r\n",
    "            method = staticmethod(decorated_func)\r\n",
    "            setattr(cls, name, method)\r\n",
    "        \r\n",
    "        elif isinstance(obj, classmethod):\r\n",
    "            print('decorating class method: ', cls, name)\r\n",
    "            original_func = obj.__func__\r\n",
    "            decorated_func = func_logger(original_func)\r\n",
    "            method = classmethod(decorated_func)\r\n",
    "            setattr(cls, name, method)\r\n",
    "        \r\n",
    "        elif isinstance(obj, property):\r\n",
    "            print('decorating property: ', cls, name)\r\n",
    "            if obj.fget:\r\n",
    "                obj = obj.getter(func_logger(obj.fget))\r\n",
    "            \r\n",
    "            if obj.fset:\r\n",
    "                obj = obj.setter(func_logger(obj.fset))\r\n",
    "            \r\n",
    "            if obj.fdel:\r\n",
    "                obj = obj.deleter(func_logger(obj.fdel))\r\n",
    "                \r\n",
    "            setattr(cls, name, obj)\r\n",
    "            \r\n",
    "    return cls\r\n",
    "\r\n",
    "\r\n",
    "@class_logger\r\n",
    "class Person:\r\n",
    "    \r\n",
    "    def __init__(self, name):\r\n",
    "        self._name = name\r\n",
    "        \r\n",
    "    @property\r\n",
    "    def name(self):\r\n",
    "        return self._name\r\n",
    "    \r\n",
    "    @staticmethod\r\n",
    "    def static_method():\r\n",
    "        print('static_method called...')\r\n",
    "    \r\n",
    "    @classmethod\r\n",
    "    def class_method(cls):\r\n",
    "        print('class_method called...')\r\n",
    "        \r\n",
    "    def instance_method(self):\r\n",
    "        print('instance_method called...')\r\n",
    "\r\n",
    "\r\n",
    "p = Person('John')\r\n",
    "print()\r\n",
    "p.static_method()\r\n",
    "p.class_method()\r\n",
    "p.instance_method()\r\n",
    "p.name"
   ],
   "outputs": [
    {
     "output_type": "stream",
     "name": "stdout",
     "text": [
      "decorating callable <class '__main__.Person'> __init__\n",
      "decorating property:  <class '__main__.Person'> name\n",
      "decorating static method:  <class '__main__.Person'> static_method\n",
      "decorating class method:  <class '__main__.Person'> class_method\n",
      "decorating callable <class '__main__.Person'> instance_method\n",
      "Log: Person.__init__((<__main__.Person object at 0x00000126867AF4C0>, 'John'), {}) = None\n",
      "\n",
      "static_method called...\n",
      "Log: Person.static_method((), {}) = None\n",
      "class_method called...\n",
      "Log: Person.class_method((<class '__main__.Person'>,), {}) = None\n",
      "instance_method called...\n",
      "Log: Person.instance_method((<__main__.Person object at 0x00000126867AF4C0>,), {}) = None\n",
      "Log: Person.name((<__main__.Person object at 0x00000126867AF4C0>,), {}) = John\n"
     ]
    },
    {
     "output_type": "execute_result",
     "data": {
      "text/plain": [
       "'John'"
      ]
     },
     "metadata": {},
     "execution_count": 15
    }
   ],
   "metadata": {}
  },
  {
   "cell_type": "markdown",
   "source": [
    "### This works well for the methods, but won't work for properties"
   ],
   "metadata": {}
  },
  {
   "cell_type": "code",
   "execution_count": 17,
   "source": [
    "import inspect\r\n",
    "\r\n",
    "class MyClass:\r\n",
    "    @staticmethod\r\n",
    "    def static_method():\r\n",
    "        pass\r\n",
    "    \r\n",
    "    @classmethod\r\n",
    "    def cls_method(cls):\r\n",
    "        pass\r\n",
    "    \r\n",
    "    def inst_method(self):\r\n",
    "        pass\r\n",
    "    \r\n",
    "    @property\r\n",
    "    def name(self):\r\n",
    "        pass\r\n",
    "    \r\n",
    "    def __add__(self, other):\r\n",
    "        pass\r\n",
    "    \r\n",
    "    class Other:\r\n",
    "        def __call__(self):\r\n",
    "            pass\r\n",
    "        \r\n",
    "    other = Other()\r\n",
    "    \r\n",
    "\r\n",
    "keys = ('static_method', 'cls_method', 'inst_method', 'name', '__add__', 'Other', 'other')\r\n",
    "inspect_funcs = ('isroutine', 'ismethod', 'isfunction', 'isbuiltin', 'ismethoddescriptor')\r\n",
    "    \r\n",
    "max_header_length = max(len(key) for key in keys)\r\n",
    "max_fname_length = max(len(func) for func in inspect_funcs)\r\n",
    "print(format('', f'{max_fname_length}s'), '\\t'.join(format(key, f'{max_header_length}s') for key in keys))\r\n",
    "for inspect_func in inspect_funcs:\r\n",
    "    fn = getattr(inspect, inspect_func)\r\n",
    "    inspect_results = (format(str(fn(MyClass.__dict__[key])), f'{max_header_length}s') for key in keys)\r\n",
    "    print(format(inspect_func, f'{max_fname_length}s'), '\\t'.join(inspect_results))"
   ],
   "outputs": [
    {
     "output_type": "stream",
     "name": "stdout",
     "text": [
      "                   static_method\tcls_method   \tinst_method  \tname         \t__add__      \tOther        \tother        \n",
      "isroutine          True         \tTrue         \tTrue         \tFalse        \tTrue         \tFalse        \tFalse        \n",
      "ismethod           False        \tFalse        \tFalse        \tFalse        \tFalse        \tFalse        \tFalse        \n",
      "isfunction         False        \tFalse        \tTrue         \tFalse        \tTrue         \tFalse        \tFalse        \n",
      "isbuiltin          False        \tFalse        \tFalse        \tFalse        \tFalse        \tFalse        \tFalse        \n",
      "ismethoddescriptor True         \tTrue         \tFalse        \tFalse        \tFalse        \tFalse        \tFalse        \n"
     ]
    }
   ],
   "metadata": {}
  },
  {
   "cell_type": "markdown",
   "source": [
    "## Cleaning up the class_logger"
   ],
   "metadata": {}
  },
  {
   "cell_type": "code",
   "execution_count": 25,
   "source": [
    "from functools import wraps\r\n",
    "import inspect\r\n",
    "\r\n",
    "def func_logger(fn):\r\n",
    "    \r\n",
    "    @wraps(fn)\r\n",
    "    def inner(*args, **kwargs):\r\n",
    "        result = fn(*args, **kwargs)\r\n",
    "        print(f'Log: {fn.__qualname__}({args}, {kwargs}) = {result}')\r\n",
    "        return result\r\n",
    "    return inner\r\n",
    "\r\n",
    "def class_logger(cls):\r\n",
    "    for name, obj in vars(cls).items():        \r\n",
    "        if isinstance(obj, (staticmethod, classmethod)):\r\n",
    "            print(f'Decorating a {type(obj).__name__}')\r\n",
    "            type_ = type(obj)\r\n",
    "            original_func = obj.__func__\r\n",
    "            decorated_func = func_logger(original_func)\r\n",
    "            method = type_(decorated_func)\r\n",
    "            setattr(cls, name, method)\r\n",
    "        \r\n",
    "        elif isinstance(obj, property):\r\n",
    "            print('decorating property: ', cls, name)\r\n",
    "            methods = (('fget', 'getter'), ('fset', 'setter'), ('fdel', 'deleter'))\r\n",
    "            for prop, method in methods:\r\n",
    "                if getattr(obj, prop):\r\n",
    "                    obj = getattr(obj, method)(func_logger(getattr(obj, prop)))\r\n",
    "            setattr(cls, name, obj)\r\n",
    "            \r\n",
    "        elif inspect.isroutine(obj):\r\n",
    "            print('decorating callable', cls, name)\r\n",
    "            original_func = obj\r\n",
    "            decorated_func = func_logger(original_func)\r\n",
    "            setattr(cls, name, decorated_func)\r\n",
    "            \r\n",
    "    return cls\r\n",
    "\r\n",
    "\r\n",
    "@class_logger\r\n",
    "class Person:\r\n",
    "    \r\n",
    "    def __init__(self, name):\r\n",
    "        self._name = name\r\n",
    "        \r\n",
    "    @property\r\n",
    "    def name(self):\r\n",
    "        return self._name\r\n",
    "    \r\n",
    "    @staticmethod\r\n",
    "    def static_method():\r\n",
    "        print('static_method called...')\r\n",
    "    \r\n",
    "    @classmethod\r\n",
    "    def class_method(cls):\r\n",
    "        print('class_method called...')\r\n",
    "        \r\n",
    "    def instance_method(self):\r\n",
    "        print('instance_method called...')\r\n",
    "\r\n",
    "\r\n",
    "p = Person('John')\r\n",
    "print()\r\n",
    "p.static_method()\r\n",
    "p.class_method()\r\n",
    "p.instance_method()\r\n",
    "p.name\r\n"
   ],
   "outputs": [
    {
     "output_type": "stream",
     "name": "stdout",
     "text": [
      "decorating callable <class '__main__.Person'> __init__\n",
      "decorating property:  <class '__main__.Person'> name\n",
      "Decorating a staticmethod\n",
      "Decorating a classmethod\n",
      "decorating callable <class '__main__.Person'> instance_method\n",
      "Log: Person.__init__((<__main__.Person object at 0x00000126867EC7C0>, 'John'), {}) = None\n",
      "\n",
      "static_method called...\n",
      "Log: Person.static_method((), {}) = None\n",
      "class_method called...\n",
      "Log: Person.class_method((<class '__main__.Person'>,), {}) = None\n",
      "instance_method called...\n",
      "Log: Person.instance_method((<__main__.Person object at 0x00000126867EC7C0>,), {}) = None\n",
      "Log: Person.name((<__main__.Person object at 0x00000126867EC7C0>,), {}) = John\n"
     ]
    },
    {
     "output_type": "execute_result",
     "data": {
      "text/plain": [
       "'John'"
      ]
     },
     "metadata": {},
     "execution_count": 25
    }
   ],
   "metadata": {}
  },
  {
   "cell_type": "markdown",
   "source": [
    "# Decorator classes"
   ],
   "metadata": {}
  },
  {
   "cell_type": "code",
   "execution_count": 28,
   "source": [
    "from types import MethodType\r\n",
    "\r\n",
    "class Logger:\r\n",
    "    \r\n",
    "    def __init__(self, fn):\r\n",
    "        self.fn = fn\r\n",
    "        \r\n",
    "    def __call__(self, *args, **kwargs):\r\n",
    "        print(f'Log: {self.fn.__name__} called')\r\n",
    "        return self.fn(*args, **kwargs)\r\n",
    "    \r\n",
    "    def __get__(self, instance, owner_class):\r\n",
    "        if instance is None:\r\n",
    "            return self\r\n",
    "        else:\r\n",
    "            return MethodType(self, instance)\r\n",
    "        \r\n",
    "class Person:\r\n",
    "    \r\n",
    "    def __init__(self, name):\r\n",
    "        self.name = name\r\n",
    "    \r\n",
    "    @Logger\r\n",
    "    def say_hello(self):\r\n",
    "        return f'{self.name} says hello'\r\n",
    "\r\n",
    "@Logger\r\n",
    "def say_bye(name):\r\n",
    "    return f'{name }says bye'\r\n",
    "\r\n",
    "   \r\n",
    "p = Person('Alex')\r\n",
    "print(p.say_hello, end='\\n\\n')\r\n",
    "p.say_hello() \r\n",
    "print()\r\n",
    "say_bye('John')"
   ],
   "outputs": [
    {
     "output_type": "stream",
     "name": "stdout",
     "text": [
      "__get__ called: self=<__main__.Logger object at 0x00000126867C5190>, instance=<__main__.Person object at 0x00000126867C57C0>\n",
      "\treturning self as a method to instance\n",
      "<bound method ? of <__main__.Person object at 0x00000126867C57C0>>\n",
      "\n",
      "__get__ called: self=<__main__.Logger object at 0x00000126867C5190>, instance=<__main__.Person object at 0x00000126867C57C0>\n",
      "\treturning self as a method to instance\n",
      "Log: say_hello called\n",
      "\n",
      "Log: say_bye called\n"
     ]
    },
    {
     "output_type": "execute_result",
     "data": {
      "text/plain": [
       "'Johnsays bye'"
      ]
     },
     "metadata": {},
     "execution_count": 28
    }
   ],
   "metadata": {}
  },
  {
   "cell_type": "code",
   "execution_count": 19,
   "source": [],
   "outputs": [
    {
     "output_type": "stream",
     "name": "stdout",
     "text": [
      "This is a number\n"
     ]
    }
   ],
   "metadata": {}
  },
  {
   "cell_type": "markdown",
   "source": [
    "## Metaclasses vs Class Decorators\r\n",
    "- As we have seen, class decorators can achieve a lot of the metaprogramming goals we might have.\r\n",
    "- But there is one area where they fall short of metaclasses - inheritance.\r\n",
    "- Metaclasses are carried through inheritance, whereas decorators are not."
   ],
   "metadata": {}
  },
  {
   "cell_type": "code",
   "execution_count": 29,
   "source": [
    "from functools import wraps\r\n",
    "\r\n",
    "def func_logger(fn):\r\n",
    "    @wraps(fn)\r\n",
    "    def inner(*args, **kwargs):\r\n",
    "        result = fn(*args, **kwargs)\r\n",
    "        print(f'log: {fn.__qualname__}({args}, {kwargs}) = {result}')\r\n",
    "        return result\r\n",
    "    return inner    \r\n",
    "\r\n",
    "def class_logger(cls):\r\n",
    "    for name, obj in vars(cls).items():\r\n",
    "        if callable(obj):\r\n",
    "            print('decorating:', cls, name)\r\n",
    "            setattr(cls, name, func_logger(obj))\r\n",
    "    return cls\r\n",
    "\r\n",
    "@class_logger\r\n",
    "class Person:\r\n",
    "    def __init__(self, name, age):\r\n",
    "        self.name = name\r\n",
    "        self.age = age\r\n",
    "    \r\n",
    "    def greet(self):\r\n",
    "        return f'Hello, my name is {self.name} and I am {self.age}'\r\n",
    "    \r\n",
    "Person('Alex', 10).greet()"
   ],
   "outputs": [
    {
     "output_type": "stream",
     "name": "stdout",
     "text": [
      "decorating: <class '__main__.Person'> __init__\n",
      "decorating: <class '__main__.Person'> greet\n",
      "log: Person.__init__((<__main__.Person object at 0x00000126867A19D0>, 'Alex', 10), {}) = None\n",
      "log: Person.greet((<__main__.Person object at 0x00000126867A19D0>,), {}) = Hello, my name is Alex and I am 10\n"
     ]
    },
    {
     "output_type": "execute_result",
     "data": {
      "text/plain": [
       "'Hello, my name is Alex and I am 10'"
      ]
     },
     "metadata": {},
     "execution_count": 29
    }
   ],
   "metadata": {}
  },
  {
   "cell_type": "markdown",
   "source": [
    "## We could do this with a metaclass too:"
   ],
   "metadata": {}
  },
  {
   "cell_type": "code",
   "execution_count": 30,
   "source": [
    "class ClassLogger(type):\r\n",
    "    def __new__(mcls, name, bases, class_dict):\r\n",
    "        new_cls = super().__new__(mcls, name, bases, class_dict)\r\n",
    "        for key, obj in vars(new_cls).items():\r\n",
    "            if callable(obj):\r\n",
    "                setattr(new_cls, key, func_logger(obj))\r\n",
    "        return new_cls   \r\n",
    "    \r\n",
    "class Person(metaclass=ClassLogger):\r\n",
    "    def __init__(self, name, age):\r\n",
    "        self.name = name\r\n",
    "        self.age = age\r\n",
    "    \r\n",
    "    def greet(self):\r\n",
    "        return f'Hello, my name is {self.name} and I am {self.age}' \r\n",
    "    \r\n",
    "p = Person('John', 78).greet()"
   ],
   "outputs": [
    {
     "output_type": "stream",
     "name": "stdout",
     "text": [
      "log: Person.__init__((<__main__.Person object at 0x00000126867F3970>, 'John', 78), {}) = None\n",
      "log: Person.greet((<__main__.Person object at 0x00000126867F3970>,), {}) = Hello, my name is John and I am 78\n"
     ]
    }
   ],
   "metadata": {}
  },
  {
   "cell_type": "markdown",
   "source": [
    "## The main advantage of using a metaclass over a decorator is that it allows for **`inheritance`**"
   ],
   "metadata": {}
  },
  {
   "cell_type": "markdown",
   "source": [
    "### When we use a decorator we to remember to also decorate the sub-class like below"
   ],
   "metadata": {}
  },
  {
   "cell_type": "code",
   "execution_count": 31,
   "source": [
    "from functools import wraps\r\n",
    "\r\n",
    "def func_logger(fn):\r\n",
    "    @wraps(fn)\r\n",
    "    def inner(*args, **kwargs):\r\n",
    "        result = fn(*args, **kwargs)\r\n",
    "        print(f'log: {fn.__qualname__}({args}, {kwargs}) = {result}')\r\n",
    "        return result\r\n",
    "    return inner    \r\n",
    "\r\n",
    "def class_logger(cls):\r\n",
    "    for name, obj in vars(cls).items():\r\n",
    "        if callable(obj):\r\n",
    "            print('decorating:', cls, name)\r\n",
    "            setattr(cls, name, func_logger(obj))\r\n",
    "    return cls\r\n",
    "\r\n",
    "@class_logger\r\n",
    "class Person:\r\n",
    "    def __init__(self, name, age):\r\n",
    "        self.name = name\r\n",
    "        self.age = age\r\n",
    "    \r\n",
    "    def greet(self):\r\n",
    "        return f'Hello, my name is {self.name} and I am {self.age}'\r\n",
    "\r\n",
    "\r\n",
    "@class_logger\r\n",
    "class Student(Person):\r\n",
    "    def __init__(self, name, age, student_number):\r\n",
    "        super().__init__(name, age)\r\n",
    "        self.student_number = student_number\r\n",
    "        \r\n",
    "    def study(self):\r\n",
    "        return f'{self.name} studies...'\r\n",
    "    \r\n",
    "s = Student('Alex', 19, 'abcdefg')\r\n",
    "print(s.study())\r\n",
    "print(s.greet())"
   ],
   "outputs": [
    {
     "output_type": "stream",
     "name": "stdout",
     "text": [
      "decorating: <class '__main__.Person'> __init__\n",
      "decorating: <class '__main__.Person'> greet\n",
      "decorating: <class '__main__.Student'> __init__\n",
      "decorating: <class '__main__.Student'> study\n",
      "log: Person.__init__((<__main__.Student object at 0x00000126867F3160>, 'Alex', 19), {}) = None\n",
      "log: Student.__init__((<__main__.Student object at 0x00000126867F3160>, 'Alex', 19, 'abcdefg'), {}) = None\n",
      "log: Student.study((<__main__.Student object at 0x00000126867F3160>,), {}) = Alex studies...\n",
      "Alex studies...\n",
      "log: Person.greet((<__main__.Student object at 0x00000126867F3160>,), {}) = Hello, my name is Alex and I am 19\n",
      "Hello, my name is Alex and I am 19\n"
     ]
    }
   ],
   "metadata": {}
  },
  {
   "cell_type": "code",
   "execution_count": null,
   "source": [
    "class ClassLogger(type):\r\n",
    "    def __new__(mcls, name, bases, class_dict):\r\n",
    "        new_cls = super().__new__(mcls, name, bases, class_dict)\r\n",
    "        for key, obj in vars(new_cls).items():\r\n",
    "            if callable(obj):\r\n",
    "                setattr(new_cls, key, func_logger(obj))\r\n",
    "        return new_cls   \r\n",
    "\r\n",
    "class Person(metaclass=ClassLogger):\r\n",
    "    def __init__(self, name, age):\r\n",
    "        self.name = name\r\n",
    "        self.age = age\r\n",
    "    \r\n",
    "    def greet(self):\r\n",
    "        return f'Hello, my name is {self.name} and I am {self.age}'\r\n",
    "    \r\n",
    "class Student(Person):\r\n",
    "    def __init__(self, name, age, student_number):\r\n",
    "        super().__init__(name, age)\r\n",
    "        self.student_number = student_number\r\n",
    "        \r\n",
    "    def study(self):\r\n",
    "        return f'{self.name} studies...'\r\n",
    "    \r\n",
    "s = Student('Alex', 19, 'abcdefg')\r\n",
    "s.study()"
   ],
   "outputs": [],
   "metadata": {}
  }
 ],
 "metadata": {
  "orig_nbformat": 4,
  "language_info": {
   "name": "python",
   "version": "3.9.5",
   "mimetype": "text/x-python",
   "codemirror_mode": {
    "name": "ipython",
    "version": 3
   },
   "pygments_lexer": "ipython3",
   "nbconvert_exporter": "python",
   "file_extension": ".py"
  },
  "kernelspec": {
   "name": "python3",
   "display_name": "Python 3.9.5 64-bit ('spenncon': conda)"
  },
  "interpreter": {
   "hash": "05d659cf7217a31b7ba206b7e3fe1d98040361cb242cc44ce7c59206cfd427bc"
  }
 },
 "nbformat": 4,
 "nbformat_minor": 2
}