{
 "cells": [
  {
   "cell_type": "markdown",
   "source": [
    "## The \\_\\_new__ method"
   ],
   "metadata": {}
  },
  {
   "cell_type": "code",
   "execution_count": 2,
   "source": [
    "class Point(object):\r\n",
    "    \r\n",
    "    def __init__(self, x, y):\r\n",
    "        self.x = x\r\n",
    "        self.y = y\r\n",
    "      \r\n",
    "\r\n",
    "p = object.__new__(Point)\r\n",
    "p.__init__(10, 20)\r\n",
    "p.__dict__"
   ],
   "outputs": [
    {
     "output_type": "execute_result",
     "data": {
      "text/plain": [
       "{'x': 10, 'y': 20}"
      ]
     },
     "metadata": {},
     "execution_count": 2
    }
   ],
   "metadata": {}
  },
  {
   "cell_type": "code",
   "execution_count": 4,
   "source": [
    "class Point:\r\n",
    "    def __new__(cls, x, y):\r\n",
    "        print('Creating instance...', x, y)\r\n",
    "        return super().__new__(cls)\r\n",
    "    \r\n",
    "    def __init__(self, x, y) -> None:\r\n",
    "        print('Init called...', x, y)\r\n",
    "        self.x = x\r\n",
    "        self.y = y\r\n",
    "        \r\n",
    "p = Point(10, 20)"
   ],
   "outputs": [
    {
     "output_type": "stream",
     "name": "stdout",
     "text": [
      "Creating instance... 10 20\n",
      "Init called... 10 20\n"
     ]
    }
   ],
   "metadata": {}
  },
  {
   "cell_type": "code",
   "execution_count": 7,
   "source": [
    "class Person:\r\n",
    "    def __new__(cls, name):\r\n",
    "        print(f'Person: instantiating {cls.__name__}...')\r\n",
    "        return object.__new__(cls)\r\n",
    "    \r\n",
    "    def __init__(self, name):\r\n",
    "        print('Person: initializing instance...')\r\n",
    "        self.name = name\r\n",
    "        \r\n",
    "class Student(Person):\r\n",
    "    def __new__(cls, name, major):\r\n",
    "        print(f'Student: instantiating {cls.__name__}...')\r\n",
    "        return super().__new__(cls, name)\r\n",
    "    \r\n",
    "    def __init__(self, name, major):\r\n",
    "        print('Student: initializing instance')\r\n",
    "        super().__init__(name)\r\n",
    "        self.major = major\r\n",
    "\r\n",
    "\r\n",
    "s = Student('John', 'Math')\r\n",
    "s.__dict__"
   ],
   "outputs": [
    {
     "output_type": "stream",
     "name": "stdout",
     "text": [
      "Student: instantiating Student...\n",
      "Person: instantiating Student...\n",
      "Student: initializing instance\n",
      "Person: initializing instance...\n"
     ]
    },
    {
     "output_type": "execute_result",
     "data": {
      "text/plain": [
       "{'name': 'John', 'major': 'Math'}"
      ]
     },
     "metadata": {},
     "execution_count": 7
    }
   ],
   "metadata": {}
  },
  {
   "cell_type": "code",
   "execution_count": 8,
   "source": [
    "class Square:\r\n",
    "    # new is a static method. we don't really need the @staticmethod \r\n",
    "    # decorator because Python will do that automaticaly\r\n",
    "    @staticmethod\r\n",
    "    def __new__(cls, w, l):\r\n",
    "        cls.area = lambda self: self.w * self.l\r\n",
    "        instance = super().__new__(cls)\r\n",
    "        instance.w = w\r\n",
    "        instance.l = l\r\n",
    "        return instance\r\n",
    "    \r\n",
    "s = Square(2, 3)\r\n",
    "print(s.__dict__)\r\n",
    "s.area()"
   ],
   "outputs": [
    {
     "output_type": "stream",
     "name": "stdout",
     "text": [
      "{'w': 2, 'l': 3}\n"
     ]
    },
    {
     "output_type": "execute_result",
     "data": {
      "text/plain": [
       "6"
      ]
     },
     "metadata": {},
     "execution_count": 8
    }
   ],
   "metadata": {}
  },
  {
   "cell_type": "markdown",
   "source": [
    "## How classes are created\r\n",
    "- When Python encounters a **`class`** (Person) as it compiles (executes) our code:\r\n",
    "    * a symbol **`Person`** is created in the namespace\r\n",
    "    * that symbol is a reference to the class **`Person`** (it is an object)\r\n",
    "- How does Python create that class?\r\n",
    "    * a class is an instance of **`type`**:\r\n",
    "        - that's why a **`class`** is also called a **`type`**  \r\n",
    "        - type is a **`callable`** (and is in fact a type (class) itself, and inherits from **`object`**)"
   ],
   "metadata": {}
  },
  {
   "cell_type": "code",
   "execution_count": 15,
   "source": [
    "import math\r\n",
    "\r\n",
    "class_name = 'Circle'\r\n",
    "\r\n",
    "class_body = \"\"\"\r\n",
    "def __init__(self, x, y, r):\r\n",
    "    self.x = x\r\n",
    "    self.y = y\r\n",
    "    self.r = r\r\n",
    "    \r\n",
    "def area(self):\r\n",
    "    return math.pi * self.r **2\r\n",
    "\"\"\"\r\n",
    "\r\n",
    "class_bases = ()\r\n",
    "class_dict = {}\r\n",
    "\r\n",
    "# populate the dict with the content inside class body\r\n",
    "exec(class_body, globals(), class_dict)\r\n",
    "\r\n",
    "# Create the class\r\n",
    "# if type gets called with only one argument, it returns the type of the object\r\n",
    "# if we supply three arguments, then the type function returns a new type instance\r\n",
    "Circle = type(class_name, class_bases, class_dict)\r\n",
    "\r\n",
    "c = Circle(x=0, y=0, r=1)\r\n",
    "c.area()"
   ],
   "outputs": [
    {
     "output_type": "execute_result",
     "data": {
      "text/plain": [
       "3.141592653589793"
      ]
     },
     "metadata": {},
     "execution_count": 15
    }
   ],
   "metadata": {}
  },
  {
   "cell_type": "markdown",
   "source": [
    "## Inheriting from type"
   ],
   "metadata": {}
  },
  {
   "cell_type": "markdown",
   "source": [
    "- type is an **`object`**\r\n",
    "    * like any object it inherits from **`object`**\r\n",
    "    * it has \\_\\_new__ and \\_\\_init__\r\n",
    "<br><br>\r\n",
    "\r\n",
    "- type is a **`class`**\r\n",
    "    * it is callable\r\n",
    "    * calling it creates a new instance of type\r\n",
    "    * just like calling any class\r\n",
    "        - calls \\_\\_new__\r\n",
    "    * can be used as a **`base class`** for a custom class\r\n",
    "        - we can overide \\_\\_new__ --> tweak things, but delegate to type for actual type creation"
   ],
   "metadata": {}
  },
  {
   "cell_type": "code",
   "execution_count": 17,
   "source": [
    "import math\r\n",
    "\r\n",
    "# Meta class\r\n",
    "class CustomType(type):\r\n",
    "    def __new__(cls, name, bases, class_dict):\r\n",
    "        print('Customized type creation')\r\n",
    "        cls_obj = super().__new__(cls, name, bases, class_dict)\r\n",
    "        cls_obj.circ = lambda self: 2 * math.pi * self.r\r\n",
    "        return cls_obj    \r\n",
    "  \r\n",
    "    \r\n",
    "class_name = 'Circle'\r\n",
    "\r\n",
    "class_body = \"\"\"\r\n",
    "def __init__(self, x, y, r):\r\n",
    "    self.x = x\r\n",
    "    self.y = y\r\n",
    "    self.r = r\r\n",
    "    \r\n",
    "def area(self):\r\n",
    "    return math.pi * self.r **2\r\n",
    "\"\"\"\r\n",
    "\r\n",
    "class_bases = ()\r\n",
    "class_dict = {}\r\n",
    "\r\n",
    "# populate the dict with the content inside class body\r\n",
    "exec(class_body, globals(), class_dict)\r\n",
    "\r\n",
    "Circle = CustomType('Circle', class_bases, class_dict)\r\n",
    "\r\n",
    "c = Circle(x=0, y=0, r=1)\r\n",
    "print(c.circ())\r\n",
    "print(c.area())"
   ],
   "outputs": [
    {
     "output_type": "stream",
     "name": "stdout",
     "text": [
      "Customized type creation\n",
      "6.283185307179586\n",
      "3.141592653589793\n"
     ]
    }
   ],
   "metadata": {}
  },
  {
   "cell_type": "markdown",
   "source": [
    "### An alterntive way of writing the CustomType class"
   ],
   "metadata": {}
  },
  {
   "cell_type": "code",
   "execution_count": null,
   "source": [
    "class CustomType(type):\r\n",
    "    def __new__(cls, name, bases, class_dict):\r\n",
    "        print('Customized type creation')\r\n",
    "        class_dict['circ'] = lambda self: 2 * math.pi * self.r\r\n",
    "        return super().__new__(cls, name, bases, class_dict)  "
   ],
   "outputs": [],
   "metadata": {}
  },
  {
   "cell_type": "markdown",
   "source": [
    "## Metaclasses\r\n",
    "- To create a class, another class is used (typically **`type`**)\r\n",
    "- The class used to create a class, is called the **`metaclass`** of that class\r\n",
    "    * by default, Python uses **`type`** as the metaclass\r\n",
    "    * but we can override this --> class Person(**`metaclass=MyType`**)"
   ],
   "metadata": {}
  },
  {
   "cell_type": "code",
   "execution_count": 22,
   "source": [
    "import math\r\n",
    "\r\n",
    "class CustomType(type):\r\n",
    "    def __new__(mcls, name, bases, class_dict):\r\n",
    "        print(f'Using custom metaclass \"{mcls.__name__}\" to create class \"{name}\"...')\r\n",
    "        cls_obj = super().__new__(mcls, name, bases, class_dict)\r\n",
    "        cls_obj.circ = lambda self: 2 * math.pi * self.r\r\n",
    "        return cls_obj  \r\n",
    "    \r\n",
    "class Circle(metaclass=CustomType):\r\n",
    "    def __init__(self, x, y, r):\r\n",
    "        self.x = x\r\n",
    "        self.y = y\r\n",
    "        self.r = r\r\n",
    "    \r\n",
    "    def area(self):\r\n",
    "        return math.pi * self.r **2\r\n",
    "    \r\n"
   ],
   "outputs": [
    {
     "output_type": "stream",
     "name": "stdout",
     "text": [
      "Using custom metaclass \"CustomType\" to create class \"Circle\"...\n"
     ]
    }
   ],
   "metadata": {}
  }
 ],
 "metadata": {
  "orig_nbformat": 4,
  "language_info": {
   "name": "python",
   "version": "3.9.5",
   "mimetype": "text/x-python",
   "codemirror_mode": {
    "name": "ipython",
    "version": 3
   },
   "pygments_lexer": "ipython3",
   "nbconvert_exporter": "python",
   "file_extension": ".py"
  },
  "kernelspec": {
   "name": "python3",
   "display_name": "Python 3.9.5 64-bit ('spenncon': conda)"
  },
  "interpreter": {
   "hash": "05d659cf7217a31b7ba206b7e3fe1d98040361cb242cc44ce7c59206cfd427bc"
  }
 },
 "nbformat": 4,
 "nbformat_minor": 2
}