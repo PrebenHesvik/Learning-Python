{
 "cells": [
  {
   "cell_type": "code",
   "execution_count": 2,
   "source": [
    "class MyMeta(type):\r\n",
    "    @staticmethod\r\n",
    "    def __prepare__(name, bases, **kwargs):\r\n",
    "        print('MyMeta.__prepare__ called...')\r\n",
    "        print('\\tname: ', name)\r\n",
    "        print('\\tkwargs: ', kwargs)\r\n",
    "        return {'a': 100, 'b': 200}\r\n",
    "    \r\n",
    "    @staticmethod\r\n",
    "    def __new__(mcls, name, bases, cls_dict, **kwargs):\r\n",
    "        print('MyMeta.__new__ called...')\r\n",
    "        print('\\tmcls: ', mcls, type(mcls))\r\n",
    "        print('\\tname: ', name, type(name))\r\n",
    "        print('\\tbases: ', bases, type(bases))\r\n",
    "        print('\\tcls_dict: ', cls_dict, type(cls_dict))\r\n",
    "        print('\\tkwargs: ', kwargs)\r\n",
    "        return super().__new__(mcls, name, bases, cls_dict)\r\n",
    "    \r\n",
    "\r\n",
    "class MyClass(metaclass=MyMeta, kw=1, kw2=2):\r\n",
    "    pass"
   ],
   "outputs": [
    {
     "output_type": "stream",
     "name": "stdout",
     "text": [
      "MyMeta.__prepare__ called...\n",
      "\tname:  MyClass\n",
      "\tkwargs:  {'kw': 1, 'kw2': 2}\n",
      "MyMeta.__new__ called...\n",
      "\tmcls:  <class '__main__.MyMeta'> <class 'type'>\n",
      "\tname:  MyClass <class 'str'>\n",
      "\tbases:  () <class 'tuple'>\n",
      "\tcls_dict:  {'a': 100, 'b': 200, '__module__': '__main__', '__qualname__': 'MyClass'} <class 'dict'>\n",
      "\tkwargs:  {'kw': 1, 'kw2': 2}\n"
     ]
    }
   ],
   "metadata": {}
  },
  {
   "cell_type": "code",
   "execution_count": 6,
   "source": [
    "class MyMeta(type):\r\n",
    "    \r\n",
    "    def __prepare__(name, bases, **kwargs):\r\n",
    "        return kwargs\r\n",
    "    \r\n",
    "    def __new__(mcls, name, bases, cls_dict, **kwargs):\r\n",
    "        return super().__new__(mcls, name, bases, cls_dict)\r\n",
    "\r\n",
    "class MyClass(metaclass=MyMeta, kw=1, kw2=2):\r\n",
    "    pass  \r\n",
    "\r\n",
    "vars(MyClass)"
   ],
   "outputs": [
    {
     "output_type": "execute_result",
     "data": {
      "text/plain": [
       "mappingproxy({'kw': 1,\n",
       "              'kw2': 2,\n",
       "              '__module__': '__main__',\n",
       "              '__dict__': <attribute '__dict__' of 'MyClass' objects>,\n",
       "              '__weakref__': <attribute '__weakref__' of 'MyClass' objects>,\n",
       "              '__doc__': None})"
      ]
     },
     "metadata": {},
     "execution_count": 6
    }
   ],
   "metadata": {}
  },
  {
   "cell_type": "code",
   "execution_count": 9,
   "source": [
    "class CustomDict(dict):\r\n",
    "    def __setitem__(self, key, value):\r\n",
    "        print(f'Setting {key} = {value} in custom dict')\r\n",
    "        return super().__setitem__(key, value)\r\n",
    "    \r\n",
    "    def __getitem__(self, key):\r\n",
    "        print(f'Getting {key} from custom dict')\r\n",
    "        return super().__getitem__(key)\r\n",
    "    \r\n",
    "class MyMeta(type):\r\n",
    "    def __prepare__(name, bases):\r\n",
    "        return CustomDict()\r\n",
    "    \r\n",
    "class MyClass(metaclass=MyMeta):\r\n",
    "    pass"
   ],
   "outputs": [
    {
     "output_type": "stream",
     "name": "stdout",
     "text": [
      "Getting __name__ from custom dict\n",
      "Setting __module__ = __main__ in custom dict\n",
      "Setting __qualname__ = MyClass in custom dict\n"
     ]
    }
   ],
   "metadata": {}
  }
 ],
 "metadata": {
  "orig_nbformat": 4,
  "language_info": {
   "name": "python",
   "version": "3.9.5",
   "mimetype": "text/x-python",
   "codemirror_mode": {
    "name": "ipython",
    "version": 3
   },
   "pygments_lexer": "ipython3",
   "nbconvert_exporter": "python",
   "file_extension": ".py"
  },
  "kernelspec": {
   "name": "python3",
   "display_name": "Python 3.9.5 64-bit ('spenncon': conda)"
  },
  "interpreter": {
   "hash": "05d659cf7217a31b7ba206b7e3fe1d98040361cb242cc44ce7c59206cfd427bc"
  }
 },
 "nbformat": 4,
 "nbformat_minor": 2
}