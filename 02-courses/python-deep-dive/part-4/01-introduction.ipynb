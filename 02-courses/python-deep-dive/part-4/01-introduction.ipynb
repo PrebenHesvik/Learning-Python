{
 "cells": [
  {
   "cell_type": "code",
   "execution_count": 70,
   "source": [
    "from pprint import pprint"
   ],
   "outputs": [],
   "metadata": {}
  },
  {
   "cell_type": "markdown",
   "source": [
    "## What is an **`object`**? Answer: a **`container`**\r\n",
    "- Contains data --> **`attributes`**\r\n",
    "- Contains functionality --> **`methods`**)\r\n",
    "<br><br>\r\n",
    "\r\n",
    "## A **`class`** is like a **`template`** used to create objects\r\n",
    "- Also called a **`type`**\r\n",
    "\r\n",
    "## Classes are **`themselves`** objects\r\n",
    "- They have attributes (state)\r\n",
    "    * e.g class name (or type name)\r\n",
    "<br><br>\r\n",
    "\r\n",
    "- They have behavior\r\n",
    "    * e.g how to create an instance of the class"
   ],
   "metadata": {}
  },
  {
   "cell_type": "code",
   "execution_count": 12,
   "source": [
    "class MyClass:\r\n",
    "    pass\r\n",
    "\r\n",
    "print('Type of MyClass: ', type(MyClass).__name__)\r\n",
    "mc = MyClass()\r\n",
    "print('Type of an instance of MyClass: ',type(mc).__name__)\r\n",
    "print('__class__ of an instance of MyClass: ',mc.__class__.__name__)\r\n",
    "print('type(mc) is mc.__class__? ', type(mc) is mc.__class__)"
   ],
   "outputs": [
    {
     "output_type": "stream",
     "name": "stdout",
     "text": [
      "Type of MyClass:  type\n",
      "Type of an instance of MyClass:  MyClass\n",
      "__class__ of an instance of MyClass:  MyClass\n",
      "type(mc) is mc.__class__?  True\n"
     ]
    }
   ],
   "metadata": {}
  },
  {
   "cell_type": "markdown",
   "source": [
    "## 4 principles of OOP:\r\n",
    "- Inheritance\r\n",
    "- Polymorphism\r\n",
    "- Encapsulation\r\n",
    "- Abstraction"
   ],
   "metadata": {}
  },
  {
   "cell_type": "markdown",
   "source": [
    "## Class attributes"
   ],
   "metadata": {}
  },
  {
   "cell_type": "code",
   "execution_count": 83,
   "source": [
    "class Program:\r\n",
    "    language = 'Python'\r\n",
    "    version = '3.6'\r\n",
    "    \r\n",
    "print('Class name: ', Program.__name__)\r\n",
    "print('Class type: ', type(Program))\r\n",
    "print('Program.language: ', Program.language)\r\n",
    "print('Program.version: ', Program.version, end='\\n\\n')\r\n",
    "\r\n",
    "print('Changing Program.version to 3.9')\r\n",
    "Program.version = '3.9'\r\n",
    "print('New Program.version: ', Program.version, end='\\n\\n')\r\n",
    "\r\n",
    "\r\n",
    "print('Retrieving Program.language using getattr-function')\r\n",
    "\r\n",
    "language = getattr(Program, 'language')\r\n",
    "\r\n",
    "print('Program.language: ', language, end='\\n\\n')\r\n",
    "\r\n",
    "\r\n",
    "print('Changing programming language using setattr function')\r\n",
    "\r\n",
    "setattr(Program, 'language', 'JavaScript')\r\n",
    "\r\n",
    "print('Program.language: ', Program.language)\r\n"
   ],
   "outputs": [
    {
     "output_type": "stream",
     "name": "stdout",
     "text": [
      "Class name:  Program\n",
      "Class type:  <class 'type'>\n",
      "Program.language:  Python\n",
      "Program.version:  3.6\n",
      "\n",
      "Changing Program.version to 3.9\n",
      "New Program.version:  3.9\n",
      "\n",
      "Retrieving Program.language using getattr-function\n",
      "Program.language:  Python\n",
      "\n",
      "Changing programming language using setattr function\n",
      "Program.language:  JavaScript\n"
     ]
    }
   ],
   "metadata": {}
  },
  {
   "cell_type": "markdown",
   "source": [
    "### - Changes to an attribute done from the class is also reflected in an instance that has already been created\r\n",
    "### - The reason for this is that if Python does not find the attributes in the instance namespace, it checks the class namespace, which has by then been updated with the new values"
   ],
   "metadata": {}
  },
  {
   "cell_type": "code",
   "execution_count": 85,
   "source": [
    "class Program:\r\n",
    "    language = 'Python'\r\n",
    "    version = '3.6'\r\n",
    "    \r\n",
    "p = Program()\r\n",
    "print(p.language, p.version)\r\n",
    "\r\n",
    "Program.language = 'Python 3'\r\n",
    "Program.version = '3.10'\r\n",
    "\r\n",
    "# The changes are also reflected in the instance that has already been created\r\n",
    "print(p.language, p.version)"
   ],
   "outputs": [
    {
     "output_type": "stream",
     "name": "stdout",
     "text": [
      "Python 3.6\n",
      "Python 3 3.10\n"
     ]
    }
   ],
   "metadata": {}
  },
  {
   "cell_type": "markdown",
   "source": [
    "## Function attributes"
   ],
   "metadata": {}
  },
  {
   "cell_type": "code",
   "execution_count": null,
   "source": [
    "class Person:\r\n",
    "    \r\n",
    "    def say_hello():\r\n",
    "        return f'say_hello'"
   ],
   "outputs": [],
   "metadata": {}
  },
  {
   "cell_type": "markdown",
   "source": [
    "### - Look at the say_hello function above. At this point it is just a regular function and can be called from the class itself.\r\n",
    "### - The function would have a name such as this  **` <function Person.say_hello at 0x00000228B4AAF670>`**\r\n",
    "### - If we ran **`type(Person.say_hello)`** we would get this in return: **`<class 'function'>`** <br>\r\n",
    "### - If we run the function from the class it will run just fine"
   ],
   "metadata": {}
  },
  {
   "cell_type": "code",
   "execution_count": 105,
   "source": [
    "class Person:\r\n",
    "    \r\n",
    "    def say_hello():\r\n",
    "        return f'say_hello'\r\n",
    "    \r\n",
    "fn_1 = Person.say_hello()\r\n",
    "\r\n",
    "# Two alternative ways to call the function\r\n",
    "fn_2 = Person.__dict__['say_hello']()\r\n",
    "fn_3 = getattr(Person, 'say_hello')()\r\n",
    "\r\n",
    "print(fn_1, fn_2, fn_3)"
   ],
   "outputs": [
    {
     "output_type": "stream",
     "name": "stdout",
     "text": [
      "say_hello say_hello say_hello\n"
     ]
    }
   ],
   "metadata": {}
  },
  {
   "cell_type": "markdown",
   "source": [
    "### - When we create an instance **`p`** of the class, we can't call the function from **`p`**\r\n",
    "### - The reason is that **`say_hello`** is now a **`bound method`** to **`p`** and has name like this: **`<bound method Person.say_hello of <__main__.Person object at 0x00000228B3D34FD0>>`**\r\n",
    "### - If we ran **`type(p.say_hello)`** we would get this in return: **`<class 'method'>`** <br>\r\n",
    "### - If we try to call the function we get the following error: **`\"say_hello() takes 0 positional arguments but 1 was given\"`**"
   ],
   "metadata": {}
  },
  {
   "cell_type": "code",
   "execution_count": 107,
   "source": [
    "class Person:\r\n",
    "    \r\n",
    "    def say_hello():\r\n",
    "        return f'say_hello'\r\n",
    "    \r\n",
    "p = Person()\r\n",
    "try:\r\n",
    "    p.say_hello()\r\n",
    "except Exception as e:\r\n",
    "    print(e)"
   ],
   "outputs": [
    {
     "output_type": "stream",
     "name": "stdout",
     "text": [
      "say_hello() takes 0 positional arguments but 1 was given\n"
     ]
    }
   ],
   "metadata": {}
  },
  {
   "cell_type": "markdown",
   "source": [
    "### - The reason we get the above error is that when we have a **`bound method`**, Python injects the instance object into the method.\r\n",
    "### - But since we never specified a function parameter, we did not allow for Python to inject an argument into the method, and therefore we get the errror.\r\n",
    "### - We fix it by specifying the **`self`** parameter (can really be any name, but self is most often used) to the function"
   ],
   "metadata": {}
  },
  {
   "cell_type": "code",
   "execution_count": 108,
   "source": [
    "class Person:\r\n",
    "    \r\n",
    "    def say_hello(self):\r\n",
    "        return f'say_hello'\r\n",
    "\r\n",
    "p = Person()\r\n",
    "p.say_hello()"
   ],
   "outputs": [
    {
     "output_type": "execute_result",
     "data": {
      "text/plain": [
       "'say_hello'"
      ]
     },
     "metadata": {},
     "execution_count": 108
    }
   ],
   "metadata": {}
  },
  {
   "cell_type": "markdown",
   "source": [
    "### - To show how the instance object is passed to the method, we can do the following:"
   ],
   "metadata": {}
  },
  {
   "cell_type": "code",
   "execution_count": 109,
   "source": [
    "class Person:\r\n",
    "    \r\n",
    "    def set_name(self, name):\r\n",
    "        self.name = name\r\n",
    "        \r\n",
    "p = Person()\r\n",
    "p.set_name('John')\r\n",
    "p.__dict__"
   ],
   "outputs": [
    {
     "output_type": "execute_result",
     "data": {
      "text/plain": [
       "{'name': 'John'}"
      ]
     },
     "metadata": {},
     "execution_count": 109
    }
   ],
   "metadata": {}
  },
  {
   "cell_type": "markdown",
   "source": [
    "### - It even works to call **`set_name`** as long as we pass an instance of the class as an argument "
   ],
   "metadata": {}
  },
  {
   "cell_type": "code",
   "execution_count": 110,
   "source": [
    "class Person:\r\n",
    "    \r\n",
    "    def set_name(self, name):\r\n",
    "        self.name = name\r\n",
    "        \r\n",
    "p = Person()\r\n",
    "Person.set_name(p, 'John')\r\n",
    "p.__dict__"
   ],
   "outputs": [
    {
     "output_type": "execute_result",
     "data": {
      "text/plain": [
       "{'name': 'John'}"
      ]
     },
     "metadata": {},
     "execution_count": 110
    }
   ],
   "metadata": {}
  },
  {
   "cell_type": "markdown",
   "source": [
    "## Data attributes, classes and initializing class instances\r\n",
    "### - When we instantiate a class, by default Python does two separate things:\r\n",
    "- Creates a new instance of the class\r\n",
    "- Initializes the namespace of the class"
   ],
   "metadata": {}
  },
  {
   "cell_type": "code",
   "execution_count": 82,
   "source": [
    "class Student:\r\n",
    "    school = 'University of Texas in San Antonio'\r\n",
    "\r\n",
    "print('Called from class: ')    \r\n",
    "print(Student.school)\r\n",
    "pprint(Student.__dict__)\r\n",
    "print()\r\n",
    "\r\n",
    "\r\n",
    "print('Called from instance: ')\r\n",
    "s = Student()\r\n",
    "pprint(s.__dict__)\r\n",
    "# If the instance does not have an attribute called school, then Python will look in the\r\n",
    "# Student class to see if it has a property called school, and if it has one, Python will return it\r\n",
    "print(s.school)\r\n"
   ],
   "outputs": [
    {
     "output_type": "stream",
     "name": "stdout",
     "text": [
      "Called from class: \n",
      "University of Texas in San Antonio\n",
      "mappingproxy({'__dict__': <attribute '__dict__' of 'Student' objects>,\n",
      "              '__doc__': None,\n",
      "              '__module__': '__main__',\n",
      "              '__weakref__': <attribute '__weakref__' of 'Student' objects>,\n",
      "              'school': 'University of Texas in San Antonio'})\n",
      "\n",
      "Called from instance: \n",
      "{}\n",
      "University of Texas in San Antonio\n"
     ]
    }
   ],
   "metadata": {}
  },
  {
   "cell_type": "code",
   "execution_count": 92,
   "source": [
    "\r\n",
    "class Student:\r\n",
    "    # class attribute\r\n",
    "    school = 'University of Texas in San Antonio'\r\n",
    "    \r\n",
    "    def __init__(self, first_name, last_name):\r\n",
    "        # instance attribute\r\n",
    "        self.first_name = first_name\r\n",
    "        self.last_name = last_name\r\n",
    "        \r\n",
    "print(Student.school)\r\n",
    "pprint(Student.__dict__)\r\n",
    "print()\r\n",
    "\r\n",
    "s = Student('Mike', 'Maloney')\r\n",
    "s.school = 'UTSA'\r\n",
    "print(s.school)\r\n",
    "print(s.__dict__, end='\\n\\n')\r\n",
    "\r\n",
    "s.__dict__['school'] =  'University of Texas in San Antonio'\r\n",
    "print(s.school)\r\n",
    "pprint(s.__dict__)\r\n",
    "\r\n",
    "print('\\nCalled from getattr:')\r\n",
    "print(getattr(s, 'school'))\r\n",
    "    "
   ],
   "outputs": [
    {
     "output_type": "stream",
     "name": "stdout",
     "text": [
      "University of Texas in San Antonio\n",
      "mappingproxy({'__dict__': <attribute '__dict__' of 'Student' objects>,\n",
      "              '__doc__': None,\n",
      "              '__init__': <function Student.__init__ at 0x00000228B4AAFD30>,\n",
      "              '__module__': '__main__',\n",
      "              '__weakref__': <attribute '__weakref__' of 'Student' objects>,\n",
      "              'school': 'University of Texas in San Antonio'})\n",
      "\n",
      "UTSA\n",
      "{'first_name': 'Mike', 'last_name': 'Maloney', 'school': 'UTSA'}\n",
      "\n",
      "University of Texas in San Antonio\n",
      "{'first_name': 'Mike',\n",
      " 'last_name': 'Maloney',\n",
      " 'school': 'University of Texas in San Antonio'}\n",
      "\n",
      "Called from getattr:\n",
      "University of Texas in San Antonio\n"
     ]
    }
   ],
   "metadata": {}
  },
  {
   "cell_type": "markdown",
   "source": [
    "## Attaching a function to the class object"
   ],
   "metadata": {}
  },
  {
   "cell_type": "code",
   "execution_count": 117,
   "source": [
    "\r\n",
    "class Person:\r\n",
    "    def __init__(self, name):\r\n",
    "        self.name = name\r\n",
    "\r\n",
    "Person.say_hello = lambda self: f'{self.name} says hello'\r\n",
    "p1 = Person('Eric')\r\n",
    "p1.say_hello(), p1.say_hello, Person.say_hello"
   ],
   "outputs": [
    {
     "output_type": "execute_result",
     "data": {
      "text/plain": [
       "('Eric says hello',\n",
       " <bound method <lambda> of <__main__.Person object at 0x00000228B4AD0220>>,\n",
       " <function __main__.<lambda>(self)>)"
      ]
     },
     "metadata": {},
     "execution_count": 117
    }
   ],
   "metadata": {}
  },
  {
   "cell_type": "markdown",
   "source": [
    "## Attaching a function to a class instance\r\n",
    "### - We can create a new attribute whose value is a function, but this function does not become a **`bound object`**, and does therefore not have access to the instance. See below. "
   ],
   "metadata": {}
  },
  {
   "cell_type": "code",
   "execution_count": 116,
   "source": [
    "class Person:\r\n",
    "    def __init__(self, name):\r\n",
    "        self.name = name\r\n",
    "\r\n",
    "p1 = Person('Eric')\r\n",
    "p1.say_hello = lambda *args: f'say_hello called with the following args: {args}'\r\n",
    "p1.say_hello(), p1.say_hello"
   ],
   "outputs": [
    {
     "output_type": "execute_result",
     "data": {
      "text/plain": [
       "('say_hello called with the following args: ()',\n",
       " <function __main__.<lambda>(*args)>)"
      ]
     },
     "metadata": {},
     "execution_count": 116
    }
   ],
   "metadata": {}
  },
  {
   "cell_type": "markdown",
   "source": [
    "## Binding a method to an instance object at runtime"
   ],
   "metadata": {}
  },
  {
   "cell_type": "code",
   "execution_count": 114,
   "source": [
    "from types import MethodType\r\n",
    "\r\n",
    "class Person:\r\n",
    "    def __init__(self, name):\r\n",
    "        self.name = name\r\n",
    "\r\n",
    "say_hello = lambda self: f'{self.name} says hello'\r\n",
    "\r\n",
    "p1 = Person('Eric')\r\n",
    "p1.say_hello = MethodType(say_hello, p1)\r\n",
    "\r\n",
    "p1.say_hello(), p1.say_hello"
   ],
   "outputs": [
    {
     "output_type": "execute_result",
     "data": {
      "text/plain": [
       "('Eric says hello',\n",
       " <bound method say_hello of <__main__.Person object at 0x00000228B4A89880>>)"
      ]
     },
     "metadata": {},
     "execution_count": 114
    }
   ],
   "metadata": {}
  },
  {
   "cell_type": "code",
   "execution_count": 97,
   "source": [
    "from types import MethodType\r\n",
    "\r\n",
    "class Person:\r\n",
    "    \r\n",
    "    def __init__(self, name):\r\n",
    "        self.name = name\r\n",
    "    \r\n",
    "    def register_do_work(self, func):\r\n",
    "        setattr(self, '_do_work', MethodType(func, self))\r\n",
    "    \r\n",
    "    def do_work(self):\r\n",
    "        do_work_method = getattr(self, '_do_work', None)\r\n",
    "        if do_work_method:\r\n",
    "            return do_work_method()\r\n",
    "        else:\r\n",
    "            raise AttributeError('You must first register a do_work_method')\r\n",
    "\r\n",
    "def work_math(self):\r\n",
    "    return f'{self.name} will teach differentials today'\r\n",
    "\r\n",
    "math_teacher = Person('John')\r\n",
    "math_teacher.register_do_work(work_math)\r\n",
    "math_teacher.do_work()"
   ],
   "outputs": [
    {
     "output_type": "execute_result",
     "data": {
      "text/plain": [
       "'John will teach differentials today'"
      ]
     },
     "metadata": {},
     "execution_count": 97
    }
   ],
   "metadata": {}
  },
  {
   "cell_type": "markdown",
   "source": [
    "### Class Body Scope"
   ],
   "metadata": {}
  },
  {
   "cell_type": "code",
   "execution_count": null,
   "source": [
    "class Language:\r\n",
    "    MAJOR = 3\r\n",
    "    MINOR = 7\r\n",
    "    REVISION = 4\r\n",
    "    FULL = '{}.{}.{}'.format(MAJOR, MINOR, REVISION)"
   ],
   "outputs": [],
   "metadata": {}
  },
  {
   "cell_type": "code",
   "execution_count": 1,
   "source": [
    "from collections import namedtuple\r\n",
    "\r\n",
    "Person = namedtuple('Person', 'first_name, last_name')\r\n",
    "\r\n",
    "p1 = Person('preben', 'Hesvik')\r\n",
    "\r\n",
    "def say_hello(self):\r\n",
    "    return f'{self.first_name} says hello'\r\n",
    "\r\n",
    "say_hello(p1)"
   ],
   "outputs": [
    {
     "output_type": "execute_result",
     "data": {
      "text/plain": [
       "'preben says hello'"
      ]
     },
     "metadata": {},
     "execution_count": 1
    }
   ],
   "metadata": {}
  }
 ],
 "metadata": {
  "language_info": {
   "name": "python",
   "version": "3.9.5",
   "mimetype": "text/x-python",
   "codemirror_mode": {
    "name": "ipython",
    "version": 3
   },
   "pygments_lexer": "ipython3",
   "nbconvert_exporter": "python",
   "file_extension": ".py"
  },
  "orig_nbformat": 2,
  "file_extension": ".py",
  "mimetype": "text/x-python",
  "name": "python",
  "npconvert_exporter": "python",
  "pygments_lexer": "ipython3",
  "version": 3,
  "kernelspec": {
   "name": "python3",
   "display_name": "Python 3.9.5 64-bit ('spenncon': conda)"
  },
  "interpreter": {
   "hash": "05d659cf7217a31b7ba206b7e3fe1d98040361cb242cc44ce7c59206cfd427bc"
  }
 },
 "nbformat": 4,
 "nbformat_minor": 2
}