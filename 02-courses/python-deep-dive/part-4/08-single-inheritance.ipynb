{
 "cells": [
  {
   "cell_type": "code",
   "execution_count": 18,
   "metadata": {},
   "outputs": [
    {
     "output_type": "stream",
     "name": "stdout",
     "text": [
      "Student issubclass of Person?:  True\ns isinstance of Person?:  True\ns type of Person?:  False ...type is actually <class '__main__.Student'>\nCollegeStudent issubclass of Person?:  True\ncs isinstance of Person?:  True\nPerson issubclass of object?:  True\n"
     ]
    }
   ],
   "source": [
    "class Person:\n",
    "    pass\n",
    "\n",
    "class Student(Person):\n",
    "    pass\n",
    "\n",
    "class Teacher(Person):\n",
    "    pass\n",
    "\n",
    "class CollegeStudent(Student):\n",
    "    pass\n",
    "\n",
    "p = Person()\n",
    "s = Student()\n",
    "t = Teacher()\n",
    "cs = CollegeStudent()\n",
    "\n",
    "print('Student issubclass of Person?: ', issubclass(Student, Person))\n",
    "print('s isinstance of Person?: ', isinstance(s, Person) )\n",
    "print('s type of Person?: ', type(s) is Person, f'...type is actually {type(s)}')\n",
    "print('CollegeStudent issubclass of Person?: ', issubclass(CollegeStudent, Person))\n",
    "print('cs isinstance of Person?: ', isinstance(cs, Person))\n",
    "print('Person issubclass of object?: ', issubclass(Person, object))"
   ]
  },
  {
   "source": [
    "### Overriding"
   ],
   "cell_type": "markdown",
   "metadata": {}
  },
  {
   "cell_type": "code",
   "execution_count": 27,
   "metadata": {},
   "outputs": [
    {
     "output_type": "stream",
     "name": "stdout",
     "text": [
      "Mike\nSara\nStudent(name=Sara)\n"
     ]
    }
   ],
   "source": [
    "class Person:\n",
    "    def __init__(self, name):\n",
    "        self.name = name\n",
    "\n",
    "    def __repr__(self):\n",
    "        return f'Person(name={self.name})'\n",
    "    \n",
    "    def __str__(self):\n",
    "        return self.name\n",
    "\n",
    "class Student(Person):\n",
    "    def __repr__(self):\n",
    "        return f'Student(name={self.name})'\n",
    "\n",
    "\n",
    "\n",
    "p = Person('Mike')\n",
    "# since Student class does not have its own __init__\n",
    "# method it inherits the __init__ method of Person\n",
    "s = Student('Sara')\n",
    "\n",
    "# the Student class overrides the __repr__ method\n",
    "print(str(p))\n",
    "print(str(s))\n",
    "print(repr(s))"
   ]
  },
  {
   "cell_type": "code",
   "execution_count": 24,
   "metadata": {},
   "outputs": [
    {
     "output_type": "stream",
     "name": "stdout",
     "text": [
      "Polygon.info called Polygon(square)\n('Shape.extended_info called for Shape(square)', 'Polygon.info called Polygon(square)')\n"
     ]
    }
   ],
   "source": [
    "class Shape:\n",
    "    def __init__(self, name):\n",
    "        self.name = name\n",
    "    \n",
    "    def info(self):\n",
    "        return f'Shape.info called for Shape({self.name})'\n",
    "    \n",
    "    def extended_info(self):\n",
    "        return f'Shape.extended_info called for Shape({self.name})', self.info()\n",
    "\n",
    "class Polygon(Shape):\n",
    "    def __init__(self, name):\n",
    "        self.name = name\n",
    "    \n",
    "    def info(self):\n",
    "        return f'Polygon.info called Polygon({self.name})'\n",
    "\n",
    "\n",
    "p = Polygon('square')\n",
    "print(p.info())\n",
    "# Notice that the \"self.info()\" part in Shape.extended_info will refer to\n",
    "# Polygon.info when called from an instance of Polygon\n",
    "print(p.extended_info())"
   ]
  },
  {
   "cell_type": "markdown",
   "metadata": {},
   "source": [
    "### Extending"
   ]
  },
  {
   "cell_type": "code",
   "execution_count": 12,
   "metadata": {},
   "outputs": [
    {
     "output_type": "stream",
     "name": "stdout",
     "text": "Calc interest on Generic account with APR = 3.0\nCalc interest on Savings account with APR = 5.0\n"
    }
   ],
   "source": [
    "class Account:\n",
    "    apr = 3.0\n",
    "\n",
    "    def __init__(self, account_number, balance):\n",
    "        self.account_number = account_number\n",
    "        self.balance = balance\n",
    "        self.account_type = 'Generic account'\n",
    "    \n",
    "    def calc_interest(self):\n",
    "        return f'Calc interest on {self.account_type} with APR = {self.__class__.apr}'\n",
    "    \n",
    "class SavingsAccount(Account):\n",
    "    apr = 5.0\n",
    "\n",
    "    def __init__(self, account_number, balance):\n",
    "        self.account_number = account_number\n",
    "        self.balance = balance\n",
    "        self.account_type = 'Savings account'\n",
    "\n",
    "a = Account(123, 100)\n",
    "print(a.calc_interest())\n",
    "\n",
    "s = SavingsAccount(123, 100)\n",
    "print(s.calc_interest())"
   ]
  },
  {
   "cell_type": "markdown",
   "metadata": {},
   "source": [
    "### Delegating to parent"
   ]
  },
  {
   "cell_type": "code",
   "execution_count": 35,
   "metadata": {},
   "outputs": [
    {
     "output_type": "stream",
     "name": "stdout",
     "text": [
      "Calc interest on Generic account with APR = 3.0\ns.account_number: 123, called from SavingsAccount(123, 100)\ns.balance: 100, called from SavingsAccount(123, 100)\ns.calc_interest:  Calc interest on Savings account with APR = 5.0\n"
     ]
    }
   ],
   "source": [
    "class Account:\n",
    "    apr = 3.0\n",
    "\n",
    "    def __init__(self, account_number, balance):\n",
    "        self.account_number = account_number\n",
    "        self.balance = balance\n",
    "        self.account_type = 'Generic account'\n",
    "    \n",
    "    def calc_interest(self):\n",
    "        return f'Calc interest on {self.account_type} with APR = {self.__class__.apr}'\n",
    "    \n",
    "class SavingsAccount(Account):\n",
    "    apr = 5.0\n",
    "\n",
    "    def __init__(self, account_number, balance):\n",
    "        # instead if re-writing every variable, we can just delegate\n",
    "        # the variables that we want to re-use to the parent by \n",
    "        # using super\n",
    "        super().__init__(account_number, balance)\n",
    "        self.account_type = 'Savings account'\n",
    "\n",
    "    def __repr__(self):\n",
    "        return(f'SavingsAccount({self.account_number}, {self.balance})')\n",
    "\n",
    "a = Account(123, 100)\n",
    "print(a.calc_interest())\n",
    "\n",
    "s = SavingsAccount(123, 100)\n",
    "print(f's.account_number: {s.account_number}, called from {s}')\n",
    "print(f's.balance: {s.balance}, called from {s}')\n",
    "print('s.calc_interest: ', s.calc_interest())"
   ]
  },
  {
   "cell_type": "code",
   "execution_count": 18,
   "metadata": {},
   "outputs": [],
   "source": [
    "class Person:\n",
    "    def __init__(self, name, age):\n",
    "        self.name = name\n",
    "        self.age = age\n",
    "\n",
    "class Student(Person):\n",
    "    def __init__(self, name, age, major):\n",
    "        super().__init__(name, age)\n",
    "        self.major = major"
   ]
  },
  {
   "cell_type": "code",
   "execution_count": 19,
   "metadata": {},
   "outputs": [],
   "source": [
    "s = Student('Theo', 2, 'Data Science')"
   ]
  },
  {
   "cell_type": "code",
   "execution_count": 49,
   "metadata": {},
   "outputs": [
    {
     "output_type": "stream",
     "name": "stdout",
     "text": [
      "Person awakes --- <class '__main__.Person'>\nPerson works --- <class '__main__.Person'>\nPerson sleeps --- <class '__main__.Person'>\n\nStudent awakes --- <class '__main__.Student'>\nStudent studies <class '__main__.Student'>\nPerson sleeps --- <class '__main__.Student'>\nbut not before a quick game ---- <class '__main__.Student'>\n"
     ]
    }
   ],
   "source": [
    "class Person:\n",
    "    def wake_up(self):\n",
    "        # will print out \"person awakes\" when called from instance of Person,\n",
    "        # and \"student awakes when called from instance of Student\"\n",
    "        print(f'{self.__class__.__name__} awakes --- {self.__class__}')\n",
    "    \n",
    "    def do_work(self):\n",
    "        print(f'Person works --- {self.__class__}')\n",
    "    \n",
    "    def sleep(self):\n",
    "        print(f'Person sleeps --- {self.__class__}')\n",
    "    \n",
    "    def routine(self):\n",
    "        self.wake_up()\n",
    "        self.do_work()\n",
    "        self.sleep()\n",
    "\n",
    "class Student(Person):\n",
    "    # routine will call this function\n",
    "    def do_work(self):\n",
    "        print(f'Student studies {self.__class__}')\n",
    "    \n",
    "    def routine(self):\n",
    "        super().routine()\n",
    "        print(f'but not before a quick game ---- {self.__class__}')\n",
    "\n",
    "\n",
    "\n",
    "p = Person()\n",
    "p.routine()\n",
    "\n",
    "print('')\n",
    "\n",
    "s = Student()\n",
    "# when routine-function runs and it calls the do_work-function, it will \n",
    "# call the do-work-function inside Student because even though we use\n",
    "# super, the routine-function is bound to self, and as long as we have \n",
    "# the function inside Student class it will use that one. \n",
    "s.routine()\n",
    "\n"
   ]
  },
  {
   "cell_type": "code",
   "execution_count": 51,
   "metadata": {},
   "outputs": [
    {
     "output_type": "execute_result",
     "data": {
      "text/plain": [
       "'PythonStudent codes....and PythonStudent studies....and PythonStudent works'"
      ]
     },
     "metadata": {},
     "execution_count": 51
    }
   ],
   "source": [
    "class Person:\n",
    "    def work(self):\n",
    "        return f'{self.__class__.__name__} works'\n",
    "\n",
    "class Student(Person):\n",
    "    def work(self):\n",
    "        result = super().work()\n",
    "        return f'{self.__class__.__name__} studies....and {result}'\n",
    "\n",
    "class PythonStudent(Student):\n",
    "    def work(self):\n",
    "        result = super().work()\n",
    "        return f'{self.__class__.__name__} codes....and {result}'\n",
    "\n",
    "ps = PythonStudent()\n",
    "ps.work()"
   ]
  },
  {
   "cell_type": "code",
   "execution_count": 52,
   "metadata": {},
   "outputs": [],
   "source": [
    "from math import pi\n",
    "from numbers import Real\n",
    "\n",
    "class Circle:\n",
    "    def __init__(self, r):\n",
    "        self._set_radius(r)\n",
    "        self._area = None\n",
    "        self._perimeter = None\n",
    "    \n",
    "    @property\n",
    "    def radius(self):\n",
    "        return self._r\n",
    "    \n",
    "    def _set_radius(self, r):\n",
    "        if isinstance(r, Real) and r > 0:\n",
    "            self._r = r\n",
    "            self._area = None\n",
    "            self._perimeter = None\n",
    "        else:\n",
    "            raise ValueError('Radius must be a positive real number')\n",
    "    \n",
    "    @radius.setter\n",
    "    def radius(self, r):\n",
    "        self._set_radius(r)\n",
    "        \n",
    "    \n",
    "    @property\n",
    "    def area(self):\n",
    "        if self._area is None:\n",
    "            self._area = pi * self.radius ** 2\n",
    "        return self._area\n",
    "    \n",
    "    @property\n",
    "    def perimeter(self):\n",
    "        if self._perimeter is None:\n",
    "            self._perimeter = 2 * pi * self.radius\n",
    "        return self._perimeter\n",
    "\n",
    "\n",
    "    \n",
    "class UnitCircle(Circle):\n",
    "    def __init__(self):\n",
    "        super().__init__(1)\n",
    "    \n",
    "    @property\n",
    "    def radius(self):\n",
    "        return super().radius\n",
    "\n",
    "\n",
    "\n",
    "u = UnitCircle()\n"
   ]
  },
  {
   "cell_type": "markdown",
   "metadata": {},
   "source": [
    "### Slots\n",
    "- We can tell Python that a class will contain only certain pre-determined attributes. Python will then use a more compact data structure to store attribute values.\n",
    "- Memory savings, even compared to key sharing dictionaries, can be substantial. THIS IS THE MAIN BENEFIT OF USING SLOTS.\n",
    "- If we use slots, then we cannot add attributes to our objects that are not defined in slots. \n"
   ]
  },
  {
   "cell_type": "code",
   "execution_count": null,
   "metadata": {},
   "outputs": [],
   "source": [
    "class Person:\n",
    "    __slots__ = 'name',\n",
    "\n",
    "    def __init__(self, name):\n",
    "        self.name = name\n",
    "\n",
    "class Student(Person):\n",
    "    __slots__ = 'school', 'student_number'\n",
    "\n",
    "    def __init__(self, name, school, student_number):\n",
    "        super().__init__(name)\n",
    "        self.school = school\n",
    "        self.student_number = student_number"
   ]
  }
 ],
 "metadata": {
  "language_info": {
   "codemirror_mode": {
    "name": "ipython",
    "version": 3
   },
   "file_extension": ".py",
   "mimetype": "text/x-python",
   "name": "python",
   "nbconvert_exporter": "python",
   "pygments_lexer": "ipython3",
   "version": "3.9.5"
  },
  "orig_nbformat": 2,
  "kernelspec": {
   "name": "python3",
   "display_name": "Python 3.9.5 64-bit ('spenncon': conda)"
  },
  "interpreter": {
   "hash": "05d659cf7217a31b7ba206b7e3fe1d98040361cb242cc44ce7c59206cfd427bc"
  }
 },
 "nbformat": 4,
 "nbformat_minor": 2
}