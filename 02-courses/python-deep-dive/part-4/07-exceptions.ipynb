{
 "metadata": {
  "language_info": {
   "codemirror_mode": {
    "name": "ipython",
    "version": 3
   },
   "file_extension": ".py",
   "mimetype": "text/x-python",
   "name": "python",
   "nbconvert_exporter": "python",
   "pygments_lexer": "ipython3",
   "version": "3.9.5"
  },
  "orig_nbformat": 4,
  "kernelspec": {
   "name": "python3",
   "display_name": "Python 3.9.5 64-bit ('spenncon': conda)"
  },
  "interpreter": {
   "hash": "05d659cf7217a31b7ba206b7e3fe1d98040361cb242cc44ce7c59206cfd427bc"
  }
 },
 "nbformat": 4,
 "nbformat_minor": 2,
 "cells": [
  {
   "source": [
    "- Exceptions are `objects` - they are instances of some exception class\n",
    "- When an exception is raised it triggers a special execution propagation workflow\n",
    "\n",
    "#### Two main categories of exceptions:\n",
    "- Compilation exceptions (e.g `SyntaxError`)\n",
    "- Exceution exceptions (e.g `ValueError`, `KeyError`, `StopIteration`)\n",
    "\n",
    "- Python's built-in exception classes use `inheritance` to form a `class hierarchy`\n",
    "- Base exception for every exception in Python\n",
    "    * BaseException\n",
    "\n",
    "<br><br>\n",
    "-BaseException\n",
    "- Exception\n",
    "    * ArithmeticError\n",
    "        - FloatingPointError\n",
    "        - OverflowError\n",
    "        - ZeroDivisonError\n",
    "    * AttributeError\n",
    "    * `LookupError`\n",
    "        - IndexError\n",
    "        - Key Error\n",
    "    * SyntaxError\n",
    "        - IndentationError\n",
    "            - TabError\n",
    "    * RuntimeError\n",
    "        - NotImplementedError\n",
    "        - RecursionError\n",
    "    * ImportError\n",
    "        - ModuleNotFoundError\n",
    "    * `StopIteration`\n",
    "    * `TypeError`\n",
    "    * `ValueError`\n",
    "        - UnicodeError\n",
    "            * UnicodeDecodeError\n",
    "            * UnicodeEncodeError\n",
    "            * UnicodeTranslateError\n",
    "    * Warning\n",
    "    * GeneratorExit\n",
    "    * KeyboardInterrupt\n",
    "    * SystemExit\n",
    "    * SystemError\n",
    "    * OSError\n",
    "        - BlockingIOError\n",
    "        - ChildProcessError\n",
    "        - ConnectionError\n",
    "            * BrokenPipeError\n",
    "            * ConnectionAbortedError\n",
    "            * ConnectionRefusedError\n",
    "            * ConnectionResetError\n",
    "        - FileExistsError\n",
    "        - FileNotFoundError\n",
    "        - InterruptedError\n",
    "        - IsADirectoryError\n",
    "        - NotADirectoryError\n",
    "        - PermissionError\n",
    "        - ProcessLookupError\n",
    "        - TimeoutError\n",
    "\n",
    "\n",
    "#### Handling exceptions:\n",
    "- **Always go from most specific to least specific**\n",
    "\n",
    "#### Exception objects:\n",
    "Standard exceptions have at least these two properties: <br>\n",
    "    - args (arguments used to create the exception object) <br>\n",
    "    - \\__traceback__ (traceback object)"
   ],
   "cell_type": "markdown",
   "metadata": {}
  },
  {
   "source": [
    "### Some common errors"
   ],
   "cell_type": "markdown",
   "metadata": {}
  },
  {
   "source": [
    "#### TypeError"
   ],
   "cell_type": "markdown",
   "metadata": {}
  },
  {
   "cell_type": "code",
   "execution_count": 63,
   "metadata": {},
   "outputs": [
    {
     "output_type": "stream",
     "name": "stdout",
     "text": [
      "TypeError: adding a(n) int and a str will not work\n"
     ]
    }
   ],
   "source": [
    "a = 10\n",
    "b = 'Python'\n",
    "try:\n",
    "    result = a + b\n",
    "except TypeError as e:\n",
    "    print(f'{type(e).__name__}: adding a(n) {type(a).__name__} and a {type(b).__name__} will not work') "
   ]
  },
  {
   "source": [
    "#### ValueError\n",
    "Raised when an operation or function receives an argument that has the right type but an inappropriate value, and the situation is not described by a more precise exception such as IndexError."
   ],
   "cell_type": "markdown",
   "metadata": {}
  },
  {
   "cell_type": "code",
   "execution_count": 53,
   "metadata": {},
   "outputs": [
    {
     "output_type": "stream",
     "name": "stdout",
     "text": [
      "ValueError: math.sqrt requires a positive number. You provided -10\nmath domain error\n"
     ]
    }
   ],
   "source": [
    "import math\n",
    "\n",
    "input_num = -10\n",
    "\n",
    "try: \n",
    "    math.sqrt(input_num)\n",
    "except ValueError as e:\n",
    "    print(f'{type(e).__name__}: math.sqrt requires a positive number. You provided {input_num}')\n",
    "    print(e)\n"
   ]
  },
  {
   "cell_type": "code",
   "execution_count": 60,
   "metadata": {},
   "outputs": [
    {
     "output_type": "stream",
     "name": "stdout",
     "text": [
      "ValueError: could not convert string with value \"DataCamp\" to float:\n"
     ]
    }
   ],
   "source": [
    "try:\n",
    "    convert_to_float = 'DataCamp'\n",
    "    float_num = float(convert_to_float)\n",
    "except ValueError as e:\n",
    "    print (f'{type(e).__name__}: could not convert string with value \"{convert_to_float}\" to float:')"
   ]
  },
  {
   "cell_type": "code",
   "execution_count": null,
   "metadata": {},
   "outputs": [],
   "source": [
    "convert_to_float = '10'"
   ]
  },
  {
   "source": [
    "#### LookupError --> IndexError"
   ],
   "cell_type": "markdown",
   "metadata": {}
  },
  {
   "cell_type": "code",
   "execution_count": 72,
   "metadata": {},
   "outputs": [
    {
     "output_type": "stream",
     "name": "stdout",
     "text": [
      "IndexError: You tried to to access an index number that does not exist in the tuple\ntuple index out of range\n"
     ]
    }
   ],
   "source": [
    "l = [1, 2, 3] # could be a tuple, set, range\n",
    "try:\n",
    "    l[4]\n",
    "except Exception as e:\n",
    "    print(f'{type(e).__name__}: You tried to to access an index number that does not exist in the {type(l).__name__}')\n",
    "    print(e)"
   ]
  },
  {
   "source": [
    "#### LookupError --> KeyError"
   ],
   "cell_type": "markdown",
   "metadata": {}
  },
  {
   "cell_type": "code",
   "execution_count": 87,
   "metadata": {},
   "outputs": [
    {
     "output_type": "stream",
     "name": "stdout",
     "text": [
      "KeyError: You tried to to access a key ('c') that does not exist in the dict\n"
     ]
    }
   ],
   "source": [
    "d = {'a': 10, 'b': 20}\n",
    "try:\n",
    "    d['c']\n",
    "except KeyError as e:\n",
    "    print(f'{type(e).__name__}: You tried to to access a key ({e}) that does not exist in the {type(d).__name__}')"
   ]
  },
  {
   "source": [
    "#### ZeroDivisionError"
   ],
   "cell_type": "markdown",
   "metadata": {}
  },
  {
   "cell_type": "code",
   "execution_count": 83,
   "metadata": {},
   "outputs": [
    {
     "output_type": "stream",
     "name": "stdout",
     "text": [
      "ZeroDivisionError: division by zero\n"
     ]
    }
   ],
   "source": [
    "try:\n",
    "    result = 5 / 0\n",
    "except ZeroDivisionError as e:\n",
    "    print(f'{type(e).__name__}: {e}')"
   ]
  },
  {
   "cell_type": "code",
   "execution_count": null,
   "metadata": {},
   "outputs": [],
   "source": []
  },
  {
   "cell_type": "code",
   "execution_count": null,
   "metadata": {},
   "outputs": [],
   "source": []
  },
  {
   "cell_type": "code",
   "execution_count": 7,
   "metadata": {},
   "outputs": [
    {
     "output_type": "stream",
     "name": "stdout",
     "text": [
      "ignoring attribute: Bryan.city=London\nData for Person(Guido) contains an invalid attribute value: Invalid age\n"
     ]
    }
   ],
   "source": [
    "data = {\n",
    "    'Alex': {'age': 18},\n",
    "    'Bryan': {'age': 21, 'city': 'London'},\n",
    "    'Guido': {'age': 'unknown'},\n",
    "}\n",
    "\n",
    "class Person:\n",
    "    __slots__ = 'name', '_age'\n",
    "\n",
    "    def __init__(self, name):\n",
    "        self.name = name\n",
    "        self._age = None\n",
    "\n",
    "    @property\n",
    "    def age(self):\n",
    "        return self._age\n",
    "\n",
    "    @age.setter\n",
    "    def age(self, value):\n",
    "        if isinstance(value, int) and value >=0:\n",
    "            self._age = value\n",
    "        else:\n",
    "            raise ValueError('Invalid age')\n",
    "    \n",
    "    def __repr__(self):\n",
    "        return f'Person(name={self.name}, age={self.age})'\n",
    "\n",
    "\n",
    "persons = []\n",
    "for name, attributes in data.items():\n",
    "    try:\n",
    "        p = Person(name)\n",
    "        for attrib_name, attrib_value in attributes.items():\n",
    "            try:\n",
    "                setattr(p, attrib_name, attrib_value)\n",
    "            except AttributeError:\n",
    "                print(f'ignoring attribute: {name}.{attrib_name}={attrib_value}')\n",
    "    except ValueError as ex:\n",
    "        print(f'Data for Person({name}) contains an invalid attribute value: {ex}')\n",
    "    else:\n",
    "        persons.append(p)\n",
    "\n",
    "\n"
   ]
  },
  {
   "source": [
    "- An alternative way to write the for loop is to use a flag like below...\n",
    "- But the above method is still recommended"
   ],
   "cell_type": "markdown",
   "metadata": {}
  },
  {
   "cell_type": "code",
   "execution_count": 8,
   "metadata": {},
   "outputs": [
    {
     "output_type": "stream",
     "name": "stdout",
     "text": [
      "ignoring attribute: Bryan.city=London\nData for Person(Guido) contains an invalid attribute value: Invalid age\n"
     ]
    }
   ],
   "source": [
    "persons = []\n",
    "for name, attributes in data.items():\n",
    "    p = Person(name)\n",
    "    for attrib_name, attrib_value in attributes.items():\n",
    "        skip_person = False\n",
    "        try:\n",
    "            setattr(p, attrib_name, attrib_value)\n",
    "        except AttributeError:\n",
    "            print(f'ignoring attribute: {name}.{attrib_name}={attrib_value}')\n",
    "        except ValueError as ex:\n",
    "            print(f'Data for Person({name}) contains an invalid attribute value: {ex}')\n",
    "    if not skip_person:\n",
    "        persons.append(p)"
   ]
  },
  {
   "cell_type": "code",
   "execution_count": 12,
   "metadata": {},
   "outputs": [
    {
     "output_type": "stream",
     "name": "stdout",
     "text": [
      "True True\n0 False\nT True\nfalse False\n10 the value 10 cannon be converted to a bool: Integer values 0 or 1 only\nABC the value ABC cannon be converted to a bool: Admissible string values are: T, F, True, False, 0, 1, ....\n1.0 Invalid type given as input\n[True] Invalid type given as input\n"
     ]
    }
   ],
   "source": [
    "def convert_int(val):\n",
    "    if not isinstance(val, int):\n",
    "        raise TypeError()\n",
    "    if val not in {0, 1}:\n",
    "        raise ValueError('Integer values 0 or 1 only')\n",
    "    return bool(val)\n",
    "\n",
    "def convert_str(val):\n",
    "    if not isinstance(val, str):\n",
    "        raise TypeError()\n",
    "\n",
    "    val = val.casefold()\n",
    "    if val in {'0', 'f', 'false'}:\n",
    "        return False\n",
    "    if val in {'1', 't', 'true'}:\n",
    "        return True\n",
    "    else:\n",
    "        raise ValueError('Admissible string values are: T, F, True, False, 0, 1, ....')\n",
    "\n",
    "class ConversionError(Exception):\n",
    "    pass\n",
    "\n",
    "# ask for forgiveness approach\n",
    "def make_bool(val):\n",
    "    try:\n",
    "        try:\n",
    "            b = convert_int(val)\n",
    "        except TypeError:\n",
    "            try:\n",
    "                b = convert_str(val)\n",
    "            except TypeError:\n",
    "                raise ConversionError(f'The type {type(val).__name__} cannot be converted to a bood') from None # to avoid getting the entire stacktrace\n",
    "    except ValueError as ex:\n",
    "        raise ConversionError(f'the value {val} cannon be converted to a bool: {ex}') from None # to avoid getting the entire stacktrace\n",
    "    else:\n",
    "        return b\n",
    "\n",
    "values = [True, 0, 'T', 'false', 10, 'ABC', 1.0, [True]]\n",
    "for value in values:\n",
    "    try:\n",
    "        result = make_bool(value)\n",
    "    except ConversionError as ex:\n",
    "        result = str(ex)\n",
    "    print(value, result)"
   ]
  },
  {
   "cell_type": "code",
   "execution_count": 30,
   "metadata": {},
   "outputs": [],
   "source": [
    "def foo(a, b, *args, **kwargs):\n",
    "    print(a, b, *args, kwargs)\n",
    "    print(kwargs['f'])\n",
    "    print(kwargs['k'])"
   ]
  },
  {
   "cell_type": "code",
   "execution_count": 31,
   "metadata": {},
   "outputs": [
    {
     "output_type": "stream",
     "name": "stdout",
     "text": [
      "1 10 20 30 40 {'f': 50, 'k': 60}\n50\n60\n"
     ]
    }
   ],
   "source": [
    "foo(1, 10, 20, 30, 40, f=50, k=60)"
   ]
  },
  {
   "cell_type": "code",
   "execution_count": 32,
   "metadata": {},
   "outputs": [
    {
     "output_type": "stream",
     "name": "stdout",
     "text": [
      "1 10 3 4 {'f': 50, 'k': 60}\n50\n60\n"
     ]
    }
   ],
   "source": [
    "my_dict = {'f': 50, 'k': 60}\n",
    "foo(1, 10, *(3, 4), **my_dict)"
   ]
  },
  {
   "cell_type": "code",
   "execution_count": 40,
   "metadata": {},
   "outputs": [],
   "source": [
    "def foo(a, b, c):\n",
    "    print(a, b, c)\n"
   ]
  },
  {
   "cell_type": "code",
   "execution_count": 42,
   "metadata": {},
   "outputs": [
    {
     "output_type": "stream",
     "name": "stdout",
     "text": [
      "3 1 2\n"
     ]
    }
   ],
   "source": [
    "foo(**{'b': 1, 'c': 2, 'a': 3})"
   ]
  }
 ]
}