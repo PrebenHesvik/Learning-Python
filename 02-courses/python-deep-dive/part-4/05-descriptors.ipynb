{
 "metadata": {
  "language_info": {
   "codemirror_mode": {
    "name": "ipython",
    "version": 3
   },
   "file_extension": ".py",
   "mimetype": "text/x-python",
   "name": "python",
   "nbconvert_exporter": "python",
   "pygments_lexer": "ipython3",
   "version": "3.9.5"
  },
  "orig_nbformat": 4,
  "kernelspec": {
   "name": "python3",
   "display_name": "Python 3.9.5 64-bit ('spenncon': conda)"
  },
  "interpreter": {
   "hash": "05d659cf7217a31b7ba206b7e3fe1d98040361cb242cc44ce7c59206cfd427bc"
  }
 },
 "nbformat": 4,
 "nbformat_minor": 2,
 "cells": [
  {
   "cell_type": "code",
   "execution_count": 2,
   "metadata": {},
   "outputs": [],
   "source": [
    "from datetime import datetime\n",
    "from random import choice, seed"
   ]
  },
  {
   "source": [
    "## Descriptors:\n",
    "Suppose we want a Point2D class whose coordinates must always be integers\n",
    "- plain attributes x and y cannot guarantee this (user can for example set x to 10.3)\n",
    "- instead we can use a property with getter and setter methods\n",
    "    * we can do this with regular @property, getter, setter but there will be a lot of code repetition when we have more than 1 variable that we want to set.\n",
    "- **In this case it is better to use descriptors**\n",
    "    "
   ],
   "cell_type": "markdown",
   "metadata": {}
  },
  {
   "source": [
    "### 4 main methods of the descriptor protocol:\n",
    "- \\__get__ (used to get an attribute value)\n",
    "- \\__set__ (used to set an attribute value)\n",
    "- \\__delete__ (used to delete an attribute)\n",
    "- \\__set_name__\n",
    "\n",
    "\n",
    "### Two categories of descriptors\n",
    "- Those that implement \\__get__ only --> non-data descriptors\n",
    "- Those that implement \\__set\\__  and/or \\__delete__"
   ],
   "cell_type": "markdown",
   "metadata": {}
  },
  {
   "source": [
    "### non-data descriptors\n",
    "These are non-data descriptors because they only implement the \\__get__ method"
   ],
   "cell_type": "markdown",
   "metadata": {}
  },
  {
   "cell_type": "code",
   "execution_count": 3,
   "metadata": {},
   "outputs": [
    {
     "output_type": "execute_result",
     "data": {
      "text/plain": [
       "'2021-06-19T18:56:49.040643'"
      ]
     },
     "metadata": {},
     "execution_count": 3
    }
   ],
   "source": [
    "class TimeUTC:\n",
    "    def __get__(self, instance, owner_class):\n",
    "        return datetime.utcnow().isoformat()\n",
    "\n",
    "class Logger:\n",
    "    current_time = TimeUTC()\n",
    "\n",
    "l = Logger()\n",
    "l.current_time"
   ]
  },
  {
   "cell_type": "code",
   "execution_count": 4,
   "metadata": {},
   "outputs": [
    {
     "output_type": "stream",
     "name": "stdout",
     "text": [
      "8 Club\n2 Diamnond\nJ Club\n8 Diamnond\n9 Diamnond\nQ Heart\nJ Heart\n6 Heart\n10 Spade\nQ Diamnond\n"
     ]
    }
   ],
   "source": [
    "class Choice:\n",
    "    def __init__(self, *choices):\n",
    "        self.choices = choices\n",
    "    \n",
    "    def __get__(self, instance, owner_class):\n",
    "        return choice(self.choices)\n",
    "\n",
    "class Deck:\n",
    "    suit = Choice('Spade', 'Heart', 'Diamnond', 'Club')\n",
    "    card = Choice(*'23456789JQKA', '10')\n",
    "\n",
    "seed(0)\n",
    "d = Deck()\n",
    "for _ in range(10):\n",
    "    print(d.card, d.suit)"
   ]
  },
  {
   "source": [
    "The advantage of using a separate class for choices is that we can re-use the class for other purposes, like for example a dice."
   ],
   "cell_type": "markdown",
   "metadata": {}
  },
  {
   "source": [
    "class Dice:\n",
    "    die_1 = Choice(1, 2, 3, 4, 5, 6)\n",
    "    die_2 = Choice(1, 2, 3, 4, 5, 6)\n",
    "    die_3 = Choice(1, 2, 3, 4, 5, 6)\n",
    "\n",
    "d = Dice()\n",
    "for _ in range(3):\n",
    "    print(d.die_1, d.die_2, d.die_3)"
   ],
   "cell_type": "code",
   "metadata": {},
   "execution_count": 5,
   "outputs": [
    {
     "output_type": "stream",
     "name": "stdout",
     "text": [
      "5 6 5\n2 3 1\n6 1 6\n"
     ]
    }
   ]
  },
  {
   "source": [
    "### Getters and setters\n",
    "\n",
    "#### The \\__get__ method\n",
    "- signature is as follows:\n",
    "    * self\n",
    "    * instance\n",
    "    * owner_class\n",
    "\n",
    "- we can return different values from \\__get__ depending on:\n",
    "    * called from class\n",
    "    * called from instance\n",
    "\n",
    "- very often we choose to:\n",
    "    * return the descriptor instance when called from the class itself\n",
    "        * gives us an easy handle to the descriptor instance\n",
    "\n",
    "\n",
    "#### The \\__set__ method\n",
    "- the \\__set__ signature is as follows: self, instance, value\n",
    "    * self: this references the descriptor instance, like any regular  method\n",
    "    * instance: the instance the \\__set__ method was called from\n",
    "    * value: the value we want to assign to the attribute\n",
    "- there is no need to have an owner class for the \\__set__ method because setters (and deleters) are always called from instances."
   ],
   "cell_type": "markdown",
   "metadata": {}
  },
  {
   "cell_type": "code",
   "execution_count": 6,
   "metadata": {},
   "outputs": [
    {
     "output_type": "stream",
     "name": "stdout",
     "text": [
      "__get__ called, self=<__main__.TimeUTC object at 0x000002042BA28BB0>, instance=None, owner_class=<class '__main__.Logger1'>\n2021-06-19T18:56:49.880455\n\n__get__ called, self=<__main__.TimeUTC object at 0x000002042BA28BB0>, instance=<__main__.Logger1 object at 0x000002042BA28610>, owner_class=<class '__main__.Logger1'>\n"
     ]
    },
    {
     "output_type": "execute_result",
     "data": {
      "text/plain": [
       "'2021-06-19T18:56:49.880455'"
      ]
     },
     "metadata": {},
     "execution_count": 6
    }
   ],
   "source": [
    "class TimeUTC:\n",
    "    def __get__(self, instance, owner_class):\n",
    "        print(f'__get__ called, self={self}, instance={instance}, owner_class={owner_class}')\n",
    "        return datetime.utcnow().isoformat()\n",
    "\n",
    "class Logger1:\n",
    "    current_time = TimeUTC()\n",
    "\n",
    "class Logger2:\n",
    "    current_time = TimeUTC()\n",
    "\n",
    "# notice that instance=None because we are calling this method from the class\n",
    "print(Logger1.current_time, end='\\n\\n')\n",
    "\n",
    "l1 = Logger1()\n",
    "l1.current_time"
   ]
  },
  {
   "cell_type": "code",
   "execution_count": 7,
   "metadata": {},
   "outputs": [
    {
     "output_type": "stream",
     "name": "stdout",
     "text": [
      "<__main__.TimeUTC object at 0x000002042BA28CD0>\n"
     ]
    },
    {
     "output_type": "execute_result",
     "data": {
      "text/plain": [
       "'2021-06-19T18:56:50.064974'"
      ]
     },
     "metadata": {},
     "execution_count": 7
    }
   ],
   "source": [
    "class TimeUTC:\n",
    "    def __get__(self, instance, owner_class):\n",
    "        if instance is None:\n",
    "            return self\n",
    "        return datetime.utcnow().isoformat()\n",
    "\n",
    "class Logger:\n",
    "    current_time = TimeUTC()\n",
    "\n",
    "print(Logger.current_time)\n",
    "l = Logger()\n",
    "l.current_time"
   ]
  },
  {
   "source": [
    "The above \"functionality\" is consistent with how properties within a class is returned depending on whether it is called from the class or the instance. Below, when current_time is called from the class the property object is returned, while the datetime is returned when current_time is called from an instance."
   ],
   "cell_type": "markdown",
   "metadata": {}
  },
  {
   "cell_type": "code",
   "execution_count": 8,
   "metadata": {},
   "outputs": [
    {
     "output_type": "stream",
     "name": "stdout",
     "text": [
      "<property object at 0x000002042BA23770>\n"
     ]
    },
    {
     "output_type": "execute_result",
     "data": {
      "text/plain": [
       "'2021-06-19T18:56:50.400102'"
      ]
     },
     "metadata": {},
     "execution_count": 8
    }
   ],
   "source": [
    "class Logger:\n",
    "    @property\n",
    "    def current_time(self):\n",
    "        return datetime.utcnow().isoformat()\n",
    "\n",
    "print(Logger.current_time)\n",
    "l = Logger()\n",
    "l.current_time"
   ]
  },
  {
   "cell_type": "code",
   "execution_count": 9,
   "metadata": {},
   "outputs": [
    {
     "output_type": "stream",
     "name": "stdout",
     "text": [
      "__get__ called in <__main__.TimeUTC object at 0x000002042B9D0310>\n__get__ called in <__main__.TimeUTC object at 0x000002042B9D0310>\n"
     ]
    },
    {
     "output_type": "execute_result",
     "data": {
      "text/plain": [
       "('2021-06-19T18:56:50.589618', '2021-06-19T18:56:50.589618')"
      ]
     },
     "metadata": {},
     "execution_count": 9
    }
   ],
   "source": [
    "class TimeUTC:\n",
    "    def __get__(self, instance, owner_class):\n",
    "        if instance is None:\n",
    "            return self\n",
    "        else:\n",
    "            print(f'__get__ called in {self}')\n",
    "            return datetime.utcnow().isoformat()\n",
    "\n",
    "class Logger:\n",
    "    current_time = TimeUTC()\n",
    "\n",
    "l1 = Logger()\n",
    "l2 = Logger()\n",
    "\n",
    "\n",
    "l1.current_time, l2.current_time"
   ]
  },
  {
   "source": [
    "In the code above we create a class Logger with current_time as a class variable. \\__get__ is called with the same object. This is not a problem when we only return the atetime.utcnow().isoformat(), but it turns into a problem when we want to store a state like below. The two instances share the same state since countdown is a class variable."
   ],
   "cell_type": "markdown",
   "metadata": {}
  },
  {
   "cell_type": "code",
   "execution_count": 10,
   "metadata": {},
   "outputs": [
    {
     "output_type": "stream",
     "name": "stdout",
     "text": [
      "10\n9\n8\n"
     ]
    }
   ],
   "source": [
    "class Countdown:\n",
    "    def __init__(self, start):\n",
    "        self.start = start + 1\n",
    "    \n",
    "    def __get__(self, instance, owner):\n",
    "        if instance is None:\n",
    "            return self\n",
    "        self.start -= 1\n",
    "        return self.start\n",
    "\n",
    "class Rocket:\n",
    "    countdown = Countdown(10)\n",
    "\n",
    "rocket1 = Rocket()\n",
    "rocket2 = Rocket()\n",
    "\n",
    "print(rocket1.countdown)\n",
    "print(rocket2.countdown)\n",
    "print(rocket1.countdown)"
   ]
  },
  {
   "source": [
    "#### the \\__set__ method"
   ],
   "cell_type": "markdown",
   "metadata": {}
  },
  {
   "cell_type": "code",
   "execution_count": 11,
   "metadata": {},
   "outputs": [
    {
     "output_type": "stream",
     "name": "stdout",
     "text": [
      "p1.x=1.1, p1.y=2.2\np2.x=3.3, p2.y=6.6\np1.x=3.3, p1.y=6.6\n"
     ]
    }
   ],
   "source": [
    "class IntegerValue:\n",
    "    def __set__(self, instance, value):\n",
    "        self._value = value\n",
    "\n",
    "    def __get__(self, instance, owner_class):\n",
    "        if instance is None:\n",
    "            return self\n",
    "        else:\n",
    "            return self._value\n",
    "\n",
    "class Point2D:\n",
    "    x = IntegerValue()\n",
    "    y = IntegerValue()\n",
    "\n",
    "p1 = Point2D()\n",
    "p1.x = 1.1\n",
    "p1.y = 2.2\n",
    "print(f'p1.x={p1.x}, p1.y={p1.y}')\n",
    "\n",
    "p2 = Point2D()\n",
    "p2.x = 3.3\n",
    "p2.y = 6.6\n",
    "print(f'p2.x={p2.x}, p2.y={p2.y}')\n",
    "\n",
    "# now p1.x and p1.y have changed\n",
    "print(f'p1.x={p1.x}, p1.y={p1.y}')"
   ]
  },
  {
   "source": [
    "Above, p1.x and p1.y changed when we set the values for p2.x and p2.y. The reason for this is that we are sharing the same instance of our descriptor, so it doesn't really matter if IntegerValue is called from p1 or p2."
   ],
   "cell_type": "markdown",
   "metadata": {}
  },
  {
   "source": [
    "### Instance properties"
   ],
   "cell_type": "markdown",
   "metadata": {}
  },
  {
   "cell_type": "code",
   "execution_count": 12,
   "metadata": {},
   "outputs": [
    {
     "output_type": "stream",
     "name": "stdout",
     "text": [
      "p1.__dict__ {'_x': 10.1, '_y': 20.2}\np2.__dict__ {'_x': 30.1, '_y': 60.2}\np1.__dict__ {'_x': 10.1, '_y': 20.2}\n"
     ]
    }
   ],
   "source": [
    "class IntegerValue:\n",
    "    def __init__(self, name):\n",
    "        self.storage_name = '_' + name\n",
    "    \n",
    "    def __set__(self, instance, value):\n",
    "        # we store each value in the instance calling this function\n",
    "        setattr(instance, self.storage_name, value)\n",
    "\n",
    "    def __get__(self, instance, owner_class):\n",
    "        if instance is None:\n",
    "            return self\n",
    "        return getattr(instance, self.storage_name, None)\n",
    "        # getattr(object, name[, default])\n",
    "\n",
    "class Point2D:\n",
    "    x = IntegerValue('x')\n",
    "    y = IntegerValue('y')\n",
    "\n",
    "p1, p2 = Point2D(), Point2D()\n",
    "\n",
    "p1.x = 10.1\n",
    "p1.y = 20.2\n",
    "\n",
    "p2.x = 30.1\n",
    "p2.y = 60.2\n",
    "\n",
    "print('p1.__dict__', p1.__dict__)\n",
    "print('p2.__dict__', p2.__dict__)\n",
    "print('p1.__dict__', p1.__dict__)\n"
   ]
  },
  {
   "source": [
    "**Notice that in the method above, we store the data in the instances of Point2D, and NOT in the IntegerValue class**\n",
    "\n",
    "\n",
    "This method may work well, but there are some drawbacks:\n",
    "- we have to include the 'x' and 'y' as arguments to IntegerValue like this: IntegerValue('x')\n",
    "- if IntegerValue is intended to be used by others, we don't know if they already have a '_x' or '_y' in their class.\n",
    "- if the Point2D class of the user uses slots, the class won't suddenly accept '_x' or '_y' as arguments"
   ],
   "cell_type": "markdown",
   "metadata": {}
  },
  {
   "source": [],
   "cell_type": "markdown",
   "metadata": {}
  },
  {
   "cell_type": "code",
   "execution_count": 13,
   "metadata": {},
   "outputs": [
    {
     "output_type": "stream",
     "name": "stdout",
     "text": [
      "p1.x=10, p1.y=20\np2.x=13, 21.y=30\n\nPoint2D.x.__dict__ {'values': {<__main__.Point2D object at 0x000002042B8CDD30>: 10, <__main__.Point2D object at 0x000002042B8CDC40>: 13}}\nPoint2D.y.__dict__ {'values': {<__main__.Point2D object at 0x000002042B8CDD30>: 20, <__main__.Point2D object at 0x000002042B8CDC40>: 30}}\n\nPoint2D x values {<__main__.Point2D object at 0x000002042B8CDD30>: 10, <__main__.Point2D object at 0x000002042B8CDC40>: 13}\nPoint2D y values {<__main__.Point2D object at 0x000002042B8CDD30>: 20, <__main__.Point2D object at 0x000002042B8CDC40>: 30}\n"
     ]
    }
   ],
   "source": [
    "# this class will be able to store a single argument, but for 1 or many instances\n",
    "class IntegerValue:\n",
    "    def __init__(self):\n",
    "        self.values = {}\n",
    "    \n",
    "    def __set__(self, instance, value):\n",
    "        self.values[instance] = int(value)\n",
    "    \n",
    "    def __get__(self, instance, owner_class):\n",
    "        if instance is None:\n",
    "            return self\n",
    "        return self.values.get(instance)\n",
    "\n",
    "class Point2D:\n",
    "    x = IntegerValue()\n",
    "    y = IntegerValue()\n",
    "\n",
    "p1 = Point2D()\n",
    "p2 = Point2D()\n",
    "p1.x, p1.y = 10.1, 20.2\n",
    "p2.x, p2.y = 13.1, 30.2\n",
    "\n",
    "print(f'p1.x={p1.x}, p1.y={p1.y}')\n",
    "print(f'p2.x={p2.x}, 21.y={p2.y}', end='\\n\\n')\n",
    "\n",
    "# access the dict for x and y\n",
    "print('Point2D.x.__dict__', Point2D.x.__dict__)\n",
    "print('Point2D.y.__dict__', Point2D.y.__dict__, end='\\n\\n')\n",
    "\n",
    "# access the value dict\n",
    "print('Point2D x values', Point2D.x.values)\n",
    "print('Point2D y values', Point2D.y.values)"
   ]
  },
  {
   "source": [
    "The method above:\n",
    "- assumes that the instances stored in the values dict are hashable\n",
    "- causes a memory leak because there is a strong reference to the object stored in the values dictionary"
   ],
   "cell_type": "markdown",
   "metadata": {}
  },
  {
   "cell_type": "code",
   "execution_count": 14,
   "metadata": {},
   "outputs": [
    {
     "output_type": "execute_result",
     "data": {
      "text/plain": [
       "(<__main__.Point2D at 0x2042b8cdd30>, 10, 20)"
      ]
     },
     "metadata": {},
     "execution_count": 14
    }
   ],
   "source": [
    "# even if we delete p1\n",
    "del p1\n",
    "\n",
    "# We can still access it like this:\n",
    "p1 = list(Point2D.x.values.keys())[0]\n",
    "p1, p1.x, p1.y"
   ]
  },
  {
   "source": [
    "#### Strong and weak references\n",
    "\n",
    "Weak reference\n",
    "- a reference to an object that does not affect the reference count as far as the memory manager is concerned."
   ],
   "cell_type": "markdown",
   "metadata": {}
  },
  {
   "cell_type": "code",
   "execution_count": 15,
   "metadata": {},
   "outputs": [],
   "source": [
    "import weakref\n",
    "import ctypes\n",
    "\n",
    "def ref_count(address):\n",
    "    return ctypes.c_long.from_address(address).value"
   ]
  },
  {
   "cell_type": "code",
   "execution_count": 16,
   "metadata": {},
   "outputs": [
    {
     "output_type": "stream",
     "name": "stdout",
     "text": [
      "[<weakref at 0x000002042BA39810; to 'Point' at 0x000002042BA320A0>]\n[]\n"
     ]
    }
   ],
   "source": [
    "class IntegerValue:\n",
    "    def __init__(self):\n",
    "        self.values = weakref.WeakKeyDictionary()\n",
    "    \n",
    "    def __set__(self, instance, value):\n",
    "        self.values[instance] = int(value)\n",
    "\n",
    "    def __get__(self, instance, owner_class):\n",
    "        if instance is None:\n",
    "            return self\n",
    "        else:\n",
    "            return self.values.get(instance) \n",
    "\n",
    "class Point:\n",
    "    x = IntegerValue()\n",
    "\n",
    "\n",
    "\n",
    "p = Point()\n",
    "p.x = 100.3\n",
    "\n",
    "print(Point.x.values.keyrefs())\n",
    "del p\n",
    "print(Point.x.values.keyrefs())"
   ]
  },
  {
   "source": [
    "- Now we don't need to store the values in the instance\n",
    "- We are protected from memory leaks\n",
    "- BUT it only works for hashable objects"
   ],
   "cell_type": "markdown",
   "metadata": {}
  },
  {
   "cell_type": "code",
   "execution_count": 17,
   "metadata": {},
   "outputs": [
    {
     "output_type": "stream",
     "name": "stdout",
     "text": [
      "2216934891040 {2216934891040: 10}\nref count of p:  1\n"
     ]
    }
   ],
   "source": [
    "class IntegerValue:\n",
    "    def __init__(self):\n",
    "        self.values = {}\n",
    "    \n",
    "    def __set__(self, instance, value):\n",
    "        self.values[id(instance)] = int(value)\n",
    "\n",
    "    def __get__(self, instance, owner_class):\n",
    "        if instance is None:\n",
    "            return self\n",
    "        else:\n",
    "            return self.values.get(id(instance)) \n",
    "\n",
    "class Point:\n",
    "    x = IntegerValue()\n",
    "\n",
    "    def __init__(self, x):\n",
    "        self.x = x\n",
    "    \n",
    "    def __eq__(self, other):\n",
    "        return isinstance(other, Point) and self.x == other.x\n",
    "\n",
    "p = Point(10.2)\n",
    "print(id(p), Point.x.values)\n",
    "p_id = id(p)\n",
    "print('ref count of p: ', ref_count(p_id))\n",
    "del p"
   ]
  },
  {
   "cell_type": "code",
   "execution_count": 18,
   "metadata": {},
   "outputs": [
    {
     "output_type": "stream",
     "name": "stdout",
     "text": [
      "ref count of p:  0\n"
     ]
    }
   ],
   "source": [
    "print('ref count of p: ', ref_count(p_id))"
   ]
  },
  {
   "source": [
    "# The issue now is that the reference to \"p\" still exists\n",
    "Point.x.values"
   ],
   "cell_type": "code",
   "metadata": {},
   "execution_count": 19,
   "outputs": [
    {
     "output_type": "execute_result",
     "data": {
      "text/plain": [
       "{2216934891040: 10}"
      ]
     },
     "metadata": {},
     "execution_count": 19
    }
   ]
  },
  {
   "cell_type": "code",
   "execution_count": 37,
   "metadata": {},
   "outputs": [
    {
     "output_type": "execute_result",
     "data": {
      "text/plain": [
       "10"
      ]
     },
     "metadata": {},
     "execution_count": 37
    }
   ],
   "source": [
    "def obj_destroyed(obj):\n",
    "    print(f'{obj} is destroyed')\n",
    "\n",
    "class IntegerValue:\n",
    "    def __init__(self):\n",
    "        self.values = {}\n",
    "    \n",
    "    def __set__(self, instance, value):\n",
    "        self.values[id(instance)] = (weakref.ref(instance, self._remove_object), int(value))\n",
    "\n",
    "    def __get__(self, instance, owner_class):\n",
    "        if instance is None:\n",
    "            return self\n",
    "        else:\n",
    "            return self.values[id(instance)][1]\n",
    "    \n",
    "    def _remove_object(self, weak_ref):\n",
    "        for key, value in self.values.items():\n",
    "            if value[0] is weak_ref:\n",
    "                del self.values[key]\n",
    "                break\n",
    "\n",
    "\n",
    "class Point:\n",
    "    x = IntegerValue()\n",
    "\n",
    "\n",
    "p = Point()\n",
    "p.x = 10.1\n",
    "p.x"
   ]
  },
  {
   "cell_type": "code",
   "execution_count": 38,
   "metadata": {},
   "outputs": [
    {
     "output_type": "execute_result",
     "data": {
      "text/plain": [
       "{2216964771312: (<weakref at 0x000002042D2E5D60; to 'Point' at 0x000002042D65CDF0>,\n",
       "  10)}"
      ]
     },
     "metadata": {},
     "execution_count": 38
    }
   ],
   "source": [
    "Point.x.values"
   ]
  },
  {
   "cell_type": "code",
   "execution_count": 39,
   "metadata": {},
   "outputs": [],
   "source": [
    "del p"
   ]
  },
  {
   "cell_type": "code",
   "execution_count": 40,
   "metadata": {},
   "outputs": [
    {
     "output_type": "execute_result",
     "data": {
      "text/plain": [
       "{}"
      ]
     },
     "metadata": {},
     "execution_count": 40
    }
   ],
   "source": [
    "Point.x.values"
   ]
  },
  {
   "source": [
    "- We now have solved the issue with cleaning up any references to the deleted object\n",
    "- But there is still an issue with the weak reference being stored in \\__weakref__ of the class"
   ],
   "cell_type": "markdown",
   "metadata": {}
  },
  {
   "cell_type": "code",
   "execution_count": 44,
   "metadata": {},
   "outputs": [
    {
     "output_type": "stream",
     "name": "stdout",
     "text": [
      "Guido van Rossum\nRaymond Hettinger\n{2216952761072: (<weakref at 0x000002042D86D770; to 'Person' at 0x000002042CAE8AF0>, 'Guido'), 2216959815584: (<weakref at 0x000002042D29FE00; to 'Person' at 0x000002042D1A2FA0>, 'Raymond')}\n{2216952761072: (<weakref at 0x000002042D851590; to 'Person' at 0x000002042CAE8AF0>, 'van Rossum'), 2216959815584: (<weakref at 0x000002042D2E59F0; to 'Person' at 0x000002042D1A2FA0>, 'Hettinger')}\n"
     ]
    }
   ],
   "source": [
    "class ValidString:\n",
    "    def __init__(self, min_length=0, max_length=255):\n",
    "        self.data = {}\n",
    "        self._min_length = min_length\n",
    "        self._max_length = max_length\n",
    "\n",
    "    def __set__(self, instance, value):\n",
    "        if not isinstance(value, str):\n",
    "            raise ValueError('Value must be a string')\n",
    "        if len(value) < self._min_length:\n",
    "            raise ValueError(f'Value should be at least {self._min_length} characters')\n",
    "        if len(value) > self._max_length:\n",
    "            raise ValueError(f'Value cannot exceed {self._max_length}')\n",
    "        self.data[id(instance)] = (weakref.ref(instance, self._finalize_instance), value)\n",
    "\n",
    "    def __get__(self, instance, owner_class):\n",
    "        if instance is None:\n",
    "            return self\n",
    "        else:\n",
    "            value_tuple = self.data.get(id(instance))\n",
    "            return value_tuple[1]\n",
    "\n",
    "    def _finalize_instance(self, weak_ref):\n",
    "        for key, value in self.data.items():\n",
    "            if value[0] is weak_ref:\n",
    "                del self.data[key]\n",
    "                break\n",
    "\n",
    "\n",
    "class Person:\n",
    "    __slots__ = '__weakref__'\n",
    "\n",
    "    first_name = ValidString(1, 100)\n",
    "    last_name = ValidString(1, 100)\n",
    "\n",
    "    def __eq__(self, other):\n",
    "        return(\n",
    "            isinstance(other, Person) and\n",
    "            self.first_name == other.first_name and\n",
    "            self.last_name == other.last_name\n",
    "        )\n",
    "\n",
    "class BankAccount:\n",
    "    __slots__ = '__weakref__'\n",
    "\n",
    "    account_number = ValidString(5, 25)\n",
    "\n",
    "    def __eq__(self, other):\n",
    "        return isinstance(other, BankAccount) and self.account_number == other.account_number\n",
    "\n",
    "p1 = Person()\n",
    "p2 = Person()\n",
    "p1.first_name, p1.last_name = 'Guido', 'van Rossum'\n",
    "p2.first_name, p2.last_name = 'Raymond', 'Hettinger'\n",
    "\n",
    "print(f'{p1.first_name} {p1.last_name}')\n",
    "print(f'{p2.first_name} {p2.last_name}')\n",
    "print(Person.first_name.data)\n",
    "print(Person.last_name.data)"
   ]
  },
  {
   "source": [
    "#### The \\__set_name__ method"
   ],
   "cell_type": "markdown",
   "metadata": {}
  },
  {
   "cell_type": "code",
   "execution_count": 60,
   "metadata": {},
   "outputs": [
    {
     "output_type": "stream",
     "name": "stdout",
     "text": [
      "Guido van Rossum\np.__dict__ :  {'_first_name': 'Guido', '_last_name': 'van Rossum'}\n"
     ]
    }
   ],
   "source": [
    "class ValidString:\n",
    "    def __init__(self, min_length=None):\n",
    "        self.min_length = min_length\n",
    "    \n",
    "    def __set_name__(self, owner_class, property_name):\n",
    "        #print(f'__set_name__: owner={owner_class}, property_name={property_name}')\n",
    "        self.property_name = property_name\n",
    "    \n",
    "    def __set__(self, instance, value):\n",
    "        if not isinstance(value, str):\n",
    "            raise ValueError(f'{self.property_name} must be of type String')\n",
    "        if self.min_length is not None and len(value) < self.min_length:\n",
    "            raise ValueError(f'{self.property_name} must be at least {self.min_length} characters')\n",
    "        key = '_' + self.property_name\n",
    "        setattr(instance, key, value)\n",
    "\n",
    "    \n",
    "    def __get__(self, instance, owner_class):\n",
    "        if instance is None:\n",
    "            return self\n",
    "        key = '_' + self.property_name\n",
    "        return getattr(instance, key, None)\n",
    "\n",
    "class Person:\n",
    "   \n",
    "    first_name = ValidString(2)\n",
    "    last_name = ValidString(2)\n",
    "\n",
    "\n",
    "p = Person()\n",
    "\n",
    "try:\n",
    "    p.first_name = 'Guido'\n",
    "    p.last_name = 'van Rossum'\n",
    "except ValueError as e:\n",
    "    print(e)\n",
    "\n",
    "\n",
    "print(f'{p.first_name} {p.last_name}')\n",
    "print('p.__dict__ : ', p.__dict__)"
   ]
  },
  {
   "cell_type": "code",
   "execution_count": 61,
   "metadata": {},
   "outputs": [
    {
     "output_type": "stream",
     "name": "stdout",
     "text": [
      "Guido van Rossum\np.__dict__ :  {'first_name': 'Guido', 'last_name': 'van Rossum'}\n"
     ]
    }
   ],
   "source": [
    "class ValidString:\n",
    "    def __init__(self, min_length=None):\n",
    "        self.min_length = min_length\n",
    "    \n",
    "    def __set_name__(self, owner_class, property_name):\n",
    "        #print(f'__set_name__: owner={owner_class}, property_name={property_name}')\n",
    "        self.property_name = property_name\n",
    "    \n",
    "    def __set__(self, instance, value):\n",
    "        if not isinstance(value, str):\n",
    "            raise ValueError(f'{self.property_name} must be of type String')\n",
    "        if self.min_length is not None and len(value) < self.min_length:\n",
    "            raise ValueError(f'{self.property_name} must be at least {self.min_length} characters')\n",
    "        # difference in code from above in the __set__ method\n",
    "        instance.__dict__[self.property_name] = value\n",
    "\n",
    "    \n",
    "    def __get__(self, instance, owner_class):\n",
    "        if instance is None:\n",
    "            return self\n",
    "        # difference in code from above in the __get__ method\n",
    "        return instance.__dict__.get(self.property_name)\n",
    "\n",
    "class Person:\n",
    "   \n",
    "    first_name = ValidString(2)\n",
    "    last_name = ValidString(2)\n",
    "\n",
    "\n",
    "p = Person()\n",
    "\n",
    "try:\n",
    "    p.first_name = 'Guido'\n",
    "    p.last_name = 'van Rossum'\n",
    "except ValueError as e:\n",
    "    print(e)\n",
    "\n",
    "\n",
    "print(f'{p.first_name} {p.last_name}')\n",
    "print('p.__dict__ : ', p.__dict__)"
   ]
  },
  {
   "source": [
    "#### Property lookup resolution:\n",
    "- data descriptors (both \\__get\\__ and \\__set__ are defined):\n",
    "    * always override the instance dictionary (by default - can override this behavior)\n",
    "    * see below"
   ],
   "cell_type": "markdown",
   "metadata": {}
  },
  {
   "cell_type": "code",
   "execution_count": 62,
   "metadata": {},
   "outputs": [
    {
     "output_type": "stream",
     "name": "stdout",
     "text": [
      "__set__ called\n__get__ called\n"
     ]
    }
   ],
   "source": [
    "class IntegerValue:\n",
    "    def __set__(self, instance, value):\n",
    "        print('__set__ called')\n",
    "    \n",
    "    def __get__(self, instance, owner_class):\n",
    "        print('__get__ called')\n",
    "\n",
    "class Point:\n",
    "    x = IntegerValue()\n",
    "\n",
    "p = Point()\n",
    "p.x = 100\n",
    "p.x"
   ]
  },
  {
   "source": [
    "#### Properties and descriptors (**properties ARE descriptors**)"
   ],
   "cell_type": "markdown",
   "metadata": {}
  },
  {
   "cell_type": "code",
   "execution_count": 72,
   "metadata": {},
   "outputs": [
    {
     "output_type": "stream",
     "name": "stdout",
     "text": [
      "has __get__?:  True\nhas __set__?:  True\n"
     ]
    }
   ],
   "source": [
    "from numbers import Integral\n",
    "\n",
    "class Person:\n",
    "    @property\n",
    "    def age(self):\n",
    "        return getattr(self, '_age', None)\n",
    "    \n",
    "    @age.setter\n",
    "    def age(self, value):\n",
    "        if not isinstance(value, Integral):\n",
    "            raise ValueError('age: must be an integer')\n",
    "        if value < 0:\n",
    "            raise ValueError('age: must be a non-negative integer')\n",
    "        self._age = value\n",
    "\n",
    "# THIS IS EQUIVALENT TO:\n",
    "\n",
    "class Person:\n",
    "\n",
    "    def get_age(self):\n",
    "        return getattr(self, '_age', None)\n",
    "    \n",
    "    def set_age(self, value):\n",
    "        if not isinstance(value, Integral):\n",
    "            raise ValueError('age: must be an integer')\n",
    "        if value < 0:\n",
    "            raise ValueError('age: must be a non-negative integer')\n",
    "        self._age = value\n",
    "    \n",
    "    age = property(fget=get_age, fset=set_age)\n",
    "\n",
    "prop = Person.age\n",
    "print('has __get__?: ', hasattr(prop, '__get__'))\n",
    "print('has __set__?: ', hasattr(prop, '__set__'))"
   ]
  },
  {
   "cell_type": "code",
   "execution_count": 75,
   "metadata": {},
   "outputs": [
    {
     "output_type": "stream",
     "name": "stdout",
     "text": [
      "__set_name__: owner=<class '__main__.Person'>, property_name=name\n__set__called\n__get__ called\n"
     ]
    },
    {
     "output_type": "execute_result",
     "data": {
      "text/plain": [
       "'Guido'"
      ]
     },
     "metadata": {},
     "execution_count": 75
    }
   ],
   "source": [
    "class MakeProperty:\n",
    "    def __init__(self, fget=None, fset=None):\n",
    "        self.fget = fget\n",
    "        self.fset = fset\n",
    "\n",
    "    def __set_name__(self, owner_class, prop_name):\n",
    "        print(f'__set_name__: owner={owner_class}, property_name={prop_name}')\n",
    "        self.prop_name = prop_name\n",
    "\n",
    "    def __get__(self, instance, owner_class):\n",
    "        print('__get__ called')\n",
    "        if instance is None:\n",
    "            return self\n",
    "        if self.fget is None:\n",
    "            raise AttributeError(f'{self.prop_name} is not readable')\n",
    "        return self.fget(instance)\n",
    "\n",
    "    def __set__(self, instance, value):\n",
    "        print('__set__called')\n",
    "        if self.fset is None:\n",
    "            raise AttributeError(f'{self.prop_name} is not writable')\n",
    "        self.fset(instance, value)\n",
    "\n",
    "class Person:\n",
    "    def get_name(self):\n",
    "        return getattr(self, '_name', None)\n",
    "    \n",
    "    def set_name(self, value):\n",
    "        self._name = value\n",
    "\n",
    "    name = MakeProperty(fget=get_name, fset=set_name)\n",
    "\n",
    "p = Person()\n",
    "p.name ='Guido'\n",
    "p.name"
   ]
  },
  {
   "source": [
    "#### Application: Example 1"
   ],
   "cell_type": "markdown",
   "metadata": {}
  },
  {
   "cell_type": "code",
   "execution_count": 83,
   "metadata": {},
   "outputs": [
    {
     "output_type": "stream",
     "name": "stdout",
     "text": [
      "age must be of type int\n"
     ]
    }
   ],
   "source": [
    "class ValidType:\n",
    "    def __init__(self, type_):\n",
    "        self._type = type_\n",
    "\n",
    "    def __set_name__(self, owner_class, property_name):\n",
    "        self.property_name = property_name\n",
    "    \n",
    "    def __set__(self, instance, value):\n",
    "        if not isinstance(value, self._type):\n",
    "            raise ValueError(f'{self.property_name} must be of type {self._type.__name__}')\n",
    "        instance.__dict__[self.property_name] = value\n",
    "\n",
    "    def __get__(self, instance, owner_class):\n",
    "        if instance is None:\n",
    "            return self\n",
    "        else:\n",
    "            return instance.__dict__.get(self.property_name, None)\n",
    "\n",
    "class Person:\n",
    "    age = ValidType(int)\n",
    "    height = ValidType(float)\n",
    "    tags = ValidType(list)\n",
    "\n",
    "p = Person()\n",
    "try:\n",
    "    p.age = 30.5\n",
    "except ValueError as e:\n",
    "    print(e)\n"
   ]
  }
 ]
}