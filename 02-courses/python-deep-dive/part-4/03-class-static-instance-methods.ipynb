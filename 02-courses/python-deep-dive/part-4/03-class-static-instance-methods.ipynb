{
 "cells": [
  {
   "cell_type": "markdown",
   "metadata": {},
   "source": [
    "## Articles:\n",
    "[Pythons classmethod and staticmethod explained](https://stackabuse.com/pythons-classmethod-and-staticmethod-explained/)<br>\n",
    "[programiz - classmethod](https://www.programiz.com/python-programming/methods/built-in/classmethod)<br>\n",
    "[Real Python - classmethod](https://realpython.com/instance-class-and-static-methods-demystified/)"
   ]
  },
  {
   "cell_type": "code",
   "execution_count": 41,
   "metadata": {},
   "outputs": [
    {
     "name": "stdout",
     "output_type": "stream",
     "text": [
      "Calling the functions from an instance object: \n",
      "Instance method:  ('instance method called', <__main__.MyClass object at 0x000002389620C250>)\n",
      "Class method:  ('class method called', <class '__main__.MyClass'>)\n",
      "Static method:  static method called\n",
      "\n",
      "Calling the functions from the class itsenf: \n",
      "Class method:  ('class method called', <class '__main__.MyClass'>)\n",
      "Static method:  static method called\n",
      "\n",
      "Instance method: \n",
      "When we call the instance method from the class without passing the instance as an argument, we get the following error: \n",
      "method() missing 1 required positional argument: 'self'\n",
      "\n",
      "So instead we have to do this: \n",
      "mc = MyClass()\n",
      "MyClass.method(mc)\n",
      "('instance method called', <__main__.MyClass object at 0x0000023895504DF0>)\n"
     ]
    }
   ],
   "source": [
    "\n",
    "\n",
    "class MyClass:\n",
    "    def method(self):\n",
    "        return 'instance method called', self\n",
    "\n",
    "    @classmethod\n",
    "    def classmethod(cls):\n",
    "        return 'class method called', cls\n",
    "\n",
    "    @staticmethod\n",
    "    def staticmethod():\n",
    "        return 'static method called'\n",
    "    \n",
    "mc = MyClass()\n",
    "print('Calling the functions from an instance object: ')\n",
    "print('Instance method: ', mc.method())\n",
    "print('Class method: ', mc.classmethod())\n",
    "print('Static method: ',mc.staticmethod(), end='\\n\\n')\n",
    "\n",
    "print('Calling the functions from the class itsenlf: ')\n",
    "\n",
    "print('Class method: ', MyClass.classmethod())\n",
    "print('Static method: ', MyClass.staticmethod(), end='\\n\\n')\n",
    "\n",
    "try: \n",
    "    print('Instance method: ')\n",
    "    print('Instance method: ', MyClass.method())\n",
    "except Exception as e:\n",
    "      print('When we call the instance method from the class without passing', \n",
    "            'the instance as an argument, we get the following error: ')\n",
    "      print(e, end='\\n\\n')\n",
    "      print('So instead we have to do this: ')\n",
    "      print('mc = MyClass()')\n",
    "      print('MyClass.method(mc)')\n",
    "      mc = MyClass()\n",
    "      print(MyClass.method(mc))\n",
    "    \n",
    "\n",
    "\n",
    "# \n"
   ]
  },
  {
   "cell_type": "markdown",
   "metadata": {},
   "source": [
    "### We can also call method() from the class itself by passing the instance as an argument"
   ]
  },
  {
   "cell_type": "code",
   "execution_count": 32,
   "metadata": {},
   "outputs": [
    {
     "data": {
      "text/plain": [
       "('instance method called', <__main__.MyClass at 0x238961fb280>)"
      ]
     },
     "execution_count": 32,
     "metadata": {},
     "output_type": "execute_result"
    }
   ],
   "source": [
    "mc = MyClass()\n",
    "MyClass.method(mc)"
   ]
  },
  {
   "cell_type": "markdown",
   "metadata": {},
   "source": [
    "## What is a class method?\n",
    "A class method is a method that is bound to a class rather than its object. It doesn't require creation of a class instance, much like staticmethod.\n",
    "\n",
    "## The difference between a static method and a class method is:\n",
    "- Static method knows nothing about the class and just deals with the parameters\n",
    "- Class method works with the class since its parameter is always the class itself.\n",
    "\n",
    "### The class method can be called both by the class and its object.\n"
   ]
  },
  {
   "cell_type": "markdown",
   "metadata": {},
   "source": [
    "## Example 1: Create class-method using classmethod()"
   ]
  },
  {
   "cell_type": "code",
   "execution_count": 15,
   "metadata": {},
   "outputs": [
    {
     "name": "stdout",
     "output_type": "stream",
     "text": [
      "The age is: 25\n"
     ]
    }
   ],
   "source": [
    "class Person:\n",
    "    age = 25\n",
    "\n",
    "    def printAge(cls):\n",
    "        print('The age is:', cls.age)\n",
    "\n",
    "# create printAge class method\n",
    "Person.printAge = classmethod(Person.printAge)\n",
    "\n",
    "Person.printAge()"
   ]
  },
  {
   "cell_type": "markdown",
   "metadata": {},
   "source": [
    "## Example 2: Create class method using the classmethod decorator"
   ]
  },
  {
   "cell_type": "code",
   "execution_count": 16,
   "metadata": {},
   "outputs": [
    {
     "name": "stdout",
     "output_type": "stream",
     "text": [
      "The age is: 25\n"
     ]
    }
   ],
   "source": [
    "class Person:\n",
    "    age = 25\n",
    "\n",
    "    @classmethod\n",
    "    def printAge(cls):\n",
    "        print('The age is:', cls.age)\n",
    "\n",
    "Person.printAge()"
   ]
  },
  {
   "cell_type": "markdown",
   "metadata": {},
   "source": [
    "## When do you use the class method?\n",
    "### 1. Factory methods\n",
    "Factory methods are those methods that return a class object (like constructor) for different use cases.\n",
    "\n",
    "It is similar to function overloading in C++. Since, Python doesn't have anything as such, class methods and static methods are used."
   ]
  },
  {
   "cell_type": "code",
   "execution_count": 35,
   "metadata": {},
   "outputs": [
    {
     "name": "stdout",
     "output_type": "stream",
     "text": [
      "p1:  Scott Robinson\n"
     ]
    }
   ],
   "source": [
    "class Student(object):\n",
    "    \n",
    "    def __init__(self, first_name, last_name):\n",
    "        self.first_name = first_name\n",
    "        self.last_name = last_name\n",
    "\n",
    "    @classmethod\n",
    "    def from_string(cls, name_str):\n",
    "        first_name, last_name = map(str, name_str.split(' '))\n",
    "        return cls(first_name, last_name)\n",
    "\n",
    "p1 = Student(first_name='Scott', last_name='Robinson')\n",
    "print('p1: ', p1.first_name, p1.last_name)\n"
   ]
  },
  {
   "cell_type": "code",
   "execution_count": 14,
   "metadata": {},
   "outputs": [
    {
     "name": "stdout",
     "output_type": "stream",
     "text": [
      "Got grades: [90, 80, 85, 94, 70]\n",
      "Invalid!\n"
     ]
    }
   ],
   "source": [
    "class ClassGrades:\n",
    "    \n",
    "    def __init__(self, grades_map):\n",
    "        self.grades = grades_map\n",
    "\n",
    "    @classmethod\n",
    "    def from_csv(cls, grade_csv_str):\n",
    "        mapped_grades = list(map(int, grade_csv_str.split(', ')))\n",
    "        cls.validate(mapped_grades)\n",
    "        return cls(grades_map=mapped_grades)\n",
    "\n",
    "    @staticmethod\n",
    "    def validate(grade_list):\n",
    "        for g in grade_list:\n",
    "            if g < 0 or g > 100:\n",
    "                raise ValueError('Invalid grade')\n",
    "\n",
    "\n",
    "try:\n",
    "    # Try out some valid grades\n",
    "    class_grades_valid = ClassGrades.from_csv('90, 80, 85, 94, 70')\n",
    "    print('Got grades:', class_grades_valid.grades)\n",
    "\n",
    "    # Should fail with invalid grades\n",
    "    class_grades_invalid = ClassGrades.from_csv('92, -15, 99, 101, 77, 65, 100')\n",
    "    print(class_grades_invalid.grades)\n",
    "except:\n",
    "    print('Invalid!')"
   ]
  },
  {
   "cell_type": "markdown",
   "metadata": {},
   "source": [
    "### 2. Correct instance creation in inheritance\n",
    "Whenever you derive a class from implementing a factory method as a class method, it ensures correct instance creation of the derived class.\n",
    "\n",
    "You can create a static method for the above example but the object it creates, will always be hard coded as Base class.\n",
    "\n",
    "But, when you use a class method, it creates the correct instance of the derived class."
   ]
  },
  {
   "cell_type": "code",
   "execution_count": 19,
   "metadata": {},
   "outputs": [
    {
     "name": "stdout",
     "output_type": "stream",
     "text": [
      "True\n",
      "False\n"
     ]
    }
   ],
   "source": [
    "from datetime import date\n",
    "\n",
    "# random Person\n",
    "class Person:\n",
    "    def __init__(self, name, age):\n",
    "        self.name = name\n",
    "        self.age = age\n",
    "\n",
    "    @staticmethod\n",
    "    def fromFathersAge(name, fatherAge, fatherPersonAgeDiff):\n",
    "        return Person(name, date.today().year - fatherAge + fatherPersonAgeDiff)\n",
    "\n",
    "    @classmethod\n",
    "    def fromBirthYear(cls, name, birthYear):\n",
    "        return cls(name, date.today().year - birthYear)\n",
    "\n",
    "    def display(self):\n",
    "        print(self.name + \"'s age is: \" + str(self.age))\n",
    "\n",
    "class Man(Person):\n",
    "    sex = 'Male'\n",
    "\n",
    "man_1 = Man.fromBirthYear('John', 1985)\n",
    "print(isinstance(man_1, Man))\n",
    "\n",
    "man_2 = Man.fromFathersAge('John', 1965, 20)\n",
    "print(isinstance(man_2, Man))"
   ]
  },
  {
   "cell_type": "markdown",
   "metadata": {},
   "source": [
    "## Accessing class variables through an instance method"
   ]
  },
  {
   "cell_type": "code",
   "execution_count": 30,
   "metadata": {},
   "outputs": [
    {
     "name": "stdout",
     "output_type": "stream",
     "text": [
      "Python 2\n",
      "2.7\n",
      "Python 3\n",
      "3.10\n",
      "Python 3\n",
      "3.10\n",
      "Python 3\n",
      "3.10\n"
     ]
    }
   ],
   "source": [
    "class Program:\n",
    "    language = 'Python 2'\n",
    "    version = '2.7'\n",
    "    \n",
    "    def instance_method(self):\n",
    "        self.__class__.language = 'Python 3'\n",
    "        self.__class__.version = '3.10'\n",
    "\n",
    "\n",
    "p1 = Program()\n",
    "p2 = Program()\n",
    "print(p1.language)\n",
    "print(p1.version)\n",
    "\n",
    "p1.instance_method()\n",
    "\n",
    "print(p1.language)\n",
    "print(p1.version)\n",
    "\n",
    "print(p2.language)\n",
    "print(p2.version)\n",
    "\n",
    "print(Program.language)\n",
    "print(Program.version)\n",
    "    "
   ]
  },
  {
   "cell_type": "code",
   "execution_count": null,
   "metadata": {},
   "outputs": [],
   "source": [
    "from datetime import datetime, timezone, timedelta\n",
    "\n",
    "class Timer:\n",
    "    tz = timezone.utc\n",
    "\n",
    "    @classmethod\n",
    "    def set_tz(cls, offset, name):\n",
    "        cls.tz = timezone(timedelta(hours=offset), name)\n",
    "    \n",
    "    @staticmethod\n",
    "    def current_dt_utc():\n",
    "        return datetime.now(timezone.utc)\n",
    "    \n",
    "    @classmethod\n",
    "    def current_dt(cls):\n",
    "        return datetime.now(cls.tz)\n",
    "    \n",
    "    def start(self):\n",
    "        self._time_start = self.current_dt_utc()\n",
    "        self._time_end = None\n",
    "    \n",
    "    def stop(self):\n",
    "        if self._time_start is None:\n",
    "            raise TimerError('Timer must be started before it can be stopped')\n",
    "    \n",
    "    @property\n",
    "    def start_time(self):\n",
    "        if self._time_start is None:\n",
    "            raise TimerError('Timer has not been started')\n",
    "        return self._time_start.astimezone(self.tz)\n",
    "    \n",
    "    @property\n",
    "    def end_time(self):\n",
    "        if self._time_end is None:\n",
    "            raise TimerError('Timer has not been stopped')\n",
    "        return self._time_end.astimezone(self.tz)\n",
    "    \n",
    "    @property\n",
    "    def elapsed(self):\n",
    "        if self._time_start is None:\n",
    "            raise TimerError('Timer must be started before an elapsed time can be calculated')\n",
    "        if self._time_end is None:\n",
    "            elapsed_time = self.current_dt_utc() - self._time_start\n",
    "        else:\n",
    "            elapsed_time = self._time_end - self._time_start\n",
    "        return elapsed_time.total_seconds()\n",
    "\n",
    "\n",
    "class TimerError(Exception):\n",
    "    \"\"\"A custom exception used for Timer class\"\"\""
   ]
  }
 ],
 "metadata": {
  "interpreter": {
   "hash": "05d659cf7217a31b7ba206b7e3fe1d98040361cb242cc44ce7c59206cfd427bc"
  },
  "kernelspec": {
   "display_name": "Python 3.9.5 64-bit ('spenncon': conda)",
   "name": "python3"
  },
  "language_info": {
   "codemirror_mode": {
    "name": "ipython",
    "version": 3
   },
   "file_extension": ".py",
   "mimetype": "text/x-python",
   "name": "python",
   "nbconvert_exporter": "python",
   "pygments_lexer": "ipython3",
   "version": "3.9.5"
  },
  "orig_nbformat": 4
 },
 "nbformat": 4,
 "nbformat_minor": 2
}
