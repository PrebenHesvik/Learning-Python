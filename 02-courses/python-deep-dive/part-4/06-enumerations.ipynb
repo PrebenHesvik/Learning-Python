{
 "metadata": {
  "language_info": {
   "codemirror_mode": {
    "name": "ipython",
    "version": 3
   },
   "file_extension": ".py",
   "mimetype": "text/x-python",
   "name": "python",
   "nbconvert_exporter": "python",
   "pygments_lexer": "ipython3",
   "version": "3.9.5"
  },
  "orig_nbformat": 4,
  "kernelspec": {
   "name": "python3",
   "display_name": "Python 3.9.5 64-bit ('spenncon': conda)"
  },
  "interpreter": {
   "hash": "05d659cf7217a31b7ba206b7e3fe1d98040361cb242cc44ce7c59206cfd427bc"
  }
 },
 "nbformat": 4,
 "nbformat_minor": 2,
 "cells": [
  {
   "cell_type": "code",
   "execution_count": 1,
   "metadata": {},
   "outputs": [],
   "source": [
    "import enum"
   ]
  },
  {
   "cell_type": "code",
   "execution_count": 9,
   "metadata": {},
   "outputs": [
    {
     "output_type": "stream",
     "name": "stdout",
     "text": [
      "<enum 'Status'>\nPENDING\npending\nStatus.PENDING\nStatus.PENDING\n[<Status.PENDING: 'pending'>, <Status.RUNNING: 'running'>, <Status.COMPLETED: 'completed'>]\n"
     ]
    }
   ],
   "source": [
    "class Color(enum.Enum):\n",
    "    red = 1\n",
    "    green = 2\n",
    "    blue = 3\n",
    "\n",
    "class Status(enum.Enum):\n",
    "    PENDING = 'pending'\n",
    "    RUNNING = 'running'\n",
    "    COMPLETED = 'completed'\n",
    "\n",
    "print(type(Status.PENDING))\n",
    "print(Status.PENDING.name)\n",
    "print(Status.PENDING.value)\n",
    "print(Status('pending'))\n",
    "print(Status['PENDING'])\n",
    "print(list(Status))"
   ]
  },
  {
   "cell_type": "code",
   "execution_count": null,
   "metadata": {},
   "outputs": [],
   "source": []
  }
 ]
}