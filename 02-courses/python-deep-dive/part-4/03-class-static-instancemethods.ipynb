{
 "cells": [
  {
   "cell_type": "markdown",
   "source": [
    "## Articles:\r\n",
    "[Pythons classmethod and staticmethod explained](https://stackabuse.com/pythons-classmethod-and-staticmethod-explained/)<br>\r\n",
    "[programiz - classmethod](https://www.programiz.com/python-programming/methods/built-in/classmethod)<br>\r\n",
    "[Real Python - classmethod](https://realpython.com/instance-class-and-static-methods-demystified/)"
   ],
   "metadata": {}
  },
  {
   "cell_type": "code",
   "execution_count": 41,
   "source": [
    "\r\n",
    "\r\n",
    "class MyClass:\r\n",
    "    def method(self):\r\n",
    "        return 'instance method called', self\r\n",
    "\r\n",
    "    @classmethod\r\n",
    "    def classmethod(cls):\r\n",
    "        return 'class method called', cls\r\n",
    "\r\n",
    "    @staticmethod\r\n",
    "    def staticmethod():\r\n",
    "        return 'static method called'\r\n",
    "    \r\n",
    "mc = MyClass()\r\n",
    "print('Calling the functions from an instance object: ')\r\n",
    "print('Instance method: ', mc.method())\r\n",
    "print('Class method: ', mc.classmethod())\r\n",
    "print('Static method: ',mc.staticmethod(), end='\\n\\n')\r\n",
    "\r\n",
    "print('Calling the functions from the class itsenlf: ')\r\n",
    "\r\n",
    "print('Class method: ', MyClass.classmethod())\r\n",
    "print('Static method: ', MyClass.staticmethod(), end='\\n\\n')\r\n",
    "\r\n",
    "try: \r\n",
    "    print('Instance method: ')\r\n",
    "    print('Instance method: ', MyClass.method())\r\n",
    "except Exception as e:\r\n",
    "      print('When we call the instance method from the class without passing', \r\n",
    "            'the instance as an argument, we get the following error: ')\r\n",
    "      print(e, end='\\n\\n')\r\n",
    "      print('So instead we have to do this: ')\r\n",
    "      print('mc = MyClass()')\r\n",
    "      print('MyClass.method(mc)')\r\n",
    "      mc = MyClass()\r\n",
    "      print(MyClass.method(mc))\r\n",
    "    \r\n",
    "\r\n",
    "\r\n",
    "# \r\n"
   ],
   "outputs": [
    {
     "output_type": "stream",
     "name": "stdout",
     "text": [
      "Calling the functions from an instance object: \n",
      "Instance method:  ('instance method called', <__main__.MyClass object at 0x000002389620C250>)\n",
      "Class method:  ('class method called', <class '__main__.MyClass'>)\n",
      "Static method:  static method called\n",
      "\n",
      "Calling the functions from the class itsenf: \n",
      "Class method:  ('class method called', <class '__main__.MyClass'>)\n",
      "Static method:  static method called\n",
      "\n",
      "Instance method: \n",
      "When we call the instance method from the class without passing the instance as an argument, we get the following error: \n",
      "method() missing 1 required positional argument: 'self'\n",
      "\n",
      "So instead we have to do this: \n",
      "mc = MyClass()\n",
      "MyClass.method(mc)\n",
      "('instance method called', <__main__.MyClass object at 0x0000023895504DF0>)\n"
     ]
    }
   ],
   "metadata": {}
  },
  {
   "cell_type": "markdown",
   "source": [
    "### We can also call method() from the class itself by passing the instance as an argument"
   ],
   "metadata": {}
  },
  {
   "cell_type": "code",
   "execution_count": 32,
   "source": [
    "mc = MyClass()\r\n",
    "MyClass.method(mc)"
   ],
   "outputs": [
    {
     "output_type": "execute_result",
     "data": {
      "text/plain": [
       "('instance method called', <__main__.MyClass at 0x238961fb280>)"
      ]
     },
     "metadata": {},
     "execution_count": 32
    }
   ],
   "metadata": {}
  },
  {
   "cell_type": "markdown",
   "source": [
    "## What is a class method?\r\n",
    "A class method is a method that is bound to a class rather than its object. It doesn't require creation of a class instance, much like staticmethod.\r\n",
    "\r\n",
    "## The difference between a static method and a class method is:\r\n",
    "- Static method knows nothing about the class and just deals with the parameters\r\n",
    "- Class method works with the class since its parameter is always the class itself.\r\n",
    "\r\n",
    "### The class method can be called both by the class and its object.\r\n"
   ],
   "metadata": {}
  },
  {
   "cell_type": "markdown",
   "source": [
    "## Example 1: Create class-method using classmethod()"
   ],
   "metadata": {}
  },
  {
   "cell_type": "code",
   "execution_count": 15,
   "source": [
    "class Person:\r\n",
    "    age = 25\r\n",
    "\r\n",
    "    def printAge(cls):\r\n",
    "        print('The age is:', cls.age)\r\n",
    "\r\n",
    "# create printAge class method\r\n",
    "Person.printAge = classmethod(Person.printAge)\r\n",
    "\r\n",
    "Person.printAge()"
   ],
   "outputs": [
    {
     "output_type": "stream",
     "name": "stdout",
     "text": [
      "The age is: 25\n"
     ]
    }
   ],
   "metadata": {}
  },
  {
   "cell_type": "markdown",
   "source": [
    "## Example 2: Create class method using the classmethod decorator"
   ],
   "metadata": {}
  },
  {
   "cell_type": "code",
   "execution_count": 16,
   "source": [
    "class Person:\r\n",
    "    age = 25\r\n",
    "\r\n",
    "    @classmethod\r\n",
    "    def printAge(cls):\r\n",
    "        print('The age is:', cls.age)\r\n",
    "\r\n",
    "Person.printAge()"
   ],
   "outputs": [
    {
     "output_type": "stream",
     "name": "stdout",
     "text": [
      "The age is: 25\n"
     ]
    }
   ],
   "metadata": {}
  },
  {
   "cell_type": "markdown",
   "source": [
    "## When do you use the class method?\r\n",
    "### 1. Factory methods\r\n",
    "Factory methods are those methods that return a class object (like constructor) for different use cases.\r\n",
    "\r\n",
    "It is similar to function overloading in C++. Since, Python doesn't have anything as such, class methods and static methods are used."
   ],
   "metadata": {}
  },
  {
   "cell_type": "code",
   "execution_count": 35,
   "source": [
    "class Student(object):\r\n",
    "    \r\n",
    "    def __init__(self, first_name, last_name):\r\n",
    "        self.first_name = first_name\r\n",
    "        self.last_name = last_name\r\n",
    "\r\n",
    "    @classmethod\r\n",
    "    def from_string(cls, name_str):\r\n",
    "        first_name, last_name = map(str, name_str.split(' '))\r\n",
    "        return cls(first_name, last_name)\r\n",
    "\r\n",
    "p1 = Student(first_name='Scott', last_name='Robinson')\r\n",
    "print('p1: ', p1.first_name, p1.last_name)\r\n"
   ],
   "outputs": [
    {
     "output_type": "stream",
     "name": "stdout",
     "text": [
      "p1:  Scott Robinson\n"
     ]
    }
   ],
   "metadata": {}
  },
  {
   "cell_type": "code",
   "execution_count": 14,
   "source": [
    "class ClassGrades:\r\n",
    "    \r\n",
    "    def __init__(self, grades_map):\r\n",
    "        self.grades = grades_map\r\n",
    "\r\n",
    "    @classmethod\r\n",
    "    def from_csv(cls, grade_csv_str):\r\n",
    "        mapped_grades = list(map(int, grade_csv_str.split(', ')))\r\n",
    "        cls.validate(mapped_grades)\r\n",
    "        return cls(grades_map=mapped_grades)\r\n",
    "\r\n",
    "    @staticmethod\r\n",
    "    def validate(grade_list):\r\n",
    "        for g in grade_list:\r\n",
    "            if g < 0 or g > 100:\r\n",
    "                raise ValueError('Invalid grade')\r\n",
    "\r\n",
    "\r\n",
    "try:\r\n",
    "    # Try out some valid grades\r\n",
    "    class_grades_valid = ClassGrades.from_csv('90, 80, 85, 94, 70')\r\n",
    "    print('Got grades:', class_grades_valid.grades)\r\n",
    "\r\n",
    "    # Should fail with invalid grades\r\n",
    "    class_grades_invalid = ClassGrades.from_csv('92, -15, 99, 101, 77, 65, 100')\r\n",
    "    print(class_grades_invalid.grades)\r\n",
    "except:\r\n",
    "    print('Invalid!')"
   ],
   "outputs": [
    {
     "output_type": "stream",
     "name": "stdout",
     "text": [
      "Got grades: [90, 80, 85, 94, 70]\n",
      "Invalid!\n"
     ]
    }
   ],
   "metadata": {}
  },
  {
   "cell_type": "markdown",
   "source": [
    "### 2. Correct instance creation in inheritance\r\n",
    "Whenever you derive a class from implementing a factory method as a class method, it ensures correct instance creation of the derived class.\r\n",
    "\r\n",
    "You can create a static method for the above example but the object it creates, will always be hard coded as Base class.\r\n",
    "\r\n",
    "But, when you use a class method, it creates the correct instance of the derived class."
   ],
   "metadata": {}
  },
  {
   "cell_type": "code",
   "execution_count": 19,
   "source": [
    "from datetime import date\r\n",
    "\r\n",
    "# random Person\r\n",
    "class Person:\r\n",
    "    def __init__(self, name, age):\r\n",
    "        self.name = name\r\n",
    "        self.age = age\r\n",
    "\r\n",
    "    @staticmethod\r\n",
    "    def fromFathersAge(name, fatherAge, fatherPersonAgeDiff):\r\n",
    "        return Person(name, date.today().year - fatherAge + fatherPersonAgeDiff)\r\n",
    "\r\n",
    "    @classmethod\r\n",
    "    def fromBirthYear(cls, name, birthYear):\r\n",
    "        return cls(name, date.today().year - birthYear)\r\n",
    "\r\n",
    "    def display(self):\r\n",
    "        print(self.name + \"'s age is: \" + str(self.age))\r\n",
    "\r\n",
    "class Man(Person):\r\n",
    "    sex = 'Male'\r\n",
    "\r\n",
    "man_1 = Man.fromBirthYear('John', 1985)\r\n",
    "print(isinstance(man_1, Man))\r\n",
    "\r\n",
    "man_2 = Man.fromFathersAge('John', 1965, 20)\r\n",
    "print(isinstance(man_2, Man))"
   ],
   "outputs": [
    {
     "output_type": "stream",
     "name": "stdout",
     "text": [
      "True\n",
      "False\n"
     ]
    }
   ],
   "metadata": {}
  },
  {
   "cell_type": "markdown",
   "source": [
    "## Accessing class variables through an instance method"
   ],
   "metadata": {}
  },
  {
   "cell_type": "code",
   "execution_count": 30,
   "source": [
    "class Program:\r\n",
    "    language = 'Python 2'\r\n",
    "    version = '2.7'\r\n",
    "    \r\n",
    "    def instance_method(self):\r\n",
    "        self.__class__.language = 'Python 3'\r\n",
    "        self.__class__.version = '3.10'\r\n",
    "\r\n",
    "\r\n",
    "p1 = Program()\r\n",
    "p2 = Program()\r\n",
    "print(p1.language)\r\n",
    "print(p1.version)\r\n",
    "\r\n",
    "p1.instance_method()\r\n",
    "\r\n",
    "print(p1.language)\r\n",
    "print(p1.version)\r\n",
    "\r\n",
    "print(p2.language)\r\n",
    "print(p2.version)\r\n",
    "\r\n",
    "print(Program.language)\r\n",
    "print(Program.version)\r\n",
    "    "
   ],
   "outputs": [
    {
     "output_type": "stream",
     "name": "stdout",
     "text": [
      "Python 2\n",
      "2.7\n",
      "Python 3\n",
      "3.10\n",
      "Python 3\n",
      "3.10\n",
      "Python 3\n",
      "3.10\n"
     ]
    }
   ],
   "metadata": {}
  },
  {
   "cell_type": "code",
   "execution_count": null,
   "source": [
    "from datetime import datetime, timezone, timedelta\r\n",
    "\r\n",
    "class Timer:\r\n",
    "    tz = timezone.utc\r\n",
    "\r\n",
    "    @classmethod\r\n",
    "    def set_tz(cls, offset, name):\r\n",
    "        cls.tz = timezone(timedelta(hours=offset), name)\r\n",
    "    \r\n",
    "    @staticmethod\r\n",
    "    def current_dt_utc():\r\n",
    "        return datetime.now(timezone.utc)\r\n",
    "    \r\n",
    "    @classmethod\r\n",
    "    def current_dt(cls):\r\n",
    "        return datetime.now(cls.tz)\r\n",
    "    \r\n",
    "    def start(self):\r\n",
    "        self._time_start = self.current_dt_utc()\r\n",
    "        self._time_end = None\r\n",
    "    \r\n",
    "    def stop(self):\r\n",
    "        if self._time_start is None:\r\n",
    "            raise TimerError('Timer must be started before it can be stopped')\r\n",
    "    \r\n",
    "    @property\r\n",
    "    def start_time(self):\r\n",
    "        if self._time_start is None:\r\n",
    "            raise TimerError('Timer has not been started')\r\n",
    "        return self._time_start.astimezone(self.tz)\r\n",
    "    \r\n",
    "    @property\r\n",
    "    def end_time(self):\r\n",
    "        if self._time_end is None:\r\n",
    "            raise TimerError('Timer has not been stopped')\r\n",
    "        return self._time_end.astimezone(self.tz)\r\n",
    "    \r\n",
    "    @property\r\n",
    "    def elapsed(self):\r\n",
    "        if self._time_start is None:\r\n",
    "            raise TimerError('Timer must be started before an elapsed time can be calculated')\r\n",
    "        if self._time_end is None:\r\n",
    "            elapsed_time = self.current_dt_utc() - self._time_start\r\n",
    "        else:\r\n",
    "            elapsed_time = self._time_end - self._time_start\r\n",
    "        return elapsed_time.total_seconds()\r\n",
    "\r\n",
    "\r\n",
    "class TimerError(Exception):\r\n",
    "    \"\"\"A custom exception used for Timer class\"\"\""
   ],
   "outputs": [],
   "metadata": {}
  }
 ],
 "metadata": {
  "orig_nbformat": 4,
  "language_info": {
   "name": "python",
   "version": "3.9.5",
   "mimetype": "text/x-python",
   "codemirror_mode": {
    "name": "ipython",
    "version": 3
   },
   "pygments_lexer": "ipython3",
   "nbconvert_exporter": "python",
   "file_extension": ".py"
  },
  "kernelspec": {
   "name": "python3",
   "display_name": "Python 3.9.5 64-bit ('spenncon': conda)"
  },
  "interpreter": {
   "hash": "05d659cf7217a31b7ba206b7e3fe1d98040361cb242cc44ce7c59206cfd427bc"
  }
 },
 "nbformat": 4,
 "nbformat_minor": 2
}