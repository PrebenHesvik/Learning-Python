{
 "cells": [
  {
   "cell_type": "markdown",
   "metadata": {},
   "source": [
    "### Polymorphism:\n",
    "- The ability to define a generic type of behavior that will (potentially) behave differently when applied to different types. \n",
    "\n",
    "<br>\n",
    "\n",
    "### Special Methods\n",
    "- class instantiation\n",
    "    * \\__init__\n",
    "- context managers\n",
    "    * \\__enter__\n",
    "    * \\__exit__\n",
    "- sequence types\n",
    "    * \\__getitem__\n",
    "    * \\__setitem__\n",
    "    * \\__delitem__\n",
    "- iterables and iterators\n",
    "    * \\__iter__\n",
    "    * \\__next__\n",
    "    * \\__len__\n",
    "- in operator\n",
    "    * \\__contains__\n",
    "\n",
    "<br>\n",
    "\n",
    "### \\__str\\__ vs \\__repr__"
   ]
  },
  {
   "cell_type": "code",
   "execution_count": 1,
   "metadata": {},
   "outputs": [],
   "source": [
    "class Person:\n",
    "    def __init__(self, name, age):\n",
    "        self.name = name\n",
    "        self.age = age\n",
    "    \n",
    "    def __str__(self):\n",
    "        return self.name\n",
    "    \n",
    "    def __repr__(self):\n",
    "        return f\"Person(name='{self.name}', age='{self.age}')\""
   ]
  },
  {
   "cell_type": "code",
   "execution_count": 2,
   "metadata": {},
   "outputs": [
    {
     "output_type": "stream",
     "name": "stdout",
     "text": "Person(name='Theo', age='2')\nTheo\n"
    }
   ],
   "source": [
    "p = Person(name='Theo', age=2)\n",
    "print(repr(p))\n",
    "print(p)"
   ]
  },
  {
   "cell_type": "markdown",
   "metadata": {},
   "source": [
    "### Arithmetic operators\n",
    "\n",
    "- \\__add__\n",
    "- \\__sub__\n",
    "- \\__mul__\n",
    "- \\__truediv__\n",
    "- \\__floordiv__\n",
    "- \\__mod__\n",
    "- \\__pow__\n",
    "\n",
    "<br>\n",
    "to indicate the operation is not supported, implement method and return NotImplemented"
   ]
  },
  {
   "cell_type": "code",
   "execution_count": 25,
   "metadata": {},
   "outputs": [],
   "source": [
    "from numbers import Real\n",
    "import math\n",
    "\n",
    "class VectorDimensionMismatch(TypeError):\n",
    "    pass\n",
    "\n",
    "class Vector:\n",
    "    \"\"\"A one-dimensional array data structure\"\"\"\n",
    "    def __init__(self, *components):\n",
    "        if len(components) < 1:\n",
    "            raise ValueError('Cannot create an empty vector.')\n",
    "        for component in components:\n",
    "            if not isinstance(component, Real):\n",
    "                raise ValueError('Vector components must all be real numbers.')\n",
    "        self._components = tuple(components)\n",
    "    \n",
    "    def __len__(self):\n",
    "        return len(self._components)\n",
    "    \n",
    "    @property\n",
    "    def components(self):\n",
    "        return self._components\n",
    "    \n",
    "    def __repr__(self):\n",
    "        return f'Vector{self.components}'\n",
    "\n",
    "    def validate_type_and_dimension(self, v):\n",
    "        return isinstance(v, Vector) and len(v) == len(self)\n",
    "    \n",
    "    def __add__(self, other):\n",
    "        if not self.validate_type_and_dimension(other):\n",
    "            return NotImplemented\n",
    "        components = (x + y for x, y in zip(self.components, other.components))\n",
    "        return Vector(*components)\n",
    "    \n",
    "    def __sub__(self, other):\n",
    "        if not self.validate_type_and_dimension(other):\n",
    "             return NotImplemented\n",
    "        components = (x - y for x, y in zip(self.components, other.components))\n",
    "        return Vector(*components)\n",
    "    \n",
    "    def __mul__(self, other):\n",
    "        if isinstance(other, Real):\n",
    "            components = (other * x for x in self.components)\n",
    "            return Vector(*components)\n",
    "        if self.validate_type_and_dimension(other):\n",
    "            # dot product\n",
    "            components = (x * y for x, y in zip(self.components, other.components))\n",
    "            return sum(components)\n",
    "        return NotImplemented\n",
    "\n",
    "    def __rmul__(self, other):\n",
    "        return self * other\n",
    "    \n",
    "    def __iadd__(self, other):\n",
    "        if self.validate_type_and_dimension(other):\n",
    "            components = (x + y for x, y in zip(self.components, other.components))\n",
    "            self._components = tuple(components)\n",
    "            return self     \n",
    "        return NotImplemented\n",
    "    \n",
    "    def __neg__(self):\n",
    "        components = (-x for x in self.components)\n",
    "        return Vector(*components)\n",
    "    \n",
    "    def __abs__(self):\n",
    "        return math.sqrt(sum(x**2 for x in self.components))\n",
    "    \n",
    "    # Rich comparisons\n",
    "    def __eq__(self, other):\n",
    "        if isinstance(other, tuple):\n",
    "            other = Vector(*other)\n",
    "        if isinstance(other, Vector):\n",
    "            return self.x == other.x and self.y == other.y\n",
    "        return NotImplemented\n",
    "    \n",
    "    def __lt__(self, value):\n",
    "        if isinstance(other, tuple):\n",
    "            other = Vector(*other)\n",
    "        if isinstance(other, Vector):\n",
    "            return abs(self) < abs(other)\n",
    "\n",
    "    def __le__(self, value):\n",
    "        return self == other or self < other\n",
    "    \n",
    "    def __hash__(self):\n",
    "        return hash(self.components)\n",
    "\n",
    "    def __bool__(self):\n",
    "        return len(self) > 0\n",
    "\n",
    "\n"
   ]
  },
  {
   "cell_type": "code",
   "execution_count": 26,
   "metadata": {},
   "outputs": [],
   "source": [
    "v1 = Vector(1, 2)\n",
    "v2 = Vector(10, 20)\n",
    "v3 = Vector(100, 200, 300)\n",
    "v4 = Vector(-5, -10)"
   ]
  },
  {
   "cell_type": "code",
   "execution_count": 14,
   "metadata": {},
   "outputs": [
    {
     "output_type": "stream",
     "name": "stdout",
     "text": [
      "add:  Vector(11, 22)\nadd - :  Vector(-9, -18)\nmultiply:  50\nmultiply:  Vector(3, 6)\nabs:  11.180339887498949\n"
     ]
    }
   ],
   "source": [
    "print('add: ', v1 + v2)\n",
    "print('add - : ', v1 + -v2)\n",
    "print('multiply: ', v1 * v2)\n",
    "print('multiply: ', 3 * v1)\n",
    "print('abs: ', abs(v4))"
   ]
  },
  {
   "cell_type": "code",
   "execution_count": 27,
   "metadata": {},
   "outputs": [
    {
     "output_type": "stream",
     "name": "stdout",
     "text": [
      "Vector(1, 2)\n"
     ]
    },
    {
     "output_type": "execute_result",
     "data": {
      "text/plain": [
       "True"
      ]
     },
     "metadata": {},
     "execution_count": 27
    }
   ],
   "source": [
    "bool(v1)"
   ]
  },
  {
   "cell_type": "markdown",
   "metadata": {},
   "source": [
    "### Callables"
   ]
  },
  {
   "cell_type": "code",
   "execution_count": 6,
   "metadata": {},
   "outputs": [],
   "source": [
    "class Partial:\n",
    "\n",
    "    def __init__(self, func, *args):\n",
    "        self._func = func\n",
    "        self._args = args\n",
    "    \n",
    "    def __call__(self, *args):\n",
    "        return self._func(*self._args, *args)\n",
    "        "
   ]
  },
  {
   "cell_type": "code",
   "execution_count": 29,
   "metadata": {},
   "outputs": [
    {
     "output_type": "stream",
     "name": "stdout",
     "text": [
      "N/A\ndict_items([('a', 100), ('b', 'N/A')])\n1\n"
     ]
    }
   ],
   "source": [
    "from collections import defaultdict\n",
    "\n",
    "class DefaultValue:\n",
    "\n",
    "    def __init__(self, default_value):\n",
    "        self.default_value = default_value\n",
    "        self.counter = 0\n",
    "    \n",
    "    \n",
    "    def __call__(self):\n",
    "        self.counter += 1\n",
    "        return self.default_value\n",
    "\n",
    "\n",
    "cache_def = DefaultValue('N/A')\n",
    "cache = defaultdict(cache_def)\n",
    "\n",
    "cache['a'] = 100\n",
    "print(cache['b'])\n",
    "print(cache.items())\n",
    "print(cache_def.counter)"
   ]
  },
  {
   "source": [
    "## class-based decorator"
   ],
   "cell_type": "markdown",
   "metadata": {}
  },
  {
   "cell_type": "code",
   "execution_count": 32,
   "metadata": {},
   "outputs": [],
   "source": [
    "from time import perf_counter\n",
    "from functools import wraps\n",
    "from time import sleep\n",
    "import random\n",
    "\n",
    "class Profiler:\n",
    "\n",
    "    def __init__(self, fn):\n",
    "        self.counter = 0\n",
    "        self.total_elapsed = 0\n",
    "        self.fn = fn\n",
    "    \n",
    "    def __call__(self, *args, **kwargs):\n",
    "        self.counter += 1\n",
    "        start = perf_counter()\n",
    "        result = self.fn(*args, **kwargs)\n",
    "        end = perf_counter()\n",
    "        self.total_elapsed += (end - start)\n",
    "        return result\n",
    "    \n",
    "    @property\n",
    "    def avg_time(self):\n",
    "        return self.total_elapsed / self.counter\n"
   ]
  },
  {
   "cell_type": "code",
   "execution_count": 35,
   "metadata": {},
   "outputs": [
    {
     "output_type": "stream",
     "name": "stdout",
     "text": [
      "(10, 20)\n1\n0.9101682000036817\n"
     ]
    }
   ],
   "source": [
    "@Profiler\n",
    "def func_1(a, b):\n",
    "    sleep(random.random())\n",
    "    return (a, b)\n",
    "\n",
    "print(func_1(10, 20))\n",
    "print(func_1.counter)\n",
    "print(func_1.avg_time)"
   ]
  },
  {
   "cell_type": "code",
   "execution_count": null,
   "metadata": {},
   "outputs": [],
   "source": []
  }
 ],
 "metadata": {
  "language_info": {
   "codemirror_mode": {
    "name": "ipython",
    "version": 3
   },
   "file_extension": ".py",
   "mimetype": "text/x-python",
   "name": "python",
   "nbconvert_exporter": "python",
   "pygments_lexer": "ipython3",
   "version": "3.9.5"
  },
  "orig_nbformat": 2,
  "kernelspec": {
   "name": "python3",
   "display_name": "Python 3.9.5 64-bit ('spenncon': conda)"
  },
  "interpreter": {
   "hash": "05d659cf7217a31b7ba206b7e3fe1d98040361cb242cc44ce7c59206cfd427bc"
  }
 },
 "nbformat": 4,
 "nbformat_minor": 2
}