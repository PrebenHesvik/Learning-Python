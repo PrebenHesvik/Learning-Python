{
 "cells": [
  {
   "cell_type": "code",
   "execution_count": 1,
   "source": [
    "\r\n",
    "\r\n",
    "from collections import defaultdict, namedtuple\r\n",
    "from datetime import datetime\r\n",
    "from functools import wraps"
   ],
   "outputs": [],
   "metadata": {}
  },
  {
   "cell_type": "markdown",
   "source": [
    "# DefaultDict"
   ],
   "metadata": {}
  },
  {
   "cell_type": "markdown",
   "source": [
    "## Three ways to count the appearance of any of the letters in a sentence"
   ],
   "metadata": {}
  },
  {
   "cell_type": "code",
   "execution_count": 2,
   "source": [
    "# Method 1\r\n",
    "sentence = 'able was I ere I saw elba'\r\n",
    "counts = {}\r\n",
    "for c in sentence:\r\n",
    "    if c in counts:\r\n",
    "        counts[c] += 1\r\n",
    "    else:\r\n",
    "        counts[c] = 1\r\n",
    "\r\n",
    "counts"
   ],
   "outputs": [
    {
     "output_type": "execute_result",
     "data": {
      "text/plain": [
       "{'a': 4, 'b': 2, 'l': 2, 'e': 4, ' ': 6, 'w': 2, 's': 2, 'I': 2, 'r': 1}"
      ]
     },
     "metadata": {},
     "execution_count": 2
    }
   ],
   "metadata": {}
  },
  {
   "cell_type": "code",
   "execution_count": 3,
   "source": [
    "# Method 2\r\n",
    "sentence = 'able was I ere I saw elba'\r\n",
    "counts = {}\r\n",
    "for c in sentence:\r\n",
    "    counts[c] = counts.get(c, 0) + 1\r\n",
    "\r\n",
    "counts"
   ],
   "outputs": [
    {
     "output_type": "execute_result",
     "data": {
      "text/plain": [
       "{'a': 4, 'b': 2, 'l': 2, 'e': 4, ' ': 6, 'w': 2, 's': 2, 'I': 2, 'r': 1}"
      ]
     },
     "metadata": {},
     "execution_count": 3
    }
   ],
   "metadata": {}
  },
  {
   "cell_type": "code",
   "execution_count": 5,
   "source": [
    "# Method 3 - Using defaultdict\r\n",
    "sentence = 'able was I ere I saw elba'\r\n",
    "counts = defaultdict(lambda: 0)\r\n",
    "for c in sentence:\r\n",
    "    counts[c] += 1\r\n",
    "    \r\n",
    "print(counts)"
   ],
   "outputs": [
    {
     "output_type": "stream",
     "name": "stdout",
     "text": [
      "defaultdict(<function <lambda> at 0x0000028A59D28670>, {'a': 4, 'b': 2, 'l': 2, 'e': 4, ' ': 6, 'w': 2, 's': 2, 'I': 2, 'r': 1})\n"
     ]
    }
   ],
   "metadata": {}
  },
  {
   "cell_type": "markdown",
   "source": [
    "## Three ways of grouping a dictionary"
   ],
   "metadata": {}
  },
  {
   "cell_type": "code",
   "execution_count": 6,
   "source": [
    "persons = {\r\n",
    "    'john': {'age': 20, 'eye_color': 'blue'},\r\n",
    "    'jack': {'age': 25, 'eye_color': 'brown'},\r\n",
    "    'jill': {'age': 23, 'eye_color': 'blue'},\r\n",
    "    'eric': {'age': 35},\r\n",
    "    'michael': {'age': 27},\r\n",
    "}\r\n",
    "\r\n",
    "eye_colors = {}\r\n",
    "for person, details in persons.items():\r\n",
    "    color = details['eye_color'] if 'eye_color' in details else 'unknown'\r\n",
    "    if color in eye_colors:\r\n",
    "        eye_colors[color].append(person)\r\n",
    "    else:\r\n",
    "        eye_colors[color] = [person]\r\n",
    "        \r\n",
    "eye_colors"
   ],
   "outputs": [
    {
     "output_type": "execute_result",
     "data": {
      "text/plain": [
       "{'blue': ['john', 'jill'], 'brown': ['jack'], 'unknown': ['eric', 'michael']}"
      ]
     },
     "metadata": {},
     "execution_count": 6
    }
   ],
   "metadata": {}
  },
  {
   "cell_type": "code",
   "execution_count": 7,
   "source": [
    "persons = {\r\n",
    "    'john': {'age': 20, 'eye_color': 'blue'},\r\n",
    "    'jack': {'age': 25, 'eye_color': 'brown'},\r\n",
    "    'jill': {'age': 23, 'eye_color': 'blue'},\r\n",
    "    'eric': {'age': 35},\r\n",
    "    'michael': {'age': 27},\r\n",
    "}\r\n",
    "\r\n",
    "eye_colors = {}\r\n",
    "for person, details in persons.items():\r\n",
    "    color = details.get('eye_color', 'unknown')\r\n",
    "    person_list = eye_colors.get(color, [])\r\n",
    "    person_list.append(person)\r\n",
    "    eye_colors[color] = person_list\r\n",
    "    \r\n",
    "eye_colors"
   ],
   "outputs": [
    {
     "output_type": "execute_result",
     "data": {
      "text/plain": [
       "{'blue': ['john', 'jill'], 'brown': ['jack'], 'unknown': ['eric', 'michael']}"
      ]
     },
     "metadata": {},
     "execution_count": 7
    }
   ],
   "metadata": {}
  },
  {
   "cell_type": "code",
   "execution_count": 8,
   "source": [
    "persons = {\r\n",
    "    'john': {'age': 20, 'eye_color': 'blue'},\r\n",
    "    'jack': {'age': 25, 'eye_color': 'brown'},\r\n",
    "    'jill': {'age': 23, 'eye_color': 'blue'},\r\n",
    "    'eric': {'age': 35},\r\n",
    "    'michael': {'age': 27},\r\n",
    "}\r\n",
    "\r\n",
    "eye_colors = defaultdict(list)\r\n",
    "for person, details in persons.items():\r\n",
    "    color = details.get('eye_color', 'unknown')\r\n",
    "    eye_colors[color].append(person)\r\n",
    "    \r\n",
    "eye_colors"
   ],
   "outputs": [
    {
     "output_type": "execute_result",
     "data": {
      "text/plain": [
       "defaultdict(list,\n",
       "            {'blue': ['john', 'jill'],\n",
       "             'brown': ['jack'],\n",
       "             'unknown': ['eric', 'michael']})"
      ]
     },
     "metadata": {},
     "execution_count": 8
    }
   ],
   "metadata": {}
  },
  {
   "cell_type": "code",
   "execution_count": 9,
   "source": [
    "persons = {\r\n",
    "    'john': defaultdict(lambda: 'uknown', age=20, eye_color='blue'),\r\n",
    "    'jack': defaultdict(lambda: 'uknown', age=25, eye_color='brown'),\r\n",
    "    'jill': defaultdict(lambda: 'uknown', age=22, eye_color='blue'),\r\n",
    "    'eric': defaultdict(lambda: 'uknown', age=22),\r\n",
    "    'michael': defaultdict(lambda: 'uknown', age=27),\r\n",
    "}\r\n",
    "\r\n",
    "eye_colors = defaultdict(list)\r\n",
    "for person, details in persons.items():\r\n",
    "    eye_colors[details['eye_color']].append(person)\r\n",
    "    \r\n",
    "eye_colors"
   ],
   "outputs": [
    {
     "output_type": "execute_result",
     "data": {
      "text/plain": [
       "defaultdict(list,\n",
       "            {'blue': ['john', 'jill'],\n",
       "             'brown': ['jack'],\n",
       "             'uknown': ['eric', 'michael']})"
      ]
     },
     "metadata": {},
     "execution_count": 9
    }
   ],
   "metadata": {}
  },
  {
   "cell_type": "code",
   "execution_count": 10,
   "source": [
    "from functools import partial\r\n",
    "\r\n",
    "eyedict = partial(defaultdict, lambda: 'unknown')\r\n",
    "\r\n",
    "persons = {\r\n",
    "    'john': eyedict(age=20, eye_color='blue'),\r\n",
    "    'jack': eyedict(age=25, eye_color='brown'),\r\n",
    "    'jill': eyedict(age=22, eye_color='blue'),\r\n",
    "    'eric': eyedict(age=22),\r\n",
    "    'michael': eyedict(age=27),\r\n",
    "}\r\n",
    "# eyedict = lambda *args, **kwargs: defaultdict(lambda: 'unknown', *args, **kwargs)\r\n",
    "\r\n",
    "eye_colors = defaultdict(list)\r\n",
    "for person, details in persons.items():\r\n",
    "    eye_colors[details['eye_color']].append(person)\r\n",
    "    \r\n",
    "eye_colors\r\n"
   ],
   "outputs": [
    {
     "output_type": "execute_result",
     "data": {
      "text/plain": [
       "defaultdict(list,\n",
       "            {'blue': ['john', 'jill'],\n",
       "             'brown': ['jack'],\n",
       "             'unknown': ['eric', 'michael']})"
      ]
     },
     "metadata": {},
     "execution_count": 10
    }
   ],
   "metadata": {}
  },
  {
   "cell_type": "markdown",
   "source": [
    "### Same as above, except for the \"eyedict\"-variable"
   ],
   "metadata": {}
  },
  {
   "cell_type": "code",
   "execution_count": 11,
   "source": [
    "from functools import partial\r\n",
    "\r\n",
    "eyedict = lambda *args, **kwargs: defaultdict(lambda: 'unknown', *args, **kwargs)\r\n",
    "\r\n",
    "persons = {\r\n",
    "    'john': eyedict(age=20, eye_color='blue'),\r\n",
    "    'jack': eyedict(age=25, eye_color='brown'),\r\n",
    "    'jill': eyedict(age=22, eye_color='blue'),\r\n",
    "    'eric': eyedict(age=22),\r\n",
    "    'michael': eyedict(age=27),\r\n",
    "}\r\n",
    "\r\n",
    "eye_colors = defaultdict(list)\r\n",
    "for person, details in persons.items():\r\n",
    "    eye_colors[details['eye_color']].append(person)\r\n",
    "    \r\n",
    "eye_colors"
   ],
   "outputs": [
    {
     "output_type": "execute_result",
     "data": {
      "text/plain": [
       "defaultdict(list,\n",
       "            {'blue': ['john', 'jill'],\n",
       "             'brown': ['jack'],\n",
       "             'unknown': ['eric', 'michael']})"
      ]
     },
     "metadata": {},
     "execution_count": 11
    }
   ],
   "metadata": {}
  },
  {
   "cell_type": "code",
   "execution_count": 14,
   "source": [
    "from collections import defaultdict, namedtuple\r\n",
    "from datetime import datetime\r\n",
    "from functools import wraps\r\n",
    "\r\n",
    "def function_stats():\r\n",
    "    d = defaultdict(lambda: {'count': 0, 'first_called': datetime.utcnow()})\r\n",
    "    Stats = namedtuple('Stats', 'decorator data')\r\n",
    "    \r\n",
    "    def decorator(fn):\r\n",
    "        @wraps(fn)\r\n",
    "        def wrapper(*args, **kwargs):\r\n",
    "            d[fn.__name__]['count'] += 1\r\n",
    "            return fn(*args, **kwargs)\r\n",
    "        return wrapper\r\n",
    "    \r\n",
    "    return Stats(decorator, d)\r\n",
    "\r\n",
    "\r\n",
    "stats = function_stats()\r\n",
    "\r\n",
    "@stats.decorator\r\n",
    "def func_1(a, b):\r\n",
    "    return a + b\r\n",
    "\r\n",
    "answer = func_1(5, 10)\r\n",
    "print('answer: ', answer)\r\n",
    "stats.data"
   ],
   "outputs": [
    {
     "output_type": "stream",
     "name": "stdout",
     "text": [
      "answer:  15\n"
     ]
    },
    {
     "output_type": "execute_result",
     "data": {
      "text/plain": [
       "defaultdict(<function __main__.function_stats.<locals>.<lambda>()>,\n",
       "            {'func_1': {'count': 1,\n",
       "              'first_called': datetime.datetime(2021, 8, 27, 7, 46, 12, 639135)}})"
      ]
     },
     "metadata": {},
     "execution_count": 14
    }
   ],
   "metadata": {}
  }
 ],
 "metadata": {
  "orig_nbformat": 4,
  "language_info": {
   "name": "python",
   "version": "3.9.5",
   "mimetype": "text/x-python",
   "codemirror_mode": {
    "name": "ipython",
    "version": 3
   },
   "pygments_lexer": "ipython3",
   "nbconvert_exporter": "python",
   "file_extension": ".py"
  },
  "kernelspec": {
   "name": "python3",
   "display_name": "Python 3.9.5 64-bit ('spenncon': conda)"
  },
  "interpreter": {
   "hash": "05d659cf7217a31b7ba206b7e3fe1d98040361cb242cc44ce7c59206cfd427bc"
  }
 },
 "nbformat": 4,
 "nbformat_minor": 2
}