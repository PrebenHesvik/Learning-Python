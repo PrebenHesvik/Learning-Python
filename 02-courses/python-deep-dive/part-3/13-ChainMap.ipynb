{
 "cells": [
  {
   "cell_type": "markdown",
   "source": [
    "# ChainMap"
   ],
   "metadata": {}
  },
  {
   "cell_type": "code",
   "execution_count": 1,
   "source": [
    "from collections import ChainMap"
   ],
   "outputs": [],
   "metadata": {}
  },
  {
   "cell_type": "code",
   "execution_count": 2,
   "source": [
    "d1 = dict(a=1, b=2)\r\n",
    "d2 = dict(c=3, d=4)\r\n",
    "d3 = dict(e=5, f=6)\r\n",
    "\r\n",
    "d = ChainMap(d1, d2, d3)\r\n",
    "d"
   ],
   "outputs": [
    {
     "output_type": "execute_result",
     "data": {
      "text/plain": [
       "ChainMap({'a': 1, 'b': 2}, {'c': 3, 'd': 4}, {'e': 5, 'f': 6})"
      ]
     },
     "metadata": {},
     "execution_count": 2
    }
   ],
   "metadata": {}
  },
  {
   "cell_type": "markdown",
   "source": [
    "## ChainMap is not a subclass to dictionary"
   ],
   "metadata": {}
  },
  {
   "cell_type": "code",
   "execution_count": 3,
   "source": [
    "d1 = dict(a=1, b=2)\r\n",
    "d2 = dict(c=3, d=4)\r\n",
    "d3 = dict(e=5, f=6)\r\n",
    "d = ChainMap(d1, d2, d3)\r\n",
    "isinstance(d, dict)"
   ],
   "outputs": [
    {
     "output_type": "execute_result",
     "data": {
      "text/plain": [
       "False"
      ]
     },
     "metadata": {},
     "execution_count": 3
    }
   ],
   "metadata": {}
  },
  {
   "cell_type": "markdown",
   "source": [
    "## We can look up individual keys"
   ],
   "metadata": {}
  },
  {
   "cell_type": "code",
   "execution_count": 4,
   "source": [
    "d1 = dict(a=1, b=2)\r\n",
    "d2 = dict(c=3, d=4)\r\n",
    "d3 = dict(e=5, f=6)\r\n",
    "d = ChainMap(d1, d2, d3)\r\n",
    "\r\n",
    "print(d['a'])\r\n",
    "print(d['e'])"
   ],
   "outputs": [
    {
     "output_type": "stream",
     "name": "stdout",
     "text": [
      "1\n",
      "5\n"
     ]
    }
   ],
   "metadata": {}
  },
  {
   "cell_type": "markdown",
   "source": [
    "## We can iterate over the keys and the values"
   ],
   "metadata": {}
  },
  {
   "cell_type": "code",
   "execution_count": 5,
   "source": [
    "d1 = dict(a=1, b=2)\r\n",
    "d2 = dict(c=3, d=4)\r\n",
    "d3 = dict(e=5, f=6)\r\n",
    "d = ChainMap(d1, d2, d3)\r\n",
    "\r\n",
    "for k, v in d.items():\r\n",
    "    print(k, v)"
   ],
   "outputs": [
    {
     "output_type": "stream",
     "name": "stdout",
     "text": [
      "e 5\n",
      "f 6\n",
      "c 3\n",
      "d 4\n",
      "a 1\n",
      "b 2\n"
     ]
    }
   ],
   "metadata": {}
  },
  {
   "cell_type": "markdown",
   "source": [
    "## ChainMap with colliding keys"
   ],
   "metadata": {}
  },
  {
   "cell_type": "code",
   "execution_count": 8,
   "source": [
    "d1 = dict(a=1, b=2)\r\n",
    "d2 = dict(b=20, d=3)\r\n",
    "d3 = dict(e=30, f=4)\r\n",
    "\r\n",
    "d_dict = {**d1, **d2, **d3}\r\n",
    "print('In a regular dict the last added dicts overrides the first ones')\r\n",
    "print(d_dict, end='\\n\\n')\r\n",
    "\r\n",
    "\r\n",
    "d_chain = ChainMap(d1, d2, d3)\r\n",
    "print(d_chain, end='\\n\\n')\r\n",
    "\r\n",
    "print('Looping over the ChainMap:')\r\n",
    "for k, v in d_chain.items():\r\n",
    "    print(k, v)\r\n"
   ],
   "outputs": [
    {
     "output_type": "stream",
     "name": "stdout",
     "text": [
      "In a regular dict the last added dicts overrides the first ones\n",
      "{'a': 1, 'b': 20, 'd': 3, 'e': 30, 'f': 4}\n",
      "\n",
      "ChainMap({'a': 1, 'b': 2}, {'b': 20, 'd': 3}, {'e': 30, 'f': 4})\n",
      "\n",
      "Looping over the ChainMap:\n",
      "e 30\n",
      "f 4\n",
      "b 2\n",
      "d 3\n",
      "a 1\n"
     ]
    }
   ],
   "metadata": {}
  },
  {
   "cell_type": "markdown",
   "source": [
    "## Adding key-value pairs"
   ],
   "metadata": {}
  },
  {
   "cell_type": "code",
   "execution_count": 12,
   "source": [
    "d1 = dict(a=1, b=2)\r\n",
    "d2 = dict(c=3, d=4)\r\n",
    "d3 = dict(e=5, f=6)\r\n",
    "d = ChainMap(d1, d2, d3)\r\n",
    "\r\n",
    "d['z'] = 100\r\n",
    "\r\n",
    "print('ChainMap: ')\r\n",
    "print(d, '\\n')\r\n",
    "\r\n",
    "print('d1 dict: The new key-value pair actually mutated the d1 dict')\r\n",
    "print(d1)"
   ],
   "outputs": [
    {
     "output_type": "stream",
     "name": "stdout",
     "text": [
      "ChainMap: \n",
      "ChainMap({'a': 1, 'b': 2, 'z': 100}, {'c': 3, 'd': 4}, {'e': 5, 'f': 6}) \n",
      "\n",
      "d1 dict: The new key-value pair actually mutated the d1 dict\n",
      "{'a': 1, 'b': 2, 'z': 100}\n"
     ]
    }
   ],
   "metadata": {}
  },
  {
   "cell_type": "code",
   "execution_count": 14,
   "source": [
    "d1 = dict(a=1, b=2)\r\n",
    "d2 = dict(c=3, d=4)\r\n",
    "d3 = dict(e=5, f=6)\r\n",
    "d = ChainMap(d1, d2, d3)\r\n",
    "\r\n",
    "d['c'] = 300\r\n",
    "\r\n",
    "print('ChainMap: ')\r\n",
    "print(d, '\\n')\r\n",
    "\r\n",
    "print('d1 dict: The new key-value pair actually mutated the d1 dict even though the key was present in dict d2')\r\n",
    "print(d1)"
   ],
   "outputs": [
    {
     "output_type": "stream",
     "name": "stdout",
     "text": [
      "ChainMap: \n",
      "ChainMap({'a': 1, 'b': 2, 'c': 300}, {'c': 3, 'd': 4}, {'e': 5, 'f': 6}) \n",
      "\n",
      "d1 dict: The new key-value pair actually mutated the d1 dict even though the key was present in dict d2\n",
      "{'a': 1, 'b': 2, 'c': 300}\n"
     ]
    }
   ],
   "metadata": {}
  },
  {
   "cell_type": "markdown",
   "source": [
    "## Deleting a key-value pair"
   ],
   "metadata": {}
  },
  {
   "cell_type": "code",
   "execution_count": 18,
   "source": [
    "d1 = dict(a=1, b=2)\r\n",
    "d2 = dict(c=3, d=4)\r\n",
    "d3 = dict(e=5, f=6)\r\n",
    "d = ChainMap(d1, d2, d3)\r\n",
    "\r\n",
    "try:\r\n",
    "    del d['e']\r\n",
    "except Exception as ex:\r\n",
    "    print('We cannot delete a key-value pair that is not present in the first dict.')\r\n",
    "    print('In this case \"e\" is actually found in the third dict.')\r\n",
    "    print('Error: ', ex)"
   ],
   "outputs": [
    {
     "output_type": "stream",
     "name": "stdout",
     "text": [
      "We cannot delete a key-value pair that is not present in the first dict.\n",
      "In this case \"e\" is actually found in the third dict.\n",
      "Error:  \"Key not found in the first mapping: 'e'\"\n"
     ]
    }
   ],
   "metadata": {}
  },
  {
   "cell_type": "markdown",
   "source": [
    "## Updating a dict also modifies the ChainMap"
   ],
   "metadata": {}
  },
  {
   "cell_type": "code",
   "execution_count": 21,
   "source": [
    "d1 = dict(a=1, b=2)\r\n",
    "d2 = dict(c=3, d=4)\r\n",
    "d3 = dict(e=5, f=6)\r\n",
    "d = ChainMap(d1, d2, d3)\r\n",
    "\r\n",
    "d1['a'] = 100\r\n",
    "d3['x'] = 300\r\n",
    "\r\n",
    "print('ChainMap key \"a\" is now: ', d['a'])\r\n",
    "print('ChainMap key \"x\" is now: ', d['x'])\r\n",
    "print(d)"
   ],
   "outputs": [
    {
     "output_type": "stream",
     "name": "stdout",
     "text": [
      "ChainMap key \"a\" is now:  100\n",
      "ChainMap key \"x\" is now:  300\n",
      "ChainMap({'a': 100, 'b': 2}, {'c': 3, 'd': 4}, {'e': 5, 'f': 6, 'x': 300})\n"
     ]
    }
   ],
   "metadata": {}
  },
  {
   "cell_type": "markdown",
   "source": [
    "## Ordering of the ChainMap matters"
   ],
   "metadata": {}
  },
  {
   "cell_type": "code",
   "execution_count": 27,
   "source": [
    "d1 = dict(a=1, b=2)\r\n",
    "d2 = dict(c=3, d=4)\r\n",
    "cm_1 = ChainMap(d1, d2)\r\n",
    "\r\n",
    "d3 = dict(d=400, e=6)\r\n",
    "cm_2= ChainMap(cm_1, d3)\r\n",
    "print('Order is important. ')\r\n",
    "print(cm_2)\r\n",
    "print('key \"d\" =', cm_2['d'], end='\\n\\n')\r\n",
    "print('Is very different from: ')\r\n",
    "\r\n",
    "cm_2= ChainMap(d3, cm_1)\r\n",
    "print(cm_2)\r\n",
    "print('key \"d\" =', cm_2['d'], end='\\n\\n')"
   ],
   "outputs": [
    {
     "output_type": "stream",
     "name": "stdout",
     "text": [
      "Order is important. \n",
      "ChainMap(ChainMap({'a': 1, 'b': 2}, {'c': 3, 'd': 4}), {'d': 400, 'e': 6})\n",
      "key \"d\" = 4\n",
      "\n",
      "Is very different from: \n",
      "ChainMap({'d': 400, 'e': 6}, ChainMap({'a': 1, 'b': 2}, {'c': 3, 'd': 4}))\n",
      "key \"d\" = 400\n",
      "\n"
     ]
    }
   ],
   "metadata": {}
  },
  {
   "cell_type": "markdown",
   "source": [
    "## New child method"
   ],
   "metadata": {}
  },
  {
   "cell_type": "code",
   "execution_count": 30,
   "source": [
    "d1 = dict(a=1, b=2)\r\n",
    "d2 = dict(c=3, d=4)\r\n",
    "cm = ChainMap(d1, d2)\r\n",
    "\r\n",
    "d3 = dict(d=400, e=6)\r\n",
    "cm.new_child(d3)"
   ],
   "outputs": [
    {
     "output_type": "execute_result",
     "data": {
      "text/plain": [
       "ChainMap({'d': 400, 'e': 6}, {'a': 1, 'b': 2}, {'c': 3, 'd': 4})"
      ]
     },
     "metadata": {},
     "execution_count": 30
    }
   ],
   "metadata": {}
  },
  {
   "cell_type": "markdown",
   "source": [
    "## Parents"
   ],
   "metadata": {}
  },
  {
   "cell_type": "code",
   "execution_count": 35,
   "source": [
    "d1 = dict(a=1, b=2)\r\n",
    "d2 = dict(c=3, d=4)\r\n",
    "cm = ChainMap(d1, d2)\r\n",
    "print(cm)\r\n",
    "print('Parents: ', cm.parents)\r\n",
    "\r\n",
    "d3 = dict(d=400, e=6)\r\n",
    "cm = cm.new_child(d3)\r\n",
    "print(cm)\r\n",
    "print('Parents: ', cm.parents)"
   ],
   "outputs": [
    {
     "output_type": "stream",
     "name": "stdout",
     "text": [
      "ChainMap({'a': 1, 'b': 2}, {'c': 3, 'd': 4})\n",
      "Parents:  ChainMap({'c': 3, 'd': 4})\n",
      "ChainMap({'d': 400, 'e': 6}, {'a': 1, 'b': 2}, {'c': 3, 'd': 4})\n",
      "Parents:  ChainMap({'a': 1, 'b': 2}, {'c': 3, 'd': 4})\n"
     ]
    }
   ],
   "metadata": {}
  },
  {
   "cell_type": "markdown",
   "source": [
    "## Maps"
   ],
   "metadata": {}
  },
  {
   "cell_type": "code",
   "execution_count": 36,
   "source": [
    "d1 = dict(a=1, b=2)\r\n",
    "d2 = dict(c=3, d=4)\r\n",
    "cm = ChainMap(d1, d2)\r\n",
    "print(cm.maps)"
   ],
   "outputs": [
    {
     "output_type": "stream",
     "name": "stdout",
     "text": [
      "[{'a': 1, 'b': 2}, {'c': 3, 'd': 4}]\n"
     ]
    }
   ],
   "metadata": {}
  },
  {
   "cell_type": "markdown",
   "source": [
    "## Append"
   ],
   "metadata": {}
  },
  {
   "cell_type": "code",
   "execution_count": 43,
   "source": [
    "d1 = dict(a=1, b=2)\r\n",
    "d2 = dict(c=3, d=4)\r\n",
    "cm = ChainMap(d1, d2)\r\n",
    "\r\n",
    "d3 = dict(d=400, f=6)\r\n",
    "cm.maps.append(d3)\r\n",
    "\r\n",
    "print(cm, '\\n')\r\n",
    "print('The last dict is appended as a parent')\r\n",
    "print('cm[d]: ', cm['d'])\r\n",
    "print('Parents: ', cm.parents)"
   ],
   "outputs": [
    {
     "output_type": "stream",
     "name": "stdout",
     "text": [
      "ChainMap({'a': 1, 'b': 2}, {'c': 3, 'd': 4}, {'d': 400, 'f': 6}) \n",
      "\n",
      "The last dict is appended as a parent\n",
      "cm[d]:  4\n",
      "Parents:  ChainMap({'c': 3, 'd': 4}, {'d': 400, 'f': 6})\n"
     ]
    }
   ],
   "metadata": {}
  },
  {
   "cell_type": "markdown",
   "source": [
    "## Deleting a dict using the maps method"
   ],
   "metadata": {}
  },
  {
   "cell_type": "code",
   "execution_count": 47,
   "source": [
    "d1 = dict(a=1, b=2)\r\n",
    "d2 = dict(c=3, d=4)\r\n",
    "d3 = dict(e=5, f=6)\r\n",
    "\r\n",
    "cm = ChainMap(d1, d2, d3)\r\n",
    "\r\n",
    "del cm.maps[0]\r\n",
    "\r\n",
    "print(cm)\r\n",
    "\r\n",
    "print('But dict \"d1\" does not get deleted: ', d1)\r\n",
    "\r\n"
   ],
   "outputs": [
    {
     "output_type": "stream",
     "name": "stdout",
     "text": [
      "ChainMap({'c': 3, 'd': 4}, {'e': 5, 'f': 6})\n",
      "But dict \"d1\" does not get deleted:  {'a': 1, 'b': 2}\n"
     ]
    }
   ],
   "metadata": {}
  },
  {
   "cell_type": "markdown",
   "source": [
    "## A Practical example"
   ],
   "metadata": {}
  },
  {
   "cell_type": "code",
   "execution_count": 48,
   "source": [
    "config = {\r\n",
    "    'host': 'prod.deepdive.com',\r\n",
    "    'port': 5432,\r\n",
    "    'database': 'deepdive',\r\n",
    "    'user_id': '$pg_user',\r\n",
    "    'user_pwd': '$pg_pwd'\r\n",
    "}\r\n",
    "\r\n",
    "local_config = ChainMap({}, config)\r\n",
    "list(local_config.items())"
   ],
   "outputs": [
    {
     "output_type": "execute_result",
     "data": {
      "text/plain": [
       "[('host', 'prod.deepdive.com'),\n",
       " ('port', 5432),\n",
       " ('database', 'deepdive'),\n",
       " ('user_id', '$pg_user'),\n",
       " ('user_pwd', '$pg_pwd')]"
      ]
     },
     "metadata": {},
     "execution_count": 48
    }
   ],
   "metadata": {}
  },
  {
   "cell_type": "code",
   "execution_count": 49,
   "source": [
    "local_config['user_id'] = 'test'\r\n",
    "local_config['user_pwd'] = 'test'"
   ],
   "outputs": [],
   "metadata": {}
  },
  {
   "cell_type": "code",
   "execution_count": 50,
   "source": [
    "list(local_config.items())"
   ],
   "outputs": [
    {
     "output_type": "execute_result",
     "data": {
      "text/plain": [
       "[('host', 'prod.deepdive.com'),\n",
       " ('port', 5432),\n",
       " ('database', 'deepdive'),\n",
       " ('user_id', 'test'),\n",
       " ('user_pwd', 'test')]"
      ]
     },
     "metadata": {},
     "execution_count": 50
    }
   ],
   "metadata": {}
  },
  {
   "cell_type": "markdown",
   "source": [
    "### But our config dict is still the same"
   ],
   "metadata": {}
  },
  {
   "cell_type": "code",
   "execution_count": 51,
   "source": [
    "list(config.items())"
   ],
   "outputs": [
    {
     "output_type": "execute_result",
     "data": {
      "text/plain": [
       "[('host', 'prod.deepdive.com'),\n",
       " ('port', 5432),\n",
       " ('database', 'deepdive'),\n",
       " ('user_id', '$pg_user'),\n",
       " ('user_pwd', '$pg_pwd')]"
      ]
     },
     "metadata": {},
     "execution_count": 51
    }
   ],
   "metadata": {}
  },
  {
   "cell_type": "markdown",
   "source": [
    "### Our local config was just added to the beginning of the ChainMap"
   ],
   "metadata": {}
  },
  {
   "cell_type": "code",
   "execution_count": 52,
   "source": [
    "local_config.maps"
   ],
   "outputs": [
    {
     "output_type": "execute_result",
     "data": {
      "text/plain": [
       "[{'user_id': 'test', 'user_pwd': 'test'},\n",
       " {'host': 'prod.deepdive.com',\n",
       "  'port': 5432,\n",
       "  'database': 'deepdive',\n",
       "  'user_id': '$pg_user',\n",
       "  'user_pwd': '$pg_pwd'}]"
      ]
     },
     "metadata": {},
     "execution_count": 52
    }
   ],
   "metadata": {}
  }
 ],
 "metadata": {
  "orig_nbformat": 4,
  "language_info": {
   "name": "python",
   "version": "3.9.5",
   "mimetype": "text/x-python",
   "codemirror_mode": {
    "name": "ipython",
    "version": 3
   },
   "pygments_lexer": "ipython3",
   "nbconvert_exporter": "python",
   "file_extension": ".py"
  },
  "kernelspec": {
   "name": "python3",
   "display_name": "Python 3.9.5 64-bit ('spenncon': conda)"
  },
  "interpreter": {
   "hash": "05d659cf7217a31b7ba206b7e3fe1d98040361cb242cc44ce7c59206cfd427bc"
  }
 },
 "nbformat": 4,
 "nbformat_minor": 2
}