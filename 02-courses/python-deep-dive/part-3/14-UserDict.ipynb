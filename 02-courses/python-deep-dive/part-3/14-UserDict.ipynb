{
 "cells": [
  {
   "cell_type": "code",
   "execution_count": 4,
   "source": [
    "from collections import UserDict\r\n",
    "from numbers import Real"
   ],
   "outputs": [],
   "metadata": {}
  },
  {
   "cell_type": "code",
   "execution_count": 6,
   "source": [
    "class IntDict(UserDict):\r\n",
    "    def __setitem__(self, key, value):\r\n",
    "        if not isinstance(value, Real):\r\n",
    "            raise ValueError('Value must be a real number.')\r\n",
    "        super().__setitem__(key, value)\r\n",
    "        \r\n",
    "    def __getitem__(self, key):\r\n",
    "        return int(super().__getitem__(key))\r\n",
    "    \r\n",
    "d1 = IntDict({'a': 1.1, 'b': 2.2, 'c': 3.3})\r\n",
    "print(d1['a'], d1['b'], d1['c'])\r\n",
    "print(d1.get('a'))"
   ],
   "outputs": [
    {
     "output_type": "stream",
     "name": "stdout",
     "text": [
      "1 2 3\n",
      "1\n"
     ]
    }
   ],
   "metadata": {}
  },
  {
   "cell_type": "code",
   "execution_count": 8,
   "source": [
    "class LimitedDict(UserDict):\r\n",
    "    def __init__(self, keyset, min_value, max_value, *args, **kwargs):\r\n",
    "        self._keyset = keyset\r\n",
    "        self._min_value = min_value\r\n",
    "        self._max_value = max_value\r\n",
    "        super().__init__(*args, **kwargs)\r\n",
    "        \r\n",
    "    def __setitem__(self, key, value):\r\n",
    "        if key not in self._keyset:\r\n",
    "            raise KeyError('Invalid key name.')\r\n",
    "        if not isinstance(value, int):\r\n",
    "            raise ValueError('Value must be an integer type.')\r\n",
    "        if value < self._min_value or value > self._max_value:\r\n",
    "            raise ValueError(f'Value must be between {self._min_value} and {self._max_value}')\r\n",
    "        super().__setitem__(key, value)\r\n",
    "        \r\n",
    "d = LimitedDict({'red', 'green', 'blue'}, 0, 255, red=10, green=10, blue=10)\r\n",
    "print(d, end='\\n\\n')\r\n",
    "\r\n",
    "try:\r\n",
    "    d['purple'] = 100\r\n",
    "except Exception as e:\r\n",
    "    print('If we try to set a non-approved key we get the following error')\r\n",
    "    print(e, end='\\n\\n')\r\n",
    "    \r\n",
    "try:\r\n",
    "    d['red'] = 300\r\n",
    "except Exception as e:\r\n",
    "    print('If we try to set a non-approved value we get the following error')\r\n",
    "    print(e)"
   ],
   "outputs": [
    {
     "output_type": "stream",
     "name": "stdout",
     "text": [
      "{'red': 10, 'green': 10, 'blue': 10}\n",
      "\n",
      "If we try to set a non-approved key we get the following error\n",
      "'Invalid key name.'\n",
      "\n",
      "If we try to set a non-approved value we get the following error\n",
      "Value must be between 0 and 255\n"
     ]
    }
   ],
   "metadata": {}
  }
 ],
 "metadata": {
  "orig_nbformat": 4,
  "language_info": {
   "name": "python",
   "version": "3.9.5",
   "mimetype": "text/x-python",
   "codemirror_mode": {
    "name": "ipython",
    "version": 3
   },
   "pygments_lexer": "ipython3",
   "nbconvert_exporter": "python",
   "file_extension": ".py"
  },
  "kernelspec": {
   "name": "python3",
   "display_name": "Python 3.9.5 64-bit ('spenncon': conda)"
  },
  "interpreter": {
   "hash": "05d659cf7217a31b7ba206b7e3fe1d98040361cb242cc44ce7c59206cfd427bc"
  }
 },
 "nbformat": 4,
 "nbformat_minor": 2
}