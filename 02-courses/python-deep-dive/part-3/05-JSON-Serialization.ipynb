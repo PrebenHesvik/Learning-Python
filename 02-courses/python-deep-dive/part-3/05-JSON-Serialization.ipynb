{
 "cells": [
  {
   "cell_type": "markdown",
   "source": [
    "### JSON (JavaScript Object Notation)\r\n",
    "- text-based object serialization\r\n",
    "- open standard\r\n",
    "- human-readable\r\n",
    "- Limited data-types\r\n",
    "    * strings -- > \"python\"\r\n",
    "    * numbers -- > 100  3.14 (all treated as floats)\r\n",
    "    * booleans --> true, false\r\n",
    "    * arrays (lists)\r\n",
    "    * dcitionaries\r\n",
    "    * empty value -- > null"
   ],
   "metadata": {}
  },
  {
   "cell_type": "code",
   "execution_count": 1,
   "source": [
    "import json"
   ],
   "outputs": [],
   "metadata": {}
  },
  {
   "cell_type": "code",
   "execution_count": 2,
   "source": [
    "d1 = {'a': 100, 'b': 200}\r\n",
    "d1_json = json.dumps(d1)\r\n",
    "d1_json"
   ],
   "outputs": [
    {
     "output_type": "execute_result",
     "data": {
      "text/plain": [
       "'{\"a\": 100, \"b\": 200}'"
      ]
     },
     "metadata": {},
     "execution_count": 2
    }
   ],
   "metadata": {}
  },
  {
   "cell_type": "code",
   "execution_count": 3,
   "source": [
    "d1 = {'a': 100, 'b': 200}\r\n",
    "print(json.dumps(d1, indent=2))"
   ],
   "outputs": [
    {
     "output_type": "stream",
     "name": "stdout",
     "text": [
      "{\n",
      "  \"a\": 100,\n",
      "  \"b\": 200\n",
      "}\n"
     ]
    }
   ],
   "metadata": {}
  },
  {
   "cell_type": "markdown",
   "source": [
    "Notice how json.dumps turns the integer keys into string keys"
   ],
   "metadata": {}
  },
  {
   "cell_type": "code",
   "execution_count": 4,
   "source": [
    "d1 = {1: 100, 2: 200}\r\n",
    "d1_json = json.dumps(d1)\r\n",
    "d1_json"
   ],
   "outputs": [
    {
     "output_type": "execute_result",
     "data": {
      "text/plain": [
       "'{\"1\": 100, \"2\": 200}'"
      ]
     },
     "metadata": {},
     "execution_count": 4
    }
   ],
   "metadata": {}
  },
  {
   "cell_type": "markdown",
   "source": [
    "If we use json.loads the object that is returned is no longer equal to the object we serialized"
   ],
   "metadata": {}
  },
  {
   "cell_type": "code",
   "execution_count": 5,
   "source": [
    "d2 = json.loads(d1_json)\r\n",
    "d1 == d2"
   ],
   "outputs": [
    {
     "output_type": "execute_result",
     "data": {
      "text/plain": [
       "False"
      ]
     },
     "metadata": {},
     "execution_count": 5
    }
   ],
   "metadata": {}
  },
  {
   "cell_type": "code",
   "execution_count": 9,
   "source": [
    "d_json = '''\r\n",
    "{\r\n",
    "    \"name\": \"John Cleese\",\r\n",
    "    \"age\": 82,\r\n",
    "    \"height\": 1.96,\r\n",
    "    \"walksFunny\": true,\r\n",
    "    \"sketches\": [\r\n",
    "        {\r\n",
    "            \"title\": \"Dead Parrot\",\r\n",
    "            \"costars\": [\"Michael Palin\"]\r\n",
    "        }\r\n",
    "    ],\r\n",
    "    \"boring\": null\r\n",
    "}\r\n",
    "'''\r\n",
    "\r\n",
    "d = json.loads(d_json)\r\n",
    "d"
   ],
   "outputs": [
    {
     "output_type": "execute_result",
     "data": {
      "text/plain": [
       "{'name': 'John Cleese',\n",
       " 'age': 82,\n",
       " 'height': 1.96,\n",
       " 'walksFunny': True,\n",
       " 'sketches': [{'title': 'Dead Parrot', 'costars': ['Michael Palin']}],\n",
       " 'boring': None}"
      ]
     },
     "metadata": {},
     "execution_count": 9
    }
   ],
   "metadata": {}
  },
  {
   "cell_type": "markdown",
   "source": [
    "### Serializing a tuple will turn it into a list"
   ],
   "metadata": {}
  },
  {
   "cell_type": "code",
   "execution_count": 10,
   "source": [
    "d = {'a': (1, 2, 3)}\r\n",
    "json.dumps(d)"
   ],
   "outputs": [
    {
     "output_type": "execute_result",
     "data": {
      "text/plain": [
       "'{\"a\": [1, 2, 3]}'"
      ]
     },
     "metadata": {},
     "execution_count": 10
    }
   ],
   "metadata": {}
  },
  {
   "cell_type": "markdown",
   "source": [
    "### Serializing an object (sort of)"
   ],
   "metadata": {}
  },
  {
   "cell_type": "code",
   "execution_count": 11,
   "source": [
    "class Person:\r\n",
    "    def __init__(self, name, age):\r\n",
    "        self.name = name\r\n",
    "        self.age = age\r\n",
    "    \r\n",
    "    def  __repr__(self):\r\n",
    "        return f'Person(name={self.name}, age={self.age})'\r\n",
    "    \r\n",
    "    def toJSON(self):\r\n",
    "        return dict(name=self.name, age=self.age)\r\n",
    "    \r\n",
    "p = Person('John', 82)\r\n",
    "json.dumps(p.toJSON())"
   ],
   "outputs": [
    {
     "output_type": "execute_result",
     "data": {
      "text/plain": [
       "'{\"name\": \"John\", \"age\": 82}'"
      ]
     },
     "metadata": {},
     "execution_count": 11
    }
   ],
   "metadata": {}
  },
  {
   "cell_type": "code",
   "execution_count": 12,
   "source": [
    "json.dumps(repr(p))"
   ],
   "outputs": [
    {
     "output_type": "execute_result",
     "data": {
      "text/plain": [
       "'\"Person(name=John, age=82)\"'"
      ]
     },
     "metadata": {},
     "execution_count": 12
    }
   ],
   "metadata": {}
  },
  {
   "cell_type": "markdown",
   "source": [
    "# Custom JSON Encoding"
   ],
   "metadata": {}
  },
  {
   "cell_type": "code",
   "execution_count": 14,
   "source": [],
   "outputs": [],
   "metadata": {}
  },
  {
   "cell_type": "code",
   "execution_count": 20,
   "source": [
    "from datetime import datetime as dt\r\n",
    "\r\n",
    "def format_iso(dt):\r\n",
    "    return dt.strftime('%Y-%m-%dT%H:%M:%S')\r\n",
    "\r\n",
    "current = dt.utcnow()\r\n",
    "log_record = {'time': format_iso(current), 'message': 'testing'}\r\n",
    "json.dumps(log_record)"
   ],
   "outputs": [
    {
     "output_type": "execute_result",
     "data": {
      "text/plain": [
       "'{\"time\": \"2021-08-19T10:33:54\", \"message\": \"testing\"}'"
      ]
     },
     "metadata": {},
     "execution_count": 20
    }
   ],
   "metadata": {}
  },
  {
   "cell_type": "markdown",
   "source": [
    "The above works, but is not ideal"
   ],
   "metadata": {}
  },
  {
   "cell_type": "code",
   "execution_count": 22,
   "source": [
    "def format_iso(dt):\r\n",
    "    return dt.strftime('%Y-%m-%dT%H:%M:%S')\r\n",
    "\r\n",
    "log_record = {'time': dt.utcnow(), 'message': 'testing'}\r\n",
    "json.dumps(log_record, default=format_iso)"
   ],
   "outputs": [
    {
     "output_type": "execute_result",
     "data": {
      "text/plain": [
       "'{\"time\": \"2021-08-19T10:36:57\", \"message\": \"testing\"}'"
      ]
     },
     "metadata": {},
     "execution_count": 22
    }
   ],
   "metadata": {}
  },
  {
   "cell_type": "code",
   "execution_count": 38,
   "source": [
    "def custom_json_formatter(arg):\r\n",
    "    if isinstance(arg, dt):\r\n",
    "        return arg.strftime('%Y-%m-%dT%H:%M:%S')\r\n",
    "    elif isinstance(arg, set):\r\n",
    "        return list(arg)\r\n",
    "\r\n",
    "log_record = {\r\n",
    "    'time': dt.utcnow(), \r\n",
    "    'message': 'testing',\r\n",
    "    'args': {10, \"test\"},\r\n",
    "}\r\n",
    "\r\n",
    "json.dumps(log_record, default=custom_json_formatter)"
   ],
   "outputs": [
    {
     "output_type": "execute_result",
     "data": {
      "text/plain": [
       "'{\"time\": \"2021-08-19T10:51:06\", \"message\": \"testing\", \"args\": [10, \"test\"]}'"
      ]
     },
     "metadata": {},
     "execution_count": 38
    }
   ],
   "metadata": {}
  },
  {
   "cell_type": "code",
   "execution_count": 44,
   "source": [
    "def custom_json_formatter(arg):\r\n",
    "    if isinstance(arg, dt):\r\n",
    "        return arg.strftime('%Y-%m-%dT%H:%M:%S')\r\n",
    "    elif isinstance(arg, set):\r\n",
    "        return list(arg)\r\n",
    "    elif isinstance(arg, Person):\r\n",
    "        return arg.toJSON()\r\n",
    "\r\n",
    "\r\n",
    "class Person:\r\n",
    "    def __init__(self, name, age):\r\n",
    "        self.name = name\r\n",
    "        self.age = age\r\n",
    "        self.create_dt = dt.utcnow()\r\n",
    "    \r\n",
    "    def  __repr__(self):\r\n",
    "        return f'Person(name={self.name}, age={self.age})'\r\n",
    "    \r\n",
    "    def toJSON(self):\r\n",
    "        return vars(self)\r\n",
    "        \r\n",
    "        # Equivalent to: \r\n",
    "        # return {\r\n",
    "        #     'name': self.name, \r\n",
    "        #     'age': self.age, \r\n",
    "        #     'create_dt': self.create_dt\r\n",
    "        # }\r\n",
    "    \r\n",
    "    \r\n",
    "p = Person('John', 82)\r\n",
    "\r\n",
    "log_record = {\r\n",
    "    'time': dt.utcnow(),\r\n",
    "    'message': 'Created new person record',\r\n",
    "    'person': p\r\n",
    "}\r\n",
    "\r\n",
    "json.dumps(log_record, default=custom_json_formatter)"
   ],
   "outputs": [
    {
     "output_type": "execute_result",
     "data": {
      "text/plain": [
       "'{\"time\": \"2021-08-19T11:05:06\", \"message\": \"Created new person record\", \"person\": {\"name\": \"John\", \"age\": 82, \"create_dt\": \"2021-08-19T11:05:06\"}}'"
      ]
     },
     "metadata": {},
     "execution_count": 44
    }
   ],
   "metadata": {}
  },
  {
   "cell_type": "code",
   "execution_count": 45,
   "source": [
    "def custom_json_formatter(arg):\r\n",
    "    if isinstance(arg, dt):\r\n",
    "        return arg.strftime('%Y-%m-%dT%H:%M:%S')\r\n",
    "    elif isinstance(arg, set):\r\n",
    "        return list(arg)\r\n",
    "    else:\r\n",
    "        try:\r\n",
    "            return arg.toJSON()\r\n",
    "        except AttributeError:\r\n",
    "            try:\r\n",
    "                return vars(arg)\r\n",
    "            except TypeError:\r\n",
    "                return str(arg)\r\n",
    "\r\n",
    "\r\n",
    "class Person:\r\n",
    "    def __init__(self, name, age):\r\n",
    "        self.name = name\r\n",
    "        self.age = age\r\n",
    "        self.create_dt = dt.utcnow()\r\n",
    "    \r\n",
    "    def  __repr__(self):\r\n",
    "        return f'Person(name={self.name}, age={self.age})'\r\n",
    "    \r\n",
    "    def toJSON(self):\r\n",
    "        return vars(self)\r\n",
    "\r\n",
    "        \r\n",
    "class Point:\r\n",
    "    def __init__(self, x, y):\r\n",
    "        self.x = x\r\n",
    "        self.y = y\r\n",
    "        \r\n",
    "    def __repr__(self):\r\n",
    "        return f'Point(x={self.x}, y={self.y})'\r\n",
    "\r\n",
    "p = Person('John', 82)\r\n",
    "pt = Point(10, 20)\r\n",
    "\r\n",
    "log_record = {\r\n",
    "    'time': dt.utcnow(),\r\n",
    "    'message': 'created new point',\r\n",
    "    'point': pt,\r\n",
    "    'created_by': p,\r\n",
    "}       \r\n",
    "\r\n",
    "json.dumps(log_record, default=custom_json_formatter)"
   ],
   "outputs": [
    {
     "output_type": "execute_result",
     "data": {
      "text/plain": [
       "'{\"time\": \"2021-08-19T11:13:39\", \"message\": \"created new point\", \"point\": {\"x\": 10, \"y\": 20}, \"created_by\": {\"name\": \"John\", \"age\": 82, \"create_dt\": \"2021-08-19T11:13:39\"}}'"
      ]
     },
     "metadata": {},
     "execution_count": 45
    }
   ],
   "metadata": {}
  },
  {
   "cell_type": "code",
   "execution_count": 47,
   "source": [
    "\r\n",
    "\r\n",
    "from functools import singledispatch\r\n",
    "\r\n",
    "@singledispatch\r\n",
    "def json_format(arg):\r\n",
    "    print(arg)\r\n",
    "    try:\r\n",
    "        return arg.toJSON()\r\n",
    "    except AttributeError:\r\n",
    "        try:\r\n",
    "            return vars(arg)\r\n",
    "        except TypeError:\r\n",
    "            return str(arg)\r\n",
    "        \r\n",
    "@json_format.register(dt)\r\n",
    "def _(arg):\r\n",
    "    return arg.isoformat()\r\n",
    "\r\n",
    "@json_format.register(set)\r\n",
    "def _(arg):\r\n",
    "    return list(arg)\r\n",
    "\r\n",
    "\r\n",
    "class Person:\r\n",
    "    def __init__(self, name, age):\r\n",
    "        self.name = name\r\n",
    "        self.age = age\r\n",
    "        self.create_dt = dt.utcnow()\r\n",
    "    \r\n",
    "    def  __repr__(self):\r\n",
    "        return f'Person(name={self.name}, age={self.age})'\r\n",
    "    \r\n",
    "    def toJSON(self):\r\n",
    "        return vars(self)\r\n",
    "\r\n",
    "        \r\n",
    "class Point:\r\n",
    "    def __init__(self, x, y):\r\n",
    "        self.x = x\r\n",
    "        self.y = y\r\n",
    "        \r\n",
    "    def __repr__(self):\r\n",
    "        return f'Point(x={self.x}, y={self.y})'\r\n",
    "\r\n",
    "p = Person('John', 82)\r\n",
    "pt = Point(10, 20)\r\n",
    "\r\n",
    "log_record = {\r\n",
    "    'time': dt.utcnow(),\r\n",
    "    'message': 'created new point',\r\n",
    "    'point': pt,\r\n",
    "    'created_by': p,\r\n",
    "}       \r\n",
    "\r\n",
    "json.dumps(log_record, default=json_format)"
   ],
   "outputs": [
    {
     "output_type": "stream",
     "name": "stdout",
     "text": [
      "Point(x=10, y=20)\n",
      "Person(name=John, age=82)\n"
     ]
    },
    {
     "output_type": "execute_result",
     "data": {
      "text/plain": [
       "'{\"time\": \"2021-08-19T11:26:11.608196\", \"message\": \"created new point\", \"point\": {\"x\": 10, \"y\": 20}, \"created_by\": {\"name\": \"John\", \"age\": 82, \"create_dt\": \"2021-08-19T11:26:11.608196\"}}'"
      ]
     },
     "metadata": {},
     "execution_count": 47
    }
   ],
   "metadata": {}
  },
  {
   "cell_type": "markdown",
   "source": [
    "# Custom JSON Encoding using JSONEncoder"
   ],
   "metadata": {}
  },
  {
   "cell_type": "code",
   "execution_count": 48,
   "source": [
    "class CustomJSONEncoder(json.JSONEncoder):\r\n",
    "    def default(self, arg):\r\n",
    "        if isinstance(arg, datetime):\r\n",
    "            return arg.isoformat()\r\n",
    "        else:\r\n",
    "            super().default(arg)\r\n",
    "            \r\n",
    "custom_encoder = CustomJSONEncoder()\r\n",
    "custom_encoder.encode(dt.utcnow())\r\n",
    "        "
   ],
   "outputs": [
    {
     "output_type": "execute_result",
     "data": {
      "text/plain": [
       "'\"2021-08-19T19:16:56.949082\"'"
      ]
     },
     "metadata": {},
     "execution_count": 48
    }
   ],
   "metadata": {}
  },
  {
   "cell_type": "code",
   "execution_count": 49,
   "source": [
    "class CustomJSONEncoder(json.JSONEncoder):\r\n",
    "    def default(self, arg):\r\n",
    "        if isinstance(arg, datetime):\r\n",
    "            return arg.isoformat()\r\n",
    "        else:\r\n",
    "            super().default(arg)\r\n",
    "            \r\n",
    "log_record = dict(name='test', time=dt.utcnow())\r\n",
    "json.dumps(log_record, cls=CustomJSONEncoder)"
   ],
   "outputs": [
    {
     "output_type": "execute_result",
     "data": {
      "text/plain": [
       "'{\"name\": \"test\", \"time\": \"2021-08-19T19:19:38.879968\"}'"
      ]
     },
     "metadata": {},
     "execution_count": 49
    }
   ],
   "metadata": {}
  },
  {
   "cell_type": "code",
   "execution_count": 63,
   "source": [
    "class CustomEncoder(json.JSONEncoder):\r\n",
    "    def __init__(self, *args, **kwargs):\r\n",
    "        super().__init__(skipkeys=True,\r\n",
    "                         allow_nan=False,\r\n",
    "                         indent=2,\r\n",
    "                         separators=(', ', ': ')\r\n",
    "                         )\r\n",
    "    \r\n",
    "    def default(self, arg):\r\n",
    "        if isinstance(arg, datetime):\r\n",
    "            return arg.isoformat()\r\n",
    "        else:\r\n",
    "            return super().default(arg)\r\n",
    "        \r\n",
    "d = {\r\n",
    "    'time': dt.utcnow(),\r\n",
    "    1+1j: 'Complex',\r\n",
    "    'name': 'Python'\r\n",
    "}\r\n",
    "\r\n",
    "print(json.dumps(d, cls=CustomEncoder))"
   ],
   "outputs": [
    {
     "output_type": "stream",
     "name": "stdout",
     "text": [
      "{\n",
      "  \"time\": \"2021-08-19T19:49:50.486994\", \n",
      "  \"name\": \"Python\"\n",
      "}\n"
     ]
    }
   ],
   "metadata": {}
  },
  {
   "cell_type": "code",
   "execution_count": 66,
   "source": [
    "\r\n",
    "class CustomEncoder(json.JSONEncoder):\r\n",
    "    def __init__(self, *args, **kwargs):\r\n",
    "        super().__init__(skipkeys=True,\r\n",
    "                         allow_nan=False,\r\n",
    "                         indent=2,\r\n",
    "                         separators=(', ', ': ')\r\n",
    "                         )\r\n",
    "    \r\n",
    "    def default(self, arg):\r\n",
    "        if isinstance(arg, datetime):\r\n",
    "            return dict(\r\n",
    "                datatype='datetime',\r\n",
    "                iso=arg.isoformat(),\r\n",
    "                date=arg.date().isoformat(),\r\n",
    "                time=arg.time().isoformat(),\r\n",
    "                year=arg.year,\r\n",
    "                month=arg.month,\r\n",
    "                day=arg.day,\r\n",
    "                hour=arg.hour,\r\n",
    "                minutes=arg.minute,\r\n",
    "                seconds=arg.second\r\n",
    "            )\r\n",
    "        else:\r\n",
    "            return super().default(arg)\r\n",
    "        \r\n",
    "d = {\r\n",
    "    'time': dt.utcnow(),\r\n",
    "    1+1j: 'Complex',\r\n",
    "    'name': 'Python'\r\n",
    "}\r\n",
    "\r\n",
    "print(json.dumps(d, cls=CustomEncoder))"
   ],
   "outputs": [
    {
     "output_type": "stream",
     "name": "stdout",
     "text": [
      "{\n",
      "  \"time\": {\n",
      "    \"datatype\": \"datetime\", \n",
      "    \"iso\": \"2021-08-19T19:50:17.809283\", \n",
      "    \"date\": \"2021-08-19\", \n",
      "    \"time\": \"19:50:17.809283\", \n",
      "    \"year\": 2021, \n",
      "    \"month\": 8, \n",
      "    \"day\": 19, \n",
      "    \"hour\": 19, \n",
      "    \"minutes\": 50, \n",
      "    \"seconds\": 17\n",
      "  }, \n",
      "  \"name\": \"Python\"\n",
      "}\n"
     ]
    }
   ],
   "metadata": {}
  },
  {
   "cell_type": "markdown",
   "source": [
    "# Custom JSON Decoding"
   ],
   "metadata": {}
  },
  {
   "cell_type": "code",
   "execution_count": 70,
   "source": [
    "from fractions import Fraction\r\n",
    "\r\n",
    "j = '''\r\n",
    "    {\r\n",
    "        \"cake\": \"yummy chocolate cake\",\r\n",
    "        \"myShare\": {\r\n",
    "            \"objecttype\": \"fraction\",\r\n",
    "            \"numerator\": 1,\r\n",
    "            \"denominator\": 8\r\n",
    "        },\r\n",
    "        \"eaten\": {\r\n",
    "            \"at\": {\r\n",
    "                \"objecttype\": \"datetime\",\r\n",
    "                \"value\": \"2018-10-21T21:30:00\"\r\n",
    "                },\r\n",
    "            \"time_taken\": \"30 seconds\"\r\n",
    "        }\r\n",
    "    }\r\n",
    "'''\r\n",
    "\r\n",
    "def custom_decoder(arg):\r\n",
    "    ret_value = arg\r\n",
    "    if 'objecttype' in arg:\r\n",
    "        if arg['objecttype'] == 'datetime':\r\n",
    "            ret_value = dt.strptime(arg['value'], '%Y-%m-%dT%H:%M:%S')\r\n",
    "        elif arg['objecttype'] == 'fraction':\r\n",
    "            ret_value = Fraction(arg['numerator'], arg['denominator'])\r\n",
    "    return ret_value\r\n",
    "\r\n",
    "d = json.loads(j, object_hook=custom_decoder)\r\n",
    "print(d)"
   ],
   "outputs": [
    {
     "output_type": "stream",
     "name": "stdout",
     "text": [
      "{'cake': 'yummy chocolate cake', 'myShare': Fraction(1, 8), 'eaten': {'at': datetime.datetime(2018, 10, 21, 21, 30), 'time_taken': '30 seconds'}}\n"
     ]
    }
   ],
   "metadata": {}
  },
  {
   "cell_type": "code",
   "execution_count": 71,
   "source": [
    "class Person:\r\n",
    "    def __init__(self, name, ssn):\r\n",
    "        self.name = name\r\n",
    "        self.ssn = ssn\r\n",
    "        \r\n",
    "    def __repr__(self):\r\n",
    "        return f'Person(name={self.name}, ssn={self.ssn})'\r\n",
    "    \r\n",
    "j = '''\r\n",
    "    {\r\n",
    "        \"accountHolder\": {\r\n",
    "            \"objecttype\": \"person\",\r\n",
    "            \"name\": \"Eric Idle\",\r\n",
    "            \"ssn\": 100\r\n",
    "        },\r\n",
    "        \"created\": {\r\n",
    "            \"objecttype\": \"datetime\",\r\n",
    "            \"value\": \"2018-10-21T03:00:00\"\r\n",
    "        }\r\n",
    "    }\r\n",
    "'''\r\n",
    "\r\n",
    "def custom_decoder(arg):\r\n",
    "    ret_value = arg\r\n",
    "    if 'objecttype' in arg:\r\n",
    "        if arg['objecttype'] == 'datetime':\r\n",
    "            ret_value = dt.strptime(arg['value'], '%Y-%m-%dT%H:%M:%S')\r\n",
    "        elif arg['objecttype'] == 'fraction':\r\n",
    "            ret_value = Fraction(arg['numerator'], arg['denominator'])\r\n",
    "        elif arg['objecttype'] == 'person':\r\n",
    "            ret_value = Person(arg['name'], arg['ssn'])\r\n",
    "    return ret_value\r\n",
    "\r\n",
    "d = json.loads(j, object_hook=custom_decoder)\r\n",
    "d"
   ],
   "outputs": [
    {
     "output_type": "execute_result",
     "data": {
      "text/plain": [
       "{'accountHolder': Person(name=Eric Idle, ssn=100),\n",
       " 'created': datetime.datetime(2018, 10, 21, 3, 0)}"
      ]
     },
     "metadata": {},
     "execution_count": 71
    }
   ],
   "metadata": {}
  },
  {
   "cell_type": "code",
   "execution_count": 74,
   "source": [
    "\r\n",
    "from decimal import Decimal\r\n",
    "\r\n",
    "j = '''\r\n",
    "    {\r\n",
    "        \"a\": [1, 2, 3, 4, 5],\r\n",
    "        \"b\": 100,\r\n",
    "        \"c\": 10.5,\r\n",
    "        \"d\": NaN,\r\n",
    "        \"e\": null,\r\n",
    "        \"f\": \"python\"\r\n",
    "    }\r\n",
    "'''\r\n",
    "\r\n",
    "def float_handler(arg):\r\n",
    "    print('float handler', type(arg), arg)\r\n",
    "    return float(arg)\r\n",
    "\r\n",
    "def int_handler(arg):\r\n",
    "    print('int handler', type(arg), arg)\r\n",
    "    return int(arg)\r\n",
    "\r\n",
    "def const_handler(arg):\r\n",
    "    print('const handler', type(arg), arg)\r\n",
    "    return None\r\n",
    "\r\n",
    "def obj_hook(arg):\r\n",
    "    print('obj hook', type(arg), arg)\r\n",
    "    return arg\r\n",
    "\r\n",
    "def obj_pairs_hook(arg):\r\n",
    "    print('obj pairs hook', type(arg), arg)\r\n",
    "    return arg\r\n",
    "\r\n",
    "json.loads(j, \r\n",
    "           object_hook=obj_hook,\r\n",
    "           object_pairs_hook=obj_pairs_hook,\r\n",
    "           parse_float=float_handler,\r\n",
    "           parse_int=int_handler,\r\n",
    "           parse_constant=const_handler\r\n",
    "          )"
   ],
   "outputs": [
    {
     "output_type": "stream",
     "name": "stdout",
     "text": [
      "int handler <class 'str'> 1\n",
      "int handler <class 'str'> 2\n",
      "int handler <class 'str'> 3\n",
      "int handler <class 'str'> 4\n",
      "int handler <class 'str'> 5\n",
      "int handler <class 'str'> 100\n",
      "float handler <class 'str'> 10.5\n",
      "const handler <class 'str'> NaN\n",
      "obj pairs hook <class 'list'> [('a', [1, 2, 3, 4, 5]), ('b', 100), ('c', 10.5), ('d', None), ('e', None), ('f', 'python')]\n"
     ]
    },
    {
     "output_type": "execute_result",
     "data": {
      "text/plain": [
       "[('a', [1, 2, 3, 4, 5]),\n",
       " ('b', 100),\n",
       " ('c', 10.5),\n",
       " ('d', None),\n",
       " ('e', None),\n",
       " ('f', 'python')]"
      ]
     },
     "metadata": {},
     "execution_count": 74
    }
   ],
   "metadata": {}
  },
  {
   "cell_type": "markdown",
   "source": [
    "# Using JSONDecoder"
   ],
   "metadata": {}
  },
  {
   "cell_type": "code",
   "execution_count": 76,
   "source": [
    "import re\r\n",
    "\r\n",
    "j = '''\r\n",
    "{\r\n",
    "    \"a\": 100,\r\n",
    "    \"b\": 0.5,\r\n",
    "    \"rectangle\": {\r\n",
    "        \"corners\": {\r\n",
    "            \"b_left\": {\"_type\": \"point\", \"x\": -1, \"y\": -1},\r\n",
    "            \"b_right\": {\"_type\": \"point\", \"x\": 1, \"y\": -1},\r\n",
    "            \"t_left\": {\"_type\": \"point\", \"x\": -1, \"y\": 1},\r\n",
    "            \"t_right\": {\"_type\": \"point\", \"x\": 1, \"y\": 1}\r\n",
    "        },\r\n",
    "        \"rotate\": {\"_type\" : \"point\", \"x\": 0, \"y\": 0},\r\n",
    "        \"interior_pts\": [\r\n",
    "            {\"_type\": \"point\", \"x\": 0, \"y\": 0},\r\n",
    "            {\"_type\": \"point\", \"x\": 0.5, \"y\": 0.5}\r\n",
    "        ]\r\n",
    "    }\r\n",
    "}\r\n",
    "'''\r\n",
    "\r\n",
    "class CustomDecoder(json.JSONDecoder):\r\n",
    "    base_decoder = json.JSONDecoder(parse_float=Decimal)\r\n",
    "    \r\n",
    "    def decode(self, arg):\r\n",
    "        obj = self.base_decoder.decode(arg)\r\n",
    "        pattern = r'\"_type\"\\s*:\\s*\"point\"'\r\n",
    "        if re.search(pattern, arg):\r\n",
    "            # we have at least one `Point'\r\n",
    "            obj = self.make_pts(obj)\r\n",
    "        return obj\r\n",
    "    \r\n",
    "    def make_pts(self, obj):\r\n",
    "        # recursive function to find and replace points\r\n",
    "        # received object could be a dictionary, a list, or a simple type\r\n",
    "        if isinstance(obj, dict):\r\n",
    "            # first see if this dictionary is a point itself\r\n",
    "            if '_type' in obj and obj['_type'] == 'point':\r\n",
    "                obj = Point(obj['x'], obj['y'])\r\n",
    "            else:\r\n",
    "                # root object is not a point\r\n",
    "                # but it could contain a sub-object which itself \r\n",
    "                # is or contains a Point object nested at some level\r\n",
    "                # maybe another dictionary, or a list\r\n",
    "                for key, value in obj.items():\r\n",
    "                    obj[key] = self.make_pts(value)\r\n",
    "        elif isinstance(obj, list):\r\n",
    "            # received a list - need to run each item through make_pts\r\n",
    "            for index, item in enumerate(obj):\r\n",
    "                obj[index] = self.make_pts(item)\r\n",
    "        return obj\r\n",
    "    \r\n",
    "json.loads(j, cls=CustomDecoder)"
   ],
   "outputs": [
    {
     "output_type": "execute_result",
     "data": {
      "text/plain": [
       "{'a': 100,\n",
       " 'b': Decimal('0.5'),\n",
       " 'rectangle': {'corners': {'b_left': Point(x=-1, y=-1),\n",
       "   'b_right': Point(x=1, y=-1),\n",
       "   't_left': Point(x=-1, y=1),\n",
       "   't_right': Point(x=1, y=1)},\n",
       "  'rotate': Point(x=0, y=0),\n",
       "  'interior_pts': [Point(x=0, y=0), Point(x=0.5, y=0.5)]}}"
      ]
     },
     "metadata": {},
     "execution_count": 76
    }
   ],
   "metadata": {}
  }
 ],
 "metadata": {
  "orig_nbformat": 4,
  "language_info": {
   "name": "python",
   "version": "3.9.5",
   "mimetype": "text/x-python",
   "codemirror_mode": {
    "name": "ipython",
    "version": 3
   },
   "pygments_lexer": "ipython3",
   "nbconvert_exporter": "python",
   "file_extension": ".py"
  },
  "kernelspec": {
   "name": "python3",
   "display_name": "Python 3.9.5 64-bit ('spenncon': conda)"
  },
  "interpreter": {
   "hash": "05d659cf7217a31b7ba206b7e3fe1d98040361cb242cc44ce7c59206cfd427bc"
  }
 },
 "nbformat": 4,
 "nbformat_minor": 2
}