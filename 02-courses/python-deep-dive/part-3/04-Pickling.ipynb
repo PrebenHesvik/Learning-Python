{
 "cells": [
  {
   "cell_type": "markdown",
   "source": [
    "### Marshalling: \r\n",
    "    \r\n",
    "- Serializing\r\n",
    "    - Create an object's representation\r\n",
    "    - Can be binary representation (Pickle by default is binary representation)\r\n",
    "\r\n",
    "- Deserializng\r\n",
    "    - Reload object from representation\r\n",
    "\r\n",
    "\r\n",
    "### import pickle\r\n",
    "- **dump** --> pickle to file\r\n",
    "- **load** --> unpickle from file\r\n",
    "- **dumps** --> returns a (string) pickled representation\r\n",
    "- **loads** --> unpickle from supplied argument"
   ],
   "metadata": {}
  },
  {
   "cell_type": "code",
   "execution_count": 1,
   "source": [
    "import pickle"
   ],
   "outputs": [],
   "metadata": {}
  },
  {
   "cell_type": "code",
   "execution_count": null,
   "source": [],
   "outputs": [],
   "metadata": {}
  }
 ],
 "metadata": {
  "orig_nbformat": 4,
  "language_info": {
   "name": "python",
   "version": "3.9.5",
   "mimetype": "text/x-python",
   "codemirror_mode": {
    "name": "ipython",
    "version": 3
   },
   "pygments_lexer": "ipython3",
   "nbconvert_exporter": "python",
   "file_extension": ".py"
  },
  "kernelspec": {
   "name": "python3",
   "display_name": "Python 3.9.5 64-bit ('spenncon': conda)"
  },
  "interpreter": {
   "hash": "05d659cf7217a31b7ba206b7e3fe1d98040361cb242cc44ce7c59206cfd427bc"
  }
 },
 "nbformat": 4,
 "nbformat_minor": 2
}