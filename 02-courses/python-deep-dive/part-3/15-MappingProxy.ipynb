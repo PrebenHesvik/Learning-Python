{
 "cells": [
  {
   "cell_type": "code",
   "execution_count": 1,
   "source": [
    "from types import MappingProxyType"
   ],
   "outputs": [],
   "metadata": {}
  },
  {
   "cell_type": "code",
   "execution_count": 5,
   "source": [
    "d = dict(a=10, b=20)\r\n",
    "mp = MappingProxyType(d)\r\n",
    "print('MappingProxyType: ', mp)\r\n",
    "print('MappingProxyType keys: ', mp.keys())\r\n",
    "print('MappingProxyType values: ', mp.values())\r\n",
    "print('MappingProxyType items: ', mp.items())"
   ],
   "outputs": [
    {
     "output_type": "stream",
     "name": "stdout",
     "text": [
      "MappingProxyType:  {'a': 10, 'b': 20}\n",
      "MappingProxyType keys:  dict_keys(['a', 'b'])\n",
      "MappingProxyType values:  dict_values([10, 20])\n",
      "MappingProxyType items:  dict_items([('a', 10), ('b', 20)])\n"
     ]
    }
   ],
   "metadata": {}
  },
  {
   "cell_type": "markdown",
   "source": [
    "## We can retrieve a value from the MappingProxy"
   ],
   "metadata": {}
  },
  {
   "cell_type": "code",
   "execution_count": 8,
   "source": [
    "d['a']"
   ],
   "outputs": [
    {
     "output_type": "execute_result",
     "data": {
      "text/plain": [
       "10"
      ]
     },
     "metadata": {},
     "execution_count": 8
    }
   ],
   "metadata": {}
  },
  {
   "cell_type": "markdown",
   "source": [
    "## MappingProxy does not support item assignement"
   ],
   "metadata": {}
  },
  {
   "cell_type": "code",
   "execution_count": 7,
   "source": [
    "try:\r\n",
    "    mp['c'] = 30\r\n",
    "except Exception as e:\r\n",
    "    print('When trying to assign a value to a MappingProxy we get the following error:')\r\n",
    "    print(e)"
   ],
   "outputs": [
    {
     "output_type": "stream",
     "name": "stdout",
     "text": [
      "When trying to assign a value to a MappingProxy we get the following error:\n",
      "'mappingproxy' object does not support item assignment\n"
     ]
    }
   ],
   "metadata": {}
  }
 ],
 "metadata": {
  "orig_nbformat": 4,
  "language_info": {
   "name": "python",
   "version": "3.9.5",
   "mimetype": "text/x-python",
   "codemirror_mode": {
    "name": "ipython",
    "version": 3
   },
   "pygments_lexer": "ipython3",
   "nbconvert_exporter": "python",
   "file_extension": ".py"
  },
  "kernelspec": {
   "name": "python3",
   "display_name": "Python 3.9.5 64-bit ('spenncon': conda)"
  },
  "interpreter": {
   "hash": "05d659cf7217a31b7ba206b7e3fe1d98040361cb242cc44ce7c59206cfd427bc"
  }
 },
 "nbformat": 4,
 "nbformat_minor": 2
}