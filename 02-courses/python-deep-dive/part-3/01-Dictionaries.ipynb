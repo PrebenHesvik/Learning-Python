{
 "cells": [
  {
   "cell_type": "markdown",
   "source": [
    "# Table of Contents\n",
    " <p><div class=\"lev2 toc-item\"><a href=\"#DICTIONARIES\" data-toc-modified-id=\"DICTIONARIES-01\"><span class=\"toc-item-num\">0.1&nbsp;&nbsp;</span>DICTIONARIES</a></div><div class=\"lev3 toc-item\"><a href=\"#Accessing-a-value:\" data-toc-modified-id=\"Accessing-a-value:-011\"><span class=\"toc-item-num\">0.1.1&nbsp;&nbsp;</span>Accessing a value:</a></div><div class=\"lev3 toc-item\"><a href=\"#Adding-a-key/value-pair\" data-toc-modified-id=\"Adding-a-key/value-pair-012\"><span class=\"toc-item-num\">0.1.2&nbsp;&nbsp;</span>Adding a key/value pair</a></div><div class=\"lev3 toc-item\"><a href=\"#Updating-a-dictionary\" data-toc-modified-id=\"Updating-a-dictionary-013\"><span class=\"toc-item-num\">0.1.3&nbsp;&nbsp;</span>Updating a dictionary</a></div><div class=\"lev3 toc-item\"><a href=\"#Deleting-a-key/value-pair\" data-toc-modified-id=\"Deleting-a-key/value-pair-014\"><span class=\"toc-item-num\">0.1.4&nbsp;&nbsp;</span>Deleting a key/value pair</a></div><div class=\"lev3 toc-item\"><a href=\"#Looping-over-dictionary-keys\" data-toc-modified-id=\"Looping-over-dictionary-keys-015\"><span class=\"toc-item-num\">0.1.5&nbsp;&nbsp;</span>Looping over dictionary keys</a></div><div class=\"lev3 toc-item\"><a href=\"#Looping-over-dictionary-keys,-values\" data-toc-modified-id=\"Looping-over-dictionary-keys,-values-016\"><span class=\"toc-item-num\">0.1.6&nbsp;&nbsp;</span>Looping over dictionary keys, values</a></div><div class=\"lev3 toc-item\"><a href=\"#Construct-dictionary-from-two-lists\" data-toc-modified-id=\"Construct-dictionary-from-two-lists-017\"><span class=\"toc-item-num\">0.1.7&nbsp;&nbsp;</span>Construct dictionary from two lists</a></div><div class=\"lev3 toc-item\"><a href=\"#Counting-with-dictionaries\" data-toc-modified-id=\"Counting-with-dictionaries-018\"><span class=\"toc-item-num\">0.1.8&nbsp;&nbsp;</span>Counting with dictionaries</a></div><div class=\"lev3 toc-item\"><a href=\"#Grouping-with-dictionaries\" data-toc-modified-id=\"Grouping-with-dictionaries-019\"><span class=\"toc-item-num\">0.1.9&nbsp;&nbsp;</span>Grouping with dictionaries</a></div><div class=\"lev3 toc-item\"><a href=\"#Linking-dictionaries-together\" data-toc-modified-id=\"Linking-dictionaries-together-0110\"><span class=\"toc-item-num\">0.1.10&nbsp;&nbsp;</span>Linking dictionaries together</a></div><div class=\"lev3 toc-item\"><a href=\"#Dictionary-comprehension\" data-toc-modified-id=\"Dictionary-comprehension-0111\"><span class=\"toc-item-num\">0.1.11&nbsp;&nbsp;</span>Dictionary comprehension</a></div>"
   ],
   "metadata": {
    "toc": "true"
   }
  },
  {
   "cell_type": "markdown",
   "source": [
    "## DICTIONARIES\n",
    "- A dictionary can store string, ints, floats, objects, tuples, lists, dictionaries\n",
    "- The position of the element in a dictionary is not important\n",
    "- We access the values in the dict through the key "
   ],
   "metadata": {}
  },
  {
   "cell_type": "code",
   "execution_count": 1,
   "source": [
    "d = {'name': 'Preben', 'age': 37, 'occupation': 'python programmer' }"
   ],
   "outputs": [],
   "metadata": {}
  },
  {
   "cell_type": "markdown",
   "source": [
    "## Accessing a value:"
   ],
   "metadata": {}
  },
  {
   "cell_type": "markdown",
   "source": [
    "Method 1:"
   ],
   "metadata": {}
  },
  {
   "cell_type": "code",
   "execution_count": 2,
   "source": [
    "d['name']"
   ],
   "outputs": [
    {
     "output_type": "execute_result",
     "data": {
      "text/plain": [
       "'Preben'"
      ]
     },
     "metadata": {},
     "execution_count": 2
    }
   ],
   "metadata": {}
  },
  {
   "cell_type": "markdown",
   "source": [
    "Method 2: <br>\n",
    "Does not give an error if they key is missing."
   ],
   "metadata": {}
  },
  {
   "cell_type": "code",
   "execution_count": 3,
   "source": [
    "d.get('name', None)"
   ],
   "outputs": [
    {
     "output_type": "execute_result",
     "data": {
      "text/plain": [
       "'Preben'"
      ]
     },
     "metadata": {},
     "execution_count": 3
    }
   ],
   "metadata": {}
  },
  {
   "cell_type": "markdown",
   "source": [
    "## Adding a key/value pair"
   ],
   "metadata": {}
  },
  {
   "cell_type": "code",
   "execution_count": 51,
   "source": [
    "d['phone'] = '944-28-507'\r\n",
    "print(d)"
   ],
   "outputs": [
    {
     "output_type": "stream",
     "name": "stdout",
     "text": [
      "{'name': 'Preben', 'age': 37, 'occupation': 'python programmer', 'phone': '944-28-507'}\n"
     ]
    }
   ],
   "metadata": {}
  },
  {
   "cell_type": "markdown",
   "source": [
    "## Updating a dictionary"
   ],
   "metadata": {}
  },
  {
   "cell_type": "code",
   "execution_count": 1,
   "source": [
    "# update using a dict as the argument\r\n",
    "d1 = {'a': 1, 'b': 2}\r\n",
    "d2 = {'b': 3, 'd': 4}\r\n",
    "\r\n",
    "d1.update(d2)\r\n",
    "# notice how 'b' will be updated to show a value of 3\r\n",
    "print(d1)\r\n",
    "\r\n",
    "# update using keyword arguments\r\n",
    "d1 = {'a': 1, 'b': 2}\r\n",
    "d1.update(b=20, c=3)\r\n",
    "print(d1)\r\n",
    "\r\n",
    "# update using list of tuples\r\n",
    "d1 = {'a': 1, 'b': 2}\r\n",
    "d1.update([('c', 3), ('d', 4)])\r\n",
    "print(d1)\r\n",
    "\r\n",
    "# update using a generator expression as the argument\r\n",
    "d1 = {'a': 1, 'b': 2}\r\n",
    "d1.update((k, ord(k)) for k in 'python')\r\n",
    "print(d1)"
   ],
   "outputs": [
    {
     "output_type": "stream",
     "name": "stdout",
     "text": [
      "{'a': 1, 'b': 3, 'd': 4}\n",
      "{'a': 1, 'b': 20, 'c': 3}\n",
      "{'a': 1, 'b': 2, 'c': 3, 'd': 4}\n",
      "{'a': 1, 'b': 2, 'p': 112, 'y': 121, 't': 116, 'h': 104, 'o': 111, 'n': 110}\n"
     ]
    }
   ],
   "metadata": {}
  },
  {
   "cell_type": "markdown",
   "source": [
    "## Deleting a key/value pair"
   ],
   "metadata": {}
  },
  {
   "cell_type": "markdown",
   "source": [
    "Method 1:"
   ],
   "metadata": {}
  },
  {
   "cell_type": "code",
   "execution_count": 53,
   "source": [
    "del d['phone']\r\n",
    "print(d)"
   ],
   "outputs": [
    {
     "output_type": "stream",
     "name": "stdout",
     "text": [
      "{'name': 'Preben Hesvik', 'age': 37, 'occupation': 'Python-development'}\n"
     ]
    }
   ],
   "metadata": {}
  },
  {
   "cell_type": "markdown",
   "source": [
    " Method 2:"
   ],
   "metadata": {}
  },
  {
   "cell_type": "code",
   "execution_count": 54,
   "source": [
    "age = d.pop('age')\r\n",
    "print('age = ', age)\r\n",
    "print('remaining dict = ', d)"
   ],
   "outputs": [
    {
     "output_type": "stream",
     "name": "stdout",
     "text": [
      "age =  37\n",
      "remaining dict =  {'name': 'Preben Hesvik', 'occupation': 'Python-development'}\n"
     ]
    }
   ],
   "metadata": {}
  },
  {
   "cell_type": "markdown",
   "source": [
    "## Dictionary views\r\n",
    "- d.keys() --> returns a list of the dictionary keys\r\n",
    "- d.values() --> returns a list of dictionary values\r\n",
    "- d.items() --> returns a a list of tuples of keys and values\r\n",
    "<br><br>\r\n",
    "\r\n",
    "- Dictionary views are dynamic - reflects any changes in the dict\r\n",
    "- Dictionary keys() view behave like a set \r\n",
    "- Dictionary items() view behave like a set if all values are hashable       "
   ],
   "metadata": {}
  },
  {
   "cell_type": "markdown",
   "source": [
    "#### Dict views are dynamic"
   ],
   "metadata": {}
  },
  {
   "cell_type": "code",
   "execution_count": 11,
   "source": [
    "d = {'name': 'Preben', 'age': 37, 'occupation': 'python programmer' }\r\n",
    "\r\n",
    "keys = d.keys()\r\n",
    "values = d.values()\r\n",
    "items = d.items()\r\n",
    "\r\n",
    "print('keys: ', keys)\r\n",
    "print('values: ', values)\r\n",
    "print('items: ', items, end='\\n\\n')\r\n",
    "\r\n",
    "del d['occupation']\r\n",
    "\r\n",
    "# The change in d is reflected in the views even though\r\n",
    "# the view is not called after the change is made\r\n",
    "print('NOTICE THAT THE VIEWS HAVE BEEN UPDATED TO REFLECT THE DELETED DICT KEY \\n')\r\n",
    "print('keys: ', keys)\r\n",
    "print('values: ', values)\r\n",
    "print('items: ', items)"
   ],
   "outputs": [
    {
     "output_type": "stream",
     "name": "stdout",
     "text": [
      "keys:  dict_keys(['name', 'age', 'occupation'])\n",
      "values:  dict_values(['Preben', 37, 'python programmer'])\n",
      "items:  dict_items([('name', 'Preben'), ('age', 37), ('occupation', 'python programmer')])\n",
      "\n",
      "NOTICE THAT THE VIEWS HAVE BEEN UPDATED TO REFLECT THE DELETED DICT KEY \n",
      "\n",
      "keys:  dict_keys(['name', 'age'])\n",
      "values:  dict_values(['Preben', 37])\n",
      "items:  dict_items([('name', 'Preben'), ('age', 37)])\n"
     ]
    }
   ],
   "metadata": {}
  },
  {
   "cell_type": "markdown",
   "source": [
    "## Set functionality\r\n",
    "\r\n",
    "- Union: The union of two sets is a set containing all elements that are in A or in B (possibly both)\r\n",
    "- Intersection: The items that are present in both sets"
   ],
   "metadata": {}
  },
  {
   "cell_type": "code",
   "execution_count": 15,
   "source": [
    "d1 = {'a': 1, 'b': 2, 'c': 3}\r\n",
    "d2 = {'c': 30, 'd': 4, 'e': 5}\r\n",
    "\r\n",
    "# union\r\n",
    "union_keys = d1.keys() | d2.keys()\r\n",
    "union_items = d1.items() | d2.items()\r\n",
    "\r\n",
    "\r\n",
    "print(f'union of keys: type={type(union_keys)}, values={union_keys}')\r\n",
    "print(f'union of items: type={type(union_items)}, values={union_items}')"
   ],
   "outputs": [
    {
     "output_type": "stream",
     "name": "stdout",
     "text": [
      "union of keys: type=<class 'set'>, values={'a', 'b', 'e', 'd', 'c'}\n",
      "union of items: type=<class 'set'>, values={('d', 4), ('e', 5), ('c', 3), ('b', 2), ('c', 30), ('a', 1)}\n"
     ]
    }
   ],
   "metadata": {}
  },
  {
   "cell_type": "code",
   "execution_count": 12,
   "source": [
    "d1 = {'a': 1, 'b': 2, 'c': 3}\r\n",
    "d2 = {'b': 30, 'c': 4, 'd': 5}\r\n",
    "\r\n",
    "d1.keys() & d2.keys()"
   ],
   "outputs": [
    {
     "output_type": "execute_result",
     "data": {
      "text/plain": [
       "{'b', 'c'}"
      ]
     },
     "metadata": {},
     "execution_count": 12
    }
   ],
   "metadata": {}
  },
  {
   "cell_type": "markdown",
   "source": [
    "### Challenge: add the key, value of the keys that are common in both dicts"
   ],
   "metadata": {}
  },
  {
   "cell_type": "code",
   "execution_count": 19,
   "source": [
    "d1 = {'a': 1, 'b': 2, 'c': 3}\r\n",
    "d2 = {'b': 30, 'c': 4, 'd': 5}\r\n",
    "\r\n",
    "# method 1\r\n",
    "new_dict = {}\r\n",
    "for key in d1.keys() & d2.keys():\r\n",
    "    new_dict[key] = d1[key], d2[key]\r\n",
    "\r\n",
    "# Method 2\r\n",
    "new_dict_2 = {key: (d1[key], d2[key]) for key in d1.keys() & d2.keys()}\r\n",
    "\r\n",
    "# Output:\r\n",
    "print('method 1: ', new_dict)\r\n",
    "print('method 2: ', new_dict_2)"
   ],
   "outputs": [
    {
     "output_type": "stream",
     "name": "stdout",
     "text": [
      "method 1:  {'c': (3, 4), 'b': (2, 30)}\n",
      "method 2:  {'c': (3, 4), 'b': (2, 30)}\n"
     ]
    }
   ],
   "metadata": {}
  },
  {
   "cell_type": "markdown",
   "source": [
    "### Challenge: find the keys that are not common in both dictionaries"
   ],
   "metadata": {}
  },
  {
   "cell_type": "code",
   "execution_count": 14,
   "source": [
    "d1 = {'a': 1, 'b': 2, 'c': 3, 'd': 4}\r\n",
    "d2 = {'a': 10, 'b': 20, 'c': 30, 'e': 4}\r\n",
    "\r\n",
    "# find the keys that are not common in both dictionaries\r\n",
    "\r\n",
    "# method 1\r\n",
    "union = d1.keys() | d2.keys()\r\n",
    "intersection = d1.keys() & d2.keys()\r\n",
    "keys = union - intersection\r\n",
    "\r\n",
    "print('Union: ', union)\r\n",
    "print('Intersection: ', intersection)\r\n",
    "print('Keys: ', keys, end='\\n\\n')\r\n",
    "\r\n",
    "# method 1:\r\n",
    "method_1 = {key: value for key, value in {**d1, **d2}.items() if key in keys}\r\n",
    "\r\n",
    "# method 2:\r\n",
    "method_2 = {}\r\n",
    "for key in d1.keys() ^ d2.keys() :\r\n",
    "    method_2[key] = d1.get(key) or d2.get(key)\r\n",
    "    \r\n",
    "# method 3:\r\n",
    "method_3 = {key: d1.get(key) or d2.get(key) for key in d1.keys() ^ d2.keys()}\r\n",
    "\r\n",
    "print('method 1', method_1)\r\n",
    "print('method 2', method_2)\r\n",
    "print('method 3', method_3)"
   ],
   "outputs": [
    {
     "output_type": "stream",
     "name": "stdout",
     "text": [
      "Union:  {'c', 'a', 'b', 'e', 'd'}\n",
      "Intersection:  {'c', 'b', 'a'}\n",
      "Keys:  {'e', 'd'}\n",
      "\n",
      "method 1 {'d': 4, 'e': 4}\n",
      "method 2 {'e': 4, 'd': 4}\n",
      "method 3 {'e': 4, 'd': 4}\n"
     ]
    }
   ],
   "metadata": {
    "scrolled": true
   }
  },
  {
   "cell_type": "markdown",
   "source": [
    "#### Looping over dictionary keys"
   ],
   "metadata": {}
  },
  {
   "cell_type": "code",
   "execution_count": 20,
   "source": [
    "d = {'name': 'Preben', 'age': 37, 'occupation': 'python programmer' }\r\n",
    "\r\n",
    "for key in d:\r\n",
    "    print(key)"
   ],
   "outputs": [
    {
     "output_type": "stream",
     "name": "stdout",
     "text": [
      "name\n",
      "age\n",
      "occupation\n"
     ]
    }
   ],
   "metadata": {}
  },
  {
   "cell_type": "markdown",
   "source": [
    "#### Looping over dictionary keys, values"
   ],
   "metadata": {}
  },
  {
   "cell_type": "code",
   "execution_count": 21,
   "source": [
    "d = {'name': 'Preben', 'age': 37, 'occupation': 'python programmer' }\r\n",
    "\r\n",
    "for key, value in d.items():\r\n",
    "    print(key, value)"
   ],
   "outputs": [
    {
     "output_type": "stream",
     "name": "stdout",
     "text": [
      "name Preben\n",
      "age 37\n",
      "occupation python programmer\n"
     ]
    }
   ],
   "metadata": {}
  },
  {
   "cell_type": "markdown",
   "source": [
    "### Challenge: construct dictionary from two lists"
   ],
   "metadata": {}
  },
  {
   "cell_type": "code",
   "execution_count": 57,
   "source": [
    "names = ['raymond', 'rachel', 'matthew']\r\n",
    "colors = ['red', 'green', 'blue', 'yellow']\r\n",
    "dict(zip(names, colors))"
   ],
   "outputs": [
    {
     "output_type": "execute_result",
     "data": {
      "text/plain": [
       "{'raymond': 'red', 'rachel': 'green', 'matthew': 'blue'}"
      ]
     },
     "metadata": {},
     "execution_count": 57
    }
   ],
   "metadata": {}
  },
  {
   "cell_type": "markdown",
   "source": [
    "### Counting with dictionaries"
   ],
   "metadata": {}
  },
  {
   "cell_type": "code",
   "execution_count": 15,
   "source": [
    "colors = ['red', 'green', 'red', 'blue', 'green', 'red']"
   ],
   "outputs": [],
   "metadata": {}
  },
  {
   "cell_type": "markdown",
   "source": [
    "Traditional way of doing it:"
   ],
   "metadata": {}
  },
  {
   "cell_type": "code",
   "execution_count": 20,
   "source": [
    "d = {}\r\n",
    "for color in colors:\r\n",
    "    if color not in d:\r\n",
    "        d[color] = 0\r\n",
    "    d[color] += 1\r\n",
    "\r\n",
    "print(d)"
   ],
   "outputs": [
    {
     "output_type": "stream",
     "name": "stdout",
     "text": [
      "{'red': 3, 'green': 2, 'blue': 1}\n"
     ]
    }
   ],
   "metadata": {}
  },
  {
   "cell_type": "markdown",
   "source": [
    "An improved way of doing it"
   ],
   "metadata": {}
  },
  {
   "cell_type": "code",
   "execution_count": 21,
   "source": [
    "d = {}\r\n",
    "for color in colors:\r\n",
    "    d[color] = d.get(color, 0) + 1\r\n",
    "\r\n",
    "print(d)"
   ],
   "outputs": [
    {
     "output_type": "stream",
     "name": "stdout",
     "text": [
      "{'red': 3, 'green': 2, 'blue': 1}\n"
     ]
    }
   ],
   "metadata": {}
  },
  {
   "cell_type": "markdown",
   "source": [
    "Using default dict <br><br>\n",
    "Usually, a Python dictionary throws a KeyError if you try to get an item with a key that is not currently in the dictionary. The defaultdict in contrast will simply create any items that you try to access (provided of course they do not exist yet)"
   ],
   "metadata": {}
  },
  {
   "cell_type": "code",
   "execution_count": 29,
   "source": [
    "from collections import defaultdict\r\n",
    "d = defaultdict(int)\r\n",
    "for color in colors:\r\n",
    "    d[color] += 1\r\n",
    "\r\n",
    "print(d)"
   ],
   "outputs": [
    {
     "output_type": "execute_result",
     "data": {
      "text/plain": [
       "defaultdict(int, {'red': 3, 'green': 2, 'blue': 1})"
      ]
     },
     "metadata": {},
     "execution_count": 29
    }
   ],
   "metadata": {}
  },
  {
   "cell_type": "markdown",
   "source": [
    "### Grouping with dictionaries"
   ],
   "metadata": {}
  },
  {
   "cell_type": "markdown",
   "source": [
    "Traditional way:"
   ],
   "metadata": {}
  },
  {
   "cell_type": "code",
   "execution_count": 31,
   "source": [
    "names = ['raymond', 'rachel', 'matthew', 'roger', 'betty', 'melissa', 'judith', 'charlie']\r\n",
    "\r\n",
    "d = {}\r\n",
    "for name in names:\r\n",
    "    key = len(name)\r\n",
    "    if key not in d:\r\n",
    "        d[key] = []\r\n",
    "    d[key].append(name)\r\n",
    "\r\n",
    "print(d)"
   ],
   "outputs": [
    {
     "output_type": "stream",
     "name": "stdout",
     "text": [
      "{7: ['raymond', 'matthew', 'melissa', 'charlie'], 6: ['rachel', 'judith'], 5: ['roger', 'betty']}\n"
     ]
    }
   ],
   "metadata": {}
  },
  {
   "cell_type": "markdown",
   "source": [
    "An improved way of doing it"
   ],
   "metadata": {}
  },
  {
   "cell_type": "code",
   "execution_count": 36,
   "source": [
    "names = ['raymond', 'rachel', 'matthew', 'roger', 'betty', 'melissa', 'judith', 'charlie']\r\n",
    "\r\n",
    "d = {}\r\n",
    "for name in names:\r\n",
    "    key = len(name)\r\n",
    "    d.setdefault(key, []).append(name)\r\n",
    "\r\n",
    "print(d)"
   ],
   "outputs": [
    {
     "output_type": "stream",
     "name": "stdout",
     "text": [
      "{7: ['raymond', 'matthew', 'melissa', 'charlie'], 6: ['rachel', 'judith'], 5: ['roger', 'betty']}\n"
     ]
    }
   ],
   "metadata": {}
  },
  {
   "cell_type": "markdown",
   "source": [
    "Using default dict"
   ],
   "metadata": {}
  },
  {
   "cell_type": "code",
   "execution_count": 1,
   "source": [
    "from collections import defaultdict\r\n",
    "\r\n",
    "names = ['raymond', 'rachel', 'matthew', 'roger', 'betty', 'melissa', 'judith', 'charlie']\r\n",
    "\r\n",
    "d = defaultdict(list)\r\n",
    "for name in names:\r\n",
    "    key = len(name)\r\n",
    "    d[key].append(name)\r\n",
    "\r\n",
    "d"
   ],
   "outputs": [
    {
     "output_type": "execute_result",
     "data": {
      "text/plain": [
       "defaultdict(list,\n",
       "            {7: ['raymond', 'matthew', 'melissa', 'charlie'],\n",
       "             6: ['rachel', 'judith'],\n",
       "             5: ['roger', 'betty']})"
      ]
     },
     "metadata": {},
     "execution_count": 1
    }
   ],
   "metadata": {}
  },
  {
   "cell_type": "markdown",
   "source": [
    "### Linking dictionaries together"
   ],
   "metadata": {}
  },
  {
   "cell_type": "code",
   "execution_count": 3,
   "source": [
    "d1 = {'Preben': 37, 'Mads': 34}\r\n",
    "d2 = {'Brede': 26}\r\n",
    "\r\n",
    "# Method 1\r\n",
    "merged1 = {**d1, **d2}\r\n",
    "\r\n",
    "# Method 2:\r\n",
    "from collections import ChainMap\r\n",
    "merged2= ChainMap(d1, d2)\r\n",
    "\r\n",
    "# print out\r\n",
    "print('Method 1:', merged1)\r\n",
    "print('Method 2:', merged2)"
   ],
   "outputs": [
    {
     "output_type": "stream",
     "name": "stdout",
     "text": [
      "Method 1: {'Preben': 37, 'Mads': 34, 'Brede': 26}\n",
      "Method 2: ChainMap({'Preben': 37, 'Mads': 34}, {'Brede': 26})\n"
     ]
    }
   ],
   "metadata": {}
  },
  {
   "cell_type": "markdown",
   "source": [
    "### Dictionary comprehension"
   ],
   "metadata": {}
  },
  {
   "cell_type": "code",
   "execution_count": 6,
   "source": [
    "# Example 1: \r\n",
    "nums = [1, 2, 3, 4, 5]\r\n",
    "\r\n",
    "# num: num^2for each num in nums\r\n",
    "d_comp1 = {num: num*num for num in nums}\r\n",
    "\r\n",
    "# Example 2: \r\n",
    "d1 = {'Preben': 37, 'Mads': 34}\r\n",
    "d2 = {'Brede': 26}\r\n",
    "\r\n",
    "# k for k in merged dicts\r\n",
    "d_comp2 = {k for k in {**d1, **d2}}\r\n",
    "\r\n",
    "#Example 3\r\n",
    "names = ['Bruce', 'Clark', 'Peter', 'Logan', 'Wade']\r\n",
    "heroes = ['Batman', 'Superman', 'Spiderman', 'Wolverine', 'Deadpool']\r\n",
    "\r\n",
    "# dict{'name': 'hero'} for each name, hero in zip(names, heroes)\r\n",
    "d_comp3 =  {name: hero for name, hero in zip (names, heroes)}\r\n",
    "\r\n",
    "#Example 4:\r\n",
    "# dict{'name': 'hero'} for each name, hero in zip(names, heroes) but exclude 'peter'\r\n",
    "d_comp4 = {name: hero for name, hero in zip (names, heroes) if name != 'Peter'}\r\n",
    "\r\n",
    "# Print out examples: \r\n",
    "print('Example 1: ', d_comp1)\r\n",
    "print('Example 2: ', d_comp2)\r\n",
    "print('Example 3: ', d_comp3)\r\n",
    "print('Example 4: ', d_comp4)"
   ],
   "outputs": [
    {
     "output_type": "stream",
     "name": "stdout",
     "text": [
      "Example 1:  {1: 1, 2: 4, 3: 9, 4: 16, 5: 25}\n",
      "Example 2:  {'Mads', 'Brede', 'Preben'}\n",
      "Example 3:  {'Bruce': 'Batman', 'Clark': 'Superman', 'Peter': 'Spiderman', 'Logan': 'Wolverine', 'Wade': 'Deadpool'}\n",
      "Example 4:  {'Bruce': 'Batman', 'Clark': 'Superman', 'Logan': 'Wolverine', 'Wade': 'Deadpool'}\n"
     ]
    }
   ],
   "metadata": {}
  },
  {
   "cell_type": "markdown",
   "source": [
    "### Using a dict as key-value pairs inside a function"
   ],
   "metadata": {}
  },
  {
   "cell_type": "code",
   "execution_count": 2,
   "source": [
    "def my_func(*, kw1, kw2, kw3):\r\n",
    "    print(kw1, kw2, kw3)\r\n",
    "\r\n",
    "d = {'kw1': 10, 'kw2': 20, 'kw3': 30}\r\n",
    "\r\n",
    "my_func(**d)"
   ],
   "outputs": [
    {
     "output_type": "stream",
     "name": "stdout",
     "text": [
      "10 20 30\n"
     ]
    }
   ],
   "metadata": {}
  },
  {
   "cell_type": "markdown",
   "source": [
    "### Modifying a dictionary during iteration\r\n",
    "- We can change the value of a key during iteration\r\n",
    "- BUT we cannot remove or add keys during iteration"
   ],
   "metadata": {}
  },
  {
   "cell_type": "code",
   "execution_count": 4,
   "source": [
    "d = dict(zip('abc', range(1, 4)))\r\n",
    "for k, v in d.items():\r\n",
    "    print(k, v)\r\n",
    "    d[k] = 1000\r\n",
    "    \r\n",
    "d"
   ],
   "outputs": [
    {
     "output_type": "stream",
     "name": "stdout",
     "text": [
      "a 1\n",
      "b 2\n",
      "c 3\n"
     ]
    },
    {
     "output_type": "execute_result",
     "data": {
      "text/plain": [
       "{'a': 1000, 'b': 1000, 'c': 1000}"
      ]
     },
     "metadata": {},
     "execution_count": 4
    }
   ],
   "metadata": {}
  },
  {
   "cell_type": "code",
   "execution_count": 10,
   "source": [
    "d = dict(zip('abc', range(1, 4)))\r\n",
    "for k, v in d.items():\r\n",
    "    print(k, v)\r\n",
    "    d['new_key'] = 1000\r\n",
    "    \r\n",
    "d"
   ],
   "outputs": [
    {
     "output_type": "stream",
     "name": "stdout",
     "text": [
      "a 1\n"
     ]
    },
    {
     "output_type": "error",
     "ename": "RuntimeError",
     "evalue": "dictionary changed size during iteration",
     "traceback": [
      "\u001b[1;31m---------------------------------------------------------------------------\u001b[0m",
      "\u001b[1;31mRuntimeError\u001b[0m                              Traceback (most recent call last)",
      "\u001b[1;32m<ipython-input-10-274c27b48527>\u001b[0m in \u001b[0;36m<module>\u001b[1;34m\u001b[0m\n\u001b[0;32m      1\u001b[0m \u001b[0md\u001b[0m \u001b[1;33m=\u001b[0m \u001b[0mdict\u001b[0m\u001b[1;33m(\u001b[0m\u001b[0mzip\u001b[0m\u001b[1;33m(\u001b[0m\u001b[1;34m'abc'\u001b[0m\u001b[1;33m,\u001b[0m \u001b[0mrange\u001b[0m\u001b[1;33m(\u001b[0m\u001b[1;36m1\u001b[0m\u001b[1;33m,\u001b[0m \u001b[1;36m4\u001b[0m\u001b[1;33m)\u001b[0m\u001b[1;33m)\u001b[0m\u001b[1;33m)\u001b[0m\u001b[1;33m\u001b[0m\u001b[1;33m\u001b[0m\u001b[0m\n\u001b[1;32m----> 2\u001b[1;33m \u001b[1;32mfor\u001b[0m \u001b[0mk\u001b[0m\u001b[1;33m,\u001b[0m \u001b[0mv\u001b[0m \u001b[1;32min\u001b[0m \u001b[0md\u001b[0m\u001b[1;33m.\u001b[0m\u001b[0mitems\u001b[0m\u001b[1;33m(\u001b[0m\u001b[1;33m)\u001b[0m\u001b[1;33m:\u001b[0m\u001b[1;33m\u001b[0m\u001b[1;33m\u001b[0m\u001b[0m\n\u001b[0m\u001b[0;32m      3\u001b[0m     \u001b[0mprint\u001b[0m\u001b[1;33m(\u001b[0m\u001b[0mk\u001b[0m\u001b[1;33m,\u001b[0m \u001b[0mv\u001b[0m\u001b[1;33m)\u001b[0m\u001b[1;33m\u001b[0m\u001b[1;33m\u001b[0m\u001b[0m\n\u001b[0;32m      4\u001b[0m     \u001b[0md\u001b[0m\u001b[1;33m[\u001b[0m\u001b[1;34m'new_key'\u001b[0m\u001b[1;33m]\u001b[0m \u001b[1;33m=\u001b[0m \u001b[1;36m1000\u001b[0m\u001b[1;33m\u001b[0m\u001b[1;33m\u001b[0m\u001b[0m\n\u001b[0;32m      5\u001b[0m \u001b[1;33m\u001b[0m\u001b[0m\n",
      "\u001b[1;31mRuntimeError\u001b[0m: dictionary changed size during iteration"
     ]
    }
   ],
   "metadata": {}
  },
  {
   "cell_type": "markdown",
   "source": [
    "### We can iterate over the dictionary views or the dictionary itself"
   ],
   "metadata": {}
  },
  {
   "cell_type": "code",
   "execution_count": 17,
   "source": [
    "d = dict.fromkeys('python', 0)\r\n",
    " \r\n",
    "for k in iter(d):\r\n",
    "    print(k)\r\n",
    "    \r\n",
    "for k in d.keys():\r\n",
    "    print(k)"
   ],
   "outputs": [
    {
     "output_type": "stream",
     "name": "stdout",
     "text": [
      "p\n",
      "y\n",
      "t\n",
      "h\n",
      "o\n",
      "n\n",
      "p\n",
      "y\n",
      "t\n",
      "h\n",
      "o\n",
      "n\n"
     ]
    }
   ],
   "metadata": {}
  }
 ],
 "metadata": {
  "hide_input": false,
  "kernelspec": {
   "name": "python3",
   "display_name": "Python 3.9.5 64-bit ('spenncon': conda)"
  },
  "language_info": {
   "codemirror_mode": {
    "name": "ipython",
    "version": 3
   },
   "file_extension": ".py",
   "mimetype": "text/x-python",
   "name": "python",
   "nbconvert_exporter": "python",
   "pygments_lexer": "ipython3",
   "version": "3.9.5"
  },
  "latex_envs": {
   "LaTeX_envs_menu_present": true,
   "autocomplete": true,
   "bibliofile": "biblio.bib",
   "cite_by": "apalike",
   "current_citInitial": 1,
   "eqLabelWithNumbers": true,
   "eqNumInitial": 1,
   "hotkeys": {
    "equation": "Ctrl-E",
    "itemize": "Ctrl-I"
   },
   "labels_anchors": false,
   "latex_user_defs": false,
   "report_style_numbering": false,
   "user_envs_cfg": false
  },
  "toc": {
   "colors": {
    "hover_highlight": "#DAA520",
    "navigate_num": "#000000",
    "navigate_text": "#333333",
    "running_highlight": "#FF0000",
    "selected_highlight": "#FFD700",
    "sidebar_border": "#EEEEEE",
    "wrapper_background": "#FFFFFF"
   },
   "moveMenuLeft": false,
   "navigate_menu": false,
   "number_sections": false,
   "sideBar": false,
   "threshold": "6",
   "toc_cell": true,
   "toc_section_display": "block",
   "toc_window_display": false,
   "widenNotebook": false
  },
  "interpreter": {
   "hash": "05d659cf7217a31b7ba206b7e3fe1d98040361cb242cc44ce7c59206cfd427bc"
  }
 },
 "nbformat": 4,
 "nbformat_minor": 2
}