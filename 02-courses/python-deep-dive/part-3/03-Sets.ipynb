{
 "cells": [
  {
   "cell_type": "code",
   "execution_count": 8,
   "source": [
    "# create set\r\n",
    "\r\n",
    "s = {'Mads', 'Brede', 'Theo'}\r\n",
    "s1 = set([1, 1, 2, 5, 6, 7, 8])\r\n",
    "s2 = set(range(10))\r\n",
    "s3 = set('python')\r\n",
    "\r\n",
    "\r\n",
    "# set comprehension\r\n",
    "s4 = {c for c in 'python' if c is not 'p'}\r\n",
    "\r\n",
    "to_print = [s, s1, s2, s3, s4]\r\n",
    "for s in to_print:\r\n",
    "    print(s)"
   ],
   "outputs": [
    {
     "output_type": "stream",
     "name": "stdout",
     "text": [
      "{'Theo', 'Brede', 'Mads'}\n",
      "{1, 2, 5, 6, 7, 8}\n",
      "{0, 1, 2, 3, 4, 5, 6, 7, 8, 9}\n",
      "{'h', 'y', 't', 'n', 'o', 'p'}\n",
      "{'h', 'y', 'n', 't', 'o'}\n"
     ]
    }
   ],
   "metadata": {}
  },
  {
   "cell_type": "markdown",
   "source": [
    "### combining sets"
   ],
   "metadata": {}
  },
  {
   "cell_type": "code",
   "execution_count": 7,
   "source": [
    "s1 = set('abc')\r\n",
    "s2 = {'b', 'c', 'd'}\r\n",
    "\r\n",
    "s = {*s1, *s2}\r\n",
    "l = [*s1, *s2]\r\n",
    "\r\n",
    "print('combined sets into new set: ', s)\r\n",
    "print('combined sets into list: ', l)"
   ],
   "outputs": [
    {
     "output_type": "stream",
     "name": "stdout",
     "text": [
      "combined sets into new set:  {'c', 'a', 'd', 'b'}\n",
      "combined sets into list:  ['c', 'a', 'b', 'c', 'd', 'b']\n"
     ]
    }
   ],
   "metadata": {}
  },
  {
   "cell_type": "markdown",
   "source": [
    "### Set comprehenson"
   ],
   "metadata": {}
  },
  {
   "cell_type": "code",
   "execution_count": 1,
   "source": [
    "nums = [1, 2, 4, 1 , 2, 3, 4, 1, 8, 9,  5, 6, 1, 4, 7, 8, 3, 5, 9]\r\n",
    "{n for n in nums}"
   ],
   "outputs": [
    {
     "output_type": "execute_result",
     "data": {
      "text/plain": [
       "{1, 2, 3, 4, 5, 6, 7, 8, 9}"
      ]
     },
     "metadata": {},
     "execution_count": 1
    }
   ],
   "metadata": {}
  },
  {
   "cell_type": "markdown",
   "source": [
    "### Adding element to a set"
   ],
   "metadata": {}
  },
  {
   "cell_type": "code",
   "execution_count": 9,
   "source": [
    "s = {5, 10, 15}\r\n",
    "s.add(20)\r\n",
    "s"
   ],
   "outputs": [
    {
     "output_type": "execute_result",
     "data": {
      "text/plain": [
       "{5, 10, 15, 20}"
      ]
     },
     "metadata": {},
     "execution_count": 9
    }
   ],
   "metadata": {}
  },
  {
   "cell_type": "markdown",
   "source": [
    "### Remove an element from a set"
   ],
   "metadata": {}
  },
  {
   "cell_type": "code",
   "execution_count": 10,
   "source": [
    "s = {5, 10, 15}\r\n",
    "s.remove(10)\r\n",
    "s"
   ],
   "outputs": [
    {
     "output_type": "execute_result",
     "data": {
      "text/plain": [
       "{5, 15}"
      ]
     },
     "metadata": {},
     "execution_count": 10
    }
   ],
   "metadata": {}
  },
  {
   "cell_type": "markdown",
   "source": [
    "### Use **.discard** to remove an element, but avoid a KeyError if the element is not in the set"
   ],
   "metadata": {}
  },
  {
   "cell_type": "code",
   "execution_count": 11,
   "source": [
    "s = {5, 10, 15}\r\n",
    "s.discard(100)\r\n",
    "s"
   ],
   "outputs": [
    {
     "output_type": "execute_result",
     "data": {
      "text/plain": [
       "{5, 10, 15}"
      ]
     },
     "metadata": {},
     "execution_count": 11
    }
   ],
   "metadata": {}
  },
  {
   "cell_type": "markdown",
   "source": [
    "### Pop a random element from the set"
   ],
   "metadata": {}
  },
  {
   "cell_type": "code",
   "execution_count": 13,
   "source": [
    "s = set('python')\r\n",
    "popped = s.pop()\r\n",
    "print('popped element: ', popped)\r\n",
    "print('remaining set: ', s)"
   ],
   "outputs": [
    {
     "output_type": "stream",
     "name": "stdout",
     "text": [
      "popped element:  y\n",
      "remaining set:  {'o', 'h', 'n', 't', 'p'}\n"
     ]
    }
   ],
   "metadata": {}
  },
  {
   "cell_type": "markdown",
   "source": [
    "## Set Operations"
   ],
   "metadata": {}
  },
  {
   "cell_type": "markdown",
   "source": [
    "### Intersection: the items that are present in **`both/all`** sets"
   ],
   "metadata": {}
  },
  {
   "cell_type": "code",
   "execution_count": 40,
   "source": [
    "\r\n",
    "s1 = {1, 2, 3}\r\n",
    "s2 = {2, 3, 4}\r\n",
    "s3 = {3, 4, 5}\r\n",
    "\r\n",
    "# Method 1\r\n",
    "intersection_s1_s2 = s1.intersection(s2)\r\n",
    "intersection_s1_s2_s3 = s1.intersection(s2, s3)\r\n",
    "\r\n",
    "# Any iterable will work\r\n",
    "intersection_s1_rng = s1.intersection(range(10))\r\n",
    "\r\n",
    "print('Method 1: using method')\r\n",
    "print('intersection_s1_s2: ', intersection_s1_s2)\r\n",
    "print('intersection_s1_s2_s3: ', intersection_s1_s2_s3)\r\n",
    "print('intersection_s1_rng: ', intersection_s1_rng, end='\\n\\n')\r\n",
    "\r\n",
    "# Method 1\r\n",
    "intersection_s1_s2 = s1 & s2\r\n",
    "intersection_s1_s2_s3 = s1 & s2 & s3\r\n",
    "\r\n",
    "print('Method 2: using &')\r\n",
    "print('intersection_s1_s2: ', intersection_s1_s2)\r\n",
    "print('intersection_s1_s2_s3: ', intersection_s1_s2_s3)"
   ],
   "outputs": [
    {
     "output_type": "stream",
     "name": "stdout",
     "text": [
      "Method 1: using method\n",
      "intersection_s1_s2:  {2, 3}\n",
      "intersection_s1_s2_s3:  {3}\n",
      "intersection_s1_rng:  {1, 2, 3}\n",
      "\n",
      "Method 2: using &\n",
      "intersection_s1_s2:  {2, 3}\n",
      "intersection_s1_s2_s3:  {3}\n"
     ]
    }
   ],
   "metadata": {}
  },
  {
   "cell_type": "markdown",
   "source": [
    "We can find the intersection between two lists by turning one of the lists into a set"
   ],
   "metadata": {}
  },
  {
   "cell_type": "code",
   "execution_count": 41,
   "source": [
    "l1 = [1, 2, 3]\r\n",
    "l2 = [2, 3, 4]\r\n",
    "set(l1).intersection(l2)"
   ],
   "outputs": [
    {
     "output_type": "execute_result",
     "data": {
      "text/plain": [
       "{2, 3}"
      ]
     },
     "metadata": {},
     "execution_count": 41
    }
   ],
   "metadata": {}
  },
  {
   "cell_type": "markdown",
   "source": [
    "### Union: The union of two sets is a set containing all elements that are in A or in B (possibly both)"
   ],
   "metadata": {}
  },
  {
   "cell_type": "code",
   "execution_count": 19,
   "source": [
    "s1 = {1, 2, 3}\r\n",
    "s2 = {2, 3, 4}\r\n",
    "s3 = {3, 4, 5}\r\n",
    "\r\n",
    "# Method 1\r\n",
    "union_s1_s2 = s1.union(s2)\r\n",
    "union_s1_s2_s3 = s1.union(s2, s3)\r\n",
    "\r\n",
    "print('Method 1: using method')\r\n",
    "print('intersection_s1_s2: ', union_s1_s2)\r\n",
    "print('intersection_s1_s2_s3: ', union_s1_s2_s3, end='\\n\\n')\r\n",
    "\r\n",
    "# Method 1\r\n",
    "union_s1_s2 = s1 | s2\r\n",
    "union_s1_s2_s3 = s1 | s2 | s3\r\n",
    "\r\n",
    "print('Method 2: using |')\r\n",
    "print('intersection_s1_s2: ', union_s1_s2)\r\n",
    "print('intersection_s1_s2_s3: ', union_s1_s2_s3)"
   ],
   "outputs": [
    {
     "output_type": "stream",
     "name": "stdout",
     "text": [
      "Method 1: using method\n",
      "intersection_s1_s2:  {1, 2, 3, 4}\n",
      "intersection_s1_s2_s3:  {1, 2, 3, 4, 5}\n",
      "\n",
      "Method 2: using |\n",
      "intersection_s1_s2:  {1, 2, 3, 4}\n",
      "intersection_s1_s2_s3:  {1, 2, 3, 4, 5}\n"
     ]
    }
   ],
   "metadata": {}
  },
  {
   "cell_type": "markdown",
   "source": [
    "### How to check if sets are disjoined"
   ],
   "metadata": {}
  },
  {
   "cell_type": "code",
   "execution_count": 23,
   "source": [
    "s1 = {1, 2, 3}\r\n",
    "s2 = {2, 3, 4}\r\n",
    "s3 = {30, 40, 50}\r\n",
    "\r\n",
    "# Method 1\r\n",
    "s1_s2_disjoined = s1.isdisjoint(s1)\r\n",
    "s1_s3_disjoined = s1.isdisjoint(s3)\r\n",
    "\r\n",
    "print('s1_s2_disjoined: ', s1_s2_disjoined)\r\n",
    "print('s1_s3_disjoined: ', s1_s3_disjoined)\r\n",
    "\r\n",
    "# Method 2\r\n",
    "len_s1_s2_union = len(s1 & s2)\r\n",
    "len_s1_s3_union = len(s1 & s3)\r\n",
    "print('len_s1_s2_union: ', len_s1_s2_union)\r\n",
    "print('len_s1_s3_union: ', len_s1_s3_union)\r\n"
   ],
   "outputs": [
    {
     "output_type": "stream",
     "name": "stdout",
     "text": [
      "s1_s2_disjoined:  False\n",
      "s1_s3_disjoined:  True\n",
      "len_s1_s2_union:  2\n",
      "len_s1_s3_union:  0\n"
     ]
    }
   ],
   "metadata": {}
  },
  {
   "cell_type": "markdown",
   "source": [
    "### Difference"
   ],
   "metadata": {}
  },
  {
   "cell_type": "code",
   "execution_count": 25,
   "source": [
    "s1 = {1, 2, 3, 4, 5}\r\n",
    "s2 = {4, 5, 6}\r\n",
    "\r\n",
    "# Method 1\r\n",
    "s1_diff_s2 = s1.difference(s2)\r\n",
    "s2_diff_s1 = s2.difference(s1)\r\n",
    "\r\n",
    "print('s1_diff_s2: ', s1_diff_s2)\r\n",
    "print('s2_diff_s1: ', s2_diff_s1)\r\n",
    "\r\n",
    "# Method 2\r\n",
    "s1_diff_s2 = s1 - s2\r\n",
    "s2_diff_s1 = s2 - s1\r\n",
    "\r\n",
    "print('s1_diff_s2: ', s1_diff_s2)\r\n",
    "print('s2_diff_s1: ', s2_diff_s1)"
   ],
   "outputs": [
    {
     "output_type": "stream",
     "name": "stdout",
     "text": [
      "s1_diff_s2:  {1, 2, 3}\n",
      "s2_diff_s1:  {6}\n",
      "s1_diff_s2:  {1, 2, 3}\n",
      "s2_diff_s1:  {6}\n"
     ]
    }
   ],
   "metadata": {}
  },
  {
   "cell_type": "code",
   "execution_count": 26,
   "source": [
    "s1 = {1, 2, 3}\r\n",
    "s2 = {3, 4}\r\n",
    "s3 = {3, 4}\r\n",
    "\r\n",
    "print('s1 - (s2 - s3): ', s1 - (s2 - s3))\r\n",
    "print('(s1 - s2) - s3: ', (s1 - s2) - s3)\r\n",
    "print('s1.difference(s2, s3): ', s1.difference(s2, s3))"
   ],
   "outputs": [
    {
     "output_type": "stream",
     "name": "stdout",
     "text": [
      "s1 - (s2 - s3):  {1, 2, 3}\n",
      "(s1 - s2) - s3:  {1, 2}\n",
      "s1.difference(s2, s3):  {1, 2}\n"
     ]
    }
   ],
   "metadata": {}
  },
  {
   "cell_type": "markdown",
   "source": [
    "### Symmetric differences: Elements that are unique to each set"
   ],
   "metadata": {}
  },
  {
   "cell_type": "code",
   "execution_count": 30,
   "source": [
    "s1 = {1, 2, 3, 4, 5}\r\n",
    "s2 = {4, 5, 6, 7, 8}\r\n",
    "\r\n",
    "# Method 1\r\n",
    "sym_diff = s1.symmetric_difference(s2)\r\n",
    "print('symmetric difference (method): ', sym_diff )\r\n",
    "\r\n",
    "# Method 2\r\n",
    "sym_diff = s1 ^ s2\r\n",
    "print('symmetric difference (^): ', sym_diff )"
   ],
   "outputs": [
    {
     "output_type": "stream",
     "name": "stdout",
     "text": [
      "symmetric difference (method):  {1, 2, 3, 6, 7, 8}\n",
      "symmetric difference (^):  {1, 2, 3, 6, 7, 8}\n"
     ]
    }
   ],
   "metadata": {}
  },
  {
   "cell_type": "markdown",
   "source": [
    "### Subset and supersets"
   ],
   "metadata": {}
  },
  {
   "cell_type": "code",
   "execution_count": 39,
   "source": [
    "s1 = {1, 2, 3}\r\n",
    "s2 = {1, 2, 3}\r\n",
    "s3 = {1, 2, 3, 4}\r\n",
    "s4 = {1, 2, 10, 20, 30}\r\n",
    "\r\n",
    "s1_issubset_s2 = s1.issubset(s2)\r\n",
    "print('is s1 subset of s2? ', s1_issubset_s2)\r\n",
    "\r\n",
    "s1_issubset_s3 = s1.issubset(s3)\r\n",
    "print('is s1 subset of s3? ', s1_issubset_s3)\r\n",
    "\r\n",
    "s1_issuperset_s2 = s1.issuperset(s2)\r\n",
    "print('is s1 superset of s2? ', s1_issuperset_s2)\r\n",
    "\r\n",
    "s1_issuperset_s3 = s1.issuperset(s3)\r\n",
    "print('is s1 superset of s3? ', s1_issuperset_s3)\r\n",
    "\r\n",
    "s3_issuperset_s1 = s3.issuperset(s1)\r\n",
    "print('is s3 superset of s1? ', s3_issuperset_s1)\r\n",
    "\r\n",
    "s4_issuperset_s3 = s4.issuperset(s3)\r\n",
    "print('is s4 superset of s3? ', s4_issuperset_s3)"
   ],
   "outputs": [
    {
     "output_type": "stream",
     "name": "stdout",
     "text": [
      "is s1 subset of s2?  True\n",
      "is s1 subset of s3?  True\n",
      "is s1 superset of s2?  True\n",
      "is s1 superset of s3?  False\n",
      "is s3 superset of s1?  True\n",
      "is s4 superset of s3?  False\n"
     ]
    }
   ],
   "metadata": {}
  },
  {
   "cell_type": "markdown",
   "source": [
    "## Sets - Update Operations"
   ],
   "metadata": {}
  },
  {
   "cell_type": "markdown",
   "source": [
    "### Union"
   ],
   "metadata": {}
  },
  {
   "cell_type": "code",
   "execution_count": 47,
   "source": [
    "# Method 1\r\n",
    "s1 = {1, 2, 3}\r\n",
    "s2 = {2, 3, 4}\r\n",
    "print(f'id(s1) before update: {id(s1)}, s1={s1}')\r\n",
    "s1.update(s2)\r\n",
    "print(f'id(s1) after update: {id(s1)}, s1={s1}')\r\n",
    "\r\n",
    "# Method 2\r\n",
    "s1 = {1, 2, 3}\r\n",
    "s2 = {2, 3, 4}\r\n",
    "print(f'id(s1) before update: {id(s1)}, s1={s1}')\r\n",
    "s1 |= s2\r\n",
    "print(f'id(s1) after update: {id(s1)}, s1={s1}')"
   ],
   "outputs": [
    {
     "output_type": "stream",
     "name": "stdout",
     "text": [
      "id(s1) before update: 2368633593632, s1={1, 2, 3}\n",
      "id(s1) after update: 2368633593632, s1={1, 2, 3, 4}\n",
      "id(s1) before update: 2368633591616, s1={1, 2, 3}\n",
      "id(s1) after update: 2368633591616, s1={1, 2, 3, 4}\n"
     ]
    }
   ],
   "metadata": {}
  },
  {
   "cell_type": "markdown",
   "source": [
    "### Intersection"
   ],
   "metadata": {}
  },
  {
   "cell_type": "code",
   "execution_count": 49,
   "source": [
    "# Method 1\r\n",
    "s1 = {1, 2, 3}\r\n",
    "s2 = {2, 3, 4}\r\n",
    "print(f'id(s1) before update: {id(s1)}, s1={s1}, s2={s2}')\r\n",
    "s1.intersection_update(s2)\r\n",
    "print(f'id(s1) after update: {id(s1)}, s1={s1}')\r\n",
    "\r\n",
    "# Method 2\r\n",
    "s1 = {1, 2, 3}\r\n",
    "s2 = {2, 3, 4}\r\n",
    "print(f'id(s1) before update: {id(s1)}, s1={s1}, s2={s2}')\r\n",
    "s1 &= s2\r\n",
    "print(f'id(s1) after update: {id(s1)}, s1={s1}')"
   ],
   "outputs": [
    {
     "output_type": "stream",
     "name": "stdout",
     "text": [
      "id(s1) before update: 2368633590048, s1={1, 2, 3}, s2={2, 3, 4}\n",
      "id(s1) after update: 2368633590048, s1={2, 3}\n",
      "id(s1) before update: 2368633592512, s1={1, 2, 3}, s2={2, 3, 4}\n",
      "id(s1) after update: 2368633592512, s1={2, 3}\n"
     ]
    }
   ],
   "metadata": {}
  },
  {
   "cell_type": "markdown",
   "source": [
    "### Difference"
   ],
   "metadata": {}
  },
  {
   "cell_type": "code",
   "execution_count": 50,
   "source": [
    "# Method 1\r\n",
    "s1 = {1, 2, 3}\r\n",
    "s2 = {2, 3, 4}\r\n",
    "print(f'id(s1) before update: {id(s1)}, s1={s1}, s2={s2}')\r\n",
    "s1.difference_update(s2)\r\n",
    "print(f'id(s1) after update: {id(s1)}, s1={s1}')\r\n",
    "\r\n",
    "# Method 2\r\n",
    "s1 = {1, 2, 3}\r\n",
    "s2 = {2, 3, 4}\r\n",
    "print(f'id(s1) before update: {id(s1)}, s1={s1}, s2={s2}')\r\n",
    "s1 -= s2\r\n",
    "print(f'id(s1) after update: {id(s1)}, s1={s1}')"
   ],
   "outputs": [
    {
     "output_type": "stream",
     "name": "stdout",
     "text": [
      "id(s1) before update: 2368633593184, s1={1, 2, 3}, s2={2, 3, 4}\n",
      "id(s1) after update: 2368633593184, s1={1}\n",
      "id(s1) before update: 2368633591616, s1={1, 2, 3}, s2={2, 3, 4}\n",
      "id(s1) after update: 2368633591616, s1={1}\n"
     ]
    }
   ],
   "metadata": {}
  },
  {
   "cell_type": "markdown",
   "source": [
    "### Symmetric difference"
   ],
   "metadata": {}
  },
  {
   "cell_type": "code",
   "execution_count": 51,
   "source": [
    "# Method 1\r\n",
    "s1 = {1, 2, 3}\r\n",
    "s2 = {2, 3, 4}\r\n",
    "print(f'id(s1) before update: {id(s1)}, s1={s1}, s2={s2}')\r\n",
    "s1.symmetric_difference_update(s2)\r\n",
    "print(f'id(s1) after update: {id(s1)}, s1={s1}')\r\n",
    "\r\n",
    "# Method 2\r\n",
    "s1 = {1, 2, 3}\r\n",
    "s2 = {2, 3, 4}\r\n",
    "print(f'id(s1) before update: {id(s1)}, s1={s1}, s2={s2}')\r\n",
    "s1 ^= s2\r\n",
    "print(f'id(s1) after update: {id(s1)}, s1={s1}')"
   ],
   "outputs": [
    {
     "output_type": "stream",
     "name": "stdout",
     "text": [
      "id(s1) before update: 2368633590496, s1={1, 2, 3}, s2={2, 3, 4}\n",
      "id(s1) after update: 2368633590496, s1={1, 4}\n",
      "id(s1) before update: 2368633593184, s1={1, 2, 3}, s2={2, 3, 4}\n",
      "id(s1) after update: 2368633593184, s1={1, 4}\n"
     ]
    }
   ],
   "metadata": {}
  },
  {
   "cell_type": "markdown",
   "source": [
    "### Use sets as a way to filter"
   ],
   "metadata": {}
  },
  {
   "cell_type": "code",
   "execution_count": 53,
   "source": [
    "def combine(string, target):\r\n",
    "    target.update(string.split(' '))\r\n",
    "    \r\n",
    "def cleanup(combined):\r\n",
    "    words = {'the', 'and', 'a', 'or', 'is', 'of'}\r\n",
    "    combined -= words\r\n",
    "    \r\n",
    "result = set()\r\n",
    "combine('lumberjacks sleep all night', result)\r\n",
    "combine('the ministry of silly walks', result)\r\n",
    "combine('this parrot is a late parrot', result)\r\n",
    "cleanup(result)\r\n",
    "print(result)"
   ],
   "outputs": [
    {
     "output_type": "stream",
     "name": "stdout",
     "text": [
      "{'late', 'lumberjacks', 'silly', 'parrot', 'all', 'this', 'sleep', 'night', 'ministry', 'walks'}\n"
     ]
    }
   ],
   "metadata": {}
  },
  {
   "cell_type": "code",
   "execution_count": 54,
   "source": [
    "def gen_read_data():\r\n",
    "    yield ['Paris', 'Beijing', 'New York', 'London', 'Madrid', 'Mumbai']\r\n",
    "    yield ['Hyderabad', 'New York', 'Milan', 'Phoenix', 'Berlin', 'Cairo']\r\n",
    "    yield ['Stockholm', 'Cairo', 'Paris', 'Barcelona', 'San Fransico']\r\n",
    "    \r\n",
    "def filter_incoming(*cities, data_set):\r\n",
    "    data_set.difference_update(cities)\r\n",
    "    \r\n",
    "result = set()\r\n",
    "data = gen_read_data()\r\n",
    "for page in data:\r\n",
    "    result.update(page)\r\n",
    "    filter_incoming('Paris', 'London', data_set=result)\r\n",
    "print(result)"
   ],
   "outputs": [
    {
     "output_type": "stream",
     "name": "stdout",
     "text": [
      "{'Mumbai', 'Cairo', 'New York', 'Stockholm', 'Barcelona', 'San Fransico', 'Madrid', 'Hyderabad', 'Phoenix', 'Milan', 'Berlin', 'Beijing'}\n"
     ]
    }
   ],
   "metadata": {}
  },
  {
   "cell_type": "markdown",
   "source": [
    "## Frozen sets\r\n",
    "- Immutable sets\r\n",
    "- Same properties and behavior as sets otherwise\r\n",
    "- Their elements can be mutable as long as those elements are hashable\r\n",
    "- Can be used as a key in a dictionary or an element of another set"
   ],
   "metadata": {}
  },
  {
   "cell_type": "code",
   "execution_count": 56,
   "source": [
    "s = frozenset('python')\r\n",
    "s"
   ],
   "outputs": [
    {
     "output_type": "execute_result",
     "data": {
      "text/plain": [
       "frozenset({'h', 'n', 'o', 'p', 't', 'y'})"
      ]
     },
     "metadata": {},
     "execution_count": 56
    }
   ],
   "metadata": {}
  },
  {
   "cell_type": "code",
   "execution_count": 57,
   "source": [
    "class Person:\r\n",
    "    def __init__(self, name, age):\r\n",
    "        self._name = name\r\n",
    "        self._age = age\r\n",
    "        \r\n",
    "    def __repr__(self):\r\n",
    "        return f'Person(name={self._name}, age={self._age})'\r\n",
    "    \r\n",
    "    @property\r\n",
    "    def name(self):\r\n",
    "        return self._name\r\n",
    "    \r\n",
    "    @property\r\n",
    "    def age(self):\r\n",
    "        return self._age\r\n",
    "    \r\n",
    "    def key(self):\r\n",
    "        return frozenset({self.name, self.age})\r\n",
    "    \r\n",
    "\r\n",
    "p1 = Person('John', 78)\r\n",
    "p2 = Person('Erik', 75)\r\n",
    "\r\n",
    "d = {p1.key(): p1, p2.key(): p2}\r\n",
    "\r\n",
    "d[frozenset(['John', 78])]"
   ],
   "outputs": [
    {
     "output_type": "execute_result",
     "data": {
      "text/plain": [
       "Person(name=John, age=78)"
      ]
     },
     "metadata": {},
     "execution_count": 57
    }
   ],
   "metadata": {}
  },
  {
   "cell_type": "code",
   "execution_count": 61,
   "source": [
    "from functools import lru_cache\r\n",
    "\r\n",
    "@lru_cache\r\n",
    "def my_func(*, a, b):\r\n",
    "    print('calculating a+b')\r\n",
    "    return a + b\r\n",
    "\r\n",
    "print(my_func(a=1, b=2))\r\n",
    "print(my_func(a=1, b=2))\r\n",
    "print(my_func(a=2, b=1))"
   ],
   "outputs": [
    {
     "output_type": "stream",
     "name": "stdout",
     "text": [
      "calculating a+b\n",
      "3\n",
      "3\n",
      "calculating a+b\n",
      "3\n"
     ]
    }
   ],
   "metadata": {}
  },
  {
   "cell_type": "code",
   "execution_count": 63,
   "source": [
    "def memoizer(fn):\r\n",
    "    cache = {}\r\n",
    "    \r\n",
    "    def inner(*args, **kwargs):\r\n",
    "        key = (*args, frozenset(kwargs.items()))\r\n",
    "        if key in cache:\r\n",
    "            return cache[key]\r\n",
    "        result = fn(*args, **kwargs)\r\n",
    "        cache[key] = result\r\n",
    "        return result\r\n",
    "    return inner\r\n",
    "\r\n",
    "@memoizer\r\n",
    "def my_func(*, a, b):\r\n",
    "    print('calculating a+b')\r\n",
    "    return a + b\r\n",
    "\r\n",
    "print(my_func(a=1, b=2))\r\n",
    "print(my_func(a=1, b=2))\r\n",
    "\r\n",
    "# Python will not recalculate even after we change the order of a and b\r\n",
    "print(my_func(b=2, a=1))"
   ],
   "outputs": [
    {
     "output_type": "stream",
     "name": "stdout",
     "text": [
      "calculating a+b\n",
      "3\n",
      "3\n",
      "3\n"
     ]
    }
   ],
   "metadata": {}
  },
  {
   "cell_type": "code",
   "execution_count": 71,
   "source": [
    "\r\n",
    "def memoizer(fn):\r\n",
    "    cache = {}\r\n",
    "    \r\n",
    "    def inner(*args, **kwargs):\r\n",
    "        key = frozenset(args) | frozenset(kwargs.items())\r\n",
    "        if key in cache:\r\n",
    "            return cache[key]\r\n",
    "        result = fn(*args, **kwargs)\r\n",
    "        cache[key] = result\r\n",
    "        return result\r\n",
    "    return inner\r\n",
    "\r\n",
    "@memoizer\r\n",
    "def my_func(*args):\r\n",
    "    print('calculating a+b')\r\n",
    "    return sum(args)\r\n",
    "print(my_func(1, 2, 3, 4))\r\n",
    "print(my_func(2, 3, 1, 4))\r\n",
    "print(my_func(4, 3, 2, 1))\r\n"
   ],
   "outputs": [
    {
     "output_type": "stream",
     "name": "stdout",
     "text": [
      "calculating a+b\n",
      "10\n",
      "10\n",
      "10\n"
     ]
    }
   ],
   "metadata": {}
  }
 ],
 "metadata": {
  "language_info": {
   "codemirror_mode": {
    "name": "ipython",
    "version": 3
   },
   "file_extension": ".py",
   "mimetype": "text/x-python",
   "name": "python",
   "nbconvert_exporter": "python",
   "pygments_lexer": "ipython3",
   "version": "3.9.5"
  },
  "orig_nbformat": 2,
  "kernelspec": {
   "name": "python3",
   "display_name": "Python 3.9.5 64-bit ('spenncon': conda)"
  },
  "interpreter": {
   "hash": "05d659cf7217a31b7ba206b7e3fe1d98040361cb242cc44ce7c59206cfd427bc"
  }
 },
 "nbformat": 4,
 "nbformat_minor": 2
}