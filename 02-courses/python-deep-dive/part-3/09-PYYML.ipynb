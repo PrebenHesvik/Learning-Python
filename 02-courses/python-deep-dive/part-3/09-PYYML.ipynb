{
 "cells": [
  {
   "cell_type": "code",
   "execution_count": 8,
   "source": [
    "\r\n",
    "import yaml\r\n",
    "from datetime import date"
   ],
   "outputs": [],
   "metadata": {}
  },
  {
   "cell_type": "markdown",
   "source": [],
   "metadata": {}
  },
  {
   "cell_type": "markdown",
   "source": [
    "YAML, like JSON, is another data serialization standard. It is actually easier to read than JSON, and although it has been around for a long time (since 2001), it has gained a lot of popularity, especially in the Dev Ops world for configuration files (Docker, Kubernetes, etc).\r\n",
    "\r\n",
    "Like JSON it is able to represent simple data types (strings, numbers, boolean, etc) as well as collections and associative arrays (dictionaries).\r\n",
    "\r\n",
    "YAML focuses on human readability, and is a little more complex to parse.\r\n",
    "\r\n",
    "Here is a sample YAML file:"
   ],
   "metadata": {}
  },
  {
   "cell_type": "markdown",
   "source": [
    "```\r\n",
    "title: Parrot Sketch\r\n",
    "year: 1989\r\n",
    "actors:\r\n",
    "    - first_name: John\r\n",
    "      last_name: Cleese\r\n",
    "      dob: 1939-10-27\r\n",
    "    - first_name: Michael\r\n",
    "      last_name: Palin\r\n",
    "      dob: 1943-05-05\r\n",
    "```"
   ],
   "metadata": {}
  },
  {
   "cell_type": "markdown",
   "source": [
    "As you can see this is much easier to read than JSON or XML."
   ],
   "metadata": {}
  },
  {
   "cell_type": "markdown",
   "source": [
    "To parse YAML into a Python dictionary would take a fair amount of work - especially since YAML is quite flexible."
   ],
   "metadata": {}
  },
  {
   "cell_type": "markdown",
   "source": [
    "Fortunately, we can use the 3rd party library, `pyyaml` to do this for us.\n",
    "\n",
    "Again, I'm only going to show you a tiny bit of this library, and you can read more about it here:\n",
    "https://pyyaml.org/wiki/PyYAMLDocumentation\n",
    "\n",
    "(It's definitely less of a learning curve than Marshmallow!!)"
   ],
   "metadata": {}
  },
  {
   "cell_type": "markdown",
   "source": [
    "#### Caution\r\n",
    "When you load a yaml file using pyyaml, be careful - like pickling it can actually call out to Python functions - so do not load untrusted YAML files using `pyyaml`!"
   ],
   "metadata": {}
  },
  {
   "cell_type": "code",
   "execution_count": 7,
   "source": [
    "data = '''\r\n",
    "---\r\n",
    "title: Parrot Sketch\r\n",
    "year: 1989\r\n",
    "actors:\r\n",
    "    - first_name: John\r\n",
    "      last_name: Cleese\r\n",
    "      dob: 1939-10-27\r\n",
    "    - first_name: Michael\r\n",
    "      last_name: Palin\r\n",
    "      dob: 1943-05-05\r\n",
    "'''\r\n",
    "\r\n",
    "d = yaml.load(data)\r\n",
    "print(type(d))\r\n",
    "print(d)"
   ],
   "outputs": [
    {
     "output_type": "stream",
     "name": "stdout",
     "text": [
      "<class 'dict'>\n",
      "{'title': 'Parrot Sketch', 'year': 1989, 'actors': [{'first_name': 'John', 'last_name': 'Cleese', 'dob': datetime.date(1939, 10, 27)}, {'first_name': 'Michael', 'last_name': 'Palin', 'dob': datetime.date(1943, 5, 5)}]}\n"
     ]
    },
    {
     "output_type": "stream",
     "name": "stderr",
     "text": [
      "<ipython-input-7-ed8431a968eb>:14: YAMLLoadWarning: calling yaml.load() without Loader=... is deprecated, as the default Loader is unsafe. Please read https://msg.pyyaml.org/load for full details.\n",
      "  d = yaml.load(data)\n"
     ]
    }
   ],
   "metadata": {}
  },
  {
   "cell_type": "code",
   "execution_count": 5,
   "source": [
    "d = {'a': 100, 'b': False, 'c': 10.5, 'd': [1, 2, 3]}\r\n",
    "print(yaml.dump(d))"
   ],
   "outputs": [
    {
     "output_type": "stream",
     "name": "stdout",
     "text": [
      "a: 100\n",
      "b: false\n",
      "c: 10.5\n",
      "d:\n",
      "- 1\n",
      "- 2\n",
      "- 3\n",
      "\n"
     ]
    }
   ],
   "metadata": {}
  },
  {
   "cell_type": "code",
   "execution_count": 9,
   "source": [
    "\r\n",
    "class Person:\r\n",
    "    def __init__(self, name, dob):\r\n",
    "        self.name = name\r\n",
    "        self.dob = dob\r\n",
    "        \r\n",
    "    def __repr__(self):\r\n",
    "        return f'Person(name={self.name}, dob={self.dob})'\r\n",
    "\r\n",
    "p1 = Person('John Cleese', date(1939, 10, 27))\r\n",
    "p2 = Person('Michael Palin', date(1934, 5, 5))\r\n",
    "\r\n",
    "print(yaml.dump({'john': p1, 'michael': p2}))"
   ],
   "outputs": [
    {
     "output_type": "stream",
     "name": "stdout",
     "text": [
      "john: !!python/object:__main__.Person\n",
      "  dob: 1939-10-27\n",
      "  name: John Cleese\n",
      "michael: !!python/object:__main__.Person\n",
      "  dob: 1934-05-05\n",
      "  name: Michael Palin\n",
      "\n"
     ]
    }
   ],
   "metadata": {}
  },
  {
   "cell_type": "code",
   "execution_count": 16,
   "source": [
    "class Person:\r\n",
    "    def __init__(self, name, dob):\r\n",
    "        self.name = name\r\n",
    "        self.dob = dob\r\n",
    "        \r\n",
    "    def __repr__(self):\r\n",
    "        return f'Person(name={self.name}, dob={self.dob})'\r\n",
    "\r\n",
    "yaml_data = '''\r\n",
    "john: !Person\r\n",
    "    name: John Cleese\r\n",
    "    age: 79\r\n",
    "michael: !Person\r\n",
    "    name: Michael Palin\r\n",
    "    age: 74\r\n",
    "'''\r\n",
    "\r\n",
    "yaml.load(yaml_data, Loader=yaml.BaseLoader)"
   ],
   "outputs": [
    {
     "output_type": "execute_result",
     "data": {
      "text/plain": [
       "{'john': {'name': 'John Cleese', 'age': '79'},\n",
       " 'michael': {'name': 'Michael Palin', 'age': '74'}}"
      ]
     },
     "metadata": {},
     "execution_count": 16
    }
   ],
   "metadata": {}
  }
 ],
 "metadata": {
  "orig_nbformat": 4,
  "language_info": {
   "name": "python",
   "version": "3.9.5",
   "mimetype": "text/x-python",
   "codemirror_mode": {
    "name": "ipython",
    "version": 3
   },
   "pygments_lexer": "ipython3",
   "nbconvert_exporter": "python",
   "file_extension": ".py"
  },
  "kernelspec": {
   "name": "python3",
   "display_name": "Python 3.9.5 64-bit ('spenncon': conda)"
  },
  "interpreter": {
   "hash": "05d659cf7217a31b7ba206b7e3fe1d98040361cb242cc44ce7c59206cfd427bc"
  }
 },
 "nbformat": 4,
 "nbformat_minor": 2
}