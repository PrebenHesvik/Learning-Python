{
 "cells": [
  {
   "cell_type": "code",
   "execution_count": 1,
   "source": [
    "from collections import defaultdict, Counter"
   ],
   "outputs": [],
   "metadata": {}
  },
  {
   "cell_type": "code",
   "execution_count": 2,
   "source": [
    "sentence = 'the quick brown fox jumps over the lazy dog'\r\n",
    "\r\n",
    "counter = defaultdict(int)\r\n",
    "for c in sentence:\r\n",
    "    counter[c] += 1\r\n",
    "\r\n",
    "print(counter)"
   ],
   "outputs": [
    {
     "output_type": "stream",
     "name": "stdout",
     "text": [
      "defaultdict(<class 'int'>, {'t': 2, 'h': 2, 'e': 3, ' ': 8, 'q': 1, 'u': 2, 'i': 1, 'c': 1, 'k': 1, 'b': 1, 'r': 2, 'o': 4, 'w': 1, 'n': 1, 'f': 1, 'x': 1, 'j': 1, 'm': 1, 'p': 1, 's': 1, 'v': 1, 'l': 1, 'a': 1, 'z': 1, 'y': 1, 'd': 1, 'g': 1})\n"
     ]
    }
   ],
   "metadata": {}
  },
  {
   "cell_type": "code",
   "execution_count": 4,
   "source": [
    "sentence = 'the quick brown fox jumps over the lazy dog'\r\n",
    "counter = Counter()\r\n",
    "for c in sentence:\r\n",
    "    counter[c] += 1\r\n",
    "    \r\n",
    "print(counter)"
   ],
   "outputs": [
    {
     "output_type": "stream",
     "name": "stdout",
     "text": [
      "Counter({' ': 8, 'o': 4, 'e': 3, 't': 2, 'h': 2, 'u': 2, 'r': 2, 'q': 1, 'i': 1, 'c': 1, 'k': 1, 'b': 1, 'w': 1, 'n': 1, 'f': 1, 'x': 1, 'j': 1, 'm': 1, 'p': 1, 's': 1, 'v': 1, 'l': 1, 'a': 1, 'z': 1, 'y': 1, 'd': 1, 'g': 1})\n"
     ]
    }
   ],
   "metadata": {}
  },
  {
   "cell_type": "markdown",
   "source": [
    "# Counter has a specialized constructor"
   ],
   "metadata": {}
  },
  {
   "cell_type": "code",
   "execution_count": 7,
   "source": [
    "sentence = 'the quick brown fox jumps over the lazy dog'\r\n",
    "counter = Counter(sentence)\r\n",
    "print(counter)\r\n"
   ],
   "outputs": [
    {
     "output_type": "stream",
     "name": "stdout",
     "text": [
      "Counter({' ': 8, 'o': 4, 'e': 3, 't': 2, 'h': 2, 'u': 2, 'r': 2, 'q': 1, 'i': 1, 'c': 1, 'k': 1, 'b': 1, 'w': 1, 'n': 1, 'f': 1, 'x': 1, 'j': 1, 'm': 1, 'p': 1, 's': 1, 'v': 1, 'l': 1, 'a': 1, 'z': 1, 'y': 1, 'd': 1, 'g': 1})\n"
     ]
    }
   ],
   "metadata": {}
  },
  {
   "cell_type": "markdown",
   "source": [
    "# Find top ten used words in a text"
   ],
   "metadata": {}
  },
  {
   "cell_type": "code",
   "execution_count": 9,
   "source": [
    "import re\r\n",
    "\r\n",
    "sentence = '''\r\n",
    "his module implements pseudo-random number generators for various distributions.\r\n",
    "\r\n",
    "For integers, there is uniform selection from a range. For sequences, there is uniform selection of a random element, \r\n",
    "a function to generate a random permutation of a list in-place, and a function for random sampling without replacement.\r\n",
    "\r\n",
    "On the real line, there are functions to compute uniform, normal (Gaussian), lognormal, negative exponential, gamma, \r\n",
    "and beta distributions. For generating distributions of angles, the von Mises distribution is available.\r\n",
    "\r\n",
    "Almost all module functions depend on the basic function random(), which generates a random float uniformly in the\r\n",
    "semi-open range [0.0, 1.0). Python uses the Mersenne Twister as the core generator. It produces 53-bit precision floats \r\n",
    "and has a period of 2**19937-1. The underlying implementation in C is both fast and threadsafe. \r\n",
    "The Mersenne Twister is one of the most extensively tested random number generators in existence. \r\n",
    "However, being completely deterministic, \r\n",
    "it is not suitable for all purposes, and is completely unsuitable for cryptographic purposes.\r\n",
    "'''\r\n",
    "\r\n",
    "words = re.split('\\W', sentence)\r\n",
    "word_count = Counter(words)\r\n",
    "print(word_count.most_common(10))"
   ],
   "outputs": [
    {
     "output_type": "stream",
     "name": "stdout",
     "text": [
      "[('', 45), ('a', 8), ('random', 7), ('is', 7), ('the', 7), ('of', 5), ('and', 5), ('for', 4), ('in', 4), ('distributions', 3)]\n"
     ]
    }
   ],
   "metadata": {}
  },
  {
   "cell_type": "markdown",
   "source": [
    "# Iterate through the counter"
   ],
   "metadata": {}
  },
  {
   "cell_type": "code",
   "execution_count": 10,
   "source": [
    "counter = Counter('abba')\r\n",
    "for c in counter.elements():\r\n",
    "    print(c)"
   ],
   "outputs": [
    {
     "output_type": "stream",
     "name": "stdout",
     "text": [
      "a\n",
      "a\n",
      "b\n",
      "b\n"
     ]
    }
   ],
   "metadata": {}
  },
  {
   "cell_type": "markdown",
   "source": [
    "# Add two counters together"
   ],
   "metadata": {}
  },
  {
   "cell_type": "code",
   "execution_count": 12,
   "source": [
    "c1 = Counter(a=1, b=2, c=3)\r\n",
    "c2 = Counter(b=1, c=2, d=3)\r\n",
    "\r\n",
    "c1.update(c2)\r\n",
    "print(c1)"
   ],
   "outputs": [
    {
     "output_type": "stream",
     "name": "stdout",
     "text": [
      "Counter({'c': 5, 'b': 3, 'd': 3, 'a': 1})\n"
     ]
    }
   ],
   "metadata": {}
  },
  {
   "cell_type": "markdown",
   "source": [
    "# Subtract"
   ],
   "metadata": {}
  },
  {
   "cell_type": "code",
   "execution_count": 13,
   "source": [
    "c1 = Counter(a=1, b=2, c=3)\r\n",
    "c2 = Counter(b=1, c=2, d=3)\r\n",
    "\r\n",
    "c1.subtract(c2)\r\n",
    "print(c1)"
   ],
   "outputs": [
    {
     "output_type": "stream",
     "name": "stdout",
     "text": [
      "Counter({'a': 1, 'b': 1, 'c': 1, 'd': -3})\n"
     ]
    }
   ],
   "metadata": {}
  },
  {
   "cell_type": "code",
   "execution_count": 14,
   "source": [
    "c1 = Counter(a=1, b=2, c=3)\r\n",
    "letter_string = 'abc'\r\n",
    "c1.subtract(letter_string)\r\n",
    "print(c1)"
   ],
   "outputs": [
    {
     "output_type": "stream",
     "name": "stdout",
     "text": [
      "Counter({'c': 2, 'b': 1, 'a': 0})\n"
     ]
    }
   ],
   "metadata": {}
  },
  {
   "cell_type": "markdown",
   "source": [
    "## Subtract - a practical example"
   ],
   "metadata": {}
  },
  {
   "cell_type": "code",
   "execution_count": 15,
   "source": [
    "import random\r\n",
    "random.seed(0)\r\n",
    "\r\n",
    "widgets = ['battery', 'charger', 'cable', 'case', 'keyboard', 'mouse']\r\n",
    "\r\n",
    "orders = [(random.choice(widgets), random.randint(1, 5)) for _ in range(100)]\r\n",
    "refunds = [(random.choice(widgets), random.randint(1, 3)) for _ in range(20)]\r\n",
    "\r\n",
    "sold_counter = Counter()\r\n",
    "refund_counter = Counter()\r\n",
    "\r\n",
    "for order in orders:\r\n",
    "    sold_counter[order[0]] += order[1]\r\n",
    "\r\n",
    "for refund in refunds:\r\n",
    "    refund_counter[refund[0]] += refund[1]\r\n",
    "    \r\n",
    "net_counter = sold_counter - refund_counter\r\n",
    "print(net_counter)"
   ],
   "outputs": [
    {
     "output_type": "stream",
     "name": "stdout",
     "text": [
      "Counter({'keyboard': 58, 'battery': 54, 'mouse': 39, 'case': 36, 'cable': 30, 'charger': 30})\n"
     ]
    }
   ],
   "metadata": {}
  },
  {
   "cell_type": "code",
   "execution_count": 25,
   "source": [
    "list(repeat(*orders[0]))"
   ],
   "outputs": [
    {
     "output_type": "execute_result",
     "data": {
      "text/plain": [
       "['mouse', 'mouse', 'mouse']"
      ]
     },
     "metadata": {},
     "execution_count": 25
    }
   ],
   "metadata": {}
  },
  {
   "cell_type": "code",
   "execution_count": 29,
   "source": [
    "from itertools import repeat, chain\r\n",
    "\r\n",
    "widgets = ['battery', 'charger', 'cable', 'case', 'keyboard', 'mouse']\r\n",
    "\r\n",
    "orders = [(random.choice(widgets), random.randint(1, 5)) for _ in range(100)]\r\n",
    "refunds = [(random.choice(widgets), random.randint(1, 3)) for _ in range(20)]\r\n",
    "\r\n",
    "sold_counter = Counter(chain.from_iterable(repeat(*order) for order in orders))\r\n",
    "refunds_counter = Counter(chain.from_iterable(repeat(*refund) for refund in refunds))\r\n",
    "\r\n",
    "net_counter = sold_counter - refund_counter\r\n",
    "print(net_counter)"
   ],
   "outputs": [
    {
     "output_type": "stream",
     "name": "stdout",
     "text": [
      "Counter({'keyboard': 65, 'cable': 58, 'charger': 38, 'case': 36, 'battery': 35, 'mouse': 29})\n"
     ]
    }
   ],
   "metadata": {}
  },
  {
   "cell_type": "markdown",
   "source": [
    "## If we dont want to use **counter**, we can do this: "
   ],
   "metadata": {}
  },
  {
   "cell_type": "code",
   "execution_count": 32,
   "source": [
    "net_sales = {}\r\n",
    "for order in orders:\r\n",
    "    key = order[0]\r\n",
    "    cnt = order[1]\r\n",
    "    net_sales[key] = net_sales.get(key, 0) + cnt\r\n",
    "    \r\n",
    "for refund in refunds:\r\n",
    "    key = refund[0]\r\n",
    "    cnt = refund[1]\r\n",
    "    net_sales[key] = net_sales.get(key, 0) - cnt\r\n",
    "\r\n",
    "# eliminate non-positive values (to mimic what - does for Counters)\r\n",
    "net_sales = {k: v for k, v in net_sales.items() if v > 0}\r\n",
    "\r\n",
    "# we now have to sort the dictionary\r\n",
    "# this means sorting the keys based on the values\r\n",
    "sorted_net_sales = sorted(net_sales.items(), key=lambda t: t[1], reverse=True)\r\n",
    "\r\n",
    "# Top three\r\n",
    "print(sorted_net_sales)"
   ],
   "outputs": [
    {
     "output_type": "stream",
     "name": "stdout",
     "text": [
      "[('cable', 65), ('keyboard', 64), ('charger', 41), ('battery', 35), ('case', 35), ('mouse', 29)]\n"
     ]
    }
   ],
   "metadata": {}
  }
 ],
 "metadata": {
  "orig_nbformat": 4,
  "language_info": {
   "name": "python",
   "version": "3.9.5",
   "mimetype": "text/x-python",
   "codemirror_mode": {
    "name": "ipython",
    "version": 3
   },
   "pygments_lexer": "ipython3",
   "nbconvert_exporter": "python",
   "file_extension": ".py"
  },
  "kernelspec": {
   "name": "python3",
   "display_name": "Python 3.9.5 64-bit ('spenncon': conda)"
  },
  "interpreter": {
   "hash": "05d659cf7217a31b7ba206b7e3fe1d98040361cb242cc44ce7c59206cfd427bc"
  }
 },
 "nbformat": 4,
 "nbformat_minor": 2
}