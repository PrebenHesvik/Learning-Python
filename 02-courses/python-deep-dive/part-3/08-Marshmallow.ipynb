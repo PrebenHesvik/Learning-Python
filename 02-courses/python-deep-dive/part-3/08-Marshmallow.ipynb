{
 "cells": [
  {
   "cell_type": "code",
   "execution_count": 15,
   "source": [
    "from datetime import date\r\n",
    "from marshmallow import Schema, fields, post_load\r\n",
    "from collections import namedtuple"
   ],
   "outputs": [],
   "metadata": {}
  },
  {
   "cell_type": "code",
   "execution_count": 5,
   "source": [
    "class Person:\r\n",
    "    def __init__(self, first_name, last_name, dob, height):\r\n",
    "        self.first_name = first_name\r\n",
    "        self.last_name = last_name\r\n",
    "        self.dob = dob\r\n",
    "        self.height = height\r\n",
    "        \r\n",
    "    def __repr__(self):\r\n",
    "        return f'Person({self.first_name}, {self.last_name}, {self.dob})'\r\n",
    "    \r\n",
    "class PersonSchema(Schema):\r\n",
    "    first_name = fields.Str()\r\n",
    "    last_name = fields.Str()\r\n",
    "    dob = fields.Date()\r\n",
    "    height = fields.Int()\r\n",
    "\r\n",
    "p1 = Person('John', 'Cleese', date(1939, 10, 27), 180)\r\n",
    "person_schema = PersonSchema()\r\n",
    "person_schema.dumps(p1)"
   ],
   "outputs": [
    {
     "output_type": "execute_result",
     "data": {
      "text/plain": [
       "'{\"first_name\": \"John\", \"last_name\": \"Cleese\", \"dob\": \"1939-10-27\", \"height\": 180}'"
      ]
     },
     "metadata": {},
     "execution_count": 5
    }
   ],
   "metadata": {}
  },
  {
   "cell_type": "code",
   "execution_count": 6,
   "source": [
    "PT=namedtuple('PT', 'first_name, last_name, dob, height')\r\n",
    "p2 = PT('Eric', 'Idle', date(1943, 3, 29), 180)\r\n",
    "person_schema.dumps(p2)"
   ],
   "outputs": [
    {
     "output_type": "execute_result",
     "data": {
      "text/plain": [
       "'{\"first_name\": \"Eric\", \"last_name\": \"Idle\", \"dob\": \"1943-03-29\", \"height\": 180}'"
      ]
     },
     "metadata": {},
     "execution_count": 6
    }
   ],
   "metadata": {}
  },
  {
   "cell_type": "code",
   "execution_count": 7,
   "source": [
    "PT2 = namedtuple('PT2', 'first_name, last_name, age')\r\n",
    "p3 = PT2('Michael', 'Palin', 75)\r\n",
    "person_partial = PersonSchema(only=('first_name', 'last_name'))\r\n",
    "person_partial.dumps(p3)"
   ],
   "outputs": [
    {
     "output_type": "execute_result",
     "data": {
      "text/plain": [
       "'{\"first_name\": \"Michael\", \"last_name\": \"Palin\"}'"
      ]
     },
     "metadata": {},
     "execution_count": 7
    }
   ],
   "metadata": {}
  },
  {
   "cell_type": "code",
   "execution_count": 11,
   "source": [
    "PT2 = namedtuple('PT2', 'first_name, last_name, height')\r\n",
    "p3 = PT2('Michael', 'Palin', 75)\r\n",
    "person_partial = PersonSchema(exclude=['height'])\r\n",
    "person_partial.dumps(p3)"
   ],
   "outputs": [
    {
     "output_type": "execute_result",
     "data": {
      "text/plain": [
       "'{\"first_name\": \"Michael\", \"last_name\": \"Palin\"}'"
      ]
     },
     "metadata": {},
     "execution_count": 11
    }
   ],
   "metadata": {}
  },
  {
   "cell_type": "code",
   "execution_count": 13,
   "source": [
    "class Person:\r\n",
    "    def __init__(self, first_name, last_name, dob):\r\n",
    "        self.first_name = first_name\r\n",
    "        self.last_name = last_name\r\n",
    "        self.dob = dob\r\n",
    "        \r\n",
    "    def __repr__(self):\r\n",
    "        return f'Person({self.first_name}, {self.last_name}, {self.dob})'\r\n",
    "    \r\n",
    "class PersonSchema(Schema):\r\n",
    "    first_name = fields.Str()\r\n",
    "    last_name = fields.Str()\r\n",
    "    dob = fields.Date()\r\n",
    "\r\n",
    "class Movie:\r\n",
    "    def __init__(self, title, year, actors):\r\n",
    "        self.title = title\r\n",
    "        self.year = year\r\n",
    "        self.actors = actors\r\n",
    "        \r\n",
    "class MovieSchema(Schema):\r\n",
    "    title = fields.Str()\r\n",
    "    year = fields.Integer()\r\n",
    "    actors = fields.Nested(PersonSchema, many=True)\r\n",
    "    \r\n",
    "p1 = Person('John', 'Cleese', date(1939, 10, 27))\r\n",
    "p2 = Person('Michael', 'Palin', date(1943, 5, 5))\r\n",
    "\r\n",
    "\r\n",
    "parrot = Movie('Parrot Sketch', 1989, [p1, p2])\r\n",
    "\r\n",
    "MovieSchema().dumps(parrot)"
   ],
   "outputs": [
    {
     "output_type": "execute_result",
     "data": {
      "text/plain": [
       "'{\"year\": 1989, \"title\": \"Parrot Sketch\", \"actors\": [{\"first_name\": \"John\", \"last_name\": \"Cleese\", \"dob\": \"1939-10-27\"}, {\"first_name\": \"Michael\", \"last_name\": \"Palin\", \"dob\": \"1943-05-05\"}]}'"
      ]
     },
     "metadata": {},
     "execution_count": 13
    }
   ],
   "metadata": {}
  },
  {
   "cell_type": "markdown",
   "source": [
    "# Deserialization"
   ],
   "metadata": {}
  },
  {
   "cell_type": "code",
   "execution_count": 26,
   "source": [
    "class Person:\r\n",
    "    def __init__(self, first_name, last_name, dob):\r\n",
    "        self.first_name = first_name\r\n",
    "        self.last_name = last_name\r\n",
    "        self.dob = dob\r\n",
    "      \r\n",
    "    def __repr__(self):\r\n",
    "        return f'Person({self.first_name}, {self.last_name}, {self.dob})'\r\n",
    "\r\n",
    "class PersonSchema(Schema):\r\n",
    "    first_name = fields.Str()\r\n",
    "    last_name = fields.Str()\r\n",
    "    dob = fields.Date()\r\n",
    "    \r\n",
    "    @post_load\r\n",
    "    def make_person(self, data, **kwargs):\r\n",
    "        return Person(**data)\r\n",
    "    \r\n",
    "person_schema = PersonSchema()\r\n",
    "p_dict = dict(first_name='John', last_name='Cleese', dob='1939-10-27')\r\n",
    "person_schema.load(p_dict)"
   ],
   "outputs": [
    {
     "output_type": "execute_result",
     "data": {
      "text/plain": [
       "Person(John, Cleese, 1939-10-27)"
      ]
     },
     "metadata": {},
     "execution_count": 26
    }
   ],
   "metadata": {}
  },
  {
   "cell_type": "code",
   "execution_count": 44,
   "source": [
    "class MovieSchema(Schema):\r\n",
    "    title = fields.Str()\r\n",
    "    year = fields.Integer()\r\n",
    "    actors = fields.Nested(PersonSchema, many=True)\r\n",
    "    \r\n",
    "    @post_load\r\n",
    "    def make_movie(self, data, **kwargs):\r\n",
    "        return Movie(**data)\r\n",
    "    \r\n",
    "json_data = '''\r\n",
    "{\"actors\": [\r\n",
    "    {\"first_name\": \"John\", \"last_name\": \"Cleese\", \"dob\": \"1939-10-27\"}, \r\n",
    "    {\"first_name\": \"Michael\", \"last_name\": \"Palin\", \"dob\": \"1943-05-05\"}], \r\n",
    "\"title\": \"Parrot Sketch\", \r\n",
    "\"year\": 1989}\r\n",
    "'''\r\n",
    "movie_schema = MovieSchema()\r\n",
    "movie = movie_schema.loads(json_data)\r\n",
    "\r\n",
    "print(movie.title)\r\n",
    "print(movie.actors)\r\n",
    "print(movie.year)"
   ],
   "outputs": [
    {
     "output_type": "stream",
     "name": "stdout",
     "text": [
      "Parrot Sketch\n",
      "[Person(John, Cleese, 1939-10-27), Person(Michael, Palin, 1943-05-05)]\n",
      "1989\n"
     ]
    }
   ],
   "metadata": {}
  }
 ],
 "metadata": {
  "orig_nbformat": 4,
  "language_info": {
   "name": "python",
   "version": "3.9.5",
   "mimetype": "text/x-python",
   "codemirror_mode": {
    "name": "ipython",
    "version": 3
   },
   "pygments_lexer": "ipython3",
   "nbconvert_exporter": "python",
   "file_extension": ".py"
  },
  "kernelspec": {
   "name": "python3",
   "display_name": "Python 3.9.5 64-bit ('spenncon': conda)"
  },
  "interpreter": {
   "hash": "05d659cf7217a31b7ba206b7e3fe1d98040361cb242cc44ce7c59206cfd427bc"
  }
 },
 "nbformat": 4,
 "nbformat_minor": 2
}