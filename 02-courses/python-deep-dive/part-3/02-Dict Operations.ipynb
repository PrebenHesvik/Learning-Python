{
 "cells": [
  {
   "cell_type": "code",
   "execution_count": 2,
   "source": [
    "import string\r\n",
    "text = 'Lorem ipsum dolor sit amet, consectetur adipiscing elit, sed do eiusmod'\\\r\n",
    "        'tempor incididunt ut labore et dolore magna aliqua. Ut enim ad minim veniam,'\\\r\n",
    "        'quis nostrud exercitation ullamco laboris nisi ut aliquip ex ea commodo consequat.'\r\n",
    "\r\n",
    "# method 1\r\n",
    "counts = dict()\r\n",
    "for c in text:\r\n",
    "    key = c.lower().strip()\r\n",
    "    if key in string.ascii_lowercase:\r\n",
    "        counts[key] = counts.get(key, 0) + 1\r\n",
    "\r\n",
    "print(counts)"
   ],
   "outputs": [
    {
     "output_type": "stream",
     "name": "stdout",
     "text": [
      "{'l': 10, 'o': 18, 'r': 9, 'e': 18, 'm': 13, '': 33, 'i': 23, 'p': 4, 's': 11, 'u': 13, 'd': 11, 't': 15, 'a': 15, 'c': 8, 'n': 12, 'g': 2, 'b': 2, 'q': 4, 'v': 1, 'x': 2}\n"
     ]
    }
   ],
   "metadata": {}
  },
  {
   "cell_type": "code",
   "execution_count": 3,
   "source": [
    "text = 'Lorem ipsum dolor sit amet, consectetur adipiscing elit, sed do eiusmod'\\\r\n",
    "        'tempor incididunt ut labore et dolore magna aliqua. Ut enim ad minim veniam,'\\\r\n",
    "        'quis nostrud exercitation ullamco laboris nisi ut aliquip ex ea commodo consequat.'\r\n",
    "\r\n",
    "categories = {}\r\n",
    "for c in text:\r\n",
    "    if c != ' ':\r\n",
    "        if c in string.ascii_lowercase:\r\n",
    "            key = 'lower'\r\n",
    "        elif c in string.ascii_uppercase:\r\n",
    "            key = 'upper'\r\n",
    "        else:\r\n",
    "            key = 'other'\r\n",
    "        if key not in categories:\r\n",
    "            categories[key] = set()\r\n",
    "        \r\n",
    "        categories[key].add(c)\r\n",
    "\r\n",
    "for cat, values in categories.items():\r\n",
    "    print(f'{cat}: {\"\".join(values)}')"
   ],
   "outputs": [
    {
     "output_type": "stream",
     "name": "stdout",
     "text": [
      "upper: LU\n",
      "lower: agprvmncitlebduqsox\n",
      "other: .,\n"
     ]
    }
   ],
   "metadata": {}
  },
  {
   "cell_type": "code",
   "execution_count": 4,
   "source": [
    "text = 'Lorem ipsum dolor sit amet, consectetur adipiscing elit, sed do eiusmod'\\\r\n",
    "        'tempor incididunt ut labore et dolore magna aliqua. Ut enim ad minim veniam,'\\\r\n",
    "        'quis nostrud exercitation ullamco laboris nisi ut aliquip ex ea commodo consequat.'\r\n",
    "\r\n",
    "categories = {}\r\n",
    "for c in text:\r\n",
    "    if c != ' ':\r\n",
    "        if c in string.ascii_lowercase:\r\n",
    "            key = 'lower'\r\n",
    "        elif c in string.ascii_uppercase:\r\n",
    "            key = 'upper'\r\n",
    "        else:\r\n",
    "            key = 'other'\r\n",
    "            \r\n",
    "        categories.setdefault(key, set()).add(c)\r\n",
    "\r\n",
    "for cat, values in categories.items():\r\n",
    "    print(f'{cat}: {\"\".join(values)}')"
   ],
   "outputs": [
    {
     "output_type": "stream",
     "name": "stdout",
     "text": [
      "upper: LU\n",
      "lower: agprvmncitlebduqsox\n",
      "other: .,\n"
     ]
    }
   ],
   "metadata": {}
  },
  {
   "cell_type": "code",
   "execution_count": 5,
   "source": [
    "text = 'Lorem ipsum dolor sit amet, consectetur adipiscing elit, sed do eiusmod'\\\r\n",
    "        'tempor incididunt ut labore et dolore magna aliqua. Ut enim ad minim veniam,'\\\r\n",
    "        'quis nostrud exercitation ullamco laboris nisi ut aliquip ex ea commodo consequat.'\r\n",
    "\r\n",
    "def cat_key(c):\r\n",
    "    if c == ' ':\r\n",
    "        return None\r\n",
    "    if c in string.ascii_lowercase:\r\n",
    "        return 'lower'\r\n",
    "    elif c in string.ascii_uppercase:\r\n",
    "        return 'upper'\r\n",
    "    else:\r\n",
    "        return 'other'\r\n",
    "\r\n",
    "categories = {}\r\n",
    "for c in text:\r\n",
    "    key = cat_key(c)\r\n",
    "    if key:    \r\n",
    "        categories.setdefault(key, set()).add(c)\r\n",
    "\r\n",
    "for cat, values in categories.items():\r\n",
    "    print(f'{cat}: {\"\".join(values)}')"
   ],
   "outputs": [
    {
     "output_type": "stream",
     "name": "stdout",
     "text": [
      "upper: LU\n",
      "lower: agprvmncitlebduqsox\n",
      "other: .,\n"
     ]
    }
   ],
   "metadata": {}
  },
  {
   "cell_type": "code",
   "execution_count": 6,
   "source": [
    "d = {'Mads': 35, 'Brede': 27, 'Theo': 2}\r\n",
    "\r\n",
    "name, age = d.popitem()\r\n",
    "print(f'name={name}, age={age}')"
   ],
   "outputs": [
    {
     "output_type": "stream",
     "name": "stdout",
     "text": [
      "name=Theo, age=2\n"
     ]
    }
   ],
   "metadata": {}
  },
  {
   "cell_type": "code",
   "execution_count": null,
   "source": [],
   "outputs": [],
   "metadata": {}
  }
 ],
 "metadata": {
  "language_info": {
   "codemirror_mode": {
    "name": "ipython",
    "version": 3
   },
   "file_extension": ".py",
   "mimetype": "text/x-python",
   "name": "python",
   "nbconvert_exporter": "python",
   "pygments_lexer": "ipython3",
   "version": "3.9.5"
  },
  "orig_nbformat": 2,
  "kernelspec": {
   "name": "python3",
   "display_name": "Python 3.9.5 64-bit ('spenncon': conda)"
  },
  "interpreter": {
   "hash": "05d659cf7217a31b7ba206b7e3fe1d98040361cb242cc44ce7c59206cfd427bc"
  }
 },
 "nbformat": 4,
 "nbformat_minor": 2
}