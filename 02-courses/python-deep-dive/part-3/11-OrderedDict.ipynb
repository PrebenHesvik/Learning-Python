{
 "cells": [
  {
   "cell_type": "markdown",
   "source": [
    "## OrderedDict vs dict\r\n",
    "- Prior to python 3.6 no guarantee of key insertion order being maintained\r\n",
    "- if you must have an ordered dict and be backward compatible, OrderedDict must be used\r\n",
    "- if not, OrderedDict still has a few tricks up it sleeves:\r\n",
    "    * supports reverse iteration\r\n",
    "    * pop first or last item in dictionary\r\n",
    "    * move item to beginning or end of dictionary\r\n",
    "- Equality comparison: \r\n",
    "    * dict vs dict comparison: order of keys does not matter\r\n",
    "    * OrderedDict vs OrderedDict comparison: order of keys matter"
   ],
   "metadata": {}
  },
  {
   "cell_type": "code",
   "execution_count": 1,
   "source": [
    "from collections import OrderedDict"
   ],
   "outputs": [],
   "metadata": {}
  },
  {
   "cell_type": "markdown",
   "source": [
    "## Reverse iteration"
   ],
   "metadata": {}
  },
  {
   "cell_type": "code",
   "execution_count": 9,
   "source": [
    "# Ordered dict\r\n",
    "ord_dict = OrderedDict()\r\n",
    "ord_dict['first'] = 10\r\n",
    "ord_dict['second'] = 20\r\n",
    "ord_dict['third'] = 30\r\n",
    "ord_dict['fourth'] = 40\r\n",
    "\r\n",
    "for key in reversed(ord_dict):\r\n",
    "    print(key)"
   ],
   "outputs": [
    {
     "output_type": "stream",
     "name": "stdout",
     "text": [
      "fourth\n",
      "third\n",
      "second\n",
      "first\n"
     ]
    }
   ],
   "metadata": {}
  },
  {
   "cell_type": "markdown",
   "source": [
    "### This will also work in a regular Python dictionary"
   ],
   "metadata": {}
  },
  {
   "cell_type": "code",
   "execution_count": 16,
   "source": [
    "# Regular dict\r\n",
    "reg_dict = dict(a=1, b=2, c=3, d=4)\r\n",
    "for key in reversed(reg_dict):\r\n",
    "    print(key)"
   ],
   "outputs": [
    {
     "output_type": "stream",
     "name": "stdout",
     "text": [
      "d\n",
      "c\n",
      "b\n",
      "a\n"
     ]
    }
   ],
   "metadata": {}
  },
  {
   "cell_type": "markdown",
   "source": [
    "## Create a new dict that is reverse of original dict"
   ],
   "metadata": {}
  },
  {
   "cell_type": "code",
   "execution_count": 13,
   "source": [
    "ord_dict = OrderedDict()\r\n",
    "ord_dict['first'] = 10\r\n",
    "ord_dict['second'] = 20\r\n",
    "ord_dict['third'] = 30\r\n",
    "ord_dict['fourth'] = 40\r\n",
    "\r\n",
    "new_ord_dict = OrderedDict()\r\n",
    "for _ in range(len(ord_dict)):\r\n",
    "    key, val = ord_dict.popitem()\r\n",
    "    new_ord_dict[key] = val\r\n",
    "\r\n",
    "new_ord_dict\r\n",
    "    "
   ],
   "outputs": [
    {
     "output_type": "execute_result",
     "data": {
      "text/plain": [
       "OrderedDict([('fourth', 40), ('third', 30), ('second', 20), ('first', 10)])"
      ]
     },
     "metadata": {},
     "execution_count": 13
    }
   ],
   "metadata": {}
  },
  {
   "cell_type": "markdown",
   "source": [
    "## Pop last item"
   ],
   "metadata": {}
  },
  {
   "cell_type": "code",
   "execution_count": 17,
   "source": [
    "ord_dict = OrderedDict()\r\n",
    "ord_dict['first'] = 10\r\n",
    "ord_dict['second'] = 20\r\n",
    "ord_dict['third'] = 30\r\n",
    "ord_dict['fourth'] = 40\r\n",
    "\r\n",
    "ord_dict.popitem()"
   ],
   "outputs": [
    {
     "output_type": "execute_result",
     "data": {
      "text/plain": [
       "('fourth', 40)"
      ]
     },
     "metadata": {},
     "execution_count": 17
    }
   ],
   "metadata": {}
  },
  {
   "cell_type": "code",
   "execution_count": 18,
   "source": [
    "# Regular dict\r\n",
    "reg_dict = dict(first=10, second=20, third=30, fourth=40)\r\n",
    "reg_dict.popitem()"
   ],
   "outputs": [
    {
     "output_type": "execute_result",
     "data": {
      "text/plain": [
       "('fourth', 40)"
      ]
     },
     "metadata": {},
     "execution_count": 18
    }
   ],
   "metadata": {}
  },
  {
   "cell_type": "markdown",
   "source": [
    "## Pop first item"
   ],
   "metadata": {}
  },
  {
   "cell_type": "code",
   "execution_count": 4,
   "source": [
    "ord_dict = OrderedDict()\r\n",
    "ord_dict['first'] = 10\r\n",
    "ord_dict['second'] = 20\r\n",
    "ord_dict['third'] = 30\r\n",
    "ord_dict['fourth'] = 40\r\n",
    "\r\n",
    "ord_dict.popitem(last=False)"
   ],
   "outputs": [
    {
     "output_type": "execute_result",
     "data": {
      "text/plain": [
       "('first', 10)"
      ]
     },
     "metadata": {},
     "execution_count": 4
    }
   ],
   "metadata": {}
  },
  {
   "cell_type": "code",
   "execution_count": 19,
   "source": [
    "reg_dict = dict(first=10, second=20, third=30, fourth=40)\r\n",
    "\r\n",
    "def popitem(d, last=True):\r\n",
    "    if last:\r\n",
    "        return d.popitem()\r\n",
    "    first_key = next(iter(d.keys()))\r\n",
    "    return first_key, d.pop(first_key)\r\n",
    "\r\n",
    "popitem(reg_dict, last=False)"
   ],
   "outputs": [
    {
     "output_type": "execute_result",
     "data": {
      "text/plain": [
       "('first', 10)"
      ]
     },
     "metadata": {},
     "execution_count": 19
    }
   ],
   "metadata": {}
  },
  {
   "cell_type": "markdown",
   "source": [
    "## Move to end"
   ],
   "metadata": {}
  },
  {
   "cell_type": "code",
   "execution_count": 3,
   "source": [
    "ord_dict = OrderedDict()\r\n",
    "ord_dict['first'] = 10\r\n",
    "ord_dict['second'] = 20\r\n",
    "ord_dict['third'] = 30\r\n",
    "ord_dict['fourth'] = 40\r\n",
    "\r\n",
    "ord_dict.move_to_end('second')\r\n",
    "ord_dict"
   ],
   "outputs": [
    {
     "output_type": "execute_result",
     "data": {
      "text/plain": [
       "OrderedDict([('first', 10), ('third', 30), ('fourth', 40), ('second', 20)])"
      ]
     },
     "metadata": {},
     "execution_count": 3
    }
   ],
   "metadata": {}
  },
  {
   "cell_type": "code",
   "execution_count": 21,
   "source": [
    "def move_to_end(d, key, *, last=True):\r\n",
    "    d[key] = d.pop(key)\r\n",
    "    if not last:\r\n",
    "        for key in list(d.keys())[:-1]:\r\n",
    "            d[key] = d.pop(key)\r\n",
    "            \r\n",
    "reg_dict = dict(first=10, second=20, third=30, fourth=40)\r\n",
    "move_to_end(reg_dict, 'first')\r\n",
    "reg_dict"
   ],
   "outputs": [
    {
     "output_type": "execute_result",
     "data": {
      "text/plain": [
       "{'second': 20, 'third': 30, 'fourth': 40, 'first': 10}"
      ]
     },
     "metadata": {},
     "execution_count": 21
    }
   ],
   "metadata": {}
  },
  {
   "cell_type": "markdown",
   "source": [
    "## Stating equality between all elements in a dictionary"
   ],
   "metadata": {}
  },
  {
   "cell_type": "code",
   "execution_count": 23,
   "source": [
    "\r\n",
    "def dict_equal_sensitive(d1, d2):\r\n",
    "    if d1 == d2:\r\n",
    "        return all(k1 == k2 for k1, k2 in zip(d1, d2))\r\n",
    "    else:\r\n",
    "        return False\r\n",
    "    \r\n",
    "d1 = dict(first=10, second=20, third=30, fourth=40)\r\n",
    "d2 = dict(first=10, third=20, second=30, fourth=40)\r\n",
    "\r\n",
    "dict_equal_sensitive(d1, d2)"
   ],
   "outputs": [
    {
     "output_type": "execute_result",
     "data": {
      "text/plain": [
       "False"
      ]
     },
     "metadata": {},
     "execution_count": 23
    }
   ],
   "metadata": {}
  },
  {
   "cell_type": "markdown",
   "source": [
    "### Another way to write it using **map**"
   ],
   "metadata": {}
  },
  {
   "cell_type": "code",
   "execution_count": 30,
   "source": [
    "def dict_equal_sensitive(d1, d2):\r\n",
    "    if d1 == d2:\r\n",
    "        return all(map(lambda k: k[0] == k[1], zip(d1, d2)))\r\n",
    "    else:\r\n",
    "        return False\r\n",
    "\r\n",
    "d1 = dict(first=10, second=20, third=30, fourth=40)\r\n",
    "d2 = dict(first=10, third=20, second=30, fourth=40)\r\n",
    "\r\n",
    "dict_equal_sensitive(d1, d2)"
   ],
   "outputs": [
    {
     "output_type": "execute_result",
     "data": {
      "text/plain": [
       "False"
      ]
     },
     "metadata": {},
     "execution_count": 30
    }
   ],
   "metadata": {}
  }
 ],
 "metadata": {
  "orig_nbformat": 4,
  "language_info": {
   "name": "python",
   "version": "3.9.5",
   "mimetype": "text/x-python",
   "codemirror_mode": {
    "name": "ipython",
    "version": 3
   },
   "pygments_lexer": "ipython3",
   "nbconvert_exporter": "python",
   "file_extension": ".py"
  },
  "kernelspec": {
   "name": "python3",
   "display_name": "Python 3.9.5 64-bit ('spenncon': conda)"
  },
  "interpreter": {
   "hash": "05d659cf7217a31b7ba206b7e3fe1d98040361cb242cc44ce7c59206cfd427bc"
  }
 },
 "nbformat": 4,
 "nbformat_minor": 2
}