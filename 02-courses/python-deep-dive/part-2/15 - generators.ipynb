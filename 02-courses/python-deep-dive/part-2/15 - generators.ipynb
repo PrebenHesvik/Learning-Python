{
 "nbformat": 4,
 "nbformat_minor": 2,
 "metadata": {
  "language_info": {
   "name": "python",
   "codemirror_mode": {
    "name": "ipython",
    "version": 3
   },
   "version": "3.9.5"
  },
  "orig_nbformat": 2,
  "file_extension": ".py",
  "mimetype": "text/x-python",
  "name": "python",
  "npconvert_exporter": "python",
  "pygments_lexer": "ipython3",
  "version": 3,
  "kernelspec": {
   "name": "python3",
   "display_name": "Python 3.9.5 64-bit ('spenncon': conda)"
  },
  "interpreter": {
   "hash": "05d659cf7217a31b7ba206b7e3fe1d98040361cb242cc44ce7c59206cfd427bc"
  }
 },
 "cells": [
  {
   "cell_type": "markdown",
   "metadata": {},
   "source": [
    "### Generators:\n",
    "- a function that uses the **`yield`** statement, is called a **`generator function`**.\n",
    "- when we call the function it returns a **`generator`** object.\n",
    "- We can think of functions that contain the yield statement as **`generator factories`**.\n",
    "- Generators **`are`** iterators, and can be used in the same way (for loops, comprehensions).\n",
    "- Generators become exhausted once the function returns a value."
   ]
  },
  {
   "source": [
    "Suppose we need to read in a logfile and print out the lines labeled with \"warning\""
   ],
   "cell_type": "markdown",
   "metadata": {}
  },
  {
   "cell_type": "code",
   "execution_count": 5,
   "metadata": {},
   "outputs": [
    {
     "output_type": "stream",
     "name": "stdout",
     "text": [
      "WARNING: Disk Usage exceeding 85%\nWARNING: Almost out of Lion's Mane mushroom\n"
     ]
    }
   ],
   "source": [
    "def matching_lines_from_file(path, pattern):\n",
    "    with open(path) as handle:\n",
    "        for line in handle:\n",
    "            if pattern in line:\n",
    "                yield line.rstrip('\\n')\n",
    "\n",
    "for line in matching_lines_from_file('logfile.log', 'WARNING'):\n",
    "    print(line)"
   ]
  },
  {
   "source": [
    "Suppose we need the information in a dictionary"
   ],
   "cell_type": "markdown",
   "metadata": {}
  },
  {
   "cell_type": "code",
   "execution_count": 6,
   "metadata": {},
   "outputs": [
    {
     "output_type": "stream",
     "name": "stdout",
     "text": [
      "{'level': 'WARNING', 'message': 'Disk Usage exceeding 85%'}\n{'level': 'WARNING', 'message': \"Almost out of Lion's Mane mushroom\"}\n"
     ]
    }
   ],
   "source": [
    "def parse_log_records(lines):\n",
    "    for line in lines:\n",
    "        level, message = line.split(': ', 1)\n",
    "        yield {'level': level, 'message': message}\n",
    "\n",
    "log_lines = matching_lines_from_file('logfile.log', 'WARNING')\n",
    "for record in parse_log_records(log_lines):\n",
    "    print(record)"
   ]
  },
  {
   "source": [
    "Assume we have a text file containing data on residential house sales. Address, square_feet and price is recorded for each sale, each on a separate line."
   ],
   "cell_type": "markdown",
   "metadata": {}
  },
  {
   "cell_type": "code",
   "execution_count": 8,
   "metadata": {},
   "outputs": [
    {
     "output_type": "stream",
     "name": "stdout",
     "text": [
      "{'address': '1423 99th Ave', 'square_feet': '1705', 'price_usd': '340210'}\n{'address': '24257 Pueblo Dr', 'square_feet': '2305', 'price_usd': '170210'}\n{'address': '127 Cochran', 'square_feet': '2068', 'price_usd': '320500'}\n"
     ]
    }
   ],
   "source": [
    "def lines_from_file(path):\n",
    "    with open(path) as handle:\n",
    "        for line in handle:\n",
    "                yield line.rstrip('\\n')\n",
    "\n",
    "def house_records(lines):\n",
    "    record ={}\n",
    "    for line in lines:\n",
    "        if line == '':\n",
    "            yield record\n",
    "            record = {}\n",
    "            continue\n",
    "        key, value = line.split(': ', 1)\n",
    "        record[key] = value\n",
    "    yield record\n",
    "\n",
    "\n",
    "def house_records_from_file(path):\n",
    "    lines = lines_from_file(path)\n",
    "    for house in house_records(lines):\n",
    "        yield house\n",
    "\n",
    "for house in house_records_from_file('house_sale_data.txt'):\n",
    "    print(house)\n"
   ]
  },
  {
   "source": [
    "### `TIP`\n",
    "When one generator function internally calls another we can use `yield from` such as below"
   ],
   "cell_type": "markdown",
   "metadata": {}
  },
  {
   "cell_type": "code",
   "execution_count": 10,
   "metadata": {},
   "outputs": [
    {
     "output_type": "stream",
     "name": "stdout",
     "text": [
      "{'address': '1423 99th Ave', 'square_feet': '1705', 'price_usd': '340210'}\n{'address': '24257 Pueblo Dr', 'square_feet': '2305', 'price_usd': '170210'}\n{'address': '127 Cochran', 'square_feet': '2068', 'price_usd': '320500'}\n"
     ]
    }
   ],
   "source": [
    "# Instead of this\n",
    "def house_records_from_file(path):\n",
    "    lines = lines_from_file(path)\n",
    "    for house in house_records(lines):\n",
    "        yield house\n",
    "\n",
    "# we write this\n",
    "def house_records_from_file(path):\n",
    "    lines = lines_from_file(path)\n",
    "    # we can use yield from because house_records \n",
    "    yield from house_records(lines)\n",
    "\n",
    "for house in house_records_from_file('house_sale_data.txt'):\n",
    "    print(house)\n",
    "        "
   ]
  },
  {
   "cell_type": "code",
   "execution_count": 2,
   "metadata": {},
   "outputs": [
    {
     "output_type": "execute_result",
     "data": {
      "text/plain": "[1, 1, 2, 6, 24]"
     },
     "metadata": {},
     "execution_count": 2
    }
   ],
   "source": [
    "import math\n",
    "\n",
    "# Creating an iterator\n",
    "class FactIter:\n",
    "    \n",
    "    def __init__(self, n):\n",
    "        self.n = n\n",
    "        self.i = 0\n",
    "    \n",
    "    def __iter__(self):\n",
    "        return self\n",
    "    \n",
    "    def __next__(self):\n",
    "        if self.i >= self.n:\n",
    "            raise StopIteration\n",
    "        else:\n",
    "            result = math.factorial(self.i)\n",
    "            self.i += 1\n",
    "            return result\n",
    "\n",
    "fact_iter = FactIter(5)\n",
    "list(fact_iter)"
   ]
  },
  {
   "cell_type": "code",
   "execution_count": null,
   "metadata": {},
   "outputs": [],
   "source": [
    "def fact():\n",
    "    i = 0\n",
    "    def inner():\n",
    "        nonlocal i\n",
    "        result = math.factorial(i)\n",
    "        i += 1\n",
    "        return result\n",
    "    return inner\n",
    "\n",
    "fact_iter = iter(fact(), math.factorial(5))"
   ]
  },
  {
   "cell_type": "markdown",
   "metadata": {},
   "source": [
    "We can replace the iterator and closure above with a generator"
   ]
  },
  {
   "cell_type": "code",
   "execution_count": 6,
   "metadata": {},
   "outputs": [
    {
     "output_type": "execute_result",
     "data": {
      "text/plain": "[1, 1, 2, 6, 24]"
     },
     "metadata": {},
     "execution_count": 6
    }
   ],
   "source": [
    "# Creating a generator\n",
    "def factorials(n):\n",
    "    for i in range(n):\n",
    "        yield math.factorial(i)\n",
    "\n",
    "fact_iter = factorials(5)\n",
    "\n",
    "list(fact_iter)"
   ]
  },
  {
   "cell_type": "markdown",
   "metadata": {},
   "source": [
    "### Fibonacci sequence"
   ]
  },
  {
   "cell_type": "code",
   "execution_count": 7,
   "metadata": {},
   "outputs": [],
   "source": [
    "# iterator\n",
    "\n",
    "def fib(n):\n",
    "    fib_0 = 1\n",
    "    fib_1 = 1\n",
    "    for i in range(n-1):\n",
    "        fib_0, fib_1 = fib_1, fib_0 + fib_1\n",
    "    return fib_1\n",
    "\n",
    "class FibIter:\n",
    "    def __init__(self, n):\n",
    "        self.n = n\n",
    "        self.i = 0\n",
    "    \n",
    "    def __iter__(self):\n",
    "        return self\n",
    "    \n",
    "    def __next__(self):\n",
    "        if self.i >= self.n:\n",
    "            raise StopIteration\n",
    "        else:\n",
    "            result = fib(self.i)\n",
    "            self.i += 1\n",
    "            return result"
   ]
  },
  {
   "cell_type": "code",
   "execution_count": null,
   "metadata": {},
   "outputs": [],
   "source": [
    "# generator\n",
    "def fib(n):\n",
    "    fib_0 = 1\n",
    "    yield fib_0\n",
    "    fib_1 = 1\n",
    "    yield fib_1\n",
    "    for i in range(n-2):\n",
    "        fib_0, fib_1 = fib_1, fib_0 + fib_1\n",
    "        yield fib_1"
   ]
  },
  {
   "cell_type": "markdown",
   "metadata": {},
   "source": [
    "### Making an iterable from a generator"
   ]
  },
  {
   "cell_type": "code",
   "execution_count": 11,
   "metadata": {},
   "outputs": [
    {
     "output_type": "stream",
     "name": "stdout",
     "text": "[0, 1, 4, 9, 16] [0, 1, 4, 9, 16]\n"
    }
   ],
   "source": [
    "def squares(n):\n",
    "    for i in range(n):\n",
    "        yield i ** 2\n",
    "\n",
    "\n",
    "class Squares:\n",
    "\n",
    "    def __init__(self, n):\n",
    "        self.n = n\n",
    "\n",
    "    def __iter__(self):\n",
    "        return Squares.squares(self.n)\n",
    "    \n",
    "    @staticmethod\n",
    "    def squares(n):\n",
    "        for i in range(n):\n",
    "            yield i ** 2\n",
    "\n",
    "# now we can iterate through an instance\n",
    "# of Squares without exhausting it. \n",
    "\n",
    "sq = Squares(5)\n",
    "l1 = [num for num in sq]\n",
    "l2 = [num for num in sq]\n",
    "print(l1, l2)"
   ]
  },
  {
   "cell_type": "markdown",
   "metadata": {},
   "source": [
    "## Card Deck Generator"
   ]
  },
  {
   "cell_type": "code",
   "execution_count": 1,
   "metadata": {},
   "outputs": [],
   "source": [
    "from collections import namedtuple\n",
    "\n",
    "Card = namedtuple('Card', 'rank suit')\n",
    "SUITS = ('Spades', 'Hearts', 'Diamonds', 'Clubs')\n",
    "RANKS = tuple(range(2, 11)) + tuple('JQKA')\n",
    "\n",
    "def card_gen():\n",
    "    for i in range(len(SUITS) * len(RANKS)):\n",
    "        suit = SUITS[i] // len(RANKS)\n",
    "        rank = RANKS[i] % len(RANKS)\n",
    "        card = Card(rank, suit)\n",
    "        yield card\n",
    "\n",
    "# The function above can be written in an easier way\n",
    "def card_gen():\n",
    "    for suit in SUITS:\n",
    "        for rank in RANKS:\n",
    "            yield Card(rank, suit)\n",
    "\n",
    "\n",
    "# The function above is a generator, but not yet an iterable,\n",
    "Card = namedtuple('Card', 'rank suit')\n",
    "\n",
    "class CardDeck:\n",
    "    SUITS = ('Spades', 'Hearts', 'Diamonds', 'Clubs')\n",
    "    RANKS = tuple(range(2, 11)) + tuple('JQKA')\n",
    "\n",
    "\n",
    "    def __iter__(self):\n",
    "        return CardDeck.card_gen()\n",
    "    \n",
    "    def __reverse__(self):\n",
    "       return CardDeck.reversed_card_gen() \n",
    "\n",
    "    @staticmethod\n",
    "    def card_gen():\n",
    "        for suit in CardDeck.SUITS:\n",
    "            for rank in CardDeck.RANKS:\n",
    "                yield Card(rank, suit)\n",
    "    \n",
    "    @staticmethod\n",
    "    def reversed_card_gen():\n",
    "        for suit in reversed(CardDeck.SUITS):\n",
    "            for rank in reversed(CardDeck.RANKS):\n",
    "                yield Card(rank, suit)\n"
   ]
  },
  {
   "cell_type": "markdown",
   "metadata": {},
   "source": [
    "## Generator expressions\n",
    "- Similar syntax as list comprehensions, but is wrapped inside **`()`** instead of `[]`\n",
    "- Returns a Generator\n",
    "- Lazy evaluation - object creation is delayed until requested by **`next()`**\n",
    "- Has local scope"
   ]
  },
  {
   "cell_type": "code",
   "execution_count": 1,
   "metadata": {},
   "outputs": [
    {
     "output_type": "stream",
     "name": "stdout",
     "text": [
      "0\n2\n4\n6\n8\n"
     ]
    }
   ],
   "source": [
    "mygenerator = (i for i in range(10) if i % 2 == 0)\n",
    "for i in mygenerator:\n",
    "    print(i)"
   ]
  },
  {
   "cell_type": "markdown",
   "metadata": {},
   "source": [
    "## Yield from"
   ]
  },
  {
   "cell_type": "code",
   "execution_count": null,
   "metadata": {},
   "outputs": [],
   "source": [
    "# EXAMPLE 1\n",
    "def matrix(n):\n",
    "    gen = ((i * j for j in range(1, n+1)) for i in range(1, n+1))\n",
    "    return gen\n",
    "\n",
    "def matrix_iterator(n):\n",
    "    for row in matrix(n):\n",
    "        for item in row:\n",
    "            yield item\n",
    "\n",
    "# we can change the above to a more simple expression\n",
    "def matrix_iterator(n):\n",
    "    for row in matrix(n):\n",
    "        yield from row\n",
    "\n",
    "# EXAMPLE 2\n",
    "file_1 = 'car-brands-1.txt'\n",
    "file_2 = 'car-brands-2.txt'\n",
    "file_3 = 'car-brands-3.txt'\n",
    "files = file_1 + file_2 + file_3\n",
    "\n",
    "\n",
    "# we split the cleaning and looping over the files\n",
    "# into two separate functions - separations of concerns\n",
    "def gen_clean_data(file):\n",
    "    with open(file) as f:\n",
    "        for row in f:\n",
    "            yield row.strip('\\n')\n",
    "\n",
    "def brands(*files):\n",
    "    for f_name in files:\n",
    "        yield from gen_clean_data(f_name)\n"
   ]
  }
 ]
}