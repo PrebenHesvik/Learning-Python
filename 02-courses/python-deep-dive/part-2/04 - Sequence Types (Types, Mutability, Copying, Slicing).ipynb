{
 "nbformat": 4,
 "nbformat_minor": 2,
 "metadata": {
  "language_info": {
   "name": "python",
   "version": "3.9.5",
   "mimetype": "text/x-python",
   "codemirror_mode": {
    "name": "ipython",
    "version": 3
   },
   "pygments_lexer": "ipython3",
   "nbconvert_exporter": "python",
   "file_extension": ".py"
  },
  "orig_nbformat": 2,
  "file_extension": ".py",
  "mimetype": "text/x-python",
  "name": "python",
  "npconvert_exporter": "python",
  "pygments_lexer": "ipython3",
  "version": 3,
  "kernelspec": {
   "name": "python3",
   "display_name": "Python 3.9.5 64-bit ('spenncon': conda)"
  },
  "interpreter": {
   "hash": "05d659cf7217a31b7ba206b7e3fe1d98040361cb242cc44ce7c59206cfd427bc"
  }
 },
 "cells": [
  {
   "cell_type": "markdown",
   "source": [
    "# <span style=\"color:lightgreen\">Green text Heading 1</span>"
   ],
   "metadata": {}
  },
  {
   "cell_type": "markdown",
   "source": [
    "## Sequence:  **`List of items where each item can be referenced by its index`**\r\n",
    "- Mutable sequence types: \r\n",
    "    * lists\r\n",
    "- immutable sequence types: \r\n",
    "    * strings\r\n",
    "    * tuples\r\n",
    "    * range\r\n",
    "- Homogeneous sequence types:\r\n",
    "    * strings\r\n",
    "- Heterogeneous sequence types: \r\n",
    "    * lists\r\n",
    "    * tuples\r\n",
    "\r\n",
    "<br>\r\n",
    "\r\n",
    "## **`An iterable is not necessarily a sequence type (i.e set)`**\r\n",
    "\r\n",
    "<br>\r\n",
    "\r\n",
    "## Standard sequence methods:\r\n",
    "* x in s\r\n",
    "* x not in s\r\n",
    "* s1 + s2\r\n",
    "* len(s)\r\n",
    "* s * n\r\n",
    "* min(s)\r\n",
    "* max(s)\r\n",
    "* s.index(x) - index of first occurrence of x in s\r\n",
    "* s.index(x, i) - index of first occurrence of x in s at or after index i\r\n",
    "* s.index(x, i, j) - index of first occurrence of x in s at or after index i and before index j\r\n",
    "\r\n",
    "    \r\n"
   ],
   "metadata": {}
  },
  {
   "cell_type": "markdown",
   "source": [
    "# Copying\r\n",
    "\r\n",
    "## Common copy methods"
   ],
   "metadata": {}
  },
  {
   "cell_type": "code",
   "execution_count": 1,
   "source": [
    "s = [10, 20, 30]\r\n",
    "\r\n",
    "# simple loop\r\n",
    "cp = []\r\n",
    "for item in s:\r\n",
    "    cp.append(item)\r\n",
    "\r\n",
    "# list comprehension\r\n",
    "cp = [item for item in s]\r\n",
    "\r\n",
    "# copy method (not implemented in tuples/strings)\r\n",
    "cp = s.copy()\r\n",
    "\r\n",
    "# slicing\r\n",
    "cp = s[:]\r\n",
    "\r\n",
    "# list-function\r\n",
    "cp = list(s)"
   ],
   "outputs": [],
   "metadata": {}
  },
  {
   "cell_type": "markdown",
   "source": [
    "## Copying a tuple or string: \r\n",
    "- When copying a tuple Python returns a new tuple that points to the same memory address as the copied tuple. \r\n",
    "- The reason for this is that since a tuple is immutable, so if either of the tuples are changed the variable that points to the tuple that is changed will now point towards a new memory address, and the other tuple won't be affected."
   ],
   "metadata": {}
  },
  {
   "cell_type": "code",
   "execution_count": 7,
   "source": [
    "t1 = (1, 2, 3)\r\n",
    "t2 = tuple(t1)\r\n",
    "print('ID t1: ', id(t1))\r\n",
    "print('ID t2: ', id(t2))\r\n",
    "\r\n",
    "t1 = (1, 2)\r\n",
    "print('ID t1: after change', id(t1))"
   ],
   "outputs": [
    {
     "output_type": "stream",
     "name": "stdout",
     "text": [
      "ID t1:  3000487260224\n",
      "ID t2:  3000487260224\n",
      "ID t1: after change 3000492700992\n"
     ]
    }
   ],
   "metadata": {}
  },
  {
   "cell_type": "markdown",
   "source": [
    "## Shallow copy vs deep copy\r\n",
    "- When we make a shallow copy of a mutable sequence, the new sequence points to a new memory address, but its elements point to the same memory address as the original sequence elements. \r\n",
    "- If the original sequence elements only consisted of immutable items then we don't have anything to worry about. \r\n",
    "- But if the sequence elements included mutable elements, then those mutable elements in both the original and new sequence points to the same memory addresses. \r\n",
    "- That means that if we make a change within a mutable element inside one sequence, a similar change will happen in the other sequence. "
   ],
   "metadata": {}
  },
  {
   "cell_type": "code",
   "execution_count": 22,
   "source": [
    "l1 = [[1, 2], [3, 4]]\r\n",
    "\r\n",
    "print('id l1: ', id(l1))\r\n",
    "print('id l1[0]: ', id(l1[0]))\r\n",
    "print('id l1[1]: ', id(l1[1]), end='\\n\\n')\r\n",
    "\r\n",
    "\r\n",
    "l2 = l1.copy()\r\n",
    "print('After copying l1: ')\r\n",
    "print('id l2: ', id(l2))\r\n",
    "print('id l2[0]: ', id(l2[0]))\r\n",
    "print('id l2[1]: ', id(l2[1]), end='\\n\\n')\r\n",
    "\r\n",
    "# append items to l1[0]\r\n",
    "l1[0].append(15)\r\n",
    "\r\n",
    "print(l1)\r\n",
    "print(l2)"
   ],
   "outputs": [
    {
     "output_type": "stream",
     "name": "stdout",
     "text": [
      "id l1:  3000467538304\n",
      "id l1[0]:  3000486385728\n",
      "id l1[1]:  3000485169024\n",
      "\n",
      "After copying l1: \n",
      "id l2:  3000487433216\n",
      "id l2[0]:  3000486385728\n",
      "id l2[1]:  3000485169024\n",
      "\n",
      "[[1, 2, 15], [3, 4]]\n",
      "[[1, 2, 15], [3, 4]]\n"
     ]
    }
   ],
   "metadata": {}
  },
  {
   "cell_type": "code",
   "execution_count": 23,
   "source": [
    "from copy import deepcopy\r\n",
    "\r\n",
    "l1 = [[1, 2], [3, 4]]\r\n",
    "\r\n",
    "print('id l1: ', id(l1))\r\n",
    "print('id l1[0]: ', id(l1[0]))\r\n",
    "print('id l1[1]: ', id(l1[1]), end='\\n\\n')\r\n",
    "\r\n",
    "\r\n",
    "l2 = deepcopy(l1)\r\n",
    "print('After copying l1: ')\r\n",
    "print('id l2: ', id(l2))\r\n",
    "print('id l2[0]: ', id(l2[0]))\r\n",
    "print('id l2[1]: ', id(l2[1]), end='\\n\\n')\r\n",
    "\r\n",
    "# append items to l1[0]\r\n",
    "l1[0].append(15)\r\n",
    "\r\n",
    "print(l1)\r\n",
    "print(l2)\r\n"
   ],
   "outputs": [
    {
     "output_type": "stream",
     "name": "stdout",
     "text": [
      "id l1:  3000488657920\n",
      "id l1[0]:  3000467355712\n",
      "id l1[1]:  3000486791168\n",
      "\n",
      "After copying l1: \n",
      "id l2:  3000488660032\n",
      "id l2[0]:  3000467538304\n",
      "id l2[1]:  3000489319232\n",
      "\n",
      "[[1, 2, 15], [3, 4]]\n",
      "[[1, 2], [3, 4]]\n"
     ]
    }
   ],
   "metadata": {}
  },
  {
   "cell_type": "code",
   "execution_count": null,
   "source": [],
   "outputs": [],
   "metadata": {}
  },
  {
   "cell_type": "markdown",
   "source": [
    "## Slicing\n",
    "- Slicing relies on indexing (works only with sequence types)\n",
    "- With immutable sequences we can:\n",
    "    * extract data\n",
    "- With mutable sequences we can:\n",
    "    * extract data\n",
    "    * assign data\n",
    "- syntax: [[start:stop:step]][[start=inclusive:stop=exlusive]]\n",
    "- slice object - slice()\n",
    "    * syntax: slice(start, stop, step)\n"
   ],
   "metadata": {}
  },
  {
   "cell_type": "markdown",
   "source": [
    "#### Slice object"
   ],
   "metadata": {}
  },
  {
   "cell_type": "code",
   "execution_count": 29,
   "source": [
    "l = [1, 2, 3, 4, 5, 6, 7, 8, 9, 10]\r\n",
    "\r\n",
    "start = 0\r\n",
    "stop = 10\r\n",
    "step = 2\r\n",
    "\r\n",
    "s = slice(start, stop, step)\r\n",
    "print('Slice: ', l[s])\r\n",
    "\r\n",
    "# The slice object has a method called indices, that returns the equivalent range\r\n",
    "# for any slice given the length of the sequence being sliced.\r\n",
    "print('Slice indices method: ',slice(start, stop, step).indices(len(l)))\r\n",
    "\r\n",
    "# by using the slice.indices() function we can also access the index values \r\n",
    "# of our slice\r\n",
    "print('Index values: ', list(range(*slice(start, stop, step).indices(len(l)))))\r\n"
   ],
   "outputs": [
    {
     "output_type": "stream",
     "name": "stdout",
     "text": [
      "Slice:  [1, 3, 5, 7, 9]\n",
      "Slice indices method:  (0, 10, 2)\n",
      "Index values:  [0, 2, 4, 6, 8]\n"
     ]
    }
   ],
   "metadata": {}
  },
  {
   "cell_type": "markdown",
   "source": [
    "## Transformations\n",
    "In Python it is possible to have a slice equal to for example [[:100]] even if there are only ten elements in the sequence. Python will transform the slice object according to the following rules:\n",
    "- if slice[[start]] > len(sequence) --> slice[[start]] = len(sequence)\n",
    "- if slice[[end]] > len(sequence) --> slice[[end]] = len(sequence)\n",
    "- if slice[[start]] < 0 --> slice[[start]] = max(0, len(sequence) + 1)\n",
    "- if slice[[end]] < 0 --> slice[[end]] = max(0, len(sequence) + 1)\n",
    "- if slice[[start]] is omitted --> 0\n",
    "- if slice[[end]] is omitted --> len(sequence)"
   ],
   "metadata": {}
  },
  {
   "cell_type": "markdown",
   "source": [
    "## In-place concatenation and repetion\n",
    "\n",
    "When we do regular concatenation of a sequence Python will return an object that points to a different memory address"
   ],
   "metadata": {}
  },
  {
   "cell_type": "code",
   "execution_count": 30,
   "source": [
    "# When we do regular concatenation of a sequence\r\n",
    "# Python will return an object that points to \r\n",
    "# a different memory address\r\n",
    "\r\n",
    "l1 = [1, 2, 3]\r\n",
    "l2 = [4, 5, 6]\r\n",
    "\r\n",
    "print('l1 ID before regular concatenation: ', id(l1))\r\n",
    "l1 = l1 + l2\r\n",
    "print('l1 ID after regular concatenation: ', id(l1))\r\n",
    "print('l1: ', l1)"
   ],
   "outputs": [
    {
     "output_type": "stream",
     "name": "stdout",
     "text": [
      "l1 ID before regular concatenation:  2466396756480\n",
      "l1 ID after regular concatenation:  2466398742784\n",
      "l1:  [1, 2, 3, 4, 5, 6]\n"
     ]
    }
   ],
   "metadata": {}
  },
  {
   "cell_type": "markdown",
   "source": [
    "When we do an inplace concatenation we write **list1 += list2** instead of just **list1 + list2**.\n",
    "In the example below we see that l1 points to the same memory address both before and after concatenation.\n",
    "\n",
    "**THIS ONLY WORKS FOR MUTABLE SEQUENCES**"
   ],
   "metadata": {}
  },
  {
   "cell_type": "code",
   "execution_count": 33,
   "source": [
    "l1 = [1, 2, 3]\r\n",
    "l2 = [4, 5, 6]\r\n",
    "\r\n",
    "print('l1 ID before regular concatenation: ', id(l1))\r\n",
    "l1 += l2\r\n",
    "print('l1 ID after regular concatenation: ', id(l1))\r\n",
    "print('l1: ', l1)"
   ],
   "outputs": [
    {
     "output_type": "stream",
     "name": "stdout",
     "text": [
      "l1 ID before regular concatenation:  2466402789184\n",
      "l1 ID after regular concatenation:  2466402789184\n",
      "l1:  [1, 2, 3, 4, 5, 6]\n"
     ]
    }
   ],
   "metadata": {}
  },
  {
   "cell_type": "markdown",
   "source": [
    "#### In-place repetion"
   ],
   "metadata": {}
  },
  {
   "cell_type": "code",
   "execution_count": 35,
   "source": [
    "l1 = ['Mads', 'Brede', 'Preben']\r\n",
    "print('l1 ID before in-place repetition: ', id(l1))\r\n",
    "l1 *= 3\r\n",
    "print('l1 ID after in-place repetition: ', id(l1))\r\n",
    "print(l1)"
   ],
   "outputs": [
    {
     "output_type": "stream",
     "name": "stdout",
     "text": [
      "l1 ID before in-place repetition:  2466398191744\n",
      "l1 ID after in-place repetition:  2466398191744\n",
      "['Mads', 'Brede', 'Preben', 'Mads', 'Brede', 'Preben', 'Mads', 'Brede', 'Preben']\n"
     ]
    }
   ],
   "metadata": {}
  },
  {
   "cell_type": "markdown",
   "source": [
    "## Assignments in mutable sequences\n",
    "- The value being assigned via slicing and extended slicing must be an iterable\n",
    "- For regular slices (non-extended), the slice and the iterable need not be the same length.\n",
    "- With extended slicing, the extended slice and the iterable **must** have the same length."
   ],
   "metadata": {}
  },
  {
   "cell_type": "code",
   "execution_count": 38,
   "source": [
    "# The slice and the iterable need not be the same length\r\n",
    "l = [1, 2, 3, 4, 5, 6]\r\n",
    "l[0:1] = (10, 20, 30)\r\n",
    "print(l)"
   ],
   "outputs": [
    {
     "output_type": "stream",
     "name": "stdout",
     "text": [
      "[10, 20, 30, 2, 3, 4, 5, 6]\n"
     ]
    }
   ],
   "metadata": {}
  },
  {
   "cell_type": "code",
   "execution_count": 40,
   "source": [
    "# With extended slicing, the extended slice and the iterable must have the same length.\r\n",
    "l = [1, 2, 3, 4, 5]\r\n",
    "l[0:4:2] = [10, 30]\r\n",
    "print(l)"
   ],
   "outputs": [
    {
     "output_type": "stream",
     "name": "stdout",
     "text": [
      "[10, 2, 30, 4, 5]\n"
     ]
    }
   ],
   "metadata": {}
  },
  {
   "cell_type": "code",
   "execution_count": 41,
   "source": [
    "# Deleting a slice - by assigning an empty iterable\r\n",
    "l = [1, 2, 3, 4, 5]\r\n",
    "l[1:3] = []\r\n",
    "print(l)"
   ],
   "outputs": [
    {
     "output_type": "stream",
     "name": "stdout",
     "text": [
      "[1, 4, 5]\n"
     ]
    }
   ],
   "metadata": {}
  },
  {
   "cell_type": "code",
   "execution_count": 42,
   "source": [
    "# Insertions using an empty slice\r\n",
    "l = [1, 2, 3, 4, 5]\r\n",
    "l[1:1] = 'abc'\r\n",
    "print(l) "
   ],
   "outputs": [
    {
     "output_type": "stream",
     "name": "stdout",
     "text": [
      "[1, 'a', 'b', 'c', 2, 3, 4, 5]\n"
     ]
    }
   ],
   "metadata": {}
  },
  {
   "cell_type": "markdown",
   "source": [
    "## Sorting a sequence\n",
    "Python utilized stable-sort algorithm called TimSort. A stable sort is one that **maintains** the **relative order** of items that have **equal keys**.\n"
   ],
   "metadata": {}
  },
  {
   "cell_type": "code",
   "execution_count": 11,
   "source": [
    "# sorting a dictionary by the key values\r\n",
    "d = {'a': 100, 'b': 50, 'c': 10}\r\n",
    "sorted(d, key=lambda k: d[k])"
   ],
   "outputs": [
    {
     "output_type": "execute_result",
     "data": {
      "text/plain": [
       "['c', 'b', 'a']"
      ]
     },
     "metadata": {},
     "execution_count": 11
    }
   ],
   "metadata": {}
  },
  {
   "cell_type": "code",
   "execution_count": 36,
   "source": [
    "t = 'this', 'parrot', 'is', 'a', 'late', 'bird'\r\n",
    "\r\n",
    "# sort by length - method one\r\n",
    "def sort_keys(s):\r\n",
    "    return len(s)\r\n",
    "print('Sort by length - method one: ', sorted(t, key=sort_keys))\r\n",
    "\r\n",
    "# sort by length - method two\r\n",
    "print('Sort by length - method two: ', sorted(t, key=lambda word: len(word)))\r\n",
    "\r\n",
    "# sort by last letter of every word\r\n",
    "print('Sort by last letter in word: ', sorted(t, key=lambda word: word[-1]))\r\n",
    "\r\n",
    "# sort numbers by their absolute equivalent\r\n",
    "l = [-10, -5, 10+10j]\r\n",
    "print('Sorted by ABS size: ', sorted(l, key=lambda num: abs(num)))\r\n",
    "\r\n",
    "# sort letters - regardless if they are capital or lowercase\r\n",
    "letters = ['a', 'c', 'A', 'C']\r\n",
    "print('Sorted alphabetically: ', sorted(letters, key=lambda letter: letter.lower()))\r\n",
    "\r\n",
    "# sort by last letter in combination - irrespective of casing of letter\r\n",
    "l = ['Aa', 'BA', 'AA', 'Bb', 'aB']\r\n",
    "print('sort by last letter in combination: ', sorted(l, key=lambda word_combo: word_combo[-1].lower()))"
   ],
   "outputs": [
    {
     "output_type": "stream",
     "name": "stdout",
     "text": [
      "Sort by length - method one:  ['a', 'is', 'this', 'late', 'bird', 'parrot']\n",
      "Sort by length - method two:  ['a', 'is', 'this', 'late', 'bird', 'parrot']\n",
      "Sort by last letter in word:  ['a', 'bird', 'late', 'this', 'is', 'parrot']\n",
      "Sorted by ABS size:  [-5, -10, (10+10j)]\n",
      "Sorted alphabetically:  ['a', 'A', 'c', 'C']\n",
      "sort by last letter in combination:  ['Aa', 'BA', 'AA', 'Bb', 'aB']\n"
     ]
    }
   ],
   "metadata": {}
  },
  {
   "cell_type": "code",
   "execution_count": 34,
   "source": [
    "l = ['Aa', 'BA' 'AA', 'Bb', 'aB']\r\n",
    "sorted(l, key=lambda word_combo: word_combo[-1].lower())"
   ],
   "outputs": [
    {
     "output_type": "execute_result",
     "data": {
      "text/plain": [
       "['Aa', 'BAAA', 'Bb', 'aB']"
      ]
     },
     "metadata": {},
     "execution_count": 34
    }
   ],
   "metadata": {}
  },
  {
   "cell_type": "code",
   "execution_count": null,
   "source": [],
   "outputs": [],
   "metadata": {}
  }
 ]
}