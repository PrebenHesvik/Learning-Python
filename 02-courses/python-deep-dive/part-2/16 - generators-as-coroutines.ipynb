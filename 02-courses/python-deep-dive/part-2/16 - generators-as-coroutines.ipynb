{
 "cells": [
  {
   "cell_type": "code",
   "execution_count": 17,
   "source": [
    "from collections import deque\r\n",
    "from inspect import getgeneratorstate, getgeneratorlocals"
   ],
   "outputs": [],
   "metadata": {}
  },
  {
   "cell_type": "code",
   "execution_count": 2,
   "source": [
    "def produce_elements(dq):\r\n",
    "    for i in range(1, 6):\r\n",
    "        dq.appendleft(i)\r\n",
    "        \r\n",
    "def consume_elements(dq):\r\n",
    "    while len(dq) > 0:\r\n",
    "        item = dq.pop()\r\n",
    "        print('processing item: ', item)\r\n",
    "        \r\n",
    "def coordinator():\r\n",
    "    dq = deque()\r\n",
    "    produce_elements(dq)\r\n",
    "    consume_elements(dq)\r\n",
    "    \r\n",
    "coordinator()"
   ],
   "outputs": [
    {
     "output_type": "stream",
     "name": "stdout",
     "text": [
      "processing item:  1\n",
      "processing item:  2\n",
      "processing item:  3\n",
      "processing item:  4\n",
      "processing item:  5\n"
     ]
    }
   ],
   "metadata": {}
  },
  {
   "cell_type": "code",
   "execution_count": 3,
   "source": [
    "def produce_elements(dq, n):\r\n",
    "    for i in range(1, n):\r\n",
    "        dq.appendleft(i)\r\n",
    "        if len(dq) == dq.maxlen:\r\n",
    "            print('queue full - yielding control')\r\n",
    "            yield\r\n",
    "            \r\n",
    "def consume_elements(dq):\r\n",
    "    while True:\r\n",
    "        while len(dq) > 0:\r\n",
    "            print('processing ', dq.pop())\r\n",
    "        print('queue empty - yielding control')\r\n",
    "        yield\r\n",
    "        \r\n",
    "\r\n",
    "def coordinator():\r\n",
    "    dq = deque(maxlen=10)\r\n",
    "    producer = produce_elements(dq, 18)\r\n",
    "    consumer = consume_elements(dq)\r\n",
    "    while True:\r\n",
    "        try:\r\n",
    "            print('processing...')\r\n",
    "            next(producer)\r\n",
    "        except StopIteration:\r\n",
    "            # producer finished\r\n",
    "            break\r\n",
    "        finally:\r\n",
    "            print('consuming')\r\n",
    "            next(consumer)\r\n",
    "\r\n",
    "coordinator()        "
   ],
   "outputs": [
    {
     "output_type": "stream",
     "name": "stdout",
     "text": [
      "processing...\n",
      "queue full - yielding control\n",
      "consuming\n",
      "processing  1\n",
      "processing  2\n",
      "processing  3\n",
      "processing  4\n",
      "processing  5\n",
      "processing  6\n",
      "processing  7\n",
      "processing  8\n",
      "processing  9\n",
      "processing  10\n",
      "queue empty - yielding control\n",
      "processing...\n",
      "consuming\n",
      "processing  11\n",
      "processing  12\n",
      "processing  13\n",
      "processing  14\n",
      "processing  15\n",
      "processing  16\n",
      "processing  17\n",
      "queue empty - yielding control\n"
     ]
    }
   ],
   "metadata": {}
  },
  {
   "cell_type": "markdown",
   "source": [
    "## **<p style=\"color: #FF3232\"> Generator States </p>**"
   ],
   "metadata": {}
  },
  {
   "cell_type": "code",
   "execution_count": 4,
   "source": [
    "\r\n",
    "\r\n",
    "def gen(s):\r\n",
    "    yield from s\r\n",
    "\r\n",
    "g = gen('abc')\r\n",
    "\r\n",
    "print(getgeneratorstate(g))\r\n",
    "print(next(g))\r\n",
    "print(getgeneratorstate(g))\r\n",
    "print(list(g))\r\n",
    "print(getgeneratorstate(g))"
   ],
   "outputs": [
    {
     "output_type": "stream",
     "name": "stdout",
     "text": [
      "GEN_CREATED\n",
      "a\n",
      "GEN_SUSPENDED\n",
      "['b', 'c']\n",
      "GEN_CLOSED\n"
     ]
    }
   ],
   "metadata": {}
  },
  {
   "cell_type": "markdown",
   "source": [
    "## **<p style=\"color: darkorange\"> Sending to generators </p>**"
   ],
   "metadata": {}
  },
  {
   "cell_type": "code",
   "execution_count": 5,
   "source": [
    "def echo():\r\n",
    "    while True:\r\n",
    "        received = yield\r\n",
    "        print('you said: ', received)\r\n",
    "        \r\n",
    "e = echo()\r\n",
    "print(getgeneratorstate(e))\r\n",
    "next(e)\r\n",
    "print(getgeneratorstate(e))\r\n",
    "# we have to wait sending something until the generator is suspended\r\n",
    "e.send('python')\r\n",
    "print(getgeneratorstate(e))\r\n"
   ],
   "outputs": [
    {
     "output_type": "stream",
     "name": "stdout",
     "text": [
      "GEN_CREATED\n",
      "GEN_SUSPENDED\n",
      "you said:  python\n",
      "GEN_SUSPENDED\n"
     ]
    }
   ],
   "metadata": {}
  },
  {
   "cell_type": "code",
   "execution_count": 6,
   "source": [
    "def averager():\r\n",
    "    total = 0\r\n",
    "    count = 0\r\n",
    "    \r\n",
    "    def inner(value):\r\n",
    "        nonlocal total\r\n",
    "        nonlocal count\r\n",
    "        total += value\r\n",
    "        count += 1\r\n",
    "        return total / count\r\n",
    "    return inner\r\n",
    "\r\n",
    "def running_averages(iterable):\r\n",
    "    avg = averager()\r\n",
    "    for value in iterable:\r\n",
    "        running_average = avg(value)\r\n",
    "        print(running_average)\r\n",
    "        \r\n",
    "\r\n",
    "running_averages([1, 2, 3, 4])"
   ],
   "outputs": [
    {
     "output_type": "stream",
     "name": "stdout",
     "text": [
      "1.0\n",
      "1.5\n",
      "2.0\n",
      "2.5\n"
     ]
    }
   ],
   "metadata": {}
  },
  {
   "cell_type": "markdown",
   "source": [
    "### Doing the same thing with a co-routine generator"
   ],
   "metadata": {}
  },
  {
   "cell_type": "code",
   "execution_count": 7,
   "source": [
    "# This is a generator\r\n",
    "def running_averager():\r\n",
    "    total = 0\r\n",
    "    count = 0\r\n",
    "    running_average = None\r\n",
    "    while True:\r\n",
    "        value = yield running_average\r\n",
    "        total += value\r\n",
    "        count += 1\r\n",
    "        running_average = total / count\r\n",
    "        \r\n",
    "def running_averages(iterable):\r\n",
    "    # initializing the generator\r\n",
    "    averager = running_averager() \r\n",
    "    \r\n",
    "    # priming the generator\r\n",
    "    next(averager)\r\n",
    "    \r\n",
    "    # sending values to the generator\r\n",
    "    for value in iterable:\r\n",
    "        running_average = averager.send(value)\r\n",
    "        print(running_average)\r\n",
    "    \r\n",
    "\r\n",
    "running_averages([1, 2, 3, 4])"
   ],
   "outputs": [
    {
     "output_type": "stream",
     "name": "stdout",
     "text": [
      "1.0\n",
      "1.5\n",
      "2.0\n",
      "2.5\n"
     ]
    }
   ],
   "metadata": {}
  },
  {
   "cell_type": "markdown",
   "source": [
    "## Closing generators"
   ],
   "metadata": {}
  },
  {
   "cell_type": "code",
   "execution_count": 8,
   "source": [
    "import csv\r\n",
    "import itertools\r\n",
    "\r\n",
    "def parse_file(f_name):\r\n",
    "    print('opening file')\r\n",
    "    f = open(f_name, 'r')\r\n",
    "    try:\r\n",
    "        dialect = csv.Sniffer().sniff(f.read(2000))\r\n",
    "        f.seek(0)\r\n",
    "        next(f)\r\n",
    "        reader = csv.reader(f, dialect=dialect)\r\n",
    "        for row in reader:\r\n",
    "            try:\r\n",
    "                yield row\r\n",
    "            except GeneratorExit:\r\n",
    "                print('got call to close generator')   \r\n",
    "                raise Exception('something happened') from None\r\n",
    "    finally:\r\n",
    "        print('closing file')\r\n",
    "        f.close()\r\n",
    "        \r\n",
    "parser = parse_file('../../../01-datasets/python-deep-dive/cars.csv')\r\n",
    "for row in itertools.islice(parser, 10):\r\n",
    "    print(row)\r\n",
    "parser.close()"
   ],
   "outputs": [
    {
     "output_type": "stream",
     "name": "stdout",
     "text": [
      "opening file\n",
      "['STRING', 'DOUBLE', 'INT', 'DOUBLE', 'DOUBLE', 'DOUBLE', 'DOUBLE', 'INT', 'CAT']\n",
      "['Chevrolet Chevelle Malibu', '18.0', '8', '307.0', '130.0', '3504.', '12.0', '70', 'US']\n",
      "['Buick Skylark 320', '15.0', '8', '350.0', '165.0', '3693.', '11.5', '70', 'US']\n",
      "['Plymouth Satellite', '18.0', '8', '318.0', '150.0', '3436.', '11.0', '70', 'US']\n",
      "['AMC Rebel SST', '16.0', '8', '304.0', '150.0', '3433.', '12.0', '70', 'US']\n",
      "['Ford Torino', '17.0', '8', '302.0', '140.0', '3449.', '10.5', '70', 'US']\n",
      "['Ford Galaxie 500', '15.0', '8', '429.0', '198.0', '4341.', '10.0', '70', 'US']\n",
      "['Chevrolet Impala', '14.0', '8', '454.0', '220.0', '4354.', '9.0', '70', 'US']\n",
      "['Plymouth Fury iii', '14.0', '8', '440.0', '215.0', '4312.', '8.5', '70', 'US']\n",
      "['Pontiac Catalina', '14.0', '8', '455.0', '225.0', '4425.', '10.0', '70', 'US']\n",
      "got call to close generator\n",
      "closing file\n"
     ]
    },
    {
     "output_type": "error",
     "ename": "Exception",
     "evalue": "something happened",
     "traceback": [
      "\u001b[1;31m---------------------------------------------------------------------------\u001b[0m",
      "\u001b[1;31mException\u001b[0m                                 Traceback (most recent call last)",
      "\u001b[1;32m<ipython-input-8-88e75dc00f63>\u001b[0m in \u001b[0;36m<module>\u001b[1;34m\u001b[0m\n\u001b[0;32m     23\u001b[0m \u001b[1;32mfor\u001b[0m \u001b[0mrow\u001b[0m \u001b[1;32min\u001b[0m \u001b[0mitertools\u001b[0m\u001b[1;33m.\u001b[0m\u001b[0mislice\u001b[0m\u001b[1;33m(\u001b[0m\u001b[0mparser\u001b[0m\u001b[1;33m,\u001b[0m \u001b[1;36m10\u001b[0m\u001b[1;33m)\u001b[0m\u001b[1;33m:\u001b[0m\u001b[1;33m\u001b[0m\u001b[1;33m\u001b[0m\u001b[0m\n\u001b[0;32m     24\u001b[0m     \u001b[0mprint\u001b[0m\u001b[1;33m(\u001b[0m\u001b[0mrow\u001b[0m\u001b[1;33m)\u001b[0m\u001b[1;33m\u001b[0m\u001b[1;33m\u001b[0m\u001b[0m\n\u001b[1;32m---> 25\u001b[1;33m \u001b[0mparser\u001b[0m\u001b[1;33m.\u001b[0m\u001b[0mclose\u001b[0m\u001b[1;33m(\u001b[0m\u001b[1;33m)\u001b[0m\u001b[1;33m\u001b[0m\u001b[1;33m\u001b[0m\u001b[0m\n\u001b[0m",
      "\u001b[1;32m<ipython-input-8-88e75dc00f63>\u001b[0m in \u001b[0;36mparse_file\u001b[1;34m(f_name)\u001b[0m\n\u001b[0;32m     15\u001b[0m             \u001b[1;32mexcept\u001b[0m \u001b[0mGeneratorExit\u001b[0m\u001b[1;33m:\u001b[0m\u001b[1;33m\u001b[0m\u001b[1;33m\u001b[0m\u001b[0m\n\u001b[0;32m     16\u001b[0m                 \u001b[0mprint\u001b[0m\u001b[1;33m(\u001b[0m\u001b[1;34m'got call to close generator'\u001b[0m\u001b[1;33m)\u001b[0m\u001b[1;33m\u001b[0m\u001b[1;33m\u001b[0m\u001b[0m\n\u001b[1;32m---> 17\u001b[1;33m                 \u001b[1;32mraise\u001b[0m \u001b[0mException\u001b[0m\u001b[1;33m(\u001b[0m\u001b[1;34m'something happened'\u001b[0m\u001b[1;33m)\u001b[0m \u001b[1;32mfrom\u001b[0m \u001b[1;32mNone\u001b[0m\u001b[1;33m\u001b[0m\u001b[1;33m\u001b[0m\u001b[0m\n\u001b[0m\u001b[0;32m     18\u001b[0m     \u001b[1;32mfinally\u001b[0m\u001b[1;33m:\u001b[0m\u001b[1;33m\u001b[0m\u001b[1;33m\u001b[0m\u001b[0m\n\u001b[0;32m     19\u001b[0m         \u001b[0mprint\u001b[0m\u001b[1;33m(\u001b[0m\u001b[1;34m'closing file'\u001b[0m\u001b[1;33m)\u001b[0m\u001b[1;33m\u001b[0m\u001b[1;33m\u001b[0m\u001b[0m\n",
      "\u001b[1;31mException\u001b[0m: something happened"
     ]
    }
   ],
   "metadata": {}
  },
  {
   "cell_type": "code",
   "execution_count": 9,
   "source": [
    "class TransactionAborted(Exception):\r\n",
    "    pass\r\n",
    "\r\n",
    "def save_to_db():\r\n",
    "    print('starting new transaction')\r\n",
    "    is_abort = False\r\n",
    "    try:\r\n",
    "        while True:\r\n",
    "            data = yield\r\n",
    "            print('sending data to database: ', eval(data))\r\n",
    "    except Exception as ex:\r\n",
    "        is_abort = True\r\n",
    "        raise TransactionAborted(str(ex))\r\n",
    "    except GeneratorExit:\r\n",
    "        print('committing transaction')\r\n",
    "        raise\r\n",
    "    finally:\r\n",
    "        if is_abort:\r\n",
    "            print('rollback transaction')\r\n",
    "        else:\r\n",
    "            print('commit transaction')\r\n",
    "            \r\n",
    "\r\n",
    "trans = save_to_db()\r\n",
    "next(trans)\r\n",
    "trans.send('1 + 1')\r\n",
    "trans.send('1 / 0')\r\n",
    "trans.close()\r\n",
    "                "
   ],
   "outputs": [
    {
     "output_type": "stream",
     "name": "stdout",
     "text": [
      "starting new transaction\n",
      "sending data to database:  2\n",
      "rollback transaction\n"
     ]
    },
    {
     "output_type": "error",
     "ename": "TransactionAborted",
     "evalue": "division by zero",
     "traceback": [
      "\u001b[1;31m---------------------------------------------------------------------------\u001b[0m",
      "\u001b[1;31mZeroDivisionError\u001b[0m                         Traceback (most recent call last)",
      "\u001b[1;32m<ipython-input-9-a1d54089129b>\u001b[0m in \u001b[0;36msave_to_db\u001b[1;34m()\u001b[0m\n\u001b[0;32m      9\u001b[0m             \u001b[0mdata\u001b[0m \u001b[1;33m=\u001b[0m \u001b[1;32myield\u001b[0m\u001b[1;33m\u001b[0m\u001b[1;33m\u001b[0m\u001b[0m\n\u001b[1;32m---> 10\u001b[1;33m             \u001b[0mprint\u001b[0m\u001b[1;33m(\u001b[0m\u001b[1;34m'sending data to database: '\u001b[0m\u001b[1;33m,\u001b[0m \u001b[0meval\u001b[0m\u001b[1;33m(\u001b[0m\u001b[0mdata\u001b[0m\u001b[1;33m)\u001b[0m\u001b[1;33m)\u001b[0m\u001b[1;33m\u001b[0m\u001b[1;33m\u001b[0m\u001b[0m\n\u001b[0m\u001b[0;32m     11\u001b[0m     \u001b[1;32mexcept\u001b[0m \u001b[0mException\u001b[0m \u001b[1;32mas\u001b[0m \u001b[0mex\u001b[0m\u001b[1;33m:\u001b[0m\u001b[1;33m\u001b[0m\u001b[1;33m\u001b[0m\u001b[0m\n",
      "\u001b[1;32m<string>\u001b[0m in \u001b[0;36m<module>\u001b[1;34m\u001b[0m\n",
      "\u001b[1;31mZeroDivisionError\u001b[0m: division by zero",
      "\nDuring handling of the above exception, another exception occurred:\n",
      "\u001b[1;31mTransactionAborted\u001b[0m                        Traceback (most recent call last)",
      "\u001b[1;32m<ipython-input-9-a1d54089129b>\u001b[0m in \u001b[0;36m<module>\u001b[1;34m\u001b[0m\n\u001b[0;32m     25\u001b[0m \u001b[0mnext\u001b[0m\u001b[1;33m(\u001b[0m\u001b[0mtrans\u001b[0m\u001b[1;33m)\u001b[0m\u001b[1;33m\u001b[0m\u001b[1;33m\u001b[0m\u001b[0m\n\u001b[0;32m     26\u001b[0m \u001b[0mtrans\u001b[0m\u001b[1;33m.\u001b[0m\u001b[0msend\u001b[0m\u001b[1;33m(\u001b[0m\u001b[1;34m'1 + 1'\u001b[0m\u001b[1;33m)\u001b[0m\u001b[1;33m\u001b[0m\u001b[1;33m\u001b[0m\u001b[0m\n\u001b[1;32m---> 27\u001b[1;33m \u001b[0mtrans\u001b[0m\u001b[1;33m.\u001b[0m\u001b[0msend\u001b[0m\u001b[1;33m(\u001b[0m\u001b[1;34m'1 / 0'\u001b[0m\u001b[1;33m)\u001b[0m\u001b[1;33m\u001b[0m\u001b[1;33m\u001b[0m\u001b[0m\n\u001b[0m\u001b[0;32m     28\u001b[0m \u001b[0mtrans\u001b[0m\u001b[1;33m.\u001b[0m\u001b[0mclose\u001b[0m\u001b[1;33m(\u001b[0m\u001b[1;33m)\u001b[0m\u001b[1;33m\u001b[0m\u001b[1;33m\u001b[0m\u001b[0m\n\u001b[0;32m     29\u001b[0m \u001b[1;33m\u001b[0m\u001b[0m\n",
      "\u001b[1;32m<ipython-input-9-a1d54089129b>\u001b[0m in \u001b[0;36msave_to_db\u001b[1;34m()\u001b[0m\n\u001b[0;32m     11\u001b[0m     \u001b[1;32mexcept\u001b[0m \u001b[0mException\u001b[0m \u001b[1;32mas\u001b[0m \u001b[0mex\u001b[0m\u001b[1;33m:\u001b[0m\u001b[1;33m\u001b[0m\u001b[1;33m\u001b[0m\u001b[0m\n\u001b[0;32m     12\u001b[0m         \u001b[0mis_abort\u001b[0m \u001b[1;33m=\u001b[0m \u001b[1;32mTrue\u001b[0m\u001b[1;33m\u001b[0m\u001b[1;33m\u001b[0m\u001b[0m\n\u001b[1;32m---> 13\u001b[1;33m         \u001b[1;32mraise\u001b[0m \u001b[0mTransactionAborted\u001b[0m\u001b[1;33m(\u001b[0m\u001b[0mstr\u001b[0m\u001b[1;33m(\u001b[0m\u001b[0mex\u001b[0m\u001b[1;33m)\u001b[0m\u001b[1;33m)\u001b[0m\u001b[1;33m\u001b[0m\u001b[1;33m\u001b[0m\u001b[0m\n\u001b[0m\u001b[0;32m     14\u001b[0m     \u001b[1;32mexcept\u001b[0m \u001b[0mGeneratorExit\u001b[0m\u001b[1;33m:\u001b[0m\u001b[1;33m\u001b[0m\u001b[1;33m\u001b[0m\u001b[0m\n\u001b[0;32m     15\u001b[0m         \u001b[0mprint\u001b[0m\u001b[1;33m(\u001b[0m\u001b[1;34m'committing transaction'\u001b[0m\u001b[1;33m)\u001b[0m\u001b[1;33m\u001b[0m\u001b[1;33m\u001b[0m\u001b[0m\n",
      "\u001b[1;31mTransactionAborted\u001b[0m: division by zero"
     ]
    }
   ],
   "metadata": {}
  },
  {
   "cell_type": "markdown",
   "source": [
    "## Sending exceptions to generators"
   ],
   "metadata": {}
  },
  {
   "cell_type": "code",
   "execution_count": 10,
   "source": [
    "def gen():\r\n",
    "    try:\r\n",
    "        while True:\r\n",
    "            received = yield\r\n",
    "            print(received)\r\n",
    "    except ValueError:\r\n",
    "        print('received a value error')\r\n",
    "    finally:\r\n",
    "        print('exception must have happened')\r\n",
    "        \r\n"
   ],
   "outputs": [],
   "metadata": {}
  },
  {
   "cell_type": "code",
   "execution_count": 11,
   "source": [
    "def gen():\r\n",
    "    while True:\r\n",
    "        try:\r\n",
    "            received = yield\r\n",
    "            print(received)\r\n",
    "        except ValueError as ex:\r\n",
    "            print('value error received: ', str(ex))\r\n",
    "            \r\n",
    "g = gen()\r\n",
    "next(g)\r\n",
    "g.send('hello')\r\n",
    "g.throw(ValueError, 'custom message')\r\n",
    "g.send('python')\r\n",
    "            "
   ],
   "outputs": [
    {
     "output_type": "stream",
     "name": "stdout",
     "text": [
      "hello\n",
      "value error received:  custom message\n",
      "python\n"
     ]
    }
   ],
   "metadata": {}
  },
  {
   "cell_type": "code",
   "execution_count": 12,
   "source": [
    "class CommitException(Exception):\r\n",
    "    pass\r\n",
    "\r\n",
    "class RollbackException(Exception):\r\n",
    "    pass\r\n",
    "\r\n",
    "def write_to_db():\r\n",
    "    print('opening database connection')\r\n",
    "    print('start transaction')\r\n",
    "    try:\r\n",
    "        while True:\r\n",
    "            try:\r\n",
    "                data = yield\r\n",
    "                print('writing data to database...', data)\r\n",
    "            except CommitException:\r\n",
    "                print('comitting transaction')\r\n",
    "                print('opening next transaction')\r\n",
    "            except RollbackException:\r\n",
    "                print('aborting transaction')\r\n",
    "                print('opening next transaction')\r\n",
    "    finally:\r\n",
    "        print('generator closing')\r\n",
    "        print('abort transaction')\r\n",
    "        print('closing database connection')\r\n",
    "                "
   ],
   "outputs": [],
   "metadata": {}
  },
  {
   "cell_type": "markdown",
   "source": [
    "# Using decorators to prime Coroutines"
   ],
   "metadata": {}
  },
  {
   "cell_type": "code",
   "execution_count": 13,
   "source": [
    "import math\r\n",
    "\r\n",
    "def coroutine(gen_fn):\r\n",
    "    def inner(*args, **kwargs):\r\n",
    "        gen = gen_fn(*args, **kwargs)\r\n",
    "        next(gen)\r\n",
    "        return gen\r\n",
    "    return inner\r\n",
    "\r\n",
    "\r\n",
    "@coroutine\r\n",
    "def power_up(p):\r\n",
    "    result = None\r\n",
    "    while True:\r\n",
    "        received = yield result\r\n",
    "        result = math.pow(received, p)\r\n",
    "\r\n",
    "         \r\n",
    "squares = power_up(2)\r\n",
    "squares.send(9)"
   ],
   "outputs": [
    {
     "output_type": "execute_result",
     "data": {
      "text/plain": [
       "81.0"
      ]
     },
     "metadata": {},
     "execution_count": 13
    }
   ],
   "metadata": {}
  },
  {
   "cell_type": "markdown",
   "source": [
    "# Yield from - two-way communications"
   ],
   "metadata": {}
  },
  {
   "cell_type": "code",
   "execution_count": 15,
   "source": [
    "def squares(n):\r\n",
    "    for i in range(n):\r\n",
    "        yield i **2\r\n",
    "        \r\n",
    "def delegator(n):\r\n",
    "    yield from squares(n)\r\n",
    "    \r\n",
    "gen = delegator(5)\r\n",
    "\r\n",
    "for _ in range(5):\r\n",
    "    print(next(gen), end=', ')"
   ],
   "outputs": [
    {
     "output_type": "stream",
     "name": "stdout",
     "text": [
      "0, 1, 4, 9, 16, "
     ]
    }
   ],
   "metadata": {}
  },
  {
   "cell_type": "markdown",
   "source": [
    "- caller next --> delegator --> subgen\r\n",
    "- subgen yields --> delegator yields --> caller"
   ],
   "metadata": {}
  },
  {
   "cell_type": "code",
   "execution_count": 22,
   "source": [
    "def song():\r\n",
    "    yield 'I am a lumberjack and I am ok'\r\n",
    "    yield 'I sleep all night and I work all day'\r\n",
    "    \r\n",
    "def play_song():\r\n",
    "    count = 0\r\n",
    "    s = song()\r\n",
    "    yield from s\r\n",
    "    yield 'song finished'\r\n",
    "    print('player is exiting')\r\n",
    "    \r\n",
    "player = play_song()\r\n",
    "print('getgeneratorstate(player) ', getgeneratorstate(player))\r\n",
    "print('getgeneratorlocals(player)', getgeneratorlocals(player))\r\n",
    "print(next(player))\r\n",
    "\r\n",
    "print('getgeneratorstate(player) ', getgeneratorstate(player))\r\n",
    "print('getgeneratorlocals(player)', getgeneratorlocals(player))\r\n",
    "\r\n",
    "s = getgeneratorlocals(player)['s']\r\n",
    "print('getgeneratorstate(s) ', getgeneratorstate(s))\r\n",
    "print('getgeneratorlocals(s)', getgeneratorlocals(s))\r\n",
    "print(next(player))\r\n",
    "print(next(player))"
   ],
   "outputs": [
    {
     "output_type": "stream",
     "name": "stdout",
     "text": [
      "getgeneratorstate(player)  GEN_CREATED\n",
      "getgeneratorlocals(player) {}\n",
      "I am a lumberjack and I am ok\n",
      "getgeneratorstate(player)  GEN_SUSPENDED\n",
      "getgeneratorlocals(player) {'count': 0, 's': <generator object song at 0x0000021173A62510>}\n",
      "getgeneratorstate(s)  GEN_SUSPENDED\n",
      "getgeneratorlocals(s) {}\n",
      "I sleep all night and I work all day\n",
      "song finished\n"
     ]
    }
   ],
   "metadata": {}
  },
  {
   "cell_type": "code",
   "execution_count": 27,
   "source": [
    "def song():\r\n",
    "    yield 'I am a lumberjack and I am ok'\r\n",
    "    yield 'I sleep all night and I work all day'\r\n",
    "    \r\n",
    "def player():\r\n",
    "    count = 1\r\n",
    "    while True:\r\n",
    "        print('run count: ', count)\r\n",
    "        yield from song()\r\n",
    "        count += 1\r\n",
    "        \r\n",
    "p = player()\r\n",
    "next(p), next(p)"
   ],
   "outputs": [
    {
     "output_type": "stream",
     "name": "stdout",
     "text": [
      "run count:  1\n"
     ]
    },
    {
     "output_type": "execute_result",
     "data": {
      "text/plain": [
       "('I am a lumberjack and I am ok', 'I sleep all night and I work all day')"
      ]
     },
     "metadata": {},
     "execution_count": 27
    }
   ],
   "metadata": {}
  },
  {
   "cell_type": "code",
   "execution_count": 28,
   "source": [
    "next(p), next(p)"
   ],
   "outputs": [
    {
     "output_type": "stream",
     "name": "stdout",
     "text": [
      "run count:  2\n"
     ]
    },
    {
     "output_type": "execute_result",
     "data": {
      "text/plain": [
       "('I am a lumberjack and I am ok', 'I sleep all night and I work all day')"
      ]
     },
     "metadata": {},
     "execution_count": 28
    }
   ],
   "metadata": {}
  },
  {
   "cell_type": "markdown",
   "source": [
    "# Yield from - sending data"
   ],
   "metadata": {}
  },
  {
   "cell_type": "code",
   "execution_count": 33,
   "source": [
    "def echo():\r\n",
    "    output = None\r\n",
    "    while True:\r\n",
    "        received = yield output\r\n",
    "        output = received[::-1]\r\n",
    "        \r\n",
    "def delegator():\r\n",
    "    yield from echo()\r\n",
    "    \r\n",
    "d = delegator()\r\n",
    "next(d)\r\n",
    "d.send('python')"
   ],
   "outputs": [
    {
     "output_type": "execute_result",
     "data": {
      "text/plain": [
       "'nohtyp'"
      ]
     },
     "metadata": {},
     "execution_count": 33
    }
   ],
   "metadata": {}
  },
  {
   "cell_type": "markdown",
   "source": [
    "# Flatten a list\r\n",
    "## First iteration"
   ],
   "metadata": {}
  },
  {
   "cell_type": "code",
   "execution_count": 34,
   "source": [
    "def flatten(curr_item, output):\r\n",
    "    if isinstance(curr_item, list):\r\n",
    "        for item in curr_item:\r\n",
    "            flatten(item, output)\r\n",
    "    else:\r\n",
    "        output.append(curr_item)\r\n",
    " \r\n",
    "lst = [1, 2, [3, 4], [[5, 6], [7, 8]]]       \r\n",
    "output = []\r\n",
    "flatten(lst, output)\r\n",
    "print(output)"
   ],
   "outputs": [
    {
     "output_type": "stream",
     "name": "stdout",
     "text": [
      "[1, 2, 3, 4, 5, 6, 7, 8]\n"
     ]
    }
   ],
   "metadata": {}
  },
  {
   "cell_type": "markdown",
   "source": [
    "## Second iteration (as iterator)"
   ],
   "metadata": {}
  },
  {
   "cell_type": "code",
   "execution_count": 35,
   "source": [
    "def flatten_gen(curr_item):\r\n",
    "    if isinstance(curr_item, list):\r\n",
    "        for item in curr_item:\r\n",
    "            yield from flatten_gen(item)\r\n",
    "    else:\r\n",
    "        yield curr_item\r\n",
    "        \r\n",
    "lst = [1, 2, [3, 4], [[5, 6], [7, 8]]]       \r\n",
    "gen = flatten_gen(lst)\r\n",
    "list(gen)"
   ],
   "outputs": [
    {
     "output_type": "execute_result",
     "data": {
      "text/plain": [
       "[1, 2, 3, 4, 5, 6, 7, 8]"
      ]
     },
     "metadata": {},
     "execution_count": 35
    }
   ],
   "metadata": {}
  },
  {
   "cell_type": "markdown",
   "source": [
    "## Third iteration"
   ],
   "metadata": {}
  },
  {
   "cell_type": "code",
   "execution_count": 37,
   "source": [
    "def is_iterable(item, *, str_is_iterable=True):\r\n",
    "    try:\r\n",
    "        iter(item)\r\n",
    "    except:\r\n",
    "        return False\r\n",
    "    else:\r\n",
    "        if isinstance(item, str):\r\n",
    "            if str_is_iterable and len(item) > 1:\r\n",
    "                return True\r\n",
    "            else:\r\n",
    "                return False\r\n",
    "        else:\r\n",
    "            return True\r\n",
    "        \r\n",
    "def flatten_gen(curr_item):\r\n",
    "    if is_iterable(curr_item):\r\n",
    "        for item in curr_item:\r\n",
    "            yield from flatten_gen(item)\r\n",
    "    else:\r\n",
    "        yield curr_item\r\n",
    "        \r\n",
    "lst = ['abc', 1, 2, (3, 4), [{5, 6}, [7, 8]]]       \r\n",
    "gen = flatten_gen(lst)\r\n",
    "list(gen)"
   ],
   "outputs": [
    {
     "output_type": "execute_result",
     "data": {
      "text/plain": [
       "['a', 'b', 'c', 1, 2, 3, 4, 5, 6, 7, 8]"
      ]
     },
     "metadata": {},
     "execution_count": 37
    }
   ],
   "metadata": {}
  },
  {
   "cell_type": "markdown",
   "source": [
    "## Fourth iteration\r\n",
    "With refactoring suggestion from sourcery"
   ],
   "metadata": {}
  },
  {
   "cell_type": "code",
   "execution_count": 38,
   "source": [
    "def is_iterable(item, *, str_is_iterable=True):\r\n",
    "    try:\r\n",
    "        iter(item)\r\n",
    "    except:\r\n",
    "        return False\r\n",
    "    else:\r\n",
    "        return bool(\r\n",
    "            isinstance(item, str)\r\n",
    "            and str_is_iterable\r\n",
    "            and len(item) > 1\r\n",
    "            or not isinstance(item, str)\r\n",
    "        )\r\n",
    "        \r\n",
    "def flatten_gen(curr_item):\r\n",
    "    if is_iterable(curr_item):\r\n",
    "        for item in curr_item:\r\n",
    "            yield from flatten_gen(item)\r\n",
    "    else:\r\n",
    "        yield curr_item\r\n",
    "        \r\n",
    "lst = ['abc', 1, 2, (3, 4), [{5, 6}, [7, 8]]]       \r\n",
    "gen = flatten_gen(lst)\r\n",
    "list(gen)"
   ],
   "outputs": [
    {
     "output_type": "execute_result",
     "data": {
      "text/plain": [
       "['a', 'b', 'c', 1, 2, 3, 4, 5, 6, 7, 8]"
      ]
     },
     "metadata": {},
     "execution_count": 38
    }
   ],
   "metadata": {}
  },
  {
   "cell_type": "markdown",
   "source": [
    "## Fifth iteration\r\n",
    "Add 'str_is_iterable' argument to flatten_gen"
   ],
   "metadata": {}
  },
  {
   "cell_type": "code",
   "execution_count": 39,
   "source": [
    "def is_iterable(item, *, str_is_iterable=True):\r\n",
    "    try:\r\n",
    "        iter(item)\r\n",
    "    except:\r\n",
    "        return False\r\n",
    "    else:\r\n",
    "        return bool(\r\n",
    "            isinstance(item, str)\r\n",
    "            and str_is_iterable\r\n",
    "            and len(item) > 1\r\n",
    "            or not isinstance(item, str)\r\n",
    "        )\r\n",
    "        \r\n",
    "def flatten_gen(curr_item,  *, str_is_iterable=True):\r\n",
    "    if is_iterable(curr_item, str_is_iterable=str_is_iterable):\r\n",
    "        for item in curr_item:\r\n",
    "            yield from flatten_gen(item)\r\n",
    "    else:\r\n",
    "        yield curr_item\r\n",
    "        \r\n",
    "lst = ['abc', 1, 2, (3, 4), [{5, 6}, [7, 8]]]       \r\n",
    "gen = flatten_gen(lst)\r\n",
    "list(gen)"
   ],
   "outputs": [
    {
     "output_type": "execute_result",
     "data": {
      "text/plain": [
       "['a', 'b', 'c', 1, 2, 3, 4, 5, 6, 7, 8]"
      ]
     },
     "metadata": {},
     "execution_count": 39
    }
   ],
   "metadata": {}
  },
  {
   "cell_type": "markdown",
   "source": [
    "# Yield from - closing and return"
   ],
   "metadata": {}
  },
  {
   "cell_type": "code",
   "execution_count": 44,
   "source": [
    "def subgen():\r\n",
    "    try:\r\n",
    "        while True:\r\n",
    "            received = yield\r\n",
    "            print(received)\r\n",
    "    finally:\r\n",
    "        print('subgen: closing')\r\n",
    "        \r\n",
    "def delegator():\r\n",
    "    s = subgen()\r\n",
    "    yield from s\r\n",
    "    yield 'delegator: subgen closing'\r\n",
    "    print('delegator closing')\r\n",
    "    \r\n",
    "d = delegator()\r\n",
    "next(d)\r\n",
    "s = getgeneratorlocals(d)['s']\r\n",
    "print('getgeneratorstate(d)', getgeneratorstate(d))\r\n",
    "print('getgeneratorstate(s)', getgeneratorstate(s))\r\n",
    "print('getgeneratorlocals(d) ', getgeneratorlocals(d))\r\n",
    "print('getgeneratorlocals(s) ', getgeneratorlocals(s))  \r\n",
    "\r\n",
    "d.send('hello')\r\n",
    "d.close()\r\n",
    "print('getgeneratorstate(d)', getgeneratorstate(d))\r\n",
    "print('getgeneratorstate(s)', getgeneratorstate(s))"
   ],
   "outputs": [
    {
     "output_type": "stream",
     "name": "stdout",
     "text": [
      "subgen: closing\n",
      "getgeneratorstate(d) GEN_SUSPENDED\n",
      "getgeneratorstate(s) GEN_SUSPENDED\n",
      "getgeneratorlocals(d)  {'s': <generator object subgen at 0x0000021173A8F2E0>}\n",
      "getgeneratorlocals(s)  {}\n",
      "hello\n",
      "subgen: closing\n",
      "getgeneratorstate(d) GEN_CLOSED\n",
      "getgeneratorstate(s) GEN_CLOSED\n"
     ]
    }
   ],
   "metadata": {}
  },
  {
   "cell_type": "code",
   "execution_count": 49,
   "source": [
    "def subgen():\r\n",
    "    try:\r\n",
    "        yield 1\r\n",
    "        yield 2\r\n",
    "    finally:\r\n",
    "        print('subgen closing...')\r\n",
    "        return 100\r\n",
    "    \r\n",
    "\r\n",
    "def delegator():\r\n",
    "    s = subgen()\r\n",
    "    result = yield from s\r\n",
    "    print('subgen returned: ', result)\r\n",
    "    yield 'delegator suspended'\r\n",
    "    print('delegator closing...Now you will get a StopIteration exception')\r\n",
    "    \r\n",
    "d = delegator()\r\n",
    "print(next(d))\r\n",
    "print(next(d))\r\n",
    "print(next(d))\r\n",
    "print(next(d))"
   ],
   "outputs": [
    {
     "output_type": "stream",
     "name": "stdout",
     "text": [
      "1\n",
      "2\n",
      "subgen closing...\n",
      "subgen returned:  100\n",
      "delegator suspended\n",
      "delegator closing...Now you will get a StopIteration exception\n"
     ]
    },
    {
     "output_type": "error",
     "ename": "StopIteration",
     "evalue": "",
     "traceback": [
      "\u001b[1;31m---------------------------------------------------------------------------\u001b[0m",
      "\u001b[1;31mStopIteration\u001b[0m                             Traceback (most recent call last)",
      "\u001b[1;32m<ipython-input-49-818c8b2eef26>\u001b[0m in \u001b[0;36m<module>\u001b[1;34m\u001b[0m\n\u001b[0;32m     19\u001b[0m \u001b[0mprint\u001b[0m\u001b[1;33m(\u001b[0m\u001b[0mnext\u001b[0m\u001b[1;33m(\u001b[0m\u001b[0md\u001b[0m\u001b[1;33m)\u001b[0m\u001b[1;33m)\u001b[0m\u001b[1;33m\u001b[0m\u001b[1;33m\u001b[0m\u001b[0m\n\u001b[0;32m     20\u001b[0m \u001b[0mprint\u001b[0m\u001b[1;33m(\u001b[0m\u001b[0mnext\u001b[0m\u001b[1;33m(\u001b[0m\u001b[0md\u001b[0m\u001b[1;33m)\u001b[0m\u001b[1;33m)\u001b[0m\u001b[1;33m\u001b[0m\u001b[1;33m\u001b[0m\u001b[0m\n\u001b[1;32m---> 21\u001b[1;33m \u001b[0mprint\u001b[0m\u001b[1;33m(\u001b[0m\u001b[0mnext\u001b[0m\u001b[1;33m(\u001b[0m\u001b[0md\u001b[0m\u001b[1;33m)\u001b[0m\u001b[1;33m)\u001b[0m\u001b[1;33m\u001b[0m\u001b[1;33m\u001b[0m\u001b[0m\n\u001b[0m",
      "\u001b[1;31mStopIteration\u001b[0m: "
     ]
    }
   ],
   "metadata": {}
  },
  {
   "cell_type": "markdown",
   "source": [
    "# Yield From - Throwing Exceptions"
   ],
   "metadata": {}
  },
  {
   "cell_type": "code",
   "execution_count": 59,
   "source": [
    "class CloseCoroutine(Exception):\r\n",
    "    pass\r\n",
    "\r\n",
    "def echo():\r\n",
    "    try:\r\n",
    "        while True:\r\n",
    "            received = yield\r\n",
    "            print(received)\r\n",
    "    except CloseCoroutine:\r\n",
    "        return 'coro was closed'\r\n",
    "    except GeneratorExit:\r\n",
    "        print('closed method was called/or GeneratorExit thrown')\r\n",
    "        return 'From a GeneratorExit'\r\n",
    "        \r\n",
    "        \r\n",
    "e = echo()\r\n",
    "next(e)\r\n",
    "e.throw(CloseCoroutine)"
   ],
   "outputs": [
    {
     "output_type": "error",
     "ename": "StopIteration",
     "evalue": "coro was closed",
     "traceback": [
      "\u001b[1;31m---------------------------------------------------------------------------\u001b[0m",
      "\u001b[1;31mStopIteration\u001b[0m                             Traceback (most recent call last)",
      "\u001b[1;32m<ipython-input-59-57db44b906f7>\u001b[0m in \u001b[0;36m<module>\u001b[1;34m\u001b[0m\n\u001b[0;32m     16\u001b[0m \u001b[0me\u001b[0m \u001b[1;33m=\u001b[0m \u001b[0mecho\u001b[0m\u001b[1;33m(\u001b[0m\u001b[1;33m)\u001b[0m\u001b[1;33m\u001b[0m\u001b[1;33m\u001b[0m\u001b[0m\n\u001b[0;32m     17\u001b[0m \u001b[0mnext\u001b[0m\u001b[1;33m(\u001b[0m\u001b[0me\u001b[0m\u001b[1;33m)\u001b[0m\u001b[1;33m\u001b[0m\u001b[1;33m\u001b[0m\u001b[0m\n\u001b[1;32m---> 18\u001b[1;33m \u001b[0me\u001b[0m\u001b[1;33m.\u001b[0m\u001b[0mthrow\u001b[0m\u001b[1;33m(\u001b[0m\u001b[0mCloseCoroutine\u001b[0m\u001b[1;33m)\u001b[0m\u001b[1;33m\u001b[0m\u001b[1;33m\u001b[0m\u001b[0m\n\u001b[0m",
      "\u001b[1;31mStopIteration\u001b[0m: coro was closed"
     ]
    }
   ],
   "metadata": {}
  },
  {
   "cell_type": "code",
   "execution_count": 60,
   "source": [
    "e = echo()\r\n",
    "next(e)\r\n",
    "e.close()"
   ],
   "outputs": [
    {
     "output_type": "stream",
     "name": "stdout",
     "text": [
      "closed method was called/or GeneratorExit thrown\n"
     ]
    }
   ],
   "metadata": {}
  },
  {
   "cell_type": "code",
   "execution_count": 61,
   "source": [
    "e = echo()\r\n",
    "next(e)\r\n",
    "e.throw(GeneratorExit)"
   ],
   "outputs": [
    {
     "output_type": "stream",
     "name": "stdout",
     "text": [
      "closed method was called/or GeneratorExit thrown\n"
     ]
    },
    {
     "output_type": "error",
     "ename": "StopIteration",
     "evalue": "From a GeneratorExit",
     "traceback": [
      "\u001b[1;31m---------------------------------------------------------------------------\u001b[0m",
      "\u001b[1;31mStopIteration\u001b[0m                             Traceback (most recent call last)",
      "\u001b[1;32m<ipython-input-61-3d4273135ff7>\u001b[0m in \u001b[0;36m<module>\u001b[1;34m\u001b[0m\n\u001b[0;32m      1\u001b[0m \u001b[0me\u001b[0m \u001b[1;33m=\u001b[0m \u001b[0mecho\u001b[0m\u001b[1;33m(\u001b[0m\u001b[1;33m)\u001b[0m\u001b[1;33m\u001b[0m\u001b[1;33m\u001b[0m\u001b[0m\n\u001b[0;32m      2\u001b[0m \u001b[0mnext\u001b[0m\u001b[1;33m(\u001b[0m\u001b[0me\u001b[0m\u001b[1;33m)\u001b[0m\u001b[1;33m\u001b[0m\u001b[1;33m\u001b[0m\u001b[0m\n\u001b[1;32m----> 3\u001b[1;33m \u001b[0me\u001b[0m\u001b[1;33m.\u001b[0m\u001b[0mthrow\u001b[0m\u001b[1;33m(\u001b[0m\u001b[0mGeneratorExit\u001b[0m\u001b[1;33m)\u001b[0m\u001b[1;33m\u001b[0m\u001b[1;33m\u001b[0m\u001b[0m\n\u001b[0m",
      "\u001b[1;31mStopIteration\u001b[0m: From a GeneratorExit"
     ]
    }
   ],
   "metadata": {}
  },
  {
   "cell_type": "code",
   "execution_count": 62,
   "source": [
    "class CloseCoroutine(Exception):\r\n",
    "    pass\r\n",
    "\r\n",
    "def echo():\r\n",
    "    try:\r\n",
    "        while True:\r\n",
    "            received = yield\r\n",
    "            print(received)\r\n",
    "    except CloseCoroutine:\r\n",
    "        return 'coro was closed'\r\n",
    "    except GeneratorExit:\r\n",
    "        print('closed method was called/or GeneratorExit thrown')\r\n",
    "        return 'From a GeneratorExit'\r\n",
    "        \r\n",
    "\r\n",
    "def delegator():\r\n",
    "    result = yield from echo()\r\n",
    "    yield 'subgen closed and returned', result\r\n",
    "    print('delegator closing')\r\n",
    "     \r\n",
    "d = delegator()\r\n",
    "next(d)\r\n",
    "d.send('hello')\r\n",
    "d.throw(CloseCoroutine)"
   ],
   "outputs": [
    {
     "output_type": "stream",
     "name": "stdout",
     "text": [
      "hello\n"
     ]
    },
    {
     "output_type": "execute_result",
     "data": {
      "text/plain": [
       "('subgen closed and returned', 'coro was closed')"
      ]
     },
     "metadata": {},
     "execution_count": 62
    }
   ],
   "metadata": {}
  },
  {
   "cell_type": "code",
   "execution_count": 68,
   "source": [
    "class CloseCoroutine(Exception):\r\n",
    "    pass\r\n",
    "\r\n",
    "class IgnoreMe(Exception):\r\n",
    "    pass\r\n",
    "\r\n",
    "def echo():\r\n",
    "    output = None\r\n",
    "    try:\r\n",
    "        while True:\r\n",
    "            try:\r\n",
    "                received = yield output\r\n",
    "                print(received)\r\n",
    "            except IgnoreMe:\r\n",
    "                output = 'I am ignoring you'\r\n",
    "            else:\r\n",
    "                output = None\r\n",
    "    except CloseCoroutine:\r\n",
    "        return 'coro was closed'\r\n",
    "    except GeneratorExit:\r\n",
    "        print('closed method was called/or GeneratorExit thrown')\r\n",
    "        return 'From a GeneratorExit'\r\n",
    "        \r\n",
    "\r\n",
    "def delegator():\r\n",
    "    result = yield from echo()\r\n",
    "    yield 'subgen closed and returned', result\r\n",
    "    print('delegator closing')\r\n",
    "     \r\n",
    "d = delegator()\r\n",
    "next(d)\r\n",
    "d.send('hello')\r\n",
    "result = d.throw(IgnoreMe, 1000)\r\n",
    "print(result)\r\n",
    "d.send('hello again..')\r\n",
    "d.close()"
   ],
   "outputs": [
    {
     "output_type": "stream",
     "name": "stdout",
     "text": [
      "hello\n",
      "I am ignoring you\n",
      "hello again..\n",
      "closed method was called/or GeneratorExit thrown\n"
     ]
    }
   ],
   "metadata": {}
  },
  {
   "cell_type": "markdown",
   "source": [
    "# Application - Pipelines"
   ],
   "metadata": {}
  },
  {
   "cell_type": "markdown",
   "source": [
    "## Pulling data"
   ],
   "metadata": {}
  },
  {
   "cell_type": "code",
   "execution_count": 72,
   "source": [
    "import csv\r\n",
    "import itertools\r\n",
    "\r\n",
    "def parse_data(f_name):\r\n",
    "    with open(f_name, 'r') as f:\r\n",
    "        dialect = csv.Sniffer().sniff(f.read(2000))\r\n",
    "        f.seek(0)\r\n",
    "        next(f)\r\n",
    "        next(f)\r\n",
    "        yield from csv.reader(f, dialect=dialect)\r\n",
    "        \r\n",
    "        \r\n",
    "parser = parse_data('../../../01-datasets/python-deep-dive/cars.csv')\r\n",
    "for row in itertools.islice(parser, 10):\r\n",
    "    print(row)\r\n"
   ],
   "outputs": [
    {
     "output_type": "stream",
     "name": "stdout",
     "text": [
      "['Chevrolet Chevelle Malibu', '18.0', '8', '307.0', '130.0', '3504.', '12.0', '70', 'US']\n",
      "['Buick Skylark 320', '15.0', '8', '350.0', '165.0', '3693.', '11.5', '70', 'US']\n",
      "['Plymouth Satellite', '18.0', '8', '318.0', '150.0', '3436.', '11.0', '70', 'US']\n",
      "['AMC Rebel SST', '16.0', '8', '304.0', '150.0', '3433.', '12.0', '70', 'US']\n",
      "['Ford Torino', '17.0', '8', '302.0', '140.0', '3449.', '10.5', '70', 'US']\n",
      "['Ford Galaxie 500', '15.0', '8', '429.0', '198.0', '4341.', '10.0', '70', 'US']\n",
      "['Chevrolet Impala', '14.0', '8', '454.0', '220.0', '4354.', '9.0', '70', 'US']\n",
      "['Plymouth Fury iii', '14.0', '8', '440.0', '215.0', '4312.', '8.5', '70', 'US']\n",
      "['Pontiac Catalina', '14.0', '8', '455.0', '225.0', '4425.', '10.0', '70', 'US']\n",
      "['AMC Ambassador DPL', '15.0', '8', '390.0', '190.0', '3850.', '8.5', '70', 'US']\n"
     ]
    }
   ],
   "metadata": {}
  },
  {
   "cell_type": "code",
   "execution_count": 74,
   "source": [
    "def parse_data(f_name):\r\n",
    "    with open(f_name, 'r') as f:\r\n",
    "        dialect = csv.Sniffer().sniff(f.read(2000))\r\n",
    "        f.seek(0)\r\n",
    "        next(f)\r\n",
    "        next(f)\r\n",
    "        yield from csv.reader(f, dialect=dialect)\r\n",
    "\r\n",
    "def filter_data(rows, contains):\r\n",
    "    for row in rows:\r\n",
    "        if contains in row[0]:\r\n",
    "            yield row\r\n",
    "            \r\n",
    "data = parse_data('../../../01-datasets/python-deep-dive/cars.csv')\r\n",
    "filtered_data_1 = filter_data(data, 'Chevrolet')\r\n",
    "filtered_data_2 = filter_data(filtered_data_1, 'Carlo')\r\n",
    "\r\n",
    "for row in itertools.islice(filtered_data_2, 5):\r\n",
    "    print(row)"
   ],
   "outputs": [
    {
     "output_type": "stream",
     "name": "stdout",
     "text": [
      "['Chevrolet Monte Carlo', '15.0', '8', '400.0', '150.0', '3761.', '9.5', '70', 'US']\n",
      "['Chevrolet Monte Carlo S', '15.0', '8', '350.0', '145.0', '4082.', '13.0', '73', 'US']\n",
      "['Chevrolet Monte Carlo Landau', '15.5', '8', '350.0', '170.0', '4165.', '11.4', '77', 'US']\n",
      "['Chevrolet Monte Carlo Landau', '19.2', '8', '305.0', '145.0', '3425.', '13.2', '78', 'US']\n"
     ]
    }
   ],
   "metadata": {}
  },
  {
   "cell_type": "code",
   "execution_count": 80,
   "source": [
    "def parse_data(f_name):\r\n",
    "    with open(f_name, 'r') as f:\r\n",
    "        dialect = csv.Sniffer().sniff(f.read(2000))\r\n",
    "        f.seek(0)\r\n",
    "        next(f)\r\n",
    "        next(f)\r\n",
    "        yield from csv.reader(f, dialect=dialect)\r\n",
    "\r\n",
    "def filter_data(rows, contains):\r\n",
    "    for row in rows:\r\n",
    "        if contains in row[0]:\r\n",
    "            yield row\r\n",
    "            \r\n",
    "def output(f_name, *filter_words):\r\n",
    "    data = parse_data(f_name)\r\n",
    "    for filter_word in filter_words:\r\n",
    "        data = filter_data(data, filter_word)\r\n",
    "    yield from data\r\n",
    "\r\n",
    "f_name_path = '../../../01-datasets/python-deep-dive/cars.csv'          \r\n",
    "results = output(f_name_path, 'Chevrolet', 'Carlo')\r\n",
    "for row in itertools.islice(results, 5):\r\n",
    "    print(row)"
   ],
   "outputs": [
    {
     "output_type": "stream",
     "name": "stdout",
     "text": [
      "['Chevrolet Monte Carlo', '15.0', '8', '400.0', '150.0', '3761.', '9.5', '70', 'US']\n",
      "['Chevrolet Monte Carlo S', '15.0', '8', '350.0', '145.0', '4082.', '13.0', '73', 'US']\n",
      "['Chevrolet Monte Carlo Landau', '15.5', '8', '350.0', '170.0', '4165.', '11.4', '77', 'US']\n",
      "['Chevrolet Monte Carlo Landau', '19.2', '8', '305.0', '145.0', '3425.', '13.2', '78', 'US']\n"
     ]
    }
   ],
   "metadata": {}
  },
  {
   "cell_type": "markdown",
   "source": [
    "## Pushing data"
   ],
   "metadata": {}
  },
  {
   "cell_type": "code",
   "execution_count": 92,
   "source": [
    "import math\r\n",
    "\r\n",
    "def coroutine(coro):\r\n",
    "    def inner(*args, **kwargs):\r\n",
    "        gen = coro(*args, **kwargs)\r\n",
    "        next(gen)\r\n",
    "        return gen\r\n",
    "    return inner\r\n",
    "\r\n",
    "@coroutine\r\n",
    "def handle_data():\r\n",
    "    while True:\r\n",
    "        received = yield\r\n",
    "        print(received)\r\n",
    "        \r\n",
    "@coroutine\r\n",
    "def power_up(n, next_gen):\r\n",
    "    while True:\r\n",
    "        received = yield\r\n",
    "        output = math.pow(received, n)\r\n",
    "        next_gen.send(output)\r\n",
    "        \r\n",
    "@coroutine\r\n",
    "def filter_even(next_gen):\r\n",
    "    while True:\r\n",
    "        received = yield\r\n",
    "        if received % 2 == 0:\r\n",
    "            next_gen.send(received)\r\n",
    "\r\n",
    "\r\n",
    "print_data = handle_data()\r\n",
    "filtered = filter_even(print_data)\r\n",
    "gen2 = power_up(3, filtered)\r\n",
    "gen1 = power_up(2, gen2)\r\n",
    "for i in range(1, 6):\r\n",
    "    gen1.send(i)              "
   ],
   "outputs": [
    {
     "output_type": "stream",
     "name": "stdout",
     "text": [
      "1.0\n",
      "4.0\n",
      "9.0\n",
      "16.0\n",
      "25.0\n"
     ]
    }
   ],
   "metadata": {}
  },
  {
   "cell_type": "markdown",
   "source": [
    "## Broadcasting"
   ],
   "metadata": {}
  },
  {
   "cell_type": "code",
   "execution_count": 97,
   "source": [
    "import csv \r\n",
    "\r\n",
    "def data_reader(f_name):\r\n",
    "    f = open(f_name)\r\n",
    "    try:\r\n",
    "        dialect = csv.Sniffer().sniff(f.read(2000))\r\n",
    "        f.seek(0)\r\n",
    "        reader = csv.reader(f, dialect=dialect)\r\n",
    "        yield from reader\r\n",
    "    finally:\r\n",
    "        f.close()\r\n",
    "\r\n",
    "idx_make = 0\r\n",
    "idx_model = 1\r\n",
    "idx_year = 2\r\n",
    "idx_vin = 3\r\n",
    "idx_color = 4\r\n",
    "\r\n",
    "headers = ('make', 'model', 'year', 'vin', 'color') \r\n",
    "converters = (str, str, int, str, str)\r\n",
    "\r\n",
    "def data_parser():\r\n",
    "    f_name_path = '../../../01-datasets/python-deep-dive/cars.csv'       \r\n",
    "    data = data_reader(f_name_path)\r\n",
    "    next(data)\r\n",
    "    next(data)\r\n",
    "    for row in data:\r\n",
    "        parsed_row = [converter(item) for converter, item in zip(converters, row)]\r\n",
    "        yield parsed_row\r\n",
    " \r\n",
    "data = data_parser()\r\n",
    "for _ in range(5):\r\n",
    "    print(next(data))"
   ],
   "outputs": [
    {
     "output_type": "stream",
     "name": "stdout",
     "text": [
      "['Chevrolet Chevelle Malibu', '18.0', 8, '307.0', '130.0']\n",
      "['Buick Skylark 320', '15.0', 8, '350.0', '165.0']\n",
      "['Plymouth Satellite', '18.0', 8, '318.0', '150.0']\n",
      "['AMC Rebel SST', '16.0', 8, '304.0', '150.0']\n",
      "['Ford Torino', '17.0', 8, '302.0', '140.0']\n"
     ]
    }
   ],
   "metadata": {}
  },
  {
   "cell_type": "code",
   "execution_count": 101,
   "source": [
    "import csv \r\n",
    "\r\n",
    "def data_reader(f_name):\r\n",
    "    f = open(f_name)\r\n",
    "    try:\r\n",
    "        dialect = csv.Sniffer().sniff(f.read(2000))\r\n",
    "        f.seek(0)\r\n",
    "        reader = csv.reader(f, dialect=dialect)\r\n",
    "        yield from reader\r\n",
    "    finally:\r\n",
    "        f.close()\r\n",
    "\r\n",
    "idx_make = 0\r\n",
    "idx_model = 1\r\n",
    "idx_year = 2\r\n",
    "idx_vin = 3\r\n",
    "idx_color = 4\r\n",
    "\r\n",
    "headers = ('make', 'model', 'year', 'vin', 'color') \r\n",
    "converters = (str, str, int, str, str)\r\n",
    "\r\n",
    "def data_parser():\r\n",
    "    f_name_path = '../../../01-datasets/python-deep-dive/cars.csv'       \r\n",
    "    data = data_reader(f_name_path)\r\n",
    "    next(data)\r\n",
    "    next(data)\r\n",
    "    for row in data:\r\n",
    "        parsed_row = [converter(item) for converter, item in zip(converters, row)]\r\n",
    "        yield parsed_row\r\n",
    "\r\n",
    "def coroutine(coro):\r\n",
    "    def inner(*args, **kwargs):\r\n",
    "        gen = coro(*args, **kwargs)\r\n",
    "        next(gen)\r\n",
    "        return gen\r\n",
    "    return inner\r\n",
    "\r\n",
    "@coroutine\r\n",
    "def save_data(f_name, headers):\r\n",
    "    \"\"\"Write data to file\"\"\"\r\n",
    "    with open(f_name, 'w', newline='') as f:\r\n",
    "        writer = csv.writer(f)\r\n",
    "        writer.writerow(headers)\r\n",
    "        while True:\r\n",
    "            data_row = yield\r\n",
    "            writer.writerow(data_row)\r\n",
    "            \r\n",
    "@coroutine\r\n",
    "def filter_data(filter_predicate, target):\r\n",
    "    while True:\r\n",
    "        data_row = yield\r\n",
    "        if filter_predicate(data_row):\r\n",
    "            target.send(data_row)\r\n",
    "            \r\n",
    "@coroutine\r\n",
    "def broadcast(targets):\r\n",
    "    while True:\r\n",
    "        data_row = yield\r\n",
    "        for target in targets:\r\n",
    "            target.send(data_row)\r\n",
    "\r\n",
    "def process_data():\r\n",
    "    out_pink_cars = save_data('../../../01-datasets/python-deep-dive/pink_cars.csv', headers)\r\n",
    "    out_ford_green = save_data('../../../01-datasets/python-deep-dive/ford_green.csv', headers)   \r\n",
    "    out_older = save_data('../../../01-datasets/python-deep-dive/older.csv', headers)\r\n",
    "    \r\n",
    "    filter_pink_cars = filter_data(lambda d: d[idx_color].lower() == 'pink', out_pink_cars)   \r\n",
    "    \r\n",
    "    def pred_ford_green(d):\r\n",
    "        return (d[idx_make].lower() == 'ford' and d[idx_color].lower() == 'green')\r\n",
    "    \r\n",
    "    filter_ford_green = filter_data(pred_ford_green, out_ford_green)\r\n",
    "    filter_old = filter_data(lambda d: d[idx_year] <= 2010, out_older)  \r\n",
    "    filters = (filter_pink_cars, filter_ford_green, filter_old) \r\n",
    "    \r\n",
    "    broadcaster= broadcast(filters)\r\n",
    "    \r\n",
    "    for row in data_parser():\r\n",
    "        broadcaster.send(row)\r\n",
    "        \r\n",
    "    print('Finished processing')\r\n",
    "    \r\n",
    "\r\n",
    "process_data()\r\n",
    "    "
   ],
   "outputs": [
    {
     "output_type": "stream",
     "name": "stdout",
     "text": [
      "Finished processing\n"
     ]
    }
   ],
   "metadata": {}
  },
  {
   "cell_type": "markdown",
   "source": [
    "## Second iteration"
   ],
   "metadata": {}
  },
  {
   "cell_type": "code",
   "execution_count": 103,
   "source": [
    "import csv \r\n",
    "\r\n",
    "def data_reader(f_name):\r\n",
    "    f = open(f_name)\r\n",
    "    try:\r\n",
    "        dialect = csv.Sniffer().sniff(f.read(2000))\r\n",
    "        f.seek(0)\r\n",
    "        reader = csv.reader(f, dialect=dialect)\r\n",
    "        yield from reader\r\n",
    "    finally:\r\n",
    "        f.close()\r\n",
    "\r\n",
    "idx_make = 0\r\n",
    "idx_model = 1\r\n",
    "idx_year = 2\r\n",
    "idx_vin = 3\r\n",
    "idx_color = 4\r\n",
    "\r\n",
    "headers = ('make', 'model', 'year', 'vin', 'color') \r\n",
    "converters = (str, str, int, str, str)\r\n",
    "\r\n",
    "def data_parser():\r\n",
    "    f_name_path = '../../../01-datasets/python-deep-dive/cars.csv'       \r\n",
    "    data = data_reader(f_name_path)\r\n",
    "    next(data)\r\n",
    "    next(data)\r\n",
    "    for row in data:\r\n",
    "        parsed_row = [converter(item) for converter, item in zip(converters, row)]\r\n",
    "        yield parsed_row\r\n",
    "\r\n",
    "def coroutine(coro):\r\n",
    "    def inner(*args, **kwargs):\r\n",
    "        gen = coro(*args, **kwargs)\r\n",
    "        next(gen)\r\n",
    "        return gen\r\n",
    "    return inner\r\n",
    "\r\n",
    "@coroutine\r\n",
    "def save_data(f_name, headers):\r\n",
    "    \"\"\"Write data to file\"\"\"\r\n",
    "    with open(f_name, 'w', newline='') as f:\r\n",
    "        writer = csv.writer(f)\r\n",
    "        writer.writerow(headers)\r\n",
    "        while True:\r\n",
    "            data_row = yield\r\n",
    "            writer.writerow(data_row)\r\n",
    "            \r\n",
    "@coroutine\r\n",
    "def filter_data(filter_predicate, target):\r\n",
    "    while True:\r\n",
    "        data_row = yield\r\n",
    "        if filter_predicate(data_row):\r\n",
    "            target.send(data_row)\r\n",
    "            \r\n",
    "@coroutine\r\n",
    "def broadcast(targets):\r\n",
    "    while True:\r\n",
    "        data_row = yield\r\n",
    "        for target in targets:\r\n",
    "            target.send(data_row)\r\n",
    "\r\n",
    "@coroutine\r\n",
    "def pipeline_coro():\r\n",
    "    out_pink_cars = save_data('../../../01-datasets/python-deep-dive/pink_cars.csv', headers)\r\n",
    "    out_ford_green = save_data('../../../01-datasets/python-deep-dive/ford_green.csv', headers)   \r\n",
    "    out_older = save_data('../../../01-datasets/python-deep-dive/older.csv', headers)\r\n",
    "    \r\n",
    "    filter_pink_cars = filter_data(lambda d: d[idx_color].lower() == 'pink', out_pink_cars)   \r\n",
    "    \r\n",
    "    def pred_ford_green(d):\r\n",
    "        return (d[idx_make].lower() == 'ford' and d[idx_color].lower() == 'green')\r\n",
    "    \r\n",
    "    filter_ford_green = filter_data(pred_ford_green, out_ford_green)\r\n",
    "    filter_old = filter_data(lambda d: d[idx_year] <= 2010, out_older)  \r\n",
    "    filters = (filter_pink_cars, filter_ford_green, filter_old) \r\n",
    "    \r\n",
    "    broadcaster= broadcast(filters)\r\n",
    "    \r\n",
    "    while True:\r\n",
    "        row = yield\r\n",
    "        broadcaster.send(row)\r\n",
    "    \r\n",
    "        \r\n",
    "    print('Finished processing')\r\n",
    "    \r\n",
    "\r\n",
    "pipe = pipeline_coro()\r\n",
    "data = data_parser()\r\n",
    "for row in data:\r\n",
    "    pipe.send(row)\r\n",
    "pipe.close()"
   ],
   "outputs": [],
   "metadata": {}
  },
  {
   "cell_type": "markdown",
   "source": [
    "## Third iteration"
   ],
   "metadata": {}
  },
  {
   "cell_type": "code",
   "execution_count": null,
   "source": [
    "import csv \r\n",
    "from contextlib import contextmanager\r\n",
    "\r\n",
    "def data_reader(f_name):\r\n",
    "    f = open(f_name)\r\n",
    "    try:\r\n",
    "        dialect = csv.Sniffer().sniff(f.read(2000))\r\n",
    "        f.seek(0)\r\n",
    "        reader = csv.reader(f, dialect=dialect)\r\n",
    "        yield from reader\r\n",
    "    finally:\r\n",
    "        f.close()\r\n",
    "\r\n",
    "idx_make = 0\r\n",
    "idx_model = 1\r\n",
    "idx_year = 2\r\n",
    "idx_vin = 3\r\n",
    "idx_color = 4\r\n",
    "\r\n",
    "headers = ('make', 'model', 'year', 'vin', 'color') \r\n",
    "converters = (str, str, int, str, str)\r\n",
    "\r\n",
    "def data_parser():\r\n",
    "    f_name_path = '../../../01-datasets/python-deep-dive/cars.csv'       \r\n",
    "    data = data_reader(f_name_path)\r\n",
    "    next(data)\r\n",
    "    next(data)\r\n",
    "    for row in data:\r\n",
    "        parsed_row = [converter(item) for converter, item in zip(converters, row)]\r\n",
    "        yield parsed_row\r\n",
    "\r\n",
    "def coroutine(coro):\r\n",
    "    def inner(*args, **kwargs):\r\n",
    "        gen = coro(*args, **kwargs)\r\n",
    "        next(gen)\r\n",
    "        return gen\r\n",
    "    return inner\r\n",
    "\r\n",
    "@coroutine\r\n",
    "def save_data(f_name, headers):\r\n",
    "    \"\"\"Write data to file\"\"\"\r\n",
    "    with open(f_name, 'w', newline='') as f:\r\n",
    "        writer = csv.writer(f)\r\n",
    "        writer.writerow(headers)\r\n",
    "        while True:\r\n",
    "            data_row = yield\r\n",
    "            writer.writerow(data_row)\r\n",
    "            \r\n",
    "@coroutine\r\n",
    "def filter_data(filter_predicate, target):\r\n",
    "    while True:\r\n",
    "        data_row = yield\r\n",
    "        if filter_predicate(data_row):\r\n",
    "            target.send(data_row)\r\n",
    "            \r\n",
    "@coroutine\r\n",
    "def broadcast(targets):\r\n",
    "    while True:\r\n",
    "        data_row = yield\r\n",
    "        for target in targets:\r\n",
    "            target.send(data_row)\r\n",
    "\r\n",
    "@coroutine\r\n",
    "def pipeline_coro():\r\n",
    "    out_pink_cars = save_data('../../../01-datasets/python-deep-dive/pink_cars.csv', headers)\r\n",
    "    out_ford_green = save_data('../../../01-datasets/python-deep-dive/ford_green.csv', headers)   \r\n",
    "    out_older = save_data('../../../01-datasets/python-deep-dive/older.csv', headers)\r\n",
    "    \r\n",
    "    filter_pink_cars = filter_data(lambda d: d[idx_color].lower() == 'pink', out_pink_cars)   \r\n",
    "    \r\n",
    "    def pred_ford_green(d):\r\n",
    "        return (d[idx_make].lower() == 'ford' and d[idx_color].lower() == 'green')\r\n",
    "    \r\n",
    "    filter_ford_green = filter_data(pred_ford_green, out_ford_green)\r\n",
    "    filter_old = filter_data(lambda d: d[idx_year] <= 2010, out_older)  \r\n",
    "    filters = (filter_pink_cars, filter_ford_green, filter_old) \r\n",
    "    \r\n",
    "    broadcaster= broadcast(filters)\r\n",
    "    \r\n",
    "    while True:\r\n",
    "        row = yield\r\n",
    "        broadcaster.send(row)\r\n",
    "    \r\n",
    "        \r\n",
    "    print('Finished processing')\r\n",
    "    \r\n",
    "\r\n",
    "@contextmanager\r\n",
    "def pipeline():\r\n",
    "    p = pipeline_coro()\r\n",
    "    try:\r\n",
    "        yield p\r\n",
    "    finally:\r\n",
    "        p.close()\r\n",
    "        \r\n",
    "        \r\n",
    "with pipeline as pipe:\r\n",
    "    data = data_parser()\r\n",
    "    for row in data:\r\n",
    "        pipe.send(row)\r\n"
   ],
   "outputs": [],
   "metadata": {}
  }
 ],
 "metadata": {
  "interpreter": {
   "hash": "05d659cf7217a31b7ba206b7e3fe1d98040361cb242cc44ce7c59206cfd427bc"
  },
  "kernelspec": {
   "name": "python3",
   "display_name": "Python 3.9.5 64-bit ('spenncon': conda)"
  },
  "language_info": {
   "codemirror_mode": {
    "name": "ipython",
    "version": 3
   },
   "file_extension": ".py",
   "mimetype": "text/x-python",
   "name": "python",
   "nbconvert_exporter": "python",
   "pygments_lexer": "ipython3",
   "version": "3.9.5"
  },
  "varInspector": {
   "cols": {
    "lenName": 16,
    "lenType": 16,
    "lenVar": 40
   },
   "kernels_config": {
    "python": {
     "delete_cmd_postfix": "",
     "delete_cmd_prefix": "del ",
     "library": "var_list.py",
     "varRefreshCmd": "print(var_dic_list())"
    },
    "r": {
     "delete_cmd_postfix": ") ",
     "delete_cmd_prefix": "rm(",
     "library": "var_list.r",
     "varRefreshCmd": "cat(var_dic_list()) "
    }
   },
   "types_to_exclude": [
    "module",
    "function",
    "builtin_function_or_method",
    "instance",
    "_Feature"
   ],
   "window_display": false
  }
 },
 "nbformat": 4,
 "nbformat_minor": 2
}