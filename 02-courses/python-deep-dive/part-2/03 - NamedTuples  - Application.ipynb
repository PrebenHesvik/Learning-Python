{
 "cells": [
  {
   "cell_type": "code",
   "execution_count": 3,
   "metadata": {},
   "outputs": [],
   "source": [
    "from random import randint, random\n",
    "from collections import namedtuple"
   ]
  },
  {
   "cell_type": "markdown",
   "metadata": {},
   "source": [
    "### Returning multiple values"
   ]
  },
  {
   "cell_type": "code",
   "execution_count": 6,
   "metadata": {},
   "outputs": [
    {
     "name": "stdout",
     "output_type": "stream",
     "text": [
      "113\n",
      "40\n",
      "243\n",
      "0.46\n"
     ]
    }
   ],
   "source": [
    "Color = namedtuple('Color', 'red green blue alpha')\n",
    "def random_color():\n",
    "    red = randint(0, 255)\n",
    "    blue = randint(0, 255)\n",
    "    green = randint(0, 255)\n",
    "    alpha = round(random(), 2)\n",
    "    return Color(red, green, blue, alpha)\n",
    "\n",
    "color = random_color()\n",
    "\n",
    "print(color.red)\n",
    "print(color.blue)\n",
    "print(color.green)\n",
    "print(color.alpha)"
   ]
  },
  {
   "cell_type": "markdown",
   "metadata": {},
   "source": [
    "### Alternative to dictionaries"
   ]
  },
  {
   "cell_type": "code",
   "execution_count": 10,
   "metadata": {},
   "outputs": [
    {
     "data": {
      "text/plain": [
       "Data(key1=100, key2=200, key3=300)"
      ]
     },
     "execution_count": 10,
     "metadata": {},
     "output_type": "execute_result"
    }
   ],
   "source": [
    "# From dict to namedtuple\n",
    "data_dict = dict(key1=100, key2=200, key3=300)\n",
    "Data = namedtuple('Data', data_dict.keys())\n",
    "d1 = Data(**data_dict)\n",
    "\n",
    "d1"
   ]
  },
  {
   "cell_type": "markdown",
   "metadata": {},
   "source": [
    "### Turn list of dicts into list of namedtuples"
   ]
  },
  {
   "cell_type": "code",
   "execution_count": 28,
   "metadata": {},
   "outputs": [
    {
     "data": {
      "text/plain": [
       "[Struct(key1=1, key2=2, key3=None),\n",
       " Struct(key1=3, key2=4, key3=None),\n",
       " Struct(key1=5, key2=6, key3=7),\n",
       " Struct(key1=None, key2=100, key3=None)]"
      ]
     },
     "execution_count": 28,
     "metadata": {},
     "output_type": "execute_result"
    }
   ],
   "source": [
    "data_list = [\n",
    "    {'key1': 1, 'key2': 2},\n",
    "    {'key1': 3, 'key2': 4},\n",
    "    {'key1': 5, 'key2': 6, 'key3': 7},\n",
    "    {'key2': 100}\n",
    "]\n",
    "\n",
    "def tuplify_dicts(dicts):\n",
    "    keys = {key for dict_ in data_list for key in dict_.keys()}\n",
    "    Struct = namedtuple('Struct', sorted(keys))\n",
    "    Struct.__new__.__defaults__ = (None, ) * len(Struct._fields)\n",
    "    return [Struct(**dict_) for dict_ in dicts]\n",
    "\n",
    "tuplify_dicts(data_list)"
   ]
  },
  {
   "cell_type": "code",
   "execution_count": null,
   "metadata": {},
   "outputs": [],
   "source": []
  }
 ],
 "metadata": {
  "kernelspec": {
   "display_name": "Python (data-analysis)",
   "language": "python",
   "name": "data-analysis"
  },
  "language_info": {
   "codemirror_mode": {
    "name": "ipython",
    "version": 3
   },
   "file_extension": ".py",
   "mimetype": "text/x-python",
   "name": "python",
   "nbconvert_exporter": "python",
   "pygments_lexer": "ipython3",
   "version": "3.8.6"
  }
 },
 "nbformat": 4,
 "nbformat_minor": 4
}
