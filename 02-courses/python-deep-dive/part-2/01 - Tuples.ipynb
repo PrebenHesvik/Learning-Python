{
 "cells": [
  {
   "cell_type": "markdown",
   "metadata": {},
   "source": [
    "### Extended Unpacking"
   ]
  },
  {
   "cell_type": "code",
   "execution_count": 7,
   "metadata": {},
   "outputs": [
    {
     "name": "stdout",
     "output_type": "stream",
     "text": [
      "idx=DJIA, year=2018, month=1, day=19, close=26071.72\n"
     ]
    }
   ],
   "source": [
    "record = ('DJIA', 2018, 1, 19, 25987.7, 26071.72, 25942.83, 26071.72)\n",
    "idx, year, month, day, *_ ,  close = record\n",
    "print(f'idx={idx}, year={year}, month={month}, day={day}, close={close}')"
   ]
  }
 ],
 "metadata": {
  "kernelspec": {
   "display_name": "Python (data-analysis)",
   "language": "python",
   "name": "data-analysis"
  },
  "language_info": {
   "codemirror_mode": {
    "name": "ipython",
    "version": 3
   },
   "file_extension": ".py",
   "mimetype": "text/x-python",
   "name": "python",
   "nbconvert_exporter": "python",
   "pygments_lexer": "ipython3",
   "version": "3.8.6"
  }
 },
 "nbformat": 4,
 "nbformat_minor": 4
}
