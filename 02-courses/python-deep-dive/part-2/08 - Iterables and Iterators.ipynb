{
 "cells": [
  {
   "cell_type": "markdown",
   "source": [
    "### The iterator protocol\r\n",
    "- A protocol is simply a fancy way of saying that our class is going to implement certain functionality that Python can count on.\r\n",
    "- To let Python know our class can be iterated over using **\\__next__** we implement the iterator protocol.\r\n",
    "- The iterator protocol is quite simple - the class needs to implement two methods:\r\n",
    "    * **\\__iter\\__** - this method should just return the object (class instance) itself.\r\n",
    "    * **\\__next\\__** - this method is responsible for handing back the next element from the collection and raising the **StopIteration** exception when all elements have been handed out. \r\n",
    "\r\n",
    "### iterable\r\n",
    "- An iterable is a Python object that implements the iterable protocol.\r\n",
    "- The iterable protocol requires that the object implement a single method - **\\__iter__**\r\n",
    "- **\\__iter__** returns a new instance of the iterator object - used to iterate over the iterable"
   ],
   "metadata": {}
  },
  {
   "cell_type": "code",
   "execution_count": 2,
   "source": [
    "class Squares:\r\n",
    "\r\n",
    "    def __init__(self, length):\r\n",
    "        self.length = length\r\n",
    "        self.i = 0\r\n",
    "    \r\n",
    "    def __next__(self):\r\n",
    "        print('__next__ called')\r\n",
    "        if self.i >= self.length:\r\n",
    "            raise StopIteration\r\n",
    "        else:\r\n",
    "            result = self.i**2\r\n",
    "            self.i +=1\r\n",
    "            return result\r\n",
    "    \r\n",
    "    def __iter__(self):\r\n",
    "        print('__iter__ called')\r\n",
    "        return self"
   ],
   "outputs": [],
   "metadata": {}
  },
  {
   "cell_type": "code",
   "execution_count": 3,
   "source": [
    "sq = Squares(3)\r\n",
    "for item in sq:\r\n",
    "    print(item)"
   ],
   "outputs": [
    {
     "output_type": "stream",
     "name": "stdout",
     "text": [
      "__iter__ called\n",
      "__next__ called\n",
      "0\n",
      "__next__ called\n",
      "1\n",
      "__next__ called\n",
      "4\n",
      "__next__ called\n"
     ]
    }
   ],
   "metadata": {}
  },
  {
   "cell_type": "markdown",
   "source": [
    "**The drawback to iterators is that they get exhausted, which means that they become useless for iterating again.**\n",
    "\n",
    "**Solution --> Separate the collection from the iterator**\n",
    "- The collection is iterable\n",
    "- The iterator is responsible for iterating over the collection\n",
    "<br><br>\n",
    "\n",
    "### iterable\n",
    "- An iterable is a Python object that implements the iterable protocol.\n",
    "- The iterable protocol requires that the object implement a single method - **\\__iter__**\n",
    "- **\\__iter__** returns a new instance of the iterator object - used to iterate over the iterable\n",
    "<br><br>\n",
    "\n",
    "### Iterator\n",
    "- An object that implements **\\__iter__** (returns itself - an iterator) and the **\\__next__** method\n"
   ],
   "metadata": {}
  },
  {
   "cell_type": "code",
   "execution_count": 9,
   "source": [
    "class Cities:\r\n",
    "    def __init__(self):\r\n",
    "        self._cities = ['Paris', 'Berlin', 'Rome', 'Madrid', 'London']\r\n",
    "    \r\n",
    "    def __len__(self):\r\n",
    "        return len(self._cities)\r\n",
    "\r\n",
    "\r\n",
    "class CityIterator:\r\n",
    "    def __init__(self, city_obj):\r\n",
    "        self._city_obj = city_obj\r\n",
    "        self._index = 0\r\n",
    "    \r\n",
    "    def __iter__(self):\r\n",
    "        return self\r\n",
    "    \r\n",
    "    def __next__(self):\r\n",
    "        if self._index >= len(self._city_obj): # Use self._city_obj._cities if len method not impemented in Cities \r\n",
    "            raise StopIteration\r\n",
    "        else:\r\n",
    "            item = self._city_obj._cities[self._index]\r\n",
    "            self._index += 1\r\n",
    "            return item\r\n"
   ],
   "outputs": [],
   "metadata": {}
  },
  {
   "cell_type": "code",
   "execution_count": 8,
   "source": [
    "cities = Cities()\r\n",
    "city_list = [city for city in CityIterator(cities)]\r\n",
    "print(city_list)"
   ],
   "outputs": [
    {
     "output_type": "stream",
     "name": "stdout",
     "text": [
      "['Paris', 'Berlin', 'Rome', 'Madrid', 'London']\n"
     ]
    }
   ],
   "metadata": {}
  },
  {
   "cell_type": "markdown",
   "source": [
    "**This works fine but we would like to be able to iterate over the cities directly**\n",
    "\n",
    "We do this by adding a **\\__iter__** method to the Cities class that returns the CityIterator class. "
   ],
   "metadata": {}
  },
  {
   "cell_type": "code",
   "execution_count": 13,
   "source": [
    "class CityIterator:\r\n",
    "    def __init__(self, city_obj):\r\n",
    "        print('CityIterator new object created')\r\n",
    "        self._city_obj = city_obj\r\n",
    "        self._index = 0\r\n",
    "    \r\n",
    "    def __iter__(self):\r\n",
    "        print('CityIterator __iter__ called')\r\n",
    "        return self\r\n",
    "    \r\n",
    "    def __next__(self):\r\n",
    "        print('CityIterator __next__ called')\r\n",
    "        if self._index >= len(self._city_obj):\r\n",
    "            raise StopIteration\r\n",
    "        else:\r\n",
    "            item = self._city_obj._cities[self._index]\r\n",
    "            self._index += 1\r\n",
    "            return item\r\n",
    "\r\n",
    "\r\n",
    "class Cities:\r\n",
    "    def __init__(self):\r\n",
    "        self._cities = ['Paris', 'Berlin', 'Rome', 'Madrid', 'London']\r\n",
    "    \r\n",
    "    def __len__(self):\r\n",
    "        return len(self._cities)\r\n",
    "    \r\n",
    "    # implementing the iterable protocol\r\n",
    "    def __iter__(self):\r\n",
    "        print('Cities __iter__ called')\r\n",
    "        return CityIterator(self)"
   ],
   "outputs": [],
   "metadata": {}
  },
  {
   "cell_type": "code",
   "execution_count": 14,
   "source": [
    "cities = Cities()\r\n",
    "for city in cities:\r\n",
    "    print(city)"
   ],
   "outputs": [
    {
     "output_type": "stream",
     "name": "stdout",
     "text": [
      "Cities __iter__ called\n",
      "CityIterator new object created\n",
      "CityIterator __next__ called\n",
      "Paris\n",
      "CityIterator __next__ called\n",
      "Berlin\n",
      "CityIterator __next__ called\n",
      "Rome\n",
      "CityIterator __next__ called\n",
      "Madrid\n",
      "CityIterator __next__ called\n",
      "London\n",
      "CityIterator __next__ called\n"
     ]
    }
   ],
   "metadata": {}
  },
  {
   "cell_type": "code",
   "execution_count": 11,
   "source": [
    "cities = Cities()\r\n",
    "city_list = [city for city in cities]\r\n",
    "print(city_list)"
   ],
   "outputs": [
    {
     "output_type": "stream",
     "name": "stdout",
     "text": [
      "Cities __iter__ called\n",
      "CityIterator __next__ called\n",
      "CityIterator __next__ called\n",
      "CityIterator __next__ called\n",
      "CityIterator __next__ called\n",
      "CityIterator __next__ called\n",
      "CityIterator __next__ called\n",
      "['Paris', 'Berlin', 'Rome', 'Madrid', 'London']\n"
     ]
    }
   ],
   "metadata": {}
  },
  {
   "cell_type": "markdown",
   "source": [
    "**We can also put CityIterator inside the Cities class**"
   ],
   "metadata": {}
  },
  {
   "cell_type": "code",
   "execution_count": 15,
   "source": [
    "class Cities:\r\n",
    "    def __init__(self):\r\n",
    "        self._cities = ['Paris', 'Berlin', 'Rome', 'Madrid', 'London']\r\n",
    "    \r\n",
    "    def __len__(self):\r\n",
    "        return len(self._cities)\r\n",
    "    \r\n",
    "    def __iter__(self):\r\n",
    "        print('Cities __iter__ called')\r\n",
    "        return self.CityIterator(self)\r\n",
    "    \r\n",
    "    class CityIterator:\r\n",
    "        def __init__(self, city_obj):\r\n",
    "            print('CityIterator new object created')\r\n",
    "            self._city_obj = city_obj\r\n",
    "            self._index = 0\r\n",
    "        \r\n",
    "        def __iter__(self):\r\n",
    "            print('CityIterator __iter__ called')\r\n",
    "            return self\r\n",
    "        \r\n",
    "        def __next__(self):\r\n",
    "            print('CityIterator __next__ called')\r\n",
    "            if self._index >= len(self._city_obj):\r\n",
    "                raise StopIteration\r\n",
    "            else:\r\n",
    "                item = self._city_obj._cities[self._index]\r\n",
    "                self._index += 1\r\n",
    "                return item"
   ],
   "outputs": [],
   "metadata": {}
  },
  {
   "cell_type": "code",
   "execution_count": 16,
   "source": [
    "cities = Cities()\r\n",
    "for city in cities:\r\n",
    "    print(city)"
   ],
   "outputs": [
    {
     "output_type": "stream",
     "name": "stdout",
     "text": [
      "Cities __iter__ called\n",
      "CityIterator new object created\n",
      "CityIterator __next__ called\n",
      "Paris\n",
      "CityIterator __next__ called\n",
      "Berlin\n",
      "CityIterator __next__ called\n",
      "Rome\n",
      "CityIterator __next__ called\n",
      "Madrid\n",
      "CityIterator __next__ called\n",
      "London\n",
      "CityIterator __next__ called\n"
     ]
    }
   ],
   "metadata": {}
  },
  {
   "cell_type": "markdown",
   "source": [
    "**Implementing the sequence protocol**"
   ],
   "metadata": {}
  },
  {
   "cell_type": "code",
   "execution_count": null,
   "source": [
    "class Cities:\r\n",
    "    def __init__(self):\r\n",
    "        self._cities = ['Paris', 'Berlin', 'Rome', 'Madrid', 'London']\r\n",
    "    \r\n",
    "    def __len__(self):\r\n",
    "        return len(self._cities)\r\n",
    "    \r\n",
    "    # implementing the iterable protocol\r\n",
    "    def __iter__(self):\r\n",
    "        print('Cities __iter__ called')\r\n",
    "        return self.CityIterator(self)\r\n",
    "    \r\n",
    "    # implementing the sequence protocol\r\n",
    "    def __getitem__(self, s):\r\n",
    "        print('Cities __getitem__ called')\r\n",
    "        return self._cities[s]\r\n",
    "\r\n",
    "    \r\n",
    "    class CityIterator:\r\n",
    "        def __init__(self, city_obj):\r\n",
    "            print('CityIterator new object created')\r\n",
    "            self._city_obj = city_obj\r\n",
    "            self._index = 0\r\n",
    "        \r\n",
    "        def __iter__(self):\r\n",
    "            print('CityIterator __iter__ called')\r\n",
    "            return self\r\n",
    "        \r\n",
    "        def __next__(self):\r\n",
    "            print('CityIterator __next__ called')\r\n",
    "            if self._index >= len(self._city_obj):\r\n",
    "                raise StopIteration\r\n",
    "            else:\r\n",
    "                item = self._city_obj._cities[self._index]\r\n",
    "                self._index += 1\r\n",
    "                return item"
   ],
   "outputs": [],
   "metadata": {}
  },
  {
   "cell_type": "markdown",
   "source": [
    "Now we have two methods of looping over the items. We can use both the **Iterator protocol** and the **Sequence protocol**. Python first looks to see if we have the iterator protocol implemented, and if we do, it uses that. But if we dont have it implemented, it uses the sequence protocol. "
   ],
   "metadata": {}
  },
  {
   "cell_type": "code",
   "execution_count": 19,
   "source": [
    "# Python preferres the __iter__ method over the __getitem__ method but will use __getitem__ if __iter__ not available\r\n",
    "cities = Cities()\r\n",
    "for city in cities:\r\n",
    "    print(city)"
   ],
   "outputs": [
    {
     "output_type": "stream",
     "name": "stdout",
     "text": [
      "Cities __iter__ called\n",
      "CityIterator new object created\n",
      "CityIterator __next__ called\n",
      "Paris\n",
      "CityIterator __next__ called\n",
      "Berlin\n",
      "CityIterator __next__ called\n",
      "Rome\n",
      "CityIterator __next__ called\n",
      "Madrid\n",
      "CityIterator __next__ called\n",
      "London\n",
      "CityIterator __next__ called\n"
     ]
    }
   ],
   "metadata": {}
  },
  {
   "cell_type": "markdown",
   "source": [
    "## Consuming iterators manually"
   ],
   "metadata": {}
  },
  {
   "cell_type": "code",
   "execution_count": 6,
   "source": [
    "import pandas as pd\r\n",
    "cars = pd.read_csv('../../../../01-datasets/python-deep-dive/cars.csv', sep=';')\r\n",
    "cars.head()"
   ],
   "outputs": [
    {
     "output_type": "execute_result",
     "data": {
      "text/plain": [
       "                         Car     MPG Cylinders Displacement Horsepower  \\\n",
       "0                     STRING  DOUBLE       INT       DOUBLE     DOUBLE   \n",
       "1  Chevrolet Chevelle Malibu    18.0         8        307.0      130.0   \n",
       "2          Buick Skylark 320    15.0         8        350.0      165.0   \n",
       "3         Plymouth Satellite    18.0         8        318.0      150.0   \n",
       "4              AMC Rebel SST    16.0         8        304.0      150.0   \n",
       "\n",
       "   Weight Acceleration Model Origin  \n",
       "0  DOUBLE       DOUBLE   INT    CAT  \n",
       "1   3504.         12.0    70     US  \n",
       "2   3693.         11.5    70     US  \n",
       "3   3436.         11.0    70     US  \n",
       "4   3433.         12.0    70     US  "
      ],
      "text/html": [
       "<div>\n",
       "<style scoped>\n",
       "    .dataframe tbody tr th:only-of-type {\n",
       "        vertical-align: middle;\n",
       "    }\n",
       "\n",
       "    .dataframe tbody tr th {\n",
       "        vertical-align: top;\n",
       "    }\n",
       "\n",
       "    .dataframe thead th {\n",
       "        text-align: right;\n",
       "    }\n",
       "</style>\n",
       "<table border=\"1\" class=\"dataframe\">\n",
       "  <thead>\n",
       "    <tr style=\"text-align: right;\">\n",
       "      <th></th>\n",
       "      <th>Car</th>\n",
       "      <th>MPG</th>\n",
       "      <th>Cylinders</th>\n",
       "      <th>Displacement</th>\n",
       "      <th>Horsepower</th>\n",
       "      <th>Weight</th>\n",
       "      <th>Acceleration</th>\n",
       "      <th>Model</th>\n",
       "      <th>Origin</th>\n",
       "    </tr>\n",
       "  </thead>\n",
       "  <tbody>\n",
       "    <tr>\n",
       "      <th>0</th>\n",
       "      <td>STRING</td>\n",
       "      <td>DOUBLE</td>\n",
       "      <td>INT</td>\n",
       "      <td>DOUBLE</td>\n",
       "      <td>DOUBLE</td>\n",
       "      <td>DOUBLE</td>\n",
       "      <td>DOUBLE</td>\n",
       "      <td>INT</td>\n",
       "      <td>CAT</td>\n",
       "    </tr>\n",
       "    <tr>\n",
       "      <th>1</th>\n",
       "      <td>Chevrolet Chevelle Malibu</td>\n",
       "      <td>18.0</td>\n",
       "      <td>8</td>\n",
       "      <td>307.0</td>\n",
       "      <td>130.0</td>\n",
       "      <td>3504.</td>\n",
       "      <td>12.0</td>\n",
       "      <td>70</td>\n",
       "      <td>US</td>\n",
       "    </tr>\n",
       "    <tr>\n",
       "      <th>2</th>\n",
       "      <td>Buick Skylark 320</td>\n",
       "      <td>15.0</td>\n",
       "      <td>8</td>\n",
       "      <td>350.0</td>\n",
       "      <td>165.0</td>\n",
       "      <td>3693.</td>\n",
       "      <td>11.5</td>\n",
       "      <td>70</td>\n",
       "      <td>US</td>\n",
       "    </tr>\n",
       "    <tr>\n",
       "      <th>3</th>\n",
       "      <td>Plymouth Satellite</td>\n",
       "      <td>18.0</td>\n",
       "      <td>8</td>\n",
       "      <td>318.0</td>\n",
       "      <td>150.0</td>\n",
       "      <td>3436.</td>\n",
       "      <td>11.0</td>\n",
       "      <td>70</td>\n",
       "      <td>US</td>\n",
       "    </tr>\n",
       "    <tr>\n",
       "      <th>4</th>\n",
       "      <td>AMC Rebel SST</td>\n",
       "      <td>16.0</td>\n",
       "      <td>8</td>\n",
       "      <td>304.0</td>\n",
       "      <td>150.0</td>\n",
       "      <td>3433.</td>\n",
       "      <td>12.0</td>\n",
       "      <td>70</td>\n",
       "      <td>US</td>\n",
       "    </tr>\n",
       "  </tbody>\n",
       "</table>\n",
       "</div>"
      ]
     },
     "metadata": {},
     "execution_count": 6
    }
   ],
   "metadata": {}
  },
  {
   "cell_type": "code",
   "execution_count": 26,
   "source": [
    "from collections import namedtuple\r\n",
    "\r\n",
    "# Goal: Store each line in the text file as a namedtuple as the correct data type\r\n",
    "\r\n",
    "def cast(data_type, value):\r\n",
    "    if data_type == 'DOUBLE':\r\n",
    "        return float(value)\r\n",
    "    elif data_type == 'INT':\r\n",
    "        return int(value)\r\n",
    "    else:\r\n",
    "        return str(value)\r\n",
    "\r\n",
    "\r\n",
    "def cast_row(data_types, data_row):\r\n",
    "    return [cast(data_type, value)\r\n",
    "            for data_type, value\r\n",
    "            in zip(data_types, data_row)]\r\n",
    "\r\n",
    "\r\n",
    "cars = []\r\n",
    "file = '../../../datasets/cars.csv'\r\n",
    "with open(file) as f:\r\n",
    "    # create an iterator\r\n",
    "    file_iter = iter(f)\r\n",
    "    # we iterate through the file manually by using the next function\r\n",
    "    headers = next(file_iter).strip('\\n').split(';')  \r\n",
    "    data_types = next(file_iter).strip('\\n').split(';')\r\n",
    "    Car = namedtuple('Car', headers)\r\n",
    "    \r\n",
    "    for line in file_iter:\r\n",
    "        # remove the line endings and the separators\r\n",
    "        data = line.strip('\\n').split(';')\r\n",
    "        data = cast_row(data_types, data)\r\n",
    "        car = Car(*data)\r\n",
    "        cars.append(car)\r\n",
    "\r\n",
    "\r\n",
    "# The above can be written as a comprehension\r\n",
    "with open(file) as f:\r\n",
    "    file_iter = iter(f)\r\n",
    "    # we iterate through the file manually by using the next function\r\n",
    "    headers = next(file_iter).strip('\\n').split(';')  \r\n",
    "    data_types = next(file_iter).strip('\\n').split(';')\r\n",
    "    Car = namedtuple('Car', headers)\r\n",
    "\r\n",
    "    # cast_row returns the value as the correct data type (int, float, str)\r\n",
    "    cars_data = [cast_row(data_types, line.strip('\\n').split(';')) for line in file_iter]\r\n",
    "    # populates the namedtuple with the correct value in the correct format\r\n",
    "    cars = [Car(*car) for car in cars_data]"
   ],
   "outputs": [],
   "metadata": {}
  },
  {
   "cell_type": "code",
   "execution_count": 27,
   "source": [
    "cars[:3]"
   ],
   "outputs": [
    {
     "output_type": "execute_result",
     "data": {
      "text/plain": [
       "[Car(Car='Chevrolet Chevelle Malibu', MPG=18.0, Cylinders=8, Displacement=307.0, Horsepower=130.0, Weight=3504.0, Acceleration=12.0, Model=70, Origin='US'),\n",
       " Car(Car='Buick Skylark 320', MPG=15.0, Cylinders=8, Displacement=350.0, Horsepower=165.0, Weight=3693.0, Acceleration=11.5, Model=70, Origin='US'),\n",
       " Car(Car='Plymouth Satellite', MPG=18.0, Cylinders=8, Displacement=318.0, Horsepower=150.0, Weight=3436.0, Acceleration=11.0, Model=70, Origin='US')]"
      ]
     },
     "metadata": {},
     "execution_count": 27
    }
   ],
   "metadata": {}
  },
  {
   "cell_type": "markdown",
   "source": [
    "## Cyclic iterators"
   ],
   "metadata": {}
  },
  {
   "cell_type": "code",
   "execution_count": 34,
   "source": [
    "# Infinite cyclic iterator for sequence types only\r\n",
    "class CyclicIterator:\r\n",
    "    def __init__(self, lst):\r\n",
    "        self.lst = lst\r\n",
    "        self.i = 0\r\n",
    "    \r\n",
    "    def __iter__(self):\r\n",
    "        return self\r\n",
    "    \r\n",
    "    def __next__(self):\r\n",
    "        result = self.lst[self.i % len(self.lst)] # 0%4=0, 1%4=1, 2%4=2, 3%4=3, 4%4=0, 5%4=1 and so on\r\n",
    "        self.i += 1\r\n",
    "        return result\r\n",
    "    \r\n",
    "     # alternative, but less elegant\r\n",
    "    def __next__(self):\r\n",
    "        result = self.lst[self.i]\r\n",
    "        self.i = 0 if self.i == 3 else (self.i + 1)\r\n",
    "        return result"
   ],
   "outputs": [],
   "metadata": {}
  },
  {
   "cell_type": "code",
   "execution_count": 36,
   "source": [
    "numbers = range(1, 11)\r\n",
    "iter_cycle = CyclicIterator('NSWE')\r\n",
    "zipped = zip(list(numbers), iter_cycle)\r\n",
    "[(str(number) + direction) for number, direction in zipped]"
   ],
   "outputs": [
    {
     "output_type": "execute_result",
     "data": {
      "text/plain": [
       "['1N', '2S', '3W', '4E', '5N', '6S', '7W', '8E', '9N', '10S']"
      ]
     },
     "metadata": {},
     "execution_count": 36
    }
   ],
   "metadata": {}
  },
  {
   "cell_type": "code",
   "execution_count": 37,
   "source": [
    "# Alternatively\r\n",
    "n = 10\r\n",
    "iter_cycl = CyclicIterator('NSWE')\r\n",
    "[f'{i}{next(iter_cycl)}' for i in range(1, n+1)]\r\n",
    "\r\n",
    "# we can do the same using itertools\r\n",
    "import itertools\r\n",
    "n = 10\r\n",
    "iter_cycle = itertools.cycle('NSWE')\r\n",
    "[f'{i}{next(iter_cycle)}' for i in range(1, n+1)]"
   ],
   "outputs": [
    {
     "output_type": "execute_result",
     "data": {
      "text/plain": [
       "['1N', '2S', '3W', '4E', '5N', '6S', '7W', '8E', '9N', '10S']"
      ]
     },
     "metadata": {},
     "execution_count": 37
    }
   ],
   "metadata": {}
  },
  {
   "cell_type": "code",
   "execution_count": null,
   "source": [
    "# A cyclic iterator for any iterable, not just a sequence type\r\n",
    "class CyclicIterator:\r\n",
    "    def __init__(self, iterable):\r\n",
    "        self.iterable = iterable\r\n",
    "        self.iterator = iter(self.iterable)\r\n",
    "    \r\n",
    "    def __iter__(self):\r\n",
    "        return self\r\n",
    "    \r\n",
    "    def __next__(self):\r\n",
    "        try:\r\n",
    "            item =  next(self.iterator)\r\n",
    "        except StopIteration:\r\n",
    "            self.iterator = iter(self.iterable)\r\n",
    "            item = next(self.iterator)\r\n",
    "        return item"
   ],
   "outputs": [],
   "metadata": {}
  },
  {
   "cell_type": "markdown",
   "source": [
    "## Lazy iterators"
   ],
   "metadata": {}
  },
  {
   "cell_type": "code",
   "execution_count": 3,
   "source": [
    "import math\r\n",
    "\r\n",
    "class Circle:\r\n",
    "    def __init__(self, r):\r\n",
    "        self.radius = r\r\n",
    "        self._area = None\r\n",
    "    \r\n",
    "    @property\r\n",
    "    def radius(self):\r\n",
    "        return self._radius\r\n",
    "    \r\n",
    "    @radius.setter\r\n",
    "    def radius(self, r):\r\n",
    "        self._radius = r\r\n",
    "        # set the area to None to force area to be\r\n",
    "        # calculated next time the area is requested\r\n",
    "        self._area = None\r\n",
    "    \r\n",
    "    @property\r\n",
    "    def area(self): \r\n",
    "        # if area is None it has either never been requested,\r\n",
    "        # or the radius has changed since we last requested it\r\n",
    "        if self._area is None:\r\n",
    "            self._area = math.pi * (self.radius ** 2)\r\n",
    "        return self._area"
   ],
   "outputs": [],
   "metadata": {}
  },
  {
   "cell_type": "code",
   "execution_count": 41,
   "source": [
    "import math\r\n",
    "# infinite iterator of factorials\r\n",
    "class Factorials:\r\n",
    "    \r\n",
    "    def __iter__(self):\r\n",
    "        return self.FactIter()\r\n",
    "    \r\n",
    "    class FactIter:\r\n",
    "        def __init__(self):\r\n",
    "            self.i = 0\r\n",
    "        \r\n",
    "        def __iter__(self):\r\n",
    "            return self\r\n",
    "        \r\n",
    "        def __next__(self):\r\n",
    "            result = math.factorial(self.i)\r\n",
    "            self.i += 1\r\n",
    "            return result"
   ],
   "outputs": [],
   "metadata": {}
  },
  {
   "cell_type": "code",
   "execution_count": 44,
   "source": [
    "facts = Factorials()\r\n",
    "fact_iter = iter(facts)\r\n",
    "print(next(fact_iter))\r\n",
    "print(next(fact_iter))\r\n",
    "print(next(fact_iter))\r\n",
    "print(next(fact_iter))"
   ],
   "outputs": [
    {
     "output_type": "stream",
     "name": "stdout",
     "text": [
      "1\n",
      "1\n",
      "2\n",
      "6\n"
     ]
    }
   ],
   "metadata": {}
  },
  {
   "cell_type": "markdown",
   "source": [
    "## Built-in iterables and iterators\n",
    "- range() --> iterable\n",
    "- zip() --> iterator\n",
    "- enumerate() --> iterator\n",
    "- open() --> iterator\n",
    "- dictionary keys() --> iterable\n",
    "- dictionary values() --> iterable\n",
    "- dictionary items() --> iterable\n",
    "<br><br>\n",
    "\n",
    "- We can check if an object is an iterable or an iterator by checking if it has **\\_\\_iter__** or **\\_\\_next__** methods. \n",
    "- If it only has **\\_\\_iter__** then it is an iterable, and if it has both it is an iterator.\n",
    "- We can consume an iterable more than once, while we can only consume an iterator once. \n",
    "\n",
    "Another test we can do to check if an object is an iterator is to ask python if **iter(object) is object**. If the statement evaluates to True, then we have an iterator."
   ],
   "metadata": {}
  },
  {
   "cell_type": "markdown",
   "source": [
    "## Sorting iterables"
   ],
   "metadata": {}
  },
  {
   "cell_type": "code",
   "execution_count": 20,
   "source": [
    "import random\r\n",
    "\r\n",
    "class RandomInts:\r\n",
    "    def __init__(self, length, *, seed=0, lower=0, upper=10):\r\n",
    "        self.length = length\r\n",
    "        self.seed = seed\r\n",
    "        self.lower = lower\r\n",
    "        self.upper = upper\r\n",
    "    \r\n",
    "    def __len__(self):\r\n",
    "        return self.length\r\n",
    "    \r\n",
    "    def __iter__(self):\r\n",
    "        return self.RandomIterator(self.length,\r\n",
    "                                   seed=self.seed,\r\n",
    "                                   lower=self.lower, \r\n",
    "                                   upper=self.upper)\r\n",
    "    \r\n",
    "    class RandomIterator:\r\n",
    "        def __init__(self, length, *, seed, lower, upper):\r\n",
    "            self.length = length\r\n",
    "            self.lower = lower\r\n",
    "            self.upper = upper\r\n",
    "            self.i = 0\r\n",
    "            random.seed(seed)\r\n",
    "        \r\n",
    "        def __iter__(self):\r\n",
    "            return self\r\n",
    "        \r\n",
    "        def __next__(self):\r\n",
    "            if self.i >= self.length:\r\n",
    "                raise StopIteration\r\n",
    "            else:\r\n",
    "                result = random.randint(self.lower, self.upper)\r\n",
    "                self.i += 1\r\n",
    "                return result\r\n",
    "\r\n",
    "randoms = RandomInts(10)\r\n",
    "print('Random list: ', list(randoms))\r\n",
    "print('Sorted random list: ', sorted(randoms))"
   ],
   "outputs": [
    {
     "output_type": "stream",
     "name": "stdout",
     "text": [
      "Random list:  [6, 6, 0, 4, 8, 7, 6, 4, 7, 5]\n",
      "Sorted random list:  [0, 4, 4, 5, 6, 6, 6, 7, 7, 8]\n"
     ]
    }
   ],
   "metadata": {}
  },
  {
   "cell_type": "markdown",
   "source": [
    "## Iter-function\n",
    "- **\\_\\_getitem__** supports **Sequences**\n",
    "- **\\_\\_iter__** supports **iterables**\n",
    "- **\\_\\_next__** supports **iterators**\n",
    "\n",
    "<br>\n",
    "\n",
    "When the iter-function is called, Python first looks for an **\\_\\_iter__** method. If it finds one, it uses it. If it does not find one, it looks for a **\\__getitem__** method. If it finds one it creates an iterator object and returns that. If it does not find one it raises a **TypeError** exception.\n"
   ],
   "metadata": {}
  },
  {
   "cell_type": "code",
   "execution_count": 50,
   "source": [
    "# A very simple example of the functionality of the iter function\r\n",
    "class SequenceIterator:\r\n",
    "    def __init__(self, sequence):\r\n",
    "        self._sequence = sequence\r\n",
    "        self._i = 0\r\n",
    "    \r\n",
    "    def __iter__(self):\r\n",
    "        return self\r\n",
    "    \r\n",
    "    def __next__(self):\r\n",
    "        if self._i >= len(self._sequence):\r\n",
    "            raise StopIteration\r\n",
    "        else:\r\n",
    "            result = self._sequence[self._i]\r\n",
    "            self._i += 1\r\n",
    "            return result\r\n",
    "        \r\n",
    "my_list = [1, 2, 3, 4]\r\n",
    "seq_iterator = SequenceIterator(my_list)\r\n",
    "for i in seq_iterator:\r\n",
    "    print(i)"
   ],
   "outputs": [
    {
     "output_type": "stream",
     "name": "stdout",
     "text": [
      "1\n",
      "2\n",
      "3\n",
      "4\n"
     ]
    }
   ],
   "metadata": {}
  },
  {
   "cell_type": "markdown",
   "source": [
    "## Iterating callables"
   ],
   "metadata": {}
  },
  {
   "cell_type": "code",
   "execution_count": 53,
   "source": [
    "def counter():\r\n",
    "    i = 0\r\n",
    "    \r\n",
    "    def inc():\r\n",
    "        nonlocal i\r\n",
    "        i += 1\r\n",
    "        return i\r\n",
    "    return inc\r\n",
    "\r\n",
    "\r\n",
    "class CallableIterator:\r\n",
    "    def __init__(self, callable_, sentinel):\r\n",
    "        self.callable_ = callable_\r\n",
    "        self.sentinel = sentinel\r\n",
    "        self.is_consumed = False\r\n",
    "    \r\n",
    "    def __iter__(self):\r\n",
    "        return self\r\n",
    "    \r\n",
    "    def __next__(self):\r\n",
    "        if self.is_consumed:\r\n",
    "            raise StopIteration\r\n",
    "        else:\r\n",
    "            result = self.callable_()\r\n",
    "            if result == self.sentinel:\r\n",
    "                self.is_consumed = True\r\n",
    "                raise StopIteration\r\n",
    "            else:\r\n",
    "                return result\r\n",
    "            \r\n",
    "cnt = counter()\r\n",
    "cnt_iter = CallableIterator(cnt, 5)\r\n",
    "for c in cnt_iter:\r\n",
    "    print(c)"
   ],
   "outputs": [
    {
     "output_type": "stream",
     "name": "stdout",
     "text": [
      "1\n",
      "2\n",
      "3\n",
      "4\n"
     ]
    }
   ],
   "metadata": {}
  },
  {
   "cell_type": "code",
   "execution_count": 58,
   "source": [
    "# we can use the builtin iter function to do the same thing\r\n",
    "cnt = counter()\r\n",
    "cnt_iter = iter(cnt, 3)\r\n",
    "print(next(cnt_iter))\r\n",
    "print(next(cnt_iter))"
   ],
   "outputs": [
    {
     "output_type": "stream",
     "name": "stdout",
     "text": [
      "1\n",
      "2\n"
     ]
    }
   ],
   "metadata": {}
  },
  {
   "cell_type": "code",
   "execution_count": 62,
   "source": [
    "# an example with a lambda func that returns random values\r\n",
    "import random\r\n",
    "min_val, max_val, sentinel = 0, 10, 8\r\n",
    "\r\n",
    "random_iter = iter(lambda: random.randint(min_val, max_val), sentinel)\r\n",
    "random.seed(0)\r\n",
    "for num in random_iter:\r\n",
    "    print(num)"
   ],
   "outputs": [
    {
     "output_type": "stream",
     "name": "stdout",
     "text": [
      "6\n",
      "6\n",
      "0\n",
      "4\n"
     ]
    }
   ],
   "metadata": {}
  },
  {
   "cell_type": "markdown",
   "source": [
    "## Reverse iteration"
   ],
   "metadata": {}
  },
  {
   "cell_type": "code",
   "execution_count": 65,
   "source": [
    "from collections import namedtuple\r\n",
    "\r\n",
    "_SUITS = ('Spades', 'Hearts', 'Diamonds', 'Clubs')\r\n",
    "_RANKS = tuple(range(2, 11)) + tuple('JQKA')\r\n",
    "\r\n",
    "Card = namedtuple('Card', 'rank suit')\r\n",
    "\r\n",
    "class CardDeck:\r\n",
    "    \r\n",
    "    def __init__(self):\r\n",
    "        self.length = len(_SUITS) * len(_RANKS)\r\n",
    "    \r\n",
    "    def __len__(self):\r\n",
    "        return self.length\r\n",
    "    \r\n",
    "    def __iter__(self):\r\n",
    "        return self.CardDeckIterator(self.length)\r\n",
    "    \r\n",
    "    def __reversed__(self):\r\n",
    "        # setting up this function enables us to call reversed()\r\n",
    "        # on the instance. But it would not work unless we make it\r\n",
    "        # possible inside the iterator.\r\n",
    "        return self.CardDeckIterator(self.length, reverse=True)\r\n",
    "    \r\n",
    "    class CardDeckIterator:\r\n",
    "        \r\n",
    "        def __init__(self, length, reverse=False):\r\n",
    "            self.length = length\r\n",
    "            self.i = 0\r\n",
    "            self.reverse = reverse\r\n",
    "        \r\n",
    "        def __iter__(self):\r\n",
    "            return self\r\n",
    "        \r\n",
    "        def __next__(self):\r\n",
    "            if self.i >= self.length:\r\n",
    "                raise StopIteration\r\n",
    "            else:\r\n",
    "                if self.reverse:\r\n",
    "                    index = self.length - 1 - self.i\r\n",
    "                else:\r\n",
    "                    index = self.i                \r\n",
    "                suit = _SUITS[index // len(_RANKS)]\r\n",
    "                rank = _RANKS[index % len(_RANKS)]\r\n",
    "                self.i += 1\r\n",
    "                return Card(rank, suit)\r\n",
    "\r\n",
    "            \r\n",
    "deck = reversed(CardDeck())\r\n",
    "cards = [card for card in deck]\r\n",
    "cards[:5]"
   ],
   "outputs": [
    {
     "output_type": "execute_result",
     "data": {
      "text/plain": [
       "[Card(rank='A', suit='Clubs'),\n",
       " Card(rank='K', suit='Clubs'),\n",
       " Card(rank='Q', suit='Clubs'),\n",
       " Card(rank='J', suit='Clubs'),\n",
       " Card(rank=10, suit='Clubs')]"
      ]
     },
     "metadata": {},
     "execution_count": 65
    }
   ],
   "metadata": {}
  },
  {
   "cell_type": "markdown",
   "source": [
    "## An example with a sequence\n",
    "The reverse-function works on sequence types by default as long as we have the **\\__len__** method implemented"
   ],
   "metadata": {}
  },
  {
   "cell_type": "code",
   "execution_count": 66,
   "source": [
    "class Squares:\r\n",
    "    def __init__(self, length):\r\n",
    "        self.squares = [i **2 for i in range(length)]\r\n",
    "    \r\n",
    "    # __len__ enables us to use the reversed function\r\n",
    "    def __len__(self):\r\n",
    "        return len(self.squares)\r\n",
    "    \r\n",
    "    def __getitem__(self, s):\r\n",
    "        return self.squares[s]\r\n",
    "    \r\n",
    "for num in reversed(Squares(5)):\r\n",
    "    print(num)"
   ],
   "outputs": [
    {
     "output_type": "stream",
     "name": "stdout",
     "text": [
      "16\n",
      "9\n",
      "4\n",
      "1\n",
      "0\n"
     ]
    }
   ],
   "metadata": {}
  },
  {
   "cell_type": "code",
   "execution_count": null,
   "source": [],
   "outputs": [],
   "metadata": {}
  }
 ],
 "metadata": {
  "file_extension": ".py",
  "kernelspec": {
   "name": "python3",
   "display_name": "Python 3.9.5 64-bit ('spenncon': conda)"
  },
  "language_info": {
   "codemirror_mode": {
    "name": "ipython",
    "version": 3
   },
   "file_extension": ".py",
   "mimetype": "text/x-python",
   "name": "python",
   "nbconvert_exporter": "python",
   "pygments_lexer": "ipython3",
   "version": "3.9.5"
  },
  "mimetype": "text/x-python",
  "name": "python",
  "npconvert_exporter": "python",
  "pygments_lexer": "ipython3",
  "version": 3,
  "interpreter": {
   "hash": "05d659cf7217a31b7ba206b7e3fe1d98040361cb242cc44ce7c59206cfd427bc"
  }
 },
 "nbformat": 4,
 "nbformat_minor": 2
}