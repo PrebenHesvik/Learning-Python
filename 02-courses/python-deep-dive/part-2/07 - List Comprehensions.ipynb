{
 "cells": [
  {
   "cell_type": "markdown",
   "metadata": {},
   "source": [
    "## List comprehensions\n",
    " - Generate a list by **transforming**, and optionally **filtering**, another iterable\n",
    " - Comprehensions have their own local scope\n",
    " - everything inside the [] is the body of a function"
   ]
  },
  {
   "cell_type": "code",
   "execution_count": 1,
   "metadata": {},
   "outputs": [
    {
     "name": "stdout",
     "output_type": "stream",
     "text": [
      "[1, 49, 121, 169, 289, 361, 529, 841, 961, 1369, 1681, 1849, 2209, 2401, 2809, 3481, 3721, 4489, 5041, 5329, 5929, 6241, 6889, 7921, 8281, 9409]\n"
     ]
    }
   ],
   "source": [
    "# create a list of squares of all the integers between 1 and 100 that are not divisible by 2, 3, 5\n",
    "\n",
    "# the following works because the filter returns truth values of each i%2 and i%3 and i%5\n",
    "# if a value is divisible by 2, 3 or 5 the Mod will be 0, and 0 is falsy\n",
    "sq = [i**2 for i in range(1, 101) if i%2 and i%3 and i%5]\n",
    "print(sq)"
   ]
  },
  {
   "cell_type": "markdown",
   "metadata": {},
   "source": [
    "### Nested list comprehensions"
   ]
  },
  {
   "cell_type": "code",
   "execution_count": 16,
   "metadata": {},
   "outputs": [
    {
     "data": {
      "text/plain": [
       "[[1, 2, 3, 4, 5, 6, 7, 8, 9, 10],\n",
       " [2, 4, 6, 8, 10, 12, 14, 16, 18, 20],\n",
       " [3, 6, 9, 12, 15, 18, 21, 24, 27, 30],\n",
       " [4, 8, 12, 16, 20, 24, 28, 32, 36, 40],\n",
       " [5, 10, 15, 20, 25, 30, 35, 40, 45, 50],\n",
       " [6, 12, 18, 24, 30, 36, 42, 48, 54, 60],\n",
       " [7, 14, 21, 28, 35, 42, 49, 56, 63, 70],\n",
       " [8, 16, 24, 32, 40, 48, 56, 64, 72, 80],\n",
       " [9, 18, 27, 36, 45, 54, 63, 72, 81, 90],\n",
       " [10, 20, 30, 40, 50, 60, 70, 80, 90, 100]]"
      ]
     },
     "execution_count": 16,
     "metadata": {},
     "output_type": "execute_result"
    }
   ],
   "source": [
    "# Create a multiplication table by using a loop\n",
    "table = []\n",
    "for i in range(1, 11):\n",
    "    row = []\n",
    "    for j in range(1, 11):\n",
    "        row.append(i*j)\n",
    "    table.append(row)\n",
    "\n",
    "# Create a similar table by using a list comprehension\n",
    "table = [[i * j for j in range(1, 11)] for i in range(1, 11)]\n",
    "table"
   ]
  },
  {
   "cell_type": "markdown",
   "metadata": {},
   "source": [
    "### Nested loops"
   ]
  },
  {
   "cell_type": "code",
   "execution_count": 18,
   "metadata": {},
   "outputs": [
    {
     "data": {
      "text/plain": [
       "['ax', 'ay', 'az', 'bx', 'by', 'bz', 'cx', 'cy', 'cz']"
      ]
     },
     "execution_count": 18,
     "metadata": {},
     "output_type": "execute_result"
    }
   ],
   "source": [
    "l1 = ['a', 'b', 'c']\n",
    "l2 = ['x', 'y', 'z']\n",
    "# produce ['ax', 'ay', 'az', 'bx', 'by', 'bz', 'cx', 'cy', 'cz]\n",
    "\n",
    "# Using a loop\n",
    "result = []\n",
    "for s1 in l1:\n",
    "    for s2 in l2:\n",
    "        result.append(s1 + s2)\n",
    "\n",
    "# Using a list comprehension\n",
    "result = [s1 + s2 for s1 in l1 for s2 in l2]\n",
    "result"
   ]
  },
  {
   "cell_type": "code",
   "execution_count": 22,
   "metadata": {},
   "outputs": [
    {
     "name": "stdout",
     "output_type": "stream",
     "text": [
      "[(1, 'a'), (2, 'b'), (3, 'c'), (4, 'd')]\n"
     ]
    }
   ],
   "source": [
    "l1 = [1, 2, 3, 4, 5, 6, 7, 8, 9, 10]\n",
    "l2 = ['a', 'b', 'c', 'd']\n",
    "\n",
    "# zip these two lists - without using the zip-function\n",
    "\n",
    "# using a loop\n",
    "result = []\n",
    "for index_1, item_1 in enumerate(l1):\n",
    "    for index_2, item_2 in enumerate(l2):\n",
    "        if index_1 == index_2:\n",
    "            result.append((item_1, item_2))\n",
    "\n",
    "# using a list comprehension\n",
    "result = [(item_1, item_2)\n",
    "          for index_1, item_1 in enumerate(l1)\n",
    "          for index_2, item_2 in enumerate(l2)\n",
    "          if index_1 == index_2]\n",
    "\n",
    "print(result)"
   ]
  },
  {
   "cell_type": "code",
   "execution_count": null,
   "metadata": {},
   "outputs": [],
   "source": []
  }
 ],
 "metadata": {
  "file_extension": ".py",
  "kernelspec": {
   "display_name": "Python (data-analysis)",
   "language": "python",
   "name": "data-analysis"
  },
  "language_info": {
   "codemirror_mode": {
    "name": "ipython",
    "version": 3
   },
   "file_extension": ".py",
   "mimetype": "text/x-python",
   "name": "python",
   "nbconvert_exporter": "python",
   "pygments_lexer": "ipython3",
   "version": "3.8.6"
  },
  "mimetype": "text/x-python",
  "name": "python",
  "npconvert_exporter": "python",
  "pygments_lexer": "ipython3",
  "version": 3
 },
 "nbformat": 4,
 "nbformat_minor": 2
}
