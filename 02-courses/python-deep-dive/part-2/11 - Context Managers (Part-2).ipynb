{
 "cells": [
  {
   "cell_type": "markdown",
   "metadata": {},
   "source": [
    "### Example 1: Change precision"
   ]
  },
  {
   "cell_type": "code",
   "execution_count": 4,
   "metadata": {},
   "outputs": [
    {
     "name": "stdout",
     "output_type": "stream",
     "text": [
      "0.333\n",
      "0.3333333333333333333333333333\n"
     ]
    }
   ],
   "source": [
    "import decimal\n",
    "\n",
    "class precision:\n",
    "    def __init__(self, prec):\n",
    "        self.prec = prec\n",
    "        self.current_prec = decimal.getcontext().prec\n",
    "        \n",
    "    def __enter__(self):\n",
    "        decimal.getcontext().prec = self.prec\n",
    "        \n",
    "    def __exit__(self, exc_type, exc_value, exc_tb):\n",
    "        decimal.getcontext().prec = self.current_prec\n",
    "        return False\n",
    "    \n",
    "\n",
    "with precision(3):\n",
    "    print(decimal.Decimal(1) / decimal.Decimal(3))\n",
    "\n",
    "# returns to original precision when we exit the context manager\n",
    "print(decimal.Decimal(1) / decimal.Decimal(3))\n"
   ]
  },
  {
   "cell_type": "code",
   "execution_count": 5,
   "metadata": {},
   "outputs": [
    {
     "name": "stdout",
     "output_type": "stream",
     "text": [
      "0.333\n",
      "0.3333333333333333333333333333\n"
     ]
    }
   ],
   "source": [
    "# The above is a pretty common use case so the decimal class \n",
    "# has a context manager for doing this sort of stuff\n",
    "with decimal.localcontext() as ctx:\n",
    "    ctx.prec = 3\n",
    "    print(decimal.Decimal(1) / decimal.Decimal(3))\n",
    "\n",
    "# returns to original precision when we exit the context manager\n",
    "print(decimal.Decimal(1) / decimal.Decimal(3))\n",
    "    "
   ]
  },
  {
   "cell_type": "markdown",
   "metadata": {},
   "source": [
    "### Example 2: timer"
   ]
  },
  {
   "cell_type": "code",
   "execution_count": 9,
   "metadata": {},
   "outputs": [
    {
     "name": "stdout",
     "output_type": "stream",
     "text": [
      "1.000007000000096\n"
     ]
    }
   ],
   "source": [
    "from time import perf_counter, sleep\n",
    "\n",
    "class Timer:\n",
    "    def __init__(self):\n",
    "        self.elapsed = 0\n",
    "        \n",
    "    def __enter__(self):\n",
    "        self.start = perf_counter()\n",
    "        return self\n",
    "    \n",
    "    def __exit__(self, exc_type, exc_value, exc_tb):\n",
    "        self.stop = perf_counter()\n",
    "        self.elapsed = self.stop - self.start\n",
    "        return False\n",
    "\n",
    "with Timer() as timer:\n",
    "    sleep(1)\n",
    "    \n",
    "print(timer.elapsed)"
   ]
  },
  {
   "cell_type": "markdown",
   "metadata": {},
   "source": [
    "### Example 3: print to file"
   ]
  },
  {
   "cell_type": "code",
   "execution_count": 10,
   "metadata": {},
   "outputs": [
    {
     "name": "stdout",
     "output_type": "stream",
     "text": [
      "Line 1\n",
      "Line 2\n"
     ]
    }
   ],
   "source": [
    "import sys\n",
    "\n",
    "class OutToFile:\n",
    "    def __init__(self, fname):\n",
    "        self._fname = fname\n",
    "        self._current_stdout = sys.stdout\n",
    "        \n",
    "    def __enter__(self):\n",
    "        self._file = open(self._fname, 'w')\n",
    "        sys.stdout = self._file\n",
    "        \n",
    "    def __exit__(self, exc_type, exc_value, exc_tb):\n",
    "        sys.stdout = self._current_stdout\n",
    "        self._file.close()\n",
    "        return False\n",
    "    \n",
    "\n",
    "with OutToFile('test.txt'):\n",
    "    print('Line 1')\n",
    "    print('Line 2')\n",
    "    \n",
    "# will now prints to jupyer notebook\n",
    "print('Line 1')\n",
    "print('Line 2')"
   ]
  },
  {
   "cell_type": "code",
   "execution_count": null,
   "metadata": {},
   "outputs": [],
   "source": []
  }
 ],
 "metadata": {
  "kernelspec": {
   "display_name": "Python (data-analysis)",
   "language": "python",
   "name": "data-analysis"
  },
  "language_info": {
   "codemirror_mode": {
    "name": "ipython",
    "version": 3
   },
   "file_extension": ".py",
   "mimetype": "text/x-python",
   "name": "python",
   "nbconvert_exporter": "python",
   "pygments_lexer": "ipython3",
   "version": "3.8.6"
  }
 },
 "nbformat": 4,
 "nbformat_minor": 4
}
