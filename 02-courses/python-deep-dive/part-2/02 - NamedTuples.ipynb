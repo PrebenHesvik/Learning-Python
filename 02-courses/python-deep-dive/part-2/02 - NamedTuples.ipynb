{
 "cells": [
  {
   "cell_type": "code",
   "execution_count": 2,
   "metadata": {},
   "outputs": [],
   "source": [
    "from collections import namedtuple"
   ]
  },
  {
   "cell_type": "markdown",
   "metadata": {},
   "source": [
    "- Namedtuple is a function which generates a new class - it is a class factory.\n",
    "- The class generated is a subclass of tuple, and add a layer to assign property names ot the positional elements.\n",
    "- Property names can be any valid variable name, except that they cannot start with an underscore."
   ]
  },
  {
   "cell_type": "code",
   "execution_count": 78,
   "metadata": {},
   "outputs": [
    {
     "data": {
      "text/plain": [
       "(Stock(ticker='TSLA', year=2018, month=1, day=19, open=25987.7, high=26071.72, low=25942.83, close=26071.72),\n",
       " Stock(ticker='TSLA', year=2018, month=1, day=19, open=25987.7, high=26071.72, low=25942.83, close=26071.72),\n",
       " Stock(ticker='TSLA', year=2018, month=1, day=19, open=25987.7, high=26071.72, low=25942.83, close=26071.72))"
      ]
     },
     "execution_count": 78,
     "metadata": {},
     "output_type": "execute_result"
    }
   ],
   "source": [
    "# Two different ways of writing out the property names\n",
    "stock = namedtuple('Stock', 'ticker year month day open high low close')\n",
    "stock = namedtuple('Stock', 'ticker, year, month, day, open, high, low, close')\n",
    "stock = namedtuple('Stock', ['ticker', 'year', 'month', 'day', 'open', 'high', 'low', 'close'])\n",
    "stock = namedtuple('Stock', ('ticker', 'year', 'month', 'day', 'open', 'high', 'low', 'close'))\n",
    "\n",
    "# different data structures\n",
    "stock_record_tup = ('TSLA', 2018, 1, 19, 25987.7, 26071.72, 25942.83, 26071.72)\n",
    "\n",
    "stock_record_list = ['TSLA', 2018, 1, 19, 25987.7, 26071.72, 25942.83, 26071.72]\n",
    "\n",
    "stock_record_dict = {\n",
    "    'ticker': 'TSLA', \n",
    "    'year': 2018, \n",
    "    'month': 1, \n",
    "    'day': 19, \n",
    "    'open': 25987.7, \n",
    "    'high': 26071.72, \n",
    "    'low': 25942.83, \n",
    "    'close': 26071.72\n",
    "}\n",
    "\n",
    "# instantiating the namedtuple\n",
    "r1 = stock(*stock_record_tup)\n",
    "r2 = stock(*stock_record_list)\n",
    "r3 = stock(**stock_record_dict)\n",
    "\n",
    "r1, r2, r3"
   ]
  },
  {
   "cell_type": "code",
   "execution_count": 37,
   "metadata": {},
   "outputs": [
    {
     "data": {
      "text/plain": [
       "84.02000000000044"
      ]
     },
     "execution_count": 37,
     "metadata": {},
     "output_type": "execute_result"
    }
   ],
   "source": [
    "r1.close - r1.open"
   ]
  },
  {
   "cell_type": "markdown",
   "metadata": {},
   "source": [
    "### Introspections"
   ]
  },
  {
   "cell_type": "code",
   "execution_count": 38,
   "metadata": {},
   "outputs": [
    {
     "data": {
      "text/plain": [
       "('ticker', 'year', 'month', 'day', 'open', 'high', 'low', 'close')"
      ]
     },
     "execution_count": 38,
     "metadata": {},
     "output_type": "execute_result"
    }
   ],
   "source": [
    "r1._fields"
   ]
  },
  {
   "cell_type": "code",
   "execution_count": 39,
   "metadata": {},
   "outputs": [
    {
     "data": {
      "text/plain": [
       "{'ticker': 'TSLA',\n",
       " 'year': 2018,\n",
       " 'month': 1,\n",
       " 'day': 19,\n",
       " 'open': 25987.7,\n",
       " 'high': 26071.72,\n",
       " 'low': 25942.83,\n",
       " 'close': 26071.72}"
      ]
     },
     "execution_count": 39,
     "metadata": {},
     "output_type": "execute_result"
    }
   ],
   "source": [
    "r1._asdict()"
   ]
  },
  {
   "cell_type": "markdown",
   "metadata": {},
   "source": [
    "### Changing or extending a namedtuple"
   ]
  },
  {
   "cell_type": "code",
   "execution_count": 40,
   "metadata": {},
   "outputs": [
    {
     "data": {
      "text/plain": [
       "(Stock(ticker='TSLA', year=2018, month=1, day=19, open=25987.7, high=26071.72, low=25942.83, close=26394),\n",
       " Stock(ticker='TSLA', year=2018, month=1, day=19, open=25987.7, high=26071.72, low=25942.83, close=26394))"
      ]
     },
     "execution_count": 40,
     "metadata": {},
     "output_type": "execute_result"
    }
   ],
   "source": [
    "# METHOD 1\n",
    "# slice or unpack the namedtuple\n",
    "c1 = r1[:-1]\n",
    "*c2, _ = r1\n",
    "\n",
    "# create new instance of stock\n",
    "r4 = stock(*c1, 26_394)\n",
    "r5 = stock(*c2, 26_394)\n",
    "\n",
    "r4, r5"
   ]
  },
  {
   "cell_type": "code",
   "execution_count": 42,
   "metadata": {},
   "outputs": [
    {
     "data": {
      "text/plain": [
       "(Stock(ticker='TSLA', year=2018, month=1, day=19, open=25987.7, high=26071.72, low=25942.83, close=26394),\n",
       " Stock(ticker='TSLA', year=2018, month=1, day=19, open=25987.7, high=26071.72, low=25942.83, close=26394))"
      ]
     },
     "execution_count": 42,
     "metadata": {},
     "output_type": "execute_result"
    }
   ],
   "source": [
    "# METHOD 2\n",
    "# slice or unpack the namedtuple\n",
    "c1 = r1[:-1]\n",
    "*c2, _ = r1\n",
    "\n",
    "r5 = stock._make([*c1, *[26_394,]])\n",
    "r6 = stock._make([*c2, *[26_394,]])\n",
    "\n",
    "r5, r6"
   ]
  },
  {
   "cell_type": "code",
   "execution_count": 60,
   "metadata": {},
   "outputs": [
    {
     "data": {
      "text/plain": [
       "Stock(ticker='MSFT', year=2018, month=1, day=20, open=25987.7, high=26071.72, low=25942.83, close=26071.72)"
      ]
     },
     "execution_count": 60,
     "metadata": {},
     "output_type": "execute_result"
    }
   ],
   "source": [
    "# Method 3: Change two values\n",
    "modified_1 = r1._asdict()\n",
    "modified_1.update(day= 20, ticker='MSFT')\n",
    "r7 = stock(**modified_1)\n",
    "r7"
   ]
  },
  {
   "cell_type": "code",
   "execution_count": null,
   "metadata": {},
   "outputs": [],
   "source": [
    "# Method 4: use _replace\n",
    "r1 = r1._replace(ticker='MSFT', day=30)\n",
    "r1"
   ]
  },
  {
   "cell_type": "code",
   "execution_count": 79,
   "metadata": {},
   "outputs": [
    {
     "data": {
      "text/plain": [
       "StockExt(ticker='TSLA', year=2018, month=1, day=19, open=25987.7, high=26071.72, low=25942.83, close=26071.72, previous_close=2600.05)"
      ]
     },
     "execution_count": 79,
     "metadata": {},
     "output_type": "execute_result"
    }
   ],
   "source": [
    "# Extending a namedtuple\n",
    "StockExtended = namedtuple('StockExt', list(stock._fields) + ['previous_close', ])\n",
    "StockExtended = namedtuple('StockExt', ' '.join([*stock._fields, *['previous_close']]))\n",
    "\n",
    "StockExtended(*stock_record_list, 2600.05)"
   ]
  },
  {
   "cell_type": "markdown",
   "metadata": {},
   "source": [
    "### Default docs for namedtuples"
   ]
  },
  {
   "cell_type": "code",
   "execution_count": 80,
   "metadata": {},
   "outputs": [
    {
     "name": "stdout",
     "output_type": "stream",
     "text": [
      "Help on class Stock in module __main__:\n",
      "\n",
      "class Stock(builtins.tuple)\n",
      " |  Stock(ticker, year, month, day, open, high, low, close)\n",
      " |  \n",
      " |  Represents data for a stock at a given date\n",
      " |  \n",
      " |  Method resolution order:\n",
      " |      Stock\n",
      " |      builtins.tuple\n",
      " |      builtins.object\n",
      " |  \n",
      " |  Methods defined here:\n",
      " |  \n",
      " |  __getnewargs__(self)\n",
      " |      Return self as a plain tuple.  Used by copy and pickle.\n",
      " |  \n",
      " |  __repr__(self)\n",
      " |      Return a nicely formatted representation string\n",
      " |  \n",
      " |  _asdict(self)\n",
      " |      Return a new dict which maps field names to their values.\n",
      " |  \n",
      " |  _replace(self, /, **kwds)\n",
      " |      Return a new Stock object replacing specified fields with new values\n",
      " |  \n",
      " |  ----------------------------------------------------------------------\n",
      " |  Class methods defined here:\n",
      " |  \n",
      " |  _make(iterable) from builtins.type\n",
      " |      Make a new Stock object from a sequence or iterable\n",
      " |  \n",
      " |  ----------------------------------------------------------------------\n",
      " |  Static methods defined here:\n",
      " |  \n",
      " |  __new__(_cls, ticker, year, month, day, open, high, low, close)\n",
      " |      Create new instance of Stock(ticker, year, month, day, open, high, low, close)\n",
      " |  \n",
      " |  ----------------------------------------------------------------------\n",
      " |  Data descriptors defined here:\n",
      " |  \n",
      " |  ticker\n",
      " |      Stock symbol\n",
      " |  \n",
      " |  year\n",
      " |      Alias for field number 1\n",
      " |  \n",
      " |  month\n",
      " |      Alias for field number 2\n",
      " |  \n",
      " |  day\n",
      " |      Alias for field number 3\n",
      " |  \n",
      " |  open\n",
      " |      Represents the opening stock price\n",
      " |  \n",
      " |  high\n",
      " |      Alias for field number 5\n",
      " |  \n",
      " |  low\n",
      " |      Alias for field number 6\n",
      " |  \n",
      " |  close\n",
      " |      Alias for field number 7\n",
      " |  \n",
      " |  ----------------------------------------------------------------------\n",
      " |  Data and other attributes defined here:\n",
      " |  \n",
      " |  _field_defaults = {}\n",
      " |  \n",
      " |  _fields = ('ticker', 'year', 'month', 'day', 'open', 'high', 'low', 'c...\n",
      " |  \n",
      " |  _fields_defaults = {}\n",
      " |  \n",
      " |  ----------------------------------------------------------------------\n",
      " |  Methods inherited from builtins.tuple:\n",
      " |  \n",
      " |  __add__(self, value, /)\n",
      " |      Return self+value.\n",
      " |  \n",
      " |  __contains__(self, key, /)\n",
      " |      Return key in self.\n",
      " |  \n",
      " |  __eq__(self, value, /)\n",
      " |      Return self==value.\n",
      " |  \n",
      " |  __ge__(self, value, /)\n",
      " |      Return self>=value.\n",
      " |  \n",
      " |  __getattribute__(self, name, /)\n",
      " |      Return getattr(self, name).\n",
      " |  \n",
      " |  __getitem__(self, key, /)\n",
      " |      Return self[key].\n",
      " |  \n",
      " |  __gt__(self, value, /)\n",
      " |      Return self>value.\n",
      " |  \n",
      " |  __hash__(self, /)\n",
      " |      Return hash(self).\n",
      " |  \n",
      " |  __iter__(self, /)\n",
      " |      Implement iter(self).\n",
      " |  \n",
      " |  __le__(self, value, /)\n",
      " |      Return self<=value.\n",
      " |  \n",
      " |  __len__(self, /)\n",
      " |      Return len(self).\n",
      " |  \n",
      " |  __lt__(self, value, /)\n",
      " |      Return self<value.\n",
      " |  \n",
      " |  __mul__(self, value, /)\n",
      " |      Return self*value.\n",
      " |  \n",
      " |  __ne__(self, value, /)\n",
      " |      Return self!=value.\n",
      " |  \n",
      " |  __rmul__(self, value, /)\n",
      " |      Return value*self.\n",
      " |  \n",
      " |  count(self, value, /)\n",
      " |      Return number of occurrences of value.\n",
      " |  \n",
      " |  index(self, value, start=0, stop=9223372036854775807, /)\n",
      " |      Return first index of value.\n",
      " |      \n",
      " |      Raises ValueError if the value is not present.\n",
      "\n"
     ]
    }
   ],
   "source": [
    "stock.__doc__ = 'Represents data for a stock at a given date'\n",
    "stock.open.__doc__ = 'Represents the opening stock price'\n",
    "stock.ticker.__doc__ = 'Stock symbol'\n",
    "\n",
    "help(stock)"
   ]
  },
  {
   "cell_type": "markdown",
   "metadata": {},
   "source": [
    "### Default values"
   ]
  },
  {
   "cell_type": "code",
   "execution_count": 81,
   "metadata": {},
   "outputs": [
    {
     "data": {
      "text/plain": [
       "Vector2D(x1=10, y1=10, x2=20, y2=20, origin_x=0, origin_y=0)"
      ]
     },
     "execution_count": 81,
     "metadata": {},
     "output_type": "execute_result"
    }
   ],
   "source": [
    "# Method 1 - prototyping\n",
    "Vector2D = namedtuple('Vector2D', 'x1 y1 x2 y2 origin_x origin_y')\n",
    "prototype = Vector2D(x1=0, y1=0, x2=0, y2=0, origin_x=0, origin_y=0)\n",
    "v1 = prototype._replace(x1=10, y1=10, x2=20, y2=20)\n",
    "v1"
   ]
  },
  {
   "cell_type": "code",
   "execution_count": 85,
   "metadata": {},
   "outputs": [
    {
     "data": {
      "text/plain": [
       "Vector2D(x1=10, y1=10, x2=20, y2=20, origin_x=0, origin_y=0)"
      ]
     },
     "execution_count": 85,
     "metadata": {},
     "output_type": "execute_result"
    }
   ],
   "source": [
    "# Method 2 - __defaults__\n",
    "Vector2D = namedtuple('Vector2D', 'x1 y1 x2 y2 origin_x origin_y')\n",
    "# right-aligned - origin_x and origin_y are both set to 0\n",
    "Vector2D.__new__.__defaults__e = (0, 0) \n",
    "v2 = prototype._replace(x1=10, y1=10, x2=20, y2=20)\n",
    "v2"
   ]
  },
  {
   "cell_type": "code",
   "execution_count": null,
   "metadata": {},
   "outputs": [],
   "source": []
  }
 ],
 "metadata": {
  "kernelspec": {
   "display_name": "Python (data-analysis)",
   "language": "python",
   "name": "data-analysis"
  },
  "language_info": {
   "codemirror_mode": {
    "name": "ipython",
    "version": 3
   },
   "file_extension": ".py",
   "mimetype": "text/x-python",
   "name": "python",
   "nbconvert_exporter": "python",
   "pygments_lexer": "ipython3",
   "version": "3.8.6"
  }
 },
 "nbformat": 4,
 "nbformat_minor": 4
}
