{
 "cells": [
  {
   "cell_type": "markdown",
   "metadata": {},
   "source": [
    "## Aggregators\n",
    "- Functions that iterate through an interable and return a single value that (usually) takes into account every element of the iterable.\n",
    "- Examples: **`min(iterable)`**, **`max(iterable)`**\n",
    "<br><br>\n",
    "\n",
    "### Associated truth values:\n",
    "- Every object in Python as an associated truth value - bool(obj) --> True/False\n",
    "- Every object is  <span style='color:yellow; font-weight:bold '> truthy</span>, except:\n",
    "    * None\n",
    "    * False\n",
    "    * 0 (in any numeric type)\n",
    "    * empty sequences (list, tuple, string, ...)\n",
    "    * empty mapping types (dictionary, set, ...)\n",
    "    * custom classes that implement a ** \\__bol__ or ** ** \\__len__ ** methat that returns **False** or **0**\n",
    "    * Python first looks for the   <span style='color:yellow; font-weight:bold; margin: 0, 5px'> \\_\\_bool\\_\\_</span> method, but if it does not exist, then Python uses the <span style='color:yellow; font-weight:bold; margin: 0, 5px'> \\_\\_len\\_\\_</span> function to determine the <span style='color:yellow; font-weight:bold; margin: 0, 5px'> truth value </span>\n",
    "\n",
    "<br>\n",
    "\n",
    "### Predicate\n",
    " - A function that takes a single argument and returns **True** or **False** is called a  <span style='color:yellow; font-weight:bold'>predicate</span>\n",
    "\n",
    "<br>\n",
    "\n",
    "### Any\n",
    "- any(iterable) --> returns   <span style='color:yellow; font-weight:bold; margin: 0, 5px'> True </span> if <span style='color:yellow; font-weight:bold; margin: 0, 5px'> any (or more) </span> element in iterable is  <span style='color:yellow; font-weight:bold; margin: 0, 5px'> truthy </span>\n",
    "\n",
    "### All\n",
    "- all(iterable) --> returns **`True`** if all elements in iterable are truthy\n",
    "\n",
    "### Map\n",
    "- map(fn, iterable) --> applies fn to every element of the iterable\n",
    "- alternatively we can use a comprehension (fn(item) for item in iterable)\n",
    "\n",
    "### Filter\n",
    "- filter(predicate, iterable) --> returns all elements of the iterable where predicate(element) is **`True`**\n",
    "- predicate can be **`None`** - in which case we filter based on the **`thruthiness`** of each element.\n",
    "- returns a lazy iterator\n"
   ]
  },
  {
   "cell_type": "code",
   "execution_count": 10,
   "metadata": {},
   "outputs": [
    {
     "name": "stdout",
     "output_type": "stream",
     "text": [
      "[True, True, True, False]\n",
      "True\n",
      "False\n"
     ]
    }
   ],
   "source": [
    "from numbers import Number\n",
    "seq = [50, 65, 80.5, '90']\n",
    "\n",
    "# Predicate\n",
    "is_number = lambda item: isinstance(item, Number)\n",
    "\n",
    "# Test whether each item in the sequence is a number\n",
    "print(list(map(is_number, seq)))\n",
    "\n",
    "# Test whether any of the items in the sequence is a number\n",
    "print(any(map(is_number, seq)))\n",
    "\n",
    "# Test whether all of the items in the sequence is a number\n",
    "print(all(map(is_number, seq)))"
   ]
  },
  {
   "cell_type": "markdown",
   "metadata": {},
   "source": [
    "### Doing the same thing with the  <span style='color:yellow; font-weight:bold; margin: 0, 5px'>reduce</span> function"
   ]
  },
  {
   "cell_type": "code",
   "execution_count": 8,
   "metadata": {},
   "outputs": [
    {
     "name": "stdout",
     "output_type": "stream",
     "text": [
      "is any:  True\n",
      "is all:  False\n"
     ]
    }
   ],
   "source": [
    "from functools import reduce\n",
    "\n",
    "seq = [50, 65, 80.5, '90']\n",
    "\n",
    "# Replicate the any function\n",
    "predicate = lambda i, j: isinstance(i, Number) or isinstance(j, Number)\n",
    "is_any = reduce(predicate, seq)\n",
    "\n",
    "# Replicate the all funciton\n",
    "predicate = lambda i, j: isinstance(i, Number) and isinstance(j, Number)\n",
    "is_all = reduce(predicate, seq)\n",
    "\n",
    "print('is any: ', is_any)\n",
    "print('is all: ', is_all)"
   ]
  },
  {
   "cell_type": "code",
   "execution_count": 15,
   "metadata": {},
   "outputs": [
    {
     "name": "stdout",
     "output_type": "stream",
     "text": [
      "All car brands are at least three characters?  True\n",
      "All car brands are at least three characters?  True\n"
     ]
    }
   ],
   "source": [
    "# Check whether all car brands are at least 3 characters\n",
    "with open('../../../datasets/python-deep-dive/car-brands-1.txt') as f: # f is an iterator\n",
    "    predicate = lambda line: len(line.strip()) >= 3\n",
    "    result = all(map(predicate, f))\n",
    "\n",
    "print('All car brands are at least three characters? ', result)\n",
    "\n",
    "# Alternatively we could write\n",
    "with open('../../../datasets/python-deep-dive/car-brands-1.txt') as f: # f is an iterator\n",
    "    result = all(len(row) >=4 for row in f) \n",
    "\n",
    "print('All car brands are at least three characters? ', result)"
   ]
  },
  {
   "cell_type": "markdown",
   "metadata": {},
   "source": [
    "### Slicing generators using  <span style='color:yellow; font-weight:bold; margin: 0, 5px'> islice </span>\n",
    "- We can not slice a generator the same way we slice a sequence\n",
    "- Instead we use islice from itertools\n",
    "- islice returns a  <span style='color:yellow; font-weight:bold; margin: 0, 5px'>lazy iterator</span>"
   ]
  },
  {
   "cell_type": "code",
   "execution_count": 20,
   "metadata": {
    "scrolled": true
   },
   "outputs": [
    {
     "name": "stdout",
     "output_type": "stream",
     "text": [
      "islice:  [6, 24, 120, 720, 5040, 40320, 362880]\n"
     ]
    }
   ],
   "source": [
    "import math\n",
    "from itertools import islice\n",
    "\n",
    "def factorials(n):\n",
    "    for i in range(n):\n",
    "        yield math.factorial(i)\n",
    "\n",
    "num_factorials = 100\n",
    "start = 3\n",
    "stop = 10\n",
    "        \n",
    "print('islice: ', list(islice(factorials(num_factorials), start, stop)))"
   ]
  },
  {
   "cell_type": "code",
   "execution_count": 17,
   "metadata": {},
   "outputs": [
    {
     "name": "stdout",
     "output_type": "stream",
     "text": [
      "slice_:  [6, 24, 120, 720, 5040, 40320, 362880]\n"
     ]
    }
   ],
   "source": [
    "# The islice function works a bit like this\n",
    "def slice_(iterable, start, stop):\n",
    "    for _ in range(0, start):\n",
    "        next(iterable)\n",
    "    for _ in range(start, stop):\n",
    "        yield next(iterable)\n",
    "        \n",
    "print('slice_: ', list(slice_(factorials(100), 3, 10)))"
   ]
  },
  {
   "cell_type": "markdown",
   "metadata": {},
   "source": [
    "### Selecting and filtering\n",
    "\n",
    "- <span style='color:yellow; font-weight:bold; margin: 0, 5px'>Filter</span> returns all element of an iterable where  <span style='color:yellow; font-weight:bold; margin: 0, 5px'> predicate(element) </span> is  <span style='color:yellow; font-weight:bold; margin: 0, 5px'>True</span>\n",
    "\n",
    "- Filter returns a   <span style='color:yellow; font-weight:bold; margin: 0, 5px'> lazy iterator </span>"
   ]
  },
  {
   "cell_type": "code",
   "execution_count": 42,
   "metadata": {},
   "outputs": [
    {
     "name": "stdout",
     "output_type": "stream",
     "text": [
      "Method 1: [True, False, False, False] Numbers below 60 = [50]\n",
      "Method 2: [True, False, False, False] Numbers below 60 = [50]\n",
      "Method 3: Numbers below 60 = [50]\n",
      "Method 4: Numbers below 60 = [50]\n"
     ]
    }
   ],
   "source": [
    "seq = [50, 65, 80.5, 90]\n",
    "\n",
    "# Test whether any of the numbers are below 60\n",
    "# Method 1 - using the map function\n",
    "test = list(map(lambda num: num < 60, seq))\n",
    "print('Method 1:', test, 'Numbers below 60 =', [x for x, y in zip(seq, test) if y is True])\n",
    "\n",
    "zipped\n",
    "# Method 2 - list comprehension (Check the truthiness of y)\n",
    "test = [(lambda num: num < 60)(num) for num in seq]\n",
    "print('Method 2:', test, 'Numbers below 60 =', [x for x, y in zip(seq, test) if y])\n",
    "\n",
    "\n",
    "# Method 3 - using the filter function\n",
    "test = list(filter(lambda num: num < 60, seq))\n",
    "print('Method 3: Numbers below 60 =', test)\n",
    "\n",
    "\n",
    "# method 4 - using filterfalse function\n",
    "from itertools import filterfalse\n",
    "test = list(filterfalse(lambda num: num > 60, seq))\n",
    "print('Method 4: Numbers below 60 =', test)"
   ]
  },
  {
   "cell_type": "markdown",
   "metadata": {},
   "source": [
    "### Compress\n",
    "- Filter one iterable by using the **thruthiness** in another iterable\n",
    "- Returns a **lazy iterator**"
   ]
  },
  {
   "cell_type": "code",
   "execution_count": 45,
   "metadata": {},
   "outputs": [
    {
     "name": "stdout",
     "output_type": "stream",
     "text": [
      "['a', 'd'] are truthy\n",
      "['a', 'd'] are truthy\n"
     ]
    }
   ],
   "source": [
    "from itertools import compress\n",
    "\n",
    "data = ['a', 'b', 'c', 'd']\n",
    "selectors = [True, [], False, 1, 0]\n",
    "\n",
    "# find the items in data where the corresponding index values in selectors are truthy\n",
    "print(list(compress(data, selectors)), 'are truthy')\n",
    "\n",
    "# using list comprehension to do the same thing\n",
    "print([item for item, truth_value in zip(data, selectors) if truth_value], 'are truthy')"
   ]
  },
  {
   "cell_type": "markdown",
   "metadata": {},
   "source": [
    "### Takewhile\n",
    "- returns an interator that will yield irems while pred(item) is truthy - and then stop as soon as pred(item) returns an untruthy value\n",
    "- returns a lazy iterator"
   ]
  },
  {
   "cell_type": "code",
   "execution_count": 57,
   "metadata": {},
   "outputs": [
    {
     "data": {
      "text/plain": [
       "[1, 3]"
      ]
     },
     "execution_count": 57,
     "metadata": {},
     "output_type": "execute_result"
    }
   ],
   "source": [
    "from itertools import takewhile\n",
    "seq = [1, 3, 5, 2, 6]\n",
    "\n",
    "# return all elements in the list that are less\n",
    "# than 5, and stop the iteration as soon as an \n",
    "# element does not satisfy the requirement\n",
    "list(takewhile(lambda x: x < 5, seq))"
   ]
  },
  {
   "cell_type": "markdown",
   "metadata": {},
   "source": [
    "### Dropwhile\n",
    "- returns a lazy iterator that will start iterating (and yield all remaining elements) once pred(item) becomes False"
   ]
  },
  {
   "cell_type": "code",
   "execution_count": 58,
   "metadata": {},
   "outputs": [
    {
     "data": {
      "text/plain": [
       "[5, 2, 6]"
      ]
     },
     "execution_count": 58,
     "metadata": {},
     "output_type": "execute_result"
    }
   ],
   "source": [
    "from itertools import dropwhile\n",
    "seq = [1, 3, 5, 2, 6]\n",
    "\n",
    "# return all elements in the list after iterating\n",
    "# over the first element that does not satisfy\n",
    "# the requirement\n",
    "list(dropwhile(lambda x: x < 5, seq))"
   ]
  },
  {
   "cell_type": "markdown",
   "metadata": {},
   "source": [
    "### Infinite iterators"
   ]
  },
  {
   "cell_type": "code",
   "execution_count": null,
   "metadata": {},
   "outputs": [],
   "source": [
    "from itertools import count, cycle, repeat, islice"
   ]
  },
  {
   "cell_type": "code",
   "execution_count": 49,
   "metadata": {
    "scrolled": true
   },
   "outputs": [
    {
     "name": "stdout",
     "output_type": "stream",
     "text": [
      "g sliced:  [10, 11, 12, 13, 14]\n",
      "h sliced  [10, 10.01, 10.02, 10.03, 10.04]\n"
     ]
    }
   ],
   "source": [
    "# count\n",
    "g = count(10)\n",
    "h = count(10, 0.01)\n",
    "\n",
    "# g and h are infinite iterators so we have to slice them using islice\n",
    "print('g sliced: ', list(islice(g, 5)))\n",
    "print('h sliced ', list(islice(h, 5)))"
   ]
  },
  {
   "cell_type": "code",
   "execution_count": 51,
   "metadata": {},
   "outputs": [
    {
     "name": "stdout",
     "output_type": "stream",
     "text": [
      "list cycled:  ['red', 'green', 'blue', 'red', 'green', 'blue', 'red', 'green', 'blue']\n"
     ]
    }
   ],
   "source": [
    "# cycle\n",
    "colors = ['red', 'green', 'blue']\n",
    "g = cycle(colors)\n",
    "print('list cycled: ', list(islice(g, 9)))"
   ]
  },
  {
   "cell_type": "code",
   "execution_count": null,
   "metadata": {},
   "outputs": [],
   "source": [
    "# Hand out cards to four players\n",
    "from collections import namedtuple\n",
    "Card = namedtuple('Card', 'rank suit')\n",
    "\n",
    "def card_deck():\n",
    "    ranks = tuple(str(num) for num in range(2, 11)) + tuple('JQKA')\n",
    "    suits = ('Spades', 'Hearts', 'Diamonds', 'Clubs')\n",
    "    for suit in suits:\n",
    "        for rank in ranks:\n",
    "            yield Card(rank, suit)\n",
    "            \n",
    "hands = [list() for _ in range(4)]\n",
    "\n",
    "index = 0\n",
    "for card in card_deck():\n",
    "    index = index % 4\n",
    "    hands[index].append(card)\n",
    "    index += 1\n"
   ]
  },
  {
   "cell_type": "code",
   "execution_count": null,
   "metadata": {},
   "outputs": [],
   "source": [
    "# we can solve this problem using the cycle function\n",
    "from collections import namedtuple\n",
    "Card = namedtuple('Card', 'rank suit')\n",
    "\n",
    "def card_deck():\n",
    "    ranks = tuple(str(num) for num in range(2, 11)) + tuple('JQKA')\n",
    "    suits = ('Spades', 'Hearts', 'Diamonds', 'Clubs')\n",
    "    for suit in suits:\n",
    "        for rank in ranks:\n",
    "            yield Card(rank, suit)\n",
    "            \n",
    "hands = [list() for _ in range(4)]\n",
    "index_cycle = cycle([0, 1, 2, 3])\n",
    "for card in card_deck():\n",
    "    hands[next(index_cycle)].append(card)\n"
   ]
  },
  {
   "cell_type": "code",
   "execution_count": null,
   "metadata": {},
   "outputs": [],
   "source": [
    "# we can simplify the above\n",
    "from collections import namedtuple\n",
    "Card = namedtuple('Card', 'rank suit')\n",
    "\n",
    "def card_deck():\n",
    "    ranks = tuple(str(num) for num in range(2, 11)) + tuple('JQKA')\n",
    "    suits = ('Spades', 'Hearts', 'Diamonds', 'Clubs')\n",
    "    for suit in suits:\n",
    "        for rank in ranks:\n",
    "            yield Card(rank, suit)\n",
    "            \n",
    "hands = [list() for _ in range(4)]\n",
    "hands_cycle = cycle(hands)\n",
    "for card in card_deck():\n",
    "    next(hands_cycle).append(card)"
   ]
  },
  {
   "cell_type": "code",
   "execution_count": 56,
   "metadata": {},
   "outputs": [
    {
     "data": {
      "text/plain": [
       "['python', 'python', 'python', 'python', 'python']"
      ]
     },
     "execution_count": 56,
     "metadata": {},
     "output_type": "execute_result"
    }
   ],
   "source": [
    "# repeat\n",
    "g = repeat('python', 5)\n",
    "list(g)"
   ]
  },
  {
   "cell_type": "markdown",
   "metadata": {},
   "source": [
    "### Chaining and Teeing\n",
    "\n",
    "- Chaining is analogous to sequence concatenation, but not the same:\n",
    "    * dealing with iterables (including iterators)\n",
    "    * chaining is itself a lazy iterator\n",
    "    \n",
    "- Teeing is kind of like copying, except that each element will have a unique id\n",
    "    * The elements of the returned tuple are **lazy iterators**"
   ]
  },
  {
   "cell_type": "code",
   "execution_count": 65,
   "metadata": {},
   "outputs": [
    {
     "data": {
      "text/plain": [
       "['a', 'b', 'c', 'd', 'e', 'f', 'g', 'h', 'i']"
      ]
     },
     "execution_count": 65,
     "metadata": {},
     "output_type": "execute_result"
    }
   ],
   "source": [
    "from itertools import chain\n",
    "l1, l2, l3 = 'abc', 'def', 'ghi'\n",
    "letters = l1, l2, l3\n",
    "chained_iterable = chain.from_iterable(letters)\n",
    "list(chained_iterable)"
   ]
  },
  {
   "cell_type": "code",
   "execution_count": 68,
   "metadata": {},
   "outputs": [
    {
     "data": {
      "text/plain": [
       "[0, 1, 4, 9, 16, 25, 36, 49, 64, 81, 100, 121]"
      ]
     },
     "execution_count": 68,
     "metadata": {},
     "output_type": "execute_result"
    }
   ],
   "source": [
    "l1 = (i**2 for i in range(4))\n",
    "l2 = (i**2 for i in range(4, 8))\n",
    "l3 = (i**2 for i in range(8, 12))\n",
    "\n",
    "def chain_iterables(*iterables):\n",
    "    for iterable in iterables:\n",
    "        yield from iterable\n",
    "        \n",
    "[i for i in chain_iterables(l1, l2, l3)]"
   ]
  },
  {
   "cell_type": "code",
   "execution_count": 69,
   "metadata": {},
   "outputs": [
    {
     "data": {
      "text/plain": [
       "[0, 1, 4, 9, 16, 25, 36, 49, 64, 81, 100, 121]"
      ]
     },
     "execution_count": 69,
     "metadata": {},
     "output_type": "execute_result"
    }
   ],
   "source": [
    "# doing the same thing with itertools.chain function\n",
    "l1 = (i**2 for i in range(4))\n",
    "l2 = (i**2 for i in range(4, 8))\n",
    "l3 = (i**2 for i in range(8, 12))\n",
    "\n",
    "[i for i in chain(l1, l2, l3)]"
   ]
  },
  {
   "cell_type": "code",
   "execution_count": 71,
   "metadata": {},
   "outputs": [
    {
     "data": {
      "text/plain": [
       "[0, 1, 4, 9, 16, 25, 36, 49, 64, 81, 100, 121]"
      ]
     },
     "execution_count": 71,
     "metadata": {},
     "output_type": "execute_result"
    }
   ],
   "source": [
    "def squares():\n",
    "    yield (i**2 for i in range(2))\n",
    "    yield (i**2 for i in range(2, 4))\n",
    "    yield (i**2 for i in range(4, 6))\n",
    "\n",
    "# this will work. The issue is that unpacking squares is eager and not lazy\n",
    "# which means that it will create all the elements upfront\n",
    "[i for i in chain(*squares())]"
   ]
  },
  {
   "cell_type": "code",
   "execution_count": 72,
   "metadata": {},
   "outputs": [
    {
     "data": {
      "text/plain": [
       "[0, 1, 4, 9, 16, 25, 36, 49, 64, 81, 100, 121]"
      ]
     },
     "execution_count": 72,
     "metadata": {},
     "output_type": "execute_result"
    }
   ],
   "source": [
    "# so instead we can write:\n",
    "[i for i in chain.from_iterable(squares())]"
   ]
  },
  {
   "cell_type": "code",
   "execution_count": 73,
   "metadata": {
    "scrolled": true
   },
   "outputs": [
    {
     "data": {
      "text/plain": [
       "(<itertools._tee at 0x16fc7406300>,\n",
       " <itertools._tee at 0x16fc7406a40>,\n",
       " <itertools._tee at 0x16fc7406b40>)"
      ]
     },
     "execution_count": 73,
     "metadata": {},
     "output_type": "execute_result"
    }
   ],
   "source": [
    "# teeing (\"copying\" iterables)\n",
    "from itertools import tee\n",
    "\n",
    "def squares(n):\n",
    "    for i in range(n):\n",
    "        yield i**2\n",
    "        \n",
    "gen = squares(10)\n",
    "iters = tee(gen, 3)\n",
    "# we now have three different copies of the generator\n",
    "iters"
   ]
  },
  {
   "cell_type": "markdown",
   "metadata": {},
   "source": [
    "### Mapping and Reducing\n",
    "\n",
    "Mapping: map(fn, iterable, initializer)\n",
    "- Applying a callable to each element of an iterable\n",
    "- fn must be a callable that requires a single argument\n",
    "- Returns a lazy iterator\n",
    "- An equivalent method to maps is to use a generator expression: \n",
    "    * maps = (fn(item) for item in iterable)\n",
    "\n",
    "Accumulation/Reduce:\n",
    "- Reducing an iterable down to a single value\n",
    "- reduce(lambda, iterable, start_value)"
   ]
  },
  {
   "cell_type": "code",
   "execution_count": 92,
   "metadata": {},
   "outputs": [
    {
     "data": {
      "text/plain": [
       "[1, 4, 9, 16]"
      ]
     },
     "execution_count": 92,
     "metadata": {},
     "output_type": "execute_result"
    }
   ],
   "source": [
    "my_list = [1, 2, 3, 4]\n",
    "# find the square of each element in the list\n",
    "result = map(lambda x: x**2, my_list)\n",
    "list(result)"
   ]
  },
  {
   "cell_type": "code",
   "execution_count": 78,
   "metadata": {},
   "outputs": [
    {
     "data": {
      "text/plain": [
       "[6, 15, 24]"
      ]
     },
     "execution_count": 78,
     "metadata": {},
     "output_type": "execute_result"
    }
   ],
   "source": [
    "# Starmap\n",
    "from itertools import starmap\n",
    "my_list = [[1, 2, 3], [4, 5, 6], [7, 8, 9]]\n",
    "\n",
    "# add the elements in each of the lists\n",
    "list(starmap(lambda x, y, z: x + y + z, my_list))"
   ]
  },
  {
   "cell_type": "code",
   "execution_count": 81,
   "metadata": {},
   "outputs": [
    {
     "data": {
      "text/plain": [
       "10"
      ]
     },
     "execution_count": 81,
     "metadata": {},
     "output_type": "execute_result"
    }
   ],
   "source": [
    "# Reduce\n",
    "from functools import reduce\n",
    "import operator\n",
    "my_list = [1, 2, 3, 4]\n",
    "result = reduce(operator.add, my_list)\n",
    "result"
   ]
  },
  {
   "cell_type": "code",
   "execution_count": 89,
   "metadata": {},
   "outputs": [
    {
     "data": {
      "text/plain": [
       "<itertools.accumulate at 0x16fc53ab6c0>"
      ]
     },
     "execution_count": 89,
     "metadata": {},
     "output_type": "execute_result"
    }
   ],
   "source": [
    "# Accumulate\n",
    "from itertools import accumulate\n",
    "my_list = [1, 2, 3, 4]\n",
    "result = accumulate(my_list, operator.add)\n",
    "# accumulate returns a lazy iterator\n",
    "result"
   ]
  },
  {
   "cell_type": "code",
   "execution_count": 90,
   "metadata": {},
   "outputs": [
    {
     "name": "stdout",
     "output_type": "stream",
     "text": [
      "1\n",
      "3\n",
      "6\n",
      "10\n"
     ]
    }
   ],
   "source": [
    "print(next(result))\n",
    "print(next(result))\n",
    "print(next(result))\n",
    "print(next(result))"
   ]
  },
  {
   "cell_type": "markdown",
   "metadata": {},
   "source": [
    "### Grouping"
   ]
  },
  {
   "cell_type": "code",
   "execution_count": 109,
   "metadata": {},
   "outputs": [
    {
     "name": "stdout",
     "output_type": "stream",
     "text": [
      "1 [(1, 'abc'), (1, 'bcd')]\n",
      "2 [(2, 'pyt'), (2, 'yth'), (2, 'tho')]\n",
      "3 [(3, 'hon')]\n"
     ]
    }
   ],
   "source": [
    "data = (\n",
    "    (1, 'abc'),\n",
    "    (1, 'bcd'),\n",
    "    (2, 'pyt'),\n",
    "    (2, 'yth'),\n",
    "    (2, 'tho'),\n",
    "    (3, 'hon')\n",
    ")\n",
    "\n",
    "groups = itertools.groupby(data, key=lambda x: x[0])\n",
    "for group_key, sub_iter in groups:\n",
    "    print(group_key, list(sub_iter))"
   ]
  },
  {
   "cell_type": "code",
   "execution_count": 116,
   "metadata": {},
   "outputs": [
    {
     "data": {
      "text/plain": [
       "{'YAMAHA': 110,\n",
       " 'POLARIS': 101,\n",
       " 'ARCTIC CAT': 96,\n",
       " 'HONDA': 91,\n",
       " 'BMW': 86,\n",
       " 'SKI-DOO': 67,\n",
       " 'CAN-AM': 61,\n",
       " 'MERCEDES-BENZ': 60,\n",
       " 'KAWASAKI': 59,\n",
       " 'SUZUKI': 48,\n",
       " 'FORD': 34,\n",
       " 'CHEVROLET': 33,\n",
       " 'HARLEY DAVIDSON': 29,\n",
       " 'KYMCO': 28,\n",
       " 'AUDI': 27,\n",
       " 'NISSAN': 24,\n",
       " 'JOHN DEERE': 19,\n",
       " 'TOYOTA': 19,\n",
       " 'VOLKSWAGEN': 16,\n",
       " 'LEXUS': 14,\n",
       " 'VICTORY': 14,\n",
       " 'HYUNDAI': 13,\n",
       " 'KTM': 13,\n",
       " 'GMC': 12,\n",
       " 'KENWORTH': 11,\n",
       " 'KIA': 10,\n",
       " 'SUBARU': 10,\n",
       " 'TRIUMPH': 10,\n",
       " 'HUSQVARNA': 9,\n",
       " 'JAGUAR': 9,\n",
       " 'MACK': 9,\n",
       " 'INFINITI': 8,\n",
       " 'MITSUBISHI': 8,\n",
       " 'VOLVO': 8,\n",
       " 'CADILLAC': 7,\n",
       " 'DODGE': 7,\n",
       " 'FREIGHTLINER': 7,\n",
       " 'HINO': 7,\n",
       " 'ACURA': 6,\n",
       " 'FERRARI': 6,\n",
       " 'LAND ROVER': 6,\n",
       " 'LINCOLN': 6,\n",
       " 'RAM': 6,\n",
       " 'ASTON MARTIN': 5,\n",
       " 'BUICK': 5,\n",
       " 'JEEP': 5,\n",
       " 'MAZDA': 5,\n",
       " 'SCION': 5,\n",
       " 'APRILIA': 4,\n",
       " 'ARGO': 4,\n",
       " 'DUCATI': 4,\n",
       " 'HUSABERG': 4,\n",
       " 'KUBOTA': 4,\n",
       " 'PORSCHE': 4,\n",
       " 'RENAULT': 4,\n",
       " 'VESPA': 4,\n",
       " 'INDIAN': 3,\n",
       " 'MASERATI': 3,\n",
       " 'MINI': 3,\n",
       " 'PEUGEOT': 3,\n",
       " 'ROLLS ROYCE': 3,\n",
       " 'SEAT': 3,\n",
       " 'ALFA ROMEO': 2,\n",
       " 'BENTLEY': 2,\n",
       " 'CHRYSLER': 2,\n",
       " 'FIAT': 2,\n",
       " 'LAMBORGHINI': 2,\n",
       " 'MCLAREN': 2,\n",
       " 'TESLA': 2,\n",
       " 'BLUE BIRD': 1,\n",
       " 'BUGATTI': 1,\n",
       " 'LOTUS': 1,\n",
       " 'SMART': 1,\n",
       " 'SRT': 1}"
      ]
     },
     "execution_count": 116,
     "metadata": {},
     "output_type": "execute_result"
    }
   ],
   "source": [
    "import itertools\n",
    "from collections import defaultdict\n",
    "\n",
    "# Count the number of each car manufacturer listed inside the file cars_\n",
    "\n",
    "# generic approach\n",
    "makes = defaultdict(int)\n",
    "with open('../../../datasets/python-deep-dive/cars_2014.csv') as f:\n",
    "    # skip header row\n",
    "    next(f)\n",
    "    for row in f:\n",
    "        make, _ = row.strip('\\n').split(',')\n",
    "        makes[make] += 1\n",
    "        \n",
    "{\n",
    "    key: val for key, val in \n",
    "    sorted(makes.items(), key=lambda item: item[1], reverse=True) \n",
    "}"
   ]
  },
  {
   "cell_type": "code",
   "execution_count": 111,
   "metadata": {},
   "outputs": [
    {
     "name": "stdout",
     "output_type": "stream",
     "text": [
      "[('ACURA', <itertools._grouper object at 0x0000016FC7143040>), ('ALFA ROMEO', <itertools._grouper object at 0x0000016FC7143160>), ('APRILIA', <itertools._grouper object at 0x0000016FC72C4A90>), ('ARCTIC CAT', <itertools._grouper object at 0x0000016FC72C4460>), ('ARGO', <itertools._grouper object at 0x0000016FC73253D0>)]\n"
     ]
    }
   ],
   "source": [
    "with open('../../../datasets/python-deep-dive/cars_2014.csv') as f:\n",
    "    next(f)\n",
    "    makes_groups = itertools.groupby(f, lambda x: x.split(',')[0])\n",
    "    print(list(itertools.islice(makes_groups, 5)))"
   ]
  },
  {
   "cell_type": "code",
   "execution_count": 127,
   "metadata": {},
   "outputs": [
    {
     "name": "stdout",
     "output_type": "stream",
     "text": [
      "[('ACURA', 6), ('ALFA ROMEO', 2), ('APRILIA', 4), ('ARCTIC CAT', 96), ('ARGO', 4), ('ASTON MARTIN', 5), ('AUDI', 27), ('BENTLEY', 2), ('BLUE BIRD', 1), ('BMW', 86), ('BUGATTI', 1), ('BUICK', 5), ('CADILLAC', 7), ('CAN-AM', 61), ('CHEVROLET', 33), ('CHRYSLER', 2), ('DODGE', 7), ('DUCATI', 4), ('FERRARI', 6), ('FIAT', 2), ('FORD', 34), ('FREIGHTLINER', 7), ('GMC', 12), ('HARLEY DAVIDSON', 29), ('HINO', 7), ('HONDA', 91), ('HUSABERG', 4), ('HUSQVARNA', 9), ('HYUNDAI', 13), ('INDIAN', 3), ('INFINITI', 8), ('JAGUAR', 9), ('JEEP', 5), ('JOHN DEERE', 19), ('KAWASAKI', 59), ('KENWORTH', 11), ('KIA', 10), ('KTM', 13), ('KUBOTA', 4), ('KYMCO', 28), ('LAMBORGHINI', 2), ('LAND ROVER', 6), ('LEXUS', 14), ('LINCOLN', 6), ('LOTUS', 1), ('MACK', 9), ('MASERATI', 3), ('MAZDA', 5), ('MCLAREN', 2), ('MERCEDES-BENZ', 60), ('MINI', 3), ('MITSUBISHI', 8), ('NISSAN', 24), ('PEUGEOT', 3), ('POLARIS', 101), ('PORSCHE', 4), ('RAM', 6), ('RENAULT', 4), ('ROLLS ROYCE', 3), ('SCION', 5), ('SEAT', 3), ('SKI-DOO', 67), ('SMART', 1), ('SRT', 1), ('SUBARU', 10), ('SUZUKI', 48), ('TESLA', 2), ('TOYOTA', 19), ('TRIUMPH', 10), ('VESPA', 4), ('VICTORY', 14), ('VOLKSWAGEN', 16), ('VOLVO', 8), ('YAMAHA', 110)]\n"
     ]
    }
   ],
   "source": [
    "with open('../../../datasets/python-deep-dive/cars_2014.csv') as f:\n",
    "    next(f)\n",
    "    makes_groups = itertools.groupby(f, lambda x: x.split(',')[0])\n",
    "    make_counts = ((key, sum(1 for model in models ))\n",
    "                   for key, models in makes_groups)\n",
    "\n",
    "    print(list(make_counts))"
   ]
  },
  {
   "cell_type": "code",
   "execution_count": null,
   "metadata": {},
   "outputs": [],
   "source": []
  }
 ],
 "metadata": {
  "file_extension": ".py",
  "kernelspec": {
   "display_name": "Python (data-analysis)",
   "language": "python",
   "name": "data-analysis"
  },
  "language_info": {
   "codemirror_mode": {
    "name": "ipython",
    "version": 3
   },
   "file_extension": ".py",
   "mimetype": "text/x-python",
   "name": "python",
   "nbconvert_exporter": "python",
   "pygments_lexer": "ipython3",
   "version": "3.8.6"
  },
  "mimetype": "text/x-python",
  "name": "python",
  "npconvert_exporter": "python",
  "pygments_lexer": "ipython3",
  "version": 3
 },
 "nbformat": 4,
 "nbformat_minor": 2
}
