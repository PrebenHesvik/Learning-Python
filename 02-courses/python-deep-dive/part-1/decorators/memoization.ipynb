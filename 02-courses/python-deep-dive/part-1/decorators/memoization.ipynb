{
 "nbformat": 4,
 "nbformat_minor": 2,
 "metadata": {
  "language_info": {
   "name": "python",
   "codemirror_mode": {
    "name": "ipython",
    "version": 3
   },
   "version": "3.8.1-final"
  },
  "orig_nbformat": 2,
  "file_extension": ".py",
  "mimetype": "text/x-python",
  "name": "python",
  "npconvert_exporter": "python",
  "pygments_lexer": "ipython3",
  "version": 3,
  "kernelspec": {
   "name": "python38164bitcondaa917e26bb99d40aba1ffb6b8b2205db4",
   "display_name": "Python 3.8.1 64-bit (conda)"
  }
 },
 "cells": [
  {
   "cell_type": "code",
   "execution_count": 10,
   "metadata": {},
   "outputs": [
    {
     "output_type": "stream",
     "name": "stdout",
     "text": "Calculating fib(10)\nCalculating fib(9)\nCalculating fib(8)\nCalculating fib(7)\nCalculating fib(6)\nCalculating fib(5)\nCalculating fib(4)\nCalculating fib(3)\nCalculating fib(2)\nCalculating fib(1)\nCalculating fib(2)\nCalculating fib(3)\nCalculating fib(2)\nCalculating fib(1)\nCalculating fib(4)\nCalculating fib(3)\nCalculating fib(2)\nCalculating fib(1)\nCalculating fib(2)\nCalculating fib(5)\nCalculating fib(4)\nCalculating fib(3)\nCalculating fib(2)\nCalculating fib(1)\nCalculating fib(2)\nCalculating fib(3)\nCalculating fib(2)\nCalculating fib(1)\nCalculating fib(6)\nCalculating fib(5)\nCalculating fib(4)\nCalculating fib(3)\nCalculating fib(2)\nCalculating fib(1)\nCalculating fib(2)\nCalculating fib(3)\nCalculating fib(2)\nCalculating fib(1)\nCalculating fib(4)\nCalculating fib(3)\nCalculating fib(2)\nCalculating fib(1)\nCalculating fib(2)\nCalculating fib(7)\nCalculating fib(6)\nCalculating fib(5)\nCalculating fib(4)\nCalculating fib(3)\nCalculating fib(2)\nCalculating fib(1)\nCalculating fib(2)\nCalculating fib(3)\nCalculating fib(2)\nCalculating fib(1)\nCalculating fib(4)\nCalculating fib(3)\nCalculating fib(2)\nCalculating fib(1)\nCalculating fib(2)\nCalculating fib(5)\nCalculating fib(4)\nCalculating fib(3)\nCalculating fib(2)\nCalculating fib(1)\nCalculating fib(2)\nCalculating fib(3)\nCalculating fib(2)\nCalculating fib(1)\nCalculating fib(8)\nCalculating fib(7)\nCalculating fib(6)\nCalculating fib(5)\nCalculating fib(4)\nCalculating fib(3)\nCalculating fib(2)\nCalculating fib(1)\nCalculating fib(2)\nCalculating fib(3)\nCalculating fib(2)\nCalculating fib(1)\nCalculating fib(4)\nCalculating fib(3)\nCalculating fib(2)\nCalculating fib(1)\nCalculating fib(2)\nCalculating fib(5)\nCalculating fib(4)\nCalculating fib(3)\nCalculating fib(2)\nCalculating fib(1)\nCalculating fib(2)\nCalculating fib(3)\nCalculating fib(2)\nCalculating fib(1)\nCalculating fib(6)\nCalculating fib(5)\nCalculating fib(4)\nCalculating fib(3)\nCalculating fib(2)\nCalculating fib(1)\nCalculating fib(2)\nCalculating fib(3)\nCalculating fib(2)\nCalculating fib(1)\nCalculating fib(4)\nCalculating fib(3)\nCalculating fib(2)\nCalculating fib(1)\nCalculating fib(2)\n"
    },
    {
     "output_type": "execute_result",
     "data": {
      "text/plain": "55"
     },
     "metadata": {},
     "execution_count": 10
    }
   ],
   "source": [
    "# a recursive function\n",
    "def fib(n):\n",
    "    print(f'Calculating fib({n})')\n",
    "    return 1 if n < 3 else fib(n-1) + fib(n-2)\n",
    "\n",
    "fib(10)\n",
    ""
   ]
  },
  {
   "cell_type": "markdown",
   "metadata": {},
   "source": [
    "#### Second iteration\n",
    "To avoid having the function calculating fib for the same number several times, we can store the values in a cache by using a class-based function."
   ]
  },
  {
   "cell_type": "code",
   "execution_count": 11,
   "metadata": {},
   "outputs": [
    {
     "output_type": "stream",
     "name": "stdout",
     "text": "Calculating fib(10)\nCalculating fib(9)\nCalculating fib(8)\nCalculating fib(7)\nCalculating fib(6)\nCalculating fib(5)\nCalculating fib(4)\nCalculating fib(3)\n"
    },
    {
     "output_type": "execute_result",
     "data": {
      "text/plain": "55"
     },
     "metadata": {},
     "execution_count": 11
    }
   ],
   "source": [
    "class Fib:\n",
    "    def __init__(self):\n",
    "        self.cache = {1: 1, 2: 1}\n",
    "    \n",
    "    def fib(self, n):\n",
    "        if n not in self.cache:\n",
    "            print(f'Calculating fib({n})')\n",
    "            self.cache[n] = self.fib(n-1) + self.fib(n-2)\n",
    "        return self.cache[n]\n",
    "\n",
    "f = Fib()\n",
    "f.fib(10)"
   ]
  },
  {
   "cell_type": "markdown",
   "metadata": {},
   "source": [
    "#### Writing the class based function as a closure"
   ]
  },
  {
   "cell_type": "code",
   "execution_count": 15,
   "metadata": {},
   "outputs": [
    {
     "output_type": "stream",
     "name": "stdout",
     "text": "Calculating fib(10)\nCalculating fib(9)\nCalculating fib(8)\nCalculating fib(7)\nCalculating fib(6)\nCalculating fib(5)\nCalculating fib(4)\nCalculating fib(3)\n"
    },
    {
     "output_type": "execute_result",
     "data": {
      "text/plain": "55"
     },
     "metadata": {},
     "execution_count": 15
    }
   ],
   "source": [
    "def fib():\n",
    "    cache = {1: 1, 2: 1}\n",
    "\n",
    "    def calc_fib(n):\n",
    "        if n not in cache:\n",
    "            print(f'Calculating fib({n})')\n",
    "            cache[n] = calc_fib(n-1) + calc_fib(n-2)\n",
    "        return cache[n]\n",
    "    return calc_fib\n",
    "\n",
    "f = fib()\n",
    "f(10)"
   ]
  },
  {
   "cell_type": "markdown",
   "metadata": {},
   "source": [
    "#### Writing the closure as a decorator"
   ]
  },
  {
   "cell_type": "code",
   "execution_count": 16,
   "metadata": {},
   "outputs": [
    {
     "output_type": "stream",
     "name": "stdout",
     "text": "Calculating fib(10)\nCalculating fib(9)\nCalculating fib(8)\nCalculating fib(7)\nCalculating fib(6)\nCalculating fib(5)\nCalculating fib(4)\nCalculating fib(3)\n"
    },
    {
     "output_type": "execute_result",
     "data": {
      "text/plain": "55"
     },
     "metadata": {},
     "execution_count": 16
    }
   ],
   "source": [
    "def memoize_fib(fib):\n",
    "    cache = {1: 1, 2: 1}\n",
    "\n",
    "    def inner(n):\n",
    "        if n not in cache:\n",
    "            cache[n] = fib(n)\n",
    "        return cache[n]\n",
    "    \n",
    "    return inner\n",
    "\n",
    "\n",
    "@memoize_fib\n",
    "def fib(n):\n",
    "    print(f'Calculating fib({n})')\n",
    "    return 1 if n < 3 else fib(n-1) + fib(n-2)\n",
    "\n",
    "\n",
    "fib(10)"
   ]
  },
  {
   "cell_type": "markdown",
   "metadata": {},
   "source": [
    "#### Second iteration of the decorator"
   ]
  },
  {
   "cell_type": "code",
   "execution_count": 22,
   "metadata": {},
   "outputs": [
    {
     "output_type": "stream",
     "name": "stdout",
     "text": "Fibonacci\nCalculating fib(5)\nCalculating fib(4)\nCalculating fib(3)\nCalculating fib(2)\nCalculating fib(1)\n5\n\nCalculating fib(6)\n8\n\nFactorial\nCalculating 5\nCalculating 4\nCalculating 3\nCalculating 2\nCalculating 1\n120\n\nCalculating 6\n720\n\n"
    }
   ],
   "source": [
    "def memoize(fn):\n",
    "    cache = {} # we dont need to populate the cache because the fib function will do it\n",
    "\n",
    "    def inner(n):\n",
    "        if n not in cache:\n",
    "            cache[n] = fn(n)\n",
    "        return cache[n]\n",
    "    \n",
    "    return inner\n",
    "\n",
    "\n",
    "@memoize\n",
    "def fib(n):\n",
    "    print(f'Calculating fib({n})')\n",
    "    return 1 if n < 3 else fib(n-1) + fib(n-2)\n",
    "\n",
    "@memoize\n",
    "def fact(n):\n",
    "    print(f'Calculating {n}')\n",
    "    return 1 if n < 2 else n * fact(n-1)\n",
    "\n",
    "print('Fibonacci')\n",
    "print(fib(5), end='\\n\\n')\n",
    "print(fib(6), end='\\n\\n') # Notice how we only calculate one value and retrieve the other values from the cache\n",
    "\n",
    "print('Factorial')\n",
    "print(fact(5), end='\\n\\n')\n",
    "print(fact(6), end='\\n\\n')"
   ]
  },
  {
   "cell_type": "markdown",
   "metadata": {},
   "source": [
    "#### Third iteration of the decorator - use a python module as the decorator"
   ]
  },
  {
   "cell_type": "code",
   "execution_count": 23,
   "metadata": {},
   "outputs": [
    {
     "output_type": "stream",
     "name": "stdout",
     "text": "Fibonacci\nCalculating fib(5)\nCalculating fib(4)\nCalculating fib(3)\nCalculating fib(2)\nCalculating fib(1)\n5\n\nCalculating fib(6)\n8\n\nFactorial\nCalculating 5\nCalculating 4\nCalculating 3\nCalculating 2\nCalculating 1\n120\n\nCalculating 6\n720\n\n"
    }
   ],
   "source": [
    "from functools import lru_cache\n",
    "\n",
    "@lru_cache\n",
    "def fib(n):\n",
    "    print(f'Calculating fib({n})')\n",
    "    return 1 if n < 3 else fib(n-1) + fib(n-2)\n",
    "\n",
    "@lru_cache\n",
    "def fact(n):\n",
    "    print(f'Calculating {n}')\n",
    "    return 1 if n < 2 else n * fact(n-1)\n",
    "\n",
    "print('Fibonacci')\n",
    "print(fib(5), end='\\n\\n')\n",
    "print(fib(6), end='\\n\\n') # Notice how we only calculate one value and retrieve the other values from the cache\n",
    "\n",
    "print('Factorial')\n",
    "print(fact(5), end='\\n\\n')\n",
    "print(fact(6), end='\\n\\n')"
   ]
  },
  {
   "cell_type": "code",
   "execution_count": null,
   "metadata": {},
   "outputs": [],
   "source": []
  }
 ]
}