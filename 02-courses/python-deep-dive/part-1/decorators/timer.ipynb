{
 "nbformat": 4,
 "nbformat_minor": 2,
 "metadata": {
  "language_info": {
   "name": "python",
   "codemirror_mode": {
    "name": "ipython",
    "version": 3
   },
   "version": "3.8.1-final"
  },
  "orig_nbformat": 2,
  "file_extension": ".py",
  "mimetype": "text/x-python",
  "name": "python",
  "npconvert_exporter": "python",
  "pygments_lexer": "ipython3",
  "version": 3,
  "kernelspec": {
   "name": "python38164bitcondaa917e26bb99d40aba1ffb6b8b2205db4",
   "display_name": "Python 3.8.1 64-bit (conda)"
  }
 },
 "cells": [
  {
   "cell_type": "markdown",
   "metadata": {},
   "source": [
    "## Timer Decorator Application"
   ]
  },
  {
   "cell_type": "code",
   "execution_count": 8,
   "metadata": {},
   "outputs": [],
   "source": [
    "def timed(fn):\n",
    "    from functools import wraps\n",
    "    from time import perf_counter\n",
    "\n",
    "    @wraps(fn)\n",
    "    def inner(*args, **kwargs):\n",
    "        start = perf_counter()\n",
    "        result = fn(*args, **kwargs)\n",
    "        end = perf_counter()\n",
    "        elapsed = end - start\n",
    "\n",
    "        args_ = [str(a) for a in args]\n",
    "        kwargs_ = [f'{k}-{v}' for k, v in kwargs.items()]\n",
    "        all_args = args_ + kwargs_\n",
    "        args_str = '.'.join(all_args)\n",
    "\n",
    "        print(f'{fn.__name__}({args_str}) took {elapsed: .5f}s to run')\n",
    "\n",
    "        return result\n",
    "    \n",
    "    return inner"
   ]
  },
  {
   "cell_type": "code",
   "execution_count": 9,
   "metadata": {},
   "outputs": [
    {
     "output_type": "stream",
     "name": "stdout",
     "text": "fib_recursive(30) took  0.29955s to run\n"
    },
    {
     "output_type": "execute_result",
     "data": {
      "text/plain": "832040"
     },
     "metadata": {},
     "execution_count": 9
    }
   ],
   "source": [
    "def calc_recursive_fib(n):\n",
    "    if n <= 2:\n",
    "        return 1\n",
    "    else:\n",
    "        return calc_recursive_fib(n-1) + calc_recursive_fib(n-2)\n",
    "\n",
    "\n",
    "# we create a helper function because if we decorated \n",
    "# the calc_recursive_fib function we would return a string\n",
    "# for each single calculation\n",
    "@timed  \n",
    "def fib_recursive(n):\n",
    "    return calc_recursive_fib(n)\n",
    "\n",
    "fib_recursive(30)"
   ]
  },
  {
   "cell_type": "code",
   "execution_count": 12,
   "metadata": {},
   "outputs": [
    {
     "output_type": "stream",
     "name": "stdout",
     "text": "fib_loop(30) took  0.00000s to run\n"
    },
    {
     "output_type": "execute_result",
     "data": {
      "text/plain": "832040"
     },
     "metadata": {},
     "execution_count": 12
    }
   ],
   "source": [
    "@timed\n",
    "def fib_loop(n):\n",
    "    fib_1 = 1\n",
    "    fib_2 = 1\n",
    "    for i in range(3, n+1):\n",
    "        fib_1, fib_2 = fib_2, (fib_1 + fib_2)\n",
    "    return fib_2\n",
    "\n",
    "fib_loop(30)"
   ]
  },
  {
   "cell_type": "code",
   "execution_count": 14,
   "metadata": {},
   "outputs": [
    {
     "output_type": "stream",
     "name": "stdout",
     "text": "fib_reduce(30) took  0.00001s to run\n"
    },
    {
     "output_type": "execute_result",
     "data": {
      "text/plain": "1346269"
     },
     "metadata": {},
     "execution_count": 14
    }
   ],
   "source": [
    "from functools import reduce\n",
    "\n",
    "@timed\n",
    "def fib_reduce(n):\n",
    "    initial = (1, 0)\n",
    "    dummy = range(n)\n",
    "    fib_n = reduce(lambda prev, n: (prev[0] + prev[1], prev[0]), dummy, initial)\n",
    "    return fib_n[0]\n",
    "\n",
    "fib_reduce(30)"
   ]
  },
  {
   "cell_type": "code",
   "execution_count": null,
   "metadata": {},
   "outputs": [],
   "source": []
  }
 ]
}