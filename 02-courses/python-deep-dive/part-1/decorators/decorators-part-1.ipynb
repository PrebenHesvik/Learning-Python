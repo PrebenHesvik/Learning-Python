{
 "nbformat": 4,
 "nbformat_minor": 2,
 "metadata": {
  "language_info": {
   "name": "python",
   "codemirror_mode": {
    "name": "ipython",
    "version": 3
   },
   "version": "3.8.1-final"
  },
  "orig_nbformat": 2,
  "file_extension": ".py",
  "mimetype": "text/x-python",
  "name": "python",
  "npconvert_exporter": "python",
  "pygments_lexer": "ipython3",
  "version": 3,
  "kernelspec": {
   "name": "python38164bitcondaa917e26bb99d40aba1ffb6b8b2205db4",
   "display_name": "Python 3.8.1 64-bit (conda)"
  }
 },
 "cells": [
  {
   "cell_type": "markdown",
   "metadata": {},
   "source": [
    "## Decorators\n",
    "#### In general a decorator function:\n",
    "- takes a function as an argument\n",
    "- returns a closure\n",
    "- the closure usually accepts any combination of parameters\n",
    "- runs some code in the inner function (closure)\n",
    "- the closure function calls the original function using the arguments passed to the closure\n",
    "- returns whatever is returned by that function call"
   ]
  },
  {
   "cell_type": "code",
   "execution_count": 6,
   "metadata": {},
   "outputs": [
    {
     "output_type": "stream",
     "name": "stdout",
     "text": "Function add has been called 1 times - result:  15\nFunction add has been called 2 times - result:  150\nFunction mult has been called 1 times - result:  30\n"
    }
   ],
   "source": [
    "from functools import wraps\n",
    "\n",
    "def counter(fn):\n",
    "    count = 0\n",
    "\n",
    "    wraps(fn) # we use wraps to decorate the inner function to retain the metadate of fn\n",
    "    def inner(*args, **kwargs):\n",
    "        nonlocal count\n",
    "        count += 1\n",
    "        print(f'Function {fn.__name__} has been called {count} times - result: ', end=' ')\n",
    "        return fn(*args, **kwargs)\n",
    "    \n",
    "    return inner\n",
    "\n",
    "@counter\n",
    "def add(a:int, b:int = 0) -> int:\n",
    "    \"\"\"Adds to values\"\"\"\n",
    "    return a + b\n",
    "\n",
    "@counter\n",
    "def mult(a: int, b: int, c: int = 1, *, d) -> int:\n",
    "    \"\"\"Multiplies four values\"\"\"\n",
    "    return a * b * c *d\n",
    "\n",
    "\n",
    "print(add(a=5, b=10))\n",
    "print(add(a=50, b=100))\n",
    "\n",
    "print(mult(1, 2, 3, d=5))"
   ]
  },
  {
   "cell_type": "code",
   "execution_count": null,
   "metadata": {},
   "outputs": [],
   "source": []
  }
 ]
}