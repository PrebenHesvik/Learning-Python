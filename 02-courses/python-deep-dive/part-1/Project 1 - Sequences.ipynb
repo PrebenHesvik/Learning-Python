{
 "cells": [
  {
   "cell_type": "markdown",
   "metadata": {},
   "source": [
    "Polygon\n",
    "- All interior angles are less than 180 degrees\n",
    "- All sides have equal length\n",
    "\n",
    "Create a Polygon class wit hthe following properties:\n",
    "- number of vertices n - passed to the initializer\n",
    "    * a vertex is a point (a square has four vertices)\n",
    "- Circumradius R:\n",
    "    * Passed to the initializer\n",
    "    * Imagine a circle drawn around the polygon with each edge touching the circle.\n",
    "    * The circumradius is the distance between the center and the circle at the mid-point of a side. \n",
    "- number of edges/sides\n",
    "    * number of edges is equal to the number of vertices\n",
    "- number of sides\n",
    "- interior angle (in degrees)\n",
    "    * (n-2) * 180/n\n",
    "- edge length\n",
    "- apothem\n",
    "    * Distance between the center and the mid-point of a side\n",
    "- surface area\n",
    "- perimeter\n",
    "\n",
    "- supports equality based on number of vertices and circumradius\n",
    "- supports > based on number of vertices\n",
    "<br><br>\n",
    "\n",
    "### Goal 1: Polygon Class\n",
    "- Initializer:\n",
    "    * Number of vertices\n",
    "    * circumradius\n",
    "<br><br>  \n",
    "    \n",
    "- Properties\n",
    "    * number edges (same as vertices)\n",
    "    * number of vertices\n",
    "    * interior angle\n",
    "    * edge length\n",
    "    * apothem\n",
    "    * area\n",
    "    * perimeter\n",
    "<br><br>  \n",
    "  \n",
    "- Functionality:\n",
    "    * a proper representation (\\_\\_repr\\_\\_)\n",
    "    * implements equality (==) based on # vertices and circumradius\n",
    "    * implements > based on number of vertices only <br><br>\n",
    "    \n",
    "### Goal 2: Implement a Polygons sequence type:\n",
    "- Initializer\n",
    "    * number of vertices for largest polygon in the sequence\n",
    "    * common circumradius for all polygons\n",
    "<br><br>\n",
    "- Properties\n",
    "    * max efficiency polygon\n",
    "        * returns the Polygon with the highest area/perimeter ratio\n",
    "<br><br>\n",
    "- Functionality\n",
    "    * functions as a sequence type (getitem)\n",
    "    * supports the len() function\n"
   ]
  },
  {
   "cell_type": "code",
   "execution_count": 85,
   "metadata": {},
   "outputs": [],
   "source": [
    "import math\n",
    "\n",
    "class Polygon:\n",
    "    \n",
    "    def __init__(self, vertices, circumradius):\n",
    "        if vertices < 3:\n",
    "            raise ValueError('Polygon must have at least three vertices')\n",
    "        self._n = vertices\n",
    "        self._R = circumradius\n",
    "    \n",
    "    def __repr__(self):\n",
    "        return f'Polygon(vertices={self._n}, circumradius={self._R})'\n",
    "    \n",
    "    @property\n",
    "    def vertices(self):\n",
    "        return self._n\n",
    "    \n",
    "    @property\n",
    "    def edges(self):\n",
    "        return self._n\n",
    "    \n",
    "    @property\n",
    "    def circumradius(self):\n",
    "        return self._R\n",
    "    \n",
    "    @property\n",
    "    def side_length(self):\n",
    "        return 2 * self._R * math.sin(math.pi / self._n)\n",
    "    \n",
    "    @property\n",
    "    def apothem(self):\n",
    "        return self._R * math.cos(math.pi / self._n)\n",
    "    \n",
    "    @property\n",
    "    def interior_angle(self):\n",
    "        return (self._n - 2) * 180 / self._n\n",
    "    \n",
    "    @property\n",
    "    def area(self):\n",
    "        return self._n / 2 * self.side_length * self.apothem\n",
    "    \n",
    "    @property\n",
    "    def perimeter(self):\n",
    "        return self._n * self.side_length\n",
    "    \n",
    "    def __eq__(self, other):\n",
    "        if isinstance(other, self.__class__):\n",
    "            return (self.edges == other.edges \n",
    "                    and self.circumradius == other.circumradius) \n",
    "        else:\n",
    "            return NotImplemented\n",
    "    \n",
    "    def __gt__(self, other):\n",
    "        if isinstance(other, self.__class__):\n",
    "            return self.vertices > other.vertices\n",
    "        else:\n",
    "            return NotImplemented\n",
    "        \n",
    "        \n",
    "        "
   ]
  },
  {
   "cell_type": "code",
   "execution_count": 86,
   "metadata": {},
   "outputs": [],
   "source": [
    "def test_polygon():\n",
    "    rel_tol = 0.001\n",
    "    abs_tol = 0.001\n",
    "    \n",
    "    n = 3\n",
    "    R = 1\n",
    "    p = Polygon(n, R)\n",
    "    assert str(p) == f'Polygon(vertices=3, circumradius=1)', f'actual {str(p)}'\n",
    "    assert p.vertices == n, f'actual: {p.vertices}, expected: {n}'\n",
    "    assert p.edges == n\n",
    "    assert p.circumradius == R\n",
    "    assert p.interior_angle == 60\n",
    "    \n",
    "    n = 4\n",
    "    R = 1\n",
    "    p = Polygon(n, R)\n",
    "    assert math.isclose(p.interior_angle, 90) \n",
    "    \n",
    "    assert math.isclose(\n",
    "        p.area, 2.0, \n",
    "        rel_tol=rel_tol, \n",
    "        abs_tol=abs_tol), f'actual: {p.area}, expected: {2.0}'\n",
    "    \n",
    "    assert math.isclose(\n",
    "        p.side_length, math.sqrt(2),\n",
    "        rel_tol=rel_tol, \n",
    "        abs_tol=abs_tol)\n",
    "    \n",
    "    assert math.isclose(\n",
    "        p.perimeter, 4 * math.sqrt(2),\n",
    "        rel_tol=rel_tol, \n",
    "        abs_tol=abs_tol)\n",
    "    \n",
    "    p1 = Polygon(3, 100)\n",
    "    p2 = Polygon(10, 10)\n",
    "    p3 = Polygon(15, 10)\n",
    "    p4 = Polygon(15, 100)\n",
    "    p5 = Polygon(15, 100)\n",
    "    \n",
    "    assert p2 > p1\n",
    "    assert p2 < p3\n",
    "    assert p3 != p4\n",
    "    assert p1 != p4\n",
    "    \n",
    "    "
   ]
  },
  {
   "cell_type": "code",
   "execution_count": 87,
   "metadata": {},
   "outputs": [],
   "source": [
    "test_polygon()"
   ]
  },
  {
   "cell_type": "code",
   "execution_count": 55,
   "metadata": {},
   "outputs": [
    {
     "data": {
      "text/plain": [
       "60.0"
      ]
     },
     "execution_count": 55,
     "metadata": {},
     "output_type": "execute_result"
    }
   ],
   "source": [
    "p1 = Polygon(3, 1)\n",
    "p1.interior_angle()"
   ]
  },
  {
   "cell_type": "code",
   "execution_count": 30,
   "metadata": {},
   "outputs": [
    {
     "data": {
      "text/plain": [
       "Polygon(vertices=7, circumradius=80)"
      ]
     },
     "execution_count": 30,
     "metadata": {},
     "output_type": "execute_result"
    }
   ],
   "source": [
    "p1"
   ]
  },
  {
   "cell_type": "code",
   "execution_count": 29,
   "metadata": {},
   "outputs": [
    {
     "data": {
      "text/plain": [
       "False"
      ]
     },
     "execution_count": 29,
     "metadata": {},
     "output_type": "execute_result"
    }
   ],
   "source": [
    "p1 > p2"
   ]
  },
  {
   "cell_type": "code",
   "execution_count": 19,
   "metadata": {},
   "outputs": [
    {
     "data": {
      "text/plain": [
       "7"
      ]
     },
     "execution_count": 19,
     "metadata": {},
     "output_type": "execute_result"
    }
   ],
   "source": [
    "p.vertices"
   ]
  },
  {
   "cell_type": "code",
   "execution_count": 20,
   "metadata": {},
   "outputs": [
    {
     "data": {
      "text/plain": [
       "7"
      ]
     },
     "execution_count": 20,
     "metadata": {},
     "output_type": "execute_result"
    }
   ],
   "source": [
    "p.edges"
   ]
  },
  {
   "cell_type": "code",
   "execution_count": 21,
   "metadata": {},
   "outputs": [
    {
     "data": {
      "text/plain": [
       "69.4213982588093"
      ]
     },
     "execution_count": 21,
     "metadata": {},
     "output_type": "execute_result"
    }
   ],
   "source": [
    "p.edge_length"
   ]
  },
  {
   "cell_type": "code",
   "execution_count": null,
   "metadata": {},
   "outputs": [],
   "source": []
  }
 ],
 "metadata": {
  "kernelspec": {
   "display_name": "Python (data-analysis)",
   "language": "python",
   "name": "data-analysis"
  },
  "language_info": {
   "codemirror_mode": {
    "name": "ipython",
    "version": 3
   },
   "file_extension": ".py",
   "mimetype": "text/x-python",
   "name": "python",
   "nbconvert_exporter": "python",
   "pygments_lexer": "ipython3",
   "version": "3.8.6"
  }
 },
 "nbformat": 4,
 "nbformat_minor": 4
}
