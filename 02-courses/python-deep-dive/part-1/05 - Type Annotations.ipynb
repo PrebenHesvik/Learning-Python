{
 "cells": [
  {
   "cell_type": "markdown",
   "metadata": {},
   "source": [
    "#### Type annotations"
   ]
  },
  {
   "cell_type": "code",
   "execution_count": 21,
   "metadata": {},
   "outputs": [
    {
     "name": "stdout",
     "output_type": "stream",
     "text": [
      "Help on function my_func in module __main__:\n",
      "\n",
      "my_func(a: int = 10, b: 'this should also be an int' = 20) -> int\n",
      "\n",
      "\n",
      "\n",
      "Help on function my_func1 in module __main__:\n",
      "\n",
      "my_func1(a: str, b: 'max of x and y' = 5) -> 'a repeated 5 times'\n",
      "\n"
     ]
    }
   ],
   "source": [
    "def my_func(a: int = 10, b: 'this should also be an int' = 20) -> int: \n",
    "    return a * b\n",
    "\n",
    "x, y = 3, 5\n",
    "def my_func1(a: str, b: 'max of x and y' = max(x, y)) -> f'a repeated {max(x, y)} times':\n",
    "    return a*b\n",
    "\n",
    "help(my_func)\n",
    "print('\\n')\n",
    "help(my_func1)"
   ]
  },
  {
   "cell_type": "code",
   "execution_count": 9,
   "metadata": {},
   "outputs": [],
   "source": []
  },
  {
   "cell_type": "code",
   "execution_count": null,
   "metadata": {},
   "outputs": [],
   "source": []
  }
 ],
 "metadata": {
  "kernelspec": {
   "display_name": "Python (data-analysis)",
   "language": "python",
   "name": "data-analysis"
  },
  "language_info": {
   "codemirror_mode": {
    "name": "ipython",
    "version": 3
   },
   "file_extension": ".py",
   "mimetype": "text/x-python",
   "name": "python",
   "nbconvert_exporter": "python",
   "pygments_lexer": "ipython3",
   "version": "3.8.6"
  }
 },
 "nbformat": 4,
 "nbformat_minor": 4
}
