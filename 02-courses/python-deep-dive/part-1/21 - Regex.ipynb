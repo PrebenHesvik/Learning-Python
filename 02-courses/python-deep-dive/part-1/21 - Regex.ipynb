{
 "cells": [
  {
   "cell_type": "markdown",
   "metadata": {
    "toc": "true"
   },
   "source": [
    "# Table of Contents\n",
    " <p>"
   ]
  },
  {
   "cell_type": "code",
   "execution_count": 2,
   "metadata": {},
   "outputs": [
    {
     "data": {
      "text/plain": [
       "'\\n. ^ $ * + ? { } [ ] \\\\ | ( )\\n'"
      ]
     },
     "execution_count": 2,
     "metadata": {},
     "output_type": "execute_result"
    }
   ],
   "source": [
    "# REGEX SYMBOLS\n",
    "'''\n",
    ".       - Any Character Except New Line\n",
    "\\d      - Digit (0-9)\n",
    "\\D      - Not a Digit (0-9)\n",
    "\\w      - Word Character (a-z, A-Z, 0-9, _)\n",
    "\\W      - Not a Word Character \n",
    "\\s      - Whitespace (space, tab, newline)\n",
    "\\S      - Not Whitespace (space, tab, newline)\n",
    "\n",
    "\\b      - Word Boundary\n",
    "\\B      - Not a Word Boundary\n",
    "^       - Beginning of a String\n",
    "$       - End of a String \n",
    "\n",
    "[]      - Matches Characters in brackets \n",
    "[^ ]    - Matches Characters NOT in brackets\n",
    "|       - Either Or\n",
    "( )     - Group \n",
    "\n",
    "Quantifiers: \n",
    "*       - 0 or More \n",
    "+       - 1 or More \n",
    "?       - 0 or One \n",
    "{3}     - Exact Number \n",
    "{3,4} - Range of Numbers (Minimum, Maximum)\n",
    "'''\n",
    "\n",
    "# Characters that need to be escaped:\n",
    "'''\n",
    ". ^ $ * + ? { } [ ] \\ | ( )\n",
    "'''"
   ]
  },
  {
   "cell_type": "code",
   "execution_count": 3,
   "metadata": {},
   "outputs": [],
   "source": [
    "import re"
   ]
  },
  {
   "cell_type": "code",
   "execution_count": 7,
   "metadata": {},
   "outputs": [
    {
     "name": "stdout",
     "output_type": "stream",
     "text": [
      "<re.Match object; span=(1, 11), match='944-28-507'>\n",
      "<re.Match object; span=(12, 22), match='915.66.824'>\n"
     ]
    }
   ],
   "source": [
    "number_sequence = '''\n",
    "944-28-507\n",
    "915.66.824\n",
    "845*72*358\n",
    "'''\n",
    "\n",
    "# Objective: Return the numbers with - or . within them.  \n",
    "pattern = re.compile(r'\\d{3}[.-]\\d{2}[.-]\\d{3}')\n",
    "# Note:\n",
    "    # Inside the character set [] we don't have to escape\\ anything but can if we want. \n",
    "# Other solutions:\n",
    " # r'\\d*[.-]\\d*[.-]\\d*'\n",
    " # r'\\d+[.-]\\d+[.-]\\d+'\n",
    "matches = pattern.finditer(number_sequence)\n",
    "for match in matches:\n",
    "    print(match)"
   ]
  },
  {
   "cell_type": "code",
   "execution_count": 23,
   "metadata": {},
   "outputs": [
    {
     "name": "stdout",
     "output_type": "stream",
     "text": [
      "<_sre.SRE_Match object; span=(34, 44), match='800-36-475'>\n",
      "<_sre.SRE_Match object; span=(45, 55), match='900-05-632'>\n"
     ]
    }
   ],
   "source": [
    "number_sequence = '''\n",
    "944-28-507\n",
    "915.66.824\n",
    "845*72*358\n",
    "800-36-475\n",
    "900-05-632\n",
    "'''\n",
    "\n",
    "# Objective: Return the 800 and 900 numbers:\n",
    "pattern = re.compile(r'[89]00[.-]\\d{2}[.-]\\d{3}')\n",
    "\n",
    "matches = pattern.finditer(number_sequence)\n",
    "for match in matches:\n",
    "    print(match)"
   ]
  },
  {
   "cell_type": "code",
   "execution_count": 26,
   "metadata": {},
   "outputs": [
    {
     "name": "stdout",
     "output_type": "stream",
     "text": [
      "<_sre.SRE_Match object; span=(6, 10), match='5301'>\n",
      "<_sre.SRE_Match object; span=(11, 15), match='5306'>\n",
      "<_sre.SRE_Match object; span=(16, 20), match='5325'>\n"
     ]
    }
   ],
   "source": [
    "postal_codes = '''\n",
    "4853\n",
    "5301\n",
    "5306\n",
    "5325\n",
    "5499\n",
    "3535\n",
    "'''\n",
    "# Objective: Return the postal numbers that start with 53\n",
    "pattern = re.compile(r'53\\d{2}')\n",
    "\n",
    "matches = pattern.finditer(postal_codes)\n",
    "for match in matches:\n",
    "    print(match)"
   ]
  },
  {
   "cell_type": "code",
   "execution_count": 30,
   "metadata": {},
   "outputs": [
    {
     "name": "stdout",
     "output_type": "stream",
     "text": [
      "<_sre.SRE_Match object; span=(1, 12), match='Mr. Schafer'>\n",
      "<_sre.SRE_Match object; span=(13, 21), match='Mr Smith'>\n",
      "<_sre.SRE_Match object; span=(22, 30), match='Ms Davis'>\n",
      "<_sre.SRE_Match object; span=(31, 44), match='Mrs. Robinson'>\n",
      "<_sre.SRE_Match object; span=(45, 50), match='Mr. T'>\n"
     ]
    }
   ],
   "source": [
    "names = '''\n",
    "Mr. Schafer\n",
    "Mr Smith\n",
    "Ms Davis\n",
    "Mrs. Robinson\n",
    "Mr. T\n",
    "'''\n",
    "# Objective: Return the postal numbers that start with 53\n",
    "pattern = re.compile(r'(Mr|Ms|Mrs)\\.?\\s[A-Z]\\w*')\n",
    "# Other solutions:\n",
    "    # r'M(r|s|rs)\\.?\\s[A-Z]\\w*'\n",
    "matches = pattern.finditer(names)\n",
    "for match in matches:\n",
    "    print(match)"
   ]
  },
  {
   "cell_type": "code",
   "execution_count": 37,
   "metadata": {},
   "outputs": [
    {
     "name": "stdout",
     "output_type": "stream",
     "text": [
      "<_sre.SRE_Match object; span=(1, 24), match='CoreyMSchafer@gmail.com'>\n",
      "<_sre.SRE_Match object; span=(25, 53), match='corey.schafer@university.edu'>\n",
      "<_sre.SRE_Match object; span=(54, 83), match='corey-321-schafer@my-work.net'>\n"
     ]
    }
   ],
   "source": [
    "emails = '''\n",
    "CoreyMSchafer@gmail.com\n",
    "corey.schafer@university.edu\n",
    "corey-321-schafer@my-work.net\n",
    "'''\n",
    "# Objective: Write an expression that matches the email addresses\n",
    "pattern = re.compile(r'[a-zA-Z0-9.-]+@[a-zA-Z-]+\\.(com|edu|net)')\n",
    "# generalize regex for email addresses\n",
    "r'[a-zA-Z0-9_.+-]+@[a-zA-Z0-9-]+\\.[a-zA-Z0-9-.]+'\n",
    "    \n",
    "matches = pattern.finditer(emails)\n",
    "for match in matches:\n",
    "    print(match)"
   ]
  },
  {
   "cell_type": "code",
   "execution_count": 50,
   "metadata": {},
   "outputs": [
    {
     "name": "stdout",
     "output_type": "stream",
     "text": [
      "https://www.google.com\n",
      "http://coreyms.com\n",
      "https://youtube.com\n",
      "https://www.nasa.gov\n"
     ]
    }
   ],
   "source": [
    "urls = '''\n",
    "https://www.google.com\n",
    "http://coreyms.com\n",
    "https://youtube.com\n",
    "https://www.nasa.gov\n",
    "'''\n",
    "# Objective: Return the postal numbers that start with 53\n",
    "pattern = re.compile(r'https?://(www.)?(\\w+)(\\.\\w+)')\n",
    "# Other solutions:\n",
    "r'https?://(w{3}.)+\\w+\\.\\w+'\n",
    "    \n",
    "matches = pattern.finditer(urls)\n",
    "for match in matches:\n",
    "    print(match[0])"
   ]
  },
  {
   "cell_type": "code",
   "execution_count": null,
   "metadata": {},
   "outputs": [],
   "source": []
  }
 ],
 "metadata": {
  "kernelspec": {
   "display_name": "Python 3",
   "language": "python",
   "name": "python3"
  },
  "language_info": {
   "codemirror_mode": {
    "name": "ipython",
    "version": 3
   },
   "file_extension": ".py",
   "mimetype": "text/x-python",
   "name": "python",
   "nbconvert_exporter": "python",
   "pygments_lexer": "ipython3",
   "version": "3.7.1"
  },
  "latex_envs": {
   "LaTeX_envs_menu_present": true,
   "autocomplete": true,
   "bibliofile": "biblio.bib",
   "cite_by": "apalike",
   "current_citInitial": 1,
   "eqLabelWithNumbers": true,
   "eqNumInitial": 1,
   "hotkeys": {
    "equation": "Ctrl-E",
    "itemize": "Ctrl-I"
   },
   "labels_anchors": false,
   "latex_user_defs": false,
   "report_style_numbering": false,
   "user_envs_cfg": false
  },
  "toc": {
   "colors": {
    "hover_highlight": "#DAA520",
    "navigate_num": "#000000",
    "navigate_text": "#333333",
    "running_highlight": "#FF0000",
    "selected_highlight": "#FFD700",
    "sidebar_border": "#EEEEEE",
    "wrapper_background": "#FFFFFF"
   },
   "moveMenuLeft": false,
   "navigate_menu": false,
   "number_sections": false,
   "sideBar": true,
   "threshold": "6",
   "toc_cell": true,
   "toc_section_display": "block",
   "toc_window_display": true,
   "widenNotebook": true
  }
 },
 "nbformat": 4,
 "nbformat_minor": 2
}
