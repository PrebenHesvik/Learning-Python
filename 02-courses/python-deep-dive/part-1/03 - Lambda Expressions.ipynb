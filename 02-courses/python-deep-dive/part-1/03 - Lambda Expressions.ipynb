{
 "cells": [
  {
   "cell_type": "markdown",
   "metadata": {},
   "source": [
    "##### syntax: lambda [parameter list]: expression"
   ]
  },
  {
   "cell_type": "code",
   "execution_count": 14,
   "metadata": {},
   "outputs": [
    {
     "name": "stdout",
     "output_type": "stream",
     "text": [
      "1000\n",
      "400\n"
     ]
    }
   ],
   "source": [
    "# Example 1\n",
    "my_func = lambda x=20, y=2: x**y\n",
    "print(my_func(10, 3))\n",
    "print(my_func())"
   ]
  },
  {
   "cell_type": "code",
   "execution_count": 4,
   "metadata": {},
   "outputs": [
    {
     "data": {
      "text/plain": [
       "9"
      ]
     },
     "execution_count": 4,
     "metadata": {},
     "output_type": "execute_result"
    }
   ],
   "source": [
    "# Example 2\n",
    "def apply_func(x, fn):\n",
    "    return fn(x)\n",
    "\n",
    "apply_func(3, lambda x: x**2)"
   ]
  },
  {
   "cell_type": "code",
   "execution_count": 13,
   "metadata": {},
   "outputs": [
    {
     "data": {
      "text/plain": [
       "['PREBEN', 'MADS', 'BREDE']"
      ]
     },
     "execution_count": 13,
     "metadata": {},
     "output_type": "execute_result"
    }
   ],
   "source": [
    "# Example 3:\n",
    "names = ['Preben', 'Mads', 'Brede']\n",
    "upper = lambda l: [x.upper() for x in l]\n",
    "\n",
    "upper(names)"
   ]
  },
  {
   "cell_type": "markdown",
   "metadata": {},
   "source": [
    "#### Lambdas and Sorting"
   ]
  },
  {
   "cell_type": "code",
   "execution_count": 16,
   "metadata": {},
   "outputs": [
    {
     "name": "stdout",
     "output_type": "stream",
     "text": [
      "['B', 'D', 'a', 'c']\n",
      "['a', 'B', 'c', 'D']\n"
     ]
    }
   ],
   "source": [
    "# Example 1\n",
    "l = ['c', 'B', 'D', 'a']\n",
    "\n",
    "s1 = sorted(l)\n",
    "s2 = sorted(l, key=lambda s: s.upper())\n",
    "print(s1)\n",
    "print(s2)"
   ]
  },
  {
   "cell_type": "code",
   "execution_count": 22,
   "metadata": {},
   "outputs": [
    {
     "name": "stdout",
     "output_type": "stream",
     "text": [
      "['abc', 'def', 'ghi']\n",
      "['ghi', 'abc', 'def']\n"
     ]
    }
   ],
   "source": [
    "# Example 2\n",
    "d = {'abc': 200, 'def': 300, 'ghi': 100}\n",
    "\n",
    "# Sorts by dict keys\n",
    "s1 = sorted(d)\n",
    "\n",
    "# Sort by the dict values\n",
    "s2 = sorted(d, key=lambda e: d[e])\n",
    "\n",
    "print(s1)\n",
    "print(s2)"
   ]
  },
  {
   "cell_type": "code",
   "execution_count": 24,
   "metadata": {},
   "outputs": [
    {
     "data": {
      "text/plain": [
       "['Cleese', 'Idle', 'Gilliam', 'Palin', 'Chapman', 'Jones']"
      ]
     },
     "execution_count": 24,
     "metadata": {},
     "output_type": "execute_result"
    }
   ],
   "source": [
    "# Example 3: sort by the last character\n",
    "l = ['Cleese', 'Idle', 'Palin', 'Chapman', 'Gilliam', 'Jones']\n",
    "sorted(l, key=lambda e: e[-1])"
   ]
  },
  {
   "cell_type": "code",
   "execution_count": null,
   "metadata": {},
   "outputs": [],
   "source": []
  }
 ],
 "metadata": {
  "kernelspec": {
   "display_name": "Python (data-analysis)",
   "language": "python",
   "name": "data-analysis"
  },
  "language_info": {
   "codemirror_mode": {
    "name": "ipython",
    "version": 3
   },
   "file_extension": ".py",
   "mimetype": "text/x-python",
   "name": "python",
   "nbconvert_exporter": "python",
   "pygments_lexer": "ipython3",
   "version": "3.8.6"
  }
 },
 "nbformat": 4,
 "nbformat_minor": 4
}
