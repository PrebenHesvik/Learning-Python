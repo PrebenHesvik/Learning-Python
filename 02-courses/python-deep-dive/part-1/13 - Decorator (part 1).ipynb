{
 "cells": [
  {
   "cell_type": "markdown",
   "metadata": {},
   "source": [
    "## Decorators\n",
    "#### In general a decorator function:\n",
    "- takes a function as an argument\n",
    "- returns a closure\n",
    "- the closure usually accepts any combination of parameters\n",
    "- runs some code in the inner function (closure)\n",
    "- the closure function calls the original function using the arguments passed to the closure\n",
    "- returns whatever is returned by that function call"
   ]
  },
  {
   "cell_type": "code",
   "execution_count": 1,
   "metadata": {},
   "outputs": [
    {
     "name": "stdout",
     "output_type": "stream",
     "text": [
      "Function add has been called 1 times - result:  15\n",
      "Function add has been called 2 times - result:  150\n",
      "Function mult has been called 1 times - result:  30\n"
     ]
    }
   ],
   "source": [
    "from functools import wraps\n",
    "\n",
    "def counter(fn):\n",
    "    count = 0\n",
    "\n",
    "    @wraps(fn) # we use wraps to decorate the inner function to retain the metadate of fn\n",
    "    def inner(*args, **kwargs):\n",
    "        nonlocal count\n",
    "        count += 1\n",
    "        print(f'Function {fn.__name__} has been called {count} times - result: ', end=' ')\n",
    "        return fn(*args, **kwargs)\n",
    "    \n",
    "    # If not using wraps we could do this instead to retain the metadato of fn:\n",
    "    # inner.__name__ = fn.__name__\n",
    "    # inner.__doc__ = fn.__doc__\n",
    "    \n",
    "    return inner\n",
    "\n",
    "@counter\n",
    "def add(a:int, b:int = 0) -> int:\n",
    "    \"\"\"Adds to values\"\"\"\n",
    "    return a + b\n",
    "\n",
    "@counter\n",
    "def mult(a: int, b: int, c: int = 1, *, d) -> int:\n",
    "    \"\"\"Multiplies four values\"\"\"\n",
    "    return a * b * c *d\n",
    "\n",
    "\n",
    "print(add(a=5, b=10))\n",
    "print(add(a=50, b=100))\n",
    "print(mult(1, 2, 3, d=5))"
   ]
  },
  {
   "cell_type": "code",
   "execution_count": 26,
   "metadata": {},
   "outputs": [],
   "source": [
    "def add10(func):\n",
    "    def wrapper(n):\n",
    "        return func(n) + 10\n",
    "    return wrapper"
   ]
  },
  {
   "cell_type": "code",
   "execution_count": 27,
   "metadata": {},
   "outputs": [
    {
     "output_type": "execute_result",
     "data": {
      "text/plain": [
       "110"
      ]
     },
     "metadata": {},
     "execution_count": 27
    }
   ],
   "source": [
    "@add10\n",
    "def square(n):\n",
    "    return n**2\n",
    "\n",
    "square(10)"
   ]
  },
  {
   "source": [
    "yields the same result as..."
   ],
   "cell_type": "markdown",
   "metadata": {}
  },
  {
   "cell_type": "code",
   "execution_count": 33,
   "metadata": {},
   "outputs": [
    {
     "output_type": "execute_result",
     "data": {
      "text/plain": [
       "110"
      ]
     },
     "metadata": {},
     "execution_count": 33
    }
   ],
   "source": [
    "def add10(func):\n",
    "    def wrapper(n):\n",
    "        return func(n) + 10\n",
    "    return wrapper\n",
    "\n",
    "def square(n):\n",
    "    return n**2\n",
    "add10(square)(10)"
   ]
  },
  {
   "cell_type": "code",
   "execution_count": 36,
   "metadata": {},
   "outputs": [
    {
     "output_type": "stream",
     "name": "stdout",
     "text": [
      "<function add10.<locals>.wrapper at 0x0000027315559C10>\n"
     ]
    },
    {
     "output_type": "execute_result",
     "data": {
      "text/plain": [
       "110"
      ]
     },
     "metadata": {},
     "execution_count": 36
    }
   ],
   "source": [
    "fn = add10(square)\n",
    "print(fn)\n",
    "\n",
    "# now we can call fn\n",
    "fn(10)"
   ]
  },
  {
   "source": [
    "Stacking decorators like this..."
   ],
   "cell_type": "markdown",
   "metadata": {}
  },
  {
   "cell_type": "code",
   "execution_count": 37,
   "metadata": {},
   "outputs": [
    {
     "output_type": "execute_result",
     "data": {
      "text/plain": [
       "120"
      ]
     },
     "metadata": {},
     "execution_count": 37
    }
   ],
   "source": [
    "def add10(func):\n",
    "    def wrapper(n):\n",
    "        return func(n) + 10\n",
    "    return wrapper\n",
    "\n",
    "@add10\n",
    "@add10\n",
    "def square(n):\n",
    "    return n**2\n",
    "\n",
    "square(10)"
   ]
  },
  {
   "source": [
    "yields the same result as..."
   ],
   "cell_type": "markdown",
   "metadata": {}
  },
  {
   "cell_type": "code",
   "execution_count": 40,
   "metadata": {},
   "outputs": [
    {
     "output_type": "execute_result",
     "data": {
      "text/plain": [
       "120"
      ]
     },
     "metadata": {},
     "execution_count": 40
    }
   ],
   "source": [
    "def add10(func):\n",
    "    def wrapper(n):\n",
    "        return func(n) + 10\n",
    "    return wrapper\n",
    "\n",
    "def square(n):\n",
    "    return n**2\n",
    "add10(add10(square))(10)"
   ]
  },
  {
   "source": [
    "### Decorators with arguments"
   ],
   "cell_type": "markdown",
   "metadata": {}
  },
  {
   "cell_type": "code",
   "execution_count": 4,
   "metadata": {},
   "outputs": [],
   "source": [
    "# a decorator factory that takes one argument\n",
    "def add(increment):\n",
    "    def decorator(func):\n",
    "        def wrapper(n):\n",
    "            return func(n) + increment\n",
    "        return wrapper\n",
    "    return decorator"
   ]
  },
  {
   "cell_type": "code",
   "execution_count": 21,
   "metadata": {},
   "outputs": [
    {
     "output_type": "execute_result",
     "data": {
      "text/plain": [
       "102"
      ]
     },
     "metadata": {},
     "execution_count": 21
    }
   ],
   "source": [
    "@add(2)\n",
    "def square(n):\n",
    "    return n**2\n",
    "\n",
    "square(10)"
   ]
  },
  {
   "source": [
    "has the same effect as..."
   ],
   "cell_type": "markdown",
   "metadata": {}
  },
  {
   "cell_type": "code",
   "execution_count": 22,
   "metadata": {},
   "outputs": [
    {
     "output_type": "execute_result",
     "data": {
      "text/plain": [
       "102"
      ]
     },
     "metadata": {},
     "execution_count": 22
    }
   ],
   "source": [
    "add2 = add(2)\n",
    "@add2\n",
    "def square(n):\n",
    "    return n**2\n",
    "\n",
    "square(10)"
   ]
  },
  {
   "source": [
    "has the same effect as"
   ],
   "cell_type": "markdown",
   "metadata": {}
  },
  {
   "cell_type": "code",
   "execution_count": 23,
   "metadata": {},
   "outputs": [
    {
     "output_type": "execute_result",
     "data": {
      "text/plain": [
       "102"
      ]
     },
     "metadata": {},
     "execution_count": 23
    }
   ],
   "source": [
    "def square(n):\n",
    "    return n**2\n",
    "\n",
    "my_fn = add(2)(square)\n",
    "my_fn(10)"
   ]
  },
  {
   "cell_type": "code",
   "execution_count": null,
   "metadata": {},
   "outputs": [],
   "source": []
  }
 ],
 "metadata": {
  "file_extension": ".py",
  "kernelspec": {
   "name": "python3",
   "display_name": "Python 3.8.6 64-bit ('data-analysis': conda)"
  },
  "language_info": {
   "codemirror_mode": {
    "name": "ipython",
    "version": 3
   },
   "file_extension": ".py",
   "mimetype": "text/x-python",
   "name": "python",
   "nbconvert_exporter": "python",
   "pygments_lexer": "ipython3",
   "version": "3.8.6"
  },
  "mimetype": "text/x-python",
  "name": "python",
  "npconvert_exporter": "python",
  "pygments_lexer": "ipython3",
  "version": 3,
  "interpreter": {
   "hash": "28042f938f6b69635c97f52b7627295b3fdea7e05cc2e1626e84e0b3e6b24cfb"
  }
 },
 "nbformat": 4,
 "nbformat_minor": 2
}