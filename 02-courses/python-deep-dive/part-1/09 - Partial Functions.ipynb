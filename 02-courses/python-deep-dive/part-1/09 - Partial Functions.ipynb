{
 "cells": [
  {
   "cell_type": "code",
   "execution_count": 1,
   "metadata": {},
   "outputs": [],
   "source": [
    "from functools import partial"
   ]
  },
  {
   "cell_type": "code",
   "execution_count": 6,
   "metadata": {},
   "outputs": [
    {
     "name": "stdout",
     "output_type": "stream",
     "text": [
      "a=10, b=20, args=(30, 40), k1=30, k2=40, kwargs={'kw3': 50}\n"
     ]
    }
   ],
   "source": [
    "def my_func(a, b, *args, kw1, kw2, **kwargs):\n",
    "    print(f'a={a}, b={b}, args={args}, k1={kw1}, k2={kw2}, kwargs={kwargs}')\n",
    "\n",
    "f = partial(my_func, 10, kw1=30)\n",
    "f(20, 30, 40, kw2=40, kw3=50)"
   ]
  },
  {
   "cell_type": "code",
   "execution_count": 7,
   "metadata": {},
   "outputs": [
    {
     "name": "stdout",
     "output_type": "stream",
     "text": [
      "25\n",
      "125\n"
     ]
    }
   ],
   "source": [
    "def pow(base, exponent):\n",
    "    return base ** exponent\n",
    "\n",
    "sq = partial(pow, exponent=2)\n",
    "cube = partial(pow, exponent=3)\n",
    "\n",
    "print(sq(5))\n",
    "print(cube(5))"
   ]
  },
  {
   "cell_type": "code",
   "execution_count": 11,
   "metadata": {},
   "outputs": [
    {
     "data": {
      "text/plain": [
       "[(0, 0), (1, 1), (0, 2), (-3, 2), (10, 10)]"
      ]
     },
     "execution_count": 11,
     "metadata": {},
     "output_type": "execute_result"
    }
   ],
   "source": [
    "# Example 3: Sort list based on  distance from origin (Cartesian product)\n",
    "origin = (0, 0)\n",
    "l = [(1, 1), (0, 2), (-3, 2), (0, 0), (10, 10)]\n",
    "# calc distance using cartesian product\n",
    "dist2 = lambda a, b: (a[0] - b[0])**2 + (a[1] - b[1])** 2\n",
    "f = partial(dist2, origin)\n",
    "sorted(l, key=f)"
   ]
  },
  {
   "cell_type": "code",
   "execution_count": null,
   "metadata": {},
   "outputs": [],
   "source": []
  }
 ],
 "metadata": {
  "kernelspec": {
   "display_name": "Python (data-analysis)",
   "language": "python",
   "name": "data-analysis"
  },
  "language_info": {
   "codemirror_mode": {
    "name": "ipython",
    "version": 3
   },
   "file_extension": ".py",
   "mimetype": "text/x-python",
   "name": "python",
   "nbconvert_exporter": "python",
   "pygments_lexer": "ipython3",
   "version": "3.8.6"
  }
 },
 "nbformat": 4,
 "nbformat_minor": 4
}
