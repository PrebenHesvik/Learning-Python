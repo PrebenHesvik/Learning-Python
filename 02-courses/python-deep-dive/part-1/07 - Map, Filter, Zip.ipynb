{
 "cells": [
  {
   "cell_type": "markdown",
   "metadata": {},
   "source": [
    "#### Higher order function\n",
    "A function that takes a function as a parameter and/or returns a function as its return value\n",
    "<br><br>\n",
    "map(func, *iterables)\n",
    "\n",
    "`*iterables`: a variable number of iterable objects <br>\n",
    "`func`: some function that takes as many arguments as there are iterbale objects passed to iterable <br>\n",
    "`returns` an iterator that calculates the function applied to each element of the iterables"
   ]
  },
  {
   "cell_type": "code",
   "execution_count": 1,
   "metadata": {},
   "outputs": [
    {
     "name": "stdout",
     "output_type": "stream",
     "text": [
      "<class 'map'>\n",
      "[4, 9, 16]\n"
     ]
    }
   ],
   "source": [
    "# Example 1\n",
    "\n",
    "def sq(x):\n",
    "    return x**2\n",
    "\n",
    "m = map(sq, l)\n",
    "print(type(m))\n",
    "print(list(m))"
   ]
  },
  {
   "cell_type": "code",
   "execution_count": 2,
   "metadata": {},
   "outputs": [
    {
     "data": {
      "text/plain": [
       "[4, 9, 16]"
      ]
     },
     "execution_count": 2,
     "metadata": {},
     "output_type": "execute_result"
    }
   ],
   "source": [
    "# Example 2\n",
    "l = [2, 3, 4]\n",
    "list(map(lambda x: x**2, l))"
   ]
  },
  {
   "cell_type": "code",
   "execution_count": 3,
   "metadata": {},
   "outputs": [
    {
     "data": {
      "text/plain": [
       "[10, 60, 180]"
      ]
     },
     "execution_count": 3,
     "metadata": {},
     "output_type": "execute_result"
    }
   ],
   "source": [
    "# Example 3: multiply each value in l1 with\n",
    "# the corresponding value in l2\n",
    "l1 = [1, 3, 6]\n",
    "l2 = [10, 20, 30]\n",
    "list(map(lambda x, y: x*y, l1, l2))"
   ]
  },
  {
   "cell_type": "markdown",
   "metadata": {},
   "source": [
    "### The `Filter` function\n",
    "filter(func, iterable) <br><br>\n",
    "`iterable`: a single iterable<br>\n",
    "`func`: some function that takes a single argument\n",
    "\n",
    "`filter`(func, iterable) with then return an `iterator` that contains all the elements of the iterable for which the function called on it is truthy <br><br>\n",
    "If the function is `None`, it simply returns the elements of the iterable that are `Truthy`"
   ]
  },
  {
   "cell_type": "code",
   "execution_count": 10,
   "metadata": {},
   "outputs": [
    {
     "data": {
      "text/plain": [
       "[0, 2, 4, 6]"
      ]
     },
     "execution_count": 10,
     "metadata": {},
     "output_type": "execute_result"
    }
   ],
   "source": [
    "# Example 1: Filter out odd numbers\n",
    "def is_even(n):\n",
    "    return n % 2 == 0\n",
    "\n",
    "l = [0, 1, 2, 3, 4, 5, 6]\n",
    "list(filter(is_even, l))"
   ]
  },
  {
   "cell_type": "code",
   "execution_count": 11,
   "metadata": {},
   "outputs": [
    {
     "data": {
      "text/plain": [
       "[1, 3, 5]"
      ]
     },
     "execution_count": 11,
     "metadata": {},
     "output_type": "execute_result"
    }
   ],
   "source": [
    "# Example 2: filter out even values\n",
    "l = [0, 1, 2, 3, 4, 5, 6]\n",
    "list(filter(lambda n: n % 2 != 0, l))"
   ]
  },
  {
   "cell_type": "markdown",
   "metadata": {},
   "source": [
    "### Combining `map` and `filter`"
   ]
  },
  {
   "cell_type": "code",
   "execution_count": 13,
   "metadata": {},
   "outputs": [
    {
     "data": {
      "text/plain": [
       "[0, 1, 4, 9, 16]"
      ]
     },
     "execution_count": 13,
     "metadata": {},
     "output_type": "execute_result"
    }
   ],
   "source": [
    "list(filter(lambda y: y < 25, map(lambda x: x**2, range(10))))"
   ]
  },
  {
   "cell_type": "code",
   "execution_count": null,
   "metadata": {},
   "outputs": [],
   "source": []
  }
 ],
 "metadata": {
  "kernelspec": {
   "display_name": "Python (data-analysis)",
   "language": "python",
   "name": "data-analysis"
  },
  "language_info": {
   "codemirror_mode": {
    "name": "ipython",
    "version": 3
   },
   "file_extension": ".py",
   "mimetype": "text/x-python",
   "name": "python",
   "nbconvert_exporter": "python",
   "pygments_lexer": "ipython3",
   "version": "3.8.6"
  }
 },
 "nbformat": 4,
 "nbformat_minor": 4
}
