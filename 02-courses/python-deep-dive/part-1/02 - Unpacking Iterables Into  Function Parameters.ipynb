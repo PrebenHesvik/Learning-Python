{
 "cells": [
  {
   "cell_type": "code",
   "execution_count": 7,
   "metadata": {},
   "outputs": [
    {
     "name": "stdout",
     "output_type": "stream",
     "text": [
      "a=10, b=20, args=(30, 40)\n"
     ]
    }
   ],
   "source": [
    "def func0(a, b, *args):\n",
    "    print(f'a={a}, b={b}, args={args}')\n",
    "\n",
    "func0(10, 20, 30, 40)"
   ]
  },
  {
   "cell_type": "code",
   "execution_count": 1,
   "metadata": {},
   "outputs": [
    {
     "name": "stdout",
     "output_type": "stream",
     "text": [
      "a=10, b=20, c=30\n"
     ]
    }
   ],
   "source": [
    "def func1(a, b, c):\n",
    "    print(f'a={a}, b={b}, c={c}')\n",
    "\n",
    "l = [10, 20, 30]\n",
    "func1(*l)"
   ]
  },
  {
   "cell_type": "markdown",
   "metadata": {},
   "source": [
    "#### Mandatory Positional Arguments"
   ]
  },
  {
   "cell_type": "code",
   "execution_count": 17,
   "metadata": {},
   "outputs": [
    {
     "name": "stdout",
     "output_type": "stream",
     "text": [
      "a=10, b=20, args=(30, 40), d=50\n"
     ]
    }
   ],
   "source": [
    "# * exhausts the remaining positional arguments, \n",
    "# so all subsequent args must be keyword args\n",
    "def func3(a, b, *args, d):\n",
    "    print(f'a={a}, b={b}, args={args}, d={d}')\n",
    "    \n",
    "func3(10, 20, 30, 40, d=50)"
   ]
  },
  {
   "cell_type": "markdown",
   "metadata": {},
   "source": [
    "#### Omitting Any Mandatory Positional Arguments"
   ]
  },
  {
   "cell_type": "code",
   "execution_count": 18,
   "metadata": {},
   "outputs": [
    {
     "name": "stdout",
     "output_type": "stream",
     "text": [
      "args=(), d=50\n"
     ]
    }
   ],
   "source": [
    "def func4(*args, d):\n",
    "    \"\"\"Ommitting any mandatory positional args\"\"\"\n",
    "    print(f'args={args}, d={d}')\n",
    "\n",
    "func4(d=50)"
   ]
  },
  {
   "cell_type": "markdown",
   "metadata": {},
   "source": [
    "#### Forcing No Positional Arguments"
   ]
  },
  {
   "cell_type": "code",
   "execution_count": 23,
   "metadata": {},
   "outputs": [
    {
     "name": "stdout",
     "output_type": "stream",
     "text": [
      "d=50\n"
     ]
    }
   ],
   "source": [
    "def func4(*, d):\n",
    "    print(f'd={d}')\n",
    "\n",
    "func4(d=50)"
   ]
  },
  {
   "cell_type": "markdown",
   "metadata": {},
   "source": [
    "#### Using **kwargs"
   ]
  },
  {
   "cell_type": "code",
   "execution_count": 27,
   "metadata": {},
   "outputs": [
    {
     "name": "stdout",
     "output_type": "stream",
     "text": [
      "{'a': 10, 'kwargs': {'b': 20, 'c': 30}}\n",
      "{'args': (56, 40), 'kwargs': {'name1': 'John', 'name2': 'Peter'}}\n"
     ]
    }
   ],
   "source": [
    "def func5(*, a, **kwargs):\n",
    "    print(locals())\n",
    "    \n",
    "def func6(*args,**kwargs):\n",
    "    print(locals())\n",
    "\n",
    "func5(a=10, b=20, c=30)\n",
    "func6(56, 40, name1='John', name2='Peter')"
   ]
  },
  {
   "cell_type": "code",
   "execution_count": 28,
   "metadata": {},
   "outputs": [
    {
     "name": "stdout",
     "output_type": "stream",
     "text": [
      "{'a': 10, 'b': 20, 'd': 50, 'args': (30, 40), 'kwargs': {'e': 60, 'f': 70}}\n"
     ]
    }
   ],
   "source": [
    "def func7(a, b, *args, d, **kwargs):\n",
    "    print(locals())\n",
    "\n",
    "func7(10, 20, 30, 40, d=50, e=60, f=70)"
   ]
  },
  {
   "cell_type": "code",
   "execution_count": null,
   "metadata": {},
   "outputs": [],
   "source": []
  }
 ],
 "metadata": {
  "kernelspec": {
   "display_name": "Python (data-analysis)",
   "language": "python",
   "name": "data-analysis"
  },
  "language_info": {
   "codemirror_mode": {
    "name": "ipython",
    "version": 3
   },
   "file_extension": ".py",
   "mimetype": "text/x-python",
   "name": "python",
   "nbconvert_exporter": "python",
   "pygments_lexer": "ipython3",
   "version": "3.8.6"
  }
 },
 "nbformat": 4,
 "nbformat_minor": 4
}
