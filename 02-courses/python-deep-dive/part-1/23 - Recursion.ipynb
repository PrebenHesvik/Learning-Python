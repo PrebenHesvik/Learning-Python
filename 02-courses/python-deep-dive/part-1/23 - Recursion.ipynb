{
 "cells": [
  {
   "cell_type": "code",
   "execution_count": 2,
   "metadata": {},
   "outputs": [
    {
     "data": {
      "text/plain": [
       "120"
      ]
     },
     "execution_count": 2,
     "metadata": {},
     "output_type": "execute_result"
    }
   ],
   "source": [
    "def factorial_loop(n):\n",
    "    \"\"\"Iterative algoritm\"\"\"\n",
    "    factorial = 1\n",
    "    for i in range(1, n + 1):\n",
    "        factorial = factorial * i\n",
    "    return factorial\n",
    "\n",
    "factorial_loop(5)"
   ]
  },
  {
   "cell_type": "markdown",
   "metadata": {},
   "source": [
    "### Recursive algorithm\n",
    "- A recursive function breaks the problem down into smaller problems, and calls itself for each of the smaller problems.\n",
    "- It includes a base case (or a terminal case) and a recursive case <br><br>\n",
    "\n",
    "### Pros\n",
    "- In some cases, extremly fast and easy to code. Extremely practical for tree traversals and binary search. <br><br>\n",
    "\n",
    "### Cons\n",
    "- Does not scale up like iteration. Requires more memory\n",
    "- In many languages, iterative solutions are way faster\n",
    "- Sometimes more abstract or harder to understand than iterative solutions  <br><br>\n",
    "\n",
    "\n",
    "#### Factorial\n",
    "- !5 = 5 * 4 * 3 * 2 * 1\n",
    "- !5 = 5 * !4"
   ]
  },
  {
   "cell_type": "code",
   "execution_count": 3,
   "metadata": {},
   "outputs": [],
   "source": [
    "def factorial_recursive(n):\n",
    "    if n < 2:\n",
    "        return 1\n",
    "    else:\n",
    "        return n * factorial_recursive(n-1)"
   ]
  },
  {
   "cell_type": "code",
   "execution_count": 5,
   "metadata": {},
   "outputs": [
    {
     "data": {
      "text/plain": [
       "6"
      ]
     },
     "execution_count": 5,
     "metadata": {},
     "output_type": "execute_result"
    }
   ],
   "source": [
    "factorial_recursive(3)"
   ]
  },
  {
   "cell_type": "markdown",
   "metadata": {},
   "source": [
    "func returns 5 * 24\n",
    "func2 returns 4 * 6\n",
    "func3 returns 3 * 2\n",
    "func4 returns 2 * 1\n",
    "func5 returns 1"
   ]
  }
 ],
 "metadata": {
  "kernelspec": {
   "display_name": "Python (data-analysis)",
   "language": "python",
   "name": "data-analysis"
  },
  "language_info": {
   "codemirror_mode": {
    "name": "ipython",
    "version": 3
   },
   "file_extension": ".py",
   "mimetype": "text/x-python",
   "name": "python",
   "nbconvert_exporter": "python",
   "pygments_lexer": "ipython3",
   "version": "3.8.6"
  }
 },
 "nbformat": 4,
 "nbformat_minor": 4
}
