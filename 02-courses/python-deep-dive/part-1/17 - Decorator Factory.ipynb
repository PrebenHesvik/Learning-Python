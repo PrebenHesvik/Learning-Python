{
 "cells": [
  {
   "cell_type": "markdown",
   "metadata": {},
   "source": [
    "### Just a regular decorator first"
   ]
  },
  {
   "cell_type": "code",
   "execution_count": 3,
   "metadata": {},
   "outputs": [
    {
     "name": "stdout",
     "output_type": "stream",
     "text": [
      "Run time  0.002842s\n"
     ]
    },
    {
     "data": {
      "text/plain": [
       "6765"
      ]
     },
     "execution_count": 3,
     "metadata": {},
     "output_type": "execute_result"
    }
   ],
   "source": [
    "def timed(fn):\n",
    "    from time import perf_counter\n",
    "\n",
    "    def inner(*args, **kwargs):\n",
    "        start = perf_counter()\n",
    "        result = fn(*args, **kwargs)\n",
    "        end = perf_counter()\n",
    "        elapsed = end - start\n",
    "        print(f'Run time {elapsed: .6f}s')\n",
    "        return result\n",
    "    return inner\n",
    "\n",
    "\n",
    "def calc_fib_recurse(n):\n",
    "    return 1 if n < 3 else calc_fib_recurse(n-2) + calc_fib_recurse(n-1)\n",
    "\n",
    "@timed\n",
    "def fib(n):\n",
    "    return calc_fib_recurse(n)\n",
    "\n",
    "fib(20)"
   ]
  },
  {
   "cell_type": "markdown",
   "metadata": {},
   "source": [
    "### Second iteration - run multiple time tests"
   ]
  },
  {
   "cell_type": "code",
   "execution_count": 8,
   "metadata": {},
   "outputs": [
    {
     "name": "stdout",
     "output_type": "stream",
     "text": [
      "Avg Run time  0.127316s\n"
     ]
    },
    {
     "data": {
      "text/plain": [
       "317811"
      ]
     },
     "execution_count": 8,
     "metadata": {},
     "output_type": "execute_result"
    }
   ],
   "source": [
    "def timed(fn):\n",
    "    from time import perf_counter\n",
    "\n",
    "    \n",
    "    def inner(*args, **kwargs):\n",
    "        total_elapsed = 0\n",
    "        for i in range(10):\n",
    "            start = perf_counter()\n",
    "            result = fn(*args, **kwargs)\n",
    "            end = perf_counter()\n",
    "            total_elapsed += (end - start)\n",
    "        avg_run_time = total_elapsed / 10\n",
    "        print(f'Avg Run time {avg_run_time: .6f}s')\n",
    "        return result\n",
    "    return inner\n",
    "\n",
    "\n",
    "def calc_fib_recurse(n):\n",
    "    return 1 if n < 3 else calc_fib_recurse(n-2) + calc_fib_recurse(n-1)\n",
    "\n",
    "@timed\n",
    "def fib(n):\n",
    "    return calc_fib_recurse(n)\n",
    "\n",
    "fib(28)"
   ]
  },
  {
   "cell_type": "markdown",
   "metadata": {},
   "source": [
    "### Third iteration - include function parameter for number of times the test should run"
   ]
  },
  {
   "cell_type": "code",
   "execution_count": 14,
   "metadata": {},
   "outputs": [
    {
     "name": "stdout",
     "output_type": "stream",
     "text": [
      "Avg Run time  0.125819s (10 repetitions)\n"
     ]
    },
    {
     "data": {
      "text/plain": [
       "317811"
      ]
     },
     "execution_count": 14,
     "metadata": {},
     "output_type": "execute_result"
    }
   ],
   "source": [
    "def timed(fn, reps):\n",
    "    from time import perf_counter\n",
    "\n",
    "    \n",
    "    def inner(*args, **kwargs):\n",
    "        total_elapsed = 0\n",
    "        for i in range(reps):\n",
    "            start = perf_counter()\n",
    "            result = fn(*args, **kwargs)\n",
    "            end = perf_counter()\n",
    "            total_elapsed += (end - start)\n",
    "        \n",
    "        print(f'Avg Run time {total_elapsed/reps: .6f}s ({reps} repetitions)')\n",
    "        return result\n",
    "    return inner\n",
    "\n",
    "\n",
    "def calc_fib_recurse(n):\n",
    "    return 1 if n < 3 else calc_fib_recurse(n-2) + calc_fib_recurse(n-1)\n",
    "\n",
    "\n",
    "def fib(n):\n",
    "    return calc_fib_recurse(n)\n",
    "\n",
    "\n",
    "# When we do it this way we can no longer use @timed but\n",
    "# instead have to decorate the function this way\n",
    "fib = timed(fib, 10)\n",
    "\n",
    "\n",
    "fib(28)"
   ]
  },
  {
   "cell_type": "markdown",
   "metadata": {},
   "source": [
    "### Fourth iteration - include function parameter and be able to use the @-syntax by using a decorator factory"
   ]
  },
  {
   "cell_type": "code",
   "execution_count": 17,
   "metadata": {},
   "outputs": [
    {
     "name": "stdout",
     "output_type": "stream",
     "text": [
      "Avg Run time  0.130569s (10 repetitions)\n"
     ]
    },
    {
     "data": {
      "text/plain": [
       "317811"
      ]
     },
     "execution_count": 17,
     "metadata": {},
     "output_type": "execute_result"
    }
   ],
   "source": [
    "def dec_factory(reps):\n",
    "    def timed(fn):\n",
    "        from time import perf_counter\n",
    "\n",
    "        def inner(*args, **kwargs):\n",
    "            total_elapsed = 0\n",
    "            for i in range(reps):\n",
    "                start = perf_counter()\n",
    "                result = fn(*args, **kwargs)\n",
    "                end = perf_counter()\n",
    "                total_elapsed += (end - start)\n",
    "            \n",
    "            print(f'Avg Run time {total_elapsed/reps: .6f}s ({reps} repetitions)')\n",
    "            return result\n",
    "        return inner\n",
    "    return timed\n",
    "\n",
    "\n",
    "def calc_fib_recurse(n):\n",
    "    return 1 if n < 3 else calc_fib_recurse(n-2) + calc_fib_recurse(n-1)\n",
    "\n",
    "\n",
    "# by using an outer function to pass the argument we can use the @-syntax\n",
    "@dec_factory(10)\n",
    "def fib(n):\n",
    "    return calc_fib_recurse(n)\n",
    "\n",
    "\n",
    "\n",
    "fib(28)"
   ]
  },
  {
   "cell_type": "markdown",
   "metadata": {},
   "source": [
    "### Fith iteration - change the function names"
   ]
  },
  {
   "cell_type": "code",
   "execution_count": 18,
   "metadata": {},
   "outputs": [
    {
     "name": "stdout",
     "output_type": "stream",
     "text": [
      "Avg Run time  0.139871s (10 repetitions)\n"
     ]
    },
    {
     "data": {
      "text/plain": [
       "317811"
      ]
     },
     "execution_count": 18,
     "metadata": {},
     "output_type": "execute_result"
    }
   ],
   "source": [
    "def timed(reps):\n",
    "    \n",
    "    def wrapper(fn):\n",
    "        from time import perf_counter\n",
    "\n",
    "        def inner(*args, **kwargs):\n",
    "            total_elapsed = 0\n",
    "            for i in range(reps):\n",
    "                start = perf_counter()\n",
    "                result = fn(*args, **kwargs)\n",
    "                end = perf_counter()\n",
    "                total_elapsed += (end - start)\n",
    "            \n",
    "            print(f'Avg Run time {total_elapsed/reps: .6f}s ({reps} repetitions)')\n",
    "            return result\n",
    "        \n",
    "        return inner\n",
    "    \n",
    "    return wrapper\n",
    "\n",
    "\n",
    "def calc_fib_recurse(n):\n",
    "    return 1 if n < 3 else calc_fib_recurse(n-2) + calc_fib_recurse(n-1)\n",
    "\n",
    "\n",
    "# by using an outer function to pass the argument we can use the @-syntax\n",
    "@timed(10)\n",
    "def fib(n):\n",
    "    return calc_fib_recurse(n)\n",
    "\n",
    "\n",
    "\n",
    "fib(28)"
   ]
  },
  {
   "cell_type": "code",
   "execution_count": null,
   "metadata": {},
   "outputs": [],
   "source": [
    "class MyClass:\n",
    "    def __init__(self, name):\n",
    "        self.name = name"
   ]
  }
 ],
 "metadata": {
  "file_extension": ".py",
  "kernelspec": {
   "display_name": "Python 3",
   "language": "python",
   "name": "python3"
  },
  "language_info": {
   "codemirror_mode": {
    "name": "ipython",
    "version": 3
   },
   "name": "python",
   "version": "3.8.2-final"
  },
  "mimetype": "text/x-python",
  "name": "python",
  "npconvert_exporter": "python",
  "pygments_lexer": "ipython3",
  "version": 3
 },
 "nbformat": 4,
 "nbformat_minor": 2
}
