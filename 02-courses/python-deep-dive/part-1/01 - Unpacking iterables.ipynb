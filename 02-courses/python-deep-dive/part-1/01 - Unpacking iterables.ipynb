{
 "cells": [
  {
   "cell_type": "markdown",
   "metadata": {},
   "source": [
    "### Extended unpacking"
   ]
  },
  {
   "cell_type": "code",
   "execution_count": 17,
   "metadata": {},
   "outputs": [
    {
     "name": "stdout",
     "output_type": "stream",
     "text": [
      "Unpacking a list: , a=1, b=[2, 3, 4, 5]\n",
      "\n",
      "Unpacking a tuple: , a=1, b=[2, 3, 4, 5]\n",
      "Notice how \"b\" is unpacked into a list\n",
      "\n",
      "Unpacking a string: , a=X, b=['Y', 'Z']\n",
      "\n",
      "Unpacking a list: , 1, 2, [3, 4], 5\n",
      "\n",
      "unpacking to lists into a list: [1, 2, 3, 4, 5, 6]\n",
      "\n",
      "Unpacking a dict using *: p, ['y', 't', 'h', 'o', 'n']\n",
      "combined dicts:  {'p': 1, 'y': 2, 't': 3, 'h': 5, 'o': 6, 'n': 7}\n",
      "notice how the \"h\" in \"d2\" gets overwritten by the \"h\" in \"d3\"\n",
      "\n",
      "{'a': 10, 'b': 2, 'c': 3}\n"
     ]
    }
   ],
   "source": [
    "l = [1, 2, 3, 4, 5]\n",
    "tup = (1, 2, 3, 4, 5)\n",
    "string = 'XYZ'\n",
    "# example 1\n",
    "a, *b = l\n",
    "print(f'Unpacking a list: , a={a}, b={b}', end='\\n\\n')\n",
    "\n",
    "# example 2\n",
    "a, *b = l\n",
    "print(f'Unpacking a tuple: , a={a}, b={b}')\n",
    "print('Notice how \"b\" is unpacked into a list',  end='\\n\\n')\n",
    "\n",
    "# example 3\n",
    "a, *b = string\n",
    "print(f'Unpacking a string: , a={a}, b={b}',  end='\\n\\n')\n",
    "\n",
    "# example 4\n",
    "a, b, *c, d = l\n",
    "print(f'Unpacking a list: , {a}, {b}, {c}, {d}', end='\\n\\n')\n",
    "\n",
    "# example 5\n",
    "l1 = [1, 2, 3]\n",
    "l2 = [4, 5, 6]\n",
    "l = [*l1, *l2]\n",
    "print(f'unpacking to lists into a list: {l}',  end='\\n\\n')\n",
    "\n",
    "# example 6: unpacking a dictionary using *\n",
    "d = {'p': 1, 'y': 2, 't': 3, 'h':4, 'o': 5, 'n': 6}\n",
    "a, *b = d\n",
    "print(f'Unpacking a dict using *: {a}, {b}')\n",
    "\n",
    "# example 6: combining three dicts using **\n",
    "d1 = {'p': 1, 'y': 2}\n",
    "d2 = {'t': 3, 'h': 4}\n",
    "d3 = {'h': 5, 'o': 6, 'n': 7}\n",
    "d = {**d1, **d2, **d3}\n",
    "print('combined dicts: ', d)\n",
    "print('notice how the \"h\" in \"d2\" gets overwritten by the \"h\" in \"d3\"', end='\\n\\n')\n",
    "\n",
    "# example 7\n",
    "d1 = {'a': 1, 'b': 2}\n",
    "d = {**d1, 'a': 10, 'c': 3}\n",
    "print(d)"
   ]
  },
  {
   "cell_type": "markdown",
   "metadata": {},
   "source": [
    "### Nested unpacking"
   ]
  },
  {
   "cell_type": "code",
   "execution_count": 4,
   "metadata": {},
   "outputs": [
    {
     "name": "stdout",
     "output_type": "stream",
     "text": [
      "a=1, b=2, c=[3, 4]\n",
      "a=1, b=2, c=3, d=4\n",
      "a=1, b=[2, 3], c=X, d=Y, e=Z\n",
      "a=1, b=[2, 3], c=p, d=['y', 't', 'h', 'o', 'n']\n"
     ]
    }
   ],
   "source": [
    "# example 1\n",
    "a, b, c = [1, 2, [3, 4]]\n",
    "print(f'a={a}, b={b}, c={c}')\n",
    "\n",
    "# example 2\n",
    "a, b, (c, d) = [1, 2, [3, 4]]\n",
    "print(f'a={a}, b={b}, c={c}, d={d}')\n",
    "\n",
    "# example 3:\n",
    "a, *b, (c, d, e) = [1, 2, 3, 'XYZ']\n",
    "print(f'a={a}, b={b}, c={c}, d={d}, e={e}')\n",
    "\n",
    "# example 4:\n",
    "a, *b, (c, *d) = [1, 2, 3, 'python']\n",
    "print(f'a={a}, b={b}, c={c}, d={d}')"
   ]
  },
  {
   "cell_type": "code",
   "execution_count": null,
   "metadata": {},
   "outputs": [],
   "source": []
  }
 ],
 "metadata": {
  "kernelspec": {
   "display_name": "Python (data-analysis)",
   "language": "python",
   "name": "data-analysis"
  },
  "language_info": {
   "codemirror_mode": {
    "name": "ipython",
    "version": 3
   },
   "file_extension": ".py",
   "mimetype": "text/x-python",
   "name": "python",
   "nbconvert_exporter": "python",
   "pygments_lexer": "ipython3",
   "version": "3.8.6"
  }
 },
 "nbformat": 4,
 "nbformat_minor": 4
}
