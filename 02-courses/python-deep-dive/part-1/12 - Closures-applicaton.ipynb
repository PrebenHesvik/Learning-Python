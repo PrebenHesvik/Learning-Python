{
 "cells": [
  {
   "cell_type": "markdown",
   "metadata": {},
   "source": [
    "### Introduction: \n",
    "Create a class-based function that takes in numbers and returns the average"
   ]
  },
  {
   "cell_type": "code",
   "execution_count": 11,
   "metadata": {},
   "outputs": [
    {
     "name": "stdout",
     "output_type": "stream",
     "text": [
      "Add: 10, Avg: 10.0\n",
      "Add: 20, Avg: 15.0\n",
      "Add: 30, Avg: 20.0\n",
      "Add: 40, Avg: 25.0\n",
      "Add: 50, Avg: 30.0\n"
     ]
    }
   ],
   "source": [
    "class Averager:\n",
    "    def __init__(self):\n",
    "        self.numbers = []\n",
    "    \n",
    "    def add(self, number):\n",
    "        self.numbers.append(number)\n",
    "        total = sum(self.numbers)\n",
    "        count = len(self.numbers)\n",
    "        return total / count\n",
    "\n",
    "a = Averager()\n",
    "for i in range(10, 51, 10):\n",
    "    print(f'Add: {i}, Avg: {a.add(i)}')"
   ]
  },
  {
   "cell_type": "markdown",
   "metadata": {},
   "source": [
    "#### 1. First iteration\n",
    "Create a closure that contains a list. Add the values to the list and then find the average of the values inside the list."
   ]
  },
  {
   "cell_type": "code",
   "execution_count": 18,
   "metadata": {},
   "outputs": [
    {
     "name": "stdout",
     "output_type": "stream",
     "text": [
      "Add: 10, Avg: 10.0\n",
      "Add: 20, Avg: 15.0\n",
      "Add: 30, Avg: 20.0\n",
      "Add: 40, Avg: 25.0\n",
      "Add: 50, Avg: 30.0\n"
     ]
    }
   ],
   "source": [
    "def averager():\n",
    "    numbers = []\n",
    "    def add(number):\n",
    "        # here numbers is the free variable\n",
    "        numbers.append(number)\n",
    "        total = sum(numbers)\n",
    "        count = len(numbers)\n",
    "        return total / count\n",
    "    return add\n",
    "\n",
    "a = averager()\n",
    "for i in range(10, 51, 10):\n",
    "    print(f'Add: {i}, Avg: {a(i)}')"
   ]
  },
  {
   "cell_type": "markdown",
   "metadata": {},
   "source": [
    "#### 2. Second iteration: \n",
    "Just store the lastest updated values"
   ]
  },
  {
   "cell_type": "code",
   "execution_count": 17,
   "metadata": {},
   "outputs": [
    {
     "name": "stdout",
     "output_type": "stream",
     "text": [
      "Add: 10, Avg: 10.0\n",
      "Add: 20, Avg: 15.0\n",
      "Add: 30, Avg: 20.0\n",
      "Add: 40, Avg: 25.0\n",
      "Add: 50, Avg: 30.0\n"
     ]
    }
   ],
   "source": [
    "def averager():\n",
    "    total = 0\n",
    "    count = 0\n",
    "\n",
    "    def add(number):\n",
    "        nonlocal total\n",
    "        nonlocal count\n",
    "        total = total + number\n",
    "        count = count + 1\n",
    "        return total / count\n",
    "    \n",
    "    return add\n",
    "\n",
    "a = averager()\n",
    "for i in range(10, 51, 10):\n",
    "    print(f'Add: {i}, Avg: {a(i)}')"
   ]
  },
  {
   "cell_type": "markdown",
   "metadata": {},
   "source": [
    "#### The second iteration as a class"
   ]
  },
  {
   "cell_type": "code",
   "execution_count": 14,
   "metadata": {},
   "outputs": [
    {
     "name": "stdout",
     "output_type": "stream",
     "text": [
      "Add: 10, Avg: 10.0\n",
      "Add: 20, Avg: 15.0\n",
      "Add: 30, Avg: 20.0\n",
      "Add: 40, Avg: 25.0\n",
      "Add: 50, Avg: 30.0\n"
     ]
    }
   ],
   "source": [
    "class Averager:\n",
    "    def __init__(self):\n",
    "        self.total = 0\n",
    "        self.count = 0\n",
    "    \n",
    "    def add(self, number):\n",
    "        self.total += number\n",
    "        self.count += 1\n",
    "        return self.total / self.count\n",
    "    \n",
    "a = Averager()\n",
    "for i in range(10, 51, 10):\n",
    "    print(f'Add: {i}, Avg: {a.add(i)}')"
   ]
  },
  {
   "cell_type": "markdown",
   "metadata": {},
   "source": [
    "## Create a timer as a class-based function\n",
    "#### 1. First iteration"
   ]
  },
  {
   "cell_type": "code",
   "execution_count": 19,
   "metadata": {},
   "outputs": [
    {
     "name": "stdout",
     "output_type": "stream",
     "text": [
      "2.0011881000000358\n"
     ]
    }
   ],
   "source": [
    "from time import perf_counter\n",
    "from time import sleep\n",
    "\n",
    "class Timer:\n",
    "    def __init__(self):\n",
    "        self.start = perf_counter()\n",
    "    \n",
    "    def poll(self):\n",
    "        return perf_counter() - self.start\n",
    "\n",
    "t1 = Timer()\n",
    "sleep(2)\n",
    "print(t1.poll())"
   ]
  },
  {
   "cell_type": "markdown",
   "metadata": {},
   "source": [
    "#### 2. Second iteration\n",
    "Instead of having to write \"t1_poll()\" it would be nice if we can just write \"t1()\""
   ]
  },
  {
   "cell_type": "code",
   "execution_count": 14,
   "metadata": {},
   "outputs": [
    {
     "name": "stdout",
     "output_type": "stream",
     "text": [
      "1.5003231999999116\n"
     ]
    }
   ],
   "source": [
    "class Timer:\n",
    "    def __init__(self):\n",
    "        self.start = perf_counter()\n",
    "    \n",
    "    def __call__(self):\n",
    "        return perf_counter() - self.start\n",
    "\n",
    "t1 = Timer()\n",
    "\n",
    "sleep(1.5)\n",
    "\n",
    "print(t1())"
   ]
  },
  {
   "cell_type": "markdown",
   "metadata": {},
   "source": [
    "## Create the timer as a closure"
   ]
  },
  {
   "cell_type": "code",
   "execution_count": null,
   "metadata": {},
   "outputs": [],
   "source": [
    "def timer():\n",
    "    start = perf_counter()\n",
    "    def poll():\n",
    "        return perf_counter() - start\n",
    "    return poll"
   ]
  },
  {
   "cell_type": "markdown",
   "metadata": {},
   "source": [
    "## Create a counter function as a closure\n",
    "#### 1. First iteration"
   ]
  },
  {
   "cell_type": "code",
   "execution_count": 22,
   "metadata": {},
   "outputs": [
    {
     "name": "stdout",
     "output_type": "stream",
     "text": [
      "Add: 2, Counter: 2\n",
      "Add: 4, Counter: 6\n",
      "Add: 6, Counter: 12\n",
      "Add: 8, Counter: 20\n",
      "Add: 10, Counter: 30\n"
     ]
    }
   ],
   "source": [
    "def counter(initial_value=0):\n",
    "    def inc(increment=1):\n",
    "        nonlocal initial_value\n",
    "        initial_value += increment\n",
    "        return initial_value\n",
    "    return inc\n",
    "\n",
    "counter1 = counter()\n",
    "\n",
    "for i in range(2, 11, 2):\n",
    "    print(f'Add: {i}, Counter: {counter1(i)}')\n"
   ]
  },
  {
   "cell_type": "markdown",
   "metadata": {},
   "source": [
    "### Modify the counter function to include how many times the function has run\n",
    "#### 1. First iteration"
   ]
  },
  {
   "cell_type": "code",
   "execution_count": 25,
   "metadata": {},
   "outputs": [
    {
     "name": "stdout",
     "output_type": "stream",
     "text": [
      "add has been called 1 times\n",
      "15\n",
      "add has been called 2 times\n",
      "20\n",
      "mult has been called 1 times\n",
      "50\n",
      "mult has been called 2 times\n",
      "75\n"
     ]
    }
   ],
   "source": [
    "def counter(fn):\n",
    "    cnt = 0\n",
    "    def inner(*args, **kwargs):\n",
    "        nonlocal cnt\n",
    "        cnt += 1\n",
    "        print(f'{fn.__name__} has been called {cnt} times')\n",
    "        return fn(*args, **kwargs)\n",
    "    return inner\n",
    "\n",
    "\n",
    "def add(a, b):\n",
    "    return a + b\n",
    "\n",
    "def mult(a, b):\n",
    "    return a * b\n",
    "\n",
    "\n",
    "counter_add = counter(add)\n",
    "counter_mult = counter(mult)\n",
    "\n",
    "print(counter_add(10, 5))\n",
    "print(counter_add(5, 15))\n",
    "print(counter_mult(10, 5))\n",
    "print(counter_mult(5, 15))"
   ]
  },
  {
   "cell_type": "markdown",
   "metadata": {},
   "source": [
    "#### 2. Second iteration \n",
    "Store the count values inside a dictionary, \n",
    "but place the dictionary outside the function"
   ]
  },
  {
   "cell_type": "code",
   "execution_count": 26,
   "metadata": {},
   "outputs": [
    {
     "name": "stdout",
     "output_type": "stream",
     "text": [
      "35\n",
      "75\n",
      "{'add': 2}\n",
      "62.5\n",
      "{'add': 2, 'mult': 1}\n"
     ]
    }
   ],
   "source": [
    "counters = dict()\n",
    "\n",
    "def counter(fn):\n",
    "    count = 0\n",
    "    def inner(*args, **kwargs):\n",
    "        nonlocal count\n",
    "        count +=1\n",
    "        counters[fn.__name__] = count\n",
    "        return fn(*args, **kwargs)\n",
    "    return inner\n",
    "\n",
    "def add(a, b):\n",
    "    return a + b\n",
    "\n",
    "def mult(a, b):\n",
    "    return a * b\n",
    "\n",
    "counted_add = counter(add)\n",
    "counted_mult = counter(mult)\n",
    "\n",
    "print(counted_add(10, 25))\n",
    "print(counted_add(50, 25))\n",
    "print(counters)\n",
    "print(counted_mult(50, 1.25))\n",
    "print(counters)\n"
   ]
  },
  {
   "cell_type": "markdown",
   "metadata": {},
   "source": [
    "#### Third iteration - pass the dictionary to the counter func"
   ]
  },
  {
   "cell_type": "code",
   "execution_count": 36,
   "metadata": {},
   "outputs": [
    {
     "name": "stdout",
     "output_type": "stream",
     "text": [
      "35\n",
      "75\n",
      "62.5\n",
      "120\n",
      "{'add': 2, 'mult': 1, 'fact': 1}\n"
     ]
    }
   ],
   "source": [
    "def counter(fn, counters):\n",
    "    count = 0\n",
    "    def inner(*args, **kwargs):\n",
    "        nonlocal count\n",
    "        count +=1\n",
    "        counters[fn.__name__] = count\n",
    "        return fn(*args, **kwargs)\n",
    "    return inner\n",
    "\n",
    "def add(a, b):\n",
    "    return a + b\n",
    "\n",
    "def mult(a, b):\n",
    "    return a * b\n",
    "\n",
    "def fact(n):\n",
    "    product = 1\n",
    "    for i in range(2, n+1):\n",
    "        product *= i\n",
    "    return product\n",
    "\n",
    "c = dict()\n",
    "add = counter(add, c)\n",
    "mult = counter(mult, c)\n",
    "fact = counter(fact, c)\n",
    "\n",
    "print(add(10, 25))\n",
    "print(add(50, 25))\n",
    "print(mult(50, 1.25))\n",
    "print(fact(5))\n",
    "print(c)"
   ]
  },
  {
   "cell_type": "code",
   "execution_count": 38,
   "metadata": {},
   "outputs": [
    {
     "data": {
      "text/plain": [
       "(<cell at 0x000001F91C5CB820: int object at 0x00007FFE1FF6FEC0>,\n",
       " <cell at 0x000001F91C8F5640: dict object at 0x000001F91CE60D00>,\n",
       " <cell at 0x000001F91C8F5760: function object at 0x000001F91CDFD940>)"
      ]
     },
     "execution_count": 38,
     "metadata": {},
     "output_type": "execute_result"
    }
   ],
   "source": [
    "add.__closure__"
   ]
  },
  {
   "cell_type": "code",
   "execution_count": 39,
   "metadata": {},
   "outputs": [
    {
     "data": {
      "text/plain": [
       "(<cell at 0x000001F91C5CB0A0: int object at 0x00007FFE1FF6FEA0>,\n",
       " <cell at 0x000001F91C8F5A90: dict object at 0x000001F91CE60D00>,\n",
       " <cell at 0x000001F91C8F5EB0: function object at 0x000001F91CDFDE50>)"
      ]
     },
     "execution_count": 39,
     "metadata": {},
     "output_type": "execute_result"
    }
   ],
   "source": [
    "mult.__closure__"
   ]
  },
  {
   "cell_type": "code",
   "execution_count": 37,
   "metadata": {},
   "outputs": [
    {
     "data": {
      "text/plain": [
       "(<cell at 0x000001F91C8F5FA0: int object at 0x00007FFE1FF6FEA0>,\n",
       " <cell at 0x000001F91C8F53A0: dict object at 0x000001F91CE60D00>,\n",
       " <cell at 0x000001F91C8F5A60: function object at 0x000001F91CDFD310>)"
      ]
     },
     "execution_count": 37,
     "metadata": {},
     "output_type": "execute_result"
    }
   ],
   "source": [
    "fact.__closure__"
   ]
  },
  {
   "cell_type": "code",
   "execution_count": null,
   "metadata": {},
   "outputs": [],
   "source": []
  }
 ],
 "metadata": {
  "file_extension": ".py",
  "kernelspec": {
   "display_name": "Python (data-analysis)",
   "language": "python",
   "name": "data-analysis"
  },
  "language_info": {
   "codemirror_mode": {
    "name": "ipython",
    "version": 3
   },
   "file_extension": ".py",
   "mimetype": "text/x-python",
   "name": "python",
   "nbconvert_exporter": "python",
   "pygments_lexer": "ipython3",
   "version": "3.8.6"
  },
  "mimetype": "text/x-python",
  "name": "python",
  "npconvert_exporter": "python",
  "pygments_lexer": "ipython3",
  "version": 3
 },
 "nbformat": 4,
 "nbformat_minor": 2
}
