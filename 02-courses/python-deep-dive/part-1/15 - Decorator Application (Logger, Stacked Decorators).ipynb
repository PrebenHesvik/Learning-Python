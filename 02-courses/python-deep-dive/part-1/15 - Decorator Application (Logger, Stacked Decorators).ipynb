{
 "cells": [
  {
   "cell_type": "markdown",
   "metadata": {},
   "source": [
    "## Decorator Application (Logger, Stacked Decorators)"
   ]
  },
  {
   "cell_type": "code",
   "execution_count": 2,
   "metadata": {},
   "outputs": [],
   "source": [
    "def timed(fn):\n",
    "    from functools import wraps\n",
    "    from time import perf_counter\n",
    "\n",
    "    @wraps(fn)\n",
    "    def inner(*args, **kwargs):\n",
    "        start = perf_counter()\n",
    "        result = fn(*args, **kwargs)\n",
    "        end = perf_counter()\n",
    "        elapsed = end - start\n",
    "\n",
    "        args_ = [str(a) for a in args]\n",
    "        kwargs_ = [f'{k}-{v}' for k, v in kwargs.items()]\n",
    "        all_args = args_ + kwargs_\n",
    "        args_str = '.'.join(all_args)\n",
    "\n",
    "        print(f'{fn.__name__}({args_str}) took {elapsed: .5f}s to run')\n",
    "\n",
    "        return result\n",
    "    \n",
    "    return inner\n",
    "\n",
    "\n",
    "def logged(fn):\n",
    "    from functools import wraps\n",
    "    from datetime import datetime\n",
    "\n",
    "    @wraps(fn)\n",
    "    def inner(*args, **kwargs):\n",
    "        run_dt = datetime.now()\n",
    "        result = fn(*args, **kwargs)\n",
    "        print(f'{run_dt} called {fn.__name__}')\n",
    "        return result\n",
    "    \n",
    "    return inner"
   ]
  },
  {
   "cell_type": "code",
   "execution_count": 3,
   "metadata": {},
   "outputs": [],
   "source": [
    "# facorial of 5 = 1*2*3*4*5\n",
    "@timed\n",
    "@logged\n",
    "def factorial(n):\n",
    "    from operator import mul\n",
    "    from functools import reduce\n",
    "    \n",
    "    return reduce(mul, range(1, n+1))"
   ]
  },
  {
   "cell_type": "code",
   "execution_count": 5,
   "metadata": {},
   "outputs": [
    {
     "name": "stdout",
     "output_type": "stream",
     "text": [
      "2020-11-20 10:44:08.870710 called factorial\n",
      "factorial(8) took  0.00009s to run\n"
     ]
    },
    {
     "data": {
      "text/plain": [
       "40320"
      ]
     },
     "execution_count": 5,
     "metadata": {},
     "output_type": "execute_result"
    }
   ],
   "source": [
    "factorial(8)"
   ]
  },
  {
   "cell_type": "code",
   "execution_count": 8,
   "metadata": {},
   "outputs": [
    {
     "name": "stdout",
     "output_type": "stream",
     "text": [
      "factorial(10) took  0.00001s to run\n",
      "2020-11-20 10:46:23.505205 called factorial\n"
     ]
    },
    {
     "data": {
      "text/plain": [
       "3628800"
      ]
     },
     "execution_count": 8,
     "metadata": {},
     "output_type": "execute_result"
    }
   ],
   "source": [
    "def factorial(n):\n",
    "    from operator import mul\n",
    "    from functools import reduce\n",
    "    \n",
    "    return reduce(mul, range(1, n+1))\n",
    "\n",
    "fact = logged(timed(factorial))\n",
    "fact(10)"
   ]
  },
  {
   "cell_type": "markdown",
   "metadata": {},
   "source": [
    "### Seeing when the decorators are run"
   ]
  },
  {
   "cell_type": "code",
   "execution_count": 11,
   "metadata": {},
   "outputs": [
    {
     "name": "stdout",
     "output_type": "stream",
     "text": [
      "Running dec_2\n",
      "Running dec_1\n"
     ]
    },
    {
     "data": {
      "text/plain": [
       "'return statement of my_func'"
      ]
     },
     "execution_count": 11,
     "metadata": {},
     "output_type": "execute_result"
    }
   ],
   "source": [
    "def dec_1(fn):\n",
    "    def inner():\n",
    "        result = fn()\n",
    "        print('Running dec_1')\n",
    "        return result\n",
    "    return inner\n",
    "\n",
    "def dec_2(fn):\n",
    "    def inner():\n",
    "        result = fn()\n",
    "        print('Running dec_2')\n",
    "        return result\n",
    "    return inner\n",
    "\n",
    "@dec_1\n",
    "@dec_2\n",
    "def my_func():\n",
    "    return 'return statement of my_func'\n",
    "    \n",
    "\n",
    "my_func()\n",
    "# 'running dec_1' is printed first because it  "
   ]
  },
  {
   "cell_type": "code",
   "execution_count": null,
   "metadata": {},
   "outputs": [],
   "source": []
  },
  {
   "cell_type": "code",
   "execution_count": null,
   "metadata": {},
   "outputs": [],
   "source": []
  }
 ],
 "metadata": {
  "file_extension": ".py",
  "kernelspec": {
   "display_name": "Python (data-analysis)",
   "language": "python",
   "name": "data-analysis"
  },
  "language_info": {
   "codemirror_mode": {
    "name": "ipython",
    "version": 3
   },
   "file_extension": ".py",
   "mimetype": "text/x-python",
   "name": "python",
   "nbconvert_exporter": "python",
   "pygments_lexer": "ipython3",
   "version": "3.8.6"
  },
  "mimetype": "text/x-python",
  "name": "python",
  "npconvert_exporter": "python",
  "pygments_lexer": "ipython3",
  "version": 3
 },
 "nbformat": 4,
 "nbformat_minor": 2
}
