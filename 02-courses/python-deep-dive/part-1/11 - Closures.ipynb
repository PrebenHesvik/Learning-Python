{
 "cells": [
  {
   "cell_type": "markdown",
   "metadata": {},
   "source": [
    "### Closures:\n",
    "A function plus an extended scope that contains the free variables"
   ]
  },
  {
   "cell_type": "code",
   "execution_count": 2,
   "metadata": {},
   "outputs": [
    {
     "name": "stdout",
     "output_type": "stream",
     "text": [
      "python rocks!\n"
     ]
    }
   ],
   "source": [
    "def outer_func():\n",
    "    # --------------------------------------------------------------------\n",
    "    # this part is called a closure\n",
    "    x = 'python'\n",
    "\n",
    "    def inner_func():\n",
    "        print('{0} rocks!'.format(x))  # x is called a free variable\n",
    "    # --------------------------------------------------------------------\n",
    "    inner_func()  # The value of x is looked up when inner gets called\n",
    "\n",
    "\n",
    "# calling outer will lead to the print out of \"python rocks\"\n",
    "outer_func()"
   ]
  },
  {
   "cell_type": "code",
   "execution_count": 5,
   "metadata": {},
   "outputs": [
    {
     "name": "stdout",
     "output_type": "stream",
     "text": [
      "python rocks!\n"
     ]
    }
   ],
   "source": [
    "# instead calling inner_func inside outer_func we can return it\n",
    "def outer_func():\n",
    "    a = 100\n",
    "    x = 'python'\n",
    "    \n",
    "    def inner_func():\n",
    "        a = 10\n",
    "        print('{0} rocks!'.format(x))  # x is called a free variable\n",
    "    return inner_func\n",
    "\n",
    "# by the time we call inner_func outer_func has stopped running, and therefore\n",
    "# it seems logical that the x-variable should no longer be available since\n",
    "# the outer_func-scope is gone. But this is not the case. Python creates an\n",
    "# intermediary object that points to \"python\", which both x-variables in\n",
    "# outer_func and inner_func points to. So now x is still available inside\n",
    "# inner_func\n",
    "\n",
    "# so now we can store outer_func as a variable and then call the variable\n",
    "fn = outer_func()\n",
    "fn()"
   ]
  },
  {
   "cell_type": "code",
   "execution_count": 6,
   "metadata": {},
   "outputs": [
    {
     "name": "stdout",
     "output_type": "stream",
     "text": [
      "('x',)\n",
      "(<cell at 0x00000193F55923D0: str object at 0x00000193F217B8F0>,)\n"
     ]
    }
   ],
   "source": [
    "print(fn.__code__.co_freevars)  # this will print out the free variables\n",
    "# this will print out cell address of the intermediary cell and the adddress it points to\n",
    "print(fn.__closure__)"
   ]
  },
  {
   "cell_type": "markdown",
   "metadata": {},
   "source": [
    "### Modifying the free variable"
   ]
  },
  {
   "cell_type": "code",
   "execution_count": 35,
   "metadata": {},
   "outputs": [
    {
     "name": "stdout",
     "output_type": "stream",
     "text": [
      "1\n",
      "2\n",
      "3\n",
      "4\n",
      "5\n",
      "\n",
      "New instance of counter: 1"
     ]
    }
   ],
   "source": [
    "def counter():\n",
    "    count = 0\n",
    "    \n",
    "    def inc():\n",
    "        nonlocal count\n",
    "        count += 1\n",
    "        return count\n",
    "    \n",
    "    return inc\n",
    "\n",
    "fn = counter()\n",
    "for i in range(5):\n",
    "    print(fn())\n",
    "print(end='\\n')\n",
    "\n",
    "# Every time we run a function, a new scope is created.\n",
    "#If that function generates a closure, a new closure is created every time as well\n",
    "print(f'New instance of counter: {counter()()}', end='')"
   ]
  },
  {
   "cell_type": "markdown",
   "metadata": {},
   "source": [
    "### Shared extended scopes"
   ]
  },
  {
   "cell_type": "code",
   "execution_count": 36,
   "metadata": {},
   "outputs": [
    {
     "name": "stdout",
     "output_type": "stream",
     "text": [
      "1\n",
      "2\n",
      "3\n",
      "4\n",
      "5\n"
     ]
    }
   ],
   "source": [
    "def outer():\n",
    "    count = 0\n",
    "    \n",
    "    def inc1():\n",
    "        nonlocal count\n",
    "        count += 1\n",
    "        return count\n",
    "    \n",
    "    def inc2():\n",
    "        nonlocal count\n",
    "        count += 1\n",
    "        return count\n",
    "    \n",
    "    return inc1, inc2\n",
    "\n",
    "f1, f2 = outer()\n",
    "print(f1())\n",
    "print(f2())\n",
    "print(f2())\n",
    "print(f1())\n",
    "print(f1())"
   ]
  },
  {
   "cell_type": "code",
   "execution_count": 30,
   "metadata": {},
   "outputs": [
    {
     "name": "stdout",
     "output_type": "stream",
     "text": [
      "13\n",
      "13\n",
      "13\n"
     ]
    }
   ],
   "source": [
    "adders = []\n",
    "for n in range(1 ,4):\n",
    "    adders.append(lambda x: x + n)\n",
    "\n",
    "# What is happened here?\n",
    "# Answer:\n",
    "    # n does not get evaluated before the closure is called.\n",
    "    # By the time each function is called n is set to 3.\n",
    "print(adders[0](10))\n",
    "print(adders[1](10))\n",
    "print(adders[2](10))"
   ]
  },
  {
   "cell_type": "code",
   "execution_count": 38,
   "metadata": {},
   "outputs": [
    {
     "data": {
      "text/plain": [
       "9"
      ]
     },
     "execution_count": 38,
     "metadata": {},
     "output_type": "execute_result"
    }
   ],
   "source": [
    "def power(n):\n",
    "    def inner(x):\n",
    "        return x ** n\n",
    "    return inner\n",
    "\n",
    "square = power(2)\n",
    "square(3)"
   ]
  },
  {
   "cell_type": "code",
   "execution_count": null,
   "metadata": {},
   "outputs": [],
   "source": []
  }
 ],
 "metadata": {
  "kernelspec": {
   "display_name": "Python (data-analysis)",
   "language": "python",
   "name": "data-analysis"
  },
  "language_info": {
   "codemirror_mode": {
    "name": "ipython",
    "version": 3
   },
   "file_extension": ".py",
   "mimetype": "text/x-python",
   "name": "python",
   "nbconvert_exporter": "python",
   "pygments_lexer": "ipython3",
   "version": "3.8.6"
  }
 },
 "nbformat": 4,
 "nbformat_minor": 4
}
