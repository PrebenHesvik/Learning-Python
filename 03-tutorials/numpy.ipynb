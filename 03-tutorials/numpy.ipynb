{
 "cells": [
  {
   "cell_type": "markdown",
   "metadata": {
    "toc": "true"
   },
   "source": [
    "# Table of Contents\n",
    " <p><div class=\"lev3 toc-item\"><a href=\"#Basic:\" data-toc-modified-id=\"Basic:-001\"><span class=\"toc-item-num\">0.0.1&nbsp;&nbsp;</span>Basic:</a></div><div class=\"lev2 toc-item\"><a href=\"#Numpy-array\" data-toc-modified-id=\"Numpy-array-01\"><span class=\"toc-item-num\">0.1&nbsp;&nbsp;</span>Numpy array</a></div><div class=\"lev3 toc-item\"><a href=\"#Creating-a-numpy-array\" data-toc-modified-id=\"Creating-a-numpy-array-011\"><span class=\"toc-item-num\">0.1.1&nbsp;&nbsp;</span>Creating a numpy array</a></div><div class=\"lev3 toc-item\"><a href=\"#Convert-array\" data-toc-modified-id=\"Convert-array-012\"><span class=\"toc-item-num\">0.1.2&nbsp;&nbsp;</span>Convert array</a></div><div class=\"lev4 toc-item\"><a href=\"#Convert-datatype-of-array\" data-toc-modified-id=\"Convert-datatype-of-array-0121\"><span class=\"toc-item-num\">0.1.2.1&nbsp;&nbsp;</span>Convert datatype of array</a></div><div class=\"lev4 toc-item\"><a href=\"#Convert-array-to-list\" data-toc-modified-id=\"Convert-array-to-list-0122\"><span class=\"toc-item-num\">0.1.2.2&nbsp;&nbsp;</span>Convert array to list</a></div><div class=\"lev3 toc-item\"><a href=\"#Inspecting-an-array\" data-toc-modified-id=\"Inspecting-an-array-013\"><span class=\"toc-item-num\">0.1.3&nbsp;&nbsp;</span>Inspecting an array</a></div><div class=\"lev3 toc-item\"><a href=\"#Extracting-specific-items-from-an-array\" data-toc-modified-id=\"Extracting-specific-items-from-an-array-014\"><span class=\"toc-item-num\">0.1.4&nbsp;&nbsp;</span>Extracting specific items from an array</a></div><div class=\"lev3 toc-item\"><a href=\"#Reversing-an-array\" data-toc-modified-id=\"Reversing-an-array-015\"><span class=\"toc-item-num\">0.1.5&nbsp;&nbsp;</span>Reversing an array</a></div><div class=\"lev3 toc-item\"><a href=\"#How-to-represent-missing-values-and-infinite?\" data-toc-modified-id=\"How-to-represent-missing-values-and-infinite?-016\"><span class=\"toc-item-num\">0.1.6&nbsp;&nbsp;</span>How to represent missing values and infinite?</a></div><div class=\"lev3 toc-item\"><a href=\"#compute-mean,-min,-max-on-the-ndarray\" data-toc-modified-id=\"compute-mean,-min,-max-on-the-ndarray-017\"><span class=\"toc-item-num\">0.1.7&nbsp;&nbsp;</span>compute mean, min, max on the ndarray</a></div><div class=\"lev4 toc-item\"><a href=\"#computing-the-minimum-and-maximum-values-row-wise-or-column-wise:\" data-toc-modified-id=\"computing-the-minimum-and-maximum-values-row-wise-or-column-wise:-0171\"><span class=\"toc-item-num\">0.1.7.1&nbsp;&nbsp;</span>computing the minimum and maximum values row wise or column wise:</a></div><div class=\"lev3 toc-item\"><a href=\"#Creating-a-new-array-from-an-existing-array\" data-toc-modified-id=\"Creating-a-new-array-from-an-existing-array-018\"><span class=\"toc-item-num\">0.1.8&nbsp;&nbsp;</span>Creating a new array from an existing array</a></div><div class=\"lev3 toc-item\"><a href=\"#Rashaping-an-array\" data-toc-modified-id=\"Rashaping-an-array-019\"><span class=\"toc-item-num\">0.1.9&nbsp;&nbsp;</span>Rashaping an array</a></div><div class=\"lev3 toc-item\"><a href=\"#Flattening-a-multi-dimensional-array\" data-toc-modified-id=\"Flattening-a-multi-dimensional-array-0110\"><span class=\"toc-item-num\">0.1.10&nbsp;&nbsp;</span>Flattening a multi-dimensional array</a></div><div class=\"lev3 toc-item\"><a href=\"#Creating-sequences,-repetitions-and-random-numbers\" data-toc-modified-id=\"Creating-sequences,-repetitions-and-random-numbers-0111\"><span class=\"toc-item-num\">0.1.11&nbsp;&nbsp;</span>Creating sequences, repetitions and random numbers</a></div><div class=\"lev4 toc-item\"><a href=\"#Sequence:\" data-toc-modified-id=\"Sequence:-01111\"><span class=\"toc-item-num\">0.1.11.1&nbsp;&nbsp;</span>Sequence:</a></div><div class=\"lev3 toc-item\"><a href=\"#Repeating-sequences\" data-toc-modified-id=\"Repeating-sequences-0112\"><span class=\"toc-item-num\">0.1.12&nbsp;&nbsp;</span>Repeating sequences</a></div><div class=\"lev3 toc-item\"><a href=\"#Generating-random-numbers\" data-toc-modified-id=\"Generating-random-numbers-0113\"><span class=\"toc-item-num\">0.1.13&nbsp;&nbsp;</span>Generating random numbers</a></div><div class=\"lev3 toc-item\"><a href=\"#Unique-items\" data-toc-modified-id=\"Unique-items-0114\"><span class=\"toc-item-num\">0.1.14&nbsp;&nbsp;</span>Unique items</a></div>"
   ]
  },
  {
   "cell_type": "code",
   "execution_count": 1,
   "metadata": {},
   "outputs": [],
   "source": [
    "import numpy as np"
   ]
  },
  {
   "cell_type": "markdown",
   "metadata": {},
   "source": [
    "### Basic:"
   ]
  },
  {
   "cell_type": "code",
   "execution_count": 2,
   "metadata": {},
   "outputs": [
    {
     "name": "stdout",
     "output_type": "stream",
     "text": [
      "x = 9 and y = 3.0\n"
     ]
    }
   ],
   "source": [
    "# Squared and square root:\n",
    "x = np.square(3)\n",
    "y = np.sqrt(x)\n",
    "print(f'x = {x} and y = {y}')"
   ]
  },
  {
   "cell_type": "markdown",
   "metadata": {},
   "source": [
    "# Numpy array\n",
    "- At the core, numpy provides the excellent ndarray objects, short for n-dimensional arrays. In a ‘ndarray’ object, aka ‘array’, you can store multiple items of the same data type. It is the facilities around the array object that makes numpy so convenient for performing math and data manipulations. \n",
    "- The key difference between an array and a list is, arrays are designed to handle vectorized operations while a python list is not. That means, if you apply a function it is performed on every item in the array, rather than on the whole array object.\n",
    "- Another characteristic is that, once a numpy array is created, you cannot increase its size. To do so, you will have to create a new array. But such a behavior of extending the size is natural in a list.\n",
    "- Unlike Python lists, a numpy array must have all items to be of the same data type. \n",
    "- An equivalent numpy array occupies much less space than a python list of lists.\n",
    "- You may specify the datatype by setting the dtype argument. Some of the most commonly used numpy dtypes are: 'float', 'int', 'bool', 'str' and 'object'. To control the memory allocations you may choose to use one of ‘float32’, ‘float64’, ‘int8’, ‘int16’ or ‘int32’."
   ]
  },
  {
   "cell_type": "markdown",
   "metadata": {},
   "source": [
    "## Creating a numpy array<br>\n",
    "\n",
    "#### Create an **1d array** from a list"
   ]
  },
  {
   "cell_type": "code",
   "execution_count": 3,
   "metadata": {},
   "outputs": [
    {
     "data": {
      "text/plain": [
       "array([0, 1, 2, 3, 4])"
      ]
     },
     "execution_count": 3,
     "metadata": {},
     "output_type": "execute_result"
    }
   ],
   "source": [
    "list1 = [0,1,2,3,4]\n",
    "np.array(list1)"
   ]
  },
  {
   "cell_type": "markdown",
   "metadata": {},
   "source": [
    "Create the array directly"
   ]
  },
  {
   "cell_type": "code",
   "execution_count": 4,
   "metadata": {},
   "outputs": [
    {
     "data": {
      "text/plain": [
       "array([0, 1, 2, 3, 4])"
      ]
     },
     "execution_count": 4,
     "metadata": {},
     "output_type": "execute_result"
    }
   ],
   "source": [
    "np.array([0, 1, 2, 3, 4], dtype='int')"
   ]
  },
  {
   "cell_type": "markdown",
   "metadata": {},
   "source": [
    "#### Creating a **2d array** from a list of lists"
   ]
  },
  {
   "cell_type": "code",
   "execution_count": 5,
   "metadata": {},
   "outputs": [
    {
     "data": {
      "text/plain": [
       "array([[0, 1, 2],\n",
       "       [3, 4, 5],\n",
       "       [6, 7, 8]])"
      ]
     },
     "execution_count": 5,
     "metadata": {},
     "output_type": "execute_result"
    }
   ],
   "source": [
    "list2 = [[0,1,2], [3,4,5], [6,7,8]]\n",
    "np.array(list2)"
   ]
  },
  {
   "cell_type": "markdown",
   "metadata": {},
   "source": [
    "## Copy an array"
   ]
  },
  {
   "cell_type": "code",
   "execution_count": 95,
   "metadata": {},
   "outputs": [
    {
     "name": "stdout",
     "output_type": "stream",
     "text": [
      "b:  [1 2 3 4]\n"
     ]
    }
   ],
   "source": [
    "a = np.array([1, 2, 3, 4])\n",
    "b = np.copy(a)\n",
    "print('b: ', b )"
   ]
  },
  {
   "cell_type": "markdown",
   "metadata": {},
   "source": [
    "## Array Methods"
   ]
  },
  {
   "cell_type": "code",
   "execution_count": 79,
   "metadata": {},
   "outputs": [
    {
     "name": "stdout",
     "output_type": "stream",
     "text": [
      "sorted: [1 2 3 4]\n",
      "sum:  10\n",
      "mean:  2.5\n",
      "max:  4\n",
      "argmax:  3\n",
      "cumsum:  [ 1  3  6 10]\n",
      "cumprod:  [ 1  2  6 24]\n",
      "variance:  1.25\n",
      "standard deviation:  1.118033988749895\n"
     ]
    }
   ],
   "source": [
    "a = np.array((4, 3, 2, 1))\n",
    "\n",
    "# sort - sorts a in place\n",
    "a.sort()\n",
    "print(f'sorted: {a}')\n",
    "\n",
    "# sum\n",
    "print('sum: ', a.sum())\n",
    "\n",
    "# mean\n",
    "print('mean: ', a.mean())\n",
    "\n",
    "# max\n",
    "print('max: ', a.max())\n",
    "\n",
    "# argmax - returns the index of the maximal element\n",
    "print('argmax: ', a.argmax())\n",
    "\n",
    "# cumsum - cumulative sum of the elements of a\n",
    "print('cumsum: ', a.cumsum())\n",
    "\n",
    "# cumprod - cumulative product of the elements of a\n",
    "print('cumprod: ', a.cumprod())\n",
    "\n",
    "# variance\n",
    "print('variance: ', a.var())\n",
    "\n",
    "# standard deviation\n",
    "print('standard deviation: ', a.std())"
   ]
  },
  {
   "cell_type": "markdown",
   "metadata": {},
   "source": [
    "## Array Methods on Two-Dimensional Arrays"
   ]
  },
  {
   "cell_type": "code",
   "execution_count": 93,
   "metadata": {},
   "outputs": [
    {
     "data": {
      "text/plain": [
       "array([[1, 2, 3, 4],\n",
       "       [3, 4, 5, 6],\n",
       "       [5, 6, 7, 8]])"
      ]
     },
     "execution_count": 93,
     "metadata": {},
     "output_type": "execute_result"
    }
   ],
   "source": [
    "arr2 = np.array([[1, 2, 3, 4],[3, 4, 5, 6], [5, 6, 7, 8]], dtype='int')\n",
    "arr2"
   ]
  },
  {
   "cell_type": "code",
   "execution_count": 94,
   "metadata": {
    "run_control": {
     "marked": true
    }
   },
   "outputs": [
    {
     "name": "stdout",
     "output_type": "stream",
     "text": [
      "Mean value is:  4.5\n",
      "Max value is:  8\n",
      "Min value is:  1\n",
      "Column wise minimum:  [1 2 3 4]\n",
      "Row wise minimum:  [1 3 5]\n",
      "Column wise maximum:  [5 6 7 8]\n",
      "Row wise maximum:  [4 6 8]\n"
     ]
    }
   ],
   "source": [
    "# mean\n",
    "print(\"Mean value is: \", arr2.mean())\n",
    "\n",
    "# max\n",
    "print(\"Max value is: \", arr2.max())\n",
    "\n",
    "# min\n",
    "print(\"Min value is: \", arr2.min())\n",
    "\n",
    "# column wise minimum\n",
    "print(\"Column wise minimum: \", np.amin(arr2, axis=0))\n",
    "\n",
    "# row wise minimum\n",
    "print(\"Row wise minimum: \", np.amin(arr2, axis=1))\n",
    "\n",
    "# column wise maximum\n",
    "print(\"Column wise maximum: \", np.amax(arr2, axis=0))\n",
    "\n",
    "# row wise maximum\n",
    "print(\"Row wise maximum: \", np.amax(arr2, axis=1))"
   ]
  },
  {
   "cell_type": "markdown",
   "metadata": {},
   "source": [
    "## Operations on Arrays"
   ]
  },
  {
   "cell_type": "code",
   "execution_count": 89,
   "metadata": {},
   "outputs": [
    {
     "name": "stdout",
     "output_type": "stream",
     "text": [
      "adding: A + B: [ 6  8 10 12]\n",
      "multiplication: A * B: [ 5 12 21 32]\n",
      "adding scalar: A + 10: [11 12 13 14]\n",
      "scalar multiplication: A * 10: [10 20 30 40]\n"
     ]
    }
   ],
   "source": [
    "a = np.array([1, 2, 3, 4])\n",
    "b = np.array([5, 6, 7, 8])\n",
    "\n",
    "# adding\n",
    "print(f'adding: A + B: {a + b}')\n",
    "\n",
    "# multiplication\n",
    "print(f'multiplication: A * B: {a * b}')\n",
    "\n",
    "# adding scalar\n",
    "print(f'adding scalar: A + 10: {a + 10}')\n",
    "\n",
    "# scalar multiplication\n",
    "print(f'scalar multiplication: A * 10: {a * 10}')"
   ]
  },
  {
   "cell_type": "markdown",
   "metadata": {},
   "source": [
    "## Matrix Multiplication"
   ]
  },
  {
   "cell_type": "code",
   "execution_count": 91,
   "metadata": {},
   "outputs": [
    {
     "data": {
      "text/plain": [
       "array([[2., 2.],\n",
       "       [2., 2.]])"
      ]
     },
     "execution_count": 91,
     "metadata": {},
     "output_type": "execute_result"
    }
   ],
   "source": [
    "# create two two-dimensional arrays of ones\n",
    "A = np.ones((2, 2))\n",
    "B = np.ones((2, 2))\n",
    "\n",
    "A @ B"
   ]
  },
  {
   "cell_type": "markdown",
   "metadata": {},
   "source": [
    "## Comparisons"
   ]
  },
  {
   "cell_type": "code",
   "execution_count": 101,
   "metadata": {},
   "outputs": [
    {
     "name": "stdout",
     "output_type": "stream",
     "text": [
      "checking z and y for similarities:  [ True  True]\n",
      "checking z and y for differences:  [False False]\n",
      "for each value is z, is the value equal to 3:  [False  True]\n"
     ]
    }
   ],
   "source": [
    "z = np.array([2, 3])\n",
    "y = np.array([2, 3])\n",
    "\n",
    "# comparing two arrays\n",
    "print('checking z and y for similarities: ', z == y)\n",
    "print('checking z and y for differences: ', z != y)\n",
    "\n",
    "# comparing against scalar\n",
    "print('for each value is z, is the value equal to 3: ', z == 3 )"
   ]
  },
  {
   "cell_type": "markdown",
   "metadata": {},
   "source": [
    "## Convert array"
   ]
  },
  {
   "cell_type": "markdown",
   "metadata": {},
   "source": [
    "#### Convert datatype of array:\n",
    "First create list of lists and create array with dtype of float"
   ]
  },
  {
   "cell_type": "code",
   "execution_count": 6,
   "metadata": {},
   "outputs": [
    {
     "data": {
      "text/plain": [
       "array([[0., 1., 2.],\n",
       "       [3., 4., 5.],\n",
       "       [6., 7., 8.]])"
      ]
     },
     "execution_count": 6,
     "metadata": {},
     "output_type": "execute_result"
    }
   ],
   "source": [
    "num_list = [[0,1,2], [3,4,5], [6,7,8]]\n",
    "arr2d = np.array(num_list, dtype='float')\n",
    "arr2d"
   ]
  },
  {
   "cell_type": "markdown",
   "metadata": {},
   "source": [
    "Then, convert to 'int' datatype"
   ]
  },
  {
   "cell_type": "code",
   "execution_count": 7,
   "metadata": {},
   "outputs": [
    {
     "data": {
      "text/plain": [
       "array([[0, 1, 2],\n",
       "       [3, 4, 5],\n",
       "       [6, 7, 8]])"
      ]
     },
     "execution_count": 7,
     "metadata": {},
     "output_type": "execute_result"
    }
   ],
   "source": [
    "arr2d.astype('int')"
   ]
  },
  {
   "cell_type": "markdown",
   "metadata": {},
   "source": [
    "#### Convert array to list"
   ]
  },
  {
   "cell_type": "code",
   "execution_count": 8,
   "metadata": {},
   "outputs": [
    {
     "data": {
      "text/plain": [
       "[1, 2, 3, 4, 5]"
      ]
     },
     "execution_count": 8,
     "metadata": {},
     "output_type": "execute_result"
    }
   ],
   "source": [
    "my_array = np.array([1,2,3,4,5])\n",
    "my_array.tolist()"
   ]
  },
  {
   "cell_type": "markdown",
   "metadata": {},
   "source": [
    "### Inspecting an array"
   ]
  },
  {
   "cell_type": "code",
   "execution_count": 9,
   "metadata": {},
   "outputs": [
    {
     "data": {
      "text/plain": [
       "array([[1., 2., 3., 4.],\n",
       "       [3., 4., 5., 6.],\n",
       "       [5., 6., 7., 8.]])"
      ]
     },
     "execution_count": 9,
     "metadata": {},
     "output_type": "execute_result"
    }
   ],
   "source": [
    "list2 = [[1, 2, 3, 4],[3, 4, 5, 6], [5, 6, 7, 8]]\n",
    "arr2 = np.array(list2, dtype='float')\n",
    "arr2"
   ]
  },
  {
   "cell_type": "code",
   "execution_count": 10,
   "metadata": {},
   "outputs": [
    {
     "data": {
      "text/plain": [
       "(3, 4)"
      ]
     },
     "execution_count": 10,
     "metadata": {},
     "output_type": "execute_result"
    }
   ],
   "source": [
    "# Shape\n",
    "arr2.shape"
   ]
  },
  {
   "cell_type": "code",
   "execution_count": 11,
   "metadata": {},
   "outputs": [
    {
     "data": {
      "text/plain": [
       "dtype('float64')"
      ]
     },
     "execution_count": 11,
     "metadata": {},
     "output_type": "execute_result"
    }
   ],
   "source": [
    "# dtype\n",
    "arr2.dtype"
   ]
  },
  {
   "cell_type": "code",
   "execution_count": 12,
   "metadata": {},
   "outputs": [
    {
     "data": {
      "text/plain": [
       "12"
      ]
     },
     "execution_count": 12,
     "metadata": {},
     "output_type": "execute_result"
    }
   ],
   "source": [
    "# size\n",
    "arr2.size"
   ]
  },
  {
   "cell_type": "code",
   "execution_count": 13,
   "metadata": {},
   "outputs": [
    {
     "data": {
      "text/plain": [
       "2"
      ]
     },
     "execution_count": 13,
     "metadata": {},
     "output_type": "execute_result"
    }
   ],
   "source": [
    "# Number of dimensions\n",
    "arr2.ndim"
   ]
  },
  {
   "cell_type": "markdown",
   "metadata": {},
   "source": [
    "### Extracting specific items from an array"
   ]
  },
  {
   "cell_type": "markdown",
   "metadata": {},
   "source": [
    "- You can extract specific portions on an array using indexing starting with 0, something similar to how you would do with python lists.\n",
    "- But unlike lists, numpy arrays can optionally accept as many parameters in the square brackets as there is number of dimensions."
   ]
  },
  {
   "cell_type": "code",
   "execution_count": 14,
   "metadata": {},
   "outputs": [
    {
     "data": {
      "text/plain": [
       "array([[1., 2., 3., 4.],\n",
       "       [3., 4., 5., 6.],\n",
       "       [5., 6., 7., 8.]])"
      ]
     },
     "execution_count": 14,
     "metadata": {},
     "output_type": "execute_result"
    }
   ],
   "source": [
    "list2 = [[1, 2, 3, 4],[3, 4, 5, 6], [5, 6, 7, 8]]\n",
    "arr2 = np.array(list2, dtype='float')\n",
    "arr2"
   ]
  },
  {
   "cell_type": "code",
   "execution_count": 15,
   "metadata": {},
   "outputs": [
    {
     "data": {
      "text/plain": [
       "array([[1., 2.],\n",
       "       [3., 4.]])"
      ]
     },
     "execution_count": 15,
     "metadata": {},
     "output_type": "execute_result"
    }
   ],
   "source": [
    "# Extract the first 2 rows and columns\n",
    "arr2[:2, :2]"
   ]
  },
  {
   "cell_type": "markdown",
   "metadata": {},
   "source": [
    "Additionally, numpy arrays support boolean indexing. A boolean index array is of the same shape as the array-to-be-filtered and it contains only True and False values. The values corresponding to True positions are retained in the output."
   ]
  },
  {
   "cell_type": "code",
   "execution_count": 16,
   "metadata": {},
   "outputs": [
    {
     "data": {
      "text/plain": [
       "array([[False, False, False, False],\n",
       "       [False, False, False,  True],\n",
       "       [False,  True,  True,  True]])"
      ]
     },
     "execution_count": 16,
     "metadata": {},
     "output_type": "execute_result"
    }
   ],
   "source": [
    "arr2 > 5"
   ]
  },
  {
   "cell_type": "markdown",
   "metadata": {},
   "source": [
    "### Reversing an array"
   ]
  },
  {
   "cell_type": "code",
   "execution_count": 17,
   "metadata": {},
   "outputs": [
    {
     "data": {
      "text/plain": [
       "array([5, 4, 3, 2, 1])"
      ]
     },
     "execution_count": 17,
     "metadata": {},
     "output_type": "execute_result"
    }
   ],
   "source": [
    "arr1 = np.array([1,2,3,4,5])\n",
    "arr1[::-1]"
   ]
  },
  {
   "cell_type": "code",
   "execution_count": 18,
   "metadata": {},
   "outputs": [
    {
     "data": {
      "text/plain": [
       "array([[1., 2., 3., 4.],\n",
       "       [3., 4., 5., 6.],\n",
       "       [5., 6., 7., 8.]])"
      ]
     },
     "execution_count": 18,
     "metadata": {},
     "output_type": "execute_result"
    }
   ],
   "source": [
    "list2 = [[1, 2, 3, 4],[3, 4, 5, 6], [5, 6, 7, 8]]\n",
    "arr2 = np.array(list2, dtype='float')\n",
    "arr2"
   ]
  },
  {
   "cell_type": "code",
   "execution_count": 19,
   "metadata": {},
   "outputs": [
    {
     "data": {
      "text/plain": [
       "array([[5., 6., 7., 8.],\n",
       "       [3., 4., 5., 6.],\n",
       "       [1., 2., 3., 4.]])"
      ]
     },
     "execution_count": 19,
     "metadata": {},
     "output_type": "execute_result"
    }
   ],
   "source": [
    "# Reverse only the row positions\n",
    "arr2[::-1, ]"
   ]
  },
  {
   "cell_type": "code",
   "execution_count": 20,
   "metadata": {},
   "outputs": [
    {
     "data": {
      "text/plain": [
       "array([[8., 7., 6., 5.],\n",
       "       [6., 5., 4., 3.],\n",
       "       [4., 3., 2., 1.]])"
      ]
     },
     "execution_count": 20,
     "metadata": {},
     "output_type": "execute_result"
    }
   ],
   "source": [
    "arr2[::-1, ::-1]"
   ]
  },
  {
   "cell_type": "markdown",
   "metadata": {},
   "source": [
    "### How to represent missing values and infinite?"
   ]
  },
  {
   "cell_type": "markdown",
   "metadata": {},
   "source": [
    "- Missing values can be represented using np.nan object, while np.inf represents infinite."
   ]
  },
  {
   "cell_type": "code",
   "execution_count": 21,
   "metadata": {},
   "outputs": [
    {
     "data": {
      "text/plain": [
       "array([[ 1.,  2.,  3.,  4.],\n",
       "       [ 3., nan, inf,  6.],\n",
       "       [ 5.,  6.,  7.,  8.]])"
      ]
     },
     "execution_count": 21,
     "metadata": {},
     "output_type": "execute_result"
    }
   ],
   "source": [
    "# Insert a nan and an inf\n",
    "\n",
    "list2 = [[1, 2, 3, 4],[3, 4, 5, 6], [5, 6, 7, 8]]\n",
    "arr2 = np.array(list2, dtype='float')\n",
    "arr2[1,1] = np.nan  # not a number\n",
    "arr2[1,2] = np.inf  # infinite\n",
    "arr2"
   ]
  },
  {
   "cell_type": "code",
   "execution_count": 22,
   "metadata": {},
   "outputs": [
    {
     "data": {
      "text/plain": [
       "array([[False, False, False, False],\n",
       "       [False,  True,  True, False],\n",
       "       [False, False, False, False]])"
      ]
     },
     "execution_count": 22,
     "metadata": {},
     "output_type": "execute_result"
    }
   ],
   "source": [
    "# Replace nan and inf with -1. Don't use arr2 == np.nan\n",
    "\n",
    "missing_bool = np.isnan(arr2) | np.isinf(arr2)\n",
    "missing_bool"
   ]
  },
  {
   "cell_type": "code",
   "execution_count": 23,
   "metadata": {},
   "outputs": [
    {
     "data": {
      "text/plain": [
       "array([[ 1.,  2.,  3.,  4.],\n",
       "       [ 3., -1., -1.,  6.],\n",
       "       [ 5.,  6.,  7.,  8.]])"
      ]
     },
     "execution_count": 23,
     "metadata": {},
     "output_type": "execute_result"
    }
   ],
   "source": [
    "# replaces the value where the corresponding positions in the missing bool array is equal to True\n",
    "arr2[missing_bool] = -1  \n",
    "arr2"
   ]
  },
  {
   "cell_type": "markdown",
   "metadata": {},
   "source": [
    "## Creating a new array from an existing array"
   ]
  },
  {
   "cell_type": "markdown",
   "metadata": {},
   "source": [
    "If you just assign a portion of an array to another array, the new array you just created actually refers to the parent array in memory. That means, if you make any changes to the new array, it will reflect in the parent array as well. So to avoid disturbing the parent array, you need to make a copy of it using copy(). All numpy arrays come with the copy() method."
   ]
  },
  {
   "cell_type": "code",
   "execution_count": 27,
   "metadata": {},
   "outputs": [
    {
     "data": {
      "text/plain": [
       "array([[1, 2, 3, 4],\n",
       "       [3, 4, 5, 6],\n",
       "       [5, 6, 7, 8]])"
      ]
     },
     "execution_count": 27,
     "metadata": {},
     "output_type": "execute_result"
    }
   ],
   "source": [
    "arr2 = np.array([[1, 2, 3, 4],[3, 4, 5, 6], [5, 6, 7, 8]], dtype='int')\n",
    "arr2"
   ]
  },
  {
   "cell_type": "code",
   "execution_count": 28,
   "metadata": {},
   "outputs": [
    {
     "data": {
      "text/plain": [
       "array([[1, 2],\n",
       "       [3, 4]])"
      ]
     },
     "execution_count": 28,
     "metadata": {},
     "output_type": "execute_result"
    }
   ],
   "source": [
    "arr2b = arr2[:2, :2].copy()\n",
    "arr2b"
   ]
  },
  {
   "cell_type": "markdown",
   "metadata": {},
   "source": [
    "## Rashaping an array"
   ]
  },
  {
   "cell_type": "markdown",
   "metadata": {},
   "source": [
    "Reshaping is changing the arrangement of items so that shape of the array changes while maintaining the same number of dimensions."
   ]
  },
  {
   "cell_type": "code",
   "execution_count": 29,
   "metadata": {},
   "outputs": [
    {
     "data": {
      "text/plain": [
       "array([[1, 2, 3, 4],\n",
       "       [3, 4, 5, 6],\n",
       "       [5, 6, 7, 8]])"
      ]
     },
     "execution_count": 29,
     "metadata": {},
     "output_type": "execute_result"
    }
   ],
   "source": [
    "# Creating a 2d array consisting of 3 rows and 4 columns\n",
    "arr2 = np.array([[1, 2, 3, 4],[3, 4, 5, 6], [5, 6, 7, 8]], dtype='int')\n",
    "arr2"
   ]
  },
  {
   "cell_type": "code",
   "execution_count": 30,
   "metadata": {},
   "outputs": [
    {
     "data": {
      "text/plain": [
       "array([[1, 2, 3],\n",
       "       [4, 3, 4],\n",
       "       [5, 6, 5],\n",
       "       [6, 7, 8]])"
      ]
     },
     "execution_count": 30,
     "metadata": {},
     "output_type": "execute_result"
    }
   ],
   "source": [
    "# reshaping the array to have 4 rows and 3 columns\n",
    "arr2.reshape(4, 3)"
   ]
  },
  {
   "cell_type": "markdown",
   "metadata": {},
   "source": [
    "## Flattening a multi-dimensional array"
   ]
  },
  {
   "cell_type": "markdown",
   "metadata": {},
   "source": [
    "- Flattening will convert a multi-dimensional array to a flat 1d array. And not any other shape.\n",
    "- There are 2 popular ways to implement flattening. That is using the flatten() method and the other using the ravel() method.\n",
    "- The difference between ravel and flatten is, the **new array created using ravel is actually a reference to the parent array**. So, any changes to the new array will affect the parent as well. But is memory efficient since it does not create a copy.\n"
   ]
  },
  {
   "cell_type": "code",
   "execution_count": 31,
   "metadata": {},
   "outputs": [
    {
     "data": {
      "text/plain": [
       "array([[1, 2, 3, 4],\n",
       "       [3, 4, 5, 6],\n",
       "       [5, 6, 7, 8]])"
      ]
     },
     "execution_count": 31,
     "metadata": {},
     "output_type": "execute_result"
    }
   ],
   "source": [
    "arr2 = np.array([[1, 2, 3, 4],[3, 4, 5, 6], [5, 6, 7, 8]], dtype='int')\n",
    "arr2"
   ]
  },
  {
   "cell_type": "code",
   "execution_count": 32,
   "metadata": {},
   "outputs": [
    {
     "data": {
      "text/plain": [
       "array([1, 2, 3, 4, 3, 4, 5, 6, 5, 6, 7, 8])"
      ]
     },
     "execution_count": 32,
     "metadata": {},
     "output_type": "execute_result"
    }
   ],
   "source": [
    "arr2.flatten()"
   ]
  },
  {
   "cell_type": "markdown",
   "metadata": {},
   "source": [
    "## Creating sequences, repetitions and random numbers"
   ]
  },
  {
   "cell_type": "markdown",
   "metadata": {},
   "source": [
    "#### Sequence:\n",
    "- The np.arange function comes handy to create customised number sequences as ndarray."
   ]
  },
  {
   "cell_type": "code",
   "execution_count": 33,
   "metadata": {},
   "outputs": [
    {
     "data": {
      "text/plain": [
       "array([0, 1, 2, 3, 4])"
      ]
     },
     "execution_count": 33,
     "metadata": {},
     "output_type": "execute_result"
    }
   ],
   "source": [
    "# array of numbers 0-4\n",
    "np.arange(5)"
   ]
  },
  {
   "cell_type": "code",
   "execution_count": 47,
   "metadata": {},
   "outputs": [
    {
     "data": {
      "text/plain": [
       "array([5, 6, 7, 8, 9])"
      ]
     },
     "execution_count": 47,
     "metadata": {},
     "output_type": "execute_result"
    }
   ],
   "source": [
    "# array of numbers 5-9\n",
    "np.arange(5,10)"
   ]
  },
  {
   "cell_type": "code",
   "execution_count": 35,
   "metadata": {},
   "outputs": [
    {
     "data": {
      "text/plain": [
       "array([0, 2, 4, 6, 8])"
      ]
     },
     "execution_count": 35,
     "metadata": {},
     "output_type": "execute_result"
    }
   ],
   "source": [
    "# array of numbers 0-9 with a step of 2\n",
    "np.arange(0, 10, 2)  "
   ]
  },
  {
   "cell_type": "code",
   "execution_count": 36,
   "metadata": {},
   "outputs": [
    {
     "data": {
      "text/plain": [
       "array([10,  9,  8,  7,  6,  5,  4,  3,  2,  1])"
      ]
     },
     "execution_count": 36,
     "metadata": {},
     "output_type": "execute_result"
    }
   ],
   "source": [
    "# array of 10 to 1, decreasing\n",
    "np.arange(10, 0, -1)"
   ]
  },
  {
   "cell_type": "markdown",
   "metadata": {},
   "source": [
    "- We can set the starting and end positions using **np.arange**, but if you are focused on the number of items in the array you will have to manually calculate the appropriate step value. \n",
    "- Say we want to create an array of exactly 10 numbers between 1 and 50. How would we do that?\n",
    "    - ANSWER: **np.linspance()**"
   ]
  },
  {
   "cell_type": "code",
   "execution_count": 37,
   "metadata": {},
   "outputs": [
    {
     "data": {
      "text/plain": [
       "array([ 1,  6, 11, 17, 22, 28, 33, 39, 44, 50])"
      ]
     },
     "execution_count": 37,
     "metadata": {},
     "output_type": "execute_result"
    }
   ],
   "source": [
    "# Start at 1 and end at 50\n",
    "np.linspace(start=1, stop=50, num=10, dtype=int)"
   ]
  },
  {
   "cell_type": "markdown",
   "metadata": {},
   "source": [
    "### Repeating sequences"
   ]
  },
  {
   "cell_type": "markdown",
   "metadata": {},
   "source": [
    "- **np.tile()** will repeat a whole list or array n times.\n",
    "- **np.repeat()** repeats each item n times."
   ]
  },
  {
   "cell_type": "code",
   "execution_count": 38,
   "metadata": {},
   "outputs": [
    {
     "name": "stdout",
     "output_type": "stream",
     "text": [
      "arr:     [1, 2, 3]\n",
      "Tile:    [1 2 3 1 2 3]\n",
      "Repeat:  [1 1 2 2 3 3]\n"
     ]
    }
   ],
   "source": [
    "arr = [1,2,3]\n",
    "print ('arr:    ', arr)\n",
    "print('Tile:   ', np.tile(arr, 2))\n",
    "print('Repeat: ', np.repeat(arr, 2))"
   ]
  },
  {
   "cell_type": "markdown",
   "metadata": {},
   "source": [
    "### Generating random numbers"
   ]
  },
  {
   "cell_type": "markdown",
   "metadata": {},
   "source": [
    "The random module provides nice functions to generate random numbers (and also statistical distributions) of any given shape."
   ]
  },
  {
   "cell_type": "code",
   "execution_count": 39,
   "metadata": {},
   "outputs": [
    {
     "data": {
      "text/plain": [
       "array([[31.683582  , 72.88622307],\n",
       "       [89.48382231, 19.36895201]])"
      ]
     },
     "execution_count": 39,
     "metadata": {},
     "output_type": "execute_result"
    }
   ],
   "source": [
    "# Random numbers between [0,1) of shape 2,2\n",
    "np.random.rand(2,2) * 100"
   ]
  },
  {
   "cell_type": "code",
   "execution_count": 40,
   "metadata": {},
   "outputs": [
    {
     "data": {
      "text/plain": [
       "array([[-1.84180822,  1.65550703],\n",
       "       [-1.57445479,  0.18611919]])"
      ]
     },
     "execution_count": 40,
     "metadata": {},
     "output_type": "execute_result"
    }
   ],
   "source": [
    "# Normal distribution with mean=0 and variance=1 of shape 2,2\n",
    "np.random.randn(2,2)"
   ]
  },
  {
   "cell_type": "code",
   "execution_count": 41,
   "metadata": {},
   "outputs": [
    {
     "data": {
      "text/plain": [
       "array([[3, 4],\n",
       "       [5, 6]])"
      ]
     },
     "execution_count": 41,
     "metadata": {},
     "output_type": "execute_result"
    }
   ],
   "source": [
    "# Random integers between [0, 10) of shape 2,2\n",
    "np.random.randint(0, 10, size=[2,2])"
   ]
  },
  {
   "cell_type": "code",
   "execution_count": 42,
   "metadata": {},
   "outputs": [
    {
     "data": {
      "text/plain": [
       "0.9544592914906894"
      ]
     },
     "execution_count": 42,
     "metadata": {},
     "output_type": "execute_result"
    }
   ],
   "source": [
    "# One random number between [0,1)\n",
    "np.random.random()"
   ]
  },
  {
   "cell_type": "code",
   "execution_count": 43,
   "metadata": {},
   "outputs": [
    {
     "data": {
      "text/plain": [
       "array([[0.16000537, 0.89659097],\n",
       "       [0.9296281 , 0.197352  ]])"
      ]
     },
     "execution_count": 43,
     "metadata": {},
     "output_type": "execute_result"
    }
   ],
   "source": [
    "# Random numbers between [0,1) of shape 2,2\n",
    "np.random.random(size=[2,2])"
   ]
  },
  {
   "cell_type": "code",
   "execution_count": 44,
   "metadata": {
    "scrolled": true
   },
   "outputs": [
    {
     "data": {
      "text/plain": [
       "array(['u', 'i', 'i'], dtype='<U1')"
      ]
     },
     "execution_count": 44,
     "metadata": {},
     "output_type": "execute_result"
    }
   ],
   "source": [
    "# Pick 3 items from a given list, with equal probability\n",
    "# An item can be picked several times\n",
    "np.random.choice(['a', 'e', 'i', 'o', 'u'], size=3)"
   ]
  },
  {
   "cell_type": "markdown",
   "metadata": {},
   "source": [
    "### Create array with zeroes or ones"
   ]
  },
  {
   "cell_type": "code",
   "execution_count": 49,
   "metadata": {},
   "outputs": [
    {
     "name": "stdout",
     "output_type": "stream",
     "text": [
      " 5 zeroes:  [0. 0. 0. 0. 0.]\n",
      " 5 ones:  [1. 1. 1. 1. 1.]\n"
     ]
    }
   ],
   "source": [
    "print(' 5 zeroes: ', np.zeros(5))\n",
    "print(' 5 ones: ', np.ones(5))"
   ]
  },
  {
   "cell_type": "markdown",
   "metadata": {},
   "source": [
    "### Unique items\n",
    "\n",
    "- The **np.unique()** method can be used to get the unique items"
   ]
  },
  {
   "cell_type": "code",
   "execution_count": 45,
   "metadata": {},
   "outputs": [
    {
     "data": {
      "text/plain": [
       "array([8, 8, 3, 7, 7, 0, 4, 2, 5, 2])"
      ]
     },
     "execution_count": 45,
     "metadata": {},
     "output_type": "execute_result"
    }
   ],
   "source": [
    "# Create random integers of size 10 between [0,10)\n",
    "np.random.seed(100)\n",
    "arr_rand = np.random.randint(0, 10, size=10)\n",
    "arr_rand"
   ]
  },
  {
   "cell_type": "code",
   "execution_count": 46,
   "metadata": {},
   "outputs": [
    {
     "name": "stdout",
     "output_type": "stream",
     "text": [
      "Unique items :  [0 2 3 4 5 7 8]\n",
      "Counts       :  [1 2 1 1 1 2 2]\n"
     ]
    }
   ],
   "source": [
    "uniqs, counts = np.unique(arr_rand, return_counts=True)\n",
    "print(\"Unique items : \", uniqs)\n",
    "print(\"Counts       : \", counts)"
   ]
  },
  {
   "cell_type": "code",
   "execution_count": null,
   "metadata": {},
   "outputs": [],
   "source": []
  }
 ],
 "metadata": {
  "hide_input": false,
  "kernelspec": {
   "display_name": "Python 3",
   "language": "python",
   "name": "python3"
  },
  "language_info": {
   "codemirror_mode": {
    "name": "ipython",
    "version": 3
   },
   "file_extension": ".py",
   "mimetype": "text/x-python",
   "name": "python",
   "nbconvert_exporter": "python",
   "pygments_lexer": "ipython3",
   "version": "3.7.3"
  },
  "latex_envs": {
   "LaTeX_envs_menu_present": true,
   "autoclose": true,
   "autocomplete": true,
   "bibliofile": "biblio.bib",
   "cite_by": "apalike",
   "current_citInitial": 1,
   "eqLabelWithNumbers": true,
   "eqNumInitial": 1,
   "hotkeys": {
    "equation": "Ctrl-E",
    "itemize": "Ctrl-I"
   },
   "labels_anchors": false,
   "latex_user_defs": false,
   "report_style_numbering": false,
   "user_envs_cfg": false
  },
  "toc": {
   "colors": {
    "hover_highlight": "#DAA520",
    "navigate_num": "#000000",
    "navigate_text": "#333333",
    "running_highlight": "#FF0000",
    "selected_highlight": "#FFD700",
    "sidebar_border": "#EEEEEE",
    "wrapper_background": "#FFFFFF"
   },
   "moveMenuLeft": false,
   "navigate_menu": false,
   "number_sections": false,
   "sideBar": true,
   "threshold": "6",
   "toc_cell": true,
   "toc_section_display": "block",
   "toc_window_display": true,
   "widenNotebook": true
  }
 },
 "nbformat": 4,
 "nbformat_minor": 2
}
