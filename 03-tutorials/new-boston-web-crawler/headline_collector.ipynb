{
 "cells": [
  {
   "cell_type": "markdown",
   "metadata": {
    "toc": "true"
   },
   "source": [
    "# Table of Contents\n",
    " <p><div class=\"lev5 toc-item\"><a href=\"#Objective:\" data-toc-modified-id=\"Objective:-00001\"><span class=\"toc-item-num\">0.0.0.0.1&nbsp;&nbsp;</span>Objective:</a></div>"
   ]
  },
  {
   "cell_type": "markdown",
   "metadata": {},
   "source": [
    "##### Objective:\n",
    "- finding how many days each article is displayed\n",
    "- most used words in headlines\n",
    "- author of articles\n",
    "- articles divided by topic\n",
    "- are some articles listed twice on the main page?\n",
    "- word count of each article\n",
    "- average word count of author\n",
    "- relationship between type of article and lenght of time on the main page"
   ]
  },
  {
   "cell_type": "code",
   "execution_count": 1,
   "metadata": {},
   "outputs": [],
   "source": [
    "import pandas as pd\n",
    "import matplotlib.pyplot as plt\n",
    "\n",
    "from jupyterthemes import jtplot\n",
    "from pprint import pprint\n",
    "import datetime as dt\n",
    "import requests\n",
    "from bs4 import BeautifulSoup\n",
    "from selenium import webdriver\n",
    "from selenium.common.exceptions import TimeoutException\n",
    "from selenium.webdriver.support.ui import WebDriverWait\n",
    "from selenium.webdriver.support import expected_conditions as EC\n",
    "from selenium.webdriver.common.by import By\n",
    "import csv\n",
    "from threading import Thread\n",
    "import queue\n",
    "\n",
    "%matplotlib inline\n",
    "%config IPCompleter.greedy=True\n",
    "\n",
    "jtplot.style('onedork', ticks=True, context='notebook', grid=True, spines=False, gridlines='-')"
   ]
  },
  {
   "cell_type": "code",
   "execution_count": 2,
   "metadata": {},
   "outputs": [],
   "source": [
    "# Function for gatherinng urls from the main page of Dagbladet.no: \n",
    "bad_urls = [\n",
    "        'https://www.dagbladet.no/oddstips',\n",
    "        'https://www.dagbladet.no/annonse/',\n",
    "        'https://www.dagbladet.no/video/',\n",
    "        'https://www.dagbladet.no/pluss/utgave/',\n",
    "]\n",
    "\n",
    "url = 'https://www.dagbladet.no/'\n",
    "\n",
    "def db_gather_urls(front_page_url):\n",
    "    driver.get(front_page_url)\n",
    "    links = driver.find_elements_by_css_selector('article > a')\n",
    "    links_list = []\n",
    "    for link in links:\n",
    "        part_url = str(link.get_attribute('href'))[0:24]\n",
    "        full_url = str(link.get_attribute('href'))\n",
    "        if part_url == 'https://www.dagbladet.no' and not any(substring in full_url for substring in bad_urls):\n",
    "            links_list.append(link.get_attribute('href'))\n",
    "    return links_list    "
   ]
  },
  {
   "cell_type": "code",
   "execution_count": 3,
   "metadata": {},
   "outputs": [],
   "source": [
    "# access each article and gather some basic information\n",
    "def db_article_statistics(url):\n",
    "    try:\n",
    "        driver.get(url)\n",
    "        title = str(driver.find_element_by_class_name('headline').text)\n",
    "        date = driver.find_element_by_class_name('published').get_attribute('datetime')[:10]\n",
    "        published = dt.datetime.strptime(date, '%Y-%m-%d').date()\n",
    "        if driver.find_element_by_class_name('name').text:\n",
    "            author = driver.find_element_by_class_name('name').text\n",
    "        else:\n",
    "            author = ''\n",
    "        texts = driver.find_elements_by_css_selector('div.body-copy > p')\n",
    "        counter = 0\n",
    "        for text in texts:\n",
    "            counter = counter + len(text.text.split(sep=' '))\n",
    "        line = f'{url}, {title}, {published}, {author}, {counter} \\n'\n",
    "        return line\n",
    "    except:\n",
    "        pass"
   ]
  },
  {
   "cell_type": "code",
   "execution_count": 4,
   "metadata": {},
   "outputs": [],
   "source": [
    "from selenium.webdriver.firefox.options import Options\n",
    "options = Options()\n",
    "options.add_argument(\"--headless\")\n",
    "driver = webdriver.Firefox(options=options)"
   ]
  },
  {
   "cell_type": "code",
   "execution_count": 5,
   "metadata": {},
   "outputs": [],
   "source": [
    "def collect_db_headlines():\n",
    "    today = str(dt.date.today())\n",
    "    counter = 0\n",
    "    filename = 'dagbladet_articles.txt'\n",
    "    with open(filename, 'a') as csv_file:\n",
    "        #driver = webdriver.PhantomJS(service_args=['--load-images=no'])\n",
    "        urls = db_gather_urls('https://www.dagbladet.no/')\n",
    "        print(f'number of dagbladet urls: {len(urls)}')\n",
    "        for url in urls:\n",
    "            counter += 1\n",
    "            line = f'{today}-{counter},{db_article_statistics(url)}'\n",
    "            csv_file.write(line)\n",
    "        driver.quit()"
   ]
  },
  {
   "cell_type": "code",
   "execution_count": 6,
   "metadata": {
    "scrolled": true
   },
   "outputs": [
    {
     "name": "stdout",
     "output_type": "stream",
     "text": [
      "number of dagbladet urls: 158\n"
     ]
    }
   ],
   "source": [
    "collect_db_headlines()"
   ]
  },
  {
   "cell_type": "code",
   "execution_count": null,
   "metadata": {},
   "outputs": [],
   "source": []
  }
 ],
 "metadata": {
  "hide_input": false,
  "kernelspec": {
   "display_name": "Python 3",
   "language": "python",
   "name": "python3"
  },
  "language_info": {
   "codemirror_mode": {
    "name": "ipython",
    "version": 3
   },
   "file_extension": ".py",
   "mimetype": "text/x-python",
   "name": "python",
   "nbconvert_exporter": "python",
   "pygments_lexer": "ipython3",
   "version": "3.7.2"
  },
  "latex_envs": {
   "LaTeX_envs_menu_present": true,
   "autocomplete": true,
   "bibliofile": "biblio.bib",
   "cite_by": "apalike",
   "current_citInitial": 1,
   "eqLabelWithNumbers": true,
   "eqNumInitial": 1,
   "hotkeys": {
    "equation": "Ctrl-E",
    "itemize": "Ctrl-I"
   },
   "labels_anchors": false,
   "latex_user_defs": false,
   "report_style_numbering": false,
   "user_envs_cfg": false
  },
  "toc": {
   "colors": {
    "hover_highlight": "#DAA520",
    "navigate_num": "#000000",
    "navigate_text": "#333333",
    "running_highlight": "#FF0000",
    "selected_highlight": "#FFD700",
    "sidebar_border": "#EEEEEE",
    "wrapper_background": "#FFFFFF"
   },
   "moveMenuLeft": false,
   "navigate_menu": false,
   "number_sections": false,
   "sideBar": false,
   "threshold": "6",
   "toc_cell": true,
   "toc_position": {
    "height": "22px",
    "left": "1322px",
    "right": "1px",
    "top": "-2.83333px",
    "width": "437px"
   },
   "toc_section_display": "block",
   "toc_window_display": true,
   "widenNotebook": true
  }
 },
 "nbformat": 4,
 "nbformat_minor": 2
}
