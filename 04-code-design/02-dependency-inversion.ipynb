{
 "metadata": {
  "language_info": {
   "codemirror_mode": {
    "name": "ipython",
    "version": 3
   },
   "file_extension": ".py",
   "mimetype": "text/x-python",
   "name": "python",
   "nbconvert_exporter": "python",
   "pygments_lexer": "ipython3",
   "version": "3.9.2"
  },
  "orig_nbformat": 4,
  "kernelspec": {
   "name": "python3",
   "display_name": "Python 3.9.2 64-bit ('spenncon': conda)"
  },
  "interpreter": {
   "hash": "507de2949f96cf2a8cd444545416ece97be4602621bb9b81d732798e663a33bf"
  }
 },
 "nbformat": 4,
 "nbformat_minor": 2,
 "cells": [
  {
   "source": [
    "### Before"
   ],
   "cell_type": "markdown",
   "metadata": {}
  },
  {
   "cell_type": "code",
   "execution_count": 1,
   "metadata": {},
   "outputs": [
    {
     "output_type": "stream",
     "name": "stdout",
     "text": [
      "LightBulb: turned on...\nLightBulb: turned off...\n"
     ]
    }
   ],
   "source": [
    "class LightBulb:\n",
    "    def turn_on(self):\n",
    "        print(\"LightBulb: turned on...\")\n",
    "\n",
    "    def turn_off(self):\n",
    "        print(\"LightBulb: turned off...\")\n",
    "\n",
    "\n",
    "class ElectricPowerSwitch:\n",
    "\n",
    "    def __init__(self, l: LightBulb):\n",
    "        self.lightBulb = l\n",
    "        self.on = False\n",
    "\n",
    "    def press(self):\n",
    "        if self.on:\n",
    "            self.lightBulb.turn_off()\n",
    "            self.on = False\n",
    "        else:\n",
    "            self.lightBulb.turn_on()\n",
    "            self.on = True\n",
    "\n",
    "\n",
    "l = LightBulb()\n",
    "switch = ElectricPowerSwitch(l)\n",
    "switch.press()\n",
    "switch.press()"
   ]
  },
  {
   "source": [
    "### After"
   ],
   "cell_type": "markdown",
   "metadata": {}
  },
  {
   "cell_type": "code",
   "execution_count": 2,
   "metadata": {},
   "outputs": [
    {
     "output_type": "stream",
     "name": "stdout",
     "text": [
      "Fan: turned on...\nFan: turned off...\nLightBulb: turned on...\nLightBulb: turned off...\n"
     ]
    }
   ],
   "source": [
    "from abc import ABC, abstractmethod\n",
    "\n",
    "\n",
    "class Switchable(ABC):\n",
    "    @abstractmethod\n",
    "    def turn_on(self):\n",
    "        pass\n",
    "\n",
    "    @abstractmethod\n",
    "    def turn_off(self):\n",
    "        pass\n",
    "\n",
    "# It is not possible to create an instance of an abstract class\n",
    "\n",
    "# The methods in the abstract class must also be inherited\n",
    "# in the classes that inherit from the abstract class\n",
    "\n",
    "class LightBulb(Switchable):\n",
    "    def turn_on(self):\n",
    "        print(\"LightBulb: turned on...\")\n",
    "\n",
    "    def turn_off(self):\n",
    "        print(\"LightBulb: turned off...\")\n",
    "\n",
    "\n",
    "# We can also create other classes that has the same functionality\n",
    "class Fan(Switchable):\n",
    "    def turn_on(self):\n",
    "        print(\"Fan: turned on...\")\n",
    "\n",
    "    def turn_off(self):\n",
    "        print(\"Fan: turned off...\")\n",
    "\n",
    "\n",
    "class ElectricPowerSwitch:\n",
    "\n",
    "    def __init__(self, c: Switchable):\n",
    "        self.client = c\n",
    "        self.on = False\n",
    "\n",
    "    def press(self):\n",
    "        if self.on:\n",
    "            self.client.turn_off()\n",
    "            self.on = False\n",
    "        else:\n",
    "            self.client.turn_on()\n",
    "            self.on = True\n",
    "\n",
    "\n",
    "l = LightBulb()\n",
    "f = Fan()\n",
    "fan = ElectricPowerSwitch(f)\n",
    "fan.press()\n",
    "fan.press()\n",
    "\n",
    "bulb = ElectricPowerSwitch(l)\n",
    "bulb.press()\n",
    "bulb.press()"
   ]
  },
  {
   "source": [
    "### Info:\n",
    "- It is not possible to create an instance of an abstract class"
   ],
   "cell_type": "markdown",
   "metadata": {}
  },
  {
   "cell_type": "code",
   "execution_count": null,
   "metadata": {},
   "outputs": [],
   "source": []
  }
 ]
}