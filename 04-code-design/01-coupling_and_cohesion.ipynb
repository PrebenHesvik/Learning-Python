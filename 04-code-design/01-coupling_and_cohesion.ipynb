{
 "metadata": {
  "language_info": {
   "codemirror_mode": {
    "name": "ipython",
    "version": 3
   },
   "file_extension": ".py",
   "mimetype": "text/x-python",
   "name": "python",
   "nbconvert_exporter": "python",
   "pygments_lexer": "ipython3",
   "version": "3.9.5"
  },
  "orig_nbformat": 4,
  "kernelspec": {
   "name": "python3",
   "display_name": "Python 3.9.5 64-bit ('spenncon': conda)"
  },
  "interpreter": {
   "hash": "05d659cf7217a31b7ba206b7e3fe1d98040361cb242cc44ce7c59206cfd427bc"
  }
 },
 "nbformat": 4,
 "nbformat_minor": 2,
 "cells": [
  {
   "source": [
    "#### Cohesion:\n",
    "- The degree to how elements in a certain class or function belong together\n",
    "- Weak cohesion: function does a lot of different things that do not belong together\n",
    "- Strong cohesion means that a function/class has a clear resposibility and performs only one task\n",
    "- Strong cohesion makes code easier to maintain\n",
    "\n",
    "#### Coupling:\n",
    "- A measure on how dependent two parts of your code are on each other\n",
    "- There will always be some coupling, but more coupling results in higher difficulty in mainting the code"
   ],
   "cell_type": "markdown",
   "metadata": {}
  },
  {
   "source": [
    "### Before:"
   ],
   "cell_type": "markdown",
   "metadata": {}
  },
  {
   "cell_type": "code",
   "execution_count": null,
   "metadata": {},
   "outputs": [],
   "source": []
  },
  {
   "cell_type": "code",
   "execution_count": 1,
   "metadata": {},
   "outputs": [
    {
     "output_type": "stream",
     "name": "stdout",
     "text": [
      "Registration complete. Vehicle information:\nBrand: Volkswagen ID3\nId: RIYADFLSDRSD\nLicense plate: RI-59-HT\nPayable tax: 700.0\n"
     ]
    }
   ],
   "source": [
    "import string\n",
    "import random\n",
    "\n",
    "class VehicleRegistry:\n",
    "\n",
    "    def generate_vehicle_id(self, length):\n",
    "        return ''.join(random.choices(string.ascii_uppercase, k=length))\n",
    "\n",
    "    def generate_vehicle_license(self, id):\n",
    "        return f\"{id[:2]}-{''.join(random.choices(string.digits, k=2))}-{''.join(random.choices(string.ascii_uppercase, k=2))}\"\n",
    "\n",
    "\n",
    "class Application:\n",
    "\n",
    "    def register_vehicle(self, brand: string):\n",
    "        # create a registry instance\n",
    "        registry = VehicleRegistry()\n",
    "\n",
    "        # generate a vehicle id of length 12\n",
    "        vehicle_id = registry.generate_vehicle_id(12)\n",
    "\n",
    "        # now generate a license plate for the vehicle\n",
    "        # using the first two characters of the vehicle id\n",
    "        license_plate = registry.generate_vehicle_license(vehicle_id)\n",
    "\n",
    "        # compute the catalogue price\n",
    "        # THIS PART OF THE CODE MAKES IT SO WE NEED A NEW ELIF STATEMENT\n",
    "        # FOR EVERY CAR WE MAKE \n",
    "        catalogue_price = 0\n",
    "        if brand == \"Tesla Model 3\":\n",
    "            catalogue_price = 60000\n",
    "        elif brand == \"Volkswagen ID3\":\n",
    "            catalogue_price = 35000\n",
    "        elif brand == \"BMW 5\":\n",
    "            catalogue_price = 45000\n",
    "\n",
    "        # compute the tax percentage (default 5% of the catalogue price, except for electric cars where it is 2%)\n",
    "        # AND WE HAVE TO ADD THE MAKE OF THE CAR HERE IF THE CAR IS ELETRIC\n",
    "        tax_percentage = 0.05\n",
    "        if brand == \"Tesla Model 3\" or brand == \"Volkswagen ID3\":\n",
    "            tax_percentage = 0.02\n",
    "\n",
    "        # compute the payable tax\n",
    "        payable_tax = tax_percentage * catalogue_price\n",
    "\n",
    "        # print out the vehicle registration information\n",
    "        print(\"Registration complete. Vehicle information:\")\n",
    "        print(f\"Brand: {brand}\")\n",
    "        print(f\"Id: {vehicle_id}\")\n",
    "        print(f\"License plate: {license_plate}\")\n",
    "        print(f\"Payable tax: {payable_tax}\")\n",
    "\n",
    "app = Application()\n",
    "app.register_vehicle(\"Volkswagen ID3\")"
   ]
  },
  {
   "source": [
    "### After refactoring"
   ],
   "cell_type": "markdown",
   "metadata": {}
  },
  {
   "cell_type": "code",
   "execution_count": 8,
   "metadata": {},
   "outputs": [
    {
     "output_type": "stream",
     "name": "stdout",
     "text": [
      "self.info is an instance of VehicleInfo?  True\nId: KLOIDHRVPJOH\nLicense plate: KL-01-KR\nBrand: Volkswagen ID3\nElectric: True\nPayable tax: 700.0\n"
     ]
    }
   ],
   "source": [
    "class VehicleInfo:\n",
    "    brand: str\n",
    "    catalogue_price: int\n",
    "    electric: bool\n",
    "    \n",
    "    def __init__(self, brand, electric, catalogue_price):\n",
    "        self.brand = brand\n",
    "        self.electric = electric\n",
    "        self.catalogue_price = catalogue_price\n",
    "\n",
    "    def compute_tax(self):\n",
    "        tax_percentage = 0.05\n",
    "        if self.electric:\n",
    "            tax_percentage = 0.02\n",
    "        return tax_percentage * self.catalogue_price\n",
    "\n",
    "    def print(self):\n",
    "        print(f\"Brand: {self.brand}\")\n",
    "        print(f\"Electric: {self.electric}\")\n",
    "        print(f\"Payable tax: {self.compute_tax()}\")\n",
    "\n",
    "class Vehicle:\n",
    "    id: str\n",
    "    license_plate: str\n",
    "    info: VehicleInfo\n",
    "\n",
    "    def __init__(self, id, license_plate, info):\n",
    "        self.id = id\n",
    "        self.license_plate = license_plate\n",
    "        # info is a VehicleInfo instance\n",
    "        self.info = info\n",
    "        print('self.info is an instance of VehicleInfo? ', isinstance(self.info, VehicleInfo))\n",
    "\n",
    "    def print(self):\n",
    "        print(f\"Id: {self.id}\")\n",
    "        print(f\"License plate: {self.license_plate}\")\n",
    "        # info is a VehicleInfo instance and that is why we can call its print method\n",
    "        self.info.print()\n",
    "\n",
    "\n",
    "class VehicleRegistry:\n",
    "\n",
    "    def __init__(self):\n",
    "        self.vehicle_info = { }\n",
    "        # each of these will be a VehicleInfo instance stored in the self.vehicle_info dict\n",
    "        self.add_vehicle_info(\"Tesla Model 3\", True, 60000)\n",
    "        self.add_vehicle_info(\"Volkswagen ID3\", True, 35000)\n",
    "        self.add_vehicle_info(\"BMW 5\", False, 45000)\n",
    "        self.add_vehicle_info(\"Tesla Model Y\", True, 75000)\n",
    "\n",
    "    def add_vehicle_info(self, brand, electric, catalogue_price):\n",
    "        # VehicleInfo instance stored in the self.vehicle_info dict\n",
    "        self.vehicle_info[brand] = VehicleInfo(brand, electric, catalogue_price)\n",
    "\n",
    "    def generate_vehicle_id(self, length):\n",
    "        # called by self.create_vehicle\n",
    "        return ''.join(random.choices(string.ascii_uppercase, k=length))\n",
    "\n",
    "    def generate_vehicle_license(self, id):\n",
    "        # called by self.create_vehicle\n",
    "        return f\"{id[:2]}-{''.join(random.choices(string.digits, k=2))}-{''.join(random.choices(string.ascii_uppercase, k=2))}\"\n",
    "\n",
    "    def create_vehicle(self, brand):\n",
    "        id = self.generate_vehicle_id(12)\n",
    "        license_plate = self.generate_vehicle_license(id)\n",
    "        return Vehicle(id, license_plate, self.vehicle_info[brand])\n",
    "\n",
    "\n",
    "class Application:\n",
    "\n",
    "    def register_vehicle(self, brand: string):\n",
    "        # create a registry instance\n",
    "        registry = VehicleRegistry()\n",
    "\n",
    "        vehicle = registry.create_vehicle(brand)\n",
    "\n",
    "        # print out the vehicle information\n",
    "        vehicle.print()\n",
    "\n",
    "app = Application()\n",
    "app.register_vehicle(\"Volkswagen ID3\")"
   ]
  },
  {
   "source": [
    "1. Create instance of VehicleRegistry\n",
    "    * \\__init__ creates 4 key, value pairs where each value is an instance of VehicleBrand\n",
    "2. Call create_vehicle\n",
    "    * call self.generate_vechicle\n",
    "    * call self.generate_vechicle_license\n",
    "    * return an instance of Vehicle class\n",
    "        * vehicle_info is an instance of VehicleInfo class"
   ],
   "cell_type": "markdown",
   "metadata": {}
  },
  {
   "cell_type": "code",
   "execution_count": null,
   "metadata": {},
   "outputs": [],
   "source": []
  }
 ]
}